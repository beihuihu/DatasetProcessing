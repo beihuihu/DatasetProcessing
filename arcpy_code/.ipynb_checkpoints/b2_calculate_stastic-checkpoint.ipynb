{
 "cells": [
  {
   "cell_type": "code",
   "execution_count": null,
   "metadata": {},
   "outputs": [],
   "source": [
    "import arcpy\n",
    "from arcpy.sa import *\n",
    "import os\n",
    "import time\n",
    "arcpy.env.overwriteOutput = True"
   ]
  },
  {
   "cell_type": "code",
   "execution_count": null,
   "metadata": {},
   "outputs": [],
   "source": [
    "after_mask_gdb=r'J:\\lakemapping\\postprocess\\v9_240622\\3_polygon_after_rivermask.gdb'"
   ]
  },
  {
   "cell_type": "code",
   "execution_count": null,
   "metadata": {},
   "outputs": [],
   "source": [
    "output_dir = r'J:\\lakemapping\\postprocess\\v9_240622'\n",
    "if not os.path.exists(output_dir):\n",
    "    arcpy.CreateFileGDB_management(output_dir, \"0_summary_stastics.gdb\")\n",
    "after_mask_gdb=os.path.join(output_dir,f'3_polygon_after_rivermask.gdb')\n",
    "stastics_gdb=os.path.join(output_dir,f'0_summary_stastics.gdb')"
   ]
  },
  {
   "cell_type": "code",
   "execution_count": null,
   "metadata": {},
   "outputs": [],
   "source": [
    "lake_rmO=os.path.join(r'D:\\postprocess\\v240306\\1_other_polygons.gdb',f'{raw_prediction_fn}_rmO' ) "
   ]
  },
  {
   "cell_type": "code",
   "execution_count": null,
   "metadata": {},
   "outputs": [],
   "source": [
    "region_list=['af','eu','oc','island','greenland','sa_1','sa_2']\n",
    "for i in range(1,10):\n",
    "    region_list.append(f'as_{i}')\n",
    "for i in range(1,7):\n",
    "    region_list.append(f'na_{i}')\n",
    "print(region_list)"
   ]
  },
  {
   "cell_type": "code",
   "execution_count": null,
   "metadata": {},
   "outputs": [],
   "source": [
    "input_table_rmO_list=[]\n",
    "for region in region_list:\n",
    "    print(region)\n",
    "    raw_prediction_fn='lakes_'+region\n",
    "#     lake_rmO_lyr=raw_prediction_fn+'_rmO' \n",
    "#     lake_rmO=os.path.join(r'J:\\lakemapping\\postprocess\\v3_240306\\1_other_polygons.gdb',f'{raw_prediction_fn}_rmO' ) \n",
    "#     arcpy.MakeFeatureLayer_management(lake_rmO, lake_rmO_lyr)\n",
    "#     out_table=os.path.join(stastics_gdb,f'{raw_prediction_fn}_rmO_stastics' ) \n",
    "#     arcpy.analysis.Statistics(lake_rmO_lyr, out_table, [['area',\"sum\"]], ['iwR','iwG'])\n",
    "    out_table=os.path.join(stastics_gdb,f'{raw_prediction_fn}_rmO_stastics' ) \n",
    "    input_table_rmO_list.append(out_table)\n",
    "#     arcpy.analysis.Statistics(lake_rmO_lyr, out_table, [['area',\"sum\"]], ['iwR','iwG'])"
   ]
  },
  {
   "cell_type": "code",
   "execution_count": null,
   "metadata": {},
   "outputs": [],
   "source": [
    "input_table_afm_list=[]\n",
    "for region in region_list:\n",
    "    print(region)\n",
    "    raw_prediction_fn='lakes_'+region\n",
    "    out_table=os.path.join(stastics_gdb,f'{raw_prediction_fn}_afm_stastics' )\n",
    "    input_table_afm_list.append(out_table)\n",
    "#     result_afm=os.path.join(after_mask_gdb,raw_prediction_fn+'_afterMask')\n",
    "#     result_afm_lyr=region+'_afterMask'\n",
    "#     arcpy.MakeFeatureLayer_management(result_afm, result_afm_lyr)\n",
    "#     arcpy.analysis.Statistics(result_afm_lyr, out_table, [['area',\"sum\"]], ['iwR','iwG']) "
   ]
  },
  {
   "cell_type": "code",
   "execution_count": null,
   "metadata": {},
   "outputs": [],
   "source": [
    "region='sa_1'\n",
    "raw_prediction_fn='lakes_'+region\n",
    "result_afm=os.path.join(after_mask_gdb,raw_prediction_fn+'_afterMask')\n",
    "result_afm_lyr='lakes_'+region+'_afm'\n",
    "arcpy.MakeFeatureLayer_management(result_afm, result_afm_lyr)\n",
    "out_table=os.path.join(stastics_gdb,f'{raw_prediction_fn}_afm_stastics' )\n",
    "arcpy.analysis.Statistics(result_afm_lyr, out_table, [['area',\"sum\"]], ['iwR','iwG']) \n",
    "# lake_rmO_lyr=raw_prediction_fn+'_rmO' \n",
    "# lake_rmO=os.path.join(r'J:\\lakemapping\\postprocess\\v3_240306\\1_other_polygons.gdb',f'{raw_prediction_fn}_rmO' ) \n",
    "# arcpy.MakeFeatureLayer_management(lake_rmO, lake_rmO_lyr)\n",
    "# out_table=os.path.join(stastics_gdb,f'{raw_prediction_fn}_rmO_stastics' ) \n",
    "# arcpy.analysis.Statistics(lake_rmO_lyr, out_table, [['area',\"sum\"]], ['iwR','iwG'])"
   ]
  },
  {
   "cell_type": "code",
   "execution_count": null,
   "metadata": {},
   "outputs": [],
   "source": [
    "print(input_table_afm_list)"
   ]
  },
  {
   "cell_type": "code",
   "execution_count": null,
   "metadata": {},
   "outputs": [],
   "source": [
    "Output_Excel_File=r'J:\\lakemapping\\postprocess\\v9_240622\\sum_rmO_stastics.xls'\n",
    "arcpy.conversion.TableToExcel(input_table_rmO_list, Output_Excel_File)"
   ]
  },
  {
   "cell_type": "code",
   "execution_count": null,
   "metadata": {},
   "outputs": [],
   "source": [
    "Output_Excel_File=r'J:\\lakemapping\\postprocess\\v9_240622\\sum_afm_stastics.xls'\n",
    "arcpy.conversion.TableToExcel(input_table_afm_list, Output_Excel_File)"
   ]
  },
  {
   "cell_type": "code",
   "execution_count": null,
   "metadata": {},
   "outputs": [],
   "source": [
    "## 按七大洲划分的数据"
   ]
  },
  {
   "cell_type": "code",
   "execution_count": null,
   "metadata": {},
   "outputs": [],
   "source": [
    "for region in region_list:\n",
    "    print(region)\n",
    "    raw_prediction_fn='lakes_'+region\n",
    "#     lake_rmO_lyr=raw_prediction_fn+'_rmO' \n",
    "#     lake_rmO=os.path.join(r'J:\\lakemapping\\postprocess\\v3_240306\\1_other_polygons.gdb',f'{raw_prediction_fn}_rmO' ) \n",
    "#     arcpy.MakeFeatureLayer_management(lake_rmO, lake_rmO_lyr)\n",
    "#     out_table=os.path.join(stastics_gdb,f'{raw_prediction_fn}_rmO_stastics' ) \n",
    "#     arcpy.analysis.Statistics(lake_rmO_lyr, out_table, [['area',\"sum\"]], ['iwR','iwG'])\n",
    "    out_table=os.path.join(stastics_gdb,f'{raw_prediction_fn}_rmO_stastics' ) \n",
    "    input_table_rmO_list.append(out_table)\n",
    "#     arcpy.analysis.Statistics(lake_rmO_lyr, out_table, [['area',\"sum\"]], ['iwR','iwG'])"
   ]
  },
  {
   "cell_type": "code",
   "execution_count": null,
   "metadata": {},
   "outputs": [],
   "source": [
    "seven_continents=['Asia','Africa','Europe','Oceania_Antarctica','North_America','South_America']\n",
    "\n",
    "a_dataset=os.path.join(output_dir,'a_prediction_after_mask.gdb')\n",
    "b_dataset=os.path.join(output_dir,'b_prediction_merge_with_BL.gdb')\n",
    "c_dataset=os.path.join(output_dir,'c_prediction_merge_with_BL_BG.gdb')\n",
    "\n",
    "b1p1_merge_with_a3=os.path.join(b_dataset,'b1p1_merge_with_a3')\n",
    "b1p1_merge_with_a3_lyr=f'b1p1_merge_with_a3'\n",
    "arcpy.MakeFeatureLayer_management(b1p1_merge_with_a3,b1p1_merge_with_a3_lyr)"
   ]
  },
  {
   "cell_type": "code",
   "execution_count": null,
   "metadata": {},
   "outputs": [],
   "source": [
    "for i in range(0,6):\n",
    "    continent=seven_continents[i]\n",
    "    a_lakes=os.path.join(a_dataset,f'a{i+1}_{continent}_prediction_after_mask')\n",
    "    a_lyr=f'a{i+1}_{continent}'\n",
    "    arcpy.MakeFeatureLayer_management(a_lakes,a_lyr)\n",
    "    a_out_table=os.path.join(stastics_gdb,f'a{i+1}_{continent}_stastics' ) \n",
    "    arcpy.analysis.Statistics(a_lyr, a_out_table, [['area',\"sum\"]], ['iwBL'])\n",
    "\n",
    "    b_lakes=os.path.join(b_dataset,f'b{i+1}_{continent}_prediction_afm_merge_with_big_lake')\n",
    "    b_lyr=f'b{i+1}_{continent}'\n",
    "    arcpy.MakeFeatureLayer_management(b_lakes,b_lyr)\n",
    "    b_out_table=os.path.join(stastics_gdb,f'b{i+1}_{continent}_stastics' ) \n",
    "    arcpy.analysis.Statistics(b_lyr, b_out_table, [['area',\"sum\"]], ['iwBG'])"
   ]
  }
 ],
 "metadata": {
  "kernelspec": {
   "display_name": "ArcGISPro",
   "language": "Python",
   "name": "python3"
  },
  "language_info": {
   "file_extension": ".py",
   "name": "python",
   "version": "3"
  }
 },
 "nbformat": 4,
 "nbformat_minor": 2
}
