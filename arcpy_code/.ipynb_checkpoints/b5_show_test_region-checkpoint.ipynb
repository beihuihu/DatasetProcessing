{
 "cells": [
  {
   "cell_type": "code",
   "execution_count": 35,
   "metadata": {},
   "outputs": [
    {
     "name": "stdout",
     "output_type": "stream",
     "text": [
      "ndwi_10m_type0_10031.tif\n",
      "ndwi_10m_type0_10792.tif\n",
      "ndwi_10m_type0_10892.tif\n",
      "ndwi_10m_type0_12351.tif\n",
      "ndwi_10m_type0_12666.tif\n",
      "ndwi_10m_type0_13177.tif\n"
     ]
    }
   ],
   "source": [
    "import arcpy, sys\n",
    "import os\n",
    "\n",
    "# 设置工作环境和输入文件夹路径\n",
    "input_folder = r'D:\\lakemapping\\10_paper_writting\\figure\\sample\\sampleV8_test_region'\n",
    "output_folder = r'D:\\lakemapping\\10_paper_writting\\figure\\sample\\sampleV8_test_region_colormap'\n",
    "\n",
    "# 设置色带范围和颜色\n",
    "min_value = -100\n",
    "max_value = 100\n",
    "\n",
    "# 获取文件夹中的所有tif影像文件\n",
    "for root, dirs, files in os.walk(input_folder):\n",
    "    for file in files[:25]:\n",
    "        if file.endswith('.tif'):\n",
    "            print(file)\n",
    "            raster_path=os.path.join(input_folder,file)\n",
    "            raster_layer = arcpy.management.MakeRasterLayer(raster_path, file)\n",
    "            layer=raster_layer.getOutput(0)\n",
    "            symbology = layer.symbology\n",
    "            symbology.updateColorizer('RasterUniqueValueColorizer')\n",
    "            arcpy.management.BuildRasterAttributeTable(layer)\n",
    "            symbology.colorizer.field = 'Value'\n",
    "            for grp in symbology.colorizer.groups:\n",
    "                for itm in grp.items:\n",
    "                    label=int(itm.label)\n",
    "                    if label>=0:\n",
    "                        itm.color = {'RGB': [255-label*2.55, 255-label*2.55, 255, 100]}\n",
    "                    if label <0:\n",
    "                        itm.color = {'RGB': [255, 255+label*2.55, 255+label*2.55, 100]}\n",
    "        # # #         应用符号化到栅格图层\n",
    "            layer.symbology=symbology\n",
    "#             print(symbology)\n",
    "        #         arcpy.management.ApplySymbologyFromLayer(raster_layer, symbology)\n"
   ]
  },
  {
   "cell_type": "code",
   "execution_count": 7,
   "metadata": {},
   "outputs": [],
   "source": [
    "layer.symbology=symbology"
   ]
  },
  {
   "cell_type": "code",
   "execution_count": null,
   "metadata": {},
   "outputs": [],
   "source": [
    "merge_list=[]\n",
    "sample_result=os.path.join(temp_gdb,'Hu_lakes')\n",
    "for i in range(0,8):#[1,3,4,5]:\n",
    "    continent=eight_continents[i]\n",
    "    c_lake_afm_mw_GP=os.path.join(merge_gdb,f'c{i+1}_{continent}_lakes')\n",
    "    c_lake_afm_mw_GP_lyr=f'c{i+1}_{continent}_lakes'\n",
    "    arcpy.MakeFeatureLayer_management(c_lake_afm_mw_GP,c_lake_afm_mw_GP_lyr)\n",
    "    selectByLocation(c_lake_afm_mw_GP_lyr, 'INTERSECT', 'different_regions','NEW_SELECTION')\n",
    "    merge_list.append(c_lake_afm_mw_GP_lyr)\n",
    "\n",
    "arcpy.Merge_management(merge_list,sample_result)"
   ]
  }
 ],
 "metadata": {
  "kernelspec": {
   "display_name": "ArcGISPro",
   "language": "Python",
   "name": "python3"
  },
  "language_info": {
   "file_extension": ".py",
   "name": "python",
   "version": "3"
  }
 },
 "nbformat": 4,
 "nbformat_minor": 2
}
