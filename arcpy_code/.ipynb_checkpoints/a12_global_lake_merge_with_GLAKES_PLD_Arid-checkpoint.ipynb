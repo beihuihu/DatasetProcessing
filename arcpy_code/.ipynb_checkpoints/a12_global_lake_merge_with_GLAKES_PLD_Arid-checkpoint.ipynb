{
 "cells": [
  {
   "cell_type": "code",
   "execution_count": 21,
   "metadata": {},
   "outputs": [],
   "source": [
    "import arcpy\n",
    "from arcpy.sa import *\n",
    "import os\n",
    "import time\n",
    "arcpy.env.overwriteOutput = True"
   ]
  },
  {
   "cell_type": "code",
   "execution_count": null,
   "metadata": {},
   "outputs": [],
   "source": [
    "# load input features and make layer\n",
    "version='v15_241128'\n",
    "sub_v=''\n",
    "stastic_v=f'{version}{sub_v}'\n",
    "# stastic_v=f'{version}'\n",
    "output_dir = os.path.join(r'J:\\lakemapping\\postprocess',version)\n",
    "\n",
    "auxiliary_dataset_gdb=r'D:\\postprocess\\v240220\\auxiliary_dataset.gdb'\n",
    "stastics_gdb=os.path.join(output_dir,f'0_summary_stastics{sub_v}.gdb')\n",
    "polygon_iwR_gdb=os.path.join(output_dir,'2_polygon_iw_River.gdb')\n",
    "after_mask_gdb=os.path.join(output_dir,f'3_polygon_after_rivermask.gdb')\n",
    "mwBL_gdb=os.path.join(output_dir,f'4_polygon_afm_mergeWith_BigLake.gdb')\n",
    "merge_data_gdb=os.path.join(output_dir,f'4_merge_process_v3.gdb')\n",
    "merge_gdb=os.path.join(output_dir,f'5_polygon_afm_mergeWith_GLAKES_PLD.gdb')\n",
    "merge_GLAKES_gdb=os.path.join(output_dir,f'5_polygon_afm_mergeWith_GLAKES.gdb')\n",
    "point_gdb=os.path.join(output_dir,f'6_point{sub_v}.gdb')\n",
    "excel_dir=os.path.join(output_dir,f'stastics_excel{sub_v}')\n",
    "new_PLD_gdb=r'J:\\lakemapping\\PLD\\PLD.gdb'\n",
    "temp_gdb=os.path.join(output_dir,f'7_correct_temp_file{sub_v}.gdb')#\n",
    "if not os.path.exists(stastics_gdb):\n",
    "    arcpy.CreateFileGDB_management(output_dir,f'0_summary_stastics{sub_v}.gdb')\n",
    "if not os.path.exists(point_gdb):\n",
    "    arcpy.CreateFileGDB_management(output_dir,f'6_point{sub_v}.gdb')\n",
    "if not os.path.exists(merge_gdb):\n",
    "    arcpy.CreateFileGDB_management(output_dir,f'5_polygon_afm_mergeWith_GLAKES_PLD{sub_v}.gdb')\n",
    "if not os.path.exists(temp_gdb):\n",
    "    arcpy.CreateFileGDB_management(output_dir,f'7_correct_temp_file{sub_v}.gdb')\n",
    "if not os.path.exists(merge_GLAKES_gdb):\n",
    "    arcpy.CreateFileGDB_management(output_dir,f'5_polygon_afm_mergeWith_GLAKES.gdb')"
   ]
  },
  {
   "cell_type": "code",
   "execution_count": 23,
   "metadata": {},
   "outputs": [
    {
     "name": "stdout",
     "output_type": "stream",
     "text": [
      "v15_241128\n"
     ]
    }
   ],
   "source": [
    "print(stastic_v)"
   ]
  },
  {
   "cell_type": "code",
   "execution_count": 24,
   "metadata": {},
   "outputs": [],
   "source": [
    "PLD_Count_Area_SJ_lyr='Global_grid_shp_1degree_PLD_Count_Area'"
   ]
  },
  {
   "cell_type": "code",
   "execution_count": 25,
   "metadata": {},
   "outputs": [],
   "source": [
    "seven_continents=['Asia','Africa','Europe','Oceania_Anta','North_America','South_America']\n",
    "eight_continents=['Asia','Siberia','Africa','Europe','Oceania_Anta','North_America','Arctic','South_America']"
   ]
  },
  {
   "cell_type": "code",
   "execution_count": null,
   "metadata": {},
   "outputs": [],
   "source": [
    "Arid_region_lyr='Global_AI_Reclassify_Clip_simple'\n",
    "PLD_list=['af','eu','si','as','au','sa','na','ar','gr']"
   ]
  },
  {
   "cell_type": "code",
   "execution_count": null,
   "metadata": {},
   "outputs": [],
   "source": [
    "def selectByLocation(inputFeature,overlapType,selectionFeature,selectionType='NEW_SELECTION'):\n",
    "    arcpy.SelectLayerByLocation_management(inputFeature,overlapType,selectionFeature,selection_type=selectionType)\n",
    "    \n",
    "def selectByAttribute(inputFeature,selectionType='NEW_SELECTION',code=''):\n",
    "    arcpy.management.SelectLayerByAttribute(inputFeature,selectionType,code)\n",
    "    \n",
    "def calculateField(inputFeature,field,code):\n",
    "    arcpy.CalculateField_management(inputFeature, field,code)\n",
    "\n",
    "def cal_continent(lyr):\n",
    "    arcpy.AddField_management(lyr, 'Continent', \"Text\")\n",
    "    for i in range(0,6):\n",
    "        continent=seven_continents[i]\n",
    "        selectByAttribute(continent_lyr,'NEW_SELECTION',f\"Continent = '{continent}'\")\n",
    "        selectByAttribute(lyr,'NEW_SELECTION',\"Continent IS NULL\")\n",
    "        selectByLocation(lyr,'HAVE_THEIR_CENTER_IN',continent_lyr,'SUBSET_SELECTION')\n",
    "        calculateField(lyr,'Continent',f\"'{continent}'\")\n",
    "    selectByAttribute(lyr,'NEW_SELECTION',\"Continent = 'Asia'\")\n",
    "    selectByLocation(lyr,'HAVE_THEIR_CENTER_IN','si','SUBSET_SELECTION')\n",
    "    arcpy.CalculateField_management(lyr, \"continent\",\"'Siberia'\")\n",
    "    selectByLocation(lyr,'HAVE_THEIR_CENTER_IN','ar','NEW_SELECTION')\n",
    "    arcpy.CalculateField_management(lyr, \"Continent\",\"'Arctic'\")\n",
    "        \n",
    "def add_Res_flag(inputFeature):\n",
    "    selectByAttribute(inputFeature,'NEW_SELECTION', 'flag IS NULL OR \"flag\" <= 1 ')\n",
    "    selectByLocation(inputFeature,'INTERSECT',osm_reservoir,'SUBSET_SELECTION')\n",
    "    arcpy.CalculateField_management(inputFeature, 'flag',  3)\n",
    "\n",
    "    selectByAttribute(inputFeature,'NEW_SELECTION', 'flag IS NULL OR \"flag\" <= 1 ')\n",
    "    selectByLocation(inputFeature,'INTERSECT',GeoDAR,'SUBSET_SELECTION')\n",
    "    arcpy.CalculateField_management(inputFeature, 'flag',  4)"
   ]
  },
  {
   "cell_type": "code",
   "execution_count": null,
   "metadata": {},
   "outputs": [
    {
     "data": {
      "text/html": [
       "<div class='gpresult'><h2>Messages</h2><div id='messages' data-messages='[\"Start Time: 2024年12月3日 8:29:57\",\"Succeeded at 2024年12月3日 8:29:57 (Elapsed Time: 0.01 seconds)\"]' data-show='true'><div id = 'default' /></div></div>"
      ],
      "text/plain": [
       "<Result 'GeoDAR'>"
      ]
     },
     "execution_count": 9,
     "metadata": {},
     "output_type": "execute_result"
    }
   ],
   "source": [
    "osm_reservoir=os.path.join(auxiliary_dataset_gdb,'osm_natural_water_reservoir')\n",
    "arcpy.MakeFeatureLayer_management(osm_reservoir,'osm_reservoir')\n",
    "\n",
    "GeoDAR=r'D:\\lakemapping\\0_auxiliary_data\\GeoDAR\\GeoDAR_v10_v11\\GeoDAR_v11_reservoirs.shp'\n",
    "arcpy.MakeFeatureLayer_management(GeoDAR,'GeoDAR')"
   ]
  },
  {
   "cell_type": "code",
   "execution_count": null,
   "metadata": {},
   "outputs": [
    {
     "data": {
      "text/html": [
       "<div class='gpresult'><h2>Messages</h2><div id='messages' data-messages='[\"Start Time: 2024年12月6日 11:05:28\",\"Succeeded at 2024年12月6日 11:05:28 (Elapsed Time: 0.03 seconds)\"]' data-show='true'><div id = 'default' /></div></div>"
      ],
      "text/plain": [
       "<Result 'GLAKES_Res'>"
      ]
     },
     "execution_count": 22,
     "metadata": {},
     "output_type": "execute_result"
    }
   ],
   "source": [
    "GLAKES_Res=os.path.join(auxiliary_dataset_gdb,'GLAKES_Res')\n",
    "arcpy.MakeFeatureLayer_management(GLAKES_Res,'GLAKES_Res')\n",
    "\n",
    "# GLAKES_natural_lake=os.path.join(auxiliary_dataset_gdb,'GLAKES_gte1_natural_lake')\n",
    "# arcpy.MakeFeatureLayer_management(GLAKES_natural_lake,'GLAKES_natural_lake')"
   ]
  },
  {
   "cell_type": "code",
   "execution_count": null,
   "metadata": {},
   "outputs": [
    {
     "data": {
      "text/html": [
       "<div class='gpresult'><h2>Messages</h2><div id='messages' data-messages='[\"Start Time: 2024年12月10日 22:09:00\",\"Succeeded at 2024年12月10日 22:09:00 (Elapsed Time: 0.03 seconds)\"]' data-show='true'><div id = 'default' /></div></div>"
      ],
      "text/plain": [
       "<Result 'si'>"
      ]
     },
     "execution_count": 28,
     "metadata": {},
     "output_type": "execute_result"
    }
   ],
   "source": [
    "continent=r'D:\\lakemapping\\0_auxiliary_data\\World_Continents\\World_Continents.shp'\n",
    "continent_lyr='continent'\n",
    "arcpy.MakeFeatureLayer_management(continent,continent_lyr)\n",
    "\n",
    "ar=os.path.join(auxiliary_dataset_gdb,'ar')\n",
    "arcpy.MakeFeatureLayer_management(ar,'ar')\n",
    "\n",
    "ar=os.path.join(auxiliary_dataset_gdb,'si')\n",
    "arcpy.MakeFeatureLayer_management(ar,'si')"
   ]
  },
  {
   "cell_type": "markdown",
   "metadata": {
    "heading_collapsed": true
   },
   "source": [
    "## 1 处理GLAKES"
   ]
  },
  {
   "cell_type": "code",
   "execution_count": null,
   "metadata": {
    "hidden": true
   },
   "outputs": [
    {
     "data": {
      "text/html": [
       "<div class='gpresult'><h2>Messages</h2><div id='messages' data-messages='[\"Start Time: 2024年12月5日 10:19:51\",\"Succeeded at 2024年12月5日 10:19:51 (Elapsed Time: 0.05 seconds)\"]' data-show='true'><div id = 'default' /></div></div>"
      ],
      "text/plain": [
       "<Result 'GLAKES'>"
      ]
     },
     "execution_count": 14,
     "metadata": {},
     "output_type": "execute_result"
    }
   ],
   "source": [
    "GLAKES=r'D:\\lakemapping\\0_auxiliary_data\\GLAKES\\GLAKES.gdb\\GLAKES'\n",
    "GLAKES_new_gdb=r'D:\\lakemapping\\0_auxiliary_data\\GLAKES\\GLAKES_after_30p_land_mask.gdb'\n",
    "GLAKES_iwSHIFT=os.path.join(GLAKES_new_gdb,'au1_GLAKES_iwSHIFT')\n",
    "GLAKES_niwSHIFT=os.path.join(GLAKES_new_gdb,'au1_GLAKES_niwSHIFT')\n",
    "\n",
    "GLAKES_lyr='GLAKES'\n",
    "GLAKES_iwSHIFT_lyr='au1_GLAKES_iwSHIFT'\n",
    "GLAKES_niwSHIFT_lyr='au1_GLAKES_niwSHIFT'\n",
    "GLAKES_land_mask_lyr='au1_GLAKES_land_mask_iwSHIFT'\n",
    "GLAKES_iwSHIFT_clip=os.path.join(GLAKES_new_gdb,'GLAKES_iwSHIFT_clip')\n",
    "GLAKES_iwSHIFT_clip_sp=os.path.join(GLAKES_new_gdb,'GLAKES_iwSHIFT_clip_sp')\n",
    "GLAKES_iwSHIFT_clip_sp_lyr='GLAKES_iwSHIFT_clip_sp'\n",
    "GLAKES_iwSHIFT_after_mask_gt3ha=os.path.join(GLAKES_new_gdb,'au2_GLAKES_iwSHIFT_after_mask_gt3ha')\n",
    "GLAKES_iwSHIFT_after_mask_gt3ha_lyr='GLAKES_iwSHIFT_after_mask_gt3ha'\n",
    "GLAKES_iwSHIFT_after_mask_gt3ha_keep_arid=os.path.join(GLAKES_new_gdb,'au2_GLAKES_iwSHIFT_after_mask_gt3ha_keep_arid')"
   ]
  },
  {
   "cell_type": "code",
   "execution_count": null,
   "metadata": {
    "hidden": true
   },
   "outputs": [],
   "source": [
    "arcpy.MakeFeatureLayer_management(GLAKES,GLAKES_lyr)"
   ]
  },
  {
   "cell_type": "markdown",
   "metadata": {
    "hidden": true
   },
   "source": [
    "### 1.1 选择shift内的，mask"
   ]
  },
  {
   "cell_type": "code",
   "execution_count": null,
   "metadata": {
    "hidden": true
   },
   "outputs": [
    {
     "data": {
      "text/html": [
       "<div class='gpresult'><h2>Messages</h2><div id='messages' data-messages='[\"Start Time: 2024年12月5日 14:28:51\",\"Succeeded at 2024年12月5日 14:30:43 (Elapsed Time: 1 minutes 52 seconds)\"]' data-show='true'><div id = 'default' /></div></div>"
      ],
      "text/plain": [
       "<Result 'J:\\\\lakemapping\\\\postprocess\\\\v15_241128\\\\4_merge_process_v2.gdb\\\\au1_GLAKES_niwSHIFT'>"
      ]
     },
     "execution_count": 16,
     "metadata": {},
     "output_type": "execute_result"
    }
   ],
   "source": [
    "selectByLocation(GLAKES_lyr,'INTERSECT','SHIFT','NEW_SELECTION')\n",
    "arcpy.conversion.ExportFeatures(GLAKES_lyr,GLAKES_iwSHIFT)\n",
    "selectByAttribute(GLAKES_lyr,'SWITCH_SELECTION','')\n",
    "selectByLocation(GLAKES_lyr,'INTERSECT','SHIFT','SWITCH_SELECTION')\n",
    "arcpy.conversion.ExportFeatures(GLAKES_lyr,GLAKES_niwSHIFT)"
   ]
  },
  {
   "cell_type": "code",
   "execution_count": null,
   "metadata": {
    "hidden": true
   },
   "outputs": [],
   "source": [
    "arcpy.MakeFeatureLayer_management(GLAKES_iwSHIFT,GLAKES_iwSHIFT_lyr)\n",
    "arcpy.AddField_management(GLAKES_iwSHIFT_lyr,'Aird_Region','Short')\n",
    "selectByLocation(GLAKES_iwSHIFT_lyr, 'INTERSECT', Arid_region_lyr,'SUBSET_SELECTION')\n",
    "calculateField(GLAKES_iwSHIFT_lyr, \"Aird_Region\",2)"
   ]
  },
  {
   "cell_type": "code",
   "execution_count": null,
   "metadata": {
    "hidden": true
   },
   "outputs": [],
   "source": [
    "arcpy.analysis.Clip(GLAKES_iwSHIFT_lyr, GLAKES_land_mask_lyr, GLAKES_iwSHIFT_clip)\n",
    "arcpy.management.MultipartToSinglepart(GLAKES_iwSHIFT_clip,GLAKES_iwSHIFT_clip_sp)\n",
    "arcpy.MakeFeatureLayer_management(GLAKES_iwSHIFT_clip_sp,GLAKES_iwSHIFT_clip_sp_lyr)"
   ]
  },
  {
   "cell_type": "code",
   "execution_count": null,
   "metadata": {
    "hidden": true
   },
   "outputs": [],
   "source": [
    "arcpy.AddField_management(GLAKES_iwSHIFT_clip_sp_lyr,'Area_bound','Double')\n",
    "arcpy.CalculateField_management(GLAKES_iwSHIFT_clip_sp_lyr, \"Area_bound\",  \"!shape.geodesicArea@SQUAREKILOMETERS!\")\n",
    "selectByAttribute(GLAKES_iwSHIFT_clip_sp_lyr,'NEW_SELECTION',f\"Area_bound>0.03\")\n",
    "arcpy.conversion.ExportFeatures(GLAKES_iwSHIFT_clip_sp_lyr,GLAKES_iwSHIFT_after_mask_gt3ha)\n",
    "arcpy.MakeFeatureLayer_management(GLAKES_iwSHIFT_after_mask_gt3ha,GLAKES_iwSHIFT_after_mask_gt3ha_lyr)"
   ]
  },
  {
   "cell_type": "code",
   "execution_count": null,
   "metadata": {
    "hidden": true
   },
   "outputs": [],
   "source": [
    "selectByAttribute(GLAKES_iwSHIFT_lyr,'NEW_SELECTION','Aird_Region=2')\n",
    "selectByAttribute(GLAKES_iwSHIFT_after_mask_gt3ha_lyr,'NEW_SELECTION','Aird_Region IS NULL')\n",
    "arcpy.Merge_management([GLAKES_iwSHIFT_lyr,GLAKES_iwSHIFT_after_mask_gt3ha_lyr],GLAKES_iwSHIFT_after_mask_gt3ha_keep_arid)"
   ]
  },
  {
   "cell_type": "code",
   "execution_count": null,
   "metadata": {
    "hidden": true
   },
   "outputs": [
    {
     "name": "stdout",
     "output_type": "stream",
     "text": [
      "Asia\n",
      "Siberia\n",
      "Africa\n",
      "Europe\n",
      "Oceania_Anta\n",
      "North_America\n",
      "Arctic\n",
      "South_America\n"
     ]
    }
   ],
   "source": [
    "for i in range(0,8):\n",
    "    continent=eight_continents[i]\n",
    "    print(continent)\n",
    "    b_lake_afm_merge_with_BL_lyr=f'b{i+1}_{continent}_lake_afm_merge_with_BL'\n",
    "    b_lake_afm_merge_with_BL=os.path.join(mwBL_gdb,f'b{i+1}_{continent}_polygon_afm_mwBL')\n",
    "    arcpy.MakeFeatureLayer_management(b_lake_afm_merge_with_BL, b_lake_afm_merge_with_BL_lyr)\n",
    "    selectByAttribute(b_lake_afm_merge_with_BL_lyr,'NEW_SELECTION','area IS NULL')\n",
    "#     out_table=os.path.join(stastics_gdb,f'{stastic_v}_b{i+1}_{continent}_lakes_merge_with_BL_stastics')\n",
    "#     arcpy.analysis.Statistics(b_lake_afm_merge_with_BL_lyr, out_table, [['lake_area',\"sum\"]], ['mwGLAKES_PLD']) "
   ]
  },
  {
   "cell_type": "code",
   "execution_count": null,
   "metadata": {
    "hidden": true
   },
   "outputs": [
    {
     "data": {
      "text/html": [
       "<div class='gpresult'><h2>Messages</h2><div id='messages' data-messages='[\"Start Time: 2024年12月3日 11:52:40\",\"Succeeded at 2024年12月3日 11:52:46 (Elapsed Time: 6.33 seconds)\"]' data-show='true'><div id = 'default' /></div></div>"
      ],
      "text/plain": [
       "<Result 'J:\\\\lakemapping\\\\postprocess\\\\v15_241128\\\\stastics_excel\\\\v15_241128_sum_lakes_afm_mwBL_stastics.xls'>"
      ]
     },
     "execution_count": 28,
     "metadata": {},
     "output_type": "execute_result"
    }
   ],
   "source": [
    "input_table_b_list=[]\n",
    "for i in range(0,8):\n",
    "    continent=eight_continents[i]\n",
    "    out_table=os.path.join(stastics_gdb,f'{stastic_v}_b{i+1}_{continent}_lakes_merge_with_BL_stastics')\n",
    "    input_table_b_list.append(out_table)\n",
    "file_name=f'{stastic_v}_b_sum_lakes_afm_mwBL_stastics.xls'\n",
    "Output_Excel_File=os.path.join(excel_dir,file_name)\n",
    "arcpy.conversion.TableToExcel(input_table_b_list, Output_Excel_File)"
   ]
  },
  {
   "cell_type": "markdown",
   "metadata": {
    "heading_collapsed": true
   },
   "source": [
    "## 3 和PLD,GLAKES融合"
   ]
  },
  {
   "cell_type": "code",
   "execution_count": null,
   "metadata": {
    "hidden": true
   },
   "outputs": [
    {
     "data": {
      "text/html": [
       "<div class='gpresult'><h2>Messages</h2><div id='messages' data-messages='[\"Start Time: 2024年12月3日 9:54:13\",\"Succeeded at 2024年12月3日 10:04:29 (Elapsed Time: 10 minutes 16 seconds)\"]' data-show='true'><div id = 'default' /></div></div>"
      ],
      "text/plain": [
       "<Result 'J:\\\\lakemapping\\\\postprocess\\\\v15_241128\\\\4_merge_process.gdb\\\\b_for_merge_point'>"
      ]
     },
     "execution_count": 24,
     "metadata": {},
     "output_type": "execute_result"
    }
   ],
   "source": [
    "merge_list=[]\n",
    "merge_dir=r'J:\\lakemapping\\postprocess\\v15_241128\\4_merge_process.gdb\\b_for_merge'\n",
    "merge_dir_point=r'J:\\lakemapping\\postprocess\\v15_241128\\4_merge_process.gdb\\b_for_merge_point'\n",
    "start=time.time()\n",
    "for i in range(0,8):\n",
    "    continent=eight_continents[i]\n",
    "    b_lake_afm_merge_with_BL=os.path.join(mwBL_gdb,f'b{i+1}_{continent}_polygon_afm_mwBL')\n",
    "    b_lake_afm_merge_with_BL_lyr=f'b{i+1}_{continent}_lake_afm_merge_with_BL'\n",
    "    arcpy.MakeFeatureLayer_management(b_lake_afm_merge_with_BL, b_lake_afm_merge_with_BL_lyr)\n",
    "    arcpy.AddField_management(b_lake_afm_merge_with_BL_lyr,'mwGLAKES_PLD','Short')\n",
    "    selectByLocation(b_lake_afm_merge_with_BL_lyr, 'INTERSECT', 'GLAKES_for_merge','NEW_SELECTION')\n",
    "    selectByLocation(b_lake_afm_merge_with_BL_lyr, 'INTERSECT', 'PLD_Arid','ADD_TO_SELECTION')\n",
    "    arcpy.CalculateField_management(b_lake_afm_merge_with_BL_lyr,'mwGLAKES_PLD',1)\n",
    "    # selectByAttribute(b_lake_afm_merge_with_BL_lyr,'NEW_SELECTION','mwGLAKES_PLD=1')\n",
    "    merge_list.append(b_lake_afm_merge_with_BL_lyr)\n",
    "arcpy.Merge_management(merge_list,merge_dir)\n",
    "arcpy.management.FeatureToPoint(merge_dir,merge_dir_point,'INSIDE')"
   ]
  },
  {
   "cell_type": "code",
   "execution_count": null,
   "metadata": {
    "hidden": true
   },
   "outputs": [],
   "source": [
    "# for i in range(3,8):#[1,3,4,5]:\n",
    "#     if i ==1:\n",
    "#         selectByAttribute('three_dataset_merged','NEW_SELECTION',\"Continent = 'Asia'\")\n",
    "#         selectByLocation('three_dataset_merged','HAVE_THEIR_CENTER_IN','si','SUBSET_SELECTION')\n",
    "#         arcpy.CalculateField_management('three_dataset_merged_raw', \"continent\",\"'Siberia'\")\n",
    "#     elif i==6:\n",
    "#         selectByLocation('three_dataset_merged','HAVE_THEIR_CENTER_IN','ar','NEW_SELECTION')\n",
    "#         arcpy.CalculateField_management('three_dataset_merged', \"Continent\",\"'Arctic'\")\n",
    "#     else:\n",
    "#         continent=eight_continents[i]\n",
    "#         print(continent)\n",
    "#         selectByAttribute(continent_lyr,'NEW_SELECTION',f\"Continent = '{continent}'\")\n",
    "#         selectByAttribute('three_dataset_merged','NEW_SELECTION',\"Continent IS NULL\")\n",
    "#         selectByLocation('three_dataset_merged','HAVE_THEIR_CENTER_IN',continent_lyr,'SUBSET_SELECTION')\n",
    "#         calculateField('three_dataset_merged','Continent',f\"'{continent}'\")"
   ]
  },
  {
   "cell_type": "code",
   "execution_count": null,
   "metadata": {
    "hidden": true
   },
   "outputs": [
    {
     "name": "stdout",
     "output_type": "stream",
     "text": [
      "af\n",
      "eu\n",
      "si\n",
      "as\n",
      "au\n",
      "sa\n",
      "na\n",
      "ar\n",
      "gr\n"
     ]
    }
   ],
   "source": [
    "# merge_list=[]\n",
    "for region in PLD_list:#[1,3,4,5]:\n",
    "    print(region)\n",
    "    PLD_region=os.path.join(new_PLD_gdb,f'PLD_{region}')\n",
    "    PLD_region_lyr=f'PLD_{region}'\n",
    "#     arcpy.MakeFeatureLayer_management(PLD_region,PLD_region_lyr)\n",
    "#     arcpy.AddField_management(PLD_region_lyr,'iwSHIFT','Short')\n",
    "#     selectByLocation(PLD_region_lyr,'INTERSECT','SHIFT')\n",
    "#     arcpy.CalculateField_management(PLD_region_lyr,'iwSHIFT',1)\n",
    "#     arcpy.AddField_management(PLD_region_lyr,'Arid_flag','Short')\n",
    "#     selectByLocation(PLD_region_lyr,'INTERSECT','Global_AI_Reclassify_Clip_simple')\n",
    "#     arcpy.CalculateField_management(PLD_region_lyr,'Arid_flag',1)\n",
    "    selectByAttribute(PLD_region_lyr,'NEW_SELECTION','Arid_flag=1')\n",
    "#     merge_list.append(PLD_region_lyr)"
   ]
  },
  {
   "cell_type": "code",
   "execution_count": null,
   "metadata": {
    "hidden": true
   },
   "outputs": [
    {
     "data": {
      "text/html": [
       "<div class='gpresult'><h2>Messages</h2><div id='messages' data-messages='[\"Start Time: 2024年12月3日 20:30:03\",\"Succeeded at 2024年12月3日 20:30:57 (Elapsed Time: 54.82 seconds)\"]' data-show='true'><div id = 'default' /></div></div>"
      ],
      "text/plain": [
       "<Result 'J:\\\\lakemapping\\\\postprocess\\\\v15_241128\\\\4_merge_process.gdb\\\\PLD_iwSHIFT_Arid'>"
      ]
     },
     "execution_count": 44,
     "metadata": {},
     "output_type": "execute_result"
    }
   ],
   "source": [
    "PLD_Arid=os.path.join(merge_data_gdb,'PLD_Arid')\n",
    "arcpy.Merge_management(merge_list,PLD_Arid)"
   ]
  },
  {
   "cell_type": "code",
   "execution_count": null,
   "metadata": {
    "hidden": true
   },
   "outputs": [],
   "source": [
    "three_dataset_merge=os.path.join(merge_data_gdb,'three_dataset_merge')\n",
    "three_dataset_merge_lyr=f'three_dataset_merge'\n",
    "three_dataset_dissolve=os.path.join(merge_data_gdb,'three_dataset_dissolve')\n",
    "three_dataset_dissolve_lyr=f'three_dataset_dissolve'"
   ]
  },
  {
   "cell_type": "code",
   "execution_count": null,
   "metadata": {
    "hidden": true
   },
   "outputs": [
    {
     "data": {
      "text/html": [
       "<div class='gpresult'><h2>Messages</h2><div id='messages' data-messages='[\"Start Time: 2024年12月3日 22:43:45\",\"Succeeded at 2024年12月3日 23:36:25 (Elapsed Time: 52 minutes 40 seconds)\"]' data-show='true'><div id = 'default' /></div></div>"
      ],
      "text/plain": [
       "<Result 'three_dataset_dissolve_v2'>"
      ]
     },
     "execution_count": 46,
     "metadata": {},
     "output_type": "execute_result"
    }
   ],
   "source": [
    "arcpy.Merge_management(['b_for_merge','GLAKES_for_merge','PLD_for_merge'],three_dataset_merge)\n",
    "arcpy.MakeFeatureLayer_management(three_dataset_merge,three_dataset_merge_lyr)\n",
    "arcpy.Dissolve_management(three_dataset_merge_lyr, three_dataset_dissolve,\"\", \"\", \"SINGLE_PART\")\n",
    "\n",
    "arcpy.MakeFeatureLayer_management(three_dataset_dissolve,three_dataset_dissolve_lyr)\n",
    "arcpy.AddField_management(three_dataset_dissolve_lyr,\"lake_area\",\"Double\")\n",
    "arcpy.CalculateField_management(three_dataset_dissolve_lyr, \"lake_area\",  \"!shape.geodesicArea@SQUAREKILOMETERS!\", \"PYTHON_9.3\")\n",
    "# arcpy.AddField_management(three_dataset_dissolve_lyr,\"continent\",\"Text\")\n",
    "# cal_continent(three_dataset_merged_lyr)"
   ]
  },
  {
   "cell_type": "code",
   "execution_count": null,
   "metadata": {
    "hidden": true
   },
   "outputs": [],
   "source": [
    "three_dataset_dissolve_SJ=os.path.join(merge_data_gdb,'three_dataset_dissolve_SJ')\n",
    "three_dataset_dissolve_SJ_lyr=f'three_dataset_dissolve_SJ'"
   ]
  },
  {
   "cell_type": "code",
   "execution_count": null,
   "metadata": {
    "hidden": true
   },
   "outputs": [
    {
     "name": "stdout",
     "output_type": "stream",
     "text": [
      "Conduct spatial join\n"
     ]
    },
    {
     "data": {
      "text/html": [
       "<div class='gpresult'><h2>Messages</h2><div id='messages' data-messages='[\"Start Time: 2024年12月3日 23:45:18\",\"Succeeded at 2024年12月3日 23:45:18 (Elapsed Time: 0.11 seconds)\"]' data-show='true'><div id = 'default' /></div></div>"
      ],
      "text/plain": [
       "<Result 'three_dataset_dissolve_SJ'>"
      ]
     },
     "execution_count": 47,
     "metadata": {},
     "output_type": "execute_result"
    }
   ],
   "source": [
    "fieldmappings = arcpy.FieldMappings()\n",
    "fieldmappings_all = arcpy.FieldMappings()\n",
    "fieldmappings_all.addTable(three_dataset_dissolve_lyr)\n",
    "fieldmappings_all.addTable('b_for_merge_point')\n",
    "field_list=['lake_area','area']#\n",
    "for field_i in field_list:\n",
    "    field_idx = fieldmappings_all.findFieldMapIndex(field_i)\n",
    "    field_fieldmap = fieldmappings_all.getFieldMap(field_idx)\n",
    "    fieldmappings.addFieldMap(field_fieldmap)\n",
    "area_idx = fieldmappings.findFieldMapIndex(\"area\")\n",
    "area_fieldmap = fieldmappings.getFieldMap(area_idx)\n",
    "area_fieldmap.mergeRule = \"sum\"\n",
    "fieldmappings.replaceFieldMap(area_idx, area_fieldmap)\n",
    "\n",
    "print('Conduct spatial join')\n",
    "arcpy.SpatialJoin_analysis(three_dataset_dissolve_lyr, 'b_for_merge_point', three_dataset_dissolve_SJ, \"JOIN_ONE_TO_ONE\",\n",
    "                           \"KEEP_ALL\", fieldmappings, \"CONTAINS\")\n",
    "arcpy.MakeFeatureLayer_management(three_dataset_dissolve_SJ,three_dataset_dissolve_SJ_lyr)"
   ]
  },
  {
   "cell_type": "code",
   "execution_count": null,
   "metadata": {
    "hidden": true
   },
   "outputs": [],
   "source": [
    "Arid_region_lyr='Global_AI_Reclassify_Clip_simple'"
   ]
  },
  {
   "cell_type": "code",
   "execution_count": null,
   "metadata": {
    "hidden": true
   },
   "outputs": [
    {
     "data": {
      "text/html": [
       "<div class='gpresult'><h2>Messages</h2><div id='messages' data-messages='[\"Start Time: 2024年12月4日 11:55:45\",\"Succeeded at 2024年12月4日 11:56:44 (Elapsed Time: 58.98 seconds)\"]' data-show='true'><div id = 'default' /></div></div>"
      ],
      "text/plain": [
       "<Result 'three_dataset_dissolve_SJ'>"
      ]
     },
     "execution_count": 80,
     "metadata": {},
     "output_type": "execute_result"
    }
   ],
   "source": [
    "# arcpy.AddField_management(three_dataset_dissolve_SJ_lyr, 'change_ratio', \"DOUBLE\")#新建字段为面积比例\n",
    "# selectByAttribute(three_dataset_dissolve_SJ_lyr,'NEW_SELECTION','area IS NOT NULL')\n",
    "arcpy.CalculateField_management(three_dataset_dissolve_SJ_lyr, 'change_ratio', '(!lake_area!-!area!)/!area!*100')\n",
    "# arcpy.AddField_management(three_dataset_dissolve_SJ_lyr, 'operate', \"short\")\n",
    "# arcpy.AddField_management(three_dataset_dissolve_SJ_lyr, 'Arid_flag', \"short\")\n",
    "# selectByLocation(three_dataset_dissolve_SJ_lyr,'INTERSECT',Arid_region_lyr)\n",
    "# arcpy.CalculateField_management(three_dataset_dissolve_SJ_lyr, 'Arid_flag',1)\n",
    "# selectByAttribute(three_dataset_dissolve_SJ_lyr,'NEW_SELECTION','Join_Count > 1 Or Arid_flag = 1 Or Join_Count = 0 Or lake_area > 10')"
   ]
  },
  {
   "cell_type": "code",
   "execution_count": null,
   "metadata": {
    "hidden": true
   },
   "outputs": [],
   "source": [
    "# arcpy.AddField_management(three_dataset_dissolve_SJ_lyr, 'operate', \"short\")\n",
    "# selectByAttribute(three_dataset_dissolve_SJ_lyr,'NEW_SELECTION','change_ratio=0')\n",
    "# arcpy.CalculateField_management(three_dataset_dissolve_SJ_lyr, 'operate',0)\n",
    "# selectByAttribute(three_dataset_dissolve_SJ_lyr,'NEW_SELECTION','Arid_flag = 2 AND operate IS NULL')\n",
    "# arcpy.CalculateField_management(three_dataset_dissolve_SJ_lyr, 'operate',1)\n",
    "selectByAttribute(three_dataset_dissolve_SJ_lyr,'NEW_SELECTION','Join_Count = 1 And area < 1 AND operate IS NULL And change_ratio < 5 And lake_area < 1')\n",
    "# arcpy.CalculateField_management(three_dataset_dissolve_SJ_lyr, 'operate',0)"
   ]
  },
  {
   "cell_type": "code",
   "execution_count": null,
   "metadata": {
    "hidden": true
   },
   "outputs": [
    {
     "ename": "ExecuteError",
     "evalue": "ERROR 160706: Cannot acquire a lock.\nFailed to execute (CalculateField).\n",
     "output_type": "error",
     "traceback": [
      "\u001b[0;31m---------------------------------------------------------------------------\u001b[0m\n\u001b[0;31mExecuteError\u001b[0m                              Traceback (most recent call last)",
      "In  \u001b[0;34m[13]\u001b[0m:\nLine \u001b[0;34m11\u001b[0m:    arcpy.CalculateField_management(three_dataset_dissolve_SJ_lyr,\u001b[33m\"\u001b[39;49;00m\u001b[33mPLD\u001b[39;49;00m\u001b[33m\"\u001b[39;49;00m,\u001b[34m1\u001b[39;49;00m)\n",
      "File \u001b[0;34mC:\\Program Files\\ArcGIS\\Pro\\Resources\\ArcPy\\arcpy\\management.py\u001b[0m, in \u001b[0;32mCalculateField\u001b[0m:\nLine \u001b[0;34m5786\u001b[0m:  \u001b[34mraise\u001b[39;49;00m e\n",
      "File \u001b[0;34mC:\\Program Files\\ArcGIS\\Pro\\Resources\\ArcPy\\arcpy\\management.py\u001b[0m, in \u001b[0;32mCalculateField\u001b[0m:\nLine \u001b[0;34m5783\u001b[0m:  retval = convertArcObjectToPythonObject(gp.CalculateField_management(*gp_fixargs((in_table, field, expression, expression_type, code_block, field_type, enforce_domains), \u001b[34mTrue\u001b[39;49;00m)))\n",
      "File \u001b[0;34mC:\\Program Files\\ArcGIS\\Pro\\Resources\\ArcPy\\arcpy\\geoprocessing\\_base.py\u001b[0m, in \u001b[0;32m<lambda>\u001b[0m:\nLine \u001b[0;34m512\u001b[0m:   \u001b[34mreturn\u001b[39;49;00m \u001b[34mlambda\u001b[39;49;00m *args: val(*gp_fixargs(args, \u001b[34mTrue\u001b[39;49;00m))\n",
      "\u001b[0;31mExecuteError\u001b[0m: ERROR 160706: Cannot acquire a lock.\nFailed to execute (CalculateField).\n\n\u001b[0;31m---------------------------------------------------------------------------\u001b[0m"
     ]
    }
   ],
   "source": [
    "# arcpy.AddField_management(three_dataset_dissolve_SJ_lyr,\"Hu\",\"short\")\n",
    "# selectByLocation(three_dataset_dissolve_SJ_lyr,'contains','b_for_merge_point')\n",
    "# arcpy.CalculateField_management(three_dataset_dissolve_SJ_lyr,\"Hu\",1)\n",
    "\n",
    "# arcpy.AddField_management(three_dataset_dissolve_SJ_lyr,\"GLAKES\",\"short\")\n",
    "# selectByLocation(three_dataset_dissolve_SJ_lyr,'contains','GLAKES_for_merge_point')\n",
    "# arcpy.CalculateField_management(three_dataset_dissolve_SJ_lyr,\"GLAKES\",1)\n",
    "\n",
    "arcpy.AddField_management(three_dataset_dissolve_SJ_lyr,\"PLD\",\"short\")\n",
    "selectByLocation(three_dataset_dissolve_SJ_lyr,'contains','PLD_for_merge_point')\n",
    "arcpy.CalculateField_management(three_dataset_dissolve_SJ_lyr,\"PLD\",1)"
   ]
  },
  {
   "cell_type": "code",
   "execution_count": null,
   "metadata": {
    "hidden": true
   },
   "outputs": [
    {
     "ename": "ExecuteError",
     "evalue": "ERROR 160706: Cannot acquire a lock.\nFailed to execute (CalculateField).\n",
     "output_type": "error",
     "traceback": [
      "\u001b[0;31m---------------------------------------------------------------------------\u001b[0m\n\u001b[0;31mExecuteError\u001b[0m                              Traceback (most recent call last)",
      "In  \u001b[0;34m[29]\u001b[0m:\nLine \u001b[0;34m5\u001b[0m:     arcpy.CalculateField_management(three_dataset_dissolve_SJ_lyr,\u001b[33m\"\u001b[39;49;00m\u001b[33msources\u001b[39;49;00m\u001b[33m\"\u001b[39;49;00m,\u001b[33m\"\u001b[39;49;00m\u001b[33m'\u001b[39;49;00m\u001b[33mGLAKES\u001b[39;49;00m\u001b[33m'\u001b[39;49;00m\u001b[33m\"\u001b[39;49;00m)\n",
      "File \u001b[0;34mC:\\Program Files\\ArcGIS\\Pro\\Resources\\ArcPy\\arcpy\\management.py\u001b[0m, in \u001b[0;32mCalculateField\u001b[0m:\nLine \u001b[0;34m5786\u001b[0m:  \u001b[34mraise\u001b[39;49;00m e\n",
      "File \u001b[0;34mC:\\Program Files\\ArcGIS\\Pro\\Resources\\ArcPy\\arcpy\\management.py\u001b[0m, in \u001b[0;32mCalculateField\u001b[0m:\nLine \u001b[0;34m5783\u001b[0m:  retval = convertArcObjectToPythonObject(gp.CalculateField_management(*gp_fixargs((in_table, field, expression, expression_type, code_block, field_type, enforce_domains), \u001b[34mTrue\u001b[39;49;00m)))\n",
      "File \u001b[0;34mC:\\Program Files\\ArcGIS\\Pro\\Resources\\ArcPy\\arcpy\\geoprocessing\\_base.py\u001b[0m, in \u001b[0;32m<lambda>\u001b[0m:\nLine \u001b[0;34m512\u001b[0m:   \u001b[34mreturn\u001b[39;49;00m \u001b[34mlambda\u001b[39;49;00m *args: val(*gp_fixargs(args, \u001b[34mTrue\u001b[39;49;00m))\n",
      "\u001b[0;31mExecuteError\u001b[0m: ERROR 160706: Cannot acquire a lock.\nFailed to execute (CalculateField).\n\n\u001b[0;31m---------------------------------------------------------------------------\u001b[0m"
     ]
    }
   ],
   "source": [
    "arcpy.AddField_management(three_dataset_dissolve_SJ_lyr,\"sources\",\"Text\")\n",
    "selectByAttribute(three_dataset_dissolve_SJ_lyr,'NEW_SELECTION','Hu =1 and GLAKES IS NULL and PLD IS NULL')\n",
    "arcpy.CalculateField_management(three_dataset_dissolve_SJ_lyr,\"sources\",\"'Hu'\")\n",
    "selectByAttribute(three_dataset_dissolve_SJ_lyr,'NEW_SELECTION','GLAKES =1 and Hu IS NULL and PLD IS NULL')\n",
    "arcpy.CalculateField_management(three_dataset_dissolve_SJ_lyr,\"sources\",\"'GLAKES'\")\n",
    "selectByAttribute(three_dataset_dissolve_SJ_lyr,'NEW_SELECTION','PLD =1 and GLAKES IS NULL and Hu IS NULL')\n",
    "arcpy.CalculateField_management(three_dataset_dissolve_SJ_lyr,\"sources\",\"'PLD'\")\n",
    "selectByAttribute(three_dataset_dissolve_SJ_lyr,'NEW_SELECTION','Hu =1 and GLAKES =1 and PLD IS NULL')\n",
    "arcpy.CalculateField_management(three_dataset_dissolve_SJ_lyr,\"sources\",\"'Hu,GLAKES'\")\n",
    "selectByAttribute(three_dataset_dissolve_SJ_lyr,'NEW_SELECTION','Hu =1 and GLAKES IS NULL and PLD =1')\n",
    "arcpy.CalculateField_management(three_dataset_dissolve_SJ_lyr,\"sources\",\"'Hu,PLD'\")\n",
    "selectByAttribute(three_dataset_dissolve_SJ_lyr,'NEW_SELECTION','Hu is null and GLAKES =1 and PLD =1')\n",
    "arcpy.CalculateField_management(three_dataset_dissolve_SJ_lyr,\"sources\",\"'GLAKES,PLD'\")\n",
    "selectByAttribute(three_dataset_dissolve_SJ_lyr,'NEW_SELECTION','Hu =1 and GLAKES =1 and PLD =1')\n",
    "arcpy.CalculateField_management(three_dataset_dissolve_SJ_lyr,\"sources\",\"'Hu,GLAKES,PLD'\")"
   ]
  },
  {
   "cell_type": "code",
   "execution_count": null,
   "metadata": {
    "hidden": true
   },
   "outputs": [
    {
     "ename": "ExecuteError",
     "evalue": "ERROR 160706: Cannot acquire a lock.\nFailed to execute (CalculateField).\n",
     "output_type": "error",
     "traceback": [
      "\u001b[0;31m---------------------------------------------------------------------------\u001b[0m\n\u001b[0;31mExecuteError\u001b[0m                              Traceback (most recent call last)",
      "In  \u001b[0;34m[32]\u001b[0m:\nLine \u001b[0;34m1\u001b[0m:     cal_continent(three_dataset_dissolve_SJ_lyr)\n",
      "In  \u001b[0;34m[31]\u001b[0m:\nLine \u001b[0;34m17\u001b[0m:    calculateField(lyr,\u001b[33m'\u001b[39;49;00m\u001b[33mContinent\u001b[39;49;00m\u001b[33m'\u001b[39;49;00m,\u001b[33mf\u001b[39;49;00m\u001b[33m\"\u001b[39;49;00m\u001b[33m'\u001b[39;49;00m\u001b[33m{\u001b[39;49;00mcontinent\u001b[33m}\u001b[39;49;00m\u001b[33m'\u001b[39;49;00m\u001b[33m\"\u001b[39;49;00m)\n",
      "In  \u001b[0;34m[31]\u001b[0m:\nLine \u001b[0;34m8\u001b[0m:     arcpy.CalculateField_management(inputFeature, field,code)\n",
      "File \u001b[0;34mC:\\Program Files\\ArcGIS\\Pro\\Resources\\ArcPy\\arcpy\\management.py\u001b[0m, in \u001b[0;32mCalculateField\u001b[0m:\nLine \u001b[0;34m5786\u001b[0m:  \u001b[34mraise\u001b[39;49;00m e\n",
      "File \u001b[0;34mC:\\Program Files\\ArcGIS\\Pro\\Resources\\ArcPy\\arcpy\\management.py\u001b[0m, in \u001b[0;32mCalculateField\u001b[0m:\nLine \u001b[0;34m5783\u001b[0m:  retval = convertArcObjectToPythonObject(gp.CalculateField_management(*gp_fixargs((in_table, field, expression, expression_type, code_block, field_type, enforce_domains), \u001b[34mTrue\u001b[39;49;00m)))\n",
      "File \u001b[0;34mC:\\Program Files\\ArcGIS\\Pro\\Resources\\ArcPy\\arcpy\\geoprocessing\\_base.py\u001b[0m, in \u001b[0;32m<lambda>\u001b[0m:\nLine \u001b[0;34m512\u001b[0m:   \u001b[34mreturn\u001b[39;49;00m \u001b[34mlambda\u001b[39;49;00m *args: val(*gp_fixargs(args, \u001b[34mTrue\u001b[39;49;00m))\n",
      "\u001b[0;31mExecuteError\u001b[0m: ERROR 160706: Cannot acquire a lock.\nFailed to execute (CalculateField).\n\n\u001b[0;31m---------------------------------------------------------------------------\u001b[0m"
     ]
    }
   ],
   "source": [
    "cal_continent(three_dataset_dissolve_SJ_lyr)"
   ]
  },
  {
   "cell_type": "code",
   "execution_count": null,
   "metadata": {
    "hidden": true
   },
   "outputs": [
    {
     "data": {
      "text/html": [
       "<div class='gpresult'><h2>Messages</h2><div id='messages' data-messages='[\"Start Time: 2024年12月10日 22:26:48\",\"Succeeded at 2024年12月10日 22:28:02 (Elapsed Time: 1 minutes 14 seconds)\"]' data-show='true'><div id = 'default' /></div></div>"
      ],
      "text/plain": [
       "<Result 'J:\\\\lakemapping\\\\postprocess\\\\v15_241128\\\\4_polygon_afm_mergeWith_BigLake.gdb\\\\three_dataset_dissolve_for_merge'>"
      ]
     },
     "execution_count": 33,
     "metadata": {},
     "output_type": "execute_result"
    }
   ],
   "source": [
    "three_dataset_dissolve_for_merge=os.path.join(mwBL_gdb,'three_dataset_dissolve_for_merge')\n",
    "selectByAttribute(three_dataset_dissolve_SJ_lyr,'NEW_SELECTION','operate IS NULL OR operate=1')\n",
    "fieldmappings = arcpy.FieldMappings()\n",
    "fieldmappings_all = arcpy.FieldMappings()\n",
    "fieldmappings_all.addTable(three_dataset_dissolve_SJ_lyr)\n",
    "field_list=['lake_area','sources','Continent']#,'Arid_flag'\n",
    "for field_i in field_list:\n",
    "    field_idx = fieldmappings_all.findFieldMapIndex(field_i)\n",
    "    field_fieldmap = fieldmappings_all.getFieldMap(field_idx)\n",
    "    fieldmappings.addFieldMap(field_fieldmap)\n",
    "arcpy.conversion.ExportFeatures(three_dataset_dissolve_SJ_lyr,three_dataset_dissolve_for_merge,field_mapping=fieldmappings)"
   ]
  },
  {
   "cell_type": "code",
   "execution_count": null,
   "metadata": {
    "hidden": true
   },
   "outputs": [
    {
     "ename": "ExecuteError",
     "evalue": "ERROR 160706: Cannot acquire a lock.\nFailed to execute (CalculateField).\n",
     "output_type": "error",
     "traceback": [
      "\u001b[0;31m---------------------------------------------------------------------------\u001b[0m\n\u001b[0;31mExecuteError\u001b[0m                              Traceback (most recent call last)",
      "In  \u001b[0;34m[34]\u001b[0m:\nLine \u001b[0;34m1\u001b[0m:     cal_continent(\u001b[33m'\u001b[39;49;00m\u001b[33mthree_dataset_dissolve_for_merge\u001b[39;49;00m\u001b[33m'\u001b[39;49;00m)\n",
      "In  \u001b[0;34m[31]\u001b[0m:\nLine \u001b[0;34m20\u001b[0m:    arcpy.CalculateField_management(lyr, \u001b[33m\"\u001b[39;49;00m\u001b[33mcontinent\u001b[39;49;00m\u001b[33m\"\u001b[39;49;00m,\u001b[33m\"\u001b[39;49;00m\u001b[33m'\u001b[39;49;00m\u001b[33mSiberia\u001b[39;49;00m\u001b[33m'\u001b[39;49;00m\u001b[33m\"\u001b[39;49;00m)\n",
      "File \u001b[0;34mC:\\Program Files\\ArcGIS\\Pro\\Resources\\ArcPy\\arcpy\\management.py\u001b[0m, in \u001b[0;32mCalculateField\u001b[0m:\nLine \u001b[0;34m5786\u001b[0m:  \u001b[34mraise\u001b[39;49;00m e\n",
      "File \u001b[0;34mC:\\Program Files\\ArcGIS\\Pro\\Resources\\ArcPy\\arcpy\\management.py\u001b[0m, in \u001b[0;32mCalculateField\u001b[0m:\nLine \u001b[0;34m5783\u001b[0m:  retval = convertArcObjectToPythonObject(gp.CalculateField_management(*gp_fixargs((in_table, field, expression, expression_type, code_block, field_type, enforce_domains), \u001b[34mTrue\u001b[39;49;00m)))\n",
      "File \u001b[0;34mC:\\Program Files\\ArcGIS\\Pro\\Resources\\ArcPy\\arcpy\\geoprocessing\\_base.py\u001b[0m, in \u001b[0;32m<lambda>\u001b[0m:\nLine \u001b[0;34m512\u001b[0m:   \u001b[34mreturn\u001b[39;49;00m \u001b[34mlambda\u001b[39;49;00m *args: val(*gp_fixargs(args, \u001b[34mTrue\u001b[39;49;00m))\n",
      "\u001b[0;31mExecuteError\u001b[0m: ERROR 160706: Cannot acquire a lock.\nFailed to execute (CalculateField).\n\n\u001b[0;31m---------------------------------------------------------------------------\u001b[0m"
     ]
    }
   ],
   "source": [
    "cal_continent('three_dataset_dissolve_for_merge')"
   ]
  },
  {
   "cell_type": "code",
   "execution_count": null,
   "metadata": {
    "hidden": true
   },
   "outputs": [
    {
     "name": "stdout",
     "output_type": "stream",
     "text": [
      "Asia\n",
      "Siberia\n",
      "Africa\n",
      "Europe\n",
      "Oceania_Anta\n",
      "North_America\n",
      "Arctic\n",
      "South_America\n"
     ]
    }
   ],
   "source": [
    "b_merge_layer='three_dataset_dissolve_for_merge'\n",
    "for i in range(0,8):\n",
    "    continent=eight_continents[i]\n",
    "    print(continent)\n",
    "    b_lake_afm_merge_with_BL=os.path.join(mwBL_gdb,f'b{i+1}_{continent}_polygon_afm_mwBL')\n",
    "    b_lake_afm_merge_with_BL_lyr=f'b{i+1}_{continent}_lake_afm_merge_with_BL'\n",
    "#     arcpy.MakeFeatureLayer_management(b_lake_afm_merge_with_BL, b_lake_afm_merge_with_BL_lyr)\n",
    "    c_lake_afm_mw_GP=os.path.join(merge_gdb,f'c{i+1}_{continent}_lakes')\n",
    "    c_lake_afm_mw_GP_lyr=f'c{i+1}_{continent}_lakes'\n",
    "\n",
    "    selectByAttribute(b_lake_afm_merge_with_BL_lyr,'NEW_SELECTION',\"mwGLAKES_PLD IS NULL\")\n",
    "    selectByLocation(b_lake_afm_merge_with_BL_lyr, 'CONTAINS', 'b_for_merge_point','ADD_TO_SELECTION')\n",
    "    selectByAttribute(b_merge_layer,'NEW_SELECTION',f\"Continent = '{continent}'\")\n",
    "    field_list=['lake_area','sources']#,'Arid_flag'\n",
    "    fieldmappings = arcpy.FieldMappings()\n",
    "    fieldmappings_all = arcpy.FieldMappings()\n",
    "    fieldmappings_all.addTable(b_merge_layer)\n",
    "    for field_i in field_list:\n",
    "        field_idx = fieldmappings_all.findFieldMapIndex(field_i)\n",
    "        fieldmappings.addFieldMap(fieldmappings_all.getFieldMap(field_idx))\n",
    "\n",
    "    arcpy.Merge_management([b_lake_afm_merge_with_BL_lyr,b_merge_layer],c_lake_afm_mw_GP,field_mappings=fieldmappings)\n",
    "    arcpy.MakeFeatureLayer_management(c_lake_afm_mw_GP,c_lake_afm_mw_GP_lyr)\n",
    "#     selectByAttribute(c_lake_afm_mw_GP_lyr,'NEW_SELECTION',\"\")\n",
    "    out_table=os.path.join(stastics_gdb,f'{version}_c{i+1}_{continent}_lakes_stastics')\n",
    "    arcpy.analysis.Statistics(c_lake_afm_mw_GP_lyr, out_table, [['lake_area',\"sum\"]], ['sources']) "
   ]
  },
  {
   "cell_type": "code",
   "execution_count": null,
   "metadata": {
    "hidden": true
   },
   "outputs": [
    {
     "data": {
      "text/html": [
       "<div class='gpresult'><h2>Messages</h2><div id='messages' data-messages='[\"Start Time: 2024年12月3日 12:52:13\",\"Succeeded at 2024年12月3日 12:54:01 (Elapsed Time: 1 minutes 47 seconds)\"]' data-show='true'><div id = 'default' /></div></div>"
      ],
      "text/plain": [
       "<Result 'J:\\\\lakemapping\\\\postprocess\\\\v15_241128\\\\0_summary_stastics.gdb\\\\v15_241128_c6_North_America_lakes_stastics'>"
      ]
     },
     "execution_count": 34,
     "metadata": {},
     "output_type": "execute_result"
    }
   ],
   "source": [
    "arcpy.MakeFeatureLayer_management(c_lake_afm_mw_GP,c_lake_afm_mw_GP_lyr)\n",
    "#     selectByAttribute(c_lake_afm_mw_GP_lyr,'NEW_SELECTION',\"\")\n",
    "out_table=os.path.join(stastics_gdb,f'{version}_c{i+1}_{continent}_lakes_stastics')\n",
    "arcpy.analysis.Statistics(c_lake_afm_mw_GP_lyr, out_table, [['lake_area',\"sum\"]], ['sources']) "
   ]
  },
  {
   "cell_type": "code",
   "execution_count": null,
   "metadata": {
    "hidden": true
   },
   "outputs": [
    {
     "data": {
      "text/html": [
       "<div class='gpresult'><h2>Messages</h2><div id='messages' data-messages='[\"Start Time: 2024年12月11日 0:05:42\",\"Succeeded at 2024年12月11日 0:05:46 (Elapsed Time: 3.61 seconds)\"]' data-show='true'><div id = 'default' /></div></div>"
      ],
      "text/plain": [
       "<Result 'J:\\\\lakemapping\\\\postprocess\\\\v15_241128\\\\stastics_excel\\\\v15_241128_c_sum_lakes_stastics.xls'>"
      ]
     },
     "execution_count": 37,
     "metadata": {},
     "output_type": "execute_result"
    }
   ],
   "source": [
    "input_table_b_list=[]\n",
    "for i in range(0,8):\n",
    "    continent=eight_continents[i]\n",
    "    out_table=os.path.join(stastics_gdb,f'{version}_c{i+1}_{continent}_lakes_stastics')\n",
    "    input_table_b_list.append(out_table)\n",
    "file_name=f'{stastic_v}_c_sum_lakes_stastics.xls'\n",
    "Output_Excel_File=os.path.join(excel_dir,file_name)\n",
    "arcpy.conversion.TableToExcel(input_table_b_list, Output_Excel_File)"
   ]
  },
  {
   "cell_type": "markdown",
   "metadata": {},
   "source": [
    "## 空间分布分析"
   ]
  },
  {
   "cell_type": "markdown",
   "metadata": {},
   "source": [
    "### 计算lake type 生成pi"
   ]
  },
  {
   "cell_type": "code",
   "execution_count": null,
   "metadata": {},
   "outputs": [
    {
     "data": {
      "text/html": [
       "<div class='gpresult'><h2>Messages</h2><div id='messages' data-messages='[\"Start Time: 2024年12月12日 9:43:33\",\"Succeeded at 2024年12月12日 9:43:33 (Elapsed Time: 0.10 seconds)\"]' data-show='true'><div id = 'default' /></div></div>"
      ],
      "text/plain": [
       "<Result 'Global_grid_shp_1degree'>"
      ]
     },
     "execution_count": 50,
     "metadata": {},
     "output_type": "execute_result"
    }
   ],
   "source": [
    "grid=os.path.join(temp_gdb,'Global_grid_shp_1degree')\n",
    "grid_lyr='Global_grid_shp_1degree'\n",
    "arcpy.MakeFeatureLayer_management(grid,grid_lyr)"
   ]
  },
  {
   "cell_type": "code",
   "execution_count": null,
   "metadata": {},
   "outputs": [
    {
     "name": "stdout",
     "output_type": "stream",
     "text": [
      "Africa\n"
     ]
    }
   ],
   "source": [
    "for i in range(2,3):#[1,3,4,5]:\n",
    "    continent=eight_continents[i]\n",
    "    print(continent)\n",
    "    c_lake_afm_mw_GP=os.path.join(merge_gdb,f'c{i+1}_{continent}_lakes')\n",
    "    c_lake_afm_mw_GP_lyr=f'c{i+1}_{continent}_lakes'\n",
    "    c_lake_afm_mw_GP_point=os.path.join(point_gdb,f'c{i+1}_{continent}_lakes_point')\n",
    "    c_lake_afm_mw_GP_point_lyr=f'c{i+1}_{continent}_lakes_point'\n",
    "#     arcpy.MakeFeatureLayer_management(c_lake_afm_mw_GP,c_lake_afm_mw_GP_lyr)\n",
    "    \n",
    "    c_lake_afm_mw_GP_pi=os.path.join(temp_gdb,f'c{i+1}_{continent}_lakes_pi')\n",
    "    c_lake_afm_mw_GP_pi_lyr=f'c{i+1}_{continent}_lakes_pi'\n",
    "    c_lake_afm_mw_GP_pi_point=os.path.join(point_gdb,f'c{i+1}_{continent}_lakes_pi_point')\n",
    "    c_lake_afm_mw_GP_pi_point_lyr=f'c{i+1}_{continent}_lakes_pi_point'\n",
    "#     arcpy.AddField_management(c_lake_afm_mw_GP_lyr,'lake_type','Short')\n",
    "#     selectByAttribute(c_lake_afm_mw_GP_lyr,'NEW_SELECTION',\"lake_area<0.01\")\n",
    "#     arcpy.CalculateField_management(c_lake_afm_mw_GP_lyr,'lake_type',0)\n",
    "#     selectByAttribute(c_lake_afm_mw_GP_lyr,'NEW_SELECTION',\"lake_area>=0.01 and lake_area <0.03\")\n",
    "#     arcpy.CalculateField_management(c_lake_afm_mw_GP_lyr,'lake_type',1)\n",
    "#     selectByAttribute(c_lake_afm_mw_GP_lyr,'NEW_SELECTION',\"lake_area>=0.03 and lake_area <0.1\")\n",
    "#     arcpy.CalculateField_management(c_lake_afm_mw_GP_lyr,'lake_type',2)\n",
    "#     selectByAttribute(c_lake_afm_mw_GP_lyr,'NEW_SELECTION',\"lake_area>=0.1 and lake_area <1\")\n",
    "#     arcpy.CalculateField_management(c_lake_afm_mw_GP_lyr,'lake_type',3)\n",
    "#     selectByAttribute(c_lake_afm_mw_GP_lyr,'NEW_SELECTION',\"lake_area>=1 and lake_area <100\")\n",
    "#     arcpy.CalculateField_management(c_lake_afm_mw_GP_lyr,'lake_type',4)\n",
    "#     selectByAttribute(c_lake_afm_mw_GP_lyr,'NEW_SELECTION',\"lake_area>=100\")\n",
    "#     arcpy.CalculateField_management(c_lake_afm_mw_GP_lyr,'lake_type',5)\n",
    "    \n",
    "#     print('start transform to point')\n",
    "#     selectByAttribute(c_lake_afm_mw_GP_lyr,'NEW_SELECTION','') \n",
    "#     arcpy.management.FeatureToPoint(c_lake_afm_mw_GP_lyr,c_lake_afm_mw_GP_point,'INSIDE')\n",
    "#     print('start pairwise intersect')\n",
    "#     arcpy.analysis.PairwiseIntersect([c_lake_afm_mw_GP_lyr, grid_lyr],c_lake_afm_mw_GP_pi,join_attributes='NO_FID')\n",
    "#     arcpy.MakeFeatureLayer_management(c_lake_afm_mw_GP_pi,c_lake_afm_mw_GP_pi_lyr)\n",
    "#     selectByLocation(c_lake_afm_mw_GP_pi_lyr,'SHARE_A_LINE_SEGMENT_WITH',grid_lyr,'NEW_SELECTION')\n",
    "#     arcpy.CalculateField_management(c_lake_afm_mw_GP_pi_lyr,'lake_area', \"!shape.geodesicArea@SQUAREKILOMETERS!\", \"PYTHON_9.3\")\n",
    "#     selectByAttribute(c_lake_afm_mw_GP_pi_lyr,'NEW_SELECTION','') \n",
    "#     arcpy.management.FeatureToPoint(c_lake_afm_mw_GP_pi_lyr,c_lake_afm_mw_GP_pi_point,'INSIDE')"
   ]
  },
  {
   "cell_type": "code",
   "execution_count": null,
   "metadata": {},
   "outputs": [
    {
     "name": "stdout",
     "output_type": "stream",
     "text": [
      "Asia\n",
      "Siberia\n",
      "Africa\n",
      "Europe\n",
      "Oceania_Anta\n",
      "North_America\n",
      "Arctic\n",
      "South_America\n"
     ]
    }
   ],
   "source": [
    "merge_list=[]\n",
    "for i in range(0,8):#[1,3,4,5]:\n",
    "    continent=eight_continents[i]\n",
    "    print(continent)\n",
    "    c_lake_afm_mw_GP_point=os.path.join(point_gdb,f'c{i+1}_{continent}_lakes_point')\n",
    "    c_lake_afm_mw_GP_point_lyr=f'c{i+1}_{continent}_lakes_point'\n",
    "    arcpy.MakeFeatureLayer_management(c_lake_afm_mw_GP_point,c_lake_afm_mw_GP_point_lyr)\n",
    "    arcpy.AddField_management(c_lake_afm_mw_BL_BG_point_lyr,'hu_c1','Short')\n",
    "    arcpy.AddField_management(c_lake_afm_mw_BL_BG_point_lyr,'hu_c3','Short')\n",
    "    arcpy.AddField_management(c_lake_afm_mw_BL_BG_point_lyr,'hu_c10','Short')\n",
    "    arcpy.AddField_management(c_lake_afm_mw_BL_BG_point_lyr,'hu_c100','Short')\n",
    "    selectByAttribute(c_lake_afm_mw_BL_BG_point_lyr,'NEW_SELECTION',\"lake_type=0\")\n",
    "    arcpy.CalculateField_management(c_lake_afm_mw_BL_BG_point_lyr,'hu_c1',1)\n",
    "    selectByAttribute(c_lake_afm_mw_BL_BG_point_lyr,'NEW_SELECTION',\"lake_type=1\")\n",
    "    arcpy.CalculateField_management(c_lake_afm_mw_BL_BG_point_lyr,'hu_c3',1)\n",
    "    selectByAttribute(c_lake_afm_mw_BL_BG_point_lyr,'NEW_SELECTION',\"lake_type=2\")\n",
    "    arcpy.CalculateField_management(c_lake_afm_mw_BL_BG_point_lyr,'hu_c10',1)\n",
    "    selectByAttribute(c_lake_afm_mw_BL_BG_point_lyr,'NEW_SELECTION',\"lake_type=3\")\n",
    "    arcpy.CalculateField_management(c_lake_afm_mw_BL_BG_point_lyr,'hu_c100',1)\n",
    "    selectByAttribute(c_lake_afm_mw_BL_BG_point_lyr,'NEW_SELECTION','')\n",
    "    merge_list.append(c_lake_afm_mw_BL_BG_point_lyr)\n",
    "arcpy.Merge_management(merge_list,total_lake_afm_mwPG_point)"
   ]
  },
  {
   "cell_type": "code",
   "execution_count": null,
   "metadata": {},
   "outputs": [
    {
     "name": "stdout",
     "output_type": "stream",
     "text": [
      "Asia\n"
     ]
    }
   ],
   "source": [
    "merge_list=[]\n",
    "for i in range(0,1):#[1,3,4,5]:\n",
    "    continent=eight_continents[i]\n",
    "    print(continent)\n",
    "    c_lake_afm_mw_GP_pi_point=os.path.join(point_gdb,f'c{i+1}_{continent}_lakes_pi_point')\n",
    "    c_lake_afm_mw_GP_pi_point_lyr=f'c{i+1}_{continent}_lakes_pi_point'\n",
    "    arcpy.MakeFeatureLayer_management(c_lake_afm_mw_GP_pi_point,c_lake_afm_mw_GP_pi_point_lyr)\n",
    "    arcpy.AddField_management(c_lake_afm_mw_GP_pi_point_lyr,'hu_a1','Double')\n",
    "    arcpy.AddField_management(c_lake_afm_mw_GP_pi_point_lyr,'hu_a3','Double')\n",
    "    arcpy.AddField_management(c_lake_afm_mw_GP_pi_point_lyr,'hu_a10','Double')\n",
    "    arcpy.AddField_management(c_lake_afm_mw_GP_pi_point_lyr,'hu_a100','Double')\n",
    "    selectByAttribute(c_lake_afm_mw_GP_pi_point_lyr,'NEW_SELECTION',\"lake_type=0\")\n",
    "    arcpy.CalculateField_management(c_lake_afm_mw_GP_pi_point_lyr,'hu_a1','!lake_area!')\n",
    "    selectByAttribute(c_lake_afm_mw_GP_pi_point_lyr,'NEW_SELECTION',\"lake_type=1\")\n",
    "    arcpy.CalculateField_management(c_lake_afm_mw_GP_pi_point_lyr,'hu_a3','!lake_area!')\n",
    "    selectByAttribute(c_lake_afm_mw_GP_pi_point_lyr,'NEW_SELECTION',\"lake_type=2\")\n",
    "    arcpy.CalculateField_management(c_lake_afm_mw_GP_pi_point_lyr,'hu_a10','!lake_area!')\n",
    "    selectByAttribute(c_lake_afm_mw_GP_pi_point_lyr,'NEW_SELECTION',\"lake_type=3\")\n",
    "    arcpy.CalculateField_management(c_lake_afm_mw_GP_pi_point_lyr,'hu_a100','!lake_area!')\n",
    "    selectByAttribute(c_lake_afm_mw_BL_BG_pi_point_lyr,'NEW_SELECTION','')\n",
    "    merge_list.append(c_lake_afm_mw_BL_BG_pi_point_lyr)\n",
    "total_lake_afm_mw_BL_BG_pi_point=os.path.join(mwBG_point_gdb,'total_polygon_afm_mwBL_BG_pi_point')\n",
    "arcpy.Merge_management(merge_list,total_lake_afm_mw_BL_BG_pi_point)"
   ]
  },
  {
   "cell_type": "code",
   "execution_count": null,
   "metadata": {},
   "outputs": [
    {
     "data": {
      "text/html": [
       "<div class='gpresult'><h2>Messages</h2><div id='messages' data-messages='[\"Start Time: 2024年12月13日 14:57:21\",\"Succeeded at 2024年12月13日 14:57:21 (Elapsed Time: 0.01 seconds)\"]' data-show='true'><div id = 'default' /></div></div>"
      ],
      "text/plain": [
       "<Result 'total_polygon_afm_mwPG_pi_point'>"
      ]
     },
     "execution_count": 41,
     "metadata": {},
     "output_type": "execute_result"
    }
   ],
   "source": [
    "total_lake_afm_mwPG_point=os.path.join(point_gdb,'total_lakes_point')\n",
    "total_lake_afm_mwPG_pi_point=os.path.join(point_gdb,'total_lakes_point_pi_new')\n",
    "total_lake_afm_mwPG_point_lyr='total_polygon_afm_mwPG_point'\n",
    "total_lake_afm_mwPG_pi_point_lyr='total_polygon_afm_mwPG_pi_point'\n",
    "# arcpy.MakeFeatureLayer_management(total_lake_afm_mwPG_point,total_lake_afm_mwPG_point_lyr)\n",
    "arcpy.MakeFeatureLayer_management(total_lake_afm_mwPG_pi_point,total_lake_afm_mwPG_pi_point_lyr)"
   ]
  },
  {
   "cell_type": "code",
   "execution_count": null,
   "metadata": {},
   "outputs": [
    {
     "data": {
      "text/html": [
       "<div class='gpresult'><h2>Messages</h2><div id='messages' data-messages='[\"Start Time: 2024年12月12日 14:58:00\",\"Succeeded at 2024年12月12日 15:38:12 (Elapsed Time: 40 minutes 11 seconds)\"]' data-show='true'><div id = 'default' /></div></div>"
      ],
      "text/plain": [
       "<Result 'total_polygon_afm_mwPG_point'>"
      ]
     },
     "execution_count": 52,
     "metadata": {},
     "output_type": "execute_result"
    }
   ],
   "source": [
    "arcpy.AddField_management(total_lake_afm_mwPG_point_lyr,'hu_c1','Short')\n",
    "arcpy.AddField_management(total_lake_afm_mwPG_point_lyr,'hu_c3','Short')\n",
    "arcpy.AddField_management(total_lake_afm_mwPG_point_lyr,'hu_c10','Short')\n",
    "arcpy.AddField_management(total_lake_afm_mwPG_point_lyr,'hu_c100','Short')\n",
    "selectByAttribute(total_lake_afm_mwPG_point_lyr,'NEW_SELECTION',\"lake_type=0\")\n",
    "arcpy.CalculateField_management(total_lake_afm_mwPG_point_lyr,'hu_c1',1)\n",
    "selectByAttribute(total_lake_afm_mwPG_point_lyr,'NEW_SELECTION',\"lake_type=1\")\n",
    "arcpy.CalculateField_management(total_lake_afm_mwPG_point_lyr,'hu_c3',1)\n",
    "selectByAttribute(total_lake_afm_mwPG_point_lyr,'NEW_SELECTION',\"lake_type=2\")\n",
    "arcpy.CalculateField_management(total_lake_afm_mwPG_point_lyr,'hu_c10',1)\n",
    "selectByAttribute(total_lake_afm_mwPG_point_lyr,'NEW_SELECTION',\"lake_type=3\")\n",
    "arcpy.CalculateField_management(total_lake_afm_mwPG_point_lyr,'hu_c100',1)"
   ]
  },
  {
   "cell_type": "code",
   "execution_count": null,
   "metadata": {},
   "outputs": [
    {
     "data": {
      "text/html": [
       "<div class='gpresult'><h2>Messages</h2><div id='messages' data-messages='[\"Start Time: 2024年12月12日 18:47:38\",\"Succeeded at 2024年12月12日 19:13:16 (Elapsed Time: 25 minutes 37 seconds)\"]' data-show='true'><div id = 'default' /></div></div>"
      ],
      "text/plain": [
       "<Result 'total_polygon_afm_mwPG_pi_point'>"
      ]
     },
     "execution_count": 53,
     "metadata": {},
     "output_type": "execute_result"
    }
   ],
   "source": [
    "arcpy.AddField_management(total_lake_afm_mwPG_pi_point_lyr,'hu_a1','Double')\n",
    "arcpy.AddField_management(total_lake_afm_mwPG_pi_point_lyr,'hu_a3','Double')\n",
    "arcpy.AddField_management(total_lake_afm_mwPG_pi_point_lyr,'hu_a10','Double')\n",
    "arcpy.AddField_management(total_lake_afm_mwPG_pi_point_lyr,'hu_a100','Double')\n",
    "selectByAttribute(total_lake_afm_mwPG_pi_point_lyr,'NEW_SELECTION',\"lake_type=0\")\n",
    "arcpy.CalculateField_management(total_lake_afm_mwPG_pi_point_lyr,'hu_a1','!lake_area!')\n",
    "selectByAttribute(total_lake_afm_mwPG_pi_point_lyr,'NEW_SELECTION',\"lake_type=1\")\n",
    "arcpy.CalculateField_management(total_lake_afm_mwPG_pi_point_lyr,'hu_a3','!lake_area!')\n",
    "selectByAttribute(total_lake_afm_mwPG_pi_point_lyr,'NEW_SELECTION',\"lake_type=2\")\n",
    "arcpy.CalculateField_management(total_lake_afm_mwPG_pi_point_lyr,'hu_a10','!lake_area!')\n",
    "selectByAttribute(total_lake_afm_mwPG_pi_point_lyr,'NEW_SELECTION',\"lake_type=3\")\n",
    "arcpy.CalculateField_management(total_lake_afm_mwPG_pi_point_lyr,'hu_a100','!lake_area!')"
   ]
  },
  {
   "cell_type": "code",
   "execution_count": null,
   "metadata": {},
   "outputs": [],
   "source": [
    "polygon_afm_mwPG_Count_SJ=os.path.join(temp_gdb,'Global_grid_shp_1degree_hu_Count')\n",
    "polygon_afm_mwPG_Count_SJ_lyr='Global_grid_shp_1degree_hu_Count'\n",
    "polygon_afm_mwPG_Count_Area_SJ=os.path.join(temp_gdb,'Global_grid_shp_1degree_hu_Count_Area')\n",
    "polygon_afm_mwPG_Count_Area_SJ_lyr='Global_grid_shp_1degree_hu_Count_Area'"
   ]
  },
  {
   "cell_type": "code",
   "execution_count": null,
   "metadata": {},
   "outputs": [
    {
     "data": {
      "text/html": [
       "<div class='gpresult'><h2>Messages</h2><div id='messages' data-messages='[\"Start Time: 2024年12月12日 9:39:26\",\"Succeeded at 2024年12月12日 9:40:19 (Elapsed Time: 53.04 seconds)\"]' data-show='true'><div id = 'default' /></div></div>"
      ],
      "text/plain": [
       "<Result 'J:\\\\lakemapping\\\\postprocess\\\\v15_241128\\\\7_correct_temp_file.gdb\\\\Hu_lakes'>"
      ]
     },
     "execution_count": 49,
     "metadata": {},
     "output_type": "execute_result"
    }
   ],
   "source": [
    "merge_list=[]\n",
    "sample_result=os.path.join(temp_gdb,'Hu_lakes')\n",
    "for i in range(0,8):#[1,3,4,5]:\n",
    "    continent=eight_continents[i]\n",
    "    c_lake_afm_mw_GP=os.path.join(merge_gdb,f'c{i+1}_{continent}_lakes')\n",
    "    c_lake_afm_mw_GP_lyr=f'c{i+1}_{continent}_lakes'\n",
    "    arcpy.MakeFeatureLayer_management(c_lake_afm_mw_GP,c_lake_afm_mw_GP_lyr)\n",
    "    selectByLocation(c_lake_afm_mw_GP_lyr, 'INTERSECT', 'different_regions','NEW_SELECTION')\n",
    "    merge_list.append(c_lake_afm_mw_GP_lyr)\n",
    "\n",
    "arcpy.Merge_management(merge_list,sample_result)"
   ]
  },
  {
   "cell_type": "code",
   "execution_count": null,
   "metadata": {},
   "outputs": [
    {
     "name": "stdout",
     "output_type": "stream",
     "text": [
      "Conduct spatial join\n"
     ]
    },
    {
     "data": {
      "text/html": [
       "<div class='gpresult'><h2>Messages</h2><div id='messages' data-messages='[\"Start Time: 2024年12月13日 14:58:55\",\"Succeeded at 2024年12月13日 14:58:55 (Elapsed Time: 0.02 seconds)\"]' data-show='true'><div id = 'default' /></div></div>"
      ],
      "text/plain": [
       "<Result 'Global_grid_shp_1degree_hu_Count_Area'>"
      ]
     },
     "execution_count": 42,
     "metadata": {},
     "output_type": "execute_result"
    }
   ],
   "source": [
    "# fieldmappings = arcpy.FieldMappings()\n",
    "# fieldmappings_all = arcpy.FieldMappings()\n",
    "# fieldmappings_all.addTable(grid_lyr)\n",
    "# field_list = ['grid_area','Lat_down','Lon_left','Grid_ID']\n",
    "# for field_i in field_list:\n",
    "#     field_idx = fieldmappings_all.findFieldMapIndex(field_i)\n",
    "#     fieldmappings.addFieldMap(fieldmappings_all.getFieldMap(field_idx))\n",
    "    \n",
    "# fieldmappings_all.addTable(total_lake_afm_mwPG_point_lyr)\n",
    "# field_list = ['hu_c1','hu_c3','hu_c10','hu_c100']\n",
    "# for field_i in field_list:\n",
    "#     field_idx = fieldmappings_all.findFieldMapIndex(field_i)\n",
    "#     field_fieldmap = fieldmappings_all.getFieldMap(field_idx)\n",
    "#     field_fieldmap.mergeRule = \"sum\"\n",
    "#     fieldmappings.addFieldMap(field_fieldmap)\n",
    "\n",
    "# print('Conduct spatial join')\n",
    "# arcpy.SpatialJoin_analysis(grid_lyr, total_lake_afm_mwPG_point_lyr, polygon_afm_mwPG_Count_SJ, \"JOIN_ONE_TO_ONE\",\n",
    "#                            \"KEEP_ALL\", fieldmappings, \"CONTAINS\")\n",
    "# arcpy.MakeFeatureLayer_management(polygon_afm_mwPG_Count_SJ, polygon_afm_mwPG_Count_SJ_lyr)\n",
    "\n",
    "fieldmappings = arcpy.FieldMappings()\n",
    "fieldmappings_all = arcpy.FieldMappings()\n",
    "fieldmappings_all.addTable(polygon_afm_mwPG_Count_SJ_lyr)\n",
    "field_list = ['grid_area','Join_Count','hu_c1','hu_c3','hu_c10','hu_c100','Lat_down','Lon_left','Grid_ID']\n",
    "for field_i in field_list:\n",
    "    field_idx = fieldmappings_all.findFieldMapIndex(field_i)\n",
    "    field_fieldmap = fieldmappings_all.getFieldMap(field_idx)\n",
    "    if field_i=='Join_Count':\n",
    "        outputField=field_fieldmap.outputField\n",
    "        outputField.name='hu_c0'\n",
    "        outputField.alias='hu_c0'\n",
    "        field_fieldmap.outputField=outputField\n",
    "    fieldmappings.addFieldMap(field_fieldmap)\n",
    "\n",
    "fieldmappings_all.addTable(total_lake_afm_mwPG_pi_point_lyr)\n",
    "field_list = ['lake_area','hu_a1','hu_a3','hu_a10','hu_a100']\n",
    "for field_i in field_list:\n",
    "    field_idx = fieldmappings_all.findFieldMapIndex(field_i)\n",
    "    field_fieldmap = fieldmappings_all.getFieldMap(field_idx)\n",
    "    field_fieldmap.mergeRule = \"sum\"\n",
    "    if field_i=='lake_area':\n",
    "        outputField=field_fieldmap.outputField\n",
    "        outputField.name='hu_a0'\n",
    "        outputField.alias='hu_a0'\n",
    "        field_fieldmap.outputField=outputField\n",
    "    fieldmappings.addFieldMap(field_fieldmap)\n",
    "\n",
    "print('Conduct spatial join')\n",
    "arcpy.SpatialJoin_analysis(polygon_afm_mwPG_Count_SJ_lyr, total_lake_afm_mwPG_pi_point_lyr, polygon_afm_mwPG_Count_Area_SJ, \"JOIN_ONE_TO_ONE\",\n",
    "                           \"KEEP_ALL\", fieldmappings, \"CONTAINS\")\n",
    "arcpy.MakeFeatureLayer_management(polygon_afm_mwPG_Count_Area_SJ, polygon_afm_mwPG_Count_Area_SJ_lyr)"
   ]
  },
  {
   "cell_type": "code",
   "execution_count": null,
   "metadata": {},
   "outputs": [
    {
     "data": {
      "text/html": [
       "<div class='gpresult'><h2>Messages</h2><div id='messages' data-messages='[\"Start Time: 2024年12月12日 23:12:25\",\"Succeeded at 2024年12月12日 23:12:25 (Elapsed Time: 0.05 seconds)\"]' data-show='true'><div id = 'default' /></div></div>"
      ],
      "text/plain": [
       "<Result 'Global_grid_shp_1degree_hu_Count_Area'>"
      ]
     },
     "execution_count": 60,
     "metadata": {},
     "output_type": "execute_result"
    }
   ],
   "source": [
    "arcpy.MakeFeatureLayer_management(polygon_afm_mwPG_Count_Area_SJ, polygon_afm_mwPG_Count_Area_SJ_lyr)"
   ]
  },
  {
   "cell_type": "code",
   "execution_count": null,
   "metadata": {},
   "outputs": [],
   "source": [
    "field_list=['hu_c0','hu_c1','hu_c3','hu_c10','hu_c100','hu_a0','hu_a1','hu_a3','hu_a10','hu_a100']\n",
    "for field in field_list:\n",
    "    selectByAttribute(polygon_afm_mwPG_Count_Area_SJ_lyr,'NEW_SELECTION',f'{field} IS NULL')\n",
    "    arcpy.CalculateField_management(polygon_afm_mwPG_Count_Area_SJ_lyr,field,0)\n",
    "selectByAttribute(polygon_afm_mwPG_Count_Area_SJ_lyr,'NEW_SELECTION','')"
   ]
  },
  {
   "cell_type": "code",
   "execution_count": null,
   "metadata": {},
   "outputs": [],
   "source": [
    "target_lyr=polygon_afm_mwPG_Count_Area_SJ_lyr#polygon_afm_mwBL_BG_Count_Area_SJ_lyr\n",
    "join_lyr=PLD_Count_Area_SJ_lyr\n",
    "\n",
    "arcpy.AddField_management(target_lyr,'hu_ap','double')\n",
    "arcpy.AddField_management(target_lyr,'hu_ap_small_lake','double')\n",
    "calculateField(target_lyr,'hu_ap','!hu_a0!/!grid_area!*100')\n",
    "selectByAttribute(target_lyr,\"NEW_SELECTION\",'\"hu_a0\"<> 0')\n",
    "calculateField(target_lyr,'hu_ap_small_lake','(!hu_a1!+!hu_a3!+!hu_a10!+!hu_a100!)/!hu_a0!*100')\n",
    "\n",
    "arcpy.AddField_management(target_lyr,'diff_c0','Long')\n",
    "arcpy.AddField_management(target_lyr,'diff_c_gt1','Long')\n",
    "arcpy.AddField_management(target_lyr,'diff_c3','Long')\n",
    "arcpy.AddField_management(target_lyr,'diff_c10','Long')\n",
    "arcpy.AddField_management(target_lyr,'diff_c100','Long')\n",
    "\n",
    "arcpy.AddField_management(target_lyr,'diff_a0','double')\n",
    "arcpy.AddField_management(target_lyr,'diff_a3','double')\n",
    "arcpy.AddField_management(target_lyr,'diff_a10','double')\n",
    "arcpy.AddField_management(target_lyr,'diff_a100','double')\n",
    "\n",
    "arcpy.management.AddJoin(target_lyr,'Grid_ID',join_lyr,'Grid_ID','keep_all')\n",
    "\n",
    "calculateField(target_lyr,'diff_c0',f'!{target_lyr}.hu_c0!-!{join_lyr}.pld_c0!')\n",
    "calculateField(target_lyr,'diff_c_gt1',f'!{target_lyr}.diff_c0!-!{target_lyr}.hu_c1!')\n",
    "calculateField(target_lyr,'diff_c3',f'!{target_lyr}.hu_c3!-!{join_lyr}.pld_c3!')\n",
    "calculateField(target_lyr,'diff_c10',f'!{target_lyr}.hu_c10!-!{join_lyr}.pld_c10!')\n",
    "calculateField(target_lyr,'diff_c100',f'!{target_lyr}.hu_c100!-!{join_lyr}.pld_c100!')\n",
    "calculateField(target_lyr,'diff_a0',f'!{target_lyr}.hu_a0!-!{join_lyr}.pld_a0!')\n",
    "calculateField(target_lyr,'diff_a3',f'!{target_lyr}.hu_a3!-!{join_lyr}.pld_a3!')\n",
    "calculateField(target_lyr,'diff_a10',f'!{target_lyr}.hu_a10!-!{join_lyr}.pld_a10!')\n",
    "calculateField(target_lyr,'diff_a100',f'!{target_lyr}.hu_a100!-!{join_lyr}.pld_a100!')\n",
    "calculateField(target_lyr,'diff_c0','!hu_c0!-!pld_c0!')\n",
    "calculateField(target_lyr,'diff_c_gt1','!diff_c0!-!hu_c1!')\n",
    "calculateField(target_lyr,'diff_c3','!hu_c3!-!pld_c3!')\n",
    "calculateField(target_lyr,'diff_c10','!hu_c10!-!pld_c10!')\n",
    "calculateField(target_lyr,'diff_c100','!hu_c100!-!pld_c100!')\n",
    "calculateField(target_lyr,'diff_a0','!hu_a0!-!pld_a0!')\n",
    "calculateField(target_lyr,'diff_a3','!hu_a3!-!pld_a3!')\n",
    "calculateField(target_lyr,'diff_a10','!hu_a10!-!pld_a10!')\n",
    "calculateField(target_lyr,'diff_a100','!hu_a100!-!pld_a100!')"
   ]
  },
  {
   "cell_type": "code",
   "execution_count": null,
   "metadata": {},
   "outputs": [],
   "source": []
  }
 ],
 "metadata": {
  "kernelspec": {
   "display_name": "ArcGISPro",
   "language": "Python",
   "name": "python3"
  },
  "language_info": {
   "file_extension": ".py",
   "name": "python",
   "version": "3"
  }
 },
 "nbformat": 4,
 "nbformat_minor": 2
}
