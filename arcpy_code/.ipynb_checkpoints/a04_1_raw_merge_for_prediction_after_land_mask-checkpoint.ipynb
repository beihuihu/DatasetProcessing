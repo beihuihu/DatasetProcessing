{
 "cells": [
  {
   "cell_type": "code",
   "execution_count": 32,
   "metadata": {},
   "outputs": [],
   "source": [
    "import arcpy\n",
    "from arcpy.sa import *\n",
    "import os\n",
    "import time\n",
    "arcpy.env.overwriteOutput = True"
   ]
  },
  {
   "cell_type": "code",
   "execution_count": 33,
   "metadata": {},
   "outputs": [],
   "source": [
    "version='v240306'\n",
    "base_dir = r'D:\\postprocess\\{}'.format(version)\n",
    "dn1_dir=r'J:\\result_0220\\after_land_mask\\region_0228'\n",
    "masked_shp_dn1_merge_path = base_dir + '/shp_dn1_alm_merge.gdb'\n",
    "if not os.path.exists(masked_shp_dn1_merge_path):\n",
    "    arcpy.CreateFileGDB_management(base_dir, \"shp_dn1_alm_merge.gdb\")"
   ]
  },
  {
   "cell_type": "code",
   "execution_count": 34,
   "metadata": {},
   "outputs": [],
   "source": [
    "region_name='as_4'"
   ]
  },
  {
   "cell_type": "code",
   "execution_count": 35,
   "metadata": {},
   "outputs": [
    {
     "name": "stdout",
     "output_type": "stream",
     "text": [
      "mergeshp: 527\n",
      "finish merge\n",
      "time: 1.074362003803253 minutes\n"
     ]
    }
   ],
   "source": [
    "lak_shp = masked_shp_dn1_merge_path + '/lakes_' +region_name+'_raw'\n",
    "if not os.path.exists(lak_shp):\n",
    "    tif2shp_dn1_path = os.path.join(dn1_dir,region_name)\n",
    "    arcpy.env.workspace = tif2shp_dn1_path\n",
    "    start = time.time()\n",
    "    mergeshp = arcpy.ListFeatureClasses()\n",
    "    print('mergeshp:', len(mergeshp))\n",
    "    arcpy.Merge_management(mergeshp, lak_shp) \n",
    "    print('finish merge')\n",
    "    end = time.time()\n",
    "    print (f'time: {(end-start)/60} minutes')"
   ]
  },
  {
   "cell_type": "code",
   "execution_count": 36,
   "metadata": {},
   "outputs": [
    {
     "name": "stdout",
     "output_type": "stream",
     "text": [
      "start Dissolve\n",
      "finish dissolve\n",
      "time: 1.1898867686589558 minutes\n"
     ]
    }
   ],
   "source": [
    "lak_dissolved = lak_shp+'_dissolved'#dissolve geometry\n",
    "if not os.path.exists(lak_dissolved):\n",
    "    start = time.time()\n",
    "    lak_shp_lyr = 'lak_shp_lyr'\n",
    "    arcpy.MakeFeatureLayer_management(lak_shp, lak_shp_lyr)\n",
    "    print('start Dissolve')\n",
    "    dissolveFields = [\"gridcode\"]\n",
    "    arcpy.Dissolve_management(lak_shp_lyr, lak_dissolved, dissolveFields, \"\", \"SINGLE_PART\")#dissolve copylake\n",
    "    lak_dissolved_Layer='lak_dissolved_lyr'\n",
    "    arcpy.MakeFeatureLayer_management(lak_dissolved, lak_dissolved_Layer)\n",
    "    print('finish dissolve')\n",
    "    arcpy.Delete_management(lak_shp)\n",
    "    end = time.time()\n",
    "    print (f'time: {(end-start)/60} minutes')"
   ]
  },
  {
   "cell_type": "code",
   "execution_count": null,
   "metadata": {},
   "outputs": [
    {
     "name": "stdout",
     "output_type": "stream",
     "text": [
      "as_7\n",
      "mergeshp: 652\n",
      "finish merge\n",
      "start Dissolve\n",
      "finish dissolve\n",
      "time: 4.870009223620097 minutes\n",
      "as_8\n",
      "mergeshp: 936\n",
      "finish merge\n",
      "start Dissolve\n"
     ]
    }
   ],
   "source": [
    "region_list=['af_2','as_1','as_3','as_6','as_7','as_8','sa_1','na_1','na_3']\n",
    "for region in region_list:\n",
    "    print(region)\n",
    "    lak_shp = masked_shp_dn1_merge_path + '/lakes_' +region+'_raw'\n",
    "    if not os.path.exists(lak_shp):\n",
    "        tif2shp_dn1_path = os.path.join(dn1_dir,region)\n",
    "        arcpy.env.workspace = tif2shp_dn1_path\n",
    "        start = time.time()\n",
    "        mergeshp = arcpy.ListFeatureClasses()\n",
    "        print('mergeshp:', len(mergeshp))\n",
    "        arcpy.Merge_management(mergeshp, lak_shp) \n",
    "        print('finish merge')\n",
    "        end = time.time()\n",
    "    lak_dissolved = lak_shp+'_dissolved'#dissolve geometry\n",
    "    if not os.path.exists(lak_dissolved):\n",
    "        start = time.time()\n",
    "        lak_shp_lyr = 'lak_shp_lyr'\n",
    "        arcpy.MakeFeatureLayer_management(lak_shp, lak_shp_lyr)\n",
    "        print('start Dissolve')\n",
    "        dissolveFields = [\"gridcode\"]\n",
    "        arcpy.Dissolve_management(lak_shp_lyr, lak_dissolved, dissolveFields, \"\", \"SINGLE_PART\")#dissolve copylake\n",
    "        lak_dissolved_Layer='lak_dissolved_lyr'\n",
    "        arcpy.MakeFeatureLayer_management(lak_dissolved, lak_dissolved_Layer)\n",
    "        print('finish dissolve')\n",
    "        arcpy.Delete_management(lak_shp)\n",
    "        end = time.time()\n",
    "        print (f'time: {(end-start)/60} minutes')"
   ]
  },
  {
   "cell_type": "code",
   "execution_count": null,
   "metadata": {},
   "outputs": [],
   "source": []
  }
 ],
 "metadata": {
  "kernelspec": {
   "display_name": "ArcGISPro",
   "language": "Python",
   "name": "python3"
  },
  "language_info": {
   "file_extension": ".py",
   "name": "python",
   "version": "3"
  }
 },
 "nbformat": 4,
 "nbformat_minor": 2
}
