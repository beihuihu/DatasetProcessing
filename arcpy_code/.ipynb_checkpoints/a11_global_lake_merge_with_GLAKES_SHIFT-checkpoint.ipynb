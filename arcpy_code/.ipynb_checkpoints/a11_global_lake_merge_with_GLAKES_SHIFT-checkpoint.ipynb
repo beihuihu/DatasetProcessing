{
 "cells": [
  {
   "cell_type": "code",
   "execution_count": 1,
   "metadata": {},
   "outputs": [],
   "source": [
    "import arcpy\n",
    "from arcpy.sa import *\n",
    "import os\n",
    "import time\n",
    "arcpy.env.overwriteOutput = True"
   ]
  },
  {
   "cell_type": "code",
   "execution_count": 2,
   "metadata": {},
   "outputs": [],
   "source": [
    "# load input features and make layer\n",
    "version='v15_241128'\n",
    "sub_v=''\n",
    "stastic_v=f'{version}{sub_v}'\n",
    "# stastic_v=f'{version}'\n",
    "output_dir = os.path.join(r'J:\\lakemapping\\postprocess',version)\n",
    "\n",
    "auxiliary_dataset_gdb=r'D:\\postprocess\\v240220\\auxiliary_dataset.gdb'\n",
    "stastics_gdb=os.path.join(output_dir,f'0_summary_stastics{sub_v}.gdb')\n",
    "polygon_iwR_gdb=os.path.join(output_dir,'2_polygon_iw_River.gdb')\n",
    "after_mask_gdb=os.path.join(output_dir,f'3_polygon_after_rivermask.gdb')\n",
    "mwBL_gdb=os.path.join(output_dir,f'4_polygon_afm_mergeWith_BigLake.gdb')\n",
    "merge_data_gdb=os.path.join(output_dir,f'4_merge_process.gdb')\n",
    "merge_gdb=os.path.join(output_dir,f'5_polygon_afm_mergeWith_GLAKES_PLD.gdb')\n",
    "point_gdb=os.path.join(output_dir,f'6_point{sub_v}.gdb')\n",
    "excel_dir=os.path.join(output_dir,f'stastics_excel{sub_v}')\n",
    "\n",
    "if not os.path.exists(stastics_gdb):\n",
    "    arcpy.CreateFileGDB_management(output_dir,f'0_summary_stastics{sub_v}.gdb')\n",
    "if not os.path.exists(point_gdb):\n",
    "    arcpy.CreateFileGDB_management(output_dir,f'point{sub_v}.gdb')\n",
    "if not os.path.exists(merge_gdb):\n",
    "    arcpy.CreateFileGDB_management(output_dir,f'5_polygon_afm_mergeWith_GLAKES_PLD{sub_v}.gdb')"
   ]
  },
  {
   "cell_type": "code",
   "execution_count": 3,
   "metadata": {},
   "outputs": [
    {
     "name": "stdout",
     "output_type": "stream",
     "text": [
      "v15_241128\n"
     ]
    }
   ],
   "source": [
    "print(stastic_v)"
   ]
  },
  {
   "cell_type": "code",
   "execution_count": 4,
   "metadata": {},
   "outputs": [],
   "source": [
    "eight_continents=['Asia','Siberia','Africa','Europe','Oceania_Anta','North_America','Arctic','South_America']"
   ]
  },
  {
   "cell_type": "code",
   "execution_count": 5,
   "metadata": {},
   "outputs": [],
   "source": [
    "def selectByLocation(inputFeature,overlapType,selectionFeature,selectionType='NEW_SELECTION'):\n",
    "    arcpy.SelectLayerByLocation_management(inputFeature,overlapType,selectionFeature,selection_type=selectionType)\n",
    "    \n",
    "def selectByAttribute(inputFeature,selectionType='NEW_SELECTION',code=''):\n",
    "    arcpy.management.SelectLayerByAttribute(inputFeature,selectionType,code)\n",
    "    \n",
    "def calculateField(inputFeature,field,code):\n",
    "    arcpy.CalculateField_management(inputFeature, field,code)\n",
    "\n",
    "def cal_continent(lyr):\n",
    "    for i in range(0,6):\n",
    "        continent=seven_continents[i]\n",
    "        selectByAttribute(continent_lyr,'NEW_SELECTION',f\"Continent = '{continent}'\")\n",
    "        selectByAttribute(lyr,'NEW_SELECTION',\"Continent IS NULL\")\n",
    "        selectByLocation(lyr,'HAVE_THEIR_CENTER_IN',continent_lyr,'SUBSET_SELECTION')\n",
    "        calculateField(lyr,'Continent',f\"'{continent}'\")\n",
    "    arcpy.AddField_management(lyr, 'Continent', \"Text\")\n",
    "    selectByAttribute(lyr,'NEW_SELECTION',\"Continent = 'Asia'\")\n",
    "    selectByLocation(lyr,'HAVE_THEIR_CENTER_IN','si','SUBSET_SELECTION')\n",
    "    arcpy.CalculateField_management(lyr, \"continent\",\"'Siberia'\")\n",
    "    selectByLocation(lyr,'HAVE_THEIR_CENTER_IN','ar','NEW_SELECTION')\n",
    "    arcpy.CalculateField_management(lyr, \"Continent\",\"'Arctic'\")\n",
    "        \n",
    "def add_Res_flag(inputFeature):\n",
    "    selectByAttribute(inputFeature,'NEW_SELECTION', 'flag IS NULL OR \"flag\" <= 1 ')\n",
    "    selectByLocation(inputFeature,'INTERSECT',osm_reservoir,'SUBSET_SELECTION')\n",
    "    arcpy.CalculateField_management(inputFeature, 'flag',  3)\n",
    "\n",
    "    selectByAttribute(inputFeature,'NEW_SELECTION', 'flag IS NULL OR \"flag\" <= 1 ')\n",
    "    selectByLocation(inputFeature,'INTERSECT',GeoDAR,'SUBSET_SELECTION')\n",
    "    arcpy.CalculateField_management(inputFeature, 'flag',  4)"
   ]
  },
  {
   "cell_type": "code",
   "execution_count": null,
   "metadata": {},
   "outputs": [],
   "source": [
    "osm_reservoir=os.path.join(auxiliary_dataset_gdb,'osm_natural_water_reservoir')\n",
    "arcpy.MakeFeatureLayer_management(osm_reservoir,'osm_reservoir')\n",
    "\n",
    "GeoDAR=r'D:\\lakemapping\\0_auxiliary_data\\GeoDAR\\GeoDAR_v10_v11\\GeoDAR_v11_reservoirs.shp'\n",
    "arcpy.MakeFeatureLayer_management(GeoDAR,'GeoDAR')"
   ]
  },
  {
   "cell_type": "code",
   "execution_count": null,
   "metadata": {},
   "outputs": [],
   "source": [
    "GLAKES_Res=os.path.join(auxiliary_dataset_gdb,'GLAKES_Res')\n",
    "arcpy.MakeFeatureLayer_management(GLAKES_Res,'GLAKES_Res')\n",
    "\n",
    "GLAKES_natural_lake=os.path.join(auxiliary_dataset_gdb,'GLAKES_gte1_natural_lake')\n",
    "arcpy.MakeFeatureLayer_management(GLAKES_natural_lake,'GLAKES_natural_lake')"
   ]
  },
  {
   "cell_type": "code",
   "execution_count": 10,
   "metadata": {},
   "outputs": [
    {
     "data": {
      "text/html": [
       "<div class='gpresult'><h2>Messages</h2><div id='messages' data-messages='[\"Start Time: 2024年11月30日 13:47:46\",\"Succeeded at 2024年11月30日 13:47:46 (Elapsed Time: 0.01 seconds)\"]' data-show='true'><div id = 'default' /></div></div>"
      ],
      "text/plain": [
       "<Result 'si'>"
      ]
     },
     "execution_count": 10,
     "metadata": {},
     "output_type": "execute_result"
    }
   ],
   "source": [
    "continent=r'D:\\lakemapping\\0_auxiliary_data\\World_Continents\\World_Continents.shp'\n",
    "continent_lyr='continent'\n",
    "arcpy.MakeFeatureLayer_management(continent,continent_lyr)\n",
    "\n",
    "ar=os.path.join(auxiliary_dataset_gdb,'ar')\n",
    "arcpy.MakeFeatureLayer_management(ar,'ar')\n",
    "\n",
    "ar=os.path.join(auxiliary_dataset_gdb,'si')\n",
    "arcpy.MakeFeatureLayer_management(ar,'si')"
   ]
  },
  {
   "cell_type": "code",
   "execution_count": null,
   "metadata": {},
   "outputs": [],
   "source": [
    "arcpy.MakeFeatureLayer_management(GLAKES_gte1_Rser,GLAKES_gte1_Rser_lyr)"
   ]
  },
  {
   "cell_type": "markdown",
   "metadata": {},
   "source": [
    "### 1.3 获得mask后结果"
   ]
  },
  {
   "cell_type": "code",
   "execution_count": null,
   "metadata": {},
   "outputs": [],
   "source": [
    "arcpy.MakeFeatureLayer_management(lakes_iwBR,lakes_iwBR_lyr)\n",
    "# arcpy.MakeFeatureLayer_management(total_lakes_arm,total_lakes_arm_lyr)"
   ]
  },
  {
   "cell_type": "code",
   "execution_count": null,
   "metadata": {},
   "outputs": [],
   "source": [
    "out_table=os.path.join(stastics_gdb,'iwBR_afm_stastics')\n",
    "arcpy.analysis.Statistics(lakes_iwBR_afm_lyr, out_table, [['area',\"sum\"]], ['Continent','operate']) \n",
    "file_name='iwBR_afm_stastics.xls'\n",
    "Output_Excel_File=os.path.join(excel_dir,file_name)\n",
    "arcpy.conversion.TableToExcel(out_table, Output_Excel_File)"
   ]
  },
  {
   "cell_type": "code",
   "execution_count": null,
   "metadata": {},
   "outputs": [],
   "source": [
    "selectByAttribute(lakes_iwBR_lyr,'NEW_SELECTION','\"operate\" = 0.5 OR operate IS NULL')\n",
    "selectByLocation(total_lakes_arm_lyr, 'WITHIN', lakes_iwBR_lyr,'NEW_SELECTION')\n",
    "selectByAttribute(total_lakes_arm_lyr,'SUBSET_SELECTION','\"operate\" IS NULL')\n",
    "selectByAttribute(total_lakes_arm_lyr,'ADD_TO_SELECTION','\"operate\" = 1')\n",
    "selectByAttribute(lakes_iwBR_lyr,'NEW_SELECTION','\"operate\">= 1')\n",
    "fieldmappings = arcpy.FieldMappings()\n",
    "fieldmappings_all = arcpy.FieldMappings()\n",
    "fieldmappings_all.addTable(lakes_iwBR_lyr)#未mask\n",
    "fieldmappings_all.addTable(total_lakes_arm_lyr)\n",
    "field_list = ['area','iwR','iwG','flag','Continent','operate']\n",
    "for field_i in field_list:\n",
    "        field_idx = fieldmappings_all.findFieldMapIndex(field_i)\n",
    "        fieldmappings.addFieldMap(fieldmappings_all.getFieldMap(field_idx))\n",
    "arcpy.Merge_management([lakes_iwBR_lyr,total_lakes_arm_lyr],lakes_iwBR_afterMask,fieldmappings)\n",
    "arcpy.MakeFeatureLayer_management(lakes_iwBR_afterMask,lakes_iwBR_afm_lyr)\n",
    "selectByAttribute(lakes_iwBR_afm_lyr,'NEW_SELECTION','area IS NULL')\n",
    "arcpy.CalculateField_management(lakes_iwBR_afm_lyr, \"area\",  \"!shape.geodesicArea@SQUAREKILOMETERS!\", \"PYTHON_9.3\")"
   ]
  },
  {
   "cell_type": "code",
   "execution_count": null,
   "metadata": {},
   "outputs": [],
   "source": [
    "arcpy.AddField_management(lakes_iwBR_afm_lyr, 'iwBL', \"Short\")\n",
    "selectByLocation(lakes_iwBR_afm_lyr,'INTERSECT',big_lakes_lyr)\n",
    "calculateField(lakes_iwBR_afm_lyr,'iwBL',1)\n",
    "selectByAttribute(lakes_iwBR_afm_lyr,'NEW_SELECTION','iwBL IS NULL')\n",
    "calculateField(lakes_iwBR_afm_lyr,'iwBL',0)"
   ]
  },
  {
   "cell_type": "code",
   "execution_count": null,
   "metadata": {},
   "outputs": [],
   "source": [
    "arcpy.MakeFeatureLayer_management(lakes_iwBR_afterMask,lakes_iwBR_afm_lyr)"
   ]
  },
  {
   "cell_type": "code",
   "execution_count": null,
   "metadata": {},
   "outputs": [],
   "source": [
    "out_table=os.path.join(stastics_gdb,f'{stastic_v}_iwBR_afm_stastics')\n",
    "arcpy.analysis.Statistics(lakes_iwBR_afm_lyr, out_table, [['area',\"sum\"]], ['Continent','iwBL']) \n",
    "file_name=f'{stastic_v}_iwBR_afm_stastics.xls'\n",
    "Output_Excel_File=os.path.join(excel_dir,file_name)\n",
    "arcpy.conversion.TableToExcel(out_table, Output_Excel_File)"
   ]
  },
  {
   "cell_type": "code",
   "execution_count": null,
   "metadata": {},
   "outputs": [],
   "source": [
    "for i in range(0,1):\n",
    "    continent=eight_continents[i]\n",
    "    print(continent)\n",
    "    lakes_niwBR=os.path.join(polygon_iwR_gdb,'lakes_'+continent+'_niwBR')\n",
    "    lakes_niwBR_lyr='lakes_'+continent+'_niwBR'\n",
    "    lakes_niwBR_afm_lyr='lakes_'+continent+'_niwBR_afm'\n",
    "    lakes_niwBR_afm=os.path.join(after_mask_gdb,'lakes_'+continent+'_niwBR_afterMask')\n",
    "    \n",
    "    arcpy.MakeFeatureLayer_management(lakes_niwBR,lakes_niwBR_lyr)\n",
    "    selectByAttribute(lakes_niwBR_lyr,'NEW_SELECTION','operate<> 0 or operate IS NULL')\n",
    "    arcpy.conversion.ExportFeatures(lakes_niwBR_lyr,lakes_niwBR_afm)\n",
    "    \n",
    "    arcpy.MakeFeatureLayer_management(lakes_niwBR_afm,lakes_niwBR_afm_lyr)\n",
    "    out_table=os.path.join(stastics_gdb,f'{stastic_v}_{continent}_niwBR_afm_v1_stastics')\n",
    "    arcpy.analysis.Statistics(lakes_niwBR_afm_lyr, out_table, [['area',\"sum\"]], ['iwBL']) "
   ]
  },
  {
   "cell_type": "code",
   "execution_count": null,
   "metadata": {},
   "outputs": [],
   "source": [
    "for i in range(0,8):\n",
    "    continent=eight_continents[i]\n",
    "    lakes_niwBR_lyr='lakes_'+continent+'_niwBR'\n",
    "    lakes_niwBR_afm_lyr='lakes_'+continent+'_niwBR_afm'\n",
    "    selectByLocation(lakes_niwBR_lyr,'INTERSECT',big_lakes_lyr)\n",
    "    selectByLocation(lakes_niwBR_afm_lyr,'INTERSECT',big_lakes_lyr)\n",
    "selectByLocation(lakes_iwBR_lyr,'INTERSECT',big_lakes_lyr)\n",
    "selectByLocation(lakes_iwBR_afm_lyr,'INTERSECT',big_lakes_lyr)"
   ]
  },
  {
   "cell_type": "code",
   "execution_count": null,
   "metadata": {},
   "outputs": [],
   "source": [
    "out_table=os.path.join(stastics_gdb,f'{stastic_v}_iwBR_afm_stastics')\n",
    "arcpy.analysis.Statistics(lakes_iwBR_afm_lyr, out_table, [['area',\"sum\"]], ['Continent']) "
   ]
  },
  {
   "cell_type": "code",
   "execution_count": null,
   "metadata": {},
   "outputs": [],
   "source": [
    "out_table=os.path.join(stastics_gdb,f'{stastic_v}_iwBR_afm_stastics')\n",
    "input_table_afm_list=[out_table]\n",
    "for i in range(0,8):\n",
    "    continent=eight_continents[i]\n",
    "    out_table=os.path.join(stastics_gdb,f'{stastic_v}_{continent}_niwBR_afm_stastics')\n",
    "    input_table_afm_list.append(out_table)\n",
    "file_name=f'{stastic_v}_a_sum_afm_iwBL_stastics.xls'\n",
    "Output_Excel_File=os.path.join(excel_dir,file_name)\n",
    "arcpy.conversion.TableToExcel(input_table_afm_list, Output_Excel_File)"
   ]
  },
  {
   "cell_type": "markdown",
   "metadata": {
    "heading_collapsed": true
   },
   "source": [
    "## check"
   ]
  },
  {
   "cell_type": "code",
   "execution_count": null,
   "metadata": {
    "hidden": true,
    "scrolled": true
   },
   "outputs": [],
   "source": [
    "for i in range(0,8):\n",
    "    continent=eight_continents[i]\n",
    "    print(continent)\n",
    "    lakes_niwBR_afm_lyr='lakes_'+continent+'_niwBR_afm'\n",
    "    lakes_niwBR_afm=os.path.join(after_mask_gdb,'lakes_'+continent+'_niwBR_afterMask')\n",
    "#     arcpy.MakeFeatureLayer_management(lakes_niwBR_afm,lakes_niwBR_afm_lyr)\n",
    "    selectByAttribute(lakes_niwBR_afm_lyr,'NEW_SELECTION','area IS NULL')"
   ]
  },
  {
   "cell_type": "code",
   "execution_count": null,
   "metadata": {
    "hidden": true
   },
   "outputs": [],
   "source": [
    "selectByAttribute(lakes_iwBR_afm_lyr,'NEW_SELECTION','area IS NULL')"
   ]
  },
  {
   "cell_type": "code",
   "execution_count": null,
   "metadata": {
    "hidden": true
   },
   "outputs": [],
   "source": [
    "selectByAttribute(big_lakes_lyr,'NEW_SELECTION','area IS NULL')"
   ]
  },
  {
   "cell_type": "code",
   "execution_count": null,
   "metadata": {
    "hidden": true
   },
   "outputs": [],
   "source": [
    "input_table_list=[]\n",
    "for i in range(0,8):\n",
    "    continent=eight_continents[i]\n",
    "    print(continent)\n",
    "    lakes_niwBR=os.path.join(polygon_iwR_gdb,'lakes_'+continent+'_niwBR')\n",
    "    lakes_niwBR_lyr='lakes_'+continent+'_niwBR'\n",
    "    arcpy.MakeFeatureLayer_management(lakes_niwBR,lakes_niwBR_lyr)\n",
    "    selectByAttribute(lakes_niwBR_lyr,'NEW_SELECTION','area IS NULL')\n",
    "#     out_table=os.path.join(stastics_gdb,'lakes_'+continent+'_niwBR_stastics')\n",
    "#     arcpy.analysis.Statistics(lakes_niwBR_lyr, out_table, [['area',\"sum\"]], ['operate']) \n",
    "#     input_table_list.append(out_table)\n",
    "# file_name=f'{stastic_v}_niwBR_stastics.xls'\n",
    "# Output_Excel_File=os.path.join(excel_dir,file_name)\n",
    "# arcpy.conversion.TableToExcel(input_table_list, Output_Excel_File)\n",
    "# #     selectByLocation(lakes_niwBR_lyr,'INTERSECT',big_lakes_lyr)\n",
    "#     calculateField(lakes_niwBR_lyr,'iwBL',1)\n",
    "#     selectByAttribute(lakes_niwBR_lyr,'NEW_SELECTION','iwBL IS NULL')\n",
    "#     calculateField(lakes_niwBR_lyr,'iwBL',0)"
   ]
  },
  {
   "cell_type": "code",
   "execution_count": null,
   "metadata": {
    "hidden": true
   },
   "outputs": [],
   "source": [
    "selectByAttribute(lakes_iwBR_lyr,'NEW_SELECTION','area IS NULL')"
   ]
  },
  {
   "cell_type": "code",
   "execution_count": null,
   "metadata": {
    "hidden": true
   },
   "outputs": [],
   "source": [
    "selectByAttribute(big_lakes_lyr,'NEW_SELECTION','Shape_Area IS NULL')"
   ]
  },
  {
   "cell_type": "markdown",
   "metadata": {
    "heading_collapsed": true
   },
   "source": [
    "## 2，将mask后结果与big_lakes合并，得到的数据存在4_mwBL_gdb"
   ]
  },
  {
   "cell_type": "code",
   "execution_count": null,
   "metadata": {
    "hidden": true
   },
   "outputs": [],
   "source": [
    "merge_list=[lakes_iwBR_afm_lyr]\n",
    "selectByAttribute(lakes_iwBR_afm_lyr,'NEW_SELECTION',\"iwBL = 1\")\n",
    "for continent in eight_continents:\n",
    "    lakes_niwBR_afm_lyr='lakes_'+continent+'_niwBR_afm'\n",
    "    if continent == 'Asia':\n",
    "        lakes_niwBR_afm=os.path.join(after_mask_gdb,'lakes_'+continent+'_niwBR_afterMask_v1')\n",
    "    else:\n",
    "        lakes_niwBR_afm=os.path.join(after_mask_gdb,'lakes_'+continent+'_niwBR_afterMask')\n",
    "    arcpy.MakeFeatureLayer_management(lakes_niwBR_afm,lakes_niwBR_afm_lyr)\n",
    "    merge_list.append(lakes_niwBR_afm_lyr)\n",
    "    selectByAttribute(lakes_niwBR_afm_lyr,'NEW_SELECTION',\"iwBL = 1\")\n",
    "#把iwBL=1的湖泊与big lake文件合并，并融合\n",
    "merge_list.append(big_lakes_lyr)\n",
    "print(merge_list)\n",
    "\n",
    "start=time.time()\n",
    "arcpy.Merge_management(merge_list,a_iwBL_merge_with_BL_raw)\n",
    "arcpy.MakeFeatureLayer_management(a_iwBL_merge_with_BL_raw, a_iwBL_merge_with_BL_raw_lyr)#global_lakes_afm_merged_with_GBL\n",
    "end=time.time()\n",
    "print(f'time:{end-start}s')"
   ]
  },
  {
   "cell_type": "code",
   "execution_count": null,
   "metadata": {
    "hidden": true
   },
   "outputs": [],
   "source": [
    "arcpy.MakeFeatureLayer_management(a_iwBL_merge_with_BL_raw, a_iwBL_merge_with_BL_raw_lyr)"
   ]
  },
  {
   "cell_type": "code",
   "execution_count": null,
   "metadata": {
    "hidden": true
   },
   "outputs": [],
   "source": [
    "start=time.time()\n",
    "print('start Dissolve')\n",
    "arcpy.Dissolve_management(a_iwBL_merge_with_BL_raw_lyr, a_iwBL_merge_with_BL,\"\", \"\", \"SINGLE_PART\")#dissolve copylake\n",
    "arcpy.MakeFeatureLayer_management(a_iwBL_merge_with_BL, a_iwBL_merge_with_BL_lyr)\n",
    "arcpy.AddField_management(a_iwBL_merge_with_BL_lyr,\"area\",\"Double\")\n",
    "arcpy.CalculateField_management(a_iwBL_merge_with_BL_lyr, \"area\",  \"!shape.geodesicArea@SQUAREKILOMETERS!\", \"PYTHON_9.3\")\n",
    "end=time.time()\n",
    "print(f'time:{end-start}s')"
   ]
  },
  {
   "cell_type": "code",
   "execution_count": null,
   "metadata": {
    "hidden": true
   },
   "outputs": [],
   "source": [
    "arcpy.management.DeleteIdentical(a_iwBL_merge_with_BL_lyr,['area','Shape_Length','Shape_Area'],\"5 Meters\")"
   ]
  },
  {
   "cell_type": "code",
   "execution_count": null,
   "metadata": {
    "hidden": true
   },
   "outputs": [],
   "source": [
    "# arcpy.MakeFeatureLayer_management(a_iwBL_merge_with_BL, a_iwBL_merge_with_BL_lyr)\n",
    "# arcpy.AddField_management(a_iwBL_merge_with_BL_lyr, 'iwBL', \"short\")\n",
    "# calculateField(a_iwBL_merge_with_BL_lyr, \"iwBL\",1)\n",
    "# arcpy.AddField_management(a_iwBL_merge_with_BL_lyr, 'Continent', \"Text\")\n",
    "cal_continent(a_iwBL_merge_with_BL_lyr)\n",
    "arcpy.AddField_management(a_iwBL_merge_with_BL_lyr, 'flag', \"short\")"
   ]
  },
  {
   "cell_type": "code",
   "execution_count": null,
   "metadata": {
    "hidden": true
   },
   "outputs": [],
   "source": []
  },
  {
   "cell_type": "code",
   "execution_count": null,
   "metadata": {
    "hidden": true
   },
   "outputs": [],
   "source": [
    "arcpy.management.Delete(a_iwBL_merge_with_BL_raw)\n",
    "selectByLocation(a_iwBL_merge_with_BL_lyr, 'INTERSECT', GLAKES_natural_lake)\n",
    "calculateField(a_iwBL_merge_with_BL_lyr, \"flag\",1)\n",
    "selectByLocation(a_iwBL_merge_with_BL_lyr, 'INTERSECT', GLAKES_Res)\n",
    "calculateField(a_iwBL_merge_with_BL_lyr, \"flag\",2)"
   ]
  },
  {
   "cell_type": "code",
   "execution_count": null,
   "metadata": {
    "hidden": true
   },
   "outputs": [],
   "source": [
    "add_Res_flag(a_iwBL_merge_with_BL_lyr)"
   ]
  },
  {
   "cell_type": "code",
   "execution_count": null,
   "metadata": {
    "hidden": true
   },
   "outputs": [],
   "source": [
    "arcpy.MakeFeatureLayer_management(a_iwBL_merge_with_BL, a_iwBL_merge_with_BL_lyr)"
   ]
  },
  {
   "cell_type": "code",
   "execution_count": null,
   "metadata": {
    "hidden": true
   },
   "outputs": [],
   "source": [
    "out_table=os.path.join(stastics_gdb,f'{stastic_v}_a_iwBL_merge_with_BL_stastics')\n",
    "arcpy.analysis.Statistics(a_iwBL_merge_with_BL_lyr, out_table, [['area',\"sum\"]], ['flag']) \n",
    "file_name=f'{stastic_v}_a_iwBL_merge_with_BL_stastics.xls'\n",
    "Output_Excel_File=os.path.join(excel_dir,file_name)\n",
    "arcpy.conversion.TableToExcel(out_table, Output_Excel_File)"
   ]
  },
  {
   "cell_type": "code",
   "execution_count": null,
   "metadata": {
    "hidden": true
   },
   "outputs": [],
   "source": [
    "out_table=os.path.join(stastics_gdb,f'{stastic_v}_a_iwBL_merge_with_BL_continent_stastics')\n",
    "arcpy.analysis.Statistics(a_iwBL_merge_with_BL_lyr, out_table, [['area',\"sum\"]], ['continent']) \n",
    "file_name=f'{stastic_v}_a_iwBL_merge_with_BL_conntinent_stastics.xls'\n",
    "Output_Excel_File=os.path.join(excel_dir,file_name)\n",
    "arcpy.conversion.TableToExcel(out_table, Output_Excel_File)"
   ]
  },
  {
   "cell_type": "code",
   "execution_count": null,
   "metadata": {
    "hidden": true
   },
   "outputs": [],
   "source": [
    "# ['Asia','Africa','Europe','Oceania_Anta','North_America','South_America']\n",
    "for i in [0]:#range(0,8):\n",
    "    continent=eight_continents[i]\n",
    "    print(continent)\n",
    "    selectByAttribute(a_iwBL_merge_with_BL_lyr,'NEW_SELECTION',f\"Continent = '{continent}'\")\n",
    "    \n",
    "    selectByAttribute(lakes_iwBR_afm_lyr,'NEW_SELECTION',f\"iwBL = 0 AND Continent = '{continent}'\")\n",
    "    lakes_niwBR_afm=os.path.join(after_mask_gdb,'lakes_'+continent+'_niwBR_afterMask')\n",
    "    lakes_niwBR_afm_lyr='lakes_'+continent+'_niwBR_afm'\n",
    "#     arcpy.MakeFeatureLayer_management(lakes_niwBR_afm,lakes_niwBR_afm_lyr)\n",
    "    \n",
    "    selectByAttribute(lakes_niwBR_afm_lyr,'NEW_SELECTION',f\"iwBL = 0\")\n",
    "    b_lake_afm_merge_with_BL=os.path.join(mwBL_gdb,f'b{i+1}_{continent}_polygon_afm_mwBL')\n",
    "    b_lake_afm_merge_with_BL_lyr=f'b{i+1}_{continent}_lake_afm_merge_with_BL'\n",
    "    \n",
    "    field_list=['area','operate','iwBL','flag']\n",
    "    fieldmappings = arcpy.FieldMappings()\n",
    "    fieldmappings_all = arcpy.FieldMappings()\n",
    "    fieldmappings_all.addTable(lakes_niwBR_afm_lyr)\n",
    "    for field_i in field_list:\n",
    "        field_idx = fieldmappings_all.findFieldMapIndex(field_i)\n",
    "        fieldmappings.addFieldMap(fieldmappings_all.getFieldMap(field_idx))\n",
    "        \n",
    "    arcpy.Merge_management([lakes_niwBR_afm_lyr,a_iwBL_merge_with_BL_lyr,lakes_iwBR_afm_lyr],b_lake_afm_merge_with_BL,field_mappings=fieldmappings)\n",
    "    arcpy.MakeFeatureLayer_management(b_lake_afm_merge_with_BL, b_lake_afm_merge_with_BL_lyr)\n",
    "#     选出和big glakes合并的湖泊及原先flag=3、4的湖泊，赋值2.5\n",
    "    selectByAttribute(b_lake_afm_merge_with_BL_lyr,'NEW_SELECTION','flag > 2 OR flag = 0 OR flag IS NULL')\n",
    "    selectByLocation(b_lake_afm_merge_with_BL_lyr, 'INTERSECT', GLAKES_gte1_Rser_lyr,'SUBSET_SELECTION')\n",
    "    calculateField(b_lake_afm_merge_with_BL_lyr, \"flag\",2.5)\n",
    "    selectByAttribute(b_lake_afm_merge_with_BL_lyr,'NEW_SELECTION','')\n",
    "    out_table=os.path.join(stastics_gdb,f'{stastic_v}_b{i+1}_{continent}_lakes_merge_with_BL_stastics')\n",
    "    arcpy.analysis.Statistics(b_lake_afm_merge_with_BL_lyr, out_table, [['area',\"sum\"]], ['flag']) "
   ]
  },
  {
   "cell_type": "code",
   "execution_count": null,
   "metadata": {
    "hidden": true
   },
   "outputs": [],
   "source": []
  },
  {
   "cell_type": "code",
   "execution_count": null,
   "metadata": {
    "hidden": true
   },
   "outputs": [],
   "source": [
    "selectByLocation(b_lake_afm_merge_with_BL_lyr, 'INTERSECT', GLAKES_gte1_Rser_lyr,'SUBSET_SELECTION')\n",
    "calculateField(b_lake_afm_merge_with_BL_lyr, \"flag\",2.5)\n",
    "selectByAttribute(b_lake_afm_merge_with_BL_lyr,'NEW_SELECTION','')\n",
    "out_table=os.path.join(stastics_gdb,f'{stastic_v}_{continent}_lakes_merge_with_BL_stastics')\n",
    "arcpy.analysis.Statistics(b_lake_afm_merge_with_BL_lyr, out_table, [['area',\"sum\"]], ['flag']) "
   ]
  },
  {
   "cell_type": "code",
   "execution_count": null,
   "metadata": {
    "hidden": true
   },
   "outputs": [],
   "source": [
    "for i in range(0,1):\n",
    "    continent=eight_continents[i]\n",
    "    print(continent)\n",
    "    b_lake_afm_merge_with_BL_lyr=f'b{i+1}_{continent}_lake_afm_merge_with_BL'\n",
    "    b_lake_afm_merge_with_BL=os.path.join(mwBL_gdb,f'b{i+1}_{continent}_polygon_afm_mwBL')\n",
    "    arcpy.MakeFeatureLayer_management(b_lake_afm_merge_with_BL, b_lake_afm_merge_with_BL_lyr)\n",
    "#     selectByAttribute(b_lake_afm_merge_with_BL_lyr,'NEW_SELECTION','area IS NULL')"
   ]
  },
  {
   "cell_type": "code",
   "execution_count": null,
   "metadata": {
    "hidden": true
   },
   "outputs": [],
   "source": [
    "input_table_b_list=[]\n",
    "for i in range(0,8):\n",
    "    continent=eight_continents[i]\n",
    "    out_table=os.path.join(stastics_gdb,f'{stastic_v}_b{i+1}_{continent}_lakes_merge_with_BL_stastics')\n",
    "    input_table_b_list.append(out_table)\n",
    "file_name=f'{stastic_v}_sum_lakes_afm_mwBL_stastics.xls'\n",
    "Output_Excel_File=os.path.join(excel_dir,file_name)\n",
    "arcpy.conversion.TableToExcel(input_table_b_list, Output_Excel_File)"
   ]
  },
  {
   "cell_type": "code",
   "execution_count": null,
   "metadata": {
    "hidden": true
   },
   "outputs": [],
   "source": [
    "# selectByLocation(b_lake_afm_merge_with_BL_lyr, 'INTERSECT', GLAKES_gte1_Rser_lyr,'SUBSET_SELECTION')\n",
    "# calculateField(b_lake_afm_merge_with_BL_lyr, \"flag\",2.5)\n",
    "# selectByAttribute(b_lake_afm_merge_with_BL_lyr,'NEW_SELECTION','')\n",
    "\n",
    "# out_table=os.path.join(stastics_gdb,f'{stastic_v}_{continent}_lakes_merge_with_BL_stastics')\n",
    "# input_table_b_list.append(out_table)\n",
    "# arcpy.analysis.Statistics(b_lake_afm_merge_with_BL_lyr, out_table, [['area',\"sum\"]], ['flag']) "
   ]
  },
  {
   "cell_type": "markdown",
   "metadata": {},
   "source": [
    "## 3，将b结果与big_GLAKES合并，得到的数据存在mwBG.gdb"
   ]
  },
  {
   "cell_type": "markdown",
   "metadata": {},
   "source": [
    "### 3.1 合并"
   ]
  },
  {
   "cell_type": "code",
   "execution_count": null,
   "metadata": {},
   "outputs": [],
   "source": [
    "# supplement_lake=os.path.join(mwBL_gdb,'supplement_lake')\n",
    "# supplement_lake_lyr='supplement_lake'\n",
    "# arcpy.MakeFeatureLayer_management(supplement_lake, supplement_lake_lyr)"
   ]
  },
  {
   "cell_type": "code",
   "execution_count": null,
   "metadata": {},
   "outputs": [],
   "source": [
    "merge_list_BG=[]\n",
    "start=time.time()\n",
    "# old_mwBL_gdb=os.path.join(output_dir,f'4_polygon_afm_mergeWith_BigLake.gdb')\n",
    "for i in range(0,8):\n",
    "    continent=eight_continents[i]\n",
    "    b_lake_afm_merge_with_BL=os.path.join(mwBL_gdb,f'b{i+1}_{continent}_polygon_afm_mwBL')\n",
    "    b_lake_afm_merge_with_BL_lyr=f'b{i+1}_{continent}_lake_afm_merge_with_BL'\n",
    "    arcpy.MakeFeatureLayer_management(b_lake_afm_merge_with_BL, b_lake_afm_merge_with_BL_lyr)\n",
    "    selectByAttribute(b_lake_afm_merge_with_BL_lyr,'NEW_SELECTION',\"flag > 0 and flag < 3\")\n",
    "    merge_list_BG.append(b_lake_afm_merge_with_BL_lyr)\n",
    "arcpy.Merge_management(merge_list_BG,b_iwBG)\n",
    "arcpy.MakeFeatureLayer_management(b_iwBG, b_iwBG_lyr)\n",
    "arcpy.management.FeatureToPoint(b_iwBG_lyr,b_iwBG_point,'INSIDE')\n",
    "arcpy.MakeFeatureLayer_management(b_iwBG_point, b_iwBG_point_lyr)\n",
    "selectByAttribute(GLAKES_gte1_Rser_lyr,'NEW_SELECTION',\"operate >0 or operate IS NULL\")\n",
    "arcpy.Merge_management([b_iwBG_lyr,GLAKES_gte1_Rser_lyr],b_iwBG_merge_with_BG_raw)#GLAKES_gte1_lyr\n",
    "end=time.time()\n",
    "print(f'time:{end-start}s')"
   ]
  },
  {
   "cell_type": "code",
   "execution_count": null,
   "metadata": {},
   "outputs": [],
   "source": [
    "# arcpy.MakeFeatureLayer_management(b_iwBG, b_iwBG_lyr)\n",
    "# arcpy.management.FeatureToPoint(b_iwBG_lyr,b_iwBG_point,'INSIDE')\n",
    "arcpy.MakeFeatureLayer_management(b_iwBG_point, b_iwBG_point_lyr)"
   ]
  },
  {
   "cell_type": "code",
   "execution_count": null,
   "metadata": {},
   "outputs": [],
   "source": [
    "start=time.time()\n",
    "arcpy.MakeFeatureLayer_management(b_iwBG_merge_with_BG_raw, b_iwBG_merge_with_BG_raw_lyr)\n",
    "print('start Dissolve')\n",
    "arcpy.Dissolve_management(b_iwBG_merge_with_BG_raw_lyr, b_iwBG_merge_with_BG,\"\", \"\", \"SINGLE_PART\")# dissolve copylake\n",
    "arcpy.MakeFeatureLayer_management(b_iwBG_merge_with_BG, b_iwBG_merge_with_BG_lyr)\n",
    "end=time.time()\n",
    "print(f'time:{end-start}s')"
   ]
  },
  {
   "cell_type": "code",
   "execution_count": null,
   "metadata": {},
   "outputs": [],
   "source": [
    "# arcpy.management.Delete(b_iwBG_merge_with_BG_raw)\n",
    "arcpy.MakeFeatureLayer_management(b_iwBG_merge_with_BG, b_iwBG_merge_with_BG_lyr)"
   ]
  },
  {
   "cell_type": "markdown",
   "metadata": {},
   "source": [
    "### 3.2 匹配湖泊对应的GLAKES Lake_id"
   ]
  },
  {
   "cell_type": "code",
   "execution_count": null,
   "metadata": {},
   "outputs": [],
   "source": [
    "fieldmappings_all = arcpy.FieldMappings()\n",
    "fieldmappings_all.addTable(GLAKES_gte1_Rser_point_lyr)\n",
    "\n",
    "#包含的面积最大的GLAKES的Lake_id\n",
    "field_idx = fieldmappings_all.findFieldMapIndex('Lake_id')\n",
    "fieldmappings = arcpy.FieldMappings()\n",
    "fieldmappings.addFieldMap(fieldmappings_all.getFieldMap(field_idx))\n",
    "Lake_id_idx = fieldmappings.findFieldMapIndex(\"Lake_id\")\n",
    "Lake_id_fieldmap = fieldmappings.getFieldMap(Lake_id_idx)\n",
    "Lake_id_fieldmap.mergeRule = \"min\"\n",
    "fieldmappings.replaceFieldMap(Lake_id_idx, Lake_id_fieldmap)\n",
    "\n",
    "print('Conduct spatial join')\n",
    "arcpy.SpatialJoin_analysis(b_iwBG_merge_with_BG_lyr, GLAKES_gte1_Rser_point_lyr, b_iwBG_merge_with_BG_SJ, \"JOIN_ONE_TO_ONE\",\n",
    "                           \"KEEP_ALL\", fieldmappings, \"CONTAINS\")\n",
    "arcpy.MakeFeatureLayer_management(b_iwBG_merge_with_BG_SJ,b_iwBG_merge_with_BG_SJ_lyr)"
   ]
  },
  {
   "cell_type": "code",
   "execution_count": null,
   "metadata": {},
   "outputs": [],
   "source": [
    "##解决GLAKES 八连通湖泊 不一致的问题\n",
    "fieldmappings = arcpy.FieldMappings()\n",
    "fieldmappings_all = arcpy.FieldMappings()\n",
    "fieldmappings_all.addTable(GLAKES_gte1_Rser_lyr)\n",
    "\n",
    "field_idx = fieldmappings_all.findFieldMapIndex('Lake_id')\n",
    "fieldmappings.addFieldMap(fieldmappings_all.getFieldMap(field_idx))\n",
    "Lake_id_idx = fieldmappings.findFieldMapIndex(\"Lake_id\")\n",
    "Lake_id_fieldmap = fieldmappings.getFieldMap(Lake_id_idx)\n",
    "Lake_id_fieldmap.mergeRule = \"min\"\n",
    "fieldmappings.replaceFieldMap(Lake_id_idx, Lake_id_fieldmap)\n",
    "\n",
    "selectByAttribute(b_iwBG_merge_with_BG_SJ_lyr,\"NEW_SELECTION\",\"Lake_id IS NULL\")\n",
    "print('Conduct spatial join')\n",
    "arcpy.SpatialJoin_analysis(b_iwBG_merge_with_BG_SJ_lyr, GLAKES_gte1_Rser_lyr, b_iwBG_merge_with_BG_SJ_SJ, \"JOIN_ONE_TO_ONE\",\n",
    "                           \"KEEP_ALL\", fieldmappings, \"LARGEST_OVERLAP\")"
   ]
  },
  {
   "cell_type": "code",
   "execution_count": null,
   "metadata": {},
   "outputs": [],
   "source": [
    "print(b_iwBG_merge_with_BG_SJ_lyr)"
   ]
  },
  {
   "cell_type": "code",
   "execution_count": null,
   "metadata": {},
   "outputs": [],
   "source": [
    "arcpy.management.AddJoin(b_iwBG_merge_with_BG_SJ_lyr,'OBJECTID','b_iwBG_merge_with_BG_SJ_SJ','TARGET_FID','keep_common')\n",
    "arcpy.CalculateField_management(b_iwBG_merge_with_BG_SJ_lyr,'b_iwBG_merge_with_BG_SJ.Lake_id','!b_iwBG_merge_with_BG_SJ_SJ.Lake_id!')\n",
    "arcpy.management.RemoveJoin(b_iwBG_merge_with_BG_SJ_lyr)"
   ]
  },
  {
   "cell_type": "code",
   "execution_count": null,
   "metadata": {},
   "outputs": [],
   "source": [
    "b_iwBG_merge_with_BG_SJ_dissolve_lyr='b_iwBG_merge_with_BG_final_pi'"
   ]
  },
  {
   "cell_type": "code",
   "execution_count": null,
   "metadata": {},
   "outputs": [],
   "source": [
    "# arcpy.Dissolve_management(b_iwBG_merge_with_BG_SJ_lyr, b_iwBG_merge_with_BG_SJ_dissolve,\"Lake_id\")\n",
    "# arcpy.MakeFeatureLayer_management(b_iwBG_merge_with_BG_SJ_dissolve, b_iwBG_merge_with_BG_SJ_dissolve_lyr)\n",
    "arcpy.AddField_management(b_iwBG_merge_with_BG_SJ_dissolve_lyr,\"lake_area\",\"Double\")\n",
    "arcpy.CalculateField_management(b_iwBG_merge_with_BG_SJ_dissolve_lyr, \"lake_area\",  \"!shape.geodesicArea@SQUAREKILOMETERS!\", \"PYTHON_9.3\")"
   ]
  },
  {
   "cell_type": "markdown",
   "metadata": {
    "heading_collapsed": true
   },
   "source": [
    "### 3.3 统计包含的GLAKES 湖泊面积"
   ]
  },
  {
   "cell_type": "code",
   "execution_count": null,
   "metadata": {
    "hidden": true
   },
   "outputs": [],
   "source": [
    "fieldmappings = arcpy.FieldMappings()\n",
    "fieldmappings_all = arcpy.FieldMappings()\n",
    "fieldmappings_all.addTable(b_iwBG_merge_with_BG_SJ_dissolve_lyr)\n",
    "fieldmappings_all.addTable(GLAKES_gte1_Rser_point_lyr)\n",
    "\n",
    "field_list=['lake_area','Lake_id','Area_bound']\n",
    "for field_i in field_list:\n",
    "    field_idx = fieldmappings_all.findFieldMapIndex(field_i)\n",
    "    fieldmappings.addFieldMap(fieldmappings_all.getFieldMap(field_idx))\n",
    "Area_bound_idx = fieldmappings.findFieldMapIndex(\"Area_bound\")\n",
    "Area_bound_fieldmap = fieldmappings.getFieldMap(Area_bound_idx)\n",
    "Area_bound_fieldmap.mergeRule = \"sum\"\n",
    "fieldmappings.replaceFieldMap(Area_bound_idx, Area_bound_fieldmap)\n",
    "\n",
    "Lake_id_idx = fieldmappings.findFieldMapIndex(\"Lake_id\")\n",
    "Lake_id_fieldmap = fieldmappings.getFieldMap(Lake_id_idx)\n",
    "Lake_id_fieldmap.mergeRule = \"min\"\n",
    "fieldmappings.replaceFieldMap(Lake_id_idx, Lake_id_fieldmap)\n",
    "\n",
    "arcpy.SpatialJoin_analysis(b_iwBG_merge_with_BG_SJ_dissolve_lyr, GLAKES_gte1_Rser_point_lyr, b_iwBG_merge_with_BG_SJ_GLAKES_SJ, \"JOIN_ONE_TO_ONE\",\n",
    "                           \"KEEP_ALL\", fieldmappings, \"CONTAINS\")"
   ]
  },
  {
   "cell_type": "code",
   "execution_count": null,
   "metadata": {
    "hidden": true,
    "scrolled": true
   },
   "outputs": [],
   "source": [
    "arcpy.MakeFeatureLayer_management(b_iwBG_merge_with_BG_SJ_GLAKES_SJ,b_iwBG_merge_with_BG_SJ_GLAKES_SJ_lyr)\n",
    "arcpy.AddField_management(b_iwBG_merge_with_BG_SJ_GLAKES_SJ_lyr, 'GLAKES_AR', \"DOUBLE\")#新建字段为面积比例\n",
    "arcpy.CalculateField_management(b_iwBG_merge_with_BG_SJ_GLAKES_SJ_lyr, 'GLAKES_AR', '!Area_bound!/!lake_area!', \"PYTHON3\")"
   ]
  },
  {
   "cell_type": "markdown",
   "metadata": {
    "heading_collapsed": true
   },
   "source": [
    "### 3.3 统计包含的merge前的湖泊面积"
   ]
  },
  {
   "cell_type": "code",
   "execution_count": null,
   "metadata": {
    "hidden": true
   },
   "outputs": [],
   "source": [
    "fieldmappings = arcpy.FieldMappings()\n",
    "fieldmappings_all = arcpy.FieldMappings()\n",
    "fieldmappings_all.addTable(b_iwBG_merge_with_BG_SJ_GLAKES_SJ_lyr)\n",
    "fieldmappings_all.addTable(b_iwBG_point_lyr)\n",
    "field_list=['lake_area','area','Lake_id','Join_Count','Area_bound','GLAKES_AR']#\n",
    "for field_i in field_list:\n",
    "    field_idx = fieldmappings_all.findFieldMapIndex(field_i)\n",
    "    field_fieldmap = fieldmappings_all.getFieldMap(field_idx)\n",
    "    if field_i=='Join_Count':\n",
    "        outputField=field_fieldmap.outputField\n",
    "        outputField.name='GLAKES_count'\n",
    "        outputField.alias='GLAKES_count'\n",
    "        field_fieldmap.outputField=outputField\n",
    "    fieldmappings.addFieldMap(field_fieldmap)\n",
    "area_idx = fieldmappings.findFieldMapIndex(\"area\")\n",
    "area_fieldmap = fieldmappings.getFieldMap(area_idx)\n",
    "area_fieldmap.mergeRule = \"sum\"\n",
    "fieldmappings.replaceFieldMap(area_idx, area_fieldmap)\n",
    "arcpy.SpatialJoin_analysis(b_iwBG_merge_with_BG_SJ_GLAKES_SJ_lyr, b_iwBG_point_lyr, b_iwBG_merge_with_BG_final, \"JOIN_ONE_TO_ONE\",\n",
    "                           \"KEEP_ALL\", fieldmappings, \"CONTAINS\")"
   ]
  },
  {
   "cell_type": "code",
   "execution_count": null,
   "metadata": {
    "hidden": true
   },
   "outputs": [],
   "source": [
    "# fieldmappings = arcpy.FieldMappings()\n",
    "# fieldmappings_all = arcpy.FieldMappings()\n",
    "# fieldmappings_all.addTable(b_iwBG_merge_with_BG_SJ_GLAKES_SJ_lyr)\n",
    "# fieldmappings_all.addTable(b_iwBG_point_lyr)\n",
    "# field_list=['Lake_id','area']#,'GLAKES_AR'\n",
    "# for field_i in field_list:\n",
    "#     field_idx = fieldmappings_all.findFieldMapIndex(field_i)\n",
    "#     fieldmappings.addFieldMap(fieldmappings_all.getFieldMap(field_idx))\n",
    "# area_idx = fieldmappings.findFieldMapIndex(\"area\")\n",
    "# area_fieldmap = fieldmappings.getFieldMap(area_idx)\n",
    "# area_fieldmap.mergeRule = \"max\"\n",
    "# fieldmappings.replaceFieldMap(area_idx, area_fieldmap)\n",
    "# arcpy.SpatialJoin_analysis(b_iwBG_merge_with_BG_SJ_GLAKES_SJ_lyr, b_iwBG_point_lyr, b_iwBG_merge_with_BG_final_2, \"JOIN_ONE_TO_ONE\",\n",
    "#                            \"KEEP_ALL\", fieldmappings, \"CONTAINS\")"
   ]
  },
  {
   "cell_type": "code",
   "execution_count": null,
   "metadata": {
    "hidden": true
   },
   "outputs": [],
   "source": [
    "arcpy.MakeFeatureLayer_management(b_iwBG_merge_with_BG_final_v1,b_iwBG_merge_with_BG_final_lyr)\n",
    "# arcpy.AddField_management(b_iwBG_merge_with_BG_final_lyr, 'merge_AR', \"DOUBLE\")#新建字段为面积比例\n",
    "# arcpy.CalculateField_management(b_iwBG_merge_with_BG_final_lyr, 'merge_AR', '!area!/!lake_area!', \"PYTHON3\")\n",
    "# arcpy.AddField_management(b_iwBG_merge_with_BG_final_lyr, 'GLAKES_AR', \"DOUBLE\")#新建字段为面积比例\n",
    "# arcpy.CalculateField_management(b_iwBG_merge_with_BG_final_lyr, 'GLAKES_AR', '!Area_bound!/!lake_area!', \"PYTHON3\")"
   ]
  },
  {
   "cell_type": "code",
   "execution_count": null,
   "metadata": {
    "hidden": true
   },
   "outputs": [],
   "source": [
    "# field_list=['hu_c0','hu_c1','hu_c3','hu_c100','hu_a0','hu_a1','hu_a3','hu_a100']\n",
    "# for field in field_list:\n",
    "#     selectByAttribute(polygon_afm_mwBL_BG_Count_Area_SJ_lyr,'NEW_SELECTION',f'{field} IS NULL')\n",
    "#     arcpy.CalculateField_management(polygon_afm_mwBL_BG_Count_Area_SJ_lyr,field,0)"
   ]
  },
  {
   "cell_type": "code",
   "execution_count": null,
   "metadata": {
    "hidden": true
   },
   "outputs": [],
   "source": [
    "# arcpy.DeleteField_management(b_iwBG_merge_with_BG_final_lyr, 'area')\n",
    "# arcpy.AddField_management(b_iwBG_merge_with_BG_final_lyr, 'flag', \"DOUBLE\")\n",
    "# selectByAttribute(b_iwBG_merge_with_BG_final_lyr,'NEW_SELECTION',\"merge_AR IS NOT NULL\")\n",
    "# arcpy.CalculateField_management(b_iwBG_merge_with_BG_final_lyr, 'flag',2.5)\n",
    "# selectByAttribute(b_iwBG_merge_with_BG_final_lyr,'NEW_SELECTION',\"merge_AR IS NULL\")\n",
    "# selectByLocation(b_iwBG_merge_with_BG_final_lyr, 'INTERSECT', 'GLAKES_Res','SUBSET_SELECTION')\n",
    "# arcpy.CalculateField_management(b_iwBG_merge_with_BG_final_lyr, 'flag',2)\n",
    "# selectByAttribute(b_iwBG_merge_with_BG_final_lyr,'NEW_SELECTION',\"merge_AR IS NULL AND flag IS NULL\")\n",
    "# arcpy.CalculateField_management(b_iwBG_merge_with_BG_final_lyr, 'flag',1)\n",
    "# cal_continent(b_iwBG_merge_with_BG_final_lyr)"
   ]
  },
  {
   "cell_type": "code",
   "execution_count": null,
   "metadata": {
    "hidden": true
   },
   "outputs": [],
   "source": [
    "# arcpy.AddField_management(b_iwBG_merge_with_BG_final_lyr, 'sources', \"TEXT\")\n",
    "# selectByAttribute(b_iwBG_merge_with_BG_final_lyr,'NEW_SELECTION',\"Join_Count = 0\")\n",
    "# arcpy.CalculateField_management(b_iwBG_merge_with_BG_final_lyr, 'sources','\"GLAKES\"')\n",
    "# selectByAttribute(b_iwBG_merge_with_BG_final_lyr,'NEW_SELECTION',\"Join_Count > 0\")\n",
    "# arcpy.CalculateField_management(b_iwBG_merge_with_BG_final_lyr, 'sources','\"GLAKES,Hu\"')\n",
    "cal_continent(b_iwBG_merge_with_BG_final_lyr)"
   ]
  },
  {
   "cell_type": "code",
   "execution_count": null,
   "metadata": {
    "hidden": true
   },
   "outputs": [],
   "source": [
    "arcpy.AddField_management(b_iwBG_merge_with_BG_final_lyr,'operate',\"Short\")"
   ]
  },
  {
   "cell_type": "code",
   "execution_count": null,
   "metadata": {
    "hidden": true
   },
   "outputs": [],
   "source": [
    "selectByAttribute(b_iwBG_merge_with_BG_final_lyr,'NEW_SELECTION',\"operate <= 0\")"
   ]
  },
  {
   "cell_type": "markdown",
   "metadata": {},
   "source": [
    "### 3.4 将不与GLAKES相交的湖泊与前面生成的结果合并，得到c"
   ]
  },
  {
   "cell_type": "code",
   "execution_count": null,
   "metadata": {},
   "outputs": [],
   "source": [
    "# for i in range(0,8):\n",
    "#     continent=eight_continents[i]\n",
    "#     print(continent)\n",
    "#     b_lake_afm_merge_with_BL_lyr=f'b{i+1}_{continent}_lake_afm_merge_with_BL'\n",
    "#     b_lake_afm_merge_with_BL=os.path.join(mwBL_gdb,f'b{i+1}_{continent}_polygon_afm_mwBL')\n",
    "# #     arcpy.MakeFeatureLayer_management(b_lake_afm_merge_with_BL,b_lake_afm_merge_with_BL_lyr)\n",
    "# #     arcpy.AddField_management(b_lake_afm_merge_with_BL_lyr, 'lake_area', \"DOUBLE\")\n",
    "# #     arcpy.CalculateField_management(b_lake_afm_merge_with_BL_lyr, 'lake_area','!area!')\n",
    "#     selectByAttribute(b_lake_afm_merge_with_BL_lyr,'NEW_SELECTION',\"flag IS NULL or flag = 0 OR flag>=3\")\n",
    "#     selectByAttribute(b_iwBG_merge_with_BG_final_lyr,'NEW_SELECTION',f\"Continent = '{continent}'\")\n",
    "    \n",
    "#     c_lake_afm_mw_BL_BG=os.path.join(mwBG_gdb,f'c{i+1}_{continent}_polygon_afm_mwBL_BG')\n",
    "#     c_lake_afm_mw_BL_BG_lyr=f'c{i+1}_{continent}_lake_afm_mw_BL_BG'\n",
    "    \n",
    "#     field_list=['lake_area','Lake_id','flag']\n",
    "#     fieldmappings = arcpy.FieldMappings()\n",
    "#     fieldmappings_all = arcpy.FieldMappings()\n",
    "#     fieldmappings_all.addTable(b_lake_afm_merge_with_BL_lyr)#未mask\n",
    "#     fieldmappings_all.addTable(b_iwBG_merge_with_BG_final_lyr)\n",
    "#     for field_i in field_list:\n",
    "#         field_idx = fieldmappings_all.findFieldMapIndex(field_i)\n",
    "#         fieldmappings.addFieldMap(fieldmappings_all.getFieldMap(field_idx))\n",
    "    \n",
    "#     arcpy.Merge_management([b_lake_afm_merge_with_BL_lyr,b_iwBG_merge_with_BG_final_lyr],c_lake_afm_mw_BL_BG,field_mappings=fieldmappings)\n",
    "#     arcpy.MakeFeatureLayer_management(c_lake_afm_mw_BL_BG,c_lake_afm_mw_BL_BG_lyr)\n",
    "#     selectByAttribute(c_lake_afm_mw_BL_BG_lyr,'NEW_SELECTION',\"\")\n",
    "#     out_table=os.path.join(stastics_gdb,f'{stastic_v}_c{i+1}_{continent}_polygon_afm_mwBL_BG_stastics')\n",
    "#     arcpy.analysis.Statistics(c_lake_afm_mw_BL_BG_lyr, out_table, [['lake_area',\"sum\"]], ['flag']) \n"
   ]
  },
  {
   "cell_type": "code",
   "execution_count": null,
   "metadata": {},
   "outputs": [],
   "source": [
    "arcpy.analysis.Statistics(c_lake_afm_mw_BL_BG_lyr, out_table, [['lake_area',\"sum\"]], ['flag']) "
   ]
  },
  {
   "cell_type": "code",
   "execution_count": null,
   "metadata": {},
   "outputs": [],
   "source": [
    "Arid_region_lyr='Global_AI_Reclassify_Clip_simple'"
   ]
  },
  {
   "cell_type": "code",
   "execution_count": null,
   "metadata": {},
   "outputs": [],
   "source": [
    "selectByAttribute(b_iwBG_merge_with_BG_final_lyr,'NEW_SELECTION',\"operate = 0  OR operate = -1\")\n",
    "selectByLocation(b_lake_afm_merge_with_BL_lyr, 'WITHIN', b_iwBG_merge_with_BG_final_lyr,'NEW_SELECTION')"
   ]
  },
  {
   "cell_type": "code",
   "execution_count": null,
   "metadata": {},
   "outputs": [],
   "source": [
    "for i in range(0,8):#\n",
    "#     selectByAttribute(b_iwBG_merge_with_BG_final_lyr,'NEW_SELECTION',\"operate = 0 OR operate = -1\")\n",
    "    continent=eight_continents[i]\n",
    "    print(continent)\n",
    "#     b_lake_afm_merge_with_BL_lyr=f'b{i+1}_{continent}_lake_afm_merge_with_BL'\n",
    "#     b_lake_afm_merge_with_BL=os.path.join(mwBL_gdb,f'b{i+1}_{continent}_polygon_afm_mwBL')\n",
    "#     arcpy.MakeFeatureLayer_management(b_lake_afm_merge_with_BL,b_lake_afm_merge_with_BL_lyr)\n",
    "\n",
    "# #     arcpy.AddField_management(b_lake_afm_merge_with_BL_lyr, 'Arid_flag', \"Short\")\n",
    "#     selectByLocation(b_lake_afm_merge_with_BL_lyr, 'INTERSECT', Arid_region_lyr,'NEW_SELECTION')\n",
    "#     arcpy.CalculateField_management(b_lake_afm_merge_with_BL_lyr, 'Arid_flag',1)\n",
    "\n",
    "# #     arcpy.AddField_management(b_lake_afm_merge_with_BL_lyr, 'lake_area', \"DOUBLE\")\n",
    "# #     arcpy.CalculateField_management(b_lake_afm_merge_with_BL_lyr, 'lake_area','!area!')\n",
    "\n",
    "#     selectByLocation(b_lake_afm_merge_with_BL_lyr, 'WITHIN', b_iwBG_merge_with_BG_final_lyr,'NEW_SELECTION')\n",
    "#     selectByAttribute(b_lake_afm_merge_with_BL_lyr,'ADD_TO_SELECTION',\"flag IS NULL or flag = 0 OR flag>=3\")\n",
    "#     selectByAttribute(b_iwBG_merge_with_BG_final_lyr,'SWITCH_SELECTION','')\n",
    "#     selectByAttribute(b_iwBG_merge_with_BG_final_lyr,'SUBSET_SELECTION',f\"Continent = '{continent}'\")\n",
    "    \n",
    "    c_lake_afm_mw_BL_BG=os.path.join(mwBG_gdb,f'c{i+1}_{continent}_polygon_afm_mwBL_BG')\n",
    "    c_lake_afm_mw_BL_BG_lyr=f'c{i+1}_{continent}_lake_afm_mw_BL_BG'\n",
    "    \n",
    "#     field_list=['lake_area','Arid_flag','sources']\n",
    "#     fieldmappings = arcpy.FieldMappings()\n",
    "#     fieldmappings_all = arcpy.FieldMappings()\n",
    "# #     fieldmappings_all.addTable(b_lake_afm_merge_with_BL_lyr)#未mask\n",
    "#     fieldmappings_all.addTable(b_iwBG_merge_with_BG_final_lyr)\n",
    "#     for field_i in field_list:\n",
    "#         field_idx = fieldmappings_all.findFieldMapIndex(field_i)\n",
    "#         fieldmappings.addFieldMap(fieldmappings_all.getFieldMap(field_idx))\n",
    "    \n",
    "#     arcpy.Merge_management([b_lake_afm_merge_with_BL_lyr,b_iwBG_merge_with_BG_final_lyr],c_lake_afm_mw_BL_BG,field_mappings=fieldmappings)\n",
    "#     arcpy.MakeFeatureLayer_management(c_lake_afm_mw_BL_BG,c_lake_afm_mw_BL_BG_lyr)\n",
    "#     arcpy.AddField_management(c_lake_afm_mw_BL_BG_lyr, 'Arid_flag', \"Short\")\n",
    "#     selectByLocation(c_lake_afm_mw_BL_BG_lyr, 'WITHIN', Arid_region_lyr,'NEW_SELECTION')\n",
    "#     arcpy.CalculateField_management(c_lake_afm_mw_BL_BG_lyr, 'Arid_flag',1)\n",
    "\n",
    "#     selectByAttribute(c_lake_afm_mw_BL_BG_lyr,'NEW_SELECTION',\"\")\n",
    "    out_table=os.path.join(stastics_gdb,f'{stastic_v}_c{i+1}_{continent}_polygon_afm_mwBL_BG_stastics')\n",
    "    arcpy.analysis.Statistics(c_lake_afm_mw_BL_BG_lyr, out_table, [['lake_area',\"sum\"]], ['sources','Arid_flag']) \n"
   ]
  },
  {
   "cell_type": "code",
   "execution_count": null,
   "metadata": {},
   "outputs": [],
   "source": [
    "merge_list=[]\n",
    "sample_result=os.path.join(r'J:\\lakemapping\\postprocess\\v13_241021\\7_correct_temp_file.gdb','Hu_lakes')\n",
    "for i in range(0,8):\n",
    "    continent=eight_continents[i]\n",
    "    print(continent)\n",
    "    c_lake_afm_mw_BL_BG_lyr=f'c{i+1}_{continent}_lake_afm_mw_BL_BG'\n",
    "    c_lake_afm_mw_BL_BG=os.path.join(mwBG_gdb,f'c{i+1}_{continent}_polygon_afm_mwBL_BG')\n",
    "#     arcpy.MakeFeatureLayer_management(c_lake_afm_mw_BL_BG,c_lake_afm_mw_BL_BG_lyr)\n",
    "#     selectByAttribute(c_lake_afm_mw_BL_BG_lyr,'NEW_SELECTION','lake_area IS NULL')\n",
    "    selectByLocation(c_lake_afm_mw_BL_BG_lyr, 'INTERSECT', 'different_place','NEW_SELECTION')\n",
    "    merge_list.append(c_lake_afm_mw_BL_BG_lyr)\n",
    "arcpy.Merge_management(merge_list,sample_result)"
   ]
  },
  {
   "cell_type": "code",
   "execution_count": null,
   "metadata": {},
   "outputs": [],
   "source": [
    "arcpy.MakeFeatureLayer_management(c_lake_afm_mw_BL_BG,c_lake_afm_mw_BL_BG_lyr)\n",
    "# selectByAttribute(c_lake_afm_mw_BL_BG_lyr,'NEW_SELECTION',\"\")\n",
    "out_table=os.path.join(stastics_gdb,f'{stastic_v}_c{i+1}_{continent}_polygon_afm_mwBL_BG_stastics')\n",
    "arcpy.analysis.Statistics(c_lake_afm_mw_BL_BG_lyr, out_table, [['lake_area',\"sum\"]], ['sources']) "
   ]
  },
  {
   "cell_type": "code",
   "execution_count": null,
   "metadata": {},
   "outputs": [],
   "source": [
    "input_table_mwBG_list=[]\n",
    "for i in range(0,8):#\n",
    "    continent=eight_continents[i]\n",
    "    out_table=os.path.join(stastics_gdb,f'{stastic_v}_c{i+1}_{continent}_polygon_afm_mwBL_BG_stastics')\n",
    "    input_table_mwBG_list.append(out_table)\n",
    "file_name=f'{stastic_v}_c_sum_lakes_afm_mwBL_BG_stastics.xls'\n",
    "Output_Excel_File=os.path.join(excel_dir,file_name)\n",
    "print(Output_Excel_File)\n",
    "arcpy.conversion.TableToExcel(input_table_mwBG_list, Output_Excel_File)   "
   ]
  },
  {
   "cell_type": "code",
   "execution_count": null,
   "metadata": {},
   "outputs": [],
   "source": [
    "for i in range(0,8):\n",
    "    continent=eight_continents[i]\n",
    "    print(continent)\n",
    "    c_lake_afm_mw_BL_BG_lyr=f'c{i+1}_{continent}_lake_afm_mw_BL_BG'\n",
    "    c_lake_afm_mw_BL_BG=os.path.join(mwBG_gdb,f'c{i+1}_{continent}_polygon_afm_mwBL_BG')\n",
    "    arcpy.MakeFeatureLayer_management(c_lake_afm_mw_BL_BG,c_lake_afm_mw_BL_BG_lyr)\n",
    "    selectByAttribute(c_lake_afm_mw_BL_BG_lyr,'NEW_SELECTION','lake_area IS NULL')"
   ]
  },
  {
   "cell_type": "code",
   "execution_count": null,
   "metadata": {},
   "outputs": [],
   "source": [
    "# input_table_mwBL_list=[]\n",
    "# input_table_mwBL_BG_list=[]\n",
    "# for i in range(0,6):\n",
    "#     b_lyr=b_lyr_list[i]\n",
    "#     continent=seven_continents[i]\n",
    "#     out_table_1=os.path.join(stastics_gdb,f'b{i+1}_{continent}_afm_mwBL_by_Continent_stastics')\n",
    "#     input_table_mwBL_list.append(out_table_1)\n",
    "#     c_lake_afm_mw_BL_BG=os.path.join( Cgdb,f'c{i+1}_{continent}_polygon_afm_mwBL_BG')\n",
    "#     c_lake_afm_mw_BL_BG_lyr=f'c{i+1}_{continent}_lake_afm_mw_BL_BG'\n",
    "# #     arcpy.MakeFeatureLayer_management(c_lake_afm_mw_BL_BG,c_lake_afm_mw_BL_BG_lyr)\n",
    "#     out_table=os.path.join(stastics_gdb,f'c{i+1}_{continent}_afm_mwBL_BG_by_Continent_stastics')\n",
    "#     input_table_mwBL_BG_list.append(out_table)\n",
    "# #     arcpy.analysis.Statistics(c_lake_afm_mw_BL_BG_lyr, out_table, [['area',\"sum\"]]) \n",
    "#     out_table_2=os.path.join(stastics_gdb,f'c{i+1}_{continent}_afm_mwBL_BG_by_Continent_stastics')\n",
    "#     input_table_mwBL_BG_list.append(out_table_2)\n",
    "    \n",
    "# Output_Excel_File=r'J:\\lakemapping\\postprocess\\v10_240710\\sum_afm_mwBL_classify_by_Continents_stastics.xls'\n",
    "# Output_Excel_File_2=r'J:\\lakemapping\\postprocess\\v10_240710\\sum_afm_mwBL_BG_classify_by_Continents_stastics.xls'\n",
    "# print(input_table_mwBL_BG_list)\n",
    "# arcpy.conversion.TableToExcel(input_table_mwBL_list, Output_Excel_File)\n",
    "# arcpy.conversion.TableToExcel(input_table_mwBL_BG_list, Output_Excel_File_2)"
   ]
  },
  {
   "cell_type": "markdown",
   "metadata": {},
   "source": [
    "## 4 和PLD融合"
   ]
  },
  {
   "cell_type": "code",
   "execution_count": null,
   "metadata": {
    "scrolled": true
   },
   "outputs": [],
   "source": [
    "PLD_merge_list=['PLD_Arid']\n",
    "for i in range(0,8):#[0]:#\n",
    "    if i !=6:\n",
    "        continent=eight_continents[i]\n",
    "        print(continent)\n",
    "        c_lake_afm_mw_BL_BG=os.path.join(mwBG_gdb,f'c{i+1}_{continent}_polygon_afm_mwBL_BG')\n",
    "        c_lake_afm_mw_BL_BG_lyr=f'c{i+1}_{continent}_lake_afm_mw_BL_BG'\n",
    "#         selectByAttribute(c_lake_afm_mw_BL_BG_lyr,'NEW_SELECTION',\"iw_PLD =1\")\n",
    "#         arcpy.MakeFeatureLayer_management(c_lake_afm_mw_BL_BG,c_lake_afm_mw_BL_BG_lyr)\n",
    "\n",
    "#         arcpy.AddField_management(c_lake_afm_mw_BL_BG_lyr, 'iw_PLD', \"Short\")\n",
    "#         selectByLocation(c_lake_afm_mw_BL_BG_lyr, 'INTERSECT', 'PLD_Arid','NEW_SELECTION')\n",
    "#         arcpy.CalculateField_management(c_lake_afm_mw_BL_BG_lyr, 'iw_PLD',1)\n",
    "        PLD_merge_list.append(c_lake_afm_mw_BL_BG_lyr)"
   ]
  },
  {
   "cell_type": "code",
   "execution_count": null,
   "metadata": {},
   "outputs": [],
   "source": [
    "print(PLD_merge_list)"
   ]
  },
  {
   "cell_type": "code",
   "execution_count": null,
   "metadata": {},
   "outputs": [],
   "source": [
    "arcpy.Merge_management(PLD_merge_list,c_arid_lake_mwPLD_raw)\n",
    "arcpy.MakeFeatureLayer_management(c_arid_lake_mwPLD_raw,c_arid_lake_mwPLD_raw_lyr)"
   ]
  },
  {
   "cell_type": "code",
   "execution_count": null,
   "metadata": {},
   "outputs": [],
   "source": [
    "start=time.time()\n",
    "# print('start Dissolve')\n",
    "arcpy.Dissolve_management(c_arid_lake_mwPLD_raw_lyr, c_arid_lake_mwPLD,\"\", \"\", \"SINGLE_PART\")#dissolve copylake\n",
    "arcpy.MakeFeatureLayer_management(c_arid_lake_mwPLD, c_arid_lake_mwPLD_lyr)\n",
    "arcpy.AddField_management(c_arid_lake_mwPLD_lyr,\"lake_area\",\"Double\")\n",
    "arcpy.CalculateField_management(c_arid_lake_mwPLD_lyr, \"lake_area\",  \"!shape.geodesicArea@SQUAREKILOMETERS!\", \"PYTHON_9.3\")\n",
    "end=time.time()\n",
    "print(f'time:{end-start}s')"
   ]
  },
  {
   "cell_type": "code",
   "execution_count": null,
   "metadata": {},
   "outputs": [],
   "source": [
    "arcpy.AddField_management(c_arid_lake_mwPLD_lyr,\"sources\",\"Text\")\n",
    "\n",
    "selectByAttribute(c_arid_lake_mwPLD_raw_lyr,\"NEW_SELECTION\",\"sources='GLAKES'\")\n",
    "selectByLocation(c_arid_lake_mwPLD_lyr,'contains',c_arid_lake_mwPLD_raw_lyr)\n",
    "arcpy.CalculateField_management(c_arid_lake_mwPLD_lyr,\"sources\",\"'GLAKES,PLD'\")\n",
    "\n",
    "selectByAttribute(c_arid_lake_mwPLD_raw_lyr,\"NEW_SELECTION\", \"sources='GLAKES,Hu'\")\n",
    "selectByLocation(c_arid_lake_mwPLD_lyr,'contains',c_arid_lake_mwPLD_raw_lyr)\n",
    "arcpy.CalculateField_management(c_arid_lake_mwPLD_lyr,\"sources\",\"'GLAKES,Hu,PLD'\")\n",
    "\n",
    "selectByAttribute(c_arid_lake_mwPLD_raw_lyr,\"NEW_SELECTION\", \"sources IS null\")\n",
    "selectByLocation(c_arid_lake_mwPLD_lyr,'contains',c_arid_lake_mwPLD_raw_lyr)\n",
    "arcpy.CalculateField_management(c_arid_lake_mwPLD_lyr, \"sources\",\"'Hu,PLD'\")\n",
    "\n",
    "selectByAttribute(c_arid_lake_mwPLD_lyr,\"NEW_SELECTION\", \"sources IS null\")\n",
    "arcpy.CalculateField_management(c_arid_lake_mwPLD_lyr, \"sources\",\"'PLD'\")\n"
   ]
  },
  {
   "cell_type": "code",
   "execution_count": null,
   "metadata": {},
   "outputs": [],
   "source": [
    "cal_continent(c_arid_lake_mwPLD_lyr)"
   ]
  },
  {
   "cell_type": "code",
   "execution_count": null,
   "metadata": {},
   "outputs": [],
   "source": [
    "arcpy.MakeFeatureLayer_management(c_arid_lake_mwPLD, c_arid_lake_mwPLD_lyr)"
   ]
  },
  {
   "cell_type": "code",
   "execution_count": null,
   "metadata": {},
   "outputs": [],
   "source": [
    "for i in range(0,8):#[1,3,4,5]:\n",
    "    if i !=6:\n",
    "        continent=eight_continents[i]\n",
    "        print(continent)\n",
    "        c_lake_afm_mw_BL_BG=os.path.join(mwBG_gdb,f'c{i+1}_{continent}_polygon_afm_mwBL_BG')\n",
    "        c_lake_afm_mw_BL_BG_lyr=f'c{i+1}_{continent}_lake_afm_mw_BL_BG'\n",
    "        arcpy.MakeFeatureLayer_management(c_lake_afm_mw_BL_BG,c_lake_afm_mw_BL_BG_lyr)\n",
    "        \n",
    "        selectByAttribute(c_lake_afm_mw_BL_BG_lyr,'NEW_SELECTION',\"iw_PLD IS NULL\")\n",
    "        selectByAttribute(c_arid_lake_mwPLD_lyr,'NEW_SELECTION',f\"Continent = '{continent}'\")\n",
    "\n",
    "        d_lake_afm_mw_BL_PLD=os.path.join(mwPLD_gdb,f'd{i+1}_{continent}_lakes_mwPLD')\n",
    "        d_lake_afm_mw_BL_PLD_lyr=f'd{i+1}_{continent}_lakes'\n",
    "\n",
    "        field_list=['lake_area','lake_type','sources']\n",
    "        fieldmappings = arcpy.FieldMappings()\n",
    "        fieldmappings_all = arcpy.FieldMappings()\n",
    "        fieldmappings_all.addTable(c_lake_afm_mw_BL_BG_lyr)\n",
    "        for field_i in field_list:\n",
    "            field_idx = fieldmappings_all.findFieldMapIndex(field_i)\n",
    "            fieldmappings.addFieldMap(fieldmappings_all.getFieldMap(field_idx))\n",
    "\n",
    "        arcpy.Merge_management([c_lake_afm_mw_BL_BG_lyr,c_arid_lake_mwPLD_lyr],d_lake_afm_mw_BL_PLD,field_mappings=fieldmappings)\n",
    "#         arcpy.MakeFeatureLayer_management(d_lake_afm_mw_BL_PLD,d_lake_afm_mw_BL_PLD_lyr)\n",
    "#     #     selectByAttribute(d_lake_afm_mw_BL_PLD_lyr,'NEW_SELECTION',\"\")\n",
    "#         out_table=os.path.join(stastics_gdb,f'd{i+1}_{continent}_lakes_stastics_{version}')\n",
    "#         arcpy.analysis.Statistics(d_lake_afm_mw_BL_PLD_lyr, out_table, [['lake_area',\"sum\"]], ['sources']) \n",
    " "
   ]
  },
  {
   "cell_type": "code",
   "execution_count": null,
   "metadata": {},
   "outputs": [],
   "source": [
    "arcpy.Merge_management([c_lake_afm_mw_BL_BG_lyr,c_arid_lake_mwPLD_lyr],d_lake_afm_mw_BL_PLD,field_mappings=fieldmappings)"
   ]
  },
  {
   "cell_type": "code",
   "execution_count": null,
   "metadata": {},
   "outputs": [],
   "source": [
    "input_table_mwPLD_list=[]\n",
    "for i in range(0,8):\n",
    "    if i !=6:\n",
    "        continent=eight_continents[i]\n",
    "        out_table=os.path.join(stastics_gdb,f'd{i+1}_{continent}_lakes_stastics_{version}')\n",
    "        input_table_mwPLD_list.append(out_table)\n",
    "file_name=f'sum_lakes_afm_mwBL_PLD_stastics_{version}.xls'\n",
    "Output_Excel_File=os.path.join(excel_dir,file_name)\n",
    "arcpy.conversion.TableToExcel(input_table_mwPLD_list, Output_Excel_File)   "
   ]
  },
  {
   "cell_type": "code",
   "execution_count": null,
   "metadata": {},
   "outputs": [],
   "source": [
    "# fieldmappings_all.addTable(b_iwPLD_merge_with_PLD_lyr)#未mask\n",
    "# fieldmappings_all.addTable(b_lake_afm_merge_with_BL_lyr)\n",
    "# for field_i in field_list:\n",
    "#     field_idx = fieldmappings_all.findFieldMapIndex(field_i)\n",
    "#     fieldmappings.addFieldMap(fieldmappings_all.getFieldMap(field_idx))\n",
    "\n",
    "# arcpy.Merge_management([b_lake_afm_merge_with_BL_lyr,b_iwPLD_merge_with_PLD_lyr],d_lake_afm_mw_BL_PLD,field_mappings=fieldmappings)\n",
    "# arcpy.MakeFeatureLayer_management(d_lake_afm_mw_BL_PLD,d_lake_afm_mw_BL_PLD_lyr)\n",
    "# selectByAttribute(d_lake_afm_mw_BL_PLD_lyr,'NEW_SELECTION',\"\")\n",
    "# out_table=os.path.join(stastics_gdb,f'c{i+1}_{continent}_polygon_afm_mwBL_PLD_stastics_{version}')\n",
    "# input_table_mwPLD_list.append(out_table)\n",
    "arcpy.analysis.Statistics(d_lake_afm_mw_BL_PLD_lyr, out_table, [['lake_area',\"sum\"]], ['iwPLD']) "
   ]
  },
  {
   "cell_type": "markdown",
   "metadata": {},
   "source": [
    "## post process"
   ]
  },
  {
   "cell_type": "code",
   "execution_count": null,
   "metadata": {},
   "outputs": [],
   "source": [
    "arcpy.AddField_management(c_arid_lake_mwPLD_lyr,'lake_type','Short')\n",
    "selectByAttribute(c_arid_lake_mwPLD_lyr,'NEW_SELECTION',\"lake_area<0.01\")\n",
    "arcpy.CalculateField_management(c_arid_lake_mwPLD_lyr,'lake_type',0)\n",
    "selectByAttribute(c_arid_lake_mwPLD_lyr,'NEW_SELECTION',\"lake_area>=0.01 and lake_area <0.03\")\n",
    "arcpy.CalculateField_management(c_arid_lake_mwPLD_lyr,'lake_type',1)\n",
    "selectByAttribute(c_arid_lake_mwPLD_lyr,'NEW_SELECTION',\"lake_area>=0.03 and lake_area <0.1\")\n",
    "arcpy.CalculateField_management(c_arid_lake_mwPLD_lyr,'lake_type',2)\n",
    "selectByAttribute(c_arid_lake_mwPLD_lyr,'NEW_SELECTION',\"lake_area>=0.1 and lake_area <1\")\n",
    "arcpy.CalculateField_management(c_arid_lake_mwPLD_lyr,'lake_type',3)\n",
    "selectByAttribute(c_arid_lake_mwPLD_lyr,'NEW_SELECTION',\"lake_area>=1 and lake_area <100\")\n",
    "arcpy.CalculateField_management(c_arid_lake_mwPLD_lyr,'lake_type',4)\n",
    "selectByAttribute(c_arid_lake_mwPLD_lyr,'NEW_SELECTION',\"lake_area>=100\")\n",
    "arcpy.CalculateField_management(c_arid_lake_mwPLD_lyr,'lake_type',5)"
   ]
  },
  {
   "cell_type": "code",
   "execution_count": null,
   "metadata": {},
   "outputs": [],
   "source": [
    "for i in range(0,8):#[1,3,4,5]:\n",
    "    continent=eight_continents[i]\n",
    "    print(continent)\n",
    "    c_lake_afm_mw_BL_BG=os.path.join(mwBG_gdb,f'c{i+1}_{continent}_polygon_afm_mwBL_BG')\n",
    "    c_lake_afm_mw_BL_BG_lyr=f'c{i+1}_{continent}_lake_afm_mw_BL_BG'\n",
    "#     arcpy.MakeFeatureLayer_management(c_lake_afm_mw_BL_BG,c_lake_afm_mw_BL_BG_lyr)\n",
    "    arcpy.AddField_management(c_lake_afm_mw_BL_BG_lyr,'lake_type','Short')\n",
    "    selectByAttribute(c_lake_afm_mw_BL_BG_lyr,'NEW_SELECTION',\"lake_area<0.01\")\n",
    "    arcpy.CalculateField_management(c_lake_afm_mw_BL_BG_lyr,'lake_type',0)\n",
    "    selectByAttribute(c_lake_afm_mw_BL_BG_lyr,'NEW_SELECTION',\"lake_area>=0.01 and lake_area <0.03\")\n",
    "    arcpy.CalculateField_management(c_lake_afm_mw_BL_BG_lyr,'lake_type',1)\n",
    "    selectByAttribute(c_lake_afm_mw_BL_BG_lyr,'NEW_SELECTION',\"lake_area>=0.03 and lake_area <0.01\")\n",
    "    arcpy.CalculateField_management(c_lake_afm_mw_BL_BG_lyr,'lake_type',2)\n",
    "    selectByAttribute(c_lake_afm_mw_BL_BG_lyr,'NEW_SELECTION',\"lake_area>=0.01 and lake_area <1\")\n",
    "    arcpy.CalculateField_management(c_lake_afm_mw_BL_BG_lyr,'lake_type',3)\n",
    "    selectByAttribute(c_lake_afm_mw_BL_BG_lyr,'NEW_SELECTION',\"lake_area>=1 and lake_area <100\")\n",
    "    arcpy.CalculateField_management(c_lake_afm_mw_BL_BG_lyr,'lake_type',4)\n",
    "    selectByAttribute(c_lake_afm_mw_BL_BG_lyr,'NEW_SELECTION',\"lake_area>=100\")\n",
    "    arcpy.CalculateField_management(c_lake_afm_mw_BL_BG_lyr,'lake_type',5)\n",
    "    selectByAttribute(c_lake_afm_mw_BL_BG_lyr,'NEW_SELECTION',\"\")\n",
    "    c_lake_afm_mw_BL_BG_point=os.path.join(mwBG_point_gdb,f'c{i+1}_{continent}_polygon_afm_mwBL_BG_point')\n",
    "    arcpy.management.FeatureToPoint(c_lake_afm_mw_BL_BG_lyr,c_lake_afm_mw_BL_BG_point,'INSIDE')"
   ]
  },
  {
   "cell_type": "code",
   "execution_count": null,
   "metadata": {},
   "outputs": [],
   "source": [
    "selectByAttribute(c_lake_afm_mw_BL_BG_lyr,'NEW_SELECTION',\"lake_area>=1 and lake_area <100\")\n",
    "arcpy.CalculateField_management(c_lake_afm_mw_BL_BG_lyr,'lake_type',3)\n",
    "selectByAttribute(c_lake_afm_mw_BL_BG_lyr,'NEW_SELECTION',\"lake_area>=100\")\n",
    "# arcpy.CalculateField_management(c_lake_afm_mw_BL_BG_lyr,'lake_type',4)"
   ]
  },
  {
   "cell_type": "code",
   "execution_count": null,
   "metadata": {},
   "outputs": [],
   "source": [
    "merge_list=[]\n",
    "for i in range(0,8):\n",
    "    continent=eight_continents[i]\n",
    "    print(continent)\n",
    "    c_lake_afm_mw_BL_BG_point_lyr=f'c{i+1}_{continent}_lake_afm_mw_BL_BG_point'\n",
    "    c_lake_afm_mw_BL_BG_point=os.path.join(mwBG_point_gdb,f'c{i+1}_{continent}_polygon_afm_mwBL_BG_point')\n",
    "    arcpy.MakeFeatureLayer_management(c_lake_afm_mw_BL_BG_point,c_lake_afm_mw_BL_BG_point_lyr)\n",
    "#     selectByAttribute(c_lake_afm_mw_BL_BG_point_lyr,'NEW_SELECTION','lake_area IS NULL')\n",
    "    merge_list.append(c_lake_afm_mw_BL_BG_point_lyr)\n",
    "total_lake_afm_mw_BL_BG_point=os.path.join(mwBG_point_gdb,'total_polygon_afm_mwBL_BG_point')\n",
    "arcpy.Merge_management(merge_list,total_lake_afm_mw_BL_BG_point)"
   ]
  },
  {
   "cell_type": "code",
   "execution_count": null,
   "metadata": {},
   "outputs": [],
   "source": [
    "total_lake_afm_mw_BL_BG_point_lyr='total_lake_afm_mw_BL_BG_point'\n",
    "arcpy.MakeFeatureLayer_management(total_lake_afm_mw_BL_BG_point,total_lake_afm_mw_BL_BG_point_lyr)"
   ]
  },
  {
   "cell_type": "code",
   "execution_count": null,
   "metadata": {},
   "outputs": [],
   "source": [
    "# selectByAttribute(total_lake_afm_mw_BL_BG_point_lyr,'NEW_SELECTION',\"lake_area<0.01\")\n",
    "# global_lake_afm_mw_BL_BG_point_lt1ha=os.path.join(mwBG_point_gdb,'global_lake_afm_mw_BL_BG_point_lt1ha')\n",
    "# arcpy.conversion.ExportFeatures(total_lake_afm_mw_BL_BG_point_lyr,global_lake_afm_mw_BL_BG_point_lt1ha)\n",
    "# selectByAttribute(total_lake_afm_mw_BL_BG_point_lyr,'NEW_SELECTION',\"lake_area > 0.01 and lake_area <0.03\")\n",
    "# global_lake_afm_mw_BL_BG_point_bt1_3ha=os.path.join(mwBG_point_gdb,'global_lake_afm_mw_BL_BG_point_bt1_3ha')\n",
    "# arcpy.conversion.ExportFeatures(total_lake_afm_mw_BL_BG_point_lyr,global_lake_afm_mw_BL_BG_point_bt1_3ha)\n",
    "selectByAttribute(total_lake_afm_mw_BL_BG_point_lyr,'NEW_SELECTION',\"lake_area > 0.03\")\n",
    "global_lake_afm_mw_BL_BG_point_gt3ha=os.path.join(mwBG_point_gdb,'global_lake_afm_mw_BL_BG_point_gt3ha')\n",
    "arcpy.conversion.ExportFeatures(total_lake_afm_mw_BL_BG_point_lyr,global_lake_afm_mw_BL_BG_point_gt3ha)"
   ]
  },
  {
   "cell_type": "code",
   "execution_count": null,
   "metadata": {},
   "outputs": [],
   "source": [
    "merge_list=[]\n",
    "for i in range(0,8):\n",
    "    continent=eight_continents[i]\n",
    "    print(continent)\n",
    "    c_lake_afm_mw_BL_BG_pi_point_lyr=f'c{i+1}_{continent}_lake_afm_mw_BL_BG_pi_point'\n",
    "    c_lake_afm_mw_BL_BG_pi_point=os.path.join(mwBG_point_gdb,f'c{i+1}_{continent}_polygon_afm_mwBL_BG_point')\n",
    "    arcpy.MakeFeatureLayer_management(c_lake_afm_mw_BL_BG_pi_point,c_lake_afm_mw_BL_BG_pi_point_lyr)\n",
    "#     selectByAttribute(c_lake_afm_mw_BL_BG_point_lyr,'NEW_SELECTION','lake_area IS NULL')\n",
    "    merge_list.append(c_lake_afm_mw_BL_BG_pi_point_lyr)\n",
    "total_lake_afm_mw_BL_BG_pi_point=os.path.join(mwBG_point_gdb,'total_polygon_afm_mwBL_BG_pi_point')\n",
    "arcpy.Merge_management(merge_list,total_lake_afm_mw_BL_BG_pi_point)"
   ]
  },
  {
   "cell_type": "markdown",
   "metadata": {},
   "source": [
    "## 和PLD,GLAKES融合"
   ]
  },
  {
   "cell_type": "code",
   "execution_count": 10,
   "metadata": {},
   "outputs": [
    {
     "data": {
      "text/html": [
       "<div class='gpresult'><h2>Messages</h2><div id='messages' data-messages='[\"Start Time: 2024年11月30日 9:41:06\",\"Succeeded at 2024年11月30日 9:43:05 (Elapsed Time: 1 minutes 59 seconds)\"]' data-show='true'><div id = 'default' /></div></div>"
      ],
      "text/plain": [
       "<Result 'J:\\\\lakemapping\\\\postprocess\\\\v15_241128\\\\4_merge_process.gdb\\\\three_dataset_merged_raw'>"
      ]
     },
     "execution_count": 10,
     "metadata": {},
     "output_type": "execute_result"
    }
   ],
   "source": [
    "merge_list=[]\n",
    "merge_dir=r'J:\\lakemapping\\postprocess\\v15_241128\\4_merge_process.gdb\\three_dataset_merged_raw'\n",
    "start=time.time()\n",
    "for i in range(0,8):\n",
    "    continent=eight_continents[i]\n",
    "    b_lake_afm_merge_with_BL=os.path.join(mwBL_gdb,f'b{i+1}_{continent}_polygon_afm_mwBL')\n",
    "    b_lake_afm_merge_with_BL_lyr=f'b{i+1}_{continent}_lake_afm_merge_with_BL'\n",
    "    if i>0:\n",
    "        arcpy.MakeFeatureLayer_management(b_lake_afm_merge_with_BL, b_lake_afm_merge_with_BL_lyr)\n",
    "        arcpy.AddField_management(b_lake_afm_merge_with_BL_lyr,'mwGLAKES_PLD','Short')\n",
    "        selectByLocation(b_lake_afm_merge_with_BL_lyr, 'INTERSECT', 'GLAKES_for_merge','NEW_SELECTION')\n",
    "        selectByLocation(b_lake_afm_merge_with_BL_lyr, 'INTERSECT', 'PLD_iwSHIFT_Arid','ADD_TO_SELECTION')\n",
    "        arcpy.CalculateField_management(b_lake_afm_merge_with_BL_lyr,'mwGLAKES_PLD',1)\n",
    "    merge_list.append(b_lake_afm_merge_with_BL_lyr)\n",
    "arcpy.Merge_management(merge_list,merge_dir)"
   ]
  },
  {
   "cell_type": "code",
   "execution_count": 9,
   "metadata": {},
   "outputs": [
    {
     "data": {
      "text/html": [
       "<div class='gpresult'><h2>Messages</h2><div id='messages' data-messages='[\"Start Time: 2024年11月30日 9:00:22\",\"Succeeded at 2024年11月30日 9:00:49 (Elapsed Time: 27.72 seconds)\"]' data-show='true'><div id = 'default' /></div></div>"
      ],
      "text/plain": [
       "<Result 'b1_Asia_lake_afm_merge_with_BL'>"
      ]
     },
     "execution_count": 9,
     "metadata": {},
     "output_type": "execute_result"
    }
   ],
   "source": [
    "arcpy.CalculateField_management(b_lake_afm_merge_with_BL_lyr,'mwGLAKES_PLD',1)"
   ]
  },
  {
   "cell_type": "code",
   "execution_count": 15,
   "metadata": {},
   "outputs": [
    {
     "name": "stdout",
     "output_type": "stream",
     "text": [
      "Europe\n",
      "Oceania_Anta\n",
      "North_America\n",
      "South_America\n"
     ]
    },
    {
     "ename": "ExecuteError",
     "evalue": "ERROR 160706: Cannot acquire a lock.\nFailed to execute (CalculateField).\n",
     "output_type": "error",
     "traceback": [
      "\u001b[0;31m---------------------------------------------------------------------------\u001b[0m\n\u001b[0;31mExecuteError\u001b[0m                              Traceback (most recent call last)",
      "In  \u001b[0;34m[15]\u001b[0m:\nLine \u001b[0;34m15\u001b[0m:    calculateField(\u001b[33m'\u001b[39;49;00m\u001b[33mthree_dataset_merged\u001b[39;49;00m\u001b[33m'\u001b[39;49;00m,\u001b[33m'\u001b[39;49;00m\u001b[33mContinent\u001b[39;49;00m\u001b[33m'\u001b[39;49;00m,\u001b[33mf\u001b[39;49;00m\u001b[33m\"\u001b[39;49;00m\u001b[33m'\u001b[39;49;00m\u001b[33m{\u001b[39;49;00mcontinent\u001b[33m}\u001b[39;49;00m\u001b[33m'\u001b[39;49;00m\u001b[33m\"\u001b[39;49;00m)\n",
      "In  \u001b[0;34m[5]\u001b[0m:\nLine \u001b[0;34m8\u001b[0m:     arcpy.CalculateField_management(inputFeature, field,code)\n",
      "File \u001b[0;34mC:\\Program Files\\ArcGIS\\Pro\\Resources\\ArcPy\\arcpy\\management.py\u001b[0m, in \u001b[0;32mCalculateField\u001b[0m:\nLine \u001b[0;34m5786\u001b[0m:  \u001b[34mraise\u001b[39;49;00m e\n",
      "File \u001b[0;34mC:\\Program Files\\ArcGIS\\Pro\\Resources\\ArcPy\\arcpy\\management.py\u001b[0m, in \u001b[0;32mCalculateField\u001b[0m:\nLine \u001b[0;34m5783\u001b[0m:  retval = convertArcObjectToPythonObject(gp.CalculateField_management(*gp_fixargs((in_table, field, expression, expression_type, code_block, field_type, enforce_domains), \u001b[34mTrue\u001b[39;49;00m)))\n",
      "File \u001b[0;34mC:\\Program Files\\ArcGIS\\Pro\\Resources\\ArcPy\\arcpy\\geoprocessing\\_base.py\u001b[0m, in \u001b[0;32m<lambda>\u001b[0m:\nLine \u001b[0;34m512\u001b[0m:   \u001b[34mreturn\u001b[39;49;00m \u001b[34mlambda\u001b[39;49;00m *args: val(*gp_fixargs(args, \u001b[34mTrue\u001b[39;49;00m))\n",
      "\u001b[0;31mExecuteError\u001b[0m: ERROR 160706: Cannot acquire a lock.\nFailed to execute (CalculateField).\n\n\u001b[0;31m---------------------------------------------------------------------------\u001b[0m"
     ]
    }
   ],
   "source": [
    "for i in range(3,8):#[1,3,4,5]:\n",
    "    if i ==1:\n",
    "        selectByAttribute('three_dataset_merged','NEW_SELECTION',\"Continent = 'Asia'\")\n",
    "        selectByLocation('three_dataset_merged','HAVE_THEIR_CENTER_IN','si','SUBSET_SELECTION')\n",
    "        arcpy.CalculateField_management('three_dataset_merged', \"continent\",\"'Siberia'\")\n",
    "    elif i==6:\n",
    "        selectByLocation('three_dataset_merged','HAVE_THEIR_CENTER_IN','ar','NEW_SELECTION')\n",
    "        arcpy.CalculateField_management('three_dataset_merged', \"Continent\",\"'Arctic'\")\n",
    "    else:\n",
    "        continent=eight_continents[i]\n",
    "        print(continent)\n",
    "        selectByAttribute(continent_lyr,'NEW_SELECTION',f\"Continent = '{continent}'\")\n",
    "        selectByAttribute('three_dataset_merged','NEW_SELECTION',\"Continent IS NULL\")\n",
    "        selectByLocation('three_dataset_merged','HAVE_THEIR_CENTER_IN',continent_lyr,'SUBSET_SELECTION')\n",
    "        calculateField('three_dataset_merged','Continent',f\"'{continent}'\")"
   ]
  },
  {
   "cell_type": "code",
   "execution_count": null,
   "metadata": {},
   "outputs": [],
   "source": [
    "calculateField('three_dataset_merged','Continent',f\"'{continent}'\")"
   ]
  },
  {
   "cell_type": "code",
   "execution_count": 19,
   "metadata": {},
   "outputs": [],
   "source": [
    "three_dataset_merged_lyr='three_dataset_merged'"
   ]
  },
  {
   "cell_type": "code",
   "execution_count": 17,
   "metadata": {},
   "outputs": [
    {
     "name": "stdout",
     "output_type": "stream",
     "text": [
      "Asia\n",
      "Siberia\n",
      "Africa\n",
      "Europe\n",
      "Oceania_Anta\n",
      "North_America\n",
      "Arctic\n",
      "South_America\n"
     ]
    }
   ],
   "source": [
    "for i in range(0,8):\n",
    "    continent=eight_continents[i]\n",
    "    d_lake_for_merge=os.path.join(mwBL_gdb,f'd{i}_{continent}_merge')\n",
    "    print(continent)\n",
    "    selectByAttribute(three_dataset_merged_lyr,'NEW_SELECTION',f\"Continent = '{continent}'\")\n",
    "    arcpy.Dissolve_management(three_dataset_merged_lyr, d_lake_for_merge,\"\", \"\", \"SINGLE_PART\")# dissolve copylake"
   ]
  },
  {
   "cell_type": "code",
   "execution_count": null,
   "metadata": {},
   "outputs": [],
   "source": [
    "for i in range(0,8):\n",
    "    continent=eight_continents[i]\n",
    "    d_lake_for_merge=os.path.join(mwBL_gdb,f'd{i}_{continent}_merge')\n",
    "    d_lake_for_merge_lyr=f'd{i}_{continent}_merge'\n",
    "    arcpy.MakeFeatureLayer_management(d_lake_for_merge, d_lake_for_merge_lyr)\n",
    "    arcpy.AddField_management(d_lake_for_merge_lyr,\"lake_area\",\"Double\")\n",
    "    arcpy.CalculateField_management(d_lake_for_merge_lyr, \"lake_area\",  \"!shape.geodesicArea@SQUAREKILOMETERS!\", \"PYTHON_9.3\")"
   ]
  },
  {
   "cell_type": "code",
   "execution_count": 22,
   "metadata": {},
   "outputs": [
    {
     "ename": "ExecuteError",
     "evalue": "ERROR 160706: Cannot acquire a lock.\nFailed to execute (CalculateField).\n",
     "output_type": "error",
     "traceback": [
      "\u001b[0;31m---------------------------------------------------------------------------\u001b[0m\n\u001b[0;31mExecuteError\u001b[0m                              Traceback (most recent call last)",
      "In  \u001b[0;34m[22]\u001b[0m:\nLine \u001b[0;34m7\u001b[0m:     arcpy.CalculateField_management(d_lake_for_merge_total_lyr, \u001b[33m\"\u001b[39;49;00m\u001b[33mlake_area\u001b[39;49;00m\u001b[33m\"\u001b[39;49;00m,  \u001b[33m\"\u001b[39;49;00m\u001b[33m!shape.geodesicArea@SQUAREKILOMETERS!\u001b[39;49;00m\u001b[33m\"\u001b[39;49;00m, \u001b[33m\"\u001b[39;49;00m\u001b[33mPYTHON_9.3\u001b[39;49;00m\u001b[33m\"\u001b[39;49;00m)\n",
      "File \u001b[0;34mC:\\Program Files\\ArcGIS\\Pro\\Resources\\ArcPy\\arcpy\\management.py\u001b[0m, in \u001b[0;32mCalculateField\u001b[0m:\nLine \u001b[0;34m5786\u001b[0m:  \u001b[34mraise\u001b[39;49;00m e\n",
      "File \u001b[0;34mC:\\Program Files\\ArcGIS\\Pro\\Resources\\ArcPy\\arcpy\\management.py\u001b[0m, in \u001b[0;32mCalculateField\u001b[0m:\nLine \u001b[0;34m5783\u001b[0m:  retval = convertArcObjectToPythonObject(gp.CalculateField_management(*gp_fixargs((in_table, field, expression, expression_type, code_block, field_type, enforce_domains), \u001b[34mTrue\u001b[39;49;00m)))\n",
      "File \u001b[0;34mC:\\Program Files\\ArcGIS\\Pro\\Resources\\ArcPy\\arcpy\\geoprocessing\\_base.py\u001b[0m, in \u001b[0;32m<lambda>\u001b[0m:\nLine \u001b[0;34m512\u001b[0m:   \u001b[34mreturn\u001b[39;49;00m \u001b[34mlambda\u001b[39;49;00m *args: val(*gp_fixargs(args, \u001b[34mTrue\u001b[39;49;00m))\n",
      "\u001b[0;31mExecuteError\u001b[0m: ERROR 160706: Cannot acquire a lock.\nFailed to execute (CalculateField).\n\n\u001b[0;31m---------------------------------------------------------------------------\u001b[0m"
     ]
    }
   ],
   "source": [
    "# selectByAttribute(three_dataset_merged_lyr,'NEW_SELECTION',\"\")\n",
    "# d_lake_for_merge_total=os.path.join(mwBL_gdb,f'd_lake_merge')\n",
    "# arcpy.Dissolve_management(three_dataset_merged_lyr, d_lake_for_merge_total,\"\", \"\", \"SINGLE_PART\")# dissolve copylake\n",
    "d_lake_for_merge_total_lyr=f'd_lake_for_merge_total'\n",
    "arcpy.MakeFeatureLayer_management(d_lake_for_merge_total,d_lake_for_merge_total_lyr)\n",
    "arcpy.AddField_management(d_lake_for_merge_total_lyr,\"lake_area\",\"Double\")\n",
    "arcpy.CalculateField_management(d_lake_for_merge_total_lyr, \"lake_area\",  \"!shape.geodesicArea@SQUAREKILOMETERS!\", \"PYTHON_9.3\")\n",
    "cal_continent(d_lake_for_merge_total_lyr)"
   ]
  },
  {
   "cell_type": "code",
   "execution_count": null,
   "metadata": {},
   "outputs": [],
   "source": [
    "for i in range(0,8):#[1,3,4,5]:\n",
    "    if i !=6:\n",
    "        continent=eight_continents[i]\n",
    "        print(continent)\n",
    "        c_lake_afm_mw_BL_BG=os.path.join(mwBG_gdb,f'c{i+1}_{continent}_polygon_afm_mwBL_BG')\n",
    "        c_lake_afm_mw_BL_BG_lyr=f'c{i+1}_{continent}_lake_afm_mw_BL_BG'\n",
    "        arcpy.MakeFeatureLayer_management(c_lake_afm_mw_BL_BG,c_lake_afm_mw_BL_BG_lyr)\n",
    "        \n",
    "        selectByAttribute(c_lake_afm_mw_BL_BG_lyr,'NEW_SELECTION',\"iw_PLD IS NULL\")\n",
    "        selectByAttribute(c_arid_lake_mwPLD_lyr,'NEW_SELECTION',f\"Continent = '{continent}'\")\n",
    "\n",
    "        d_lake_afm_mw_BL_PLD=os.path.join(mwPLD_gdb,f'd{i+1}_{continent}_lakes_mwPLD')\n",
    "        d_lake_afm_mw_BL_PLD_lyr=f'd{i+1}_{continent}_lakes'\n",
    "\n",
    "        field_list=['lake_area','lake_type','sources']\n",
    "        fieldmappings = arcpy.FieldMappings()\n",
    "        fieldmappings_all = arcpy.FieldMappings()\n",
    "        fieldmappings_all.addTable(c_lake_afm_mw_BL_BG_lyr)\n",
    "        for field_i in field_list:\n",
    "            field_idx = fieldmappings_all.findFieldMapIndex(field_i)\n",
    "            fieldmappings.addFieldMap(fieldmappings_all.getFieldMap(field_idx))\n",
    "\n",
    "        arcpy.Merge_management([c_lake_afm_mw_BL_BG_lyr,c_arid_lake_mwPLD_lyr],d_lake_afm_mw_BL_PLD,field_mappings=fieldmappings)\n",
    "#         arcpy.MakeFeatureLayer_management(d_lake_afm_mw_BL_PLD,d_lake_afm_mw_BL_PLD_lyr)\n",
    "#     #     selectByAttribute(d_lake_afm_mw_BL_PLD_lyr,'NEW_SELECTION',\"\")\n",
    "#         out_table=os.path.join(stastics_gdb,f'd{i+1}_{continent}_lakes_stastics_{version}')\n",
    "#         arcpy.analysis.Statistics(d_lake_afm_mw_BL_PLD_lyr, out_table, [['lake_area',\"sum\"]], ['sources']) \n",
    " "
   ]
  }
 ],
 "metadata": {
  "kernelspec": {
   "display_name": "ArcGISPro",
   "language": "Python",
   "name": "python3"
  },
  "language_info": {
   "file_extension": ".py",
   "name": "python",
   "version": "3"
  }
 },
 "nbformat": 4,
 "nbformat_minor": 2
}
