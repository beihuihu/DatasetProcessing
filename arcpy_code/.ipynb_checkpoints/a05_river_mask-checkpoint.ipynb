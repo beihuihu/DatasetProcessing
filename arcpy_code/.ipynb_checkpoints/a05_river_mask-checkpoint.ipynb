{
 "cells": [
  {
   "cell_type": "code",
   "execution_count": 30,
   "metadata": {},
   "outputs": [],
   "source": [
    "import arcpy\n",
    "from arcpy.sa import *\n",
    "import os\n",
    "import time\n",
    "arcpy.env.overwriteOutput = True"
   ]
  },
  {
   "cell_type": "code",
   "execution_count": 32,
   "metadata": {},
   "outputs": [],
   "source": [
    "# load input features and make layer\n",
    "output_dir = r'J:\\lakemapping\\postprocess\\v9_240622'\n",
    "auxiliary_dataset_gdb=r'D:\\postprocess\\v240220\\auxiliary_dataset.gdb'\n",
    "if not os.path.exists(output_dir):\n",
    "    os.makedirs(output_dir)\n",
    "    arcpy.CreateFileGDB_management(output_dir, \"1_temp_files.gdb\")\n",
    "    arcpy.CreateFileGDB_management(output_dir, \"2_polygon_iw_River.gdb\")\n",
    "    arcpy.CreateFileGDB_management(output_dir, \"3_polygon_after_rivermask.gdb\")\n",
    "temp_file_gdb=os.path.join(output_dir,f'1_temp_files.gdb')\n",
    "river_mask_gdb=os.path.join(output_dir,f'2_polygon_iw_River.gdb')\n",
    "after_mask_gdb=os.path.join(output_dir,f'3_polygon_after_rivermask.gdb')\n",
    "region=\"as_1\"\n",
    "raw_prediction_fn='lakes_'+region\n",
    "prefix=region"
   ]
  },
  {
   "cell_type": "code",
   "execution_count": 33,
   "metadata": {},
   "outputs": [],
   "source": [
    "GLAKES_Res=os.path.join(auxiliary_dataset_gdb,'GLAKES_Res')\n",
    "arcpy.MakeFeatureLayer_management(GLAKES_Res,'GLAKES_Res')\n",
    "\n",
    "GLAKES_natural_lake=os.path.join(auxiliary_dataset_gdb,'GLAKES_gte1_natural_lake')\n",
    "arcpy.MakeFeatureLayer_management(GLAKES_natural_lake,'GLAKES_natural_lake')\n",
    "\n",
    "GLAKES=os.path.join(auxiliary_dataset_gdb,r'D:\\lakemapping\\0_auxiliary_data\\GLAKES\\GLAKES\\GLAKES.gdb\\GLAKES')\n",
    "arcpy.MakeFeatureLayer_management(GLAKES,'GLAKES')\n",
    "\n",
    "GRWL_river=os.path.join(auxiliary_dataset_gdb,'GRWL_DNRiver')\n",
    "arcpy.MakeFeatureLayer_management(GRWL_river,'GRWL_river')\n",
    "\n",
    "osm_river=os.path.join(auxiliary_dataset_gdb,'osm_natural_water_river')\n",
    "arcpy.MakeFeatureLayer_management(osm_river,'osm_river')\n",
    "\n",
    "osm_waterway=os.path.join(auxiliary_dataset_gdb,'osm_waterway_river')\n",
    "arcpy.MakeFeatureLayer_management(osm_waterway,'osm_waterway')\n",
    "\n",
    "osm_reservoir=os.path.join(auxiliary_dataset_gdb,'osm_natural_water_reservoir')\n",
    "arcpy.MakeFeatureLayer_management(osm_reservoir,'osm_reservoir')\n",
    "\n",
    "GeoDAR=r'D:\\lakemapping\\0_auxiliary_data\\GeoDAR\\GeoDAR_v10_v11\\GeoDAR_v11_reservoirs.shp'\n",
    "arcpy.MakeFeatureLayer_management(GeoDAR,'GeoDAR')"
   ]
  },
  {
   "cell_type": "code",
   "execution_count": 34,
   "metadata": {},
   "outputs": [],
   "source": [
    "lake_iwG=os.path.join(temp_file_gdb,raw_prediction_fn+'_iwG')\n",
    "lake_niwG=os.path.join(temp_file_gdb,raw_prediction_fn+'_niwG')\n",
    "lake_waterway_iwG=os.path.join(temp_file_gdb,raw_prediction_fn+'_waterway_iwG')\n",
    "lake_waterway_niwG=os.path.join(river_mask_gdb,raw_prediction_fn+'_waterway_niwG')\n",
    "lake_niwR=os.path.join(river_mask_gdb,raw_prediction_fn+'_niwR')\n",
    "\n",
    "lake_arm_point=os.path.join(temp_file_gdb,raw_prediction_fn+'_arm_point')\n",
    "lake_arm=os.path.join(river_mask_gdb,raw_prediction_fn+'_arm')\n",
    "lake_aGm=os.path.join(temp_file_gdb,raw_prediction_fn+'_aGm')\n",
    "lake_aGm_singlepart=os.path.join(temp_file_gdb,raw_prediction_fn+'_aGm_singlepart')\n",
    "lake_aGm_point=os.path.join(temp_file_gdb,raw_prediction_fn+'_aGm_point')\n",
    "lake_waterway_aGm=os.path.join(temp_file_gdb,raw_prediction_fn+'_waterway_aGm')\n",
    "lake_waterway_aGm_singlepart=os.path.join(temp_file_gdb,raw_prediction_fn+'_waterway_aGm_singlepart')\n",
    "lake_waterway_aGm_point=os.path.join(temp_file_gdb,raw_prediction_fn+'_waterway_aGm_point')\n",
    "lake_arm_raw=os.path.join(r'D:\\postprocess\\v240306\\0_raw_prediction.gdb',f'{raw_prediction_fn}_arm')#after River Mask\n",
    "lake_arm_raw_point=os.path.join(r'D:\\postprocess\\v240306\\0_raw_prediction.gdb',f'{raw_prediction_fn}_arm_point')"
   ]
  },
  {
   "cell_type": "code",
   "execution_count": 35,
   "metadata": {},
   "outputs": [],
   "source": [
    "lake_iwG_aGm_SJ=lake_iwG+'_temp_SJ'\n",
    "lake_iwG_arm_SJ=os.path.join(river_mask_gdb,raw_prediction_fn+'_iwG_arm_SJ')\n",
    "lake_niwG_arm_SJ=os.path.join(river_mask_gdb,raw_prediction_fn+'_niwG_arm_SJ')\n",
    "lake_waterway_iwG_SJ=os.path.join(river_mask_gdb,raw_prediction_fn+'_waterway_iwG_SJ')"
   ]
  },
  {
   "cell_type": "code",
   "execution_count": 36,
   "metadata": {},
   "outputs": [],
   "source": [
    "lake_rmO_lyr='lake_rmO' \n",
    "\n",
    "lake_iwG_lyr='lake_iwG'\n",
    "lake_aGm_lyr='lake_aGm'\n",
    "lake_aGm_singlepart_lyr='lake_aGm_singlepart_lyr'\n",
    "lake_iwG_arm_SJ_lyr=prefix+'_lake_iwG_arm_SJ'\n",
    "\n",
    "lake_niwG_lyr='lake_niwG'\n",
    "lake_niwG_arm_SJ_lyr=prefix+'_lake_niwG_arm_SJ'\n",
    "\n",
    "lake_arm_raw_lyr='lake_arm_raw'\n",
    "lake_arm_raw_point_lyr='lake_arm_raw_point_lyr'\n",
    "lake_arm_point_lyr='lake_arm_point'\n",
    "lake_arm_lyr=prefix+'_lake_arm'\n",
    "\n",
    "lake_waterway_iwG_lyr='lake_waterway_iwG'\n",
    "lake_waterway_iwG_lyr='lake_waterway_iwG'\n",
    "lake_waterway_aGm_lyr='lake_waterway_aGm'\n",
    "lake_aGm_point_lyr='lake_aGm_point'\n",
    "lake_waterway_aGm_singlepart_lyr='lake_waterway_aGm_singlepart'\n",
    "lake_waterway_aGm_point_lyr='lake_waterway_aGm_point'\n",
    "lake_waterway_iwG_SJ_lyr=prefix+'_lake_waterway_iwG_SJ'\n",
    "# lake_waterway_iwG_minmBnd_lyr='lake_waterway_minmBnd_iwG'\n",
    "\n",
    "lake_waterway_niwG_lyr=prefix+'_lake_waterway_niwG'\n",
    "# lake_niwR_minmBnd_lyr=prefix+'_lake_niwR_minmBnd'\n",
    "# lake_waterway_niwG_minmBnd_lyr='lake_waterway_minmBnd_niwG'\n",
    "\n",
    "lake_niwR_lyr='lake_niwR'\n",
    "lake_big_lake_lyr=prefix+'_biglakeModel'"
   ]
  },
  {
   "cell_type": "code",
   "execution_count": 42,
   "metadata": {},
   "outputs": [],
   "source": [
    "def selectByLocation(inputFeature,overlapType,selectionFeature,selectionType='NEW_SELECTION'):\n",
    "    arcpy.SelectLayerByLocation_management(inputFeature,overlapType,selectionFeature,selection_type=selectionType)\n",
    "    \n",
    "def selectByAttribute(inputFeature,selectionType='NEW_SELECTION',code=''):\n",
    "    arcpy.management.SelectLayerByAttribute(inputFeature,selectionType,code)\n",
    "    \n",
    "def calculateField(inputFeature,field,code):\n",
    "    arcpy.CalculateField_management(inputFeature, field,code)\n",
    "    \n",
    "def GLAKES_join(inputFeature,featureAfterGLAKESMask,outputFeauture,outLayer):\n",
    "    print('Prepare the fieldmap for GLAKES mask spatial join')\n",
    "    fieldmappings = arcpy.FieldMappings()\n",
    "    fieldmappings_all = arcpy.FieldMappings()\n",
    "    fieldmappings_all.addTable(inputFeature)#未mask\n",
    "    fieldmappings_all.addTable(featureAfterGLAKESMask)\n",
    "    field_list = ['area', 'area_aGm','iwG','iwR','flag']\n",
    "    for field_i in field_list:\n",
    "        field_idx = fieldmappings_all.findFieldMapIndex(field_i)\n",
    "        fieldmappings.addFieldMap(fieldmappings_all.getFieldMap(field_idx))\n",
    "\n",
    "    flag_idx = fieldmappings.findFieldMapIndex(\"flag\")\n",
    "    flag_fieldmap = fieldmappings.getFieldMap(flag_idx)\n",
    "    flag_fieldmap.mergeRule = \"max\"\n",
    "    fieldmappings.replaceFieldMap(flag_idx, flag_fieldmap)\n",
    "    \n",
    "    area_aGm_idx = fieldmappings.findFieldMapIndex(\"area_aGm\")\n",
    "    area_aGm_fieldmap = fieldmappings.getFieldMap(area_aGm_idx)\n",
    "    area_aGm_fieldmap.mergeRule = \"sum\"\n",
    "    fieldmappings.replaceFieldMap(area_aGm_idx, area_aGm_fieldmap)\n",
    "\n",
    "    print('Conduct spatial join')\n",
    "    arcpy.SpatialJoin_analysis(inputFeature, featureAfterGLAKESMask, outputFeauture, \"JOIN_ONE_TO_ONE\",\n",
    "                               \"KEEP_ALL\", fieldmappings, \"CONTAINS\")\n",
    "    lyr=outLayer\n",
    "    arcpy.MakeFeatureLayer_management(outputFeauture, lyr)\n",
    "    #计算比例\n",
    "    arcpy.AddField_management(lyr, 'area_ratio_G', \"DOUBLE\")#新建字段为面积比例\n",
    "    arcpy.CalculateField_management(lyr, 'area_ratio_G', '!area_aGm!/!area!', \"PYTHON3\")\n",
    "\n",
    "def RiverMaskJoin(inputFeature,featureAfterRiverMask,outputFeauture,field_list,outLayer):\n",
    "    print('Prepare the fieldmap for river mask spatial join')\n",
    "    fieldmappings = arcpy.FieldMappings()\n",
    "    fieldmappings_all = arcpy.FieldMappings()\n",
    "    fieldmappings_all.addTable(inputFeature)#未mask\n",
    "    fieldmappings_all.addTable(featureAfterRiverMask)\n",
    "    for field_i in field_list:\n",
    "        field_idx = fieldmappings_all.findFieldMapIndex(field_i)\n",
    "        fieldmappings.addFieldMap(fieldmappings_all.getFieldMap(field_idx))\n",
    "    area_idx = fieldmappings.findFieldMapIndex(\"area_arm\")\n",
    "    area_fieldmap = fieldmappings.getFieldMap(area_idx)\n",
    "    area_fieldmap.mergeRule = \"sum\"\n",
    "    fieldmappings.replaceFieldMap(area_idx, area_fieldmap)\n",
    "\n",
    "    print('Conduct spatial join')\n",
    "    arcpy.SpatialJoin_analysis(inputFeature, featureAfterRiverMask, outputFeauture, \"JOIN_ONE_TO_ONE\",\n",
    "                               \"KEEP_ALL\", fieldmappings, \"CONTAINS\")\n",
    "    lyr=outLayer\n",
    "    arcpy.MakeFeatureLayer_management(outputFeauture, lyr)\n",
    "    #选择掩膜后没有残留的湖泊赋值为0\n",
    "    arcpy.management.SelectLayerByAttribute(lyr,'NEW_SELECTION', 'area_arm IS NULL')\n",
    "    arcpy.CalculateField_management(lyr, 'area_arm', 0 , \"PYTHON3\")\n",
    "    arcpy.management.SelectLayerByAttribute(lyr,'NEW_SELECTION', '')\n",
    "    #计算比例\n",
    "    arcpy.AddField_management(lyr, 'area_ratio_R', \"DOUBLE\")#新建字段为面积比例\n",
    "    arcpy.CalculateField_management(lyr, 'area_ratio_R', '!area_arm!/!area!', \"PYTHON3\")\n",
    "    \n",
    "def normal_join(inputFeature,joinFeature,outputFeauture,field_list,outLayer):\n",
    "    print('Prepare the fieldmap for river mask spatial join')\n",
    "    fieldmappings = arcpy.FieldMappings()\n",
    "    fieldmappings_all = arcpy.FieldMappings()\n",
    "    fieldmappings_all.addTable(inputFeature)#未mask\n",
    "    fieldmappings_all.addTable(featureAfterRiverMask)\n",
    "    for field_i in field_list:\n",
    "        field_idx = fieldmappings_all.findFieldMapIndex(field_i)\n",
    "        fieldmappings.addFieldMap(fieldmappings_all.getFieldMap(field_idx))\n",
    "    print('Conduct spatial join')\n",
    "    arcpy.SpatialJoin_analysis(inputFeature, joinFeature, outputFeauture, \"JOIN_ONE_TO_ONE\",\n",
    "                               \"KEEP_COMMON\", fieldmappings, \"CONTAINS\")\n",
    "    \n",
    "def add_Res_flag(inputFeature):\n",
    "    selectByAttribute(inputFeature,'NEW_SELECTION', 'flag IS NULL OR \"flag\" <= 1 ')\n",
    "    selectByLocation(inputFeature,'INTERSECT',osm_reservoir,'SUBSET_SELECTION')\n",
    "    arcpy.CalculateField_management(inputFeature, 'flag',  3)\n",
    "\n",
    "    selectByAttribute(inputFeature,'NEW_SELECTION', 'flag IS NULL OR \"flag\" <= 1 ')\n",
    "    selectByLocation(inputFeature,'INTERSECT',GeoDAR,'SUBSET_SELECTION')\n",
    "    arcpy.CalculateField_management(inputFeature, 'flag',  4)\n",
    "\n",
    "def calculateOperateByAttribute(inputFeature,code,operate):\n",
    "    selectByAttribute(inputFeature,'NEW_SELECTION',code)\n",
    "    arcpy.CalculateField_management(inputFeature, 'operate',  operate)\n",
    "    \n",
    "def calculateOperateByLocation(inputFeature,selectionFeature,operate,selectionType='NEW_SELECTION'):\n",
    "    selectByLocation(inputFeature,selectionType,selectionFeature)\n",
    "    arcpy.CalculateField_management(inputFeature, 'operate',operate)\n",
    "\n",
    "def calculateBound(inputFeature,outputFeature,lyr):\n",
    "    arcpy.management.MinimumBoundingGeometry(inputFeature,outputFeature,'RECTANGLE_BY_AREA',mbg_fields_option='MBG_FIELDS')\n",
    "    arcpy.MakeFeatureLayer_management(outputFeature,lyr)\n",
    "\n",
    "    arcpy.AddField_management(lyr,'w_l',\"Double\")\n",
    "    calculateField(lyr, 'w_l',  '!MBG_Width!/!MBG_Length!')\n",
    "    selectByAttribute(lyr,'NEW_SELECTION','\"w_l\" > 0.3')\n",
    "    arcpy.DeleteFeatures_management(lyr)\n",
    "    arcpy.AddField_management(lyr,'area_bound',\"Double\")\n",
    "    arcpy.CalculateField_management(lyr, \"area_bound\",  \"!shape.geodesicArea@SQUAREKILOMETERS!\", \"PYTHON_9.3\")\n",
    "    arcpy.AddField_management(lyr,'area_ratio',\"Double\")\n",
    "    calculateField(lyr, 'area_ratio',  '!area!/!area_bound!')"
   ]
  },
  {
   "cell_type": "code",
   "execution_count": 41,
   "metadata": {},
   "outputs": [
    {
     "data": {
      "text/html": [
       "<div class='gpresult'><h2>Messages</h2><div id='messages' data-messages='[\"Start Time: 2024年6月26日 9:32:06\",\"Succeeded at 2024年6月26日 9:32:10 (Elapsed Time: 3.52 seconds)\"]' data-show='true'><div id = 'default' /></div></div>"
      ],
      "text/plain": [
       "<Result 'J:\\\\lakemapping\\\\postprocess\\\\v9_240622\\\\1_temp_files.gdb\\\\lakes_as_1_iwG'>"
      ]
     },
     "execution_count": 41,
     "metadata": {},
     "output_type": "execute_result"
    }
   ],
   "source": [
    "start=time.time()\n",
    "lake_rmO=os.path.join(r'D:\\postprocess\\v240306\\1_other_polygons.gdb',f'{raw_prediction_fn}_rmO' ) \n",
    "arcpy.MakeFeatureLayer_management(lake_rmO, lake_rmO_lyr)\n",
    "arcpy.DeleteField_management(lake_rmO_lyr, 'iwR')\n",
    "arcpy.AddField_management(lake_rmO_lyr, 'iwG', \"Short\")\n",
    "selectByLocation(lake_rmO_lyr, 'INTERSECT', GLAKES)\n",
    "calculateField(lake_rmO_lyr, 'iwG',\"1\")\n",
    "selectByAttribute(lake_rmO_lyr,'NEW_SELECTION',\"iwG IS NULL\")\n",
    "calculateField(lake_rmO_lyr, 'iwG',\"0\")\n",
    "arcpy.AddField_management(lake_rmO_lyr, 'iwR', \"Short\")\n",
    "selectByLocation(lake_rmO_lyr, 'INTERSECT', GRWL_river)\n",
    "calculateField(lake_rmO_lyr, 'iwR',1)\n",
    "selectByAttribute(lake_rmO_lyr,'NEW_SELECTION',\"iwR IS NULL\")\n",
    "selectByLocation(lake_rmO_lyr, 'INTERSECT', osm_river,'SUBSET_SELECTION')\n",
    "calculateField(lake_rmO_lyr, 'iwR',2)\n",
    "# selectByAttribute(lake_rmO_lyr,'NEW_SELECTION','\"iwR\"=0')\n",
    "selectByAttribute(lake_rmO_lyr,'NEW_SELECTION',\"iwR IS NULL\")\n",
    "selectByLocation(lake_rmO_lyr, 'INTERSECT', osm_waterway,'SUBSET_SELECTION')\n",
    "calculateField(lake_rmO_lyr, 'iwR',3)\n",
    "selectByAttribute(lake_rmO_lyr,'NEW_SELECTION',\"iwR IS NULL\")\n",
    "calculateField(lake_rmO_lyr, 'iwR',0)\n",
    "\n",
    "selectByAttribute(lake_rmO_lyr,'NEW_SELECTION','\"iwG\" = 1 and \"iwR\" > 0 and \"iwR\" < 3')\n",
    "arcpy.conversion.ExportFeatures(lake_rmO_lyr,lake_iwG)\n",
    "\n",
    "selectByAttribute(lake_rmO_lyr,'NEW_SELECTION','\"iwG\" = 0 and \"iwR\" > 0 and \"iwR\" < 3')\n",
    "arcpy.conversion.ExportFeatures(lake_rmO_lyr,lake_niwG)\n",
    "\n",
    "selectByAttribute(lake_rmO_lyr,'NEW_SELECTION','\"iwG\" = 1 and \"iwR\" = 3')\n",
    "arcpy.conversion.ExportFeatures(lake_rmO_lyr,lake_waterway_iwG)\n",
    "\n",
    "selectByAttribute(lake_rmO_lyr,'NEW_SELECTION','\"iwG\" = 0 and \"iwR\" = 3')\n",
    "arcpy.conversion.ExportFeatures(lake_rmO_lyr,lake_waterway_niwG)\n",
    "\n",
    "selectByAttribute(lake_rmO_lyr,'NEW_SELECTION','\"iwR\" = 0')\n",
    "arcpy.conversion.ExportFeatures(lake_rmO_lyr,lake_niwR)\n",
    "selectByAttribute(lake_rmO_lyr,'NEW_SELECTION','')\n",
    "end=time.time()\n",
    "print(f\"finish:{end-start}\")"
   ]
  },
  {
   "cell_type": "code",
   "execution_count": 426,
   "metadata": {},
   "outputs": [],
   "source": [
    "arcpy.MakeFeatureLayer_management(lake_arm_raw,lake_arm_raw_lyr)\n",
    "arcpy.AddField_management(lake_arm_raw_lyr , 'area_arm', \"Double\")\n",
    "arcpy.CalculateField_management(lake_arm_raw_lyr, \"area_arm\",  \"!shape.geodesicArea@SQUAREKILOMETERS!\", \"PYTHON_9.3\")\n",
    "arcpy.management.FeatureToPoint(lake_arm_raw_lyr,lake_arm_raw_point,'INSIDE')\n",
    "arcpy.MakeFeatureLayer_management(lake_arm_raw_point,lake_arm_raw_point_lyr)\n",
    "selectByLocation(lake_arm_raw_point_lyr, 'WITHIN', lake_iwG_lyr)\n",
    "selectByLocation(lake_arm_raw_point_lyr, 'WITHIN', lake_niwG_lyr,'ADD_TO_SELECTION')\n",
    "arcpy.conversion.ExportFeatures(lake_arm_raw_point_lyr,lake_arm_point)\n",
    "arcpy.MakeFeatureLayer_management(lake_arm_point,lake_arm_point_lyr)\n",
    "selectByLocation(lake_arm_raw_lyr,'CONTAINS',lake_arm_point_lyr,'NEW_SELECTION')\n",
    "arcpy.conversion.ExportFeatures(lake_arm_raw_lyr,lake_arm)\n",
    "\n",
    "lake_rmO=os.path.join(r'D:\\postprocess\\v240306\\1_other_polygons.gdb',f'{raw_prediction_fn}_rmO' ) \n",
    "arcpy.MakeFeatureLayer_management(lake_rmO, lake_rmO_lyr)\n",
    "arcpy.analysis.Clip(lake_rmO_lyr,GLAKES,lake_aGm)\n",
    "arcpy.MakeFeatureLayer_management(lake_aGm,lake_aGm_lyr)\n",
    "arcpy.management.MultipartToSinglepart(lake_aGm_lyr, lake_aGm_singlepart)\n",
    "arcpy.MakeFeatureLayer_management(lake_aGm_singlepart,lake_aGm_singlepart_lyr)\n",
    "arcpy.AddField_management(lake_aGm_singlepart_lyr, 'area_aGm', \"Double\")\n",
    "arcpy.CalculateField_management(lake_aGm_singlepart_lyr, \"area_aGm\",  \"!shape.geodesicArea@SQUAREKILOMETERS!\", \"PYTHON_9.3\")\n",
    "arcpy.management.FeatureToPoint(lake_aGm_singlepart_lyr,lake_aGm_point,'INSIDE')\n",
    "arcpy.MakeFeatureLayer_management(lake_aGm_point,lake_aGm_point_lyr)"
   ]
  },
  {
   "cell_type": "code",
   "execution_count": 140,
   "metadata": {},
   "outputs": [],
   "source": [
    "arcpy.AddField_management(lake_aGm_point_lyr, 'flag', \"Double\")\n",
    "selectByLocation(lake_aGm_point_lyr, 'WITHIN', GLAKES_natural_lake)\n",
    "calculateField(lake_aGm_point_lyr, \"flag\",1)\n",
    "selectByLocation(lake_aGm_point_lyr, 'WITHIN', GLAKES_Res)\n",
    "calculateField(lake_aGm_point_lyr, \"flag\",2)\n",
    "selectByAttribute(lake_aGm_point_lyr,'NEW_SELECTION','flag IS NULL' )#lakes less than 1km2\n",
    "calculateField(lake_aGm_point_lyr, \"flag\",0)\n",
    "selectByAttribute(lake_aGm_point_lyr,'NEW_SELECTION', '')"
   ]
  },
  {
   "cell_type": "code",
   "execution_count": 38,
   "metadata": {},
   "outputs": [
    {
     "data": {
      "text/html": [
       "<div class='gpresult'><h2>Messages</h2><div id='messages' data-messages='[\"Start Time: 2024年6月26日 9:30:38\",\"Succeeded at 2024年6月26日 9:30:38 (Elapsed Time: 0.14 seconds)\"]' data-show='true'><div id = 'default' /></div></div>"
      ],
      "text/plain": [
       "<Result 'lake_aGm_point'>"
      ]
     },
     "execution_count": 38,
     "metadata": {},
     "output_type": "execute_result"
    }
   ],
   "source": [
    "arcpy.MakeFeatureLayer_management(lake_arm,lake_arm_lyr)\n",
    "arcpy.MakeFeatureLayer_management(lake_arm_point,lake_arm_point_lyr)\n",
    "arcpy.MakeFeatureLayer_management(lake_aGm_point,lake_aGm_point_lyr)"
   ]
  },
  {
   "cell_type": "code",
   "execution_count": 455,
   "metadata": {},
   "outputs": [],
   "source": [
    "arcpy.MakeFeatureLayer_management(lake_iwG,lake_iwG_lyr)\n",
    "arcpy.MakeFeatureLayer_management(lake_niwG,lake_niwG_lyr)"
   ]
  },
  {
   "cell_type": "code",
   "execution_count": 44,
   "metadata": {},
   "outputs": [
    {
     "name": "stdout",
     "output_type": "stream",
     "text": [
      "Prepare the fieldmap for GLAKES mask spatial join\n",
      "Conduct spatial join\n",
      "Prepare the fieldmap for river mask spatial join\n",
      "Conduct spatial join\n"
     ]
    }
   ],
   "source": [
    "arcpy.MakeFeatureLayer_management(lake_iwG,lake_iwG_lyr)\n",
    "GLAKES_join(lake_iwG_lyr,lake_aGm_point_lyr,lake_iwG_aGm_SJ,\"lake_iwG_aGm_SJ\")\n",
    "# arcpy.MakeFeatureLayer_management(lake_iwG_aGm_SJ,\"lake_iwG_aGm_SJ\")\n",
    "RiverMaskJoin('lake_iwG_aGm_SJ',lake_arm_point_lyr,lake_iwG_arm_SJ, ['area', 'area_ratio_G','flag','iwG','iwR','area_arm'],lake_iwG_arm_SJ_lyr)\n",
    "add_Res_flag(lake_iwG_arm_SJ_lyr)\n",
    "arcpy.AddField_management(lake_iwG_arm_SJ_lyr, 'operate', \"Double\")\n",
    "calculateOperateByAttribute(lake_iwG_arm_SJ_lyr,'\"area\" >=1 AND \"area_ratio_R\" >= 0.9',1)\n",
    "calculateOperateByAttribute(lake_iwG_arm_SJ_lyr,'\"flag\" = 1 AND \"area_ratio_R\" >= 0.8',1)\n",
    "\n",
    "#对与GLAKES、OSM、GeoDAR水库相交的polygon\n",
    "calculateOperateByAttribute(lake_iwG_arm_SJ_lyr,'\"flag\" = 2',2)\n",
    "calculateOperateByAttribute(lake_iwG_arm_SJ_lyr,'\"flag\" = 3',3)\n",
    "calculateOperateByAttribute(lake_iwG_arm_SJ_lyr,'\"flag\" = 4',4)\n",
    "calculateOperateByAttribute(lake_iwG_arm_SJ_lyr,'\"flag\" = 0 AND \"area_ratio_R\" < 0.1',0)"
   ]
  },
  {
   "cell_type": "code",
   "execution_count": 457,
   "metadata": {},
   "outputs": [],
   "source": [
    "arcpy.MakeFeatureLayer_management(lake_niwG,lake_niwG_lyr)\n",
    "RiverMaskJoin(lake_niwG_lyr,lake_arm_point_lyr,lake_niwG_arm_SJ,['area','area_arm','iwG','iwR'],lake_niwG_arm_SJ_lyr)\n",
    "arcpy.AddField_management(lake_niwG_arm_SJ_lyr, 'flag', \"Short\")\n",
    "add_Res_flag(lake_niwG_arm_SJ_lyr)\n",
    "arcpy.AddField_management(lake_niwG_arm_SJ_lyr, 'operate', \"Double\")\n",
    "calculateOperateByAttribute(lake_niwG_arm_SJ_lyr,'\"flag\" IS NULL AND \"area\"<1 AND \"area_ratio_R\" < 0.8',0)\n",
    "calculateOperateByAttribute(lake_niwG_arm_SJ_lyr,'\"flag\" IS NULL AND \"area\">=1 AND \"area_ratio_R\" < 0.8',0)\n",
    "calculateOperateByAttribute(lake_niwG_arm_SJ_lyr,' \"flag\" = 3',3)\n",
    "calculateOperateByAttribute(lake_niwG_arm_SJ_lyr,'\"flag\" = 4',4)\n",
    "calculateOperateByAttribute(lake_niwG_arm_SJ_lyr,'\"area\" >=1 AND \"area_ratio_R\" >= 0.9',1)"
   ]
  },
  {
   "cell_type": "code",
   "execution_count": 458,
   "metadata": {},
   "outputs": [
    {
     "name": "stdout",
     "output_type": "stream",
     "text": [
      "Prepare the fieldmap for GLAKES mask spatial join\n",
      "Conduct spatial join\n"
     ]
    }
   ],
   "source": [
    "arcpy.MakeFeatureLayer_management(lake_waterway_iwG,lake_waterway_iwG_lyr)\n",
    "GLAKES_join(lake_waterway_iwG_lyr,lake_aGm_point_lyr,lake_waterway_iwG_SJ,lake_waterway_iwG_SJ_lyr)\n",
    "add_Res_flag(lake_waterway_iwG_SJ_lyr)                              \n",
    "arcpy.AddField_management(lake_waterway_iwG_SJ_lyr, 'operate', \"Double\")\n",
    "calculateOperateByAttribute(lake_waterway_iwG_SJ_lyr,'\"area\" >= 3',1)\n",
    "calculateOperateByAttribute(lake_waterway_iwG_SJ_lyr,'\"flag\" = 1 And \"area\" > 1 And \"area_ratio_G\" > 0.1',1)\n",
    "calculateOperateByAttribute(lake_waterway_iwG_SJ_lyr,'\"flag\" = 2',2)\n",
    "calculateOperateByAttribute(lake_waterway_iwG_SJ_lyr,'\"flag\" = 3',3)\n",
    "calculateOperateByAttribute(lake_waterway_iwG_SJ_lyr,'\"flag\" = 4',4)"
   ]
  },
  {
   "cell_type": "code",
   "execution_count": 431,
   "metadata": {},
   "outputs": [],
   "source": [
    "arcpy.AddField_management(lake_waterway_niwG_lyr, 'operate', \"Double\")\n",
    "calculateOperateByAttribute(lake_waterway_niwG_lyr,'\"area\" >= 3',1)\n",
    "calculateOperateByAttribute(lake_waterway_niwG_lyr,'\"flag\" = 3',3)\n",
    "calculateOperateByAttribute(lake_waterway_niwG_lyr,'\"flag\" = 4',4)"
   ]
  },
  {
   "cell_type": "code",
   "execution_count": 432,
   "metadata": {},
   "outputs": [],
   "source": [
    "arcpy.AddField_management(lake_waterway_niwG_lyr, 'operate', \"Double\")\n",
    "calculateOperateByAttribute(lake_waterway_niwG_lyr,'\"area\" >= 3',1)\n",
    "calculateOperateByAttribute(lake_waterway_niwG_lyr,'\"flag\" = 3',3)\n",
    "calculateOperateByAttribute(lake_waterway_niwG_lyr,'\"flag\" = 4',4)"
   ]
  },
  {
   "cell_type": "code",
   "execution_count": null,
   "metadata": {},
   "outputs": [],
   "source": [
    "arcpy.MakeFeatureLayer_management(lake_niwR,lake_niwR_lyr)\n",
    "arcpy.AddField_management(lake_niwR_lyr, 'operate', \"Double\")"
   ]
  },
  {
   "cell_type": "code",
   "execution_count": null,
   "metadata": {},
   "outputs": [],
   "source": [
    "region_list=['eu','af','oc','island','greenland','sa_1','sa_2']\n",
    "for i in range(1,10):\n",
    "    region_list.append(f'as_{i}')\n",
    "    \n",
    "for i in range(1,7):\n",
    "    region_list.append(f'na_{i}')\n",
    "sum_iwR_list=[]  \n",
    "for region in region_list:\n",
    "    raw_prediction_fn='lakes_'+region\n",
    "\n",
    "    lake_iwG_arm_SJ_lyr=prefix+'_lake_iwG_arm_SJ'\n",
    "    lake_niwG_arm_SJ_lyr=prefix+'_lake_niwG_arm_SJ'\n",
    "    lake_arm_lyr=prefix+'_lake_arm'\n",
    "\n",
    "    lake_waterway_iwG_SJ_lyr=prefix+'_lake_waterway_iwG_SJ'\n",
    "    lake_waterway_niwG_lyr=prefix+'_lake_waterway_niwG'\n",
    "\n",
    "    lake_arm=os.path.join(river_mask_gdb,raw_prediction_fn+'_arm')\n",
    "    lake_iwG_arm_SJ=os.path.join(river_mask_gdb,raw_prediction_fn+'_iwG_arm_SJ')\n",
    "    lake_niwG_arm_SJ=os.path.join(river_mask_gdb,raw_prediction_fn+'_niwG_arm_SJ')\n",
    "    lake_waterway_iwG_SJ=os.path.join(river_mask_gdb,raw_prediction_fn+'_waterway_iwG_SJ')\n",
    "    lake_waterway_niwG=os.path.join(river_mask_gdb,raw_prediction_fn+'_waterway_niwG')\n",
    "    lake_niwR=os.path.join(river_mask_gdb,raw_prediction_fn+'_niwR')\n",
    "    sum_iwR_list.append()\n",
    "    arcpy.MakeFeatureLayer_management(lake_iwG_arm_SJ,lyr_list[1])\n",
    "    arcpy.MakeFeatureLayer_management(lake_niwG_arm_SJ,lyr_list[2])\n",
    "    arcpy.MakeFeatureLayer_management(lake_waterway_iwG_SJ,lyr_list[3])\n",
    "    arcpy.MakeFeatureLayer_management(lake_waterway_niwG,lyr_list[4])\n",
    "    arcpy.MakeFeatureLayer_management(lake_niwR,lyr_list[5])\n",
    "    arcpy.MakeFeatureLayer_management(lake_arm,lyr_list[0])\n",
    "arcpy.Merge_management(lyr_list,result_afm,fieldmappings)"
   ]
  }
 ],
 "metadata": {
  "kernelspec": {
   "display_name": "ArcGISPro",
   "language": "Python",
   "name": "python3"
  },
  "language_info": {
   "file_extension": ".py",
   "name": "python",
   "version": "3"
  }
 },
 "nbformat": 4,
 "nbformat_minor": 2
}
