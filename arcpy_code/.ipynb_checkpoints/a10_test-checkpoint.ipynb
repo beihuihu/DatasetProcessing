{
 "cells": [
  {
   "cell_type": "code",
   "execution_count": 1,
   "metadata": {},
   "outputs": [],
   "source": [
    "import arcpy\n",
    "from arcpy.sa import *\n",
    "import os\n",
    "import time\n",
    "arcpy.env.overwriteOutput = True"
   ]
  },
  {
   "cell_type": "code",
   "execution_count": 2,
   "metadata": {},
   "outputs": [],
   "source": [
    "# load input features and make layer\n",
    "version='v13_241021'\n",
    "sub_v=''\n",
    "# stastic_v=f'{version}_{sub_v}'\n",
    "stastic_v=f'{version}'\n",
    "output_dir = os.path.join(r'J:\\lakemapping\\postprocess',version)\n",
    "\n",
    "auxiliary_dataset_gdb=r'D:\\postprocess\\v240220\\auxiliary_dataset.gdb'\n",
    "stastics_gdb=os.path.join(output_dir,f'0_summary_stastics{sub_v}.gdb')\n",
    "polygon_iwR_gdb=os.path.join(output_dir,'2_polygon_iw_River.gdb')\n",
    "after_mask_gdb=os.path.join(output_dir,f'3_polygon_after_rivermask{sub_v}.gdb')\n",
    "mwBL_gdb=os.path.join(output_dir,f'4_polygon_afm_mergeWith_BigLake{sub_v}.gdb')\n",
    "mwBG_gdb=os.path.join(output_dir,f'5_polygon_afm_mwBL_BigGLAKES{sub_v}.gdb')\n",
    "mwPLD_gdb=os.path.join(output_dir,'6_polygon_afm_mergeWith_BigPLD.gdb')\n",
    "excel_dir=os.path.join(output_dir,f'stastics_excel{sub_v}')\n",
    "mwBG_point_gdb=os.path.join(output_dir,f'5_polygon_afm_mwBL_BigGLAKES{sub_v}_point.gdb')\n",
    "new_polygon_afm_mwBL_BG_pi_point_gdb='J:\\lakemapping\\PLD\\polygon_afm_mwBL_BG_pi_point.gdb'\n",
    "polygon_afm_mwBL_BG_pi_point_point_gdb=r'J:\\lakemapping\\PLD\\PLD_point.gdb'\n",
    "temp_gdb=os.path.join(output_dir,'7_correct_temp_file.gdb')\n",
    "\n",
    "new_PLD_gdb=r'J:\\lakemapping\\PLD\\PLD.gdb'\n",
    "PLD_point_gdb=r'J:\\lakemapping\\PLD\\PLD_point.gdb'"
   ]
  },
  {
   "cell_type": "code",
   "execution_count": 3,
   "metadata": {},
   "outputs": [
    {
     "name": "stdout",
     "output_type": "stream",
     "text": [
      "v13_241021\n"
     ]
    }
   ],
   "source": [
    "print(stastic_v)"
   ]
  },
  {
   "cell_type": "code",
   "execution_count": 4,
   "metadata": {},
   "outputs": [],
   "source": [
    "eight_continents=['Asia','Siberia','Africa','Europe','Oceania_Anta','North_America','Arctic','South_America']"
   ]
  },
  {
   "cell_type": "code",
   "execution_count": 5,
   "metadata": {},
   "outputs": [],
   "source": [
    "def selectByLocation(inputFeature,overlapType,selectionFeature,selectionType='NEW_SELECTION'):\n",
    "    arcpy.SelectLayerByLocation_management(inputFeature,overlapType,selectionFeature,selection_type=selectionType)\n",
    "    \n",
    "def selectByAttribute(inputFeature,selectionType='NEW_SELECTION',code=''):\n",
    "    arcpy.management.SelectLayerByAttribute(inputFeature,selectionType,code)\n",
    "    \n",
    "def calculateField(inputFeature,field,code):\n",
    "    arcpy.CalculateField_management(inputFeature, field,code)\n",
    "\n",
    "def cal_continent(lyr):\n",
    "    arcpy.AddField_management(lyr, 'Continent', \"Text\")\n",
    "    for i in range(0,6):\n",
    "        continent=seven_continents[i]\n",
    "        selectByAttribute(continent_lyr,'NEW_SELECTION',f\"Continent = '{continent}'\")\n",
    "        selectByAttribute(lyr,'NEW_SELECTION',\"Continent IS NULL\")\n",
    "        selectByLocation(lyr,'HAVE_THEIR_CENTER_IN',continent_lyr,'SUBSET_SELECTION')\n",
    "        calculateField(lyr,'Continent',f\"'{continent}'\")"
   ]
  },
  {
   "cell_type": "code",
   "execution_count": 25,
   "metadata": {},
   "outputs": [
    {
     "data": {
      "text/html": [
       "<div class='gpresult'><h2>Messages</h2><div id='messages' data-messages='[\"Start Time: 2024年11月5日 9:32:58\",\"Succeeded at 2024年11月5日 9:32:58 (Elapsed Time: 0.10 seconds)\"]' data-show='true'><div id = 'default' /></div></div>"
      ],
      "text/plain": [
       "<Result 'Global_grid_shp_1degree_PLD_Count_Area'>"
      ]
     },
     "execution_count": 25,
     "metadata": {},
     "output_type": "execute_result"
    }
   ],
   "source": [
    "arcpy.MakeFeatureLayer_management(big_lakes,big_lakes_lyr)\n",
    "arcpy.MakeFeatureLayer_management(big_lakes,big_lakes_lyr)\n",
    "arcpy.MakeFeatureLayer_management(big_lakes,big_lakes_lyr)"
   ]
  },
  {
   "cell_type": "code",
   "execution_count": 11,
   "metadata": {},
   "outputs": [],
   "source": [
    "arcpy.AddField_management(polygon_afm_mwBL_BG_Count_Area_SJ_lyr,'diff_c0_G','Long')\n",
    "arcpy.AddField_management(polygon_afm_mwBL_BG_Count_Area_SJ_lyr,'diff_c_gt3_G','Long')\n",
    "arcpy.AddField_management(polygon_afm_mwBL_BG_Count_Area_SJ_lyr,'diff_c100_G','Long')\n",
    "\n",
    "arcpy.AddField_management(polygon_afm_mwBL_BG_Count_Area_SJ_lyr,'diff_a0_G','double')\n",
    "arcpy.AddField_management(polygon_afm_mwBL_BG_Count_Area_SJ_lyr,'diff_a100_G','double')\n",
    "\n",
    "calculateField(polygon_afm_mwBL_BG_Count_Area_SJ_lyr,'diff_c0_G','!Global_grid_shp_1degree_hu_Count_Area.hu_c0!-!Global_grid_shp_1degree_GLAKES_Count_Area.GL_c0!')\n",
    "calculateField(polygon_afm_mwBL_BG_Count_Area_SJ_lyr,'diff_c_gt3_G','!Global_grid_shp_1degree_hu_Count_Area.diff_c0_G!-!Global_grid_shp_1degree_hu_Count_Area.hu_c1!-!Global_grid_shp_1degree_hu_Count_Area.hu_c3!')\n",
    "calculateField(polygon_afm_mwBL_BG_Count_Area_SJ_lyr,'diff_c100_G','!Global_grid_shp_1degree_hu_Count_Area.hu_c100!-!Global_grid_shp_1degree_GLAKES_Count_Area.GL_c100!')\n",
    "calculateField(polygon_afm_mwBL_BG_Count_Area_SJ_lyr,'diff_a0_G','!Global_grid_shp_1degree_hu_Count_Area.hu_a0!-!Global_grid_shp_1degree_GLAKES_Count_Area.GL_a0!')\n",
    "calculateField(polygon_afm_mwBL_BG_Count_Area_SJ_lyr,'diff_a100_G','!Global_grid_shp_1degree_hu_Count_Area.hu_a100!-!Global_grid_shp_1degree_GLAKES_Count_Area.GL_a100!')"
   ]
  },
  {
   "cell_type": "code",
   "execution_count": null,
   "metadata": {},
   "outputs": [],
   "source": []
  }
 ],
 "metadata": {
  "kernelspec": {
   "display_name": "ArcGISPro",
   "language": "Python",
   "name": "python3"
  },
  "language_info": {
   "file_extension": ".py",
   "name": "python",
   "version": "3"
  }
 },
 "nbformat": 4,
 "nbformat_minor": 2
}
