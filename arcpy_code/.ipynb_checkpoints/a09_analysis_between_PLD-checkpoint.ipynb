{
 "cells": [
  {
   "cell_type": "code",
   "execution_count": 4,
   "metadata": {},
   "outputs": [],
   "source": [
    "import arcpy\n",
    "from arcpy.sa import *\n",
    "import os\n",
    "import time\n",
    "arcpy.env.overwriteOutput = True"
   ]
  },
  {
   "cell_type": "code",
   "execution_count": 5,
   "metadata": {},
   "outputs": [],
   "source": [
    "# load input features and make layer\n",
    "version='v13_241021'\n",
    "sub_v=''\n",
    "# stastic_v=f'{version}_{sub_v}'\n",
    "stastic_v=f'{version}'\n",
    "output_dir = os.path.join(r'J:\\lakemapping\\postprocess',version)\n",
    "\n",
    "auxiliary_dataset_gdb=r'D:\\postprocess\\v240220\\auxiliary_dataset.gdb'\n",
    "stastics_gdb=os.path.join(output_dir,f'0_summary_stastics{sub_v}.gdb')\n",
    "polygon_iwR_gdb=os.path.join(output_dir,'2_polygon_iw_River.gdb')\n",
    "after_mask_gdb=os.path.join(output_dir,f'3_polygon_after_rivermask{sub_v}.gdb')\n",
    "mwBL_gdb=os.path.join(output_dir,f'4_polygon_afm_mergeWith_BigLake{sub_v}.gdb')\n",
    "mwBG_gdb=os.path.join(output_dir,f'5_polygon_afm_mwBL_BigGLAKES{sub_v}.gdb')\n",
    "mwPLD_gdb=os.path.join(output_dir,'6_polygon_afm_mergeWith_BigPLD.gdb')\n",
    "excel_dir=os.path.join(output_dir,f'stastics_excel{sub_v}')\n",
    "mwBG_point_gdb=os.path.join(output_dir,f'5_polygon_afm_mwBL_BigGLAKES{sub_v}_point.gdb')"
   ]
  },
  {
   "cell_type": "code",
   "execution_count": 3,
   "metadata": {},
   "outputs": [
    {
     "name": "stdout",
     "output_type": "stream",
     "text": [
      "v13_241021\n"
     ]
    }
   ],
   "source": [
    "print(stastic_v)"
   ]
  },
  {
   "cell_type": "code",
   "execution_count": 2,
   "metadata": {},
   "outputs": [],
   "source": [
    "eight_continents=['Asia','Siberia','Africa','Europe','Oceania_Anta','North_America','Arctic','South_America']"
   ]
  },
  {
   "cell_type": "code",
   "execution_count": 5,
   "metadata": {},
   "outputs": [],
   "source": [
    "def selectByLocation(inputFeature,overlapType,selectionFeature,selectionType='NEW_SELECTION'):\n",
    "    arcpy.SelectLayerByLocation_management(inputFeature,overlapType,selectionFeature,selection_type=selectionType)\n",
    "    \n",
    "def selectByAttribute(inputFeature,selectionType='NEW_SELECTION',code=''):\n",
    "    arcpy.management.SelectLayerByAttribute(inputFeature,selectionType,code)\n",
    "    \n",
    "def calculateField(inputFeature,field,code):\n",
    "    arcpy.CalculateField_management(inputFeature, field,code)\n",
    "\n",
    "def cal_continent(lyr):\n",
    "    arcpy.AddField_management(lyr, 'Continent', \"Text\")\n",
    "    for i in range(0,6):\n",
    "        continent=seven_continents[i]\n",
    "        selectByAttribute(continent_lyr,'NEW_SELECTION',f\"Continent = '{continent}'\")\n",
    "        selectByAttribute(lyr,'NEW_SELECTION',\"Continent IS NULL\")\n",
    "        selectByLocation(lyr,'HAVE_THEIR_CENTER_IN',continent_lyr,'SUBSET_SELECTION')\n",
    "        calculateField(lyr,'Continent',f\"'{continent}'\")"
   ]
  },
  {
   "cell_type": "code",
   "execution_count": 62,
   "metadata": {},
   "outputs": [
    {
     "name": "stdout",
     "output_type": "stream",
     "text": [
      "Oceania_Anta\n",
      "North_America\n",
      "Arctic\n",
      "South_America\n"
     ]
    }
   ],
   "source": [
    "# for i in range(0,8):#[1,3,4,5]:\n",
    "#     continent=eight_continents[i]\n",
    "#     print(continent)\n",
    "#     c_lake_afm_mw_BL_BG=os.path.join(mwBG_gdb,f'c{i+1}_{continent}_polygon_afm_mwBL_BG')\n",
    "#     c_lake_afm_mw_BL_BG_lyr=f'c{i+1}_{continent}_lake_afm_mw_BL_BG'\n",
    "#     arcpy.MakeFeatureLayer_management(c_lake_afm_mw_BL_BG,c_lake_afm_mw_BL_BG_lyr)\n",
    "#     arcpy.AddField_management(c_lake_afm_mw_BL_BG_lyr,'lake_type','Short')\n",
    "#     selectByAttribute(c_lake_afm_mw_BL_BG_lyr,'NEW_SELECTION',\"lake_area<0.01\")\n",
    "#     arcpy.CalculateField_management(c_lake_afm_mw_BL_BG_lyr,'lake_type',0)\n",
    "#     selectByAttribute(c_lake_afm_mw_BL_BG_lyr,'NEW_SELECTION',\"lake_area>=0.01 and lake_area <0.03\")\n",
    "#     arcpy.CalculateField_management(c_lake_afm_mw_BL_BG_lyr,'lake_type',1)\n",
    "#     selectByAttribute(c_lake_afm_mw_BL_BG_lyr,'NEW_SELECTION',\"lake_area>=0.03 and lake_area <1\")\n",
    "#     arcpy.CalculateField_management(c_lake_afm_mw_BL_BG_lyr,'lake_type',2)\n",
    "#     selectByAttribute(c_lake_afm_mw_BL_BG_lyr,'NEW_SELECTION',\"lake_area>=1 and lake_area <100\")\n",
    "#     arcpy.CalculateField_management(c_lake_afm_mw_BL_BG_lyr,'lake_type',3)\n",
    "#     selectByAttribute(c_lake_afm_mw_BL_BG_lyr,'NEW_SELECTION',\"lake_area>=100\")\n",
    "#     arcpy.CalculateField_management(c_lake_afm_mw_BL_BG_lyr,'lake_type',4)\n",
    "#      selectByAttribute(c_lake_afm_mw_BL_BG_lyr,'NEW_SELECTION',\"\")\n",
    "#     c_lake_afm_mw_BL_BG_point=os.path.join(mwBG_point_gdb,f'c{i+1}_{continent}_polygon_afm_mwBL_BG_point')\n",
    "#     arcpy.management.FeatureToPoint(c_lake_afm_mw_BL_BG_lyr,c_lake_afm_mw_BL_BG_point,'INSIDE')"
   ]
  },
  {
   "cell_type": "code",
   "execution_count": null,
   "metadata": {},
   "outputs": [],
   "source": [
    "# merge_list=[]\n",
    "# for i in range(0,8):#[1,3,4,5]:\n",
    "#     continent=eight_continents[i]\n",
    "#     print(continent)\n",
    "#     c_lake_afm_mw_BL_BG_point=os.path.join(mwBG_point_gdb,f'c{i+1}_{continent}_polygon_afm_mwBL_BG_point')\n",
    "#     c_lake_afm_mw_BL_BG_point_lyr=f'c{i+1}_{continent}_lake_afm_mw_BL_BG_point'\n",
    "#     arcpy.MakeFeatureLayer_management(c_lake_afm_mw_BL_BG_point,c_lake_afm_mw_BL_BG_point_lyr)\n",
    "#     arcpy.AddField_management(c_lake_afm_mw_BL_BG_point_lyr,'hu_c1','Short')\n",
    "#     arcpy.AddField_management(c_lake_afm_mw_BL_BG_point_lyr,'hu_c3','Short')\n",
    "#     arcpy.AddField_management(c_lake_afm_mw_BL_BG_point_lyr,'hu_c100','Short')\n",
    "#     selectByAttribute(c_lake_afm_mw_BL_BG_point_lyr,'NEW_SELECTION',\"lake_area<0.01\")\n",
    "#     arcpy.CalculateField_management(c_lake_afm_mw_BL_BG_point_lyr,'hu_c1',1)\n",
    "#     selectByAttribute(c_lake_afm_mw_BL_BG_point_lyr,'NEW_SELECTION',\"lake_area>0.01 and lake_area<0.03\")\n",
    "#     arcpy.CalculateField_management(c_lake_afm_mw_BL_BG_point_lyr,'hu_c3',1)\n",
    "#     selectByAttribute(c_lake_afm_mw_BL_BG_point_lyr,'NEW_SELECTION',\"lake_area>0.03 and lake_area<1\")\n",
    "#     arcpy.CalculateField_management(c_lake_afm_mw_BL_BG_point_lyr,'hu_c100',1)\n",
    "#     selectByAttribute(c_lake_afm_mw_BL_BG_point_lyr,'NEW_SELECTION','')\n",
    "#     merge_list.append(c_lake_afm_mw_BL_BG_point_lyr)\n",
    "# total_lake_afm_mw_BL_BG_point=os.path.join(mwBG_point_gdb,'total_polygon_afm_mwBL_BG_point')\n",
    "# arcpy.Merge_management(merge_list,total_lake_afm_mw_BL_BG_point)"
   ]
  },
  {
   "cell_type": "code",
   "execution_count": 14,
   "metadata": {},
   "outputs": [
    {
     "name": "stdout",
     "output_type": "stream",
     "text": [
      "Asia\n",
      "Siberia\n",
      "Africa\n",
      "Europe\n",
      "Oceania_Anta\n",
      "North_America\n",
      "Arctic\n",
      "South_America\n"
     ]
    },
    {
     "data": {
      "text/html": [
       "<div class='gpresult'><h2>Messages</h2><div id='messages' data-messages='[\"Start Time: 2024年10月25日 16:05:02\",\"Succeeded at 2024年10月25日 16:08:26 (Elapsed Time: 3 minutes 23 seconds)\"]' data-show='true'><div id = 'default' /></div></div>"
      ],
      "text/plain": [
       "<Result 'J:\\\\lakemapping\\\\postprocess\\\\v13_241021\\\\5_polygon_afm_mwBL_BigGLAKES_point.gdb\\\\total_polygon_afm_mwBL_BG_point'>"
      ]
     },
     "execution_count": 14,
     "metadata": {},
     "output_type": "execute_result"
    }
   ],
   "source": [
    "merge_list=[]\n",
    "for i in range(0,8):#[1,3,4,5]:\n",
    "    continent=eight_continents[i]\n",
    "    print(continent)\n",
    "    c_lake_afm_mw_BL_BG_pi_point=os.path.join(mwBG_point_gdb,f'c{i+1}_{continent}_polygon_afm_mwBL_BG_pi_point')\n",
    "    c_lake_afm_mw_BL_BG_pi_point_lyr=f'c{i+1}_{continent}_lake_afm_mw_BL_BG_pi_point'\n",
    "    arcpy.MakeFeatureLayer_management(c_lake_afm_mw_BL_BG_pi_point,c_lake_afm_mw_BL_BG_pi_point_lyr)\n",
    "    # arcpy.AddField_management(c_lake_afm_mw_BL_BG_pi_point_lyr,'hu_a1','Double')\n",
    "    # arcpy.AddField_management(c_lake_afm_mw_BL_BG_pi_point_lyr,'hu_a3','Double')\n",
    "    # arcpy.AddField_management(c_lake_afm_mw_BL_BG_pi_point_lyr,'hu_a100','Double')\n",
    "    # selectByAttribute(c_lake_afm_mw_BL_BG_pi_point_lyr,'NEW_SELECTION',\"lake_type=0\")\n",
    "    # arcpy.CalculateField_management(c_lake_afm_mw_BL_BG_pi_point_lyr,'hu_a1','!lake_area!')\n",
    "    # selectByAttribute(c_lake_afm_mw_BL_BG_pi_point_lyr,'NEW_SELECTION',\"lake_type=1\")\n",
    "    # arcpy.CalculateField_management(c_lake_afm_mw_BL_BG_pi_point_lyr,'hu_a3','!lake_area!')\n",
    "    # selectByAttribute(c_lake_afm_mw_BL_BG_pi_point_lyr,'NEW_SELECTION',\"lake_type=2\")\n",
    "    # arcpy.CalculateField_management(c_lake_afm_mw_BL_BG_pi_point_lyr,'hu_a100','!lake_area!')\n",
    "    # selectByAttribute(c_lake_afm_mw_BL_BG_pi_point_lyr,'NEW_SELECTION','')\n",
    "    merge_list.append(c_lake_afm_mw_BL_BG_pi_point_lyr)\n",
    "total_lake_afm_mw_BL_BG_pi_point=os.path.join(mwBG_point_gdb,'total_polygon_afm_mwBL_BG_pi_point')\n",
    "arcpy.Merge_management(merge_list,total_lake_afm_mw_BL_BG_pi_point)"
   ]
  },
  {
   "cell_type": "code",
   "execution_count": null,
   "metadata": {},
   "outputs": [],
   "source": [
    "merge_list=[]\n",
    "for i in range(0,8):#[1,3,4,5]:\n",
    "    continent=eight_continents[i]\n",
    "    print(continent)\n",
    "    c_lake_afm_mw_BL_BG_point=os.path.join(mwBG_point_gdb,f'c{i+1}_{continent}_polygon_afm_mwBL_BG_point')\n",
    "    c_lake_afm_mw_BL_BG_point_lyr=f'c{i+1}_{continent}_lake_afm_mw_BL_BG_point'\n",
    "    arcpy.MakeFeatureLayer_management(c_lake_afm_mw_BL_BG_point,c_lake_afm_mw_BL_BG_point_lyr)\n",
    "    arcpy.AddField_management(c_lake_afm_mw_BL_BG_point_lyr,'hu_c1','Short')\n",
    "    arcpy.AddField_management(c_lake_afm_mw_BL_BG_point_lyr,'hu_c3','Short')\n",
    "    arcpy.AddField_management(c_lake_afm_mw_BL_BG_point_lyr,'hu_c100','Short')\n",
    "    selectByAttribute(c_lake_afm_mw_BL_BG_point_lyr,'NEW_SELECTION',\"lake_area<0.01\")\n",
    "    arcpy.CalculateField_management(c_lake_afm_mw_BL_BG_point_lyr,'hu_c1',1)\n",
    "    selectByAttribute(c_lake_afm_mw_BL_BG_point_lyr,'NEW_SELECTION',\"lake_area>0.01 and lake_area<0.03\")\n",
    "    arcpy.CalculateField_management(c_lake_afm_mw_BL_BG_point_lyr,'hu_c3',1)\n",
    "    selectByAttribute(c_lake_afm_mw_BL_BG_point_lyr,'NEW_SELECTION',\"lake_area>0.03 and lake_area<1\")\n",
    "    arcpy.CalculateField_management(c_lake_afm_mw_BL_BG_point_lyr,'hu_c100',1)\n",
    "    selectByAttribute(c_lake_afm_mw_BL_BG_point_lyr,'NEW_SELECTION','')\n",
    "    merge_list.append(c_lake_afm_mw_BL_BG_point_lyr)\n",
    "total_lake_afm_mw_BL_BG_point=os.path.join(mwBG_point_gdb,'total_polygon_afm_mwBL_BG_point')\n",
    "arcpy.Merge_management(merge_list,total_lake_afm_mw_BL_BG_point)"
   ]
  }
 ],
 "metadata": {
  "kernelspec": {
   "display_name": "ArcGISPro",
   "language": "Python",
   "name": "python3"
  },
  "language_info": {
   "file_extension": ".py",
   "name": "python",
   "version": "3"
  }
 },
 "nbformat": 4,
 "nbformat_minor": 2
}
