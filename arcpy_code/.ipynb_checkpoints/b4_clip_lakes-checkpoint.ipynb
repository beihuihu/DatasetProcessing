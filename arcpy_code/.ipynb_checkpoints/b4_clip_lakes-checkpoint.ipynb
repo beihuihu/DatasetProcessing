{
 "cells": [
  {
   "cell_type": "code",
   "execution_count": 1,
   "metadata": {},
   "outputs": [],
   "source": [
    "import arcpy\n",
    "from arcpy.sa import *\n",
    "import os\n",
    "import time\n",
    "arcpy.env.overwriteOutput = True"
   ]
  },
  {
   "cell_type": "code",
   "execution_count": 2,
   "metadata": {},
   "outputs": [],
   "source": [
    "version='v12_240905_backup'\n",
    "sub_v=''\n",
    "# stastic_v=f'{version}_{sub_v}'\n",
    "stastic_v=f'{version}'\n",
    "output_dir = os.path.join(r'J:\\lakemapping\\postprocess',version)\n",
    "\n",
    "auxiliary_dataset_gdb=r'D:\\postprocess\\v240220\\auxiliary_dataset.gdb'\n",
    "mwBG_gdb=os.path.join(output_dir,f'5_polygon_afm_mwBL_BigGLAKES{sub_v}.gdb')\n",
    "temp_gdb=os.path.join(output_dir,'6_correct_temp_file.gdb')"
   ]
  },
  {
   "cell_type": "code",
   "execution_count": 3,
   "metadata": {},
   "outputs": [],
   "source": [
    "def selectByLocation(inputFeature,overlapType,selectionFeature,selectionType='NEW_SELECTION'):\n",
    "    arcpy.SelectLayerByLocation_management(inputFeature,overlapType,selectionFeature,selection_type=selectionType)\n",
    "    \n",
    "def selectByAttribute(inputFeature,selectionType='NEW_SELECTION',code=''):\n",
    "    arcpy.management.SelectLayerByAttribute(inputFeature,selectionType,code)\n",
    "    \n",
    "def calculateField(inputFeature,field,code):\n",
    "    arcpy.CalculateField_management(inputFeature, field,code)\n",
    "\n",
    "def cal_continent(lyr):\n",
    "    arcpy.AddField_management(lyr, 'Continent', \"Text\")\n",
    "    for i in range(0,6):\n",
    "        continent=seven_continents[i]\n",
    "        selectByAttribute(continent_lyr,'NEW_SELECTION',f\"Continent = '{continent}'\")\n",
    "        selectByAttribute(lyr,'NEW_SELECTION',\"Continent IS NULL\")\n",
    "        selectByLocation(lyr,'HAVE_THEIR_CENTER_IN',continent_lyr,'SUBSET_SELECTION')\n",
    "        calculateField(lyr,'Continent',f\"'{continent}'\")"
   ]
  },
  {
   "cell_type": "code",
   "execution_count": 4,
   "metadata": {},
   "outputs": [
    {
     "name": "stdout",
     "output_type": "stream",
     "text": [
      "North_America\n",
      "20\n"
     ]
    },
    {
     "ename": "TypeError",
     "evalue": "calculateField() takes 3 positional arguments but 4 were given",
     "output_type": "error",
     "traceback": [
      "\u001b[0;31m---------------------------------------------------------------------------\u001b[0m\n\u001b[0;31mTypeError\u001b[0m                                 Traceback (most recent call last)",
      "In  \u001b[0;34m[4]\u001b[0m:\nLine \u001b[0;34m24\u001b[0m:    calculateField(\u001b[33m'\u001b[39;49;00m\u001b[33mresult\u001b[39;49;00m\u001b[33m'\u001b[39;49;00m,\u001b[33m'\u001b[39;49;00m\u001b[33mlake_area\u001b[39;49;00m\u001b[33m'\u001b[39;49;00m, \u001b[33m\"\u001b[39;49;00m\u001b[33m!shape.geodesicArea@SQUAREKILOMETERS!\u001b[39;49;00m\u001b[33m\"\u001b[39;49;00m, \u001b[33m\"\u001b[39;49;00m\u001b[33mPYTHON_9.3\u001b[39;49;00m\u001b[33m\"\u001b[39;49;00m)\n",
      "\u001b[0;31mTypeError\u001b[0m: calculateField() takes 3 positional arguments but 4 were given\n\u001b[0;31m---------------------------------------------------------------------------\u001b[0m"
     ]
    }
   ],
   "source": [
    "eight_continents=['Asia','Siberia','Africa','Europe','Oceania_Anta','North_America','Arctic','South_America']\n",
    "count_list=[3666,2601,2221,1801,1000,2432,1593,1697]\n",
    "i=5\n",
    "continent=eight_continents[i]\n",
    "print(continent)\n",
    "clip_dir=os.path.join(output_dir,f'c{i+1}_{continent}_clip_by_grid.gdb')\n",
    "if not os.path.exists(clip_dir):\n",
    "    arcpy.CreateFileGDB_management(output_dir,f'c{i+1}_{continent}_clip_by_grid.gdb')\n",
    "c_lake_afm_mw_BL_BG=os.path.join(mwBG_gdb,f'c{i+1}_{continent}_polygon_afm_mwBL_BG')\n",
    "c_lake_afm_mw_BL_BG_lyr=f'c{i+1}_{continent}_lake_afm_mw_BL_BG'\n",
    "arcpy.MakeFeatureLayer_management(c_lake_afm_mw_BL_BG,c_lake_afm_mw_BL_BG_lyr)\n",
    "\n",
    "d_grid=os.path.join(temp_gdb,f'd{i+1}_grid_{continent}')\n",
    "d_grid_lyr=f'd{i+1}_grid_{continent}'\n",
    "arcpy.MakeFeatureLayer_management(d_grid,d_grid_lyr)\n",
    "for object_id in [20]:#range(1,count_list[i]+1):\n",
    "    print(object_id)\n",
    "    output=os.path.join(clip_dir,f'c{i+1}_{continent}_{object_id}')\n",
    "    if not os.path.exists(output):\n",
    "        selectByAttribute(d_grid_lyr,'NEW_SELECTION',f'OBJECTID= {object_id}')\n",
    "        arcpy.analysis.Clip(c_lake_afm_mw_BL_BG_lyr,d_grid_lyr,output)\n",
    "    arcpy.MakeFeatureLayer_management(output,'result')\n",
    "    selectByLocation('result','SHARE_A_LINE_SEGMENT_WITH',d_grid_lyr,'NEW_SELECTION')\n",
    "    calculateField('result','lake_area', \"!shape.geodesicArea@SQUAREKILOMETERS!\", \"PYTHON_9.3\")"
   ]
  },
  {
   "cell_type": "code",
   "execution_count": null,
   "metadata": {},
   "outputs": [],
   "source": []
  }
 ],
 "metadata": {
  "kernelspec": {
   "display_name": "ArcGISPro",
   "language": "Python",
   "name": "python3"
  },
  "language_info": {
   "file_extension": ".py",
   "name": "python",
   "version": "3"
  }
 },
 "nbformat": 4,
 "nbformat_minor": 2
}
