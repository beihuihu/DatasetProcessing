{
 "cells": [
  {
   "cell_type": "code",
   "execution_count": 1,
   "metadata": {},
   "outputs": [],
   "source": [
    "import arcpy\n",
    "from arcpy.sa import *\n",
    "import os\n",
    "import time\n",
    "arcpy.env.overwriteOutput = True"
   ]
  },
  {
   "cell_type": "code",
   "execution_count": 2,
   "metadata": {},
   "outputs": [],
   "source": [
    "# load input features and make layer\n",
    "version='v16_250104'\n",
    "output_dir = os.path.join(r'J:\\lakemapping\\postprocess',version)\n",
    "auxiliary_dataset_gdb=r'J:\\lakemapping\\auxiliary_dataset.gdb'\n",
    "if not os.path.exists(output_dir):\n",
    "    os.makedirs(output_dir)\n",
    "    arcpy.CreateFileGDB_management(output_dir, \"1_temp_files.gdb\")\n",
    "    arcpy.CreateFileGDB_management(output_dir, \"2_polygon_iw_River.gdb\")\n",
    "    arcpy.CreateFileGDB_management(output_dir, \"3_polygon_after_rivermask.gdb\")\n",
    "temp_file_gdb=os.path.join(output_dir,f'1_temp_files.gdb')\n",
    "river_mask_gdb=os.path.join(output_dir,f'2_polygon_iw_River.gdb')\n",
    "after_mask_gdb=os.path.join(output_dir,f'3_polygon_after_rivermask.gdb')"
   ]
  },
  {
   "cell_type": "code",
   "execution_count": 3,
   "metadata": {},
   "outputs": [],
   "source": [
    "GLAKES=r'D:\\lakemapping\\0_auxiliary_data\\GLAKES\\GLAKES.gdb\\GLAKES'\n",
    "GLAKES_new_gdb=r'D:\\lakemapping\\0_auxiliary_data\\GLAKES\\GLAKES_after_30p_land_mask.gdb'\n",
    "GLAKES_niwSHIFT=os.path.join(GLAKES_new_gdb,'au1_GLAKES_niwSHIFT')\n",
    "GLAKES_iwSHIFT_afm_keep_arid=os.path.join(GLAKES_new_gdb,'au2_GLAKES_iwSHIFT_after_mask_gt3ha_keep_arid')\n",
    "\n",
    "GLAKES_lyr='GLAKES'\n",
    "GLAKES_niwSHIFT_lyr='au1_GLAKES_niwSHIFT'\n",
    "GLAKES_iwSHIFT_afm_keep_arid_lyr='au2_GLAKES_iwSHIFT_after_mask_gt3ha_keep_arid'\n",
    "\n",
    "# GLAKES_Res=os.path.join(auxiliary_dataset_gdb,'GLAKES_Res')\n",
    "# arcpy.MakeFeatureLayer_management(GLAKES_Res,'GLAKES_Res')\n",
    "\n",
    "# GRWL_river=os.path.join(auxiliary_dataset_gdb,'GRWL_DNRiver')\n",
    "# arcpy.MakeFeatureLayer_management(GRWL_river,'GRWL_river')\n",
    "\n",
    "# osm_river=os.path.join(auxiliary_dataset_gdb,'osm_natural_water_river')\n",
    "# arcpy.MakeFeatureLayer_management(osm_river,'osm_river')\n",
    "\n",
    "# osm_reservoir=os.path.join(auxiliary_dataset_gdb,'osm_natural_water_reservoir')\n",
    "# arcpy.MakeFeatureLayer_management(osm_reservoir,'osm_reservoir')\n",
    "\n",
    "# GeoDAR=r'D:\\lakemapping\\0_auxiliary_data\\GeoDAR\\GeoDAR_v10_v11\\GeoDAR_v11_reservoirs.shp'\n",
    "# arcpy.MakeFeatureLayer_management(GeoDAR,'GeoDAR')"
   ]
  },
  {
   "cell_type": "code",
   "execution_count": 4,
   "metadata": {},
   "outputs": [],
   "source": [
    "lakes_iwBR=os.path.join(river_mask_gdb,'total_lakes_iwBR')\n",
    "lakes_iwBR_SJ=os.path.join(river_mask_gdb,'total_lakes_iwBR_arm_SJ')\n",
    "total_lakes_arm=os.path.join(river_mask_gdb,'total_lakes_arm')\n",
    "lakes_iwBR_afterMask=os.path.join(after_mask_gdb,'lakes_iwBR_afterMask')\n",
    "lakes_iwBR_lyr='lakes_iwBR'\n",
    "total_lakes_arm_lyr='lakes_arm'\n",
    "lakes_iwBR_SJ_lyr='lakes_lakes_iwBR_SJ'"
   ]
  },
  {
   "cell_type": "code",
   "execution_count": 5,
   "metadata": {},
   "outputs": [],
   "source": [
    "lake_iwBR_aGm_iwSHIFT=os.path.join(temp_file_gdb,'total_iwBR_aGm_iwSHIFT')\n",
    "lake_iwBR_aGm_iwSHIFT_singlepart=os.path.join(temp_file_gdb,'total_iwBR_aGm_iwSHIFT_singlepart')\n",
    "lake_iwBR_aGm_iwSHIFT_point=os.path.join(temp_file_gdb,'total_iwBR_aGm_iwSHIFT_point')\n",
    "lake_iwBR_aGm_iwSHIFT_singlepart_lyr='lake_iwBR_aGm_iwSHIFT_singlepart'\n",
    "\n",
    "lake_iwBR_aGm_niwSHIFT=os.path.join(temp_file_gdb,'total_iwBR_aGm_niwSHIFT')\n",
    "lake_iwBR_aGm_niwSHIFT_singlepart=os.path.join(temp_file_gdb,'total_iwBR_aGm_niwSHIFT_singlepart')\n",
    "lake_iwBR_aGm_niwSHIFT_point=os.path.join(temp_file_gdb,'total_iwBR_aGm_niwSHIFT_point')\n",
    "lake_iwBR_aGm_niwSHIFT_singlepart_lyr='lake_iwBR_aGm_niwSHIFT_singlepart'\n",
    "\n",
    "lake_iwBR_aGm_point=os.path.join(temp_file_gdb,'total_iwBR_aGm_point')\n",
    "lake_iwBR_aGm_point_lyr='lake_iwBR_aGm_point'"
   ]
  },
  {
   "cell_type": "code",
   "execution_count": null,
   "metadata": {},
   "outputs": [],
   "source": [
    "arcpy.analysis.Clip(lakes_iwBR,GLAKES_iwSHIFT_afm_keep_arid,lake_iwBR_aGm_iwSHIFT)\n",
    "arcpy.management.MultipartToSinglepart(lake_iwBR_aGm_iwSHIFT, lake_iwBR_aGm_iwSHIFT_singlepart)\n",
    "arcpy.MakeFeatureLayer_management(lake_iwBR_aGm_iwSHIFT_singlepart,lake_iwBR_aGm_iwSHIFT_singlepart_lyr)\n",
    "arcpy.AddField_management(lake_iwBR_aGm_iwSHIFT_singlepart_lyr, 'area_aGm', \"Double\")\n",
    "arcpy.CalculateField_management(lake_iwBR_aGm_iwSHIFT_singlepart_lyr, \"area_aGm\",  \"!shape.geodesicArea@SQUAREKILOMETERS!\", \"PYTHON_9.3\")\n",
    "arcpy.management.FeatureToPoint(lake_iwBR_aGm_iwSHIFT_singlepart_lyr,lake_iwBR_aGm_iwSHIFT_point,'INSIDE')\n",
    "\n",
    "arcpy.analysis.Clip(lakes_iwBR,GLAKES_niwSHIFT,lake_iwBR_aGm_niwSHIFT)\n",
    "arcpy.management.MultipartToSinglepart(lake_iwBR_aGm_niwSHIFT, lake_iwBR_aGm_niwSHIFT_singlepart)\n",
    "arcpy.MakeFeatureLayer_management(lake_iwBR_aGm_niwSHIFT_singlepart,lake_iwBR_aGm_niwSHIFT_singlepart_lyr)\n",
    "arcpy.AddField_management(lake_iwBR_aGm_niwSHIFT_singlepart_lyr, 'area_aGm', \"Double\")\n",
    "arcpy.CalculateField_management(lake_iwBR_aGm_niwSHIFT_singlepart_lyr, \"area_aGm\",  \"!shape.geodesicArea@SQUAREKILOMETERS!\", \"PYTHON_9.3\")\n",
    "arcpy.management.FeatureToPoint(lake_iwBR_aGm_niwSHIFT_singlepart_lyr,lake_iwBR_aGm_niwSHIFT_point,'INSIDE')"
   ]
  },
  {
   "cell_type": "code",
   "execution_count": null,
   "metadata": {},
   "outputs": [],
   "source": [
    "arcpy.Merge_management([lake_iwBR_aGm_iwSHIFT_point,lake_iwBR_aGm_niwSHIFT_point],lake_iwBR_aGm_point)\n",
    "arcpy.MakeFeatureLayer_management(lake_iwBR_aGm_point,lake_iwBR_aGm_point_lyr)"
   ]
  },
  {
   "cell_type": "code",
   "execution_count": 6,
   "metadata": {},
   "outputs": [],
   "source": [
    "def selectByLocation(inputFeature,overlapType,selectionFeature,selectionType='NEW_SELECTION'):\n",
    "    arcpy.SelectLayerByLocation_management(inputFeature,overlapType,selectionFeature,selection_type=selectionType)\n",
    "    \n",
    "def selectByAttribute(inputFeature,selectionType='NEW_SELECTION',code=''):\n",
    "    arcpy.management.SelectLayerByAttribute(inputFeature,selectionType,code)\n",
    "    \n",
    "def calculateField(inputFeature,field,code):\n",
    "    arcpy.CalculateField_management(inputFeature, field,code)"
   ]
  },
  {
   "cell_type": "code",
   "execution_count": null,
   "metadata": {},
   "outputs": [],
   "source": [
    "arcpy.MakeFeatureLayer_management(lake_iwBR,lakes_iwBR_lyr)\n",
    "arcpy.MakeFeatureLayer_management(lakes_iwBR_SJ,lakes_iwBR_SJ_lyr)\n",
    "arcpy.AddField_management(lakes_iwBR_SJ_lyr, 'operate', \"Double\")\n",
    "#对与GLAKES、OSM、GeoDAR水库相交的polygon\n",
    "selectByAttribute(lakes_iwBR_SJ_lyr,'\"flag\" >=2')\n",
    "selectByAttribute(lakes_iwBR_SJ_lyr,'\"flag\" > 0 AND \"area_ratio_R\" >= 0.8','ADD_TO_SELECTION')\n",
    "selectByAttribute(lakes_iwBR_SJ_lyr,'\"flag\" > 0 AND \"area_ratio_R\" >= 1','ADD_TO_SELECTION')\n",
    "calculateField(lakes_iwBR_SJ_lyr,'operate',1)\n",
    "selectByAttribute(lakes_iwBR_SJ_lyr,'\"flag\" = 0 AND \"area_ratio_R\" <=0.1')\n",
    "selectByAttribute(lakes_iwBR_SJ_lyr,'\"area_ratio_R\" =0')\n",
    "calculateField(lakes_iwBR_SJ_lyr,'operate',1)"
   ]
  }
 ],
 "metadata": {
  "kernelspec": {
   "display_name": "ArcGISPro",
   "language": "Python",
   "name": "python3"
  },
  "language_info": {
   "file_extension": ".py",
   "name": "python",
   "version": "3"
  }
 },
 "nbformat": 4,
 "nbformat_minor": 2
}
