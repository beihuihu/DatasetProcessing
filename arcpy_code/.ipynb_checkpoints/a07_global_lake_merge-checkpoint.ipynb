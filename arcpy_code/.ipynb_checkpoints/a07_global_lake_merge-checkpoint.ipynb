{
 "cells": [
  {
   "cell_type": "code",
   "execution_count": 3,
   "metadata": {},
   "outputs": [],
   "source": [
    "import arcpy\n",
    "from arcpy.sa import *\n",
    "import os\n",
    "import time\n",
    "arcpy.env.overwriteOutput = True"
   ]
  },
  {
   "cell_type": "code",
   "execution_count": 4,
   "metadata": {},
   "outputs": [
    {
     "name": "stdout",
     "output_type": "stream",
     "text": [
      "['eu', 'af', 'oc', 'island', 'as_1', 'as_2', 'as_3', 'as_4', 'as_5', 'as_6', 'as_7', 'as_8', 'as_9']\n",
      "['greenland', 'sa_1', 'sa_2', 'na_1', 'na_2', 'na_3', 'na_4', 'na_5', 'na_6']\n"
     ]
    }
   ],
   "source": [
    "# load input features and make layer\n",
    "output_dir = r'J:\\lakemapping\\postprocess\\v9_240622'\n",
    "auxiliary_dataset_gdb=r'D:\\postprocess\\v240220\\auxiliary_dataset.gdb'\n",
    "river_mask_gdb=os.path.join(output_dir,'2_polygon_iw_River.gdb')\n",
    "after_mask_gdb=os.path.join(output_dir,'3_polygon_after_rivermask.gdb')\n",
    "EH_region_list=['eu','af','oc','island']\n",
    "for i in range(1,10):\n",
    "    EH_region_list.append(f'as_{i}')\n",
    "    \n",
    "WH_region_list=['greenland','sa_1','sa_2']    \n",
    "for i in range(1,7):\n",
    "    WH_region_list.append(f'na_{i}')\n",
    "\n",
    "print(EH_region_list)\n",
    "print(WH_region_list)\n",
    "\n",
    "version='v240703'\n",
    "merge_dataset=f'4_polygon_after_merge_{version}.gdb'\n",
    "merge_dir=os.path.join(output_dir,merge_dataset)\n",
    "if not os.path.exists(merge_dir):\n",
    "    arcpy.CreateFileGDB_management(output_dir,merge_dataset)"
   ]
  },
  {
   "cell_type": "code",
   "execution_count": 5,
   "metadata": {},
   "outputs": [],
   "source": [
    "region='EH'#western_hemisphere\n",
    "\n",
    "if region=='EH':\n",
    "    region_list=EH_region_list\n",
    "else:\n",
    "    region_list=WH_region_list"
   ]
  },
  {
   "cell_type": "code",
   "execution_count": 6,
   "metadata": {},
   "outputs": [],
   "source": [
    "def selectByLocation(inputFeature,overlapType,selectionFeature,selectionType='NEW_SELECTION'):\n",
    "    arcpy.SelectLayerByLocation_management(inputFeature,overlapType,selectionFeature,selection_type=selectionType)\n",
    "    \n",
    "def selectByAttribute(inputFeature,selectionType='NEW_SELECTION',code=''):\n",
    "    arcpy.management.SelectLayerByAttribute(inputFeature,selectionType,code)\n",
    "    \n",
    "def calculateField(inputFeature,field,code):\n",
    "    arcpy.CalculateField_management(inputFeature, field,code)"
   ]
  },
  {
   "cell_type": "code",
   "execution_count": 313,
   "metadata": {},
   "outputs": [],
   "source": [
    "# region_list=['eu','af','oc','island','greenland','sa_1','sa_2']\n",
    "# for i in range(1,10):\n",
    "#     region_list.append(f'as_{i}')\n",
    "    \n",
    "# for i in range(1,7):\n",
    "#     region_list.append(f'na_{i}')"
   ]
  },
  {
   "cell_type": "markdown",
   "metadata": {
    "heading_collapsed": true
   },
   "source": [
    "## 获得各个区域mask后结果"
   ]
  },
  {
   "cell_type": "code",
   "execution_count": 222,
   "metadata": {
    "hidden": true
   },
   "outputs": [
    {
     "data": {
      "text/html": [
       "<div class='gpresult'><h2>Messages</h2><div id='messages' data-messages='[\"Start Time: 2024年7月5日 14:17:40\",\"Succeeded at 2024年7月5日 14:17:40 (Elapsed Time: 0.01 seconds)\"]' data-show='true'><div id = 'default' /></div></div>"
      ],
      "text/plain": [
       "<Result 'GeoDAR'>"
      ]
     },
     "execution_count": 222,
     "metadata": {},
     "output_type": "execute_result"
    }
   ],
   "source": [
    "GLAKES_Res=os.path.join(auxiliary_dataset_gdb,'GLAKES_Res')\n",
    "arcpy.MakeFeatureLayer_management(GLAKES_Res,'GLAKES_Res')\n",
    "\n",
    "GLAKES_natural_lake=os.path.join(auxiliary_dataset_gdb,'GLAKES_gte1_natural_lake')\n",
    "arcpy.MakeFeatureLayer_management(GLAKES_natural_lake,'GLAKES_natural_lake')\n",
    "\n",
    "GLAKES=r'D:\\lakemapping\\0_auxiliary_data\\GLAKES\\GLAKES\\GLAKES.gdb\\GLAKES'\n",
    "arcpy.MakeFeatureLayer_management(GLAKES,'GLAKES')\n",
    "\n",
    "GRWL_river=os.path.join(auxiliary_dataset_gdb,'GRWL_DNRiver')\n",
    "arcpy.MakeFeatureLayer_management(GRWL_river,'GRWL_river')\n",
    "\n",
    "osm_river=os.path.join(auxiliary_dataset_gdb,'osm_natural_water_river')\n",
    "arcpy.MakeFeatureLayer_management(osm_river,'osm_river')\n",
    "\n",
    "osm_reservoir=os.path.join(auxiliary_dataset_gdb,'osm_natural_water_reservoir')\n",
    "arcpy.MakeFeatureLayer_management(osm_reservoir,'osm_reservoir')\n",
    "\n",
    "GeoDAR=r'D:\\lakemapping\\0_auxiliary_data\\GeoDAR\\GeoDAR_v10_v11\\GeoDAR_v11_reservoirs.shp'\n",
    "arcpy.MakeFeatureLayer_management(GeoDAR,'GeoDAR')"
   ]
  },
  {
   "cell_type": "code",
   "execution_count": 321,
   "metadata": {
    "hidden": true
   },
   "outputs": [
    {
     "name": "stdout",
     "output_type": "stream",
     "text": [
      "start selection\n",
      "time:285.26746344566345s\n"
     ]
    }
   ],
   "source": [
    "cal=True\n",
    "if cal:\n",
    "    print('start selection')\n",
    "    start=time.time()\n",
    "#     for region in region_list:\n",
    "    for region in ['na_2']:\n",
    "#         raw_prediction_fn='lakes_'+region\n",
    "#         prefix=region\n",
    "#         lake_waterway_iwG_SJ=os.path.join(river_mask_gdb,raw_prediction_fn+'_waterway_iwG_SJ')\n",
    "#         lake_waterway_niwG=os.path.join(river_mask_gdb,raw_prediction_fn+'_waterway_niwG')\n",
    "#         lake_niwR=os.path.join(river_mask_gdb,raw_prediction_fn+'_niwR')\n",
    "#         lake_arm=os.path.join(river_mask_gdb,raw_prediction_fn+'_arm')\n",
    "#         lake_iwG_arm_SJ=os.path.join(river_mask_gdb,raw_prediction_fn+'_iwG_arm_SJ')\n",
    "#         lake_niwG_arm_SJ=os.path.join(river_mask_gdb,raw_prediction_fn+'_niwG_arm_SJ')\n",
    "#         result_afm=os.path.join(after_mask_gdb,raw_prediction_fn+'_afterMask')\n",
    "\n",
    "#         lake_arm_lyr=prefix+'_lake_arm'\n",
    "#         lake_niwR_lyr='lake_niwR'\n",
    "#         lake_iwG_arm_SJ_lyr=prefix+'_lake_iwG_arm_SJ'\n",
    "#         lake_niwG_arm_SJ_lyr=prefix+'_lake_niwG_arm_SJ'\n",
    "#         lake_waterway_niwG_lyr=prefix+'_lake_waterway_niwG'\n",
    "#         lake_waterway_iwG_SJ_lyr=prefix+'_lake_waterway_iwG_SJ'\n",
    "        result_afm_lyr='lakes_'+raw_prediction_fn+'_afm'\n",
    "\n",
    "#         arcpy.MakeFeatureLayer_management(lake_arm,lake_arm_lyr)\n",
    "#         arcpy.MakeFeatureLayer_management(lake_iwG_arm_SJ,lake_iwG_arm_SJ_lyr)\n",
    "#         arcpy.MakeFeatureLayer_management(lake_niwG_arm_SJ,lake_niwG_arm_SJ_lyr)\n",
    "#         arcpy.MakeFeatureLayer_management(lake_waterway_niwG,lake_waterway_niwG_lyr)\n",
    "#         arcpy.MakeFeatureLayer_management(lake_waterway_iwG_SJ,lake_waterway_iwG_SJ_lyr)\n",
    "#         arcpy.MakeFeatureLayer_management(lake_niwR,lake_niwR_lyr)\n",
    "\n",
    "#         fieldmappings = arcpy.FieldMappings()\n",
    "#         fieldmappings_all = arcpy.FieldMappings()\n",
    "#         fieldmappings_all.addTable(lake_niwR_lyr)#未mask\n",
    "#         fieldmappings_all.addTable(lake_iwG_arm_SJ_lyr)\n",
    "#         field_list = ['area','iwR','iwG','flag','operate']  # keep the only three fields, area代表lake without rivermask的面积，area_arm代表lake with rivermask的面积\n",
    "\n",
    "#         for field_i in field_list:\n",
    "#             field_idx = fieldmappings_all.findFieldMapIndex(field_i)\n",
    "#             fieldmappings.addFieldMap(fieldmappings_all.getFieldMap(field_idx))\n",
    "\n",
    "        selectByAttribute(lake_iwG_arm_SJ_lyr,'NEW_SELECTION','\"operate\" = 0.5 OR operate IS NULL')\n",
    "        selectByLocation(lake_arm_lyr, 'WITHIN', lake_iwG_arm_SJ_lyr)\n",
    "\n",
    "        selectByAttribute(lake_niwG_arm_SJ_lyr,'NEW_SELECTION','\"operate\" = 0.5 OR operate IS NULL')\n",
    "        selectByLocation(lake_arm_lyr, 'WITHIN', lake_niwG_arm_SJ_lyr,'ADD_TO_SELECTION')\n",
    "        selectByAttribute(lake_arm_lyr,'SUBSET_SELECTION','\"operate\" IS NULL')\n",
    "        selectByAttribute(lake_arm_lyr,'ADD_TO_SELECTION','\"operate\" = 1')\n",
    "        selectByAttribute(lake_iwG_arm_SJ_lyr,'NEW_SELECTION','\"operate\" >= 1')\n",
    "        selectByAttribute(lake_niwG_arm_SJ_lyr,'NEW_SELECTION','\"operate\" >= 1')\n",
    "\n",
    "        selectByAttribute(lake_waterway_iwG_SJ_lyr,'NEW_SELECTION','\"operate\"<> 0 or operate IS NULL')\n",
    "        selectByAttribute(lake_waterway_niwG_lyr,'NEW_SELECTION','\"operate\"<> 0 or operate IS NULL')\n",
    "        selectByAttribute(lake_niwR_lyr,'NEW_SELECTION','\"operate\"<> 0 or operate IS NULL')\n",
    "        merge_list=[lake_iwG_arm_SJ_lyr,lake_niwG_arm_SJ_lyr,lake_arm_lyr,lake_waterway_iwG_SJ_lyr,lake_waterway_niwG_lyr,lake_niwR_lyr]\n",
    "        arcpy.Merge_management(merge_list,result_afm,fieldmappings)\n",
    "\n",
    "        arcpy.MakeFeatureLayer_management(result_afm,result_afm_lyr)\n",
    "        selectByAttribute(result_afm_lyr,'NEW_SELECTION','\"area\" IS NULL')\n",
    "        arcpy.CalculateField_management(result_afm_lyr, \"area\",  \"!shape.geodesicArea@SQUAREKILOMETERS!\", \"PYTHON_9.3\")\n",
    "        #add feature\n",
    "        arcpy.CalculateField_management(result_afm_lyr, \"operate\",  0.5)\n",
    "        selectByAttribute(lake_iwG_arm_SJ_lyr,'NEW_SELECTION','\"operate\" = 0.5 OR operate IS NULL')\n",
    "        selectByAttribute(result_afm_lyr,'NEW_SELECTION','\"iwG\" IS NULL')\n",
    "        selectByLocation(result_afm_lyr, 'WITHIN', lake_iwG_arm_SJ,'SUBSET_SELECTION')\n",
    "        arcpy.CalculateField_management(result_afm_lyr,'iwG',1)\n",
    "        selectByAttribute(result_afm_lyr,'NEW_SELECTION','\"iwG\" IS NULL')\n",
    "        arcpy.CalculateField_management(result_afm_lyr,'iwG',0)\n",
    "\n",
    "        selectByAttribute(result_afm_lyr,'NEW_SELECTION','\"iwR\" IS NULL')\n",
    "        selectByLocation(result_afm_lyr, 'INTERSECT', GRWL_river,'SUBSET_SELECTION')\n",
    "        calculateField(result_afm_lyr, 'iwR',1)\n",
    "        selectByAttribute(result_afm_lyr,'NEW_SELECTION','\"iwR\" IS NULL')\n",
    "        calculateField(result_afm_lyr, 'iwR',2)\n",
    "\n",
    "        selectByAttribute(result_afm_lyr,'NEW_SELECTION', 'flag IS NULL and \"operate\" = 0.5 ')\n",
    "        selectByLocation(result_afm_lyr, 'WITHIN', GLAKES_natural_lake,'SUBSET_SELECTION')\n",
    "        calculateField(result_afm_lyr, \"flag\",1)\n",
    "        selectByAttribute(result_afm_lyr,'NEW_SELECTION', 'flag IS NULL and \"operate\" = 0.5 ')\n",
    "        selectByLocation(result_afm_lyr, 'WITHIN', GLAKES_Res,'SUBSET_SELECTION')\n",
    "        calculateField(result_afm_lyr, \"flag\",2)\n",
    "        selectByAttribute(result_afm_lyr,'NEW_SELECTION', 'flag IS NULL and \"operate\" = 0.5 and iwG=1')\n",
    "        calculateField(result_afm_lyr, \"flag\",0)\n",
    "        selectByAttribute(result_afm_lyr,'NEW_SELECTION', 'flag IS NULL and \"operate\" = 0.5 ')\n",
    "        selectByLocation(result_afm_lyr,'INTERSECT',osm_reservoir,'SUBSET_SELECTION')\n",
    "        arcpy.CalculateField_management(result_afm_lyr, 'flag',  3)\n",
    "\n",
    "        selectByAttribute(result_afm_lyr,'NEW_SELECTION', 'flag IS NULL and \"operate\" = 0.5 ')\n",
    "        selectByLocation(result_afm_lyr,'INTERSECT',GeoDAR,'SUBSET_SELECTION')\n",
    "        arcpy.CalculateField_management(result_afm_lyr, 'flag',  4)\n",
    "\n",
    "        #delete layer\n",
    "        arcpy.Delete_management(lake_niwR_lyr)\n",
    "        arcpy.Delete_management(lake_arm_lyr)\n",
    "        arcpy.Delete_management(lake_iwG_arm_SJ_lyr)\n",
    "        arcpy.Delete_management(lake_niwG_arm_SJ_lyr)\n",
    "        arcpy.Delete_management(lake_waterway_niwG_lyr)\n",
    "        arcpy.Delete_management(lake_waterway_iwG_SJ_lyr)\n",
    "    end=time.time()\n",
    "    print(f'time:{end-start}s')"
   ]
  },
  {
   "cell_type": "code",
   "execution_count": 228,
   "metadata": {
    "hidden": true
   },
   "outputs": [
    {
     "data": {
      "text/html": [
       "<div class='gpresult'><h2>Messages</h2><div id='messages' data-messages='[\"Start Time: 2024年7月5日 15:13:39\",\"Succeeded at 2024年7月5日 15:13:42 (Elapsed Time: 3.33 seconds)\"]' data-show='true'><div id = 'default' /></div></div>"
      ],
      "text/plain": [
       "<Result 'true'>"
      ]
     },
     "execution_count": 228,
     "metadata": {},
     "output_type": "execute_result"
    }
   ],
   "source": [
    "region='na_2'\n",
    "raw_prediction_fn='lakes_'+region\n",
    "result_afm=os.path.join(after_mask_gdb,raw_prediction_fn+'_afterMask')\n",
    "lake_iwG_arm_SJ=os.path.join(river_mask_gdb,raw_prediction_fn+'_iwG_arm_SJ')\n",
    "result_afm_lyr=f'lakes_{region}_afm'\n",
    "lake_iwG_arm_SJ_lyr=f'{region}_lake_iwG_arm_SJ'\n",
    "arcpy.MakeFeatureLayer_management(result_afm,result_afm_lyr)\n",
    "arcpy.MakeFeatureLayer_management(lake_iwG_arm_SJ,lake_iwG_arm_SJ_lyr)\n",
    "selectByAttribute(lake_iwG_arm_SJ_lyr,'NEW_SELECTION','\"operate\" = 0.5 OR operate IS NULL')\n",
    "selectByAttribute(result_afm_lyr,'NEW_SELECTION','\"iwG\" IS NULL')\n",
    "selectByLocation(result_afm_lyr, 'WITHIN', lake_iwG_arm_SJ,'SUBSET_SELECTION')\n",
    "arcpy.CalculateField_management(result_afm_lyr,'iwG',1)\n",
    "selectByAttribute(result_afm_lyr,'NEW_SELECTION','\"iwG\" IS NULL')\n",
    "arcpy.CalculateField_management(result_afm_lyr,'iwG',0)\n",
    "\n",
    "selectByAttribute(result_afm_lyr,'NEW_SELECTION','\"iwR\" IS NULL')\n",
    "selectByLocation(result_afm_lyr, 'INTERSECT', GRWL_river,'SUBSET_SELECTION')\n",
    "calculateField(result_afm_lyr, 'iwR',1)\n",
    "selectByAttribute(result_afm_lyr,'NEW_SELECTION','\"iwR\" IS NULL')\n",
    "calculateField(result_afm_lyr, 'iwR',2)\n",
    "\n",
    "selectByAttribute(result_afm_lyr,'NEW_SELECTION', 'flag IS NULL and \"operate\" = 0.5 ')\n",
    "selectByLocation(result_afm_lyr, 'WITHIN', GLAKES_natural_lake,'SUBSET_SELECTION')\n",
    "calculateField(result_afm_lyr, \"flag\",1)\n",
    "selectByAttribute(result_afm_lyr,'NEW_SELECTION', 'flag IS NULL and \"operate\" = 0.5 ')\n",
    "selectByLocation(result_afm_lyr, 'WITHIN', GLAKES_Res,'SUBSET_SELECTION')\n",
    "calculateField(result_afm_lyr, \"flag\",2)\n",
    "selectByAttribute(result_afm_lyr,'NEW_SELECTION', 'flag IS NULL and \"operate\" = 0.5 and iwG=1')\n",
    "calculateField(result_afm_lyr, \"flag\",0)\n",
    "selectByAttribute(result_afm_lyr,'NEW_SELECTION', 'flag IS NULL and \"operate\" = 0.5 ')\n",
    "selectByLocation(result_afm_lyr,'INTERSECT',osm_reservoir,'SUBSET_SELECTION')\n",
    "arcpy.CalculateField_management(result_afm_lyr, 'flag',  3)\n",
    "\n",
    "selectByAttribute(result_afm_lyr,'NEW_SELECTION', 'flag IS NULL and \"operate\" = 0.5 ')\n",
    "selectByLocation(result_afm_lyr,'INTERSECT',GeoDAR,'SUBSET_SELECTION')\n",
    "arcpy.CalculateField_management(result_afm_lyr, 'flag',  4)\n",
    "\n",
    "#delete layer\n",
    "arcpy.Delete_management(lake_iwG_arm_SJ_lyr)\n",
    "arcpy.Delete_management(lake_niwR_lyr)\n",
    "arcpy.Delete_management(lake_arm_lyr)\n",
    "arcpy.Delete_management(lake_iwG_arm_SJ_lyr)\n",
    "arcpy.Delete_management(lake_niwG_arm_SJ_lyr)\n",
    "arcpy.Delete_management(lake_waterway_niwG_lyr)\n",
    "arcpy.Delete_management(lake_waterway_iwG_SJ_lyr)"
   ]
  },
  {
   "cell_type": "code",
   "execution_count": 28,
   "metadata": {
    "hidden": true
   },
   "outputs": [
    {
     "data": {
      "text/html": [
       "<div class='gpresult'><h2>Messages</h2><div id='messages' data-messages='[\"Start Time: 2024年7月1日 20:40:30\",\"Succeeded at 2024年7月1日 20:40:33 (Elapsed Time: 2.74 seconds)\"]' data-show='true'><div id = 'default' /></div></div>"
      ],
      "text/plain": [
       "<Result 'J:\\\\lakemapping\\\\postprocess\\\\v9_240622\\\\3_polygon_after_rivermask.gdb\\\\big_lakes_as_3'>"
      ]
     },
     "execution_count": 28,
     "metadata": {},
     "output_type": "execute_result"
    }
   ],
   "source": [
    "region=\"as_3\"\n",
    "raw_prediction_fn='lakes_'+region\n",
    "big_lake_join=os.path.join(river_mask_gdb,raw_prediction_fn+'_biglakeModel_SJ')\n",
    "big_lake_toMerge=os.path.join(after_mask_gdb,'big_'+raw_prediction_fn)\n",
    "big_lake_join_lyr=region+'_biglakeModel_SJ'\n",
    "arcpy.MakeFeatureLayer_management(big_lake_join,big_lake_join_lyr)\n",
    "arcpy.management.SelectLayerByAttribute(big_lake_join_lyr,'NEW_SELECTION','\"operate_bl\"=1')\n",
    "arcpy.CopyFeatures_management(big_lake_join_lyr,big_lake_toMerge)"
   ]
  },
  {
   "cell_type": "markdown",
   "metadata": {},
   "source": [
    "## 合并mask后结果及融合大湖泊、GLAKES填补的湖泊"
   ]
  },
  {
   "cell_type": "code",
   "execution_count": null,
   "metadata": {},
   "outputs": [],
   "source": [
    "a1_lakes_afm=os.path.join(merge_dir,f'a1_{region}_lakes_after_mask')\n",
    "a2_big_lakes=os.path.join(merge_dir,f'a2_{region}_big_lakes')\n",
    "a3_GLAKES_gte1=os.path.join(merge_dir,'a3_GLAKES_gte1')\n",
    "a4_GLAKES_lt1=os.path.join(merge_dir,'a4_GLAKES_lt1')\n",
    "a1_lakes_afm_lyr=f'a1_{region}_lakes_afm'\n",
    "a2_big_lakes_lyr=f'a2_{region}_big_lakes'\n",
    "a3_GLAKES_gte1_lyr='a3_GLAKES_gte1'\n",
    "a4_GLAKES_lt1_lyr='a4_GLAKES_gte1'\n",
    "\n",
    "a1p1=os.path.join(merge_dir,f'a1p1_{region}_lakes_after_mask_iw_a2')\n",
    "a1p2=os.path.join(merge_dir,f'a1p2_{region}_lakes_after_mask_niw_a2')\n",
    "a1p1_merge_with_a2_raw=os.path.join(merge_dir,f'a1p1_{region}_merge_with_a2_raw')\n",
    "a1p1_merge_with_a2=os.path.join(merge_dir,f'a1p1_{region}_merge_with_a2')\n",
    "b1_lakes_afm_mergewith_a2=os.path.join(merge_dir,f'b1_{region}_lakes_afm_mergewith_BL')\n",
    "\n",
    "a1p1_lyr=f'a1p1_{region}'\n",
    "a1p2_lyr=f'a1p2_{region}'\n",
    "a1p1_merge_with_a2_raw_lyr=f'a1p1_{region}_merge_with_a2_raw'\n",
    "a1p1_merge_with_a2_lyr=f'a1p1_merge_with_a2_{region}'\n",
    "b1_lakes_after_mask_mergewith_a2_lyr=f'b1_{region}_lakes_afm_mergewith_a2'\n",
    "\n",
    "b1p1=os.path.join(merge_dir,f'b1p1_{region}_lakes_afm_mergewith_BL_iw_BG')\n",
    "b1p2=os.path.join(merge_dir,f'b1p2_{region}_lakes_afm_mergewith_BL_niw_BG')\n",
    "\n",
    "b1p1_lyr=f'b1p1_{region}'\n",
    "b1p2_lyr=f'b1p2_{region}'\n",
    "b1p1_merge_with_a3_raw_lyr=f'b1p1_{region}_merge_with_a3_raw'\n",
    "b1p1_merge_with_a3_lyr=f'b1p1_{region}_merge_with_a3'\n",
    "\n",
    "b1p1_merge_with_a3_raw=os.path.join(merge_dir,'b1p1_merge_with_a3_raw')\n",
    "b1p1_merge_with_a3=os.path.join(merge_dir,'b1p1_merge_with_a3')\n",
    "c1_global_lakes_after_mask_mergewith_a2_a3=os.path.join(merge_dir,'c1_global_lakes_afm_mergewith_BL_BG')\n",
    "c1_global_lakes_after_mask_mergewith_a2_a3_lyr='c1_global_lakes_afm_mergewith_BL_BG'"
   ]
  },
  {
   "cell_type": "code",
   "execution_count": 138,
   "metadata": {},
   "outputs": [],
   "source": [
    "GLAKES=r'D:\\lakemapping\\0_auxiliary_data\\GLAKES\\GLAKES\\GLAKES.gdb\\GLAKES'\n",
    "arcpy.MakeFeatureLayer_management(GLAKES,'GLAKES')\n",
    "selectByAttribute('GLAKES','NEW_SELECTION','\"Area_bound\" >= 1')\n",
    "arcpy.conversion.ExportFeatures('GLAKES',GLAKES_gte1)\n",
    "selectByAttribute('GLAKES','SWITCH_SELECTION','')\n",
    "arcpy.conversion.ExportFeatures('GLAKES',GLAKES_lt1)"
   ]
  },
  {
   "cell_type": "code",
   "execution_count": 11,
   "metadata": {},
   "outputs": [
    {
     "name": "stdout",
     "output_type": "stream",
     "text": [
      "start selection\n",
      "time:64.80170464515686s\n"
     ]
    }
   ],
   "source": [
    "polygon_afm_list=[]\n",
    "big_lake_list=[]\n",
    "print('start selection')\n",
    "start=time.time()\n",
    "for region in region_list:\n",
    "    polygon_afm=os.path.join(after_mask_gdb,'lakes_'+region+'_afterMask')\n",
    "    arcpy.MakeFeatureLayer_management(polygon_afm,'lakes_'+region+'_afm')\n",
    "    polygon_afm_list.append('lakes_'+region+'_afm')\n",
    "    \n",
    "for region in region_list:\n",
    "    polygon_big_lake=os.path.join(after_mask_gdb,'big_lakes_'+region)\n",
    "    arcpy.MakeFeatureLayer_management(polygon_big_lake,'big_lakes_'+region)\n",
    "    big_lake_list.append('big_lakes_'+region)\n",
    "    \n",
    "end=time.time()\n",
    "print(f'time:{end-start}s')"
   ]
  },
  {
   "cell_type": "code",
   "execution_count": 12,
   "metadata": {},
   "outputs": [
    {
     "name": "stdout",
     "output_type": "stream",
     "text": [
      "['lakes_eu_afm', 'lakes_af_afm', 'lakes_oc_afm', 'lakes_island_afm', 'lakes_as_1_afm', 'lakes_as_2_afm', 'lakes_as_3_afm', 'lakes_as_4_afm', 'lakes_as_5_afm', 'lakes_as_6_afm', 'lakes_as_7_afm', 'lakes_as_8_afm', 'lakes_as_9_afm']\n",
      "['big_lakes_eu', 'big_lakes_af', 'big_lakes_oc', 'big_lakes_island', 'big_lakes_as_1', 'big_lakes_as_2', 'big_lakes_as_3', 'big_lakes_as_4', 'big_lakes_as_5', 'big_lakes_as_6', 'big_lakes_as_7', 'big_lakes_as_8', 'big_lakes_as_9']\n"
     ]
    }
   ],
   "source": [
    "print(polygon_afm_list)\n",
    "print(big_lake_list)"
   ]
  },
  {
   "cell_type": "code",
   "execution_count": null,
   "metadata": {
    "scrolled": true
   },
   "outputs": [],
   "source": [
    "#把polygon merge到一起\n",
    "arcpy.Merge_management(polygon_afm_list,a1_lakes_afm)\n",
    "#把与GLAKES要合并的文件相交的polygon merge到一起\n",
    "arcpy.Merge_management(big_lake_list,a2_big_lakes)"
   ]
  },
  {
   "cell_type": "code",
   "execution_count": null,
   "metadata": {},
   "outputs": [],
   "source": [
    "arcpy.MakeFeatureLayer_management(a1_lakes_afm,a1_lakes_afm_lyr)\n",
    "arcpy.MakeFeatureLayer_management(a2_big_lakes,a2_big_lakes_lyr)"
   ]
  },
  {
   "cell_type": "code",
   "execution_count": null,
   "metadata": {},
   "outputs": [],
   "source": [
    "arcpy.AddField_management(a1_lakes_afm_lyr, 'iwBL', \"Short\")\n",
    "selectByLocation(a1_lakes_afm_lyr,'INTERSECT',a2_global_big_lakes_lyr)\n",
    "calculateField(a1_lakes_afm_lyr,'iwBL',1)\n",
    "# selectByAttribute(a1_global_lakes_afm_lyr,'NEW_SELECTION','\"iwBL\"=1')\n",
    "arcpy.conversion.ExportFeatures(a1_lakes_afm_lyr,a1p1)\n",
    "selectByAttribute(a1_lakes_afm_lyr,'SWITCH_SELECTION', '')\n",
    "arcpy.conversion.ExportFeatures(a1_lakes_afm_lyr,a1p2)"
   ]
  },
  {
   "cell_type": "code",
   "execution_count": 305,
   "metadata": {},
   "outputs": [
    {
     "data": {
      "text/html": [
       "<div class='gpresult'><h2>Messages</h2><div id='messages' data-messages='[\"Start Time: 2024年7月5日 22:56:06\",\"Succeeded at 2024年7月5日 22:56:08 (Elapsed Time: 2.72 seconds)\"]' data-show='true'><div id = 'default' /></div></div>"
      ],
      "text/plain": [
       "<Result 'a3_GLAKES_gte1'>"
      ]
     },
     "execution_count": 305,
     "metadata": {},
     "output_type": "execute_result"
    }
   ],
   "source": [
    "arcpy.MakeFeatureLayer_management(a3_GLAKES_gte1,a3_GLAKES_gte1_lyr)"
   ]
  },
  {
   "cell_type": "code",
   "execution_count": null,
   "metadata": {},
   "outputs": [],
   "source": [
    "arcpy.MakeFeatureLayer_management(a1p1,a1p1_lyr)\n",
    "arcpy.MakeFeatureLayer_management(a1p2,a1p2_lyr)"
   ]
  },
  {
   "cell_type": "code",
   "execution_count": null,
   "metadata": {},
   "outputs": [],
   "source": [
    "#把merge后的文件与big lake文件合并，并融合.为了加快处理速度分了两个部分\n",
    "start=time.time()\n",
    "arcpy.Merge_management([a1p1_lyr,a2_big_lakes_lyr],a1p1_merge_with_a2_raw)\n",
    "arcpy.MakeFeatureLayer_management(a1p1_merge_with_a2_raw, a1p1_merge_with_a2_raw_lyr)#global_lakes_afm_merged_with_GBL\n",
    "end=time.time()\n",
    "print(f'time:{end-start}s')\n",
    "print('start Dissolve')\n",
    "arcpy.Dissolve_management(a1p1_merge_with_a2_raw_lyr, a1p1_merge_with_a2,\"\", \"\", \"SINGLE_PART\")#dissolve copylake\n",
    "arcpy.MakeFeatureLayer_management(a1p1_merge_with_a2, a1p1_merge_with_a2_lyr)\n",
    "arcpy.AddField_management(a1p1_merge_with_a2_lyr,\"area\",\"Double\")\n",
    "arcpy.CalculateField_management(a1p1_merge_with_a2_lyr, \"area\",  \"!shape.geodesicArea@SQUAREKILOMETERS!\", \"PYTHON_9.3\")\n",
    "end2=time.time()\n",
    "print(f'time:{end2-end}s')\n",
    "print('start Merge')\n",
    "arcpy.Merge_management([a1p1_merge_with_a2_lyr,a1p2_lyr],b1_lakes_afm_mergewith_a2)"
   ]
  },
  {
   "cell_type": "code",
   "execution_count": null,
   "metadata": {},
   "outputs": [],
   "source": [
    "arcpy.MakeFeatureLayer_management(b1_global_lakes_after_mask_mergewith_a2, b1_global_lakes_after_mask_mergewith_a2_lyr)\n",
    "arcpy.AddField_management(b1_global_lakes_after_mask_mergewith_a2_lyr, 'iwBG', \"Short\")\n",
    "selectByLocation(b1_global_lakes_after_mask_mergewith_a2_lyr,'INTERSECT',a3_GLAKES_gte1_lyr)\n",
    "calculateField(b1_global_lakes_after_mask_mergewith_a2_lyr,'iwBG',1)\n",
    "#selectByAttribute(b1_global_lakes_after_mask_mergewith_a2_lyr,'NEW_SELECTION','\"iwBG\"=1')\n",
    "arcpy.conversion.ExportFeatures(b1_global_lakes_after_mask_mergewith_a2_lyr,b1p1)\n",
    "selectByAttribute(b1_global_lakes_after_mask_mergewith_a2_lyr,'SWITCH_SELECTION', '')\n",
    "arcpy.conversion.ExportFeatures(b1_global_lakes_after_mask_mergewith_a2_lyr,b1p2)"
   ]
  },
  {
   "cell_type": "code",
   "execution_count": null,
   "metadata": {},
   "outputs": [],
   "source": [
    "arcpy.MakeFeatureLayer_management(b1p1,b1p1_lyr)\n",
    "arcpy.MakeFeatureLayer_management(b1p2,b1p2_lyr)"
   ]
  },
  {
   "cell_type": "code",
   "execution_count": 275,
   "metadata": {},
   "outputs": [
    {
     "name": "stdout",
     "output_type": "stream",
     "text": [
      "time:152.85487604141235s\n",
      "start Dissolve\n"
     ]
    },
    {
     "ename": "ExecuteError",
     "evalue": "ERROR 160196: Invalid Topology\nFailed to execute (Dissolve).\n",
     "output_type": "error",
     "traceback": [
      "\u001b[0;31m---------------------------------------------------------------------------\u001b[0m\n\u001b[0;31mExecuteError\u001b[0m                              Traceback (most recent call last)",
      "In  \u001b[0;34m[275]\u001b[0m:\nLine \u001b[0;34m7\u001b[0m:     arcpy.Dissolve_management(b1p1_merge_with_a3_raw_lyr, b1p1_merge_with_a3,\u001b[33m\"\u001b[39;49;00m\u001b[33m\"\u001b[39;49;00m, \u001b[33m\"\u001b[39;49;00m\u001b[33m\"\u001b[39;49;00m, \u001b[33m\"\u001b[39;49;00m\u001b[33mSINGLE_PART\u001b[39;49;00m\u001b[33m\"\u001b[39;49;00m)\u001b[37m#dissolve copylake\u001b[39;49;00m\n",
      "File \u001b[0;34mC:\\Program Files\\ArcGIS\\Pro\\Resources\\ArcPy\\arcpy\\management.py\u001b[0m, in \u001b[0;32mDissolve\u001b[0m:\nLine \u001b[0;34m7434\u001b[0m:  \u001b[34mraise\u001b[39;49;00m e\n",
      "File \u001b[0;34mC:\\Program Files\\ArcGIS\\Pro\\Resources\\ArcPy\\arcpy\\management.py\u001b[0m, in \u001b[0;32mDissolve\u001b[0m:\nLine \u001b[0;34m7431\u001b[0m:  retval = convertArcObjectToPythonObject(gp.Dissolve_management(*gp_fixargs((in_features, out_feature_class, dissolve_field, statistics_fields, multi_part, unsplit_lines, concatenation_separator), \u001b[34mTrue\u001b[39;49;00m)))\n",
      "File \u001b[0;34mC:\\Program Files\\ArcGIS\\Pro\\Resources\\ArcPy\\arcpy\\geoprocessing\\_base.py\u001b[0m, in \u001b[0;32m<lambda>\u001b[0m:\nLine \u001b[0;34m512\u001b[0m:   \u001b[34mreturn\u001b[39;49;00m \u001b[34mlambda\u001b[39;49;00m *args: val(*gp_fixargs(args, \u001b[34mTrue\u001b[39;49;00m))\n",
      "\u001b[0;31mExecuteError\u001b[0m: ERROR 160196: Invalid Topology\nFailed to execute (Dissolve).\n\n\u001b[0;31m---------------------------------------------------------------------------\u001b[0m"
     ]
    }
   ],
   "source": [
    "start=time.time()\n",
    "arcpy.Merge_management([b1p1_lyr,'b1p1_east',a3_GLAKES_gte1],b1p1_merge_with_a3_raw)\n",
    "arcpy.MakeFeatureLayer_management(b1p1_merge_with_a3_raw, b1p1_merge_with_a3_raw_lyr)\n",
    "end=time.time()\n",
    "print(f'time:{end-start}s')\n",
    "print('start Dissolve')\n",
    "arcpy.Dissolve_management(b1p1_merge_with_a3_raw_lyr, b1p1_merge_with_a3,\"\", \"\", \"SINGLE_PART\")#dissolve copylake\n",
    "arcpy.MakeFeatureLayer_management(b1p1_merge_with_a3,b1p1_merge_with_a3_lyr)\n",
    "arcpy.AddField_management(b1p1_merge_with_a3_lyr,\"area\",\"Double\")\n",
    "arcpy.CalculateField_management(b1p1_merge_with_a3_lyr, \"area\",  \"!shape.geodesicArea@SQUAREKILOMETERS!\", \"PYTHON_9.3\")\n",
    "end2=time.time()\n",
    "print(f'time:{end2-end}s')\n",
    "print('start Merge')\n",
    "arcpy.Merge_management([b1p1_merge_with_a3_lyr,'b1p2_east',b1p2_lyr],c1_global_lakes_after_mask_mergewith_a2_a3)"
   ]
  },
  {
   "cell_type": "code",
   "execution_count": null,
   "metadata": {},
   "outputs": [],
   "source": [
    "# arcpy.MakeFeatureLayer_management(a1p1_merge_with_a2, a1p1_merge_with_a2_lyr)\n",
    "arcpy.MakeFeatureLayer_management(b1p1_merge_with_a3,b1p1_merge_with_a3_lyr)"
   ]
  },
  {
   "cell_type": "code",
   "execution_count": null,
   "metadata": {},
   "outputs": [],
   "source": [
    "arcpy.MakeFeatureLayer_management(b1_global_lakes_after_mask_mergewith_a2,b1_global_lakes_after_mask_mergewith_a2_lyr)\n",
    "arcpy.MakeFeatureLayer_management(c1_global_lakes_after_mask_mergewith_a2_a3,c1_global_lakes_after_mask_mergewith_a2_a3_lyr)"
   ]
  },
  {
   "cell_type": "code",
   "execution_count": 127,
   "metadata": {},
   "outputs": [
    {
     "data": {
      "text/html": [
       "<div class='gpresult'><h2>Messages</h2><div id='messages' data-messages='[\"Start Time: 2024年4月29日 9:05:55\",\"Succeeded at 2024年4月29日 9:08:05 (Elapsed Time: 2 minutes 10 seconds)\"]' data-show='true'><div id = 'default' /></div></div>"
      ],
      "text/plain": [
       "<Result 'J:\\\\lakemapping\\\\postprocess\\\\v5_240410\\\\3_polygon_after_merge_v3.gdb\\\\predicted_lakes_not_need_merge'>"
      ]
     },
     "execution_count": 127,
     "metadata": {},
     "output_type": "execute_result"
    }
   ],
   "source": [
    "# for region in region_list[:2]:\n",
    "#     print(region)\n",
    "#     raw_prediction_fn='lakes_'+region\n",
    "#     selectByAttribute(grid_lyr,'ADD_TO_SELECTION',f\"region = '{region}'\")\n",
    "#     prefix=region\n",
    "#     before_merge=os.path.join(after_mask_gdb,raw_prediction_fn+'_afterMask')\n",
    "#     before_merge_lyr=raw_prediction_fn+'_afterMask_lyr'\n",
    "#     arcpy.SelectLayerByLocation_management(before_merge_lyr,'ARE_IDENTICAL_TO',merge_file_lyr,selection_type='SWITCH_SELECTION',invert_spatial_relationship='INVERT')\n",
    "#     selectByAttribute(before_merge_lyr,'SWITCH_SELECTION')\n",
    "others_merge_file=os.path.join(merge_dir,'predicted_lakes_not_need_merge')\n",
    "arcpy.Merge_management(merge_list,others_merge_file)"
   ]
  },
  {
   "cell_type": "code",
   "execution_count": 84,
   "metadata": {},
   "outputs": [
    {
     "data": {
      "text/html": [
       "<div class='gpresult'><h2>Messages</h2><div id='messages' data-messages='[\"Start Time: 2024年4月20日 12:36:56\",\"Succeeded at 2024年4月20日 12:37:50 (Elapsed Time: 53.62 seconds)\"]' data-show='true'><div id = 'default' /></div></div>"
      ],
      "text/plain": [
       "<Result 'lak_dissolved_lyr'>"
      ]
     },
     "execution_count": 84,
     "metadata": {},
     "output_type": "execute_result"
    }
   ],
   "source": []
  },
  {
   "cell_type": "code",
   "execution_count": null,
   "metadata": {},
   "outputs": [],
   "source": []
  },
  {
   "cell_type": "code",
   "execution_count": null,
   "metadata": {},
   "outputs": [],
   "source": []
  }
 ],
 "metadata": {
  "kernelspec": {
   "display_name": "ArcGISPro",
   "language": "Python",
   "name": "python3"
  },
  "language_info": {
   "file_extension": ".py",
   "name": "python",
   "version": "3"
  }
 },
 "nbformat": 4,
 "nbformat_minor": 2
}
