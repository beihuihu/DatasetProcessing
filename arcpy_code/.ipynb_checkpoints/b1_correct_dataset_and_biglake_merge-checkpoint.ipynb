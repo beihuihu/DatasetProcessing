{
 "cells": [
  {
   "cell_type": "code",
   "execution_count": 1,
   "metadata": {},
   "outputs": [],
   "source": [
    "import arcpy\n",
    "from arcpy.sa import *\n",
    "import os\n",
    "import time\n",
    "arcpy.env.overwriteOutput = True"
   ]
  },
  {
   "cell_type": "code",
   "execution_count": null,
   "metadata": {},
   "outputs": [],
   "source": [
    "output_dir = r'J:\\lakemapping\\postprocess\\v9_240622'\n",
    "auxiliary_dataset_gdb=r'D:\\postprocess\\v240220\\auxiliary_dataset.gdb'\n",
    "osm_reservoir=os.path.join(auxiliary_dataset_gdb,'osm_natural_water_reservoir')\n",
    "arcpy.MakeFeatureLayer_management(osm_reservoir,'osm_reservoir')\n",
    "\n",
    "GeoDAR=r'D:\\lakemapping\\0_auxiliary_data\\GeoDAR\\GeoDAR_v10_v11\\GeoDAR_v11_reservoirs.shp'\n",
    "arcpy.MakeFeatureLayer_management(GeoDAR,'GeoDAR')\n",
    "\n",
    "GLAKES_Res=os.path.join(auxiliary_dataset_gdb,'GLAKES_Res')\n",
    "arcpy.MakeFeatureLayer_management(GLAKES_Res,'GLAKES_Res')\n",
    "\n",
    "GLAKES_natural_lake=os.path.join(auxiliary_dataset_gdb,'GLAKES_gte1_natural_lake')\n",
    "arcpy.MakeFeatureLayer_management(GLAKES_natural_lake,'GLAKES_natural_lake')\n",
    "\n",
    "GRWL_river=os.path.join(auxiliary_dataset_gdb,'GRWL_DNRiver')\n",
    "arcpy.MakeFeatureLayer_management(GRWL_river,'GRWL_river')"
   ]
  },
  {
   "cell_type": "code",
   "execution_count": 2,
   "metadata": {},
   "outputs": [],
   "source": [
    "def selectByLocation(inputFeature,overlapType,selectionFeature,selectionType='NEW_SELECTION'):\n",
    "    arcpy.SelectLayerByLocation_management(inputFeature,overlapType,selectionFeature,selection_type=selectionType)\n",
    "    \n",
    "def selectByAttribute(inputFeature,selectionType='NEW_SELECTION',code=''):\n",
    "    arcpy.management.SelectLayerByAttribute(inputFeature,selectionType,code)\n",
    "    \n",
    "def calculateOperateByAttribute(inputFeature,code,operate):\n",
    "    selectByAttribute(inputFeature,'NEW_SELECTION',code)\n",
    "    arcpy.CalculateField_management(inputFeature, 'operate',  operate)\n",
    "def add_Res_flag(inputFeature):\n",
    "    selectByAttribute(inputFeature,'NEW_SELECTION', 'flag IS NULL OR \"flag\" <= 1 ')\n",
    "    selectByLocation(inputFeature,'INTERSECT',osm_reservoir,'SUBSET_SELECTION')\n",
    "    arcpy.CalculateField_management(inputFeature, 'flag',  3)\n",
    "\n",
    "    selectByAttribute(inputFeature,'NEW_SELECTION', 'flag IS NULL OR \"flag\" <= 1 ')\n",
    "    selectByLocation(inputFeature,'INTERSECT',GeoDAR,'SUBSET_SELECTION')\n",
    "    arcpy.CalculateField_management(inputFeature, 'flag',  4)\n",
    "\n",
    "def normal_join_2(inputFeature,joinFeature,outputFeauture,field_list,outLayer):\n",
    "    print('Prepare the fieldmap for river mask spatial join')\n",
    "    fieldmappings = arcpy.FieldMappings()\n",
    "    fieldmappings_all = arcpy.FieldMappings()\n",
    "    fieldmappings_all.addTable(inputFeature)#未mask\n",
    "    fieldmappings_all.addTable(joinFeature)\n",
    "    for field_i in field_list:\n",
    "        field_idx = fieldmappings_all.findFieldMapIndex(field_i)\n",
    "        fieldmappings.addFieldMap(fieldmappings_all.getFieldMap(field_idx))\n",
    "        \n",
    "    area_idx = fieldmappings.findFieldMapIndex(\"area_arm\")\n",
    "    area_fieldmap = fieldmappings.getFieldMap(area_idx)\n",
    "    area_fieldmap.mergeRule = \"sum\"\n",
    "    fieldmappings.replaceFieldMap(area_idx, area_fieldmap)\n",
    "    \n",
    "    flag_idx = fieldmappings.findFieldMapIndex(\"flag\")\n",
    "    flag_fieldmap = fieldmappings.getFieldMap(flag_idx)\n",
    "    flag_fieldmap.mergeRule = \"max\"\n",
    "    fieldmappings.replaceFieldMap(flag_idx, flag_fieldmap)\n",
    "    \n",
    "    iwR_idx = fieldmappings.findFieldMapIndex(\"iwR\")\n",
    "    iwR_fieldmap = fieldmappings.getFieldMap(iwR_idx)\n",
    "    iwR_fieldmap.mergeRule = \"mode\"\n",
    "    fieldmappings.replaceFieldMap(iwR_idx, iwR_fieldmap)\n",
    "    \n",
    "    o_idx = fieldmappings.findFieldMapIndex(\"operate\")\n",
    "    o_fieldmap = fieldmappings.getFieldMap(o_idx)\n",
    "    o_fieldmap.mergeRule = \"min\"\n",
    "    fieldmappings.replaceFieldMap(o_idx, o_fieldmap)\n",
    "    \n",
    "    print('Conduct spatial join')\n",
    "    arcpy.SpatialJoin_analysis(inputFeature, joinFeature, outputFeauture, \"JOIN_ONE_TO_ONE\",\n",
    "                               \"KEEP_COMMON\", fieldmappings, \"CONTAINS\")\n",
    "    lyr=outLayer\n",
    "    arcpy.MakeFeatureLayer_management(outputFeauture, lyr)"
   ]
  },
  {
   "cell_type": "code",
   "execution_count": null,
   "metadata": {},
   "outputs": [],
   "source": [
    "version='v10_240710'\n",
    "output_dir=os.path.\n",
    "temp_file_gdb=r'J:\\lakemapping\\postprocess'+version+'v9_240622\\1_temp_files.gdb'\n",
    "river_mask_gdb=r'J:\\lakemapping\\postprocess\\v9_240622\\2_polygon_iw_River.gdb'\n",
    "\n",
    "after_mask_gdb=r'J:\\lakemapping\\postprocess\\v9_240622\\3_polygon_after_rivermask.gdb'\n",
    "region=\"sa_2\"\n",
    "raw_prediction_fn='lakes_'+region\n",
    "\n",
    "lake_arm=os.path.join(river_mask_gdb,raw_prediction_fn+'_arm')\n",
    "lake_iwG_arm_SJ=os.path.join(river_mask_gdb,raw_prediction_fn+'_iwG_arm_SJ')\n",
    "lake_niwG_arm_SJ=os.path.join(river_mask_gdb,raw_prediction_fn+'_niwG_arm_SJ')\n",
    "lake_waterway_iwG_SJ=os.path.join(river_mask_gdb,raw_prediction_fn+'_waterway_iwG_SJ')\n",
    "lake_waterway_niwG=os.path.join(river_mask_gdb,raw_prediction_fn+'_waterway_niwG')\n",
    "lake_niwR=os.path.join(river_mask_gdb,raw_prediction_fn+'_niwR')\n",
    "lyr_list=['new_lake_arm','new_lake_iwG_arm_SJ','new_lake_niwG_arm_SJ','new_lake_waterway_iwG_SJ','new_lake_waterway_niwG','new_lake_niwR']\n",
    "arcpy.MakeFeatureLayer_management(lake_iwG_arm_SJ,lyr_list[1])\n",
    "arcpy.MakeFeatureLayer_management(lake_niwG_arm_SJ,lyr_list[2])\n",
    "arcpy.MakeFeatureLayer_management(lake_waterway_iwG_SJ,lyr_list[3])\n",
    "arcpy.MakeFeatureLayer_management(lake_waterway_niwG,lyr_list[4])\n",
    "arcpy.MakeFeatureLayer_management(lake_niwR,lyr_list[5])\n",
    "arcpy.MakeFeatureLayer_management(lake_arm,lyr_list[0])\n",
    "\n",
    "result_afm=os.path.join(after_mask_gdb,raw_prediction_fn+'_afterMask')\n",
    "result_afm_lyr=region+'_afterMask'\n",
    "\n",
    "#as1~6是03\n",
    "big_lake=r'J:\\lakemapping\\postprocess\\V240303\\1_other_polygons.gdb\\lakes_{}_gte02'.format(region)\n",
    "big_lake_clip=os.path.join(temp_file_gdb,raw_prediction_fn+'_biglakeModel_clip')\n",
    "big_lake_clip_singlepart=os.path.join(temp_file_gdb,raw_prediction_fn+'_biglakeModel_clip_singlepart')\n",
    "big_lake_clip_point=os.path.join(temp_file_gdb,raw_prediction_fn+'_biglakeModel_clip_point')\n",
    "big_lake_join=os.path.join(river_mask_gdb,raw_prediction_fn+'_biglakeModel_SJ')\n",
    "big_lake_toMerge=os.path.join(after_mask_gdb,'big_'+raw_prediction_fn)\n",
    "big_lake_join_lyr=region+'_biglakeModel_SJ'\n",
    "big_lake_lyr=region+'_biglakeModel'\n",
    "big_lake_singlepart_lyr=region+'_biglakeModel_singlepart'\n",
    "big_lake_clip_point_lyr=region+'_biglakeModel_point'"
   ]
  },
  {
   "cell_type": "code",
   "execution_count": null,
   "metadata": {},
   "outputs": [],
   "source": [
    "old_dir=r'J:\\lakemapping\\postprocess\\v8_240521\\2_polygon_iw_River.gdb'#v8_240521\n",
    "# old_dir=r'J:\\lakemapping\\postprocess\\v4_2403019\\2_polygon_iw_River.gdb'\n",
    "# old_dir=r'J:\\lakemapping\\postprocess\\v4_240319_america\\2_polygon_iw_River_america.gdb'#v8_240521\n",
    "\n",
    "old_lake_arm=os.path.join(old_dir,raw_prediction_fn+'_arm')\n",
    "old_lake_iwG_arm_SJ=os.path.join(old_dir,raw_prediction_fn+'_iwG_arm_SJ')\n",
    "old_lake_niwG_arm_SJ=os.path.join(old_dir,raw_prediction_fn+'_niwG_arm_SJ')\n",
    "old_lake_waterway_iwG_SJ=os.path.join(old_dir,raw_prediction_fn+'_waterway_iwG_SJ')\n",
    "old_lake_waterway_niwG=os.path.join(old_dir,raw_prediction_fn+'_waterway_niwG')\n",
    "old_lake_niwR=os.path.join(old_dir,raw_prediction_fn+'_niwR')\n",
    "old_lyr_list=['old_lake_arm','old_lake_iwG_arm_SJ','old_lake_niwG_arm_SJ','old_lake_waterway_iwG_SJ','old_lake_waterway_niwG','old_lake_niwR']\n",
    "\n",
    "arcpy.MakeFeatureLayer_management(old_lake_iwG_arm_SJ,old_lyr_list[1])\n",
    "arcpy.MakeFeatureLayer_management(old_lake_niwG_arm_SJ,old_lyr_list[2])\n",
    "arcpy.MakeFeatureLayer_management(old_lake_waterway_iwG_SJ,old_lyr_list[3])\n",
    "arcpy.MakeFeatureLayer_management(old_lake_waterway_niwG,old_lyr_list[4])\n",
    "arcpy.MakeFeatureLayer_management(old_lake_niwR,old_lyr_list[5])\n",
    "arcpy.MakeFeatureLayer_management(old_lake_arm,old_lyr_list[0])\n"
   ]
  },
  {
   "cell_type": "code",
   "execution_count": null,
   "metadata": {},
   "outputs": [],
   "source": [
    "lyr_list=['new_lake_arm','new_lake_iwG_arm_SJ','new_lake_niwG_arm_SJ','new_lake_waterway_iwG_SJ','new_lake_waterway_niwG','new_lake_niwR']"
   ]
  },
  {
   "cell_type": "code",
   "execution_count": null,
   "metadata": {},
   "outputs": [
    {
     "data": {
      "text/html": [
       "<div class='gpresult'><h2>Messages</h2><div id='messages' data-messages='[\"Start Time: 2024年6月23日 16:47:58\",\"WARNING 000405: No records within table, or selection set has 0 records.\",\"Succeeded at 2024年6月23日 16:47:58 (Elapsed Time: 0.14 seconds)\"]' data-show='true'><div id = 'default' /></div></div>"
      ],
      "text/plain": [
       "<Result 'new_lake_iwG_arm_SJ'>"
      ]
     },
     "execution_count": 276,
     "metadata": {},
     "output_type": "execute_result"
    }
   ],
   "source": [
    "# arcpy.management.SelectLayerByAttribute(new_lyr,'NEW_SELECTION', '\"flag\" =1 ')\n",
    "# selectByLocation(new_lyr,'INTERSECT',osm_reservoir,'SUBSET_SELECTION')\n",
    "# arcpy.CalculateField_management(new_lyr, 'flag',  3)\n",
    "# arcpy.CalculateField_management(new_lyr, \"operate\",3)\n",
    "\n",
    "# arcpy.management.SelectLayerByAttribute(new_lyr,'NEW_SELECTION', '\"flag\" =1 ')\n",
    "# selectByLocation(new_lyr,'INTERSECT',GeoDAR,'SUBSET_SELECTION')\n",
    "# arcpy.CalculateField_management(new_lyr, 'flag',  4)\n",
    "# arcpy.CalculateField_management(new_lyr, \"operate\",4)"
   ]
  },
  {
   "cell_type": "code",
   "execution_count": null,
   "metadata": {},
   "outputs": [
    {
     "data": {
      "text/html": [
       "<div class='gpresult'><h2>Messages</h2><div id='messages' data-messages='[\"Start Time: 2024年6月21日 11:53:22\",\"WARNING 000405: No records within table, or selection set has 0 records.\",\"Succeeded at 2024年6月21日 11:53:22 (Elapsed Time: 0.12 seconds)\"]' data-show='true'><div id = 'default' /></div></div>"
      ],
      "text/plain": [
       "<Result 'new_lake_niwG_arm_SJ'>"
      ]
     },
     "execution_count": 49,
     "metadata": {},
     "output_type": "execute_result"
    }
   ],
   "source": [
    "# arcpy.management.SelectLayerByAttribute(new_lyr,'NEW_SELECTION', '\"flag\" IS NULL ')\n",
    "# selectByLocation(new_lyr,'INTERSECT',osm_reservoir,'SUBSET_SELECTION')\n",
    "# arcpy.CalculateField_management(new_lyr, 'flag',  3)\n",
    "# arcpy.CalculateField_management(new_lyr, \"operate\",3)\n",
    "\n",
    "# arcpy.management.SelectLayerByAttribute(new_lyr,'NEW_SELECTION', '\"flag\" IS NULL ')\n",
    "# selectByLocation(new_lyr,'INTERSECT',GeoDAR,'SUBSET_SELECTION')\n",
    "# arcpy.CalculateField_management(new_lyr, 'flag',  4)\n",
    "# arcpy.CalculateField_management(new_lyr, \"operate\",4)"
   ]
  },
  {
   "cell_type": "code",
   "execution_count": null,
   "metadata": {},
   "outputs": [],
   "source": [
    "lyr=5\n",
    "old_lyr=old_lyr_list[lyr]\n",
    "new_lyr=lyr_list[lyr]"
   ]
  },
  {
   "cell_type": "code",
   "execution_count": null,
   "metadata": {},
   "outputs": [
    {
     "data": {
      "text/html": [
       "<div class='gpresult'><h2>Messages</h2><div id='messages' data-messages='[\"Start Time: 2024年7月5日 16:47:35\",\"Succeeded at 2024年7月5日 16:47:35 (Elapsed Time: 0.19 seconds)\"]' data-show='true'><div id = 'default' /></div></div>"
      ],
      "text/plain": [
       "<Result 'new_lake_niwR'>"
      ]
     },
     "execution_count": 252,
     "metadata": {},
     "output_type": "execute_result"
    }
   ],
   "source": [
    "#记得0.5\n",
    "num=1\n",
    "arcpy.management.SelectLayerByAttribute(old_lyr,'NEW_SELECTION',f'\"operate\"={num}')\n",
    "arcpy.SelectLayerByLocation_management(new_lyr,'ARE_IDENTICAL_TO',old_lyr)"
   ]
  },
  {
   "cell_type": "code",
   "execution_count": null,
   "metadata": {},
   "outputs": [
    {
     "data": {
      "text/html": [
       "<div class='gpresult'><h2>Messages</h2><div id='messages' data-messages='[\"Start Time: 2024年7月5日 16:47:11\",\"Succeeded at 2024年7月5日 16:47:13 (Elapsed Time: 2.17 seconds)\"]' data-show='true'><div id = 'default' /></div></div>"
      ],
      "text/plain": [
       "<Result 'new_lake_niwR'>"
      ]
     },
     "execution_count": 251,
     "metadata": {},
     "output_type": "execute_result"
    }
   ],
   "source": [
    "arcpy.CalculateField_management(new_lyr, \"operate\",num)"
   ]
  },
  {
   "cell_type": "code",
   "execution_count": null,
   "metadata": {},
   "outputs": [
    {
     "data": {
      "text/html": [
       "<div class='gpresult'><h2>Messages</h2><div id='messages' data-messages='[\"Start Time: 2024年6月23日 16:52:58\",\"Succeeded at 2024年6月23日 16:52:58 (Elapsed Time: 0.18 seconds)\"]' data-show='true'><div id = 'default' /></div></div>"
      ],
      "text/plain": [
       "<Result 'new_lake_niwG_arm_SJ'>"
      ]
     },
     "execution_count": 292,
     "metadata": {},
     "output_type": "execute_result"
    }
   ],
   "source": [
    "arcpy.management.SelectLayerByAttribute(new_lyr,'SUBSET_SELECTION',f'\"operate\" IS NULL or \"operate\"=0')\n",
    "arcpy.CalculateField_management(new_lyr, \"operate\",6)"
   ]
  },
  {
   "cell_type": "code",
   "execution_count": null,
   "metadata": {},
   "outputs": [
    {
     "data": {
      "text/html": [
       "<div class='gpresult'><h2>Messages</h2><div id='messages' data-messages='[\"Start Time: 2024年6月30日 18:45:11\",\"Succeeded at 2024年6月30日 18:45:11 (Elapsed Time: 0.20 seconds)\"]' data-show='true'><div id = 'default' /></div></div>"
      ],
      "text/plain": [
       "<Result 'new_lake_waterway_niwG'>"
      ]
     },
     "execution_count": 31,
     "metadata": {},
     "output_type": "execute_result"
    }
   ],
   "source": [
    "arcpy.CalculateField_management(new_lyr, \"operate\",6)"
   ]
  },
  {
   "cell_type": "code",
   "execution_count": null,
   "metadata": {},
   "outputs": [
    {
     "data": {
      "text/html": [
       "<div class='gpresult'><h2>Messages</h2><div id='messages' data-messages='[\"Start Time: 2024年7月5日 16:47:01\",\"Adding operate to lakes_sa_1_niwR...\",\"Succeeded at 2024年7月5日 16:47:02 (Elapsed Time: 0.84 seconds)\"]' data-show='true'><div id = 'default' /></div></div>"
      ],
      "text/plain": [
       "<Result 'new_lake_niwR'>"
      ]
     },
     "execution_count": 250,
     "metadata": {},
     "output_type": "execute_result"
    }
   ],
   "source": [
    "arcpy.AddField_management(new_lyr, 'operate', \"Double\")"
   ]
  },
  {
   "cell_type": "code",
   "execution_count": null,
   "metadata": {},
   "outputs": [],
   "source": [
    "for lyr in range(3,6):\n",
    "    old_lyr=old_lyr_list[lyr]\n",
    "    new_lyr=lyr_list[lyr]\n",
    "    for i in [0,0.5,1,2,3,4,5,6,7]:\n",
    "        arcpy.management.SelectLayerByAttribute(old_lyr,'NEW_SELECTION',f'\"operate\"={i}')\n",
    "        arcpy.SelectLayerByLocation_management(new_lyr,'ARE_IDENTICAL_TO',old_lyr)\n",
    "        if i >0.5 and i<5:\n",
    "            arcpy.management.SelectLayerByAttribute(new_lyr,'SUBSET_SELECTION',f'\"operate\" IS NULL or \"operate\"=0')\n",
    "            arcpy.CalculateField_management(new_lyr, \"operate\",6)\n",
    "        else:\n",
    "            arcpy.CalculateField_management(new_lyr, \"operate\",i)"
   ]
  },
  {
   "cell_type": "code",
   "execution_count": null,
   "metadata": {},
   "outputs": [
    {
     "data": {
      "text/html": [
       "<div class='gpresult'><h2>Messages</h2><div id='messages' data-messages='[\"Start Time: 2024年7月5日 16:49:06\",\"Succeeded at 2024年7月5日 16:49:09 (Elapsed Time: 2.60 seconds)\"]' data-show='true'><div id = 'default' /></div></div>"
      ],
      "text/plain": [
       "<Result 'sa_1_afterMask'>"
      ]
     },
     "execution_count": 253,
     "metadata": {},
     "output_type": "execute_result"
    }
   ],
   "source": [
    "selectByAttribute(lyr_list[1],'NEW_SELECTION','\"operate\" = 0.5 OR operate IS NULL')\n",
    "selectByLocation(lyr_list[0], 'WITHIN', lyr_list[1])\n",
    "\n",
    "selectByAttribute(lyr_list[2],'NEW_SELECTION','\"operate\" = 0.5 OR operate IS NULL')\n",
    "selectByLocation(lyr_list[0], 'WITHIN', lyr_list[2],'ADD_TO_SELECTION')\n",
    "\n",
    "selectByAttribute(lyr_list[0],'SUBSET_SELECTION','\"operate\" IS NULL')\n",
    "selectByAttribute(lyr_list[0],'ADD_TO_SELECTION','\"operate\" = 1')\n",
    "selectByAttribute(lyr_list[1],'NEW_SELECTION','\"operate\" >= 1')\n",
    "selectByAttribute(lyr_list[2],'NEW_SELECTION','\"operate\" >= 1')\n",
    "\n",
    "selectByAttribute(lyr_list[3],'NEW_SELECTION','\"operate\"<> 0 or operate IS NULL')\n",
    "selectByAttribute(lyr_list[4],'NEW_SELECTION','\"operate\"<> 0 or operate IS NULL')\n",
    "\n",
    "selectByAttribute(lyr_list[5],'NEW_SELECTION','\"operate\"<> 0 or operate IS NULL')\n",
    "\n",
    "fieldmappings = arcpy.FieldMappings()\n",
    "fieldmappings_all = arcpy.FieldMappings()\n",
    "fieldmappings_all.addTable(lyr_list[1])\n",
    "fieldmappings_all.addTable(lyr_list[4])\n",
    "field_list = ['area','iwR','iwG','flag','operate']\n",
    "for field_i in field_list:\n",
    "            field_idx = fieldmappings_all.findFieldMapIndex(field_i)\n",
    "            fieldmappings.addFieldMap(fieldmappings_all.getFieldMap(field_idx))\n",
    "arcpy.Merge_management(lyr_list,result_afm,fieldmappings)\n",
    "arcpy.MakeFeatureLayer_management(result_afm,result_afm_lyr)\n",
    "selectByAttribute(result_afm_lyr,'NEW_SELECTION','\"area\" IS NULL')\n",
    "arcpy.CalculateField_management(result_afm_lyr, \"area\",  \"!shape.geodesicArea@SQUAREKILOMETERS!\", \"PYTHON_9.3\")\n",
    "arcpy.CalculateField_management(result_afm_lyr, \"operate\",  0.5)"
   ]
  },
  {
   "cell_type": "code",
   "execution_count": null,
   "metadata": {},
   "outputs": [
    {
     "data": {
      "text/html": [
       "<div class='gpresult'><h2>Messages</h2><div id='messages' data-messages='[\"Start Time: 2024年7月5日 16:50:59\",\"WARNING 000405: No records within table, or selection set has 0 records.\",\"Succeeded at 2024年7月5日 16:51:00 (Elapsed Time: 0.30 seconds)\"]' data-show='true'><div id = 'default' /></div></div>"
      ],
      "text/plain": [
       "<Result 'sa_1_afterMask'>"
      ]
     },
     "execution_count": 254,
     "metadata": {},
     "output_type": "execute_result"
    }
   ],
   "source": [
    "selectByAttribute(lyr_list[1],'NEW_SELECTION','\"operate\" = 0.5 OR operate IS NULL')\n",
    "selectByAttribute(result_afm_lyr,'NEW_SELECTION','\"iwG\" IS NULL')\n",
    "selectByLocation(result_afm_lyr, 'WITHIN', lyr_list[1],'SUBSET_SELECTION')\n",
    "arcpy.CalculateField_management(result_afm_lyr,'iwG',1)\n",
    "selectByAttribute(result_afm_lyr,'NEW_SELECTION','\"iwG\" IS NULL')\n",
    "arcpy.CalculateField_management(result_afm_lyr,'iwG',0)\n",
    "\n",
    "selectByAttribute(result_afm_lyr,'NEW_SELECTION','\"iwR\" IS NULL')\n",
    "selectByLocation(result_afm_lyr, 'INTERSECT', GRWL_river,'SUBSET_SELECTION')\n",
    "calculateField(result_afm_lyr, 'iwR',1)\n",
    "selectByAttribute(result_afm_lyr,'NEW_SELECTION','\"iwR\" IS NULL')\n",
    "calculateField(result_afm_lyr, 'iwR',2)\n",
    "\n",
    "selectByAttribute(result_afm_lyr,'NEW_SELECTION', 'flag IS NULL and \"operate\" = 0.5 ')\n",
    "selectByLocation(result_afm_lyr, 'WITHIN', GLAKES_natural_lake,'SUBSET_SELECTION')\n",
    "calculateField(result_afm_lyr, \"flag\",1)\n",
    "selectByAttribute(result_afm_lyr,'NEW_SELECTION', 'flag IS NULL and \"operate\" = 0.5 ')\n",
    "selectByLocation(result_afm_lyr, 'WITHIN', GLAKES_Res,'SUBSET_SELECTION')\n",
    "calculateField(result_afm_lyr, \"flag\",2)\n",
    "selectByAttribute(result_afm_lyr,'NEW_SELECTION', 'flag IS NULL and \"operate\" = 0.5 and iwG=1')\n",
    "calculateField(result_afm_lyr, \"flag\",0)\n",
    "selectByAttribute(result_afm_lyr,'NEW_SELECTION', 'flag IS NULL and \"operate\" = 0.5 ')\n",
    "selectByLocation(result_afm_lyr,'INTERSECT',osm_reservoir,'SUBSET_SELECTION')\n",
    "arcpy.CalculateField_management(result_afm_lyr, 'flag',  3)\n",
    "\n",
    "selectByAttribute(result_afm_lyr,'NEW_SELECTION', 'flag IS NULL and \"operate\" = 0.5 ')\n",
    "selectByLocation(result_afm_lyr,'INTERSECT',GeoDAR,'SUBSET_SELECTION')\n",
    "arcpy.CalculateField_management(result_afm_lyr, 'flag',  4)"
   ]
  },
  {
   "cell_type": "code",
   "execution_count": null,
   "metadata": {},
   "outputs": [
    {
     "data": {
      "text/html": [
       "<div class='gpresult'><h2>Messages</h2><div id='messages' data-messages='[\"Start Time: 2024年7月5日 11:58:23\",\"Succeeded at 2024年7月5日 11:58:23 (Elapsed Time: 0.02 seconds)\"]' data-show='true'><div id = 'default' /></div></div>"
      ],
      "text/plain": [
       "<Result 'na_2_afterMask'>"
      ]
     },
     "execution_count": 206,
     "metadata": {},
     "output_type": "execute_result"
    }
   ],
   "source": [
    "arcpy.MakeFeatureLayer_management(result_afm,result_afm_lyr)\n",
    "# arcpy.MakeFeatureLayer_management(big_lake,big_lake_lyr)\n",
    "# arcpy.MakeFeatureLayer_management(big_lake_clip_point,big_lake_clip_point_lyr)"
   ]
  },
  {
   "cell_type": "markdown",
   "metadata": {},
   "source": [
    "# biglake process"
   ]
  },
  {
   "cell_type": "code",
   "execution_count": null,
   "metadata": {},
   "outputs": [
    {
     "data": {
      "text/html": [
       "<div class='gpresult'><h2>Messages</h2><div id='messages' data-messages='[\"Start Time: 2024年7月1日 16:31:23\",\"Succeeded at 2024年7月1日 16:31:23 (Elapsed Time: 0.01 seconds)\"]' data-show='true'><div id = 'default' /></div></div>"
      ],
      "text/plain": [
       "<Result 'sa_1_biglakeModel_point'>"
      ]
     },
     "execution_count": 158,
     "metadata": {},
     "output_type": "execute_result"
    }
   ],
   "source": [
    "arcpy.MakeFeatureLayer_management(big_lake,big_lake_lyr)\n",
    "selectByAttribute(result_afm_lyr,'NEW_SELECTION','')\n",
    "arcpy.analysis.Clip(result_afm_lyr,big_lake_lyr,big_lake_clip)\n",
    "arcpy.management.MultipartToSinglepart(big_lake_clip, big_lake_clip_singlepart)\n",
    "arcpy.MakeFeatureLayer_management(big_lake_clip_singlepart,big_lake_singlepart_lyr)\n",
    "arcpy.AddField_management(big_lake_singlepart_lyr, 'area_arm', \"Double\")\n",
    "arcpy.CalculateField_management(big_lake_singlepart_lyr, \"area_arm\",  \"!shape.geodesicArea@SQUAREKILOMETERS!\", \"PYTHON_9.3\")\n",
    "arcpy.management.FeatureToPoint(big_lake_singlepart_lyr,big_lake_clip_point,'INSIDE')\n",
    "arcpy.MakeFeatureLayer_management(big_lake_clip_point,big_lake_clip_point_lyr)"
   ]
  },
  {
   "cell_type": "code",
   "execution_count": null,
   "metadata": {},
   "outputs": [
    {
     "ename": "ExecuteError",
     "evalue": "ERROR 000539: Invalid field operate\nFailed to execute (CalculateField).\n",
     "output_type": "error",
     "traceback": [
      "\u001b[0;31m---------------------------------------------------------------------------\u001b[0m\n\u001b[0;31mExecuteError\u001b[0m                              Traceback (most recent call last)",
      "In  \u001b[0;34m[159]\u001b[0m:\nLine \u001b[0;34m2\u001b[0m:     arcpy.CalculateField_management(big_lake_lyr, \u001b[33m\"\u001b[39;49;00m\u001b[33moperate_bl\u001b[39;49;00m\u001b[33m\"\u001b[39;49;00m,\u001b[33m\"\u001b[39;49;00m\u001b[33m!operate!\u001b[39;49;00m\u001b[33m\"\u001b[39;49;00m)\n",
      "File \u001b[0;34mC:\\Program Files\\ArcGIS\\Pro\\Resources\\ArcPy\\arcpy\\management.py\u001b[0m, in \u001b[0;32mCalculateField\u001b[0m:\nLine \u001b[0;34m5786\u001b[0m:  \u001b[34mraise\u001b[39;49;00m e\n",
      "File \u001b[0;34mC:\\Program Files\\ArcGIS\\Pro\\Resources\\ArcPy\\arcpy\\management.py\u001b[0m, in \u001b[0;32mCalculateField\u001b[0m:\nLine \u001b[0;34m5783\u001b[0m:  retval = convertArcObjectToPythonObject(gp.CalculateField_management(*gp_fixargs((in_table, field, expression, expression_type, code_block, field_type, enforce_domains), \u001b[34mTrue\u001b[39;49;00m)))\n",
      "File \u001b[0;34mC:\\Program Files\\ArcGIS\\Pro\\Resources\\ArcPy\\arcpy\\geoprocessing\\_base.py\u001b[0m, in \u001b[0;32m<lambda>\u001b[0m:\nLine \u001b[0;34m512\u001b[0m:   \u001b[34mreturn\u001b[39;49;00m \u001b[34mlambda\u001b[39;49;00m *args: val(*gp_fixargs(args, \u001b[34mTrue\u001b[39;49;00m))\n",
      "\u001b[0;31mExecuteError\u001b[0m: ERROR 000539: Invalid field operate\nFailed to execute (CalculateField).\n\n\u001b[0;31m---------------------------------------------------------------------------\u001b[0m"
     ]
    }
   ],
   "source": [
    "arcpy.AddField_management(big_lake_lyr,\"operate_bl\",\"short\")\n",
    "arcpy.CalculateField_management(big_lake_lyr, \"operate_bl\",\"!operate!\")\n",
    "arcpy.DeleteField_management(big_lake_lyr, \"operate\")"
   ]
  },
  {
   "cell_type": "code",
   "execution_count": null,
   "metadata": {},
   "outputs": [
    {
     "data": {
      "text/html": [
       "<div class='gpresult'><h2>Messages</h2><div id='messages' data-messages='[\"Start Time: 2024年7月1日 16:32:47\",\"Succeeded at 2024年7月1日 16:32:48 (Elapsed Time: 1.07 seconds)\"]' data-show='true'><div id = 'default' /></div></div>"
      ],
      "text/plain": [
       "<Result 'sa_1_biglakeModel_point'>"
      ]
     },
     "execution_count": 160,
     "metadata": {},
     "output_type": "execute_result"
    }
   ],
   "source": [
    "arcpy.DeleteField_management(big_lake_clip_point_lyr, \"area\")"
   ]
  },
  {
   "cell_type": "code",
   "execution_count": null,
   "metadata": {},
   "outputs": [
    {
     "name": "stdout",
     "output_type": "stream",
     "text": [
      "Prepare the fieldmap for river mask spatial join\n",
      "Conduct spatial join\n"
     ]
    },
    {
     "name": "stderr",
     "output_type": "stream",
     "text": [
      "Traceback (most recent call last):\n",
      "  File \"<expression>\", line 1, in <module>\n",
      "TypeError: unsupported operand type(s) for /: 'float' and 'NoneType'\n",
      "Traceback (most recent call last):\n",
      "  File \"<expression>\", line 1, in <module>\n",
      "TypeError: unsupported operand type(s) for /: 'float' and 'NoneType'\n",
      "Traceback (most recent call last):\n",
      "  File \"<expression>\", line 1, in <module>\n",
      "TypeError: unsupported operand type(s) for /: 'float' and 'NoneType'\n"
     ]
    },
    {
     "data": {
      "text/html": [
       "<div class='gpresult'><h2>Messages</h2><div id='messages' data-messages='[\"Start Time: 2024年7月1日 16:33:32\",\"Succeeded at 2024年7月1日 16:33:54 (Elapsed Time: 22.05 seconds)\"]' data-show='true'><div id = 'default' /></div></div>"
      ],
      "text/plain": [
       "<Result 'sa_1_biglakeModel_SJ'>"
      ]
     },
     "execution_count": 161,
     "metadata": {},
     "output_type": "execute_result"
    }
   ],
   "source": [
    "normal_join_2(big_lake_lyr,big_lake_clip_point_lyr,big_lake_join,[\"area\",\"area_arm\",\"flag\",\"iwR\",\"operate_bl\",\"operate\"],big_lake_join_lyr)\n",
    "arcpy.AddField_management(big_lake_join_lyr, 'area_ratio_R', \"DOUBLE\")#新建字段为面积比例\n",
    "arcpy.CalculateField_management(big_lake_join_lyr, 'area_ratio_R', '!area_arm!/!area!', \"PYTHON3\")"
   ]
  },
  {
   "cell_type": "code",
   "execution_count": null,
   "metadata": {},
   "outputs": [
    {
     "data": {
      "text/html": [
       "<div class='gpresult'><h2>Messages</h2><div id='messages' data-messages='[\"Start Time: 2024年7月1日 15:20:25\",\"Succeeded at 2024年7月1日 15:20:27 (Elapsed Time: 1.77 seconds)\"]' data-show='true'><div id = 'default' /></div></div>"
      ],
      "text/plain": [
       "<Result 'af_biglakeModel_SJ'>"
      ]
     },
     "execution_count": 120,
     "metadata": {},
     "output_type": "execute_result"
    }
   ],
   "source": [
    "old_big_lake=os.path.join(r'J:\\lakemapping\\postprocess\\v5_240410\\3_polygon_after_rivermask.gdb',raw_prediction_fn+'_biglakeModel_SJ')\n",
    "old_big_lake_lyr='old_big_lake_lyr'\n",
    "arcpy.MakeFeatureLayer_management(old_big_lake,old_big_lake_lyr)\n",
    "arcpy.management.SelectLayerByAttribute(old_big_lake_lyr,'NEW_SELECTION',f'\"operate\"=1')\n",
    "arcpy.SelectLayerByLocation_management(big_lake_join_lyr,'ARE_IDENTICAL_TO',old_big_lake_lyr)\n",
    "arcpy.CalculateField_management(big_lake_join_lyr, \"operate_bl\",1)"
   ]
  },
  {
   "cell_type": "code",
   "execution_count": null,
   "metadata": {},
   "outputs": [
    {
     "data": {
      "text/html": [
       "<div class='gpresult'><h2>Messages</h2><div id='messages' data-messages='[\"Start Time: 2024年7月1日 16:39:12\",\"Succeeded at 2024年7月1日 16:39:17 (Elapsed Time: 4.26 seconds)\"]' data-show='true'><div id = 'default' /></div></div>"
      ],
      "text/plain": [
       "<Result 'J:\\\\lakemapping\\\\postprocess\\\\v9_240622\\\\3_polygon_after_rivermask.gdb\\\\big_lakes_sa_2'>"
      ]
     },
     "execution_count": 164,
     "metadata": {},
     "output_type": "execute_result"
    }
   ],
   "source": [
    "arcpy.MakeFeatureLayer_management(big_lake_join,big_lake_join_lyr)\n",
    "arcpy.management.SelectLayerByAttribute(big_lake_join_lyr,'NEW_SELECTION','\"operate_bl\"=1')\n",
    "arcpy.CopyFeatures_management(big_lake_join_lyr,big_lake_toMerge)"
   ]
  },
  {
   "cell_type": "code",
   "execution_count": null,
   "metadata": {},
   "outputs": [],
   "source": [
    "# selectByAttribute(result_afm_lyr,'NEW_SELECTION','\"flag\" IS NULL')"
   ]
  },
  {
   "cell_type": "code",
   "execution_count": 16,
   "metadata": {},
   "outputs": [],
   "source": [
    "# arcpy.AddField_management(new_lyr, 'operate', \"Double\")\n",
    "# arcpy.AddField_management(new_lyr, 'flag', \"Short\")\n",
    "# add_Res_flag(new_lyr)\n",
    "# calculateOperateByAttribute(new_lyr,'\"area\" >= 3',1)\n",
    "# calculateOperateByAttribute(new_lyr,'\"flag\" = 3',3)\n",
    "# calculateOperateByAttribute(new_lyr,'\"flag\" = 4',4)"
   ]
  },
  {
   "cell_type": "code",
   "execution_count": 116,
   "metadata": {},
   "outputs": [],
   "source": []
  },
  {
   "cell_type": "code",
   "execution_count": null,
   "metadata": {},
   "outputs": [],
   "source": [
    "river_mask_gdb=r'J:\\lakemapping\\postprocess\\v8_240521\\2_polygon_iw_River.gdb'\n",
    "old_dir=r'J:\\lakemapping\\postprocess\\v4_2403019\\2_polygon_iw_River.gdb'\n",
    "region=\"as_3\"\n",
    "raw_prediction_fn='lakes_'+region\n",
    "prefix=region\n",
    "\n",
    "lake_arm=os.path.join(river_mask_gdb,raw_prediction_fn+'_arm')\n",
    "lake_iwG_arm_SJ=os.path.join(river_mask_gdb,raw_prediction_fn+'_iwG_arm_SJ')\n",
    "lake_niwG_arm_SJ=os.path.join(river_mask_gdb,raw_prediction_fn+'_niwG_arm_SJ')\n",
    "lake_waterway_iwG_SJ=os.path.join(river_mask_gdb,raw_prediction_fn+'_waterway_iwG_SJ')\n",
    "lake_waterway_niwG=os.path.join(river_mask_gdb,raw_prediction_fn+'_waterway_niwG')\n",
    "lake_niwR=os.path.join(river_mask_gdb,raw_prediction_fn+'_niwR')\n",
    "\n",
    "lake_arm_lyr=prefix+'_lake_arm'\n",
    "lake_iwG_arm_SJ_lyr=prefix+'_lake_iwG_arm_SJ'\n",
    "lake_niwG_arm_SJ_lyr=prefix+'_lake_niwG_arm_SJ'\n",
    "lake_waterway_iwG_SJ_lyr=prefix+'_lake_waterway_iwG_SJ'\n",
    "lake_waterway_niwG_lyr=prefix+'_lake_waterway_niwG'\n",
    "lake_niwR_lyr='lake_niwR'\n",
    "\n",
    "arcpy.MakeFeatureLayer_management(lake_arm,lake_arm_lyr)\n",
    "arcpy.MakeFeatureLayer_management(lake_iwG_arm_SJ,lake_iwG_arm_SJ_lyr)\n",
    "arcpy.MakeFeatureLayer_management(lake_niwG_arm_SJ,lake_niwG_arm_SJ_lyr)\n",
    "arcpy.MakeFeatureLayer_management(lake_waterway_iwG_SJ,lake_waterway_iwG_SJ_lyr)\n",
    "arcpy.MakeFeatureLayer_management(lake_waterway_niwG,lake_waterway_niwG_lyr)\n",
    "arcpy.MakeFeatureLayer_management(lake_niwR,lake_niwR_lyr)\n",
    "\n",
    "# old_lake_arm=os.path.join(old_dir,raw_prediction_fn+'_arm')\n",
    "# old_lake_iwG_arm_SJ=os.path.join(old_dir,raw_prediction_fn+'_iwG_arm_SJ')\n",
    "# old_lake_niwG_arm_SJ=os.path.join(old_dir,raw_prediction_fn+'_niwG_arm_SJ')\n",
    "# old_lake_waterway_iwG_SJ=os.path.join(old_dir,raw_prediction_fn+'_waterway_iwG_SJ')\n",
    "# old_lake_waterway_niwG=os.path.join(old_dir,raw_prediction_fn+'_waterway_niwG')\n",
    "# old_lake_niwR=os.path.join(old_dir,raw_prediction_fn+'_niwR')\n",
    "\n",
    "# old_lake_arm_lyr='old_'+region+'_lake_arm'\n",
    "# old_lake_iwG_arm_SJ_lyr='old_'+region+'_lake_iwG_arm_SJ'\n",
    "# old_lake_niwG_arm_SJ_lyr='old_'+region+'_lake_niwG_arm_SJ'\n",
    "# old_lake_waterway_iwG_SJ_lyr='old_'+region+'_lake_waterway_iwG_SJ'\n",
    "# old_lake_waterway_niwG_lyr='old_'+region+'_lake_waterway_niwG'\n",
    "# old_lake_niwR_lyr='lake_niwR'\n",
    "\n",
    "# arcpy.MakeFeatureLayer_management(old_lake_arm,old_lake_arm_lyr)\n",
    "# arcpy.MakeFeatureLayer_management(old_lake_iwG_arm_SJ,old_lake_iwG_arm_SJ_lyr)\n",
    "# arcpy.MakeFeatureLayer_management(old_lake_niwG_arm_SJ,old_lake_niwG_arm_SJ_lyr)\n",
    "# arcpy.MakeFeatureLayer_management(old_lake_waterway_iwG_SJ,old_lake_waterway_iwG_SJ_lyr)\n",
    "# arcpy.MakeFeatureLayer_management(old_lake_waterway_niwG,old_lake_waterway_niwG_lyr)\n",
    "arcpy.MakeFeatureLayer_management(old_lake_niwR,old_lake_niwR_lyr)\n",
    "\n",
    "lyr_list=[prefix+'_lake_arm',prefix+'_lake_iwG_arm_SJ',prefix+'_lake_niwG_arm_SJ',prefix+'_lake_waterway_iwG_SJ',prefix+'_lake_waterway_niwG','lake_niwR']"
   ]
  },
  {
   "cell_type": "code",
   "execution_count": 126,
   "metadata": {},
   "outputs": [
    {
     "ename": "ExecuteError",
     "evalue": "Failed to execute. Parameters are not valid.\nERROR 000732: Input Features: Dataset J:\\lakemapping\\postprocess\\v9_240622\\2_polygon_iw_River.gdb\\lakes_af_biglakeModel_SJ does not exist or is not supported\nFailed to execute (MakeFeatureLayer).\n",
     "output_type": "error",
     "traceback": [
      "\u001b[0;31m---------------------------------------------------------------------------\u001b[0m\n\u001b[0;31mExecuteError\u001b[0m                              Traceback (most recent call last)",
      "In  \u001b[0;34m[126]\u001b[0m:\nLine \u001b[0;34m88\u001b[0m:    arcpy.MakeFeatureLayer_management(big_lake_join,big_lake_join_lyr)\n",
      "File \u001b[0;34mC:\\Program Files\\ArcGIS\\Pro\\Resources\\ArcPy\\arcpy\\management.py\u001b[0m, in \u001b[0;32mMakeFeatureLayer\u001b[0m:\nLine \u001b[0;34m9870\u001b[0m:  \u001b[34mraise\u001b[39;49;00m e\n",
      "File \u001b[0;34mC:\\Program Files\\ArcGIS\\Pro\\Resources\\ArcPy\\arcpy\\management.py\u001b[0m, in \u001b[0;32mMakeFeatureLayer\u001b[0m:\nLine \u001b[0;34m9867\u001b[0m:  retval = convertArcObjectToPythonObject(gp.MakeFeatureLayer_management(*gp_fixargs((in_features, out_layer, where_clause, workspace, field_info), \u001b[34mTrue\u001b[39;49;00m)))\n",
      "File \u001b[0;34mC:\\Program Files\\ArcGIS\\Pro\\Resources\\ArcPy\\arcpy\\geoprocessing\\_base.py\u001b[0m, in \u001b[0;32m<lambda>\u001b[0m:\nLine \u001b[0;34m512\u001b[0m:   \u001b[34mreturn\u001b[39;49;00m \u001b[34mlambda\u001b[39;49;00m *args: val(*gp_fixargs(args, \u001b[34mTrue\u001b[39;49;00m))\n",
      "\u001b[0;31mExecuteError\u001b[0m: Failed to execute. Parameters are not valid.\nERROR 000732: Input Features: Dataset J:\\lakemapping\\postprocess\\v9_240622\\2_polygon_iw_River.gdb\\lakes_af_biglakeModel_SJ does not exist or is not supported\nFailed to execute (MakeFeatureLayer).\n\n\u001b[0;31m---------------------------------------------------------------------------\u001b[0m"
     ]
    }
   ],
   "source": [
    "# for i in range(1,7):\n",
    "#     region=f\"na_{i}\"\n",
    "# for i in range(1,10):\n",
    "#     region=f\"as_{i}\"\n",
    "for region in ['af','eu','oc','island','greenland','sa_1','sa_2']:\n",
    "    raw_prediction_fn='lakes_'+region\n",
    "\n",
    "    lake_arm=os.path.join(river_mask_gdb,raw_prediction_fn+'_arm')\n",
    "    lake_iwG_arm_SJ=os.path.join(river_mask_gdb,raw_prediction_fn+'_iwG_arm_SJ')\n",
    "    lake_niwG_arm_SJ=os.path.join(river_mask_gdb,raw_prediction_fn+'_niwG_arm_SJ')\n",
    "    lake_waterway_iwG_SJ=os.path.join(river_mask_gdb,raw_prediction_fn+'_waterway_iwG_SJ')\n",
    "    lake_waterway_niwG=os.path.join(river_mask_gdb,raw_prediction_fn+'_waterway_niwG')\n",
    "    lake_niwR=os.path.join(river_mask_gdb,raw_prediction_fn+'_niwR')\n",
    "    lyr_list=['new_lake_arm','new_lake_iwG_arm_SJ','new_lake_niwG_arm_SJ','new_lake_waterway_iwG_SJ','new_lake_waterway_niwG','new_lake_niwR']\n",
    "\n",
    "    arcpy.MakeFeatureLayer_management(lake_iwG_arm_SJ,lyr_list[1])\n",
    "    arcpy.MakeFeatureLayer_management(lake_niwG_arm_SJ,lyr_list[2])\n",
    "    arcpy.MakeFeatureLayer_management(lake_waterway_iwG_SJ,lyr_list[3])\n",
    "    arcpy.MakeFeatureLayer_management(lake_waterway_niwG,lyr_list[4])\n",
    "    arcpy.MakeFeatureLayer_management(lake_niwR,lyr_list[5])\n",
    "    arcpy.MakeFeatureLayer_management(lake_arm,lyr_list[0])\n",
    "\n",
    "    result_afm=os.path.join(after_mask_gdb,raw_prediction_fn+'_afterMask')\n",
    "    result_afm_lyr=region+'_afterMask'\n",
    "    big_lake_join=os.path.join(river_mask_gdb,raw_prediction_fn+'_biglakeModel_SJ')\n",
    "    big_lake_toMerge=os.path.join(after_mask_gdb,'big_'+raw_prediction_fn)\n",
    "    big_lake_join_lyr=region+'_biglakeModel_SJ'\n",
    "    \n",
    "    selectByAttribute(lyr_list[1],'NEW_SELECTION','\"operate\" = 0.5 OR operate IS NULL')\n",
    "    selectByLocation(lyr_list[0], 'WITHIN', lyr_list[1])\n",
    "\n",
    "    selectByAttribute(lyr_list[2],'NEW_SELECTION','\"operate\" = 0.5 OR operate IS NULL')\n",
    "    selectByLocation(lyr_list[0], 'WITHIN', lyr_list[2],'ADD_TO_SELECTION')\n",
    "\n",
    "    selectByAttribute(lyr_list[0],'SUBSET_SELECTION','\"operate\" IS NULL')\n",
    "    selectByAttribute(lyr_list[0],'ADD_TO_SELECTION','\"operate\" = 1')\n",
    "    selectByAttribute(lyr_list[1],'NEW_SELECTION','\"operate\" >= 1')\n",
    "    selectByAttribute(lyr_list[2],'NEW_SELECTION','\"operate\" >= 1')\n",
    "\n",
    "    selectByAttribute(lyr_list[3],'NEW_SELECTION','\"operate\"<> 0 or operate IS NULL')\n",
    "    selectByAttribute(lyr_list[4],'NEW_SELECTION','\"operate\"<> 0 or operate IS NULL')\n",
    "\n",
    "    selectByAttribute(lyr_list[5],'NEW_SELECTION','\"operate\"<> 0 or operate IS NULL')\n",
    "\n",
    "    fieldmappings = arcpy.FieldMappings()\n",
    "    fieldmappings_all = arcpy.FieldMappings()\n",
    "    fieldmappings_all.addTable(lyr_list[1])\n",
    "    fieldmappings_all.addTable(lyr_list[4])\n",
    "    field_list = ['area','iwR','iwG','flag','operate']\n",
    "    for field_i in field_list:\n",
    "                field_idx = fieldmappings_all.findFieldMapIndex(field_i)\n",
    "                fieldmappings.addFieldMap(fieldmappings_all.getFieldMap(field_idx))\n",
    "    arcpy.Merge_management(lyr_list,result_afm,fieldmappings)\n",
    "    arcpy.MakeFeatureLayer_management(result_afm,result_afm_lyr)\n",
    "    selectByAttribute(result_afm_lyr,'NEW_SELECTION','\"area\" IS NULL')\n",
    "    arcpy.CalculateField_management(result_afm_lyr, \"area\",  \"!shape.geodesicArea@SQUAREKILOMETERS!\", \"PYTHON_9.3\")\n",
    "    arcpy.CalculateField_management(result_afm_lyr, \"operate\",  0.5)\n",
    "    \n",
    "    selectByAttribute(lyr_list[1],'NEW_SELECTION','\"operate\" = 0.5 OR operate IS NULL')\n",
    "    selectByAttribute(result_afm_lyr,'NEW_SELECTION','\"iwG\" IS NULL')\n",
    "    selectByLocation(result_afm_lyr, 'WITHIN', lyr_list[1],'SUBSET_SELECTION')\n",
    "    arcpy.CalculateField_management(result_afm_lyr,'iwG',1)\n",
    "    selectByAttribute(result_afm_lyr,'NEW_SELECTION','\"iwG\" IS NULL')\n",
    "    arcpy.CalculateField_management(result_afm_lyr,'iwG',0)\n",
    "\n",
    "    selectByAttribute(result_afm_lyr,'NEW_SELECTION','\"iwR\" IS NULL')\n",
    "    selectByLocation(result_afm_lyr, 'INTERSECT', GRWL_river,'SUBSET_SELECTION')\n",
    "    calculateField(result_afm_lyr, 'iwR',1)\n",
    "    selectByAttribute(result_afm_lyr,'NEW_SELECTION','\"iwR\" IS NULL')\n",
    "    calculateField(result_afm_lyr, 'iwR',2)\n",
    "\n",
    "    selectByAttribute(result_afm_lyr,'NEW_SELECTION', 'flag IS NULL and \"operate\" = 0.5 ')\n",
    "    selectByLocation(result_afm_lyr, 'WITHIN', GLAKES_natural_lake,'SUBSET_SELECTION')\n",
    "    calculateField(result_afm_lyr, \"flag\",1)\n",
    "    selectByAttribute(result_afm_lyr,'NEW_SELECTION', 'flag IS NULL and \"operate\" = 0.5 ')\n",
    "    selectByLocation(result_afm_lyr, 'WITHIN', GLAKES_Res,'SUBSET_SELECTION')\n",
    "    calculateField(result_afm_lyr, \"flag\",2)\n",
    "    selectByAttribute(result_afm_lyr,'NEW_SELECTION', 'flag IS NULL and \"operate\" = 0.5 and iwG=1')\n",
    "    calculateField(result_afm_lyr, \"flag\",0)\n",
    "    selectByAttribute(result_afm_lyr,'NEW_SELECTION', 'flag IS NULL and \"operate\" = 0.5 ')\n",
    "    selectByLocation(result_afm_lyr,'INTERSECT',osm_reservoir,'SUBSET_SELECTION')\n",
    "    arcpy.CalculateField_management(result_afm_lyr, 'flag',  3)\n",
    "\n",
    "    selectByAttribute(result_afm_lyr,'NEW_SELECTION', 'flag IS NULL and \"operate\" = 0.5 ')\n",
    "    selectByLocation(result_afm_lyr,'INTERSECT',GeoDAR,'SUBSET_SELECTION')\n",
    "    arcpy.CalculateField_management(result_afm_lyr, 'flag',  4)\n",
    "    \n",
    "    arcpy.MakeFeatureLayer_management(big_lake_join,big_lake_join_lyr)\n",
    "    arcpy.management.SelectLayerByAttribute(big_lake_join_lyr,'NEW_SELECTION','\"operate_bl\"=1')\n",
    "    arcpy.CopyFeatures_management(big_lake_join_lyr,big_lake_toMerge)"
   ]
  },
  {
   "cell_type": "code",
   "execution_count": null,
   "metadata": {},
   "outputs": [],
   "source": []
  }
 ],
 "metadata": {
  "kernelspec": {
   "display_name": "ArcGISPro",
   "language": "Python",
   "name": "python3"
  },
  "language_info": {
   "file_extension": ".py",
   "name": "python",
   "version": "3"
  }
 },
 "nbformat": 4,
 "nbformat_minor": 2
}
