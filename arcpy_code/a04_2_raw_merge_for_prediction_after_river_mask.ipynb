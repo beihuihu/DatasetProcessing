{
 "cells": [
  {
   "cell_type": "code",
   "execution_count": 6,
   "metadata": {},
   "outputs": [],
   "source": [
    "import arcpy\n",
    "from arcpy.sa import *\n",
    "import os\n",
    "import time\n",
    "arcpy.env.overwriteOutput = True"
   ]
  },
  {
   "cell_type": "code",
   "execution_count": 7,
   "metadata": {},
   "outputs": [],
   "source": [
    "base_dir = r'D:\\postprocess\\v240303'\n",
    "\n",
    "lake_arm_gdb = base_dir + f'/shp_dn1_arm_merge.gdb'\n",
    "if not os.path.exists(lake_arm_gdb):\n",
    "    arcpy.CreateFileGDB_management(base_dir, \"shp_dn1_arm_merge.gdb\")\n",
    "dn1_dir=r'J:\\result_0303\\after_river_mask\\region_0228'"
   ]
  },
  {
   "cell_type": "code",
   "execution_count": 8,
   "metadata": {},
   "outputs": [
    {
     "name": "stdout",
     "output_type": "stream",
     "text": [
      "1\n",
      "mergeshp: 345\n",
      "time: 1.3389998078346252 minutes\n",
      "2\n",
      "mergeshp: 281\n",
      "time: 1.951588543256124 minutes\n",
      "3\n",
      "mergeshp: 438\n",
      "time: 3.4407812396685284 minutes\n",
      "4\n",
      "mergeshp: 527\n",
      "time: 1.2039491415023804 minutes\n",
      "5\n",
      "mergeshp: 1283\n",
      "time: 4.531616425514221 minutes\n",
      "6\n",
      "mergeshp: 1070\n",
      "time: 2.8880514105161033 minutes\n",
      "7\n",
      "mergeshp: 770\n",
      "time: 3.3750075340270995 minutes\n",
      "8\n",
      "mergeshp: 670\n",
      "time: 2.152653964360555 minutes\n",
      "9\n",
      "mergeshp: 1765\n",
      "time: 6.454040765762329 minutes\n"
     ]
    }
   ],
   "source": [
    "region='as'\n",
    "for i in range(1,10):#[1,3,6,7,8]:#range(1,3)\n",
    "    print(i)\n",
    "    lak_shp = os.path.join(lake_arm_gdb,f'lake_{region}_{i}_arm')\n",
    "    if not os.path.exists(lak_shp):\n",
    "        tif2shp_dn1_path = os.path.join(dn1_dir,f'{region}_{i}')\n",
    "        arcpy.env.workspace = tif2shp_dn1_path\n",
    "        start = time.time()\n",
    "        mergeshp = arcpy.ListFeatureClasses()\n",
    "        print('mergeshp:', len(mergeshp))\n",
    "        arcpy.Merge_management(mergeshp, lak_shp) \n",
    "        end = time.time()\n",
    "        print (f'time: {(end-start)/60} minutes')"
   ]
  },
  {
   "cell_type": "code",
   "execution_count": 9,
   "metadata": {},
   "outputs": [
    {
     "name": "stdout",
     "output_type": "stream",
     "text": [
      "1\n",
      "mergeshp: 876\n",
      "finish merge\n",
      "time: 3.8193138360977175 minutes\n",
      "2\n",
      "mergeshp: 641\n",
      "finish merge\n",
      "time: 3.7675265391667683 minutes\n",
      "3\n",
      "mergeshp: 681\n",
      "finish merge\n",
      "time: 2.6221548597017925 minutes\n",
      "4\n",
      "mergeshp: 334\n",
      "finish merge\n",
      "time: 1.7124207655588786 minutes\n",
      "5\n",
      "mergeshp: 603\n",
      "finish merge\n",
      "time: 3.5908039013544717 minutes\n",
      "6\n",
      "mergeshp: 598\n",
      "finish merge\n",
      "time: 2.4950642585754395 minutes\n"
     ]
    }
   ],
   "source": [
    "region='na'\n",
    "for i in range(1,7):#[1,3,6,7,8]:#range(1,3)\n",
    "    print(i)\n",
    "    lak_shp = os.path.join(lake_arm_gdb,f'lake_{region}_{i}_arm')\n",
    "    if not os.path.exists(lak_shp):\n",
    "        tif2shp_dn1_path = os.path.join(dn1_dir,f'{region}_{i}')\n",
    "        arcpy.env.workspace = tif2shp_dn1_path\n",
    "        start = time.time()\n",
    "        mergeshp = arcpy.ListFeatureClasses()\n",
    "        print('mergeshp:', len(mergeshp))\n",
    "        arcpy.Merge_management(mergeshp, lak_shp) \n",
    "        print('finish merge')\n",
    "        end = time.time()\n",
    "        print (f'time: {(end-start)/60} minutes')"
   ]
  },
  {
   "cell_type": "code",
   "execution_count": 10,
   "metadata": {},
   "outputs": [
    {
     "name": "stdout",
     "output_type": "stream",
     "text": [
      "1\n",
      "mergeshp: 744\n",
      "finish merge\n",
      "time: 4.949136507511139 minutes\n"
     ]
    }
   ],
   "source": [
    "region='sa'\n",
    "for i in range(1,2):#[1,3,6,7,8]:#range(1,3)\n",
    "    print(i)\n",
    "    lak_shp = os.path.join(lake_arm_gdb,f'lake_{region}_{i}_arm')\n",
    "    if not os.path.exists(lak_shp):\n",
    "        tif2shp_dn1_path = os.path.join(dn1_dir,f'{region}_{i}')\n",
    "        arcpy.env.workspace = tif2shp_dn1_path\n",
    "        start = time.time()\n",
    "        mergeshp = arcpy.ListFeatureClasses()\n",
    "        print('mergeshp:', len(mergeshp))\n",
    "        arcpy.Merge_management(mergeshp, lak_shp) \n",
    "        print('finish merge')\n",
    "        end = time.time()\n",
    "        print (f'time: {(end-start)/60} minutes')"
   ]
  },
  {
   "cell_type": "code",
   "execution_count": 11,
   "metadata": {},
   "outputs": [
    {
     "name": "stdout",
     "output_type": "stream",
     "text": [
      "mergeshp: 1069\n",
      "finish merge\n",
      "time: 7.726247874895732 minutes\n"
     ]
    }
   ],
   "source": [
    "region='eu'\n",
    "lak_shp = os.path.join(lake_arm_gdb,f'lake_{region}_arm')\n",
    "if not os.path.exists(lak_shp):\n",
    "    tif2shp_dn1_path = os.path.join(dn1_dir,f'{region}')\n",
    "    arcpy.env.workspace = tif2shp_dn1_path\n",
    "    start = time.time()\n",
    "    mergeshp = arcpy.ListFeatureClasses()\n",
    "    print('mergeshp:', len(mergeshp))\n",
    "    arcpy.Merge_management(mergeshp, lak_shp) \n",
    "    print('finish merge')\n",
    "    end = time.time()\n",
    "    print (f'time: {(end-start)/60} minutes')"
   ]
  },
  {
   "cell_type": "code",
   "execution_count": 12,
   "metadata": {},
   "outputs": [
    {
     "name": "stdout",
     "output_type": "stream",
     "text": [
      "mergeshp: 330\n",
      "finish merge\n",
      "time: 1.3772467454274495 minutes\n"
     ]
    }
   ],
   "source": [
    "region='greenland'\n",
    "lak_shp = os.path.join(lake_arm_gdb,f'lake_{region}_arm')\n",
    "if not os.path.exists(lak_shp):\n",
    "    tif2shp_dn1_path = os.path.join(dn1_dir,f'{region}')\n",
    "    arcpy.env.workspace = tif2shp_dn1_path\n",
    "    start = time.time()\n",
    "    mergeshp = arcpy.ListFeatureClasses()\n",
    "    print('mergeshp:', len(mergeshp))\n",
    "    arcpy.Merge_management(mergeshp, lak_shp) \n",
    "    print('finish merge')\n",
    "    end = time.time()\n",
    "    print (f'time: {(end-start)/60} minutes')"
   ]
  },
  {
   "cell_type": "code",
   "execution_count": 13,
   "metadata": {},
   "outputs": [
    {
     "name": "stdout",
     "output_type": "stream",
     "text": [
      "mergeshp: 536\n",
      "finish merge\n",
      "time: 1.9617578347524007 minutes\n"
     ]
    }
   ],
   "source": [
    "region='island'\n",
    "lak_shp = os.path.join(lake_arm_gdb,f'lake_{region}_arm')\n",
    "if not os.path.exists(lak_shp):\n",
    "    tif2shp_dn1_path = os.path.join(dn1_dir,f'{region}')\n",
    "    arcpy.env.workspace = tif2shp_dn1_path\n",
    "    start = time.time()\n",
    "    mergeshp = arcpy.ListFeatureClasses()\n",
    "    print('mergeshp:', len(mergeshp))\n",
    "    arcpy.Merge_management(mergeshp, lak_shp) \n",
    "    print('finish merge')\n",
    "    end = time.time()\n",
    "    print (f'time: {(end-start)/60} minutes')"
   ]
  },
  {
   "cell_type": "code",
   "execution_count": 14,
   "metadata": {},
   "outputs": [
    {
     "name": "stdout",
     "output_type": "stream",
     "text": [
      "mergeshp: 2579\n",
      "finish merge\n",
      "time: 18.7207870721817 minutes\n"
     ]
    }
   ],
   "source": [
    "region='af'\n",
    "lak_shp = os.path.join(lake_arm_gdb,f'lake_{region}_arm')\n",
    "if not os.path.exists(lak_shp):\n",
    "    tif2shp_dn1_path = os.path.join(dn1_dir,f'{region}')\n",
    "    arcpy.env.workspace = tif2shp_dn1_path\n",
    "    start = time.time()\n",
    "    mergeshp = arcpy.ListFeatureClasses()\n",
    "    print('mergeshp:', len(mergeshp))\n",
    "    arcpy.Merge_management(mergeshp, lak_shp) \n",
    "    print('finish merge')\n",
    "    end = time.time()\n",
    "    print (f'time: {(end-start)/60} minutes')"
   ]
  },
  {
   "cell_type": "code",
   "execution_count": 15,
   "metadata": {},
   "outputs": [
    {
     "name": "stdout",
     "output_type": "stream",
     "text": [
      "mergeshp: 898\n",
      "finish merge\n",
      "time: 3.861602826913198 minutes\n"
     ]
    }
   ],
   "source": [
    "region='oc'\n",
    "lak_shp = os.path.join(lake_arm_gdb,f'lake_{region}_arm')\n",
    "if not os.path.exists(lak_shp):\n",
    "    tif2shp_dn1_path = os.path.join(dn1_dir,f'{region}')\n",
    "    arcpy.env.workspace = tif2shp_dn1_path\n",
    "    start = time.time()\n",
    "    mergeshp = arcpy.ListFeatureClasses()\n",
    "    print('mergeshp:', len(mergeshp))\n",
    "    arcpy.Merge_management(mergeshp, lak_shp) \n",
    "    print('finish merge')\n",
    "    end = time.time()\n",
    "    print (f'time: {(end-start)/60} minutes')"
   ]
  },
  {
   "cell_type": "markdown",
   "metadata": {},
   "source": [
    "## area ratio"
   ]
  },
  {
   "cell_type": "code",
   "execution_count": null,
   "metadata": {},
   "outputs": [],
   "source": [
    "process_dir=os.path.join(base_dir,f'{region}/2_polygon_iw_Rivers.gdb')\n",
    "lake_with_rivermask_shp = process_dir + f'/lakes_{region}_1_arm'\n",
    "lake_with_rivermask_lyr = 'lake_with_rivermask_lyr'\n",
    "arcpy.MakeFeatureLayer_management(lake_with_rivermask_shp, lake_with_rivermask_lyr)\n",
    "lake_without_rivermask_shp = allarea_dir + '/allarea_gt003_without_rivermask_dissolve'\n",
    "lake_without_rivermask_lyr = 'lake_without_rivermask_lyr'\n",
    "arcpy.MakeFeatureLayer_management(lake_without_rivermask_shp, lake_without_rivermask_lyr)"
   ]
  }
 ],
 "metadata": {
  "kernelspec": {
   "display_name": "ArcGISPro",
   "language": "Python",
   "name": "python3"
  },
  "language_info": {
   "file_extension": ".py",
   "name": "python",
   "version": "3"
  }
 },
 "nbformat": 4,
 "nbformat_minor": 2
}
