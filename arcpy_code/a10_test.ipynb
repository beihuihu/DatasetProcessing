{
 "cells": [
  {
   "cell_type": "code",
   "execution_count": 113,
   "metadata": {},
   "outputs": [],
   "source": [
    "import arcpy\n",
    "from arcpy.sa import *\n",
    "import os\n",
    "import time\n",
    "arcpy.env.overwriteOutput = True"
   ]
  },
  {
   "cell_type": "code",
   "execution_count": 119,
   "metadata": {},
   "outputs": [],
   "source": [
    "# load input features and make layer\n",
    "version='v14_241115'\n",
    "sub_v='_v1'\n",
    "stastic_v=f'{version}{sub_v}'\n",
    "# stastic_v=f'{version}'\n",
    "output_dir = os.path.join(r'J:\\lakemapping\\postprocess',version)\n",
    "temp_gdb=os.path.join(output_dir,'7_correct_temp_file.gdb')\n",
    "auxiliary_dataset_gdb=r'D:\\postprocess\\v240220\\auxiliary_dataset.gdb'\n",
    "stastics_gdb=os.path.join(output_dir,f'0_summary_stastics{sub_v}.gdb')\n",
    "polygon_iwR_gdb=os.path.join(output_dir,'2_polygon_iw_River.gdb')\n",
    "after_mask_gdb=os.path.join(output_dir,f'3_polygon_after_rivermask{sub_v}.gdb')\n",
    "mwBL_gdb=os.path.join(output_dir,f'4_polygon_afm_mergeWith_BigLake{sub_v}.gdb')\n",
    "mwBG_gdb=os.path.join(output_dir,f'5_polygon_afm_mwBL_BigGLAKES{sub_v}.gdb')\n",
    "mwPLD_gdb=os.path.join(output_dir,f'6_polygon_afm_mergeWith_BigPLD{sub_v}.gdb')\n",
    "excel_dir=os.path.join(output_dir,f'stastics_excel{sub_v}')\n",
    "mwPLD_point_gdb=os.path.join(output_dir,f'6_polygon_afm_mergeWith_BigPLD{sub_v}.gdb')\n",
    "mwBG_point_gdb=os.path.join(output_dir,f'5_polygon_afm_mwBL_BigGLAKES{sub_v}_point.gdb')\n",
    "# if not os.path.exists(stastics_gdb):\n",
    "#     arcpy.CreateFileGDB_management(output_dir,f'0_summary_stastics{sub_v}.gdb')\n",
    "# if not os.path.exists(after_mask_gdb):\n",
    "#     arcpy.CreateFileGDB_management(output_dir,f'3_polygon_after_rivermask{sub_v}.gdb')\n",
    "# if not os.path.exists(mwBL_gdb):\n",
    "#     arcpy.CreateFileGDB_management(output_dir,f'4_polygon_afm_mergeWith_BigLake{sub_v}.gdb')\n",
    "# if not os.path.exists(mwBG_gdb):\n",
    "#     arcpy.CreateFileGDB_management(output_dir,f'5_polygon_afm_mwBL_BigGLAKES{sub_v}.gdb')\n",
    "# if not os.path.exists(mwBG_point_gdb):\n",
    "#     arcpy.CreateFileGDB_management(output_dir,f'5_polygon_afm_mwBL_BigGLAKES{sub_v}_point.gdb')\n",
    "# if not os.path.exists(mwPLD_gdb):\n",
    "#     arcpy.CreateFileGDB_management(output_dir,f'6_polygon_afm_mergeWith_BigPLD{sub_v}.gdb')\n",
    "if not os.path.exists(mwPLD_point_gdb):\n",
    "    arcpy.CreateFileGDB_management(output_dir,f'6_polygon_afm_mergeWith_BigPLD{sub_v}_point.gdb')"
   ]
  },
  {
   "cell_type": "code",
   "execution_count": 115,
   "metadata": {},
   "outputs": [
    {
     "name": "stdout",
     "output_type": "stream",
     "text": [
      "v14_241115_v1\n"
     ]
    }
   ],
   "source": [
    "print(stastic_v)"
   ]
  },
  {
   "cell_type": "code",
   "execution_count": 116,
   "metadata": {},
   "outputs": [],
   "source": [
    "eight_continents=['Asia','Siberia','Africa','Europe','Oceania_Anta','North_America','Arctic','South_America']"
   ]
  },
  {
   "cell_type": "code",
   "execution_count": 117,
   "metadata": {},
   "outputs": [],
   "source": [
    "def selectByLocation(inputFeature,overlapType,selectionFeature,selectionType='NEW_SELECTION'):\n",
    "    arcpy.SelectLayerByLocation_management(inputFeature,overlapType,selectionFeature,selection_type=selectionType)\n",
    "    \n",
    "def selectByAttribute(inputFeature,selectionType='NEW_SELECTION',code=''):\n",
    "    arcpy.management.SelectLayerByAttribute(inputFeature,selectionType,code)\n",
    "    \n",
    "def calculateField(inputFeature,field,code):\n",
    "    arcpy.CalculateField_management(inputFeature, field,code)\n",
    "\n",
    "def cal_continent(lyr):\n",
    "    arcpy.AddField_management(lyr, 'Continent', \"Text\")\n",
    "    for i in range(0,6):\n",
    "        continent=seven_continents[i]\n",
    "        selectByAttribute(continent_lyr,'NEW_SELECTION',f\"Continent = '{continent}'\")\n",
    "        selectByAttribute(lyr,'NEW_SELECTION',\"Continent IS NULL\")\n",
    "        selectByLocation(lyr,'HAVE_THEIR_CENTER_IN',continent_lyr,'SUBSET_SELECTION')\n",
    "        calculateField(lyr,'Continent',f\"'{continent}'\")"
   ]
  },
  {
   "cell_type": "code",
   "execution_count": 118,
   "metadata": {},
   "outputs": [],
   "source": [
    "big_lakes=os.path.join(after_mask_gdb,f'total_big_lakes')\n",
    "big_lakes_lyr=f'big_lakes'\n",
    "GLAKES_gte1_Rser=os.path.join(mwBL_gdb,'GLAKES_gte1_Rser')\n",
    "GLAKES_gte1_Rser_singlepart=os.path.join(mwBL_gdb,'GLAKES_gte1_Rser_singlepart')\n",
    "GLAKES_gte1_Rser_point=os.path.join(mwBL_gdb,'GLAKES_gte1_Rser_point')\n",
    "GLAKES_gte1_Rser_lyr='GLAKES_gte1_Rser'\n",
    "GLAKES_gte1_Rser_point_lyr='GLAKES_gte1_Rser_point'"
   ]
  },
  {
   "cell_type": "code",
   "execution_count": 7,
   "metadata": {},
   "outputs": [
    {
     "ename": "ExecuteError",
     "evalue": "Failed to execute. Parameters are not valid.\nERROR 000732: Input Features: Dataset J:\\lakemapping\\postprocess\\v14_241115\\3_polygon_after_rivermask_v1.gdb\\total_big_lakes does not exist or is not supported\nFailed to execute (MakeFeatureLayer).\n",
     "output_type": "error",
     "traceback": [
      "\u001b[0;31m---------------------------------------------------------------------------\u001b[0m\n\u001b[0;31mExecuteError\u001b[0m                              Traceback (most recent call last)",
      "In  \u001b[0;34m[7]\u001b[0m:\nLine \u001b[0;34m1\u001b[0m:     arcpy.MakeFeatureLayer_management(big_lakes,big_lakes_lyr)\n",
      "File \u001b[0;34mC:\\Program Files\\ArcGIS\\Pro\\Resources\\ArcPy\\arcpy\\management.py\u001b[0m, in \u001b[0;32mMakeFeatureLayer\u001b[0m:\nLine \u001b[0;34m9870\u001b[0m:  \u001b[34mraise\u001b[39;49;00m e\n",
      "File \u001b[0;34mC:\\Program Files\\ArcGIS\\Pro\\Resources\\ArcPy\\arcpy\\management.py\u001b[0m, in \u001b[0;32mMakeFeatureLayer\u001b[0m:\nLine \u001b[0;34m9867\u001b[0m:  retval = convertArcObjectToPythonObject(gp.MakeFeatureLayer_management(*gp_fixargs((in_features, out_layer, where_clause, workspace, field_info), \u001b[34mTrue\u001b[39;49;00m)))\n",
      "File \u001b[0;34mC:\\Program Files\\ArcGIS\\Pro\\Resources\\ArcPy\\arcpy\\geoprocessing\\_base.py\u001b[0m, in \u001b[0;32m<lambda>\u001b[0m:\nLine \u001b[0;34m512\u001b[0m:   \u001b[34mreturn\u001b[39;49;00m \u001b[34mlambda\u001b[39;49;00m *args: val(*gp_fixargs(args, \u001b[34mTrue\u001b[39;49;00m))\n",
      "\u001b[0;31mExecuteError\u001b[0m: Failed to execute. Parameters are not valid.\nERROR 000732: Input Features: Dataset J:\\lakemapping\\postprocess\\v14_241115\\3_polygon_after_rivermask_v1.gdb\\total_big_lakes does not exist or is not supported\nFailed to execute (MakeFeatureLayer).\n\n\u001b[0;31m---------------------------------------------------------------------------\u001b[0m"
     ]
    }
   ],
   "source": [
    "arcpy.MakeFeatureLayer_management(big_lakes,big_lakes_lyr)\n",
    "# selectByAttribute(big_lakes_lyr,'NEW_SELECTION','area IS NULL')\n",
    "# arcpy.MakeFeatureLayer_management(GLAKES_gte1_Rser,GLAKES_gte1_Rser_lyr)\n",
    "# selectByAttribute(GLAKES_gte1_Rser_lyr,'NEW_SELECTION','Area_bound IS NULL')"
   ]
  },
  {
   "cell_type": "code",
   "execution_count": 7,
   "metadata": {},
   "outputs": [],
   "source": [
    "a_iwBL_merge_with_BL_raw=os.path.join(after_mask_gdb,'a_total_lakes_afm_iwBL_merge_with_BigLakes_raw')\n",
    "a_iwBL_merge_with_BL=os.path.join(after_mask_gdb,'a_total_lakes_afm_iwBL_merge_with_BigLakes')\n",
    "a_iwBL_merge_with_BL_raw_lyr='a_lakes_afm_iwBL_mw_BL_raw'\n",
    "a_iwBL_merge_with_BL_lyr='a_lakes_afm_iwBL_mw_BL'\n",
    "\n",
    "b_iwBG=os.path.join(mwBL_gdb,'b_total_lakes_afm_mwBL_iwBG')\n",
    "b_iwBG_point=os.path.join(mwBL_gdb,'b_total_lakes_afm_mwBL_iwBG_point')\n",
    "b_iwBG_lyr='b_lakes_afm_mwBL_iwBG'\n",
    "b_iwBG_point_lyr='b_lakes_afm_mwBL_iwBG_point'\n",
    "\n",
    "b_iwBG_merge_with_BG_raw=os.path.join(mwBL_gdb,'b_total_lakes_afm_mwBL_iwBG_merge_with_BG_raw')\n",
    "b_iwBG_merge_with_BG=os.path.join(mwBL_gdb,'b_total_lakes_afm_mwBL_iwBG_merge_with_BG')\n",
    "b_iwBG_merge_with_BG_raw_lyr='b_lakes_afm_mwBL_iwBG_mw_BG_raw'\n",
    "b_iwBG_merge_with_BG_lyr='b_lakes_afm_mwBL_iwBG_mw_BG'\n",
    "\n",
    "b_iwBG_merge_with_BG_SJ=os.path.join(mwBL_gdb,'b_iwBG_merge_with_BG_SJ')\n",
    "b_iwBG_merge_with_BG_SJ_SJ=os.path.join(mwBL_gdb,'b_iwBG_merge_with_BG_SJ_SJ')\n",
    "b_iwBG_merge_with_BG_SJ_dissolve=os.path.join(mwBL_gdb,'b_iwBG_merge_with_BG_SJ_dissolve')\n",
    "b_iwBG_merge_with_BG_SJ_GLAKES_SJ=os.path.join(mwBL_gdb,'b_iwBG_merge_with_BG_SJ_GLAKES_SJ')\n",
    "b_iwBG_merge_with_BG_final=os.path.join(mwBL_gdb,'b_iwBG_merge_with_BG_final')\n",
    "b_iwBG_merge_with_BG_final_2=os.path.join(mwBL_gdb,'b_iwBG_merge_with_BG_final_2')\n",
    "b_iwBG_merge_with_BG_SJ_lyr='b_lakes_afm_mwBL_iwBG_mw_BG_SJ'\n",
    "b_iwBG_merge_with_BG_SJ_dissolve_lyr='b_iwBG_merge_with_BG_SJ_dissolve'\n",
    "b_iwBG_merge_with_BG_SJ_GLAKES_SJ_lyr='b_iwBG_merge_with_BG_SJ_GLAKES_SJ'\n",
    "b_iwBG_merge_with_BG_final_lyr='b_iwBG_merge_with_BG_final'"
   ]
  },
  {
   "cell_type": "code",
   "execution_count": 8,
   "metadata": {},
   "outputs": [],
   "source": [
    "lakes_iwBR=os.path.join(polygon_iwR_gdb,'total_iwBR_arm_SJ')\n",
    "total_lakes_arm=os.path.join(polygon_iwR_gdb,'total_lakes_arm')\n",
    "lakes_iwBR_afterMask=os.path.join(after_mask_gdb,'lakes_iwBR_afterMask')\n",
    "lakes_iwBR_lyr='lakes_iwBR'\n",
    "total_lakes_arm_lyr='lakes_arm'\n",
    "lakes_iwBR_afm_lyr='lakes_iwBR_afm'"
   ]
  },
  {
   "cell_type": "code",
   "execution_count": 26,
   "metadata": {},
   "outputs": [],
   "source": [
    "arcpy.MakeFeatureLayer_management(lakes_iwBR,lakes_iwBR_lyr)\n",
    "# selectByAttribute(lakes_iwBR_lyr,'NEW_SELECTION','area IS NULL')\n",
    "arcpy.MakeFeatureLayer_management(total_lakes_arm,total_lakes_arm_lyr)\n",
    "selectByAttribute(total_lakes_arm_lyr,'NEW_SELECTION','area_arm IS NULL')"
   ]
  },
  {
   "cell_type": "code",
   "execution_count": 28,
   "metadata": {},
   "outputs": [
    {
     "name": "stdout",
     "output_type": "stream",
     "text": [
      "Asia\n",
      "Siberia\n",
      "Africa\n",
      "Europe\n",
      "Oceania_Anta\n",
      "North_America\n",
      "Arctic\n",
      "South_America\n"
     ]
    },
    {
     "data": {
      "text/html": [
       "<div class='gpresult'><h2>Messages</h2><div id='messages' data-messages='[\"Start Time: 2024年11月15日 18:58:02\",\"Succeeded at 2024年11月15日 18:58:09 (Elapsed Time: 6.36 seconds)\"]' data-show='true'><div id = 'default' /></div></div>"
      ],
      "text/plain": [
       "<Result 'J:\\\\lakemapping\\\\postprocess\\\\v14_241115\\\\stastics_excel\\\\v14_241115_niwBR_stastics.xls'>"
      ]
     },
     "execution_count": 28,
     "metadata": {},
     "output_type": "execute_result"
    }
   ],
   "source": [
    "input_table_list=[]\n",
    "for i in range(0,8):\n",
    "    continent=eight_continents[i]\n",
    "    print(continent)\n",
    "    lakes_niwBR=os.path.join(polygon_iwR_gdb,'lakes_'+continent+'_niwBR')\n",
    "    lakes_niwBR_lyr='lakes_'+continent+'_niwBR'\n",
    "    arcpy.MakeFeatureLayer_management(lakes_niwBR,lakes_niwBR_lyr)\n",
    "#     selectByAttribute(lakes_niwBR_lyr,'NEW_SELECTION','area IS NULL')\n",
    "    out_table=os.path.join(stastics_gdb,'lakes_'+continent+'_niwBR_stastics')\n",
    "    arcpy.analysis.Statistics(lakes_niwBR_lyr, out_table, [['area',\"sum\"]], ['operate']) \n",
    "    input_table_list.append(out_table)\n",
    "file_name=f'{stastic_v}_niwBR_stastics.xls'\n",
    "Output_Excel_File=os.path.join(excel_dir,file_name)\n",
    "arcpy.conversion.TableToExcel(input_table_list, Output_Excel_File)\n",
    "#     selectByLocation(lakes_niwBR_lyr,'INTERSECT',big_lakes_lyr)\n",
    "#     calculateField(lakes_niwBR_lyr,'iwBL',1)\n",
    "#     selectByAttribute(lakes_niwBR_lyr,'NEW_SELECTION','iwBL IS NULL')\n",
    "#     calculateField(lakes_niwBR_lyr,'iwBL',0)"
   ]
  },
  {
   "cell_type": "code",
   "execution_count": 24,
   "metadata": {},
   "outputs": [
    {
     "ename": "ExecuteError",
     "evalue": "Failed to execute. Parameters are not valid.\nERROR 000732: Input Features: Dataset J:\\lakemapping\\postprocess\\v14_241115\\3_polygon_after_rivermask.gdb\\lakes_iwBR_afterMask does not exist or is not supported\nFailed to execute (MakeFeatureLayer).\n",
     "output_type": "error",
     "traceback": [
      "\u001b[0;31m---------------------------------------------------------------------------\u001b[0m\n\u001b[0;31mExecuteError\u001b[0m                              Traceback (most recent call last)",
      "In  \u001b[0;34m[24]\u001b[0m:\nLine \u001b[0;34m1\u001b[0m:     arcpy.MakeFeatureLayer_management(lakes_iwBR_afterMask,lakes_iwBR_afm_lyr)\n",
      "File \u001b[0;34mC:\\Program Files\\ArcGIS\\Pro\\Resources\\ArcPy\\arcpy\\management.py\u001b[0m, in \u001b[0;32mMakeFeatureLayer\u001b[0m:\nLine \u001b[0;34m9870\u001b[0m:  \u001b[34mraise\u001b[39;49;00m e\n",
      "File \u001b[0;34mC:\\Program Files\\ArcGIS\\Pro\\Resources\\ArcPy\\arcpy\\management.py\u001b[0m, in \u001b[0;32mMakeFeatureLayer\u001b[0m:\nLine \u001b[0;34m9867\u001b[0m:  retval = convertArcObjectToPythonObject(gp.MakeFeatureLayer_management(*gp_fixargs((in_features, out_layer, where_clause, workspace, field_info), \u001b[34mTrue\u001b[39;49;00m)))\n",
      "File \u001b[0;34mC:\\Program Files\\ArcGIS\\Pro\\Resources\\ArcPy\\arcpy\\geoprocessing\\_base.py\u001b[0m, in \u001b[0;32m<lambda>\u001b[0m:\nLine \u001b[0;34m512\u001b[0m:   \u001b[34mreturn\u001b[39;49;00m \u001b[34mlambda\u001b[39;49;00m *args: val(*gp_fixargs(args, \u001b[34mTrue\u001b[39;49;00m))\n",
      "\u001b[0;31mExecuteError\u001b[0m: Failed to execute. Parameters are not valid.\nERROR 000732: Input Features: Dataset J:\\lakemapping\\postprocess\\v14_241115\\3_polygon_after_rivermask.gdb\\lakes_iwBR_afterMask does not exist or is not supported\nFailed to execute (MakeFeatureLayer).\n\n\u001b[0;31m---------------------------------------------------------------------------\u001b[0m"
     ]
    }
   ],
   "source": [
    "arcpy.MakeFeatureLayer_management(lakes_iwBR_afterMask,lakes_iwBR_afm_lyr)\n",
    "selectByAttribute(lakes_iwBR_afm_lyr,'NEW_SELECTION','area IS NULL')"
   ]
  },
  {
   "cell_type": "code",
   "execution_count": 27,
   "metadata": {},
   "outputs": [
    {
     "data": {
      "text/html": [
       "<div class='gpresult'><h2>Messages</h2><div id='messages' data-messages='[\"Start Time: 2024年11月15日 18:15:27\",\"Succeeded at 2024年11月15日 18:16:22 (Elapsed Time: 54.91 seconds)\"]' data-show='true'><div id = 'default' /></div></div>"
      ],
      "text/plain": [
       "<Result 'lakes_iwBR_afm'>"
      ]
     },
     "execution_count": 27,
     "metadata": {},
     "output_type": "execute_result"
    }
   ],
   "source": [
    "selectByAttribute(lakes_iwBR_lyr,'NEW_SELECTION','\"operate\" = 0.5 OR operate IS NULL')\n",
    "selectByLocation(total_lakes_arm_lyr, 'WITHIN', lakes_iwBR_lyr,'NEW_SELECTION')\n",
    "selectByAttribute(total_lakes_arm_lyr,'SUBSET_SELECTION','\"operate\" IS NULL')\n",
    "selectByAttribute(total_lakes_arm_lyr,'ADD_TO_SELECTION','\"operate\" = 1')\n",
    "selectByAttribute(lakes_iwBR_lyr,'NEW_SELECTION','\"operate\">= 1')\n",
    "fieldmappings = arcpy.FieldMappings()\n",
    "fieldmappings_all = arcpy.FieldMappings()\n",
    "fieldmappings_all.addTable(lakes_iwBR_lyr)#未mask\n",
    "fieldmappings_all.addTable(total_lakes_arm_lyr)\n",
    "field_list = ['area','iwR','iwG','flag','Continent','operate']\n",
    "for field_i in field_list:\n",
    "        field_idx = fieldmappings_all.findFieldMapIndex(field_i)\n",
    "        fieldmappings.addFieldMap(fieldmappings_all.getFieldMap(field_idx))\n",
    "arcpy.Merge_management([lakes_iwBR_lyr,total_lakes_arm_lyr],lakes_iwBR_afterMask,fieldmappings)\n",
    "arcpy.MakeFeatureLayer_management(lakes_iwBR_afterMask,lakes_iwBR_afm_lyr)\n",
    "selectByAttribute(lakes_iwBR_afm_lyr,'NEW_SELECTION','area IS NULL')\n",
    "arcpy.CalculateField_management(lakes_iwBR_afm_lyr, \"area\",  \"!shape.geodesicArea@SQUAREKILOMETERS!\", \"PYTHON_9.3\")"
   ]
  },
  {
   "cell_type": "code",
   "execution_count": 10,
   "metadata": {},
   "outputs": [
    {
     "data": {
      "text/html": [
       "<div class='gpresult'><h2>Messages</h2><div id='messages' data-messages='[\"Start Time: 2024年11月18日 17:11:25\",\"Succeeded at 2024年11月18日 17:11:25 (Elapsed Time: 0.01 seconds)\"]' data-show='true'><div id = 'default' /></div></div>"
      ],
      "text/plain": [
       "<Result 'a_lakes_afm_iwBL_mw_BL'>"
      ]
     },
     "execution_count": 10,
     "metadata": {},
     "output_type": "execute_result"
    }
   ],
   "source": [
    "arcpy.MakeFeatureLayer_management(a_iwBL_merge_with_BL, a_iwBL_merge_with_BL_lyr)"
   ]
  },
  {
   "cell_type": "code",
   "execution_count": 12,
   "metadata": {
    "scrolled": true
   },
   "outputs": [
    {
     "data": {
      "text/html": [
       "<div class='gpresult'><h2>Messages</h2><div id='messages' data-messages='[\"Start Time: 2024年11月18日 17:12:11\",\"Succeeded at 2024年11月18日 17:12:14 (Elapsed Time: 2.42 seconds)\"]' data-show='true'><div id = 'default' /></div></div>"
      ],
      "text/plain": [
       "<Result 'J:\\\\lakemapping\\\\postprocess\\\\v14_241115\\\\stastics_excel\\\\v14_241115a_iwBL_merge_with_BL_stastics.xls'>"
      ]
     },
     "execution_count": 12,
     "metadata": {},
     "output_type": "execute_result"
    }
   ],
   "source": [
    "# out_table=os.path.join(stastics_gdb,f'{stastic_v}_a_iwBL_merge_with_BL_c_stastics')\n",
    "# arcpy.analysis.Statistics(a_iwBL_merge_with_BL_lyr, out_table, [['area',\"sum\"]], ['Continent']) \n",
    "file_name=f'{stastic_v}a_iwBL_merge_with_BL_c_stastics.xls'\n",
    "Output_Excel_File=os.path.join(excel_dir,file_name)\n",
    "arcpy.conversion.TableToExcel(out_table, Output_Excel_File)"
   ]
  },
  {
   "cell_type": "code",
   "execution_count": 15,
   "metadata": {},
   "outputs": [
    {
     "data": {
      "text/html": [
       "<div class='gpresult'><h2>Messages</h2><div id='messages' data-messages='[\"Start Time: 2024年11月18日 17:45:37\",\"Succeeded at 2024年11月18日 17:45:37 (Elapsed Time: 0.62 seconds)\"]' data-show='true'><div id = 'default' /></div></div>"
      ],
      "text/plain": [
       "<Result 'J:\\\\lakemapping\\\\postprocess\\\\v14_241115\\\\stastics_excel\\\\v14_241115_a_iwBL_merge_with_BL_f_stastics.xls'>"
      ]
     },
     "execution_count": 15,
     "metadata": {},
     "output_type": "execute_result"
    }
   ],
   "source": [
    "out_table=os.path.join(stastics_gdb,f'{stastic_v}_a_iwBL_merge_with_BL_f_stastics')\n",
    "arcpy.analysis.Statistics(a_iwBL_merge_with_BL_lyr, out_table, [['area',\"sum\"]], ['flag']) \n",
    "file_name=f'{stastic_v}_a_iwBL_merge_with_BL_f_stastics.xls'\n",
    "Output_Excel_File=os.path.join(excel_dir,file_name)\n",
    "arcpy.conversion.TableToExcel(out_table, Output_Excel_File)"
   ]
  },
  {
   "cell_type": "code",
   "execution_count": 11,
   "metadata": {},
   "outputs": [
    {
     "data": {
      "text/html": [
       "<div class='gpresult'><h2>Messages</h2><div id='messages' data-messages='[\"Start Time: 2024年11月16日 12:01:10\",\"Succeeded at 2024年11月16日 12:01:13 (Elapsed Time: 2.83 seconds)\"]' data-show='true'><div id = 'default' /></div></div>"
      ],
      "text/plain": [
       "<Result 'J:\\\\lakemapping\\\\postprocess\\\\v14_241115\\\\stastics_excel\\\\v14_241115_a_iwBL_merge_with_BL_stastics.xls'>"
      ]
     },
     "execution_count": 11,
     "metadata": {},
     "output_type": "execute_result"
    }
   ],
   "source": [
    "# out_table=os.path.join(stastics_gdb,f'{stastic_v}_a_iwBL_merge_with_BL_stastics')\n",
    "# arcpy.analysis.Statistics(a_iwBL_merge_with_BL_lyr, out_table, [['area',\"sum\"]], ['flag']) \n",
    "# file_name=f'{stastic_v}_a_iwBL_merge_with_BL_stastics.xls'\n",
    "# Output_Excel_File=os.path.join(excel_dir,file_name)\n",
    "arcpy.conversion.TableToExcel(out_table, Output_Excel_File)"
   ]
  },
  {
   "cell_type": "code",
   "execution_count": 13,
   "metadata": {},
   "outputs": [
    {
     "data": {
      "text/html": [
       "<div class='gpresult'><h2>Messages</h2><div id='messages' data-messages='[\"Start Time: 2024年11月18日 15:50:40\",\"Succeeded at 2024年11月18日 15:50:46 (Elapsed Time: 6.41 seconds)\"]' data-show='true'><div id = 'default' /></div></div>"
      ],
      "text/plain": [
       "<Result 'J:\\\\lakemapping\\\\postprocess\\\\v14_241115\\\\0_summary_stastics.gdb\\\\v14_241115_iwBR_afm_stastics'>"
      ]
     },
     "execution_count": 13,
     "metadata": {},
     "output_type": "execute_result"
    }
   ],
   "source": [
    "arcpy.MakeFeatureLayer_management(lakes_iwBR_afterMask,lakes_iwBR_afm_lyr)\n",
    "out_table=os.path.join(stastics_gdb,f'{stastic_v}_iwBR_afm_stastics')\n",
    "arcpy.analysis.Statistics(lakes_iwBR_afm_lyr, out_table, [['area',\"sum\"]], ['Continent','iwBL']) "
   ]
  },
  {
   "cell_type": "code",
   "execution_count": 15,
   "metadata": {},
   "outputs": [
    {
     "data": {
      "text/html": [
       "<div class='gpresult'><h2>Messages</h2><div id='messages' data-messages='[\"Start Time: 2024年11月18日 15:53:30\",\"Succeeded at 2024年11月18日 15:53:34 (Elapsed Time: 4.57 seconds)\"]' data-show='true'><div id = 'default' /></div></div>"
      ],
      "text/plain": [
       "<Result 'J:\\\\lakemapping\\\\postprocess\\\\v14_241115\\\\stastics_excel\\\\v14_241115_a_sum_afm_iwBL_stastics.xls'>"
      ]
     },
     "execution_count": 15,
     "metadata": {},
     "output_type": "execute_result"
    }
   ],
   "source": [
    "input_table_afm_list=[out_table]\n",
    "for i in range(0,8):\n",
    "    continent=eight_continents[i]\n",
    "    out_table=os.path.join(stastics_gdb,f'{stastic_v}_{continent}_niwBR_afm_stastics')\n",
    "    input_table_afm_list.append(out_table)\n",
    "file_name=f'{stastic_v}_a_sum_afm_iwBL_stastics.xls'\n",
    "Output_Excel_File=os.path.join(excel_dir,file_name)\n",
    "arcpy.conversion.TableToExcel(input_table_afm_list, Output_Excel_File)"
   ]
  },
  {
   "cell_type": "code",
   "execution_count": 18,
   "metadata": {},
   "outputs": [
    {
     "data": {
      "text/html": [
       "<div class='gpresult'><h2>Messages</h2><div id='messages' data-messages='[\"Start Time: 2024年11月18日 17:50:15\",\"Succeeded at 2024年11月18日 17:50:20 (Elapsed Time: 4.48 seconds)\"]' data-show='true'><div id = 'default' /></div></div>"
      ],
      "text/plain": [
       "<Result 'J:\\\\lakemapping\\\\postprocess\\\\v14_241115\\\\stastics_excel\\\\v14_241115_sum_lakes_afm_mwBL_stastics.xls'>"
      ]
     },
     "execution_count": 18,
     "metadata": {},
     "output_type": "execute_result"
    }
   ],
   "source": [
    "input_table_b_list=[]\n",
    "for i in range(0,8):\n",
    "    continent=eight_continents[i]\n",
    "    out_table=os.path.join(stastics_gdb,f'{stastic_v}_{continent}_lakes_merge_with_BL_stastics')\n",
    "    input_table_b_list.append(out_table)\n",
    "file_name=f'{stastic_v}_sum_lakes_afm_mwBL_stastics.xls'\n",
    "Output_Excel_File=os.path.join(excel_dir,file_name)\n",
    "arcpy.conversion.TableToExcel(input_table_b_list, Output_Excel_File)"
   ]
  },
  {
   "cell_type": "code",
   "execution_count": 17,
   "metadata": {},
   "outputs": [
    {
     "name": "stdout",
     "output_type": "stream",
     "text": [
      "Siberia\n",
      "North_America\n"
     ]
    }
   ],
   "source": [
    "for i in [1,5]:#range(0,8):\n",
    "    continent=eight_continents[i]\n",
    "    print(continent)\n",
    "    lakes_niwBR=os.path.join(polygon_iwR_gdb,'lakes_'+continent+'_niwBR')\n",
    "    lakes_niwBR_lyr='lakes_'+continent+'_niwBR'\n",
    "    lakes_niwBR_afm_lyr='lakes_'+continent+'_niwBR_afm'\n",
    "    lakes_niwBR_afm=os.path.join(after_mask_gdb,'lakes_'+continent+'_niwBR_afterMask')\n",
    "    \n",
    "    arcpy.MakeFeatureLayer_management(lakes_niwBR,lakes_niwBR_lyr)\n",
    "    selectByAttribute(lakes_niwBR_lyr,'NEW_SELECTION','\"operate\"<> 0 or operate IS NULL')\n",
    "    arcpy.conversion.ExportFeatures(lakes_niwBR_lyr,lakes_niwBR_afm)\n",
    "    \n",
    "    arcpy.MakeFeatureLayer_management(lakes_niwBR_afm,lakes_niwBR_afm_lyr)\n",
    "#     arcpy.AddField_management(lakes_niwBR_afm_lyr, 'iwBL', \"Short\")\n",
    "#     selectByLocation(lakes_niwBR_afm_lyr,'INTERSECT',big_lakes_lyr)\n",
    "#     calculateField(lakes_niwBR_afm_lyr,'iwBL',1)\n",
    "#     selectByAttribute(lakes_niwBR_afm_lyr,'NEW_SELECTION','iwBL IS NULL')\n",
    "#     calculateField(lakes_niwBR_afm_lyr,'iwBL',0)\n",
    "#     selectByAttribute(lakes_niwBR_afm_lyr,'NEW_SELECTION','')\n",
    "#     out_table=os.path.join(stastics_gdb,f'{stastic_v}_{continent}_niwBR_afm_stastics')\n",
    "#     arcpy.analysis.Statistics(lakes_niwBR_afm_lyr, out_table, [['area',\"sum\"]], ['iwBL']) "
   ]
  },
  {
   "cell_type": "code",
   "execution_count": 13,
   "metadata": {},
   "outputs": [
    {
     "name": "stdout",
     "output_type": "stream",
     "text": [
      "Siberia\n",
      "North_America\n"
     ]
    }
   ],
   "source": [
    "for i in [1,5]:\n",
    "    continent=eight_continents[i]\n",
    "    print(continent)\n",
    "    b_lake_afm_merge_with_BL=os.path.join(mwBL_gdb,f'b{i+1}_{continent}_polygon_afm_mwBL')\n",
    "    b_lake_afm_merge_with_BL_lyr=f'b{i+1}_{continent}_lake_afm_merge_with_BL'\n",
    "    if i ==5:\n",
    "        selectByAttribute(a_iwBL_merge_with_BL_lyr,'NEW_SELECTION',f\"Continent = '{continent}'\")\n",
    "        selectByAttribute(lakes_iwBR_afm_lyr,'NEW_SELECTION',f\"iwBL = 0 AND Continent = '{continent}'\")\n",
    "        lakes_niwBR_afm=os.path.join(after_mask_gdb,'lakes_'+continent+'_niwBR_afterMask')\n",
    "        lakes_niwBR_afm_lyr='lakes_'+continent+'_niwBR_afm'\n",
    "        arcpy.MakeFeatureLayer_management(lakes_niwBR_afm,lakes_niwBR_afm_lyr)\n",
    "        selectByAttribute(lakes_niwBR_afm_lyr,'NEW_SELECTION',f\"iwBL = 0\")\n",
    "\n",
    "        field_list=['area','operate','iwBL','flag']\n",
    "        fieldmappings = arcpy.FieldMappings()\n",
    "        fieldmappings_all = arcpy.FieldMappings()\n",
    "        fieldmappings_all.addTable(lakes_niwBR_afm_lyr)\n",
    "        for field_i in field_list:\n",
    "            field_idx = fieldmappings_all.findFieldMapIndex(field_i)\n",
    "            fieldmappings.addFieldMap(fieldmappings_all.getFieldMap(field_idx))\n",
    "\n",
    "        arcpy.Merge_management([lakes_niwBR_afm_lyr,a_iwBL_merge_with_BL_lyr,lakes_iwBR_afm_lyr],b_lake_afm_merge_with_BL,field_mappings=fieldmappings)\n",
    "    arcpy.MakeFeatureLayer_management(b_lake_afm_merge_with_BL, b_lake_afm_merge_with_BL_lyr)\n",
    "#     选出和big glakes合并的湖泊及原先flag=3、4的湖泊，赋值2.5\n",
    "    selectByAttribute(b_lake_afm_merge_with_BL_lyr,'NEW_SELECTION','flag > 2 OR flag = 0 OR flag IS NULL')\n",
    "    selectByLocation(b_lake_afm_merge_with_BL_lyr, 'INTERSECT', GLAKES_gte1_Rser_lyr,'SUBSET_SELECTION')\n",
    "    calculateField(b_lake_afm_merge_with_BL_lyr, \"flag\",2.5)\n",
    "    selectByAttribute(b_lake_afm_merge_with_BL_lyr,'NEW_SELECTION','')\n",
    "    out_table=os.path.join(stastics_gdb,f'{stastic_v}_{continent}_lakes_merge_with_BL_stastics')\n",
    "    arcpy.analysis.Statistics(b_lake_afm_merge_with_BL_lyr, out_table, [['area',\"sum\"]], ['flag']) "
   ]
  },
  {
   "cell_type": "code",
   "execution_count": 9,
   "metadata": {},
   "outputs": [
    {
     "data": {
      "text/html": [
       "<div class='gpresult'><h2>Messages</h2><div id='messages' data-messages='[\"Start Time: 2024年11月18日 17:09:53\",\"Succeeded at 2024年11月18日 17:09:53 (Elapsed Time: 0.11 seconds)\"]' data-show='true'><div id = 'default' /></div></div>"
      ],
      "text/plain": [
       "<Result 'GLAKES_gte1_Rser'>"
      ]
     },
     "execution_count": 9,
     "metadata": {},
     "output_type": "execute_result"
    }
   ],
   "source": [
    "arcpy.MakeFeatureLayer_management(GLAKES_gte1_Rser,GLAKES_gte1_Rser_lyr)"
   ]
  },
  {
   "cell_type": "code",
   "execution_count": 10,
   "metadata": {},
   "outputs": [
    {
     "name": "stdout",
     "output_type": "stream",
     "text": [
      "['Asia', 'Siberia', 'Africa', 'Europe', 'Oceania_Anta', 'North_America', 'Arctic', 'South_America']\n"
     ]
    }
   ],
   "source": [
    "print(eight_continents)"
   ]
  },
  {
   "cell_type": "code",
   "execution_count": 125,
   "metadata": {},
   "outputs": [
    {
     "name": "stdout",
     "output_type": "stream",
     "text": [
      "start pairwise intersect\n",
      "start transform to point\n",
      "start calculate field\n"
     ]
    },
    {
     "data": {
      "text/html": [
       "<div class='gpresult'><h2>Messages</h2><div id='messages' data-messages='[\"Start Time: 2024年11月27日 10:19:40\",\"Succeeded at 2024年11月27日 10:19:41 (Elapsed Time: 0.69 seconds)\"]' data-show='true'><div id = 'default' /></div></div>"
      ],
      "text/plain": [
       "<Result 'd_lakes_in_arid_grids_pi_point'>"
      ]
     },
     "execution_count": 125,
     "metadata": {},
     "output_type": "execute_result"
    }
   ],
   "source": [
    "# merge_list=[]\n",
    "# d_lakes_in_arid_grids=os.path.join(mwPLD_gdb,'d_lakes_in_arid_grids')\n",
    "# d_lakes_in_arid_grids_lyr='d_lakes_in_arid_grids'\n",
    "# d_lakes_in_arid_grids_point=os.path.join(mwBG_point_gdb,'d_lakes_in_arid_grids_point')\n",
    "# d_lakes_in_arid_grids_point_lyr='d_lakes_in_arid_grids_point'\n",
    "\n",
    "# d_lakes_in_arid_grids_pi=os.path.join(temp_gdb,'d_lakes_in_arid_grids_pi')\n",
    "# d_lakes_in_arid_grids_pi_lyr='d_lakes_in_arid_grids_pi'\n",
    "# d_lakes_in_arid_grids_pi_point=os.path.join(temp_gdb,'d_lakes_in_arid_grids_pi_point')\n",
    "# d_lakes_in_arid_grids_pi_point_lyr='d_lakes_in_arid_grids_pi_point'\n",
    "\n",
    "# Global_grid_shp_1degree_Arid=os.path.join(temp_gdb,'Global_grid_shp_1degree_Arid')\n",
    "# Global_grid_shp_1degree_Arid_lyr='Global_grid_shp_1degree_Arid'\n",
    "# # arcpy.MakeFeatureLayer_management(Global_grid_shp_1degree_Arid,Global_grid_shp_1degree_Arid_lyr)\n",
    "# for i in range(0,8):\n",
    "#     if i !=6:\n",
    "#         continent=eight_continents[i]\n",
    "#         print(continent)\n",
    "#         d_lake_afm_mw_BL_PLD=os.path.join(mwPLD_gdb,f'd{i+1}_{continent}_lakes')\n",
    "#         d_lake_afm_mw_BL_PLD_lyr=f'd{i+1}_{continent}_lakes_mwPLD'\n",
    "#         d_lake_afm_mw_BL_PLD_point=os.path.join(mwPLD_point_gdb,f'd{i+1}_{continent}_lakes_point')\n",
    "#         d_lake_afm_mw_BL_PLD_point_lyr=f'd{i+1}_{continent}_lakes_point_lyr'\n",
    "# #         arcpy.MakeFeatureLayer_management(d_lake_afm_mw_BL_PLD,d_lake_afm_mw_BL_PLD_lyr)\n",
    "#         selectByLocation(d_lake_afm_mw_BL_PLD_lyr, 'INTERSECT', Global_grid_shp_1degree_Arid_lyr,'NEW_SELECTION')\n",
    "#         merge_list.append(d_lake_afm_mw_BL_PLD_lyr)\n",
    "        \n",
    "# print('start merge')\n",
    "# arcpy.Merge_management(merge_list,d_lakes_in_arid_grids)\n",
    "# arcpy.MakeFeatureLayer_management(d_lakes_in_arid_grids,d_lakes_in_arid_grids_lyr)\n",
    "\n",
    "# print('start transform to point')\n",
    "# arcpy.management.FeatureToPoint(d_lakes_in_arid_grids_lyr,d_lakes_in_arid_grids_point,'INSIDE')\n",
    "# arcpy.MakeFeatureLayer_management(d_lakes_in_arid_grids_point,d_lakes_in_arid_grids_point_lyr)\n",
    "# arcpy.AddField_management(d_lakes_in_arid_grids_point_lyr,'hu_c1','Short')\n",
    "# arcpy.AddField_management(d_lakes_in_arid_grids_point_lyr,'hu_c3','Short')\n",
    "# arcpy.AddField_management(d_lakes_in_arid_grids_point_lyr,'hu_c10','Short')\n",
    "# arcpy.AddField_management(d_lakes_in_arid_grids_point_lyr,'hu_c100','Short')\n",
    "# selectByAttribute(d_lakes_in_arid_grids_point_lyr,'NEW_SELECTION',\"lake_type =0\")\n",
    "# arcpy.CalculateField_management(d_lakes_in_arid_grids_point_lyr,'hu_c1',1)\n",
    "# selectByAttribute(d_lakes_in_arid_grids_point_lyr,'NEW_SELECTION',\"lake_type =1\")\n",
    "# arcpy.CalculateField_management(d_lakes_in_arid_grids_point_lyr,'hu_c3',1)\n",
    "# selectByAttribute(d_lakes_in_arid_grids_point_lyr,'NEW_SELECTION',\"lake_type =2\")\n",
    "# arcpy.CalculateField_management(d_lakes_in_arid_grids_point_lyr,'hu_c10',1)\n",
    "# selectByAttribute(d_lakes_in_arid_grids_point_lyr,'NEW_SELECTION',\"lake_type =3\")\n",
    "# arcpy.CalculateField_management(d_lakes_in_arid_grids_point_lyr,'hu_c100',1)\n",
    "print('start pairwise intersect')\n",
    "arcpy.analysis.PairwiseIntersect([d_lakes_in_arid_grids_lyr, Global_grid_shp_1degree_Arid_lyr],d_lakes_in_arid_grids_pi,join_attributes='NO_FID')\n",
    "arcpy.MakeFeatureLayer_management(d_lakes_in_arid_grids_pi,d_lakes_in_arid_grids_pi_lyr)\n",
    "selectByLocation(d_lakes_in_arid_grids_pi_lyr,'SHARE_A_LINE_SEGMENT_WITH',Global_grid_shp_1degree_Arid_lyr,'NEW_SELECTION')\n",
    "arcpy.CalculateField_management(d_lakes_in_arid_grids_pi_lyr,'lake_area', \"!shape.geodesicArea@SQUAREKILOMETERS!\", \"PYTHON_9.3\")\n",
    "\n",
    "print('start transform to point')\n",
    "arcpy.management.FeatureToPoint(d_lakes_in_arid_grids_pi_lyr,d_lakes_in_arid_grids_pi_point,'INSIDE')\n",
    "arcpy.MakeFeatureLayer_management(d_lakes_in_arid_grids_pi_point,d_lakes_in_arid_grids_pi_point_lyr)\n",
    "\n",
    "print('start calculate field')\n",
    "arcpy.AddField_management(d_lakes_in_arid_grids_pi_point_lyr,'hu_a1','Double')\n",
    "selectByAttribute(d_lakes_in_arid_grids_pi_point_lyr,'NEW_SELECTION',\"lake_type = 0\")\n",
    "arcpy.CalculateField_management(d_lakes_in_arid_grids_pi_point_lyr,'hu_a1','!lake_area!')\n",
    "\n",
    "arcpy.AddField_management(d_lakes_in_arid_grids_pi_point_lyr,'hu_a3','Double')\n",
    "selectByAttribute(d_lakes_in_arid_grids_pi_point_lyr,'NEW_SELECTION',\"lake_type = 1\")\n",
    "arcpy.CalculateField_management(d_lakes_in_arid_grids_pi_point_lyr,'hu_a3','!lake_area!')\n",
    "\n",
    "arcpy.AddField_management(d_lakes_in_arid_grids_pi_point_lyr,'hu_a10','Double')\n",
    "selectByAttribute(d_lakes_in_arid_grids_pi_point_lyr,'NEW_SELECTION',\"lake_type = 2\")\n",
    "arcpy.CalculateField_management(d_lakes_in_arid_grids_pi_point_lyr,'hu_a10','!lake_area!')\n",
    "\n",
    "arcpy.AddField_management(d_lakes_in_arid_grids_pi_point_lyr,'hu_a100','Double')\n",
    "selectByAttribute(d_lakes_in_arid_grids_pi_point_lyr,'NEW_SELECTION',\"lake_type = 3\")\n",
    "arcpy.CalculateField_management(d_lakes_in_arid_grids_pi_point_lyr,'hu_a100','!lake_area!')"
   ]
  },
  {
   "cell_type": "code",
   "execution_count": 18,
   "metadata": {},
   "outputs": [],
   "source": [
    "# arcpy.AddField_management('d_Arid_lakes','lake_type','Short')\n",
    "# selectByAttribute('d_Arid_lakes','NEW_SELECTION',\"lake_area<0.01\")\n",
    "# arcpy.CalculateField_management('d_Arid_lakes','lake_type',0)\n",
    "# selectByAttribute('d_Arid_lakes','NEW_SELECTION',\"lake_area>=0.01 and lake_area <0.03\")\n",
    "# arcpy.CalculateField_management('d_Arid_lakes','lake_type',1)\n",
    "# selectByAttribute(d_lake_afm_mw_BL_PLD_lyr,'NEW_SELECTION',\"lake_area>=0.03 and lake_area <1\")\n",
    "# arcpy.CalculateField_management('d_Arid_lakes','lake_type',2)\n",
    "# selectByAttribute('d_Arid_lakes','NEW_SELECTION',\"lake_area>=1 and lake_area <100\")\n",
    "# arcpy.CalculateField_management('d_Arid_lakes','lake_type',3)\n",
    "# selectByAttribute('d_Arid_lakes','NEW_SELECTION',\"lake_area>=100\")\n",
    "# arcpy.CalculateField_management('d_Arid_lakes','lake_type',4)"
   ]
  },
  {
   "cell_type": "code",
   "execution_count": null,
   "metadata": {},
   "outputs": [],
   "source": []
  }
 ],
 "metadata": {
  "kernelspec": {
   "display_name": "ArcGISPro",
   "language": "Python",
   "name": "python3"
  },
  "language_info": {
   "file_extension": ".py",
   "name": "python",
   "version": "3"
  }
 },
 "nbformat": 4,
 "nbformat_minor": 2
}
