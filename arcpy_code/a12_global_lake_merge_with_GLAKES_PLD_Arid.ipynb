{
 "cells": [
  {
   "cell_type": "code",
   "execution_count": 1,
   "metadata": {},
   "outputs": [],
   "source": [
    "import arcpy\n",
    "from arcpy.sa import *\n",
    "import os\n",
    "import time\n",
    "arcpy.env.overwriteOutput = True"
   ]
  },
  {
   "cell_type": "code",
   "execution_count": 2,
   "metadata": {},
   "outputs": [],
   "source": [
    "# load input features and make layer\n",
    "version='v16_250104'\n",
    "sub_v=''\n",
    "stastic_v=f'{version}{sub_v}'\n",
    "# stastic_v=f'{version}'\n",
    "output_dir = os.path.join(r'J:\\lakemapping\\postprocess',version)\n",
    "\n",
    "auxiliary_dataset_gdb=r'J:\\lakemapping\\auxiliary_dataset.gdb'\n",
    "stastics_gdb=os.path.join(output_dir,f'0_summary_stastics{sub_v}.gdb')\n",
    "river_mask_gdb=os.path.join(output_dir,'2_polygon_iw_River.gdb')\n",
    "after_mask_gdb=os.path.join(output_dir,f'3_polygon_after_rivermask.gdb')\n",
    "mwBL_gdb=os.path.join(output_dir,f'4_polygon_afm_mergeWith_BigLake.gdb')\n",
    "merge_data_gdb=os.path.join(output_dir,f'4_merge_process.gdb')\n",
    "merge_gdb=os.path.join(output_dir,f'5_polygon_afm_mergeWith_GLAKES_PLD.gdb')\n",
    "point_gdb=os.path.join(output_dir,f'6_point{sub_v}.gdb')\n",
    "excel_dir=os.path.join(output_dir,f'stastics_excel{sub_v}')\n",
    "os.makedirs(excel_dir, exist_ok=True)\n",
    "new_PLD_gdb=r'J:\\lakemapping\\PLD\\PLD.gdb'\n",
    "temp_gdb=os.path.join(output_dir,f'7_correct_temp_file{sub_v}.gdb')#\n",
    "if not os.path.exists(mwBL_gdb):\n",
    "    arcpy.CreateFileGDB_management(output_dir,'4_polygon_afm_mergeWith_BigLake.gdb')\n",
    "if not os.path.exists(stastics_gdb):\n",
    "    arcpy.CreateFileGDB_management(output_dir,f'0_summary_stastics{sub_v}.gdb')\n",
    "if not os.path.exists(point_gdb):\n",
    "    arcpy.CreateFileGDB_management(output_dir,f'6_point{sub_v}.gdb')\n",
    "if not os.path.exists(merge_gdb):\n",
    "    arcpy.CreateFileGDB_management(output_dir,f'5_polygon_afm_mergeWith_GLAKES_PLD{sub_v}.gdb')\n",
    "if not os.path.exists(merge_data_gdb):\n",
    "    arcpy.CreateFileGDB_management(output_dir,f'4_merge_process.gdb')\n",
    "if not os.path.exists(temp_gdb):\n",
    "    arcpy.CreateFileGDB_management(output_dir,f'7_correct_temp_file{sub_v}.gdb')"
   ]
  },
  {
   "cell_type": "code",
   "execution_count": 3,
   "metadata": {},
   "outputs": [
    {
     "name": "stdout",
     "output_type": "stream",
     "text": [
      "v16_250104\n"
     ]
    }
   ],
   "source": [
    "print(stastic_v)"
   ]
  },
  {
   "cell_type": "code",
   "execution_count": 4,
   "metadata": {},
   "outputs": [],
   "source": [
    "PLD_Count_Area_SJ_lyr='Global_grid_shp_1degree_PLD_Count_Area'"
   ]
  },
  {
   "cell_type": "code",
   "execution_count": 5,
   "metadata": {},
   "outputs": [],
   "source": [
    "seven_continents=['Asia','Africa','Europe','Oceania_Anta','North_America','South_America']\n",
    "eight_continents=['Asia','Siberia','Africa','Europe','Oceania_Anta','North_America','Arctic','South_America']"
   ]
  },
  {
   "cell_type": "code",
   "execution_count": 6,
   "metadata": {},
   "outputs": [],
   "source": [
    "Arid_region_lyr='Global_AI_Reclassify_Clip_simple'\n",
    "PLD_list=['af','eu','si','as','au','sa','na','ar','gr']"
   ]
  },
  {
   "cell_type": "code",
   "execution_count": 7,
   "metadata": {},
   "outputs": [
    {
     "data": {
      "text/html": [
       "<div class='gpresult'><h2>Messages</h2><div id='messages' data-messages='[\"Start Time: 2025年1月13日 19:50:39\",\"Succeeded at 2025年1月13日 19:50:39 (Elapsed Time: 0.05 seconds)\"]' data-show='true'><div id = 'default' /></div></div>"
      ],
      "text/plain": [
       "<Result 'GeoDAR'>"
      ]
     },
     "execution_count": 7,
     "metadata": {},
     "output_type": "execute_result"
    }
   ],
   "source": [
    "osm_reservoir=os.path.join(auxiliary_dataset_gdb,'osm_natural_water_reservoir')\n",
    "arcpy.MakeFeatureLayer_management(osm_reservoir,'osm_reservoir')\n",
    "\n",
    "GeoDAR=r'D:\\lakemapping\\0_auxiliary_data\\GeoDAR\\GeoDAR_v10_v11\\GeoDAR_v11_reservoirs.shp'\n",
    "arcpy.MakeFeatureLayer_management(GeoDAR,'GeoDAR')"
   ]
  },
  {
   "cell_type": "code",
   "execution_count": 8,
   "metadata": {},
   "outputs": [
    {
     "data": {
      "text/html": [
       "<div class='gpresult'><h2>Messages</h2><div id='messages' data-messages='[\"Start Time: 2025年1月8日 13:07:22\",\"Succeeded at 2025年1月8日 13:07:22 (Elapsed Time: 0.10 seconds)\"]' data-show='true'><div id = 'default' /></div></div>"
      ],
      "text/plain": [
       "<Result 'GLAKES_Res'>"
      ]
     },
     "execution_count": 8,
     "metadata": {},
     "output_type": "execute_result"
    }
   ],
   "source": [
    "GLAKES_Res=os.path.join(auxiliary_dataset_gdb,'GLAKES_Res')\n",
    "arcpy.MakeFeatureLayer_management(GLAKES_Res,'GLAKES_Res')\n",
    "\n",
    "# GLAKES_natural_lake=os.path.join(auxiliary_dataset_gdb,'GLAKES_gte1_natural_lake')\n",
    "# arcpy.MakeFeatureLayer_management(GLAKES_natural_lake,'GLAKES_natural_lake')"
   ]
  },
  {
   "cell_type": "code",
   "execution_count": 8,
   "metadata": {},
   "outputs": [],
   "source": [
    "SHIFT=os.path.join(auxiliary_dataset_gdb,'SHIFT')\n",
    "SHIFT_lyr='SHIFT'\n",
    "# arcpy.MakeFeatureLayer_management(SHIFT,SHIFT_lyr)"
   ]
  },
  {
   "cell_type": "code",
   "execution_count": 71,
   "metadata": {},
   "outputs": [
    {
     "data": {
      "text/html": [
       "<div class='gpresult'><h2>Messages</h2><div id='messages' data-messages='[\"Start Time: 2025年1月9日 9:33:48\",\"Succeeded at 2025年1月9日 9:33:48 (Elapsed Time: 0.12 seconds)\"]' data-show='true'><div id = 'default' /></div></div>"
      ],
      "text/plain": [
       "<Result 'si'>"
      ]
     },
     "execution_count": 71,
     "metadata": {},
     "output_type": "execute_result"
    }
   ],
   "source": [
    "continent=r'D:\\lakemapping\\0_auxiliary_data\\World_Continents\\World_Continents.shp'\n",
    "continent_lyr='continent'\n",
    "arcpy.MakeFeatureLayer_management(continent,continent_lyr)\n",
    "\n",
    "ar=os.path.join(auxiliary_dataset_gdb,'ar')\n",
    "arcpy.MakeFeatureLayer_management(ar,'ar')\n",
    "\n",
    "ar=os.path.join(auxiliary_dataset_gdb,'si')\n",
    "arcpy.MakeFeatureLayer_management(ar,'si')"
   ]
  },
  {
   "cell_type": "code",
   "execution_count": 7,
   "metadata": {},
   "outputs": [],
   "source": [
    "polygon_afm_mwPG_Count_SJ=os.path.join(temp_gdb,'Global_grid_shp_1degree_hu_Count')\n",
    "polygon_afm_mwPG_Count_SJ_lyr='Global_grid_shp_1degree_hu_Count'\n",
    "polygon_afm_mwPG_Count_Area_SJ=os.path.join(temp_gdb,'Global_grid_shp_1degree_hu_Count_Area')\n",
    "polygon_afm_mwPG_Count_Area_SJ_lyr='Global_grid_shp_1degree_hu_Count_Area'"
   ]
  },
  {
   "cell_type": "code",
   "execution_count": 8,
   "metadata": {},
   "outputs": [],
   "source": [
    "lakes_iwBR_SJ=os.path.join(river_mask_gdb,'total_iwBR_arm_SJ')\n",
    "total_lakes_arm=os.path.join(river_mask_gdb,'total_lakes_arm_singlepart')\n",
    "lakes_iwBR_afterMask=os.path.join(after_mask_gdb,'lakes_iwBR_afterMask')\n",
    "total_lakes_arm_lyr='lakes_arm'\n",
    "lakes_iwBR_SJ_lyr='lakes_iwBR_arm_SJ'\n",
    "lakes_iwBR_afm_lyr='lakes_iwBR_afm'"
   ]
  },
  {
   "cell_type": "code",
   "execution_count": 9,
   "metadata": {},
   "outputs": [],
   "source": [
    "def selectByLocation(inputFeature,overlapType,selectionFeature,selectionType='NEW_SELECTION'):\n",
    "    arcpy.SelectLayerByLocation_management(inputFeature,overlapType,selectionFeature,selection_type=selectionType)\n",
    "    \n",
    "def selectByAttribute(inputFeature,selectionType='NEW_SELECTION',code=''):\n",
    "    arcpy.management.SelectLayerByAttribute(inputFeature,selectionType,code)\n",
    "    \n",
    "def calculateField(inputFeature,field,code):\n",
    "    arcpy.CalculateField_management(inputFeature, field,code)\n",
    "\n",
    "def cal_continent(lyr):\n",
    "    arcpy.AddField_management(lyr, 'Continent', \"Text\")\n",
    "    for i in range(0,6):\n",
    "        continent=seven_continents[i]\n",
    "        selectByAttribute(continent_lyr,'NEW_SELECTION',f\"Continent = '{continent}'\")\n",
    "        selectByAttribute(lyr,'NEW_SELECTION',\"Continent IS NULL\")\n",
    "        selectByLocation(lyr,'HAVE_THEIR_CENTER_IN',continent_lyr,'SUBSET_SELECTION')\n",
    "        calculateField(lyr,'Continent',f\"'{continent}'\")\n",
    "    selectByAttribute(lyr,'NEW_SELECTION',\"Continent = 'Asia'\")\n",
    "    selectByLocation(lyr,'HAVE_THEIR_CENTER_IN','si','SUBSET_SELECTION')\n",
    "    arcpy.CalculateField_management(lyr, \"continent\",\"'Siberia'\")\n",
    "    selectByLocation(lyr,'HAVE_THEIR_CENTER_IN','ar','NEW_SELECTION')\n",
    "    arcpy.CalculateField_management(lyr, \"Continent\",\"'Arctic'\")\n",
    "        \n",
    "def add_Res_flag(inputFeature):\n",
    "    selectByAttribute(inputFeature,'NEW_SELECTION', 'flag IS NULL OR \"flag\" <= 1 ')\n",
    "    selectByLocation(inputFeature,'INTERSECT',osm_reservoir,'SUBSET_SELECTION')\n",
    "    arcpy.CalculateField_management(inputFeature, 'flag',  3)\n",
    "\n",
    "    selectByAttribute(inputFeature,'NEW_SELECTION', 'flag IS NULL OR \"flag\" <= 1 ')\n",
    "    selectByLocation(inputFeature,'INTERSECT',GeoDAR,'SUBSET_SELECTION')\n",
    "    arcpy.CalculateField_management(inputFeature, 'flag',  4)"
   ]
  },
  {
   "cell_type": "code",
   "execution_count": 10,
   "metadata": {},
   "outputs": [],
   "source": [
    "def cal_lake_type(lyr,area_column):\n",
    "    lake_list=[0,0.01,0.03,0.1,1,100,1000000]\n",
    "    arcpy.AddField_management(lyr,'lake_type','Short')\n",
    "    for i in range(6):\n",
    "        selectByAttribute(lyr,'NEW_SELECTION',f\"{area_column}>={lake_list[i]} AND {area_column}<{lake_list[i+1]}\")\n",
    "        arcpy.CalculateField_management(lyr,'lake_type',i)"
   ]
  },
  {
   "cell_type": "code",
   "execution_count": 11,
   "metadata": {},
   "outputs": [],
   "source": [
    "GLAKES=r'D:\\lakemapping\\0_auxiliary_data\\GLAKES\\GLAKES.gdb\\GLAKES'\n",
    "GLAKES_new_gdb=r'D:\\lakemapping\\0_auxiliary_data\\GLAKES\\GLAKES_after_30p_land_mask.gdb'\n",
    "GLAKES_iwSHIFT=os.path.join(GLAKES_new_gdb,'au1_GLAKES_iwSHIFT')\n",
    "GLAKES_niwSHIFT=os.path.join(GLAKES_new_gdb,'au1_GLAKES_niwSHIFT')\n",
    "\n",
    "GLAKES_lyr='GLAKES'\n",
    "GLAKES_iwSHIFT_lyr='au1_GLAKES_iwSHIFT'\n",
    "GLAKES_niwSHIFT_lyr='au1_GLAKES_niwSHIFT'\n",
    "GLAKES_land_mask_lyr='au1_GLAKES_land_mask_iwSHIFT'\n",
    "GLAKES_iwSHIFT_clip=os.path.join(GLAKES_new_gdb,'GLAKES_iwSHIFT_clip')\n",
    "GLAKES_iwSHIFT_clip_sp=os.path.join(GLAKES_new_gdb,'GLAKES_iwSHIFT_clip_sp')\n",
    "GLAKES_iwSHIFT_clip_sp_lyr='GLAKES_iwSHIFT_clip_sp'\n",
    "GLAKES_iwSHIFT_afm=os.path.join(GLAKES_new_gdb,'au2_GLAKES_iwSHIFT_after_mask_gt3ha')\n",
    "GLAKES_iwSHIFT_afm_lyr='GLAKES_iwSHIFT_after_mask_gt3ha'\n",
    "GLAKES_iwSHIFT_afm_keep_arid=os.path.join(GLAKES_new_gdb,'au2_GLAKES_iwSHIFT_after_mask_gt3ha_keep_arid')\n",
    "GLAKES_iwSHIFT_afm_keep_arid_lyr='au2_GLAKES_iwSHIFT_after_mask_gt3ha_keep_arid'"
   ]
  },
  {
   "cell_type": "code",
   "execution_count": 12,
   "metadata": {},
   "outputs": [],
   "source": [
    "GLAKES_gte1_Rser=os.path.join(merge_data_gdb,'GLAKES_gte1_Rser_eraser')\n",
    "GLAKES_gte1_Rser_lyr='GLAKES_gte1_Rser'\n",
    "\n",
    "GLAKES_merge_file=os.path.join(merge_data_gdb,'GLAKES_for_merge')\n",
    "GLAKES_merge_file_point=os.path.join(merge_data_gdb,'GLAKES_for_merge_point')\n",
    "\n",
    "pond_region=r'D:\\lakemapping\\10_paper_writting\\figure\\8_visualize.gdb\\Region_1_pond_for_GLAKES_merge'\n",
    "GLAKES_merge_file_lyr='GLAKES_for_merge'\n",
    "GLAKES_merge_file_point_lyr='GLAKES_for_merge_point'"
   ]
  },
  {
   "cell_type": "code",
   "execution_count": 13,
   "metadata": {},
   "outputs": [],
   "source": [
    "a_iwBL_merge_with_BL_raw=os.path.join(after_mask_gdb,'a_total_lakes_afm_iwBL_merge_with_BigLakes_raw')\n",
    "a_iwBL_merge_with_BL=os.path.join(after_mask_gdb,'a_total_lakes_afm_iwBL_merge_with_BigLakes')\n",
    "a_iwBL_merge_with_BL_raw_lyr='a_lakes_afm_iwBL_mw_BL_raw'\n",
    "a_iwBL_merge_with_BL_lyr='a_lakes_afm_iwBL_mw_BL'"
   ]
  },
  {
   "cell_type": "code",
   "execution_count": 14,
   "metadata": {},
   "outputs": [],
   "source": [
    "big_lakes=os.path.join(after_mask_gdb,f'total_big_lakes')\n",
    "big_lakes_lyr=f'big_lakes'"
   ]
  },
  {
   "cell_type": "code",
   "execution_count": 15,
   "metadata": {},
   "outputs": [],
   "source": [
    "three_dataset_dissolve_SJ=os.path.join(merge_data_gdb,'three_dataset_dissolve_SJ')\n",
    "three_dataset_dissolve_SJ_lyr=f'three_dataset_dissolve_SJ'\n",
    "three_dataset_dissolve_SJ_SJ=os.path.join(merge_data_gdb,'three_dataset_dissolve_SJ_SJ')\n",
    "three_dataset_dissolve_SJ_SJ_lyr='three_dataset_dissolve_SJ_SJ'"
   ]
  },
  {
   "cell_type": "code",
   "execution_count": 16,
   "metadata": {},
   "outputs": [],
   "source": [
    "PLD_Arid=os.path.join(merge_data_gdb,'PLD_Arid')\n",
    "PLD_Arid_point=os.path.join(merge_data_gdb,'PLD_Arid_point')\n",
    "\n",
    "Arid_region=r'D:\\lakemapping\\0_auxiliary_data\\AI\\Global-AI_ET0_annual_v3\\Global-AI_ET0_v3_annual\\Global_AI_Reclassify_Clip_simple.shp'\n",
    "Arid_region_lyr='Global_AI_Reclassify_Clip_simple'\n",
    "\n",
    "three_dataset_merge=os.path.join(merge_data_gdb,'three_dataset_merge')\n",
    "three_dataset_merge_lyr=f'three_dataset_merge'\n",
    "three_dataset_dissolve=os.path.join(merge_data_gdb,'three_dataset_dissolve')\n",
    "three_dataset_dissolve_lyr=f'three_dataset_dissolve'\n",
    "\n",
    "b_merge_file=os.path.join(merge_data_gdb,'b_for_merge')\n",
    "b_merge_file_point=os.path.join(merge_data_gdb,'b_for_merge_point')\n",
    "\n",
    "three_dataset_dissolve_for_merge=os.path.join(mwBL_gdb,'three_dataset_dissolve_for_merge')\n",
    "b_merge_layer='three_dataset_dissolve_for_merge'"
   ]
  },
  {
   "cell_type": "code",
   "execution_count": null,
   "metadata": {},
   "outputs": [],
   "source": []
  },
  {
   "cell_type": "code",
   "execution_count": 104,
   "metadata": {},
   "outputs": [
    {
     "data": {
      "text/html": [
       "<div class='gpresult'><h2>Messages</h2><div id='messages' data-messages='[\"Start Time: 2025年1月6日 21:50:49\",\"Succeeded at 2025年1月6日 21:50:49 (Elapsed Time: 0.01 seconds)\"]' data-show='true'><div id = 'default' /></div></div>"
      ],
      "text/plain": [
       "<Result 'Global_AI_Reclassify_Clip_simple'>"
      ]
     },
     "execution_count": 104,
     "metadata": {},
     "output_type": "execute_result"
    }
   ],
   "source": [
    "arcpy.MakeFeatureLayer_management(Arid_region,Arid_region_lyr)"
   ]
  },
  {
   "cell_type": "markdown",
   "metadata": {
    "heading_collapsed": true
   },
   "source": [
    "## 1 处理GLAKES"
   ]
  },
  {
   "cell_type": "code",
   "execution_count": 26,
   "metadata": {
    "hidden": true
   },
   "outputs": [
    {
     "data": {
      "text/html": [
       "<div class='gpresult'><h2>Messages</h2><div id='messages' data-messages='[\"Start Time: 2024年12月19日 16:27:56\",\"Succeeded at 2024年12月19日 16:27:56 (Elapsed Time: 0.04 seconds)\"]' data-show='true'><div id = 'default' /></div></div>"
      ],
      "text/plain": [
       "<Result 'GLAKES'>"
      ]
     },
     "execution_count": 26,
     "metadata": {},
     "output_type": "execute_result"
    }
   ],
   "source": [
    "arcpy.MakeFeatureLayer_management(GLAKES,GLAKES_lyr)"
   ]
  },
  {
   "cell_type": "markdown",
   "metadata": {
    "hidden": true
   },
   "source": [
    "### 1.1 选择shift内的，mask"
   ]
  },
  {
   "cell_type": "code",
   "execution_count": 142,
   "metadata": {
    "hidden": true
   },
   "outputs": [
    {
     "data": {
      "text/html": [
       "<div class='gpresult'><h2>Messages</h2><div id='messages' data-messages='[\"Start Time: 2025年1月7日 11:31:28\",\"Succeeded at 2025年1月7日 11:33:30 (Elapsed Time: 2 minutes 1 seconds)\"]' data-show='true'><div id = 'default' /></div></div>"
      ],
      "text/plain": [
       "<Result 'D:\\\\lakemapping\\\\0_auxiliary_data\\\\GLAKES\\\\GLAKES_after_30p_land_mask.gdb\\\\au1_GLAKES_niwSHIFT'>"
      ]
     },
     "execution_count": 142,
     "metadata": {},
     "output_type": "execute_result"
    }
   ],
   "source": [
    "# selectByLocation(GLAKES_lyr,'INTERSECT',SHIFT_lyr,'NEW_SELECTION')\n",
    "# arcpy.conversion.ExportFeatures(GLAKES_lyr,GLAKES_iwSHIFT)\n",
    "# selectByAttribute(GLAKES_lyr,'SWITCH_SELECTION','')\n",
    "# selectByLocation(GLAKES_lyr,'INTERSECT',SHIFT_lyr,'SWITCH_SELECTION')\n",
    "# arcpy.conversion.ExportFeatures(GLAKES_lyr,GLAKES_niwSHIFT)"
   ]
  },
  {
   "cell_type": "code",
   "execution_count": null,
   "metadata": {
    "hidden": true
   },
   "outputs": [],
   "source": [
    "arcpy.MakeFeatureLayer_management(GLAKES_iwSHIFT,GLAKES_iwSHIFT_lyr)\n",
    "# arcpy.AddField_management(GLAKES_iwSHIFT_lyr,'Aird_Region','Short')\n",
    "# selectByLocation(GLAKES_iwSHIFT_lyr, 'INTERSECT', Arid_region_lyr,'SUBSET_SELECTION')\n",
    "# calculateField(GLAKES_iwSHIFT_lyr, \"Aird_Region\",2)"
   ]
  },
  {
   "cell_type": "code",
   "execution_count": null,
   "metadata": {
    "hidden": true
   },
   "outputs": [],
   "source": [
    "arcpy.analysis.Clip(GLAKES_iwSHIFT_lyr, GLAKES_land_mask_lyr, GLAKES_iwSHIFT_clip)\n",
    "arcpy.management.MultipartToSinglepart(GLAKES_iwSHIFT_clip,GLAKES_iwSHIFT_clip_sp)\n",
    "arcpy.MakeFeatureLayer_management(GLAKES_iwSHIFT_clip_sp,GLAKES_iwSHIFT_clip_sp_lyr)"
   ]
  },
  {
   "cell_type": "code",
   "execution_count": 18,
   "metadata": {
    "hidden": true
   },
   "outputs": [
    {
     "data": {
      "text/html": [
       "<div class='gpresult'><h2>Messages</h2><div id='messages' data-messages='[\"Start Time: 2024年12月14日 21:26:32\",\"Succeeded at 2024年12月14日 21:26:32 (Elapsed Time: 0.04 seconds)\"]' data-show='true'><div id = 'default' /></div></div>"
      ],
      "text/plain": [
       "<Result 'GLAKES_iwSHIFT_after_mask_gt3ha'>"
      ]
     },
     "execution_count": 18,
     "metadata": {},
     "output_type": "execute_result"
    }
   ],
   "source": [
    "# arcpy.AddField_management(GLAKES_iwSHIFT_clip_sp_lyr,'Area_bound','Double')\n",
    "# arcpy.CalculateField_management(GLAKES_iwSHIFT_clip_sp_lyr, \"Area_bound\",  \"!shape.geodesicArea@SQUAREKILOMETERS!\")\n",
    "# selectByAttribute(GLAKES_iwSHIFT_clip_sp_lyr,'NEW_SELECTION',f\"Area_bound>0.03\")\n",
    "# arcpy.conversion.ExportFeatures(GLAKES_iwSHIFT_clip_sp_lyr,GLAKES_iwSHIFT_afm)\n",
    "arcpy.MakeFeatureLayer_management(GLAKES_iwSHIFT_afm,GLAKES_iwSHIFT_afm_lyr)"
   ]
  },
  {
   "cell_type": "code",
   "execution_count": 149,
   "metadata": {
    "hidden": true
   },
   "outputs": [
    {
     "data": {
      "text/html": [
       "<div class='gpresult'><h2>Messages</h2><div id='messages' data-messages='[\"Start Time: 2025年1月7日 12:24:40\",\"Succeeded at 2025年1月7日 12:24:40 (Elapsed Time: 0.03 seconds)\"]' data-show='true'><div id = 'default' /></div></div>"
      ],
      "text/plain": [
       "<Result 'au2_GLAKES_iwSHIFT_after_mask_gt3ha_keep_arid'>"
      ]
     },
     "execution_count": 149,
     "metadata": {},
     "output_type": "execute_result"
    }
   ],
   "source": [
    "# selectByAttribute(GLAKES_iwSHIFT_lyr,'NEW_SELECTION','Aird_Region=2')\n",
    "# selectByAttribute(GLAKES_iwSHIFT_after_mask_gt3ha_lyr,'NEW_SELECTION','Aird_Region IS NULL')\n",
    "# arcpy.Merge_management([GLAKES_iwSHIFT_lyr,GLAKES_iwSHIFT_afm_lyr],GLAKES_iwSHIFT_afm_keep_arid)\n",
    "arcpy.MakeFeatureLayer_management(GLAKES_iwSHIFT_afm_keep_arid,GLAKES_iwSHIFT_afm_keep_arid_lyr)"
   ]
  },
  {
   "cell_type": "code",
   "execution_count": 151,
   "metadata": {
    "hidden": true
   },
   "outputs": [
    {
     "data": {
      "text/html": [
       "<div class='gpresult'><h2>Messages</h2><div id='messages' data-messages='[\"Start Time: 2025年1月7日 13:12:05\",\"Succeeded at 2025年1月7日 13:12:05 (Elapsed Time: 0.06 seconds)\"]' data-show='true'><div id = 'default' /></div></div>"
      ],
      "text/plain": [
       "<Result 'au1_GLAKES_niwSHIFT'>"
      ]
     },
     "execution_count": 151,
     "metadata": {},
     "output_type": "execute_result"
    }
   ],
   "source": [
    "arcpy.MakeFeatureLayer_management(GLAKES_niwSHIFT,GLAKES_niwSHIFT_lyr)"
   ]
  },
  {
   "cell_type": "code",
   "execution_count": 152,
   "metadata": {
    "hidden": true
   },
   "outputs": [
    {
     "data": {
      "text/html": [
       "<div class='gpresult'><h2>Messages</h2><div id='messages' data-messages='[\"Start Time: 2025年1月7日 13:31:36\",\"Succeeded at 2025年1月7日 13:32:05 (Elapsed Time: 29.04 seconds)\"]' data-show='true'><div id = 'default' /></div></div>"
      ],
      "text/plain": [
       "<Result 'J:\\\\lakemapping\\\\postprocess\\\\v16_250104\\\\4_merge_process.gdb\\\\GLAKES_gte1_Rser'>"
      ]
     },
     "execution_count": 152,
     "metadata": {},
     "output_type": "execute_result"
    }
   ],
   "source": [
    "selectByAttribute(GLAKES_niwSHIFT_lyr,'NEW_SELECTION','\"Area_bound\" >= 1 OR \"Rser_flag\"=1')\n",
    "selectByAttribute(GLAKES_iwSHIFT_afm_keep_arid_lyr,'NEW_SELECTION','\"Area_bound\" >= 1 OR \"Rser_flag\"=1')\n",
    "arcpy.Merge_management([GLAKES_niwSHIFT_lyr,GLAKES_iwSHIFT_afm_keep_arid_lyr],GLAKES_gte1_Rser)"
   ]
  },
  {
   "cell_type": "code",
   "execution_count": 154,
   "metadata": {
    "hidden": true
   },
   "outputs": [],
   "source": [
    "# arcpy.MakeFeatureLayer_management(GLAKES_gte1_Rser,GLAKES_gte1_Rser_lyr)\n",
    "# selectByLocation(GLAKES_gte1_Rser_lyr, 'INTERSECT',pond_region)\n",
    "# arcpy.AddField_management(GLAKES_gte1_Rser_lyr,'operate','Short')\n",
    "# calculateField(GLAKES_gte1_Rser_lyr,'operate',-1)\n",
    "selectByLocation(GLAKES_gte1_Rser_lyr, 'ARE_IDENTICAL_TO','GLAKES_gte1_Rs_ExportFeature1')\n",
    "calculateField(GLAKES_gte1_Rser_lyr,'operate',-2)"
   ]
  },
  {
   "cell_type": "code",
   "execution_count": 156,
   "metadata": {
    "hidden": true
   },
   "outputs": [
    {
     "data": {
      "text/html": [
       "<div class='gpresult'><h2>Messages</h2><div id='messages' data-messages='[\"Start Time: 2025年1月7日 13:55:52\",\"Succeeded at 2025年1月7日 13:55:53 (Elapsed Time: 0.15 seconds)\"]' data-show='true'><div id = 'default' /></div></div>"
      ],
      "text/plain": [
       "<Result 'GLAKES_for_merge_point'>"
      ]
     },
     "execution_count": 156,
     "metadata": {},
     "output_type": "execute_result"
    }
   ],
   "source": [
    "selectByAttribute('GLAKES_gte1_Rser_op_2_after_mask','NEW_SELECTION','operate =1')\n",
    "selectByAttribute(GLAKES_gte1_Rser_lyr,'NEW_SELECTION','operate IS NULL')\n",
    "arcpy.Merge_management(['GLAKES_gte1_Rser_op_2_after_mask',GLAKES_gte1_Rser_lyr],GLAKES_merge_file)\n",
    "arcpy.management.FeatureToPoint(GLAKES_merge_file,GLAKES_merge_file_point,'INSIDE')\n",
    "arcpy.MakeFeatureLayer_management(GLAKES_merge_file_point,GLAKES_merge_file_point_lyr)"
   ]
  },
  {
   "cell_type": "code",
   "execution_count": null,
   "metadata": {
    "hidden": true
   },
   "outputs": [
    {
     "name": "stdout",
     "output_type": "stream",
     "text": [
      "Asia\n",
      "Siberia\n",
      "Africa\n",
      "Europe\n",
      "Oceania_Anta\n",
      "North_America\n",
      "Arctic\n",
      "South_America\n"
     ]
    }
   ],
   "source": [
    "for i in range(0,8):\n",
    "    continent=eight_continents[i]\n",
    "    print(continent)\n",
    "    b_lake_afm_merge_with_BL_lyr=f'b{i+1}_{continent}_lake_afm_merge_with_BL'\n",
    "    b_lake_afm_merge_with_BL=os.path.join(mwBL_gdb,f'b{i+1}_{continent}_polygon_afm_mwBL')\n",
    "    arcpy.MakeFeatureLayer_management(b_lake_afm_merge_with_BL, b_lake_afm_merge_with_BL_lyr)\n",
    "    selectByAttribute(b_lake_afm_merge_with_BL_lyr,'NEW_SELECTION','area IS NULL')\n",
    "#     out_table=os.path.join(stastics_gdb,f'{stastic_v}_b{i+1}_{continent}_lakes_merge_with_BL_stastics')\n",
    "#     arcpy.analysis.Statistics(b_lake_afm_merge_with_BL_lyr, out_table, [['lake_area',\"sum\"]], ['mwGLAKES_PLD']) "
   ]
  },
  {
   "cell_type": "code",
   "execution_count": null,
   "metadata": {
    "hidden": true
   },
   "outputs": [
    {
     "data": {
      "text/html": [
       "<div class='gpresult'><h2>Messages</h2><div id='messages' data-messages='[\"Start Time: 2024年12月3日 11:52:40\",\"Succeeded at 2024年12月3日 11:52:46 (Elapsed Time: 6.33 seconds)\"]' data-show='true'><div id = 'default' /></div></div>"
      ],
      "text/plain": [
       "<Result 'J:\\\\lakemapping\\\\postprocess\\\\v15_241128\\\\stastics_excel\\\\v15_241128_sum_lakes_afm_mwBL_stastics.xls'>"
      ]
     },
     "execution_count": 28,
     "metadata": {},
     "output_type": "execute_result"
    }
   ],
   "source": [
    "input_table_b_list=[]\n",
    "for i in range(0,8):\n",
    "    continent=eight_continents[i]\n",
    "    out_table=os.path.join(stastics_gdb,f'{stastic_v}_b{i+1}_{continent}_lakes_merge_with_BL_stastics')\n",
    "    input_table_b_list.append(out_table)\n",
    "file_name=f'{stastic_v}_b_sum_lakes_afm_mwBL_stastics.xls'\n",
    "Output_Excel_File=os.path.join(excel_dir,file_name)\n",
    "arcpy.conversion.TableToExcel(input_table_b_list, Output_Excel_File)"
   ]
  },
  {
   "cell_type": "markdown",
   "metadata": {
    "heading_collapsed": true
   },
   "source": [
    "## 2. 获得river mask后结果，与Big Lake合并"
   ]
  },
  {
   "cell_type": "code",
   "execution_count": 24,
   "metadata": {
    "hidden": true
   },
   "outputs": [
    {
     "data": {
      "text/html": [
       "<div class='gpresult'><h2>Messages</h2><div id='messages' data-messages='[\"Start Time: 2025年1月8日 13:09:12\",\"Succeeded at 2025年1月8日 13:09:12 (Elapsed Time: 0.03 seconds)\"]' data-show='true'><div id = 'default' /></div></div>"
      ],
      "text/plain": [
       "<Result 'lakes_iwBR_arm_SJ'>"
      ]
     },
     "execution_count": 24,
     "metadata": {},
     "output_type": "execute_result"
    }
   ],
   "source": [
    "arcpy.MakeFeatureLayer_management(lakes_iwBR_SJ,lakes_iwBR_SJ_lyr)\n",
    "# arcpy.MakeFeatureLayer_management(total_lakes_arm,total_lakes_arm_lyr)"
   ]
  },
  {
   "cell_type": "code",
   "execution_count": 25,
   "metadata": {
    "hidden": true
   },
   "outputs": [
    {
     "data": {
      "text/html": [
       "<div class='gpresult'><h2>Messages</h2><div id='messages' data-messages='[\"Start Time: 2025年1月8日 13:09:36\",\"Succeeded at 2025年1月8日 13:09:37 (Elapsed Time: 1.57 seconds)\"]' data-show='true'><div id = 'default' /></div></div>"
      ],
      "text/plain": [
       "<Result 'J:\\\\lakemapping\\\\postprocess\\\\v16_250104\\\\stastics_excel\\\\iwBR_stastics.xls'>"
      ]
     },
     "execution_count": 25,
     "metadata": {},
     "output_type": "execute_result"
    }
   ],
   "source": [
    "out_table=os.path.join(stastics_gdb,'iwBR_stastics')\n",
    "selectByAttribute(lakes_iwBR_SJ_lyr,'NEW_SELECTION',\"\")\n",
    "arcpy.analysis.Statistics(lakes_iwBR_SJ_lyr, out_table, [['area',\"sum\"]], ['Continent','operate']) \n",
    "file_name='iwBR_stastics.xls'\n",
    "Output_Excel_File=os.path.join(excel_dir,file_name)\n",
    "arcpy.conversion.TableToExcel(out_table, Output_Excel_File)"
   ]
  },
  {
   "cell_type": "code",
   "execution_count": 117,
   "metadata": {
    "hidden": true
   },
   "outputs": [
    {
     "data": {
      "text/html": [
       "<div class='gpresult'><h2>Messages</h2><div id='messages' data-messages='[\"Start Time: 2025年1月6日 23:57:23\",\"Succeeded at 2025年1月6日 23:57:48 (Elapsed Time: 25.43 seconds)\"]' data-show='true'><div id = 'default' /></div></div>"
      ],
      "text/plain": [
       "<Result 'lakes_iwBR_afm'>"
      ]
     },
     "execution_count": 117,
     "metadata": {},
     "output_type": "execute_result"
    }
   ],
   "source": [
    "selectByAttribute(lakes_iwBR_SJ_lyr,'NEW_SELECTION','\"operate\" = 0.5')\n",
    "selectByLocation(total_lakes_arm_lyr, 'WITHIN', lakes_iwBR_SJ_lyr,'NEW_SELECTION')\n",
    "selectByAttribute(total_lakes_arm_lyr,'SUBSET_SELECTION','\"operate\" IS NULL')\n",
    "selectByAttribute(total_lakes_arm_lyr,'ADD_TO_SELECTION','\"operate\" = 1')\n",
    "selectByAttribute(lakes_iwBR_SJ_lyr,'NEW_SELECTION','\"operate\">= 1')\n",
    "fieldmappings = arcpy.FieldMappings()\n",
    "fieldmappings_all = arcpy.FieldMappings()\n",
    "fieldmappings_all.addTable(lakes_iwBR_SJ_lyr)#未mask\n",
    "fieldmappings_all.addTable(total_lakes_arm_lyr)\n",
    "field_list = ['area','flag','Continent','iwBL']\n",
    "for field_i in field_list:\n",
    "        field_idx = fieldmappings_all.findFieldMapIndex(field_i)\n",
    "        fieldmappings.addFieldMap(fieldmappings_all.getFieldMap(field_idx))\n",
    "arcpy.Merge_management([lakes_iwBR_SJ_lyr,total_lakes_arm_lyr],lakes_iwBR_afterMask,fieldmappings)\n",
    "arcpy.MakeFeatureLayer_management(lakes_iwBR_afterMask,lakes_iwBR_afm_lyr)\n",
    "selectByAttribute(lakes_iwBR_afm_lyr,'NEW_SELECTION','area IS NULL')\n",
    "arcpy.CalculateField_management(lakes_iwBR_afm_lyr, \"area\",  \"!shape.geodesicArea@SQUAREKILOMETERS!\", \"PYTHON_9.3\")"
   ]
  },
  {
   "cell_type": "code",
   "execution_count": 27,
   "metadata": {
    "hidden": true
   },
   "outputs": [
    {
     "ename": "ExecuteError",
     "evalue": "Failed to execute. Parameters are not valid.\nWARNING 000725: Output Table: Dataset J:\\lakemapping\\postprocess\\v16_250104\\0_summary_stastics.gdb\\a_iwBR_afm_stastics already exists.\nERROR 000728: Field operate does not exist within table\nFailed to execute (Statistics).\n",
     "output_type": "error",
     "traceback": [
      "\u001b[0;31m---------------------------------------------------------------------------\u001b[0m\n\u001b[0;31mExecuteError\u001b[0m                              Traceback (most recent call last)",
      "In  \u001b[0;34m[27]\u001b[0m:\nLine \u001b[0;34m4\u001b[0m:     arcpy.analysis.Statistics(lakes_iwBR_afm_lyr, out_table, [[\u001b[33m'\u001b[39;49;00m\u001b[33marea\u001b[39;49;00m\u001b[33m'\u001b[39;49;00m,\u001b[33m\"\u001b[39;49;00m\u001b[33msum\u001b[39;49;00m\u001b[33m\"\u001b[39;49;00m]], [\u001b[33m'\u001b[39;49;00m\u001b[33mContinent\u001b[39;49;00m\u001b[33m'\u001b[39;49;00m,\u001b[33m'\u001b[39;49;00m\u001b[33moperate\u001b[39;49;00m\u001b[33m'\u001b[39;49;00m]) \n",
      "File \u001b[0;34mC:\\Program Files\\ArcGIS\\Pro\\Resources\\ArcPy\\arcpy\\analysis.py\u001b[0m, in \u001b[0;32mStatistics\u001b[0m:\nLine \u001b[0;34m2320\u001b[0m:  \u001b[34mraise\u001b[39;49;00m e\n",
      "File \u001b[0;34mC:\\Program Files\\ArcGIS\\Pro\\Resources\\ArcPy\\arcpy\\analysis.py\u001b[0m, in \u001b[0;32mStatistics\u001b[0m:\nLine \u001b[0;34m2317\u001b[0m:  retval = convertArcObjectToPythonObject(gp.Statistics_analysis(*gp_fixargs((in_table, out_table, statistics_fields, case_field, concatenation_separator), \u001b[34mTrue\u001b[39;49;00m)))\n",
      "File \u001b[0;34mC:\\Program Files\\ArcGIS\\Pro\\Resources\\ArcPy\\arcpy\\geoprocessing\\_base.py\u001b[0m, in \u001b[0;32m<lambda>\u001b[0m:\nLine \u001b[0;34m512\u001b[0m:   \u001b[34mreturn\u001b[39;49;00m \u001b[34mlambda\u001b[39;49;00m *args: val(*gp_fixargs(args, \u001b[34mTrue\u001b[39;49;00m))\n",
      "\u001b[0;31mExecuteError\u001b[0m: Failed to execute. Parameters are not valid.\nWARNING 000725: Output Table: Dataset J:\\lakemapping\\postprocess\\v16_250104\\0_summary_stastics.gdb\\a_iwBR_afm_stastics already exists.\nERROR 000728: Field operate does not exist within table\nFailed to execute (Statistics).\n\n\u001b[0;31m---------------------------------------------------------------------------\u001b[0m"
     ]
    }
   ],
   "source": [
    "arcpy.MakeFeatureLayer_management(lakes_iwBR_afterMask,lakes_iwBR_afm_lyr)\n",
    "out_table=os.path.join(stastics_gdb,'a_iwBR_afm_stastics')\n",
    "selectByAttribute(lakes_iwBR_afm_lyr,'NEW_SELECTION',\"\")\n",
    "arcpy.analysis.Statistics(lakes_iwBR_afm_lyr, out_table, [['area',\"sum\"]], ['Continent','flag']) \n",
    "file_name='a_iwBR_afm_stastics.xls'\n",
    "Output_Excel_File=os.path.join(excel_dir,file_name)\n",
    "arcpy.conversion.TableToExcel(out_table, Output_Excel_File)"
   ]
  },
  {
   "cell_type": "code",
   "execution_count": 32,
   "metadata": {
    "hidden": true
   },
   "outputs": [],
   "source": [
    "arcpy.MakeFeatureLayer_management(big_lakes,big_lakes_lyr)\n",
    "selectByLocation(lakes_iwBR_afm_lyr, 'INTERSECT', big_lakes_lyr,'NEW_SELECTION')\n",
    "# arcpy.AddField_management(lakes_iwBR_afm_lyr, 'iwBL', \"short\")\n",
    "calculateField(lakes_iwBR_afm_lyr, 'iwBL',1)\n",
    "selectByAttribute(lakes_iwBR_afm_lyr,'SWITCH_SELECTION',\"\")\n",
    "calculateField(lakes_iwBR_afm_lyr, 'iwBL',0)"
   ]
  },
  {
   "cell_type": "code",
   "execution_count": 34,
   "metadata": {
    "hidden": true
   },
   "outputs": [
    {
     "data": {
      "text/html": [
       "<div class='gpresult'><h2>Messages</h2><div id='messages' data-messages='[\"Start Time: 2025年1月8日 13:34:54\",\"Succeeded at 2025年1月8日 13:34:55 (Elapsed Time: 0.60 seconds)\"]' data-show='true'><div id = 'default' /></div></div>"
      ],
      "text/plain": [
       "<Result 'J:\\\\lakemapping\\\\postprocess\\\\v16_250104\\\\stastics_excel\\\\a_iwBR_afm_column_iwBL_stastics.xls'>"
      ]
     },
     "execution_count": 34,
     "metadata": {},
     "output_type": "execute_result"
    }
   ],
   "source": [
    "out_table=os.path.join(stastics_gdb,'a_iwBR_afm_column_iwBL_stastics')\n",
    "selectByAttribute(lakes_iwBR_afm_lyr,'NEW_SELECTION',\"\")\n",
    "arcpy.analysis.Statistics(lakes_iwBR_afm_lyr, out_table, [['area',\"sum\"]], ['Continent','iwBL']) \n",
    "file_name='a_iwBR_afm_column_iwBL_stastics.xls'\n",
    "Output_Excel_File=os.path.join(excel_dir,file_name)\n",
    "arcpy.conversion.TableToExcel(out_table, Output_Excel_File)"
   ]
  },
  {
   "cell_type": "code",
   "execution_count": 29,
   "metadata": {
    "hidden": true
   },
   "outputs": [
    {
     "ename": "ExecuteError",
     "evalue": "Failed to execute. Parameters are not valid.\nERROR 000732: Input Table: Dataset lakes_Asia_niwBR_afm does not exist or is not supported\nWARNING 000725: Output Table: Dataset J:\\lakemapping\\postprocess\\v16_250104\\0_summary_stastics.gdb\\v16_250104_Asia_niwBR_afm_stastics already exists.\nFailed to execute (Statistics).\n",
     "output_type": "error",
     "traceback": [
      "\u001b[0;31m---------------------------------------------------------------------------\u001b[0m\n\u001b[0;31mExecuteError\u001b[0m                              Traceback (most recent call last)",
      "In  \u001b[0;34m[29]\u001b[0m:\nLine \u001b[0;34m6\u001b[0m:     arcpy.analysis.Statistics(lakes_niwBR_afm_lyr, out_table, [[\u001b[33m'\u001b[39;49;00m\u001b[33marea\u001b[39;49;00m\u001b[33m'\u001b[39;49;00m,\u001b[33m\"\u001b[39;49;00m\u001b[33msum\u001b[39;49;00m\u001b[33m\"\u001b[39;49;00m]], [\u001b[33m'\u001b[39;49;00m\u001b[33miwBL\u001b[39;49;00m\u001b[33m'\u001b[39;49;00m]) \n",
      "File \u001b[0;34mC:\\Program Files\\ArcGIS\\Pro\\Resources\\ArcPy\\arcpy\\analysis.py\u001b[0m, in \u001b[0;32mStatistics\u001b[0m:\nLine \u001b[0;34m2320\u001b[0m:  \u001b[34mraise\u001b[39;49;00m e\n",
      "File \u001b[0;34mC:\\Program Files\\ArcGIS\\Pro\\Resources\\ArcPy\\arcpy\\analysis.py\u001b[0m, in \u001b[0;32mStatistics\u001b[0m:\nLine \u001b[0;34m2317\u001b[0m:  retval = convertArcObjectToPythonObject(gp.Statistics_analysis(*gp_fixargs((in_table, out_table, statistics_fields, case_field, concatenation_separator), \u001b[34mTrue\u001b[39;49;00m)))\n",
      "File \u001b[0;34mC:\\Program Files\\ArcGIS\\Pro\\Resources\\ArcPy\\arcpy\\geoprocessing\\_base.py\u001b[0m, in \u001b[0;32m<lambda>\u001b[0m:\nLine \u001b[0;34m512\u001b[0m:   \u001b[34mreturn\u001b[39;49;00m \u001b[34mlambda\u001b[39;49;00m *args: val(*gp_fixargs(args, \u001b[34mTrue\u001b[39;49;00m))\n",
      "\u001b[0;31mExecuteError\u001b[0m: Failed to execute. Parameters are not valid.\nERROR 000732: Input Table: Dataset lakes_Asia_niwBR_afm does not exist or is not supported\nWARNING 000725: Output Table: Dataset J:\\lakemapping\\postprocess\\v16_250104\\0_summary_stastics.gdb\\v16_250104_Asia_niwBR_afm_stastics already exists.\nFailed to execute (Statistics).\n\n\u001b[0;31m---------------------------------------------------------------------------\u001b[0m"
     ]
    }
   ],
   "source": [
    "input_table_afm_list=[]\n",
    "for i in range(0,8):\n",
    "    continent=eight_continents[i]\n",
    "    lakes_niwBR_afm_lyr='lakes_'+continent+'_niwBR_afm'\n",
    "    out_table=os.path.join(stastics_gdb,f'{stastic_v}_{continent}_niwBR_afm_stastics')\n",
    "    arcpy.analysis.Statistics(lakes_niwBR_afm_lyr, out_table, [['area',\"sum\"]], ['iwBL']) \n",
    "    input_table_afm_list.append(out_table)\n",
    "file_name=f'a_{stastic_v}_niwBR_afm_iwBL_stastics.xls'\n",
    "Output_Excel_File=os.path.join(excel_dir,file_name)\n",
    "arcpy.conversion.TableToExcel(input_table_afm_list, Output_Excel_File)"
   ]
  },
  {
   "cell_type": "code",
   "execution_count": 121,
   "metadata": {
    "hidden": true
   },
   "outputs": [
    {
     "name": "stdout",
     "output_type": "stream",
     "text": [
      "['lakes_iwBR_afm', 'lakes_Asia_niwBR_afm', 'lakes_Siberia_niwBR_afm', 'lakes_Africa_niwBR_afm', 'lakes_Europe_niwBR_afm', 'lakes_Oceania_Anta_niwBR_afm', 'lakes_North_America_niwBR_afm', 'lakes_Arctic_niwBR_afm', 'lakes_South_America_niwBR_afm', 'big_lakes']\n",
      "time:47.76441311836243s\n"
     ]
    }
   ],
   "source": [
    "merge_list=[lakes_iwBR_afm_lyr]\n",
    "selectByAttribute(lakes_iwBR_afm_lyr,'NEW_SELECTION',\"iwBL = 1\")\n",
    "for continent in eight_continents:\n",
    "    lakes_niwBR_afm_lyr='lakes_'+continent+'_niwBR_afm'\n",
    "    lakes_niwBR_afm=os.path.join(after_mask_gdb,'lakes_'+continent+'_niwBR_afterMask')\n",
    "    arcpy.MakeFeatureLayer_management(lakes_niwBR_afm,lakes_niwBR_afm_lyr)\n",
    "    merge_list.append(lakes_niwBR_afm_lyr)\n",
    "    selectByAttribute(lakes_niwBR_afm_lyr,'NEW_SELECTION',\"iwBL = 1\")\n",
    "#把iwBL=1的湖泊与big lake文件合并，并融合\n",
    "merge_list.append(big_lakes_lyr)\n",
    "print(merge_list)\n",
    "\n",
    "start=time.time()\n",
    "arcpy.Merge_management(merge_list,a_iwBL_merge_with_BL_raw)\n",
    "arcpy.MakeFeatureLayer_management(a_iwBL_merge_with_BL_raw, a_iwBL_merge_with_BL_raw_lyr)#global_lakes_afm_merged_with_GBL\n",
    "end=time.time()\n",
    "print(f'time:{end-start}s')"
   ]
  },
  {
   "cell_type": "code",
   "execution_count": 122,
   "metadata": {
    "hidden": true
   },
   "outputs": [
    {
     "name": "stdout",
     "output_type": "stream",
     "text": [
      "start Dissolve\n",
      "time:1868.932942390442s\n"
     ]
    }
   ],
   "source": [
    "start=time.time()\n",
    "print('start Dissolve')\n",
    "arcpy.Dissolve_management(a_iwBL_merge_with_BL_raw_lyr, a_iwBL_merge_with_BL,\"\", \"\", \"SINGLE_PART\")#dissolve copylake\n",
    "arcpy.MakeFeatureLayer_management(a_iwBL_merge_with_BL, a_iwBL_merge_with_BL_lyr)\n",
    "arcpy.AddField_management(a_iwBL_merge_with_BL_lyr,\"area\",\"Double\")\n",
    "arcpy.CalculateField_management(a_iwBL_merge_with_BL_lyr, \"area\",  \"!shape.geodesicArea@SQUAREKILOMETERS!\", \"PYTHON_9.3\")\n",
    "end=time.time()\n",
    "print(f'time:{end-start}s')"
   ]
  },
  {
   "cell_type": "code",
   "execution_count": 123,
   "metadata": {
    "hidden": true
   },
   "outputs": [
    {
     "data": {
      "text/html": [
       "<div class='gpresult'><h2>Messages</h2><div id='messages' data-messages='[\"Start Time: 2025年1月7日 0:32:13\",\"3534 duplicate(s) from 3534 group(s) deleted.\",\"Succeeded at 2025年1月7日 0:32:17 (Elapsed Time: 4.61 seconds)\"]' data-show='true'><div id = 'default' /></div></div>"
      ],
      "text/plain": [
       "<Result 'a_lakes_afm_iwBL_mw_BL'>"
      ]
     },
     "execution_count": 123,
     "metadata": {},
     "output_type": "execute_result"
    }
   ],
   "source": [
    "arcpy.management.DeleteIdentical(a_iwBL_merge_with_BL_lyr,['area','Shape_Length','Shape_Area'],\"5 Meters\")"
   ]
  },
  {
   "cell_type": "code",
   "execution_count": 125,
   "metadata": {
    "hidden": true
   },
   "outputs": [],
   "source": [
    "arcpy.AddField_management(a_iwBL_merge_with_BL_lyr, 'iwBL', \"short\")\n",
    "calculateField(a_iwBL_merge_with_BL_lyr, \"iwBL\",1)\n",
    "cal_continent(a_iwBL_merge_with_BL_lyr)"
   ]
  },
  {
   "cell_type": "code",
   "execution_count": 127,
   "metadata": {
    "hidden": true
   },
   "outputs": [],
   "source": [
    "# arcpy.management.Delete(a_iwBL_merge_with_BL_raw)\n",
    "arcpy.AddField_management(a_iwBL_merge_with_BL_lyr, 'flag', \"short\")\n",
    "# selectByLocation(a_iwBL_merge_with_BL_lyr, 'INTERSECT', GLAKES_Res)\n",
    "calculateField(a_iwBL_merge_with_BL_lyr, \"flag\",2)\n",
    "add_Res_flag(a_iwBL_merge_with_BL_lyr)"
   ]
  },
  {
   "cell_type": "code",
   "execution_count": 35,
   "metadata": {
    "hidden": true
   },
   "outputs": [
    {
     "data": {
      "text/html": [
       "<div class='gpresult'><h2>Messages</h2><div id='messages' data-messages='[\"Start Time: 2025年1月8日 14:34:06\",\"Succeeded at 2025年1月8日 14:34:06 (Elapsed Time: 0.63 seconds)\"]' data-show='true'><div id = 'default' /></div></div>"
      ],
      "text/plain": [
       "<Result 'J:\\\\lakemapping\\\\postprocess\\\\v16_250104\\\\stastics_excel\\\\a_iwBL_merge_with_BL_stastics.xls'>"
      ]
     },
     "execution_count": 35,
     "metadata": {},
     "output_type": "execute_result"
    }
   ],
   "source": [
    "arcpy.MakeFeatureLayer_management(a_iwBL_merge_with_BL, a_iwBL_merge_with_BL_lyr)\n",
    "out_table=os.path.join(stastics_gdb,f'a_iwBL_merge_with_BL_stastics')\n",
    "selectByAttribute(a_iwBL_merge_with_BL_lyr,'NEW_SELECTION',\"\")\n",
    "arcpy.analysis.Statistics(a_iwBL_merge_with_BL_lyr, out_table, [['area',\"sum\"]], ['continent']) \n",
    "file_name=f'a_iwBL_merge_with_BL_stastics.xls'\n",
    "Output_Excel_File=os.path.join(excel_dir,file_name)\n",
    "arcpy.conversion.TableToExcel(out_table, Output_Excel_File)"
   ]
  },
  {
   "cell_type": "code",
   "execution_count": null,
   "metadata": {
    "hidden": true
   },
   "outputs": [],
   "source": [
    "arcpy.MakeFeatureLayer_management(GLAKES_merge_file,GLAKES_merge_file_lyr)\n",
    "arcpy.MakeFeatureLayer_management(PLD_Arid,'PLD_Arid')"
   ]
  },
  {
   "cell_type": "code",
   "execution_count": 41,
   "metadata": {
    "hidden": true
   },
   "outputs": [
    {
     "name": "stdout",
     "output_type": "stream",
     "text": [
      "Asia\n",
      "Siberia\n",
      "Africa\n",
      "Europe\n",
      "Oceania_Anta\n",
      "North_America\n",
      "Arctic\n",
      "South_America\n"
     ]
    }
   ],
   "source": [
    "for i in range(0,8):\n",
    "    continent=eight_continents[i]\n",
    "    print(continent)\n",
    "#     selectByAttribute(a_iwBL_merge_with_BL_lyr,'NEW_SELECTION',f\"Continent = '{continent}'\")\n",
    "\n",
    "#     selectByAttribute(lakes_iwBR_afm_lyr,'NEW_SELECTION',f\"iwBL = 0 AND Continent = '{continent}'\")\n",
    "#     lakes_niwBR_afm=os.path.join(after_mask_gdb,'lakes_'+continent+'_niwBR_afterMask')\n",
    "#     lakes_niwBR_afm_lyr='lakes_'+continent+'_niwBR_afm'\n",
    "# #     arcpy.MakeFeatureLayer_management(lakes_niwBR_afm,lakes_niwBR_afm_lyr)\n",
    "    \n",
    "#     selectByAttribute(lakes_niwBR_afm_lyr,'NEW_SELECTION',f\"iwBL = 0\")\n",
    "    b_lake_afm_merge_with_BL=os.path.join(mwBL_gdb,f'b{i+1}_{continent}_polygon_afm_mwBL')\n",
    "    b_lake_afm_merge_with_BL_lyr=f'b{i+1}_{continent}_polygon_afm_mwBL'\n",
    "    \n",
    "#     field_list=['area','iwBL','flag']\n",
    "#     fieldmappings = arcpy.FieldMappings()\n",
    "#     fieldmappings_all = arcpy.FieldMappings()\n",
    "#     fieldmappings_all.addTable(lakes_niwBR_afm_lyr)\n",
    "#     for field_i in field_list:\n",
    "#         field_idx = fieldmappings_all.findFieldMapIndex(field_i)\n",
    "#         fieldmappings.addFieldMap(fieldmappings_all.getFieldMap(field_idx))\n",
    "        \n",
    "#     arcpy.Merge_management([lakes_niwBR_afm_lyr,a_iwBL_merge_with_BL_lyr,lakes_iwBR_afm_lyr],b_lake_afm_merge_with_BL,field_mappings=fieldmappings)\n",
    "    arcpy.MakeFeatureLayer_management(b_lake_afm_merge_with_BL, b_lake_afm_merge_with_BL_lyr)\n",
    "#     arcpy.AddField_management(b_lake_afm_merge_with_BL_lyr, 'lake_area', \"DOUBLE\")\n",
    "#     arcpy.CalculateField_management(b_lake_afm_merge_with_BL_lyr, 'lake_area','!area!')\n",
    "#     cal_lake_type(b_lake_afm_merge_with_BL_lyr,'lake_area')\n",
    "    \n",
    "#     arcpy.AddField_management(b_lake_afm_merge_with_BL_lyr,'mwGLAKES_PLD','Short')\n",
    "#     selectByLocation(b_lake_afm_merge_with_BL_lyr, 'INTERSECT',GLAKES_merge_file_lyr,'NEW_SELECTION')\n",
    "#     arcpy.CalculateField_management(b_lake_afm_merge_with_BL_lyr,'mwGLAKES_PLD',1)\n",
    "#     selectByAttribute(b_lake_afm_merge_with_BL_lyr,'SWITCH_SELECTION',\"\")\n",
    "#     selectByLocation(b_lake_afm_merge_with_BL_lyr, 'INTERSECT', 'PLD_Arid','SUBSET_SELECTION')\n",
    "#     arcpy.CalculateField_management(b_lake_afm_merge_with_BL_lyr,'mwGLAKES_PLD',2)\n",
    "    \n",
    "    selectByAttribute(b_lake_afm_merge_with_BL_lyr,'NEW_SELECTION','')\n",
    "    out_table=os.path.join(stastics_gdb,f'{stastic_v}_b{i+1}_{continent}_lakes_merge_with_BL_stastics')\n",
    "    arcpy.analysis.Statistics(b_lake_afm_merge_with_BL_lyr, out_table, [['area',\"sum\"]], ['flag']) "
   ]
  },
  {
   "cell_type": "code",
   "execution_count": 56,
   "metadata": {
    "hidden": true
   },
   "outputs": [
    {
     "data": {
      "text/html": [
       "<div class='gpresult'><h2>Messages</h2><div id='messages' data-messages='[\"Start Time: 2025年1月6日 12:10:25\",\"Succeeded at 2025年1月6日 12:12:22 (Elapsed Time: 1 minutes 57 seconds)\"]' data-show='true'><div id = 'default' /></div></div>"
      ],
      "text/plain": [
       "<Result 'J:\\\\lakemapping\\\\postprocess\\\\v16_250104\\\\0_summary_stastics.gdb\\\\v16_250104_b6_North_America_lakes_merge_with_BL_stastics'>"
      ]
     },
     "execution_count": 56,
     "metadata": {},
     "output_type": "execute_result"
    }
   ],
   "source": [
    "# arcpy.Merge_management([lakes_niwBR_afm_lyr,a_iwBL_merge_with_BL_lyr,lakes_iwBR_afm_lyr],b_lake_afm_merge_with_BL,field_mappings=fieldmappings)\n",
    "arcpy.MakeFeatureLayer_management(b_lake_afm_merge_with_BL, b_lake_afm_merge_with_BL_lyr)\n",
    "selectByAttribute(b_lake_afm_merge_with_BL_lyr,'NEW_SELECTION','')\n",
    "out_table=os.path.join(stastics_gdb,f'{stastic_v}_b{i+1}_{continent}_lakes_merge_with_BL_stastics')\n",
    "arcpy.analysis.Statistics(b_lake_afm_merge_with_BL_lyr, out_table, [['area',\"sum\"]], ['flag']) "
   ]
  },
  {
   "cell_type": "code",
   "execution_count": 19,
   "metadata": {
    "hidden": true
   },
   "outputs": [
    {
     "name": "stdout",
     "output_type": "stream",
     "text": [
      "Asia\n",
      "Siberia\n",
      "Africa\n",
      "Europe\n",
      "Oceania_Anta\n",
      "North_America\n",
      "Arctic\n",
      "South_America\n"
     ]
    }
   ],
   "source": [
    "input_table_b_list=[]\n",
    "for i in range(0,8):\n",
    "    continent=eight_continents[i]\n",
    "    print(continent)\n",
    "    b_lake_afm_merge_with_BL_lyr=f'b{i+1}_{continent}_polygon_afm_mwBL'\n",
    "    b_lake_afm_merge_with_BL=os.path.join(mwBL_gdb,f'b{i+1}_{continent}_polygon_afm_mwBL')\n",
    "    arcpy.MakeFeatureLayer_management(b_lake_afm_merge_with_BL, b_lake_afm_merge_with_BL_lyr)\n",
    "    selectByAttribute(b_lake_afm_merge_with_BL_lyr,'NEW_SELECTION','area IS NULL')\n",
    "    out_table=os.path.join(stastics_gdb,f'{stastic_v}_b{i+1}_{continent}_mwGLAKES_PLD_stastics')\n",
    "#     arcpy.analysis.Statistics(b_lake_afm_merge_with_BL_lyr, out_table, [['area',\"sum\"]], ['mwGLAKES_PLD'])\n",
    "#     input_table_b_list.append(out_table)\n",
    "# file_name=f'{stastic_v}_b_sum_mwGLAKES_PLD_stasticss.xls'\n",
    "# Output_Excel_File=os.path.join(excel_dir,file_name)\n",
    "# arcpy.conversion.TableToExcel(input_table_b_list, Output_Excel_File)"
   ]
  },
  {
   "cell_type": "code",
   "execution_count": 42,
   "metadata": {
    "hidden": true
   },
   "outputs": [
    {
     "data": {
      "text/html": [
       "<div class='gpresult'><h2>Messages</h2><div id='messages' data-messages='[\"Start Time: 2025年1月8日 18:11:25\",\"Succeeded at 2025年1月8日 18:11:28 (Elapsed Time: 3.04 seconds)\"]' data-show='true'><div id = 'default' /></div></div>"
      ],
      "text/plain": [
       "<Result 'J:\\\\lakemapping\\\\postprocess\\\\v16_250104\\\\stastics_excel\\\\v16_250104_sum_lakes_afm_mwBL_stastics.xls'>"
      ]
     },
     "execution_count": 42,
     "metadata": {},
     "output_type": "execute_result"
    }
   ],
   "source": [
    "input_table_b_list=[]\n",
    "for i in range(0,8):\n",
    "    continent=eight_continents[i]\n",
    "    out_table=os.path.join(stastics_gdb,f'{stastic_v}_b{i+1}_{continent}_lakes_merge_with_BL_stastics')\n",
    "    input_table_b_list.append(out_table)\n",
    "file_name=f'{stastic_v}_sum_b_lakes_afm_mwBL_stastics.xls'\n",
    "Output_Excel_File=os.path.join(excel_dir,file_name)\n",
    "arcpy.conversion.TableToExcel(input_table_b_list, Output_Excel_File)"
   ]
  },
  {
   "cell_type": "markdown",
   "metadata": {
    "heading_collapsed": true
   },
   "source": [
    "## 3 和PLD,GLAKES融合"
   ]
  },
  {
   "cell_type": "code",
   "execution_count": 26,
   "metadata": {
    "hidden": true
   },
   "outputs": [
    {
     "name": "stdout",
     "output_type": "stream",
     "text": [
      "af\n",
      "eu\n",
      "si\n",
      "as\n",
      "au\n",
      "sa\n",
      "na\n",
      "ar\n",
      "gr\n"
     ]
    }
   ],
   "source": [
    "# merge_list=[]\n",
    "# for region in PLD_list:#[1,3,4,5]:\n",
    "#     print(region)\n",
    "#     PLD_region=os.path.join(new_PLD_gdb,f'PLD_{region}')\n",
    "#     PLD_region_lyr=f'PLD_{region}'\n",
    "#     arcpy.MakeFeatureLayer_management(PLD_region,PLD_region_lyr)\n",
    "# #     arcpy.AddField_management(PLD_region_lyr,'iwSHIFT','Short')\n",
    "# #     selectByLocation(PLD_region_lyr,'INTERSECT','SHIFT')\n",
    "# #     arcpy.CalculateField_management(PLD_region_lyr,'iwSHIFT',1)\n",
    "# #     arcpy.AddField_management(PLD_region_lyr,'Arid_flag','Short')\n",
    "# #     selectByLocation(PLD_region_lyr,'INTERSECT','Global_AI_Reclassify_Clip_simple')\n",
    "# #     arcpy.CalculateField_management(PLD_region_lyr,'Arid_flag',1)\n",
    "#     selectByAttribute(PLD_region_lyr,'NEW_SELECTION','Arid_flag=1')\n",
    "#     merge_list.append(PLD_region_lyr)"
   ]
  },
  {
   "cell_type": "code",
   "execution_count": 18,
   "metadata": {
    "hidden": true
   },
   "outputs": [
    {
     "name": "stdout",
     "output_type": "stream",
     "text": [
      "af\n",
      "eu\n",
      "si\n",
      "as\n",
      "au\n",
      "sa\n",
      "na\n",
      "ar\n",
      "gr\n"
     ]
    },
    {
     "data": {
      "text/html": [
       "<div class='gpresult'><h2>Messages</h2><div id='messages' data-messages='[\"Start Time: 2025年1月13日 19:51:42\",\"Succeeded at 2025年1月13日 19:51:43 (Elapsed Time: 0.61 seconds)\"]' data-show='true'><div id = 'default' /></div></div>"
      ],
      "text/plain": [
       "<Result 'D:\\\\lakemapping\\\\10_paper_writting\\\\figure\\\\8_visualize.gdb\\\\Data_5_PLD'>"
      ]
     },
     "execution_count": 18,
     "metadata": {},
     "output_type": "execute_result"
    }
   ],
   "source": [
    "merge_list=[]\n",
    "gdb=r'D:\\lakemapping\\10_paper_writting\\figure\\8_visualize.gdb'\n",
    "sample_result=os.path.join(gdb,'Data_5_PLD')\n",
    "lyr='Region_5_for_visualize'\n",
    "for region in PLD_list:#[1,3,4,5]:\n",
    "    print(region)\n",
    "    PLD_region=os.path.join(new_PLD_gdb,f'PLD_{region}')\n",
    "    PLD_region_lyr=f'PLD_{region}'\n",
    "    arcpy.MakeFeatureLayer_management(PLD_region,PLD_region_lyr)\n",
    "    selectByLocation(PLD_region_lyr, 'INTERSECT',lyr,'NEW_SELECTION')\n",
    "    merge_list.append(PLD_region_lyr)\n",
    "arcpy.Merge_management(merge_list,sample_result)"
   ]
  },
  {
   "cell_type": "code",
   "execution_count": 52,
   "metadata": {
    "hidden": true
   },
   "outputs": [
    {
     "data": {
      "text/html": [
       "<div class='gpresult'><h2>Messages</h2><div id='messages' data-messages='[\"Start Time: 2025年1月9日 8:26:30\",\"Succeeded at 2025年1月9日 8:26:30 (Elapsed Time: 0.14 seconds)\"]' data-show='true'><div id = 'default' /></div></div>"
      ],
      "text/plain": [
       "<Result 'PLD_Arid_point'>"
      ]
     },
     "execution_count": 52,
     "metadata": {},
     "output_type": "execute_result"
    }
   ],
   "source": [
    "# arcpy.Merge_management(merge_list,PLD_Arid)\n",
    "# arcpy.management.FeatureToPoint(PLD_Arid,PLD_Arid_point,'INSIDE')\n",
    "PLD_Arid_point_lyr='PLD_Arid_point'\n",
    "PLD_Arid_lyr='PLD_Arid'\n",
    "arcpy.MakeFeatureLayer_management(PLD_Arid,PLD_Arid_lyr)\n",
    "arcpy.MakeFeatureLayer_management(PLD_Arid_point,PLD_Arid_point_lyr)"
   ]
  },
  {
   "cell_type": "code",
   "execution_count": 161,
   "metadata": {
    "hidden": true
   },
   "outputs": [
    {
     "data": {
      "text/html": [
       "<div class='gpresult'><h2>Messages</h2><div id='messages' data-messages='[\"Start Time: 2025年1月7日 14:30:23\",\"Succeeded at 2025年1月7日 14:37:59 (Elapsed Time: 7 minutes 35 seconds)\"]' data-show='true'><div id = 'default' /></div></div>"
      ],
      "text/plain": [
       "<Result 'J:\\\\lakemapping\\\\postprocess\\\\v16_250104\\\\4_merge_process.gdb\\\\b_for_merge_point'>"
      ]
     },
     "execution_count": 161,
     "metadata": {},
     "output_type": "execute_result"
    }
   ],
   "source": [
    "merge_list=[]\n",
    "\n",
    "for i in range(0,8):\n",
    "    continent=eight_continents[i]\n",
    "    b_lake_afm_merge_with_BL=os.path.join(mwBL_gdb,f'b{i+1}_{continent}_polygon_afm_mwBL')\n",
    "    b_lake_afm_merge_with_BL_lyr=f'b{i+1}_{continent}_lake_afm_merge_with_BL'\n",
    "# #     arcpy.MakeFeatureLayer_management(b_lake_afm_merge_with_BL, b_lake_afm_merge_with_BL_lyr)\n",
    "# #     arcpy.management.DeleteField(b_lake_afm_merge_with_BL_lyr,'mwGLAKES_PLD')\n",
    "    arcpy.AddField_management(b_lake_afm_merge_with_BL_lyr,'mwGLAKES_PLD','Short')\n",
    "    selectByLocation(b_lake_afm_merge_with_BL_lyr, 'INTERSECT',GLAKES_merge_file_lyr,'NEW_SELECTION')\n",
    "    arcpy.CalculateField_management(b_lake_afm_merge_with_BL_lyr,'mwGLAKES_PLD',1)\n",
    "    selectByAttribute(b_lake_afm_merge_with_BL_lyr,'SWITCH_SELECTION',\"\")\n",
    "    selectByLocation(b_lake_afm_merge_with_BL_lyr, 'INTERSECT', 'PLD_Arid','SUBSET_SELECTION')\n",
    "    arcpy.CalculateField_management(b_lake_afm_merge_with_BL_lyr,'mwGLAKES_PLD',2)\n",
    "    selectByAttribute(b_lake_afm_merge_with_BL_lyr,'NEW_SELECTION','mwGLAKES_PLD>0')\n",
    "    merge_list.append(b_lake_afm_merge_with_BL_lyr)\n",
    "arcpy.Merge_management(merge_list,b_merge_file)\n",
    "arcpy.management.FeatureToPoint(b_merge_file,b_merge_file_point,'INSIDE')"
   ]
  },
  {
   "cell_type": "code",
   "execution_count": 21,
   "metadata": {
    "hidden": true
   },
   "outputs": [
    {
     "name": "stdout",
     "output_type": "stream",
     "text": [
      "Asia\n",
      "Siberia\n",
      "Africa\n",
      "Europe\n",
      "Oceania_Anta\n",
      "North_America\n",
      "Arctic\n",
      "South_America\n"
     ]
    },
    {
     "data": {
      "text/html": [
       "<div class='gpresult'><h2>Messages</h2><div id='messages' data-messages='[\"Start Time: 2025年1月8日 0:22:44\",\"Succeeded at 2025年1月8日 0:22:47 (Elapsed Time: 3.05 seconds)\"]' data-show='true'><div id = 'default' /></div></div>"
      ],
      "text/plain": [
       "<Result 'J:\\\\lakemapping\\\\postprocess\\\\v16_250104\\\\stastics_excel\\\\b_v16_250104_mwGLAKES_PLD_stastics.xls'>"
      ]
     },
     "execution_count": 21,
     "metadata": {},
     "output_type": "execute_result"
    }
   ],
   "source": [
    "input_table_b_list=[]\n",
    "for i in range(0,8):\n",
    "    continent=eight_continents[i]\n",
    "    print(continent)\n",
    "    b_lake_afm_merge_with_BL_lyr=f'b{i+1}_{continent}_lake_afm_merge_with_BL'\n",
    "    b_lake_afm_merge_with_BL=os.path.join(mwBL_gdb,f'b{i+1}_{continent}_polygon_afm_mwBL')\n",
    "#     arcpy.MakeFeatureLayer_management(b_lake_afm_merge_with_BL, b_lake_afm_merge_with_BL_lyr)\n",
    "#     selectByAttribute(b_lake_afm_merge_with_BL_lyr,'NEW_SELECTION','area IS NULL')\n",
    "    out_table=os.path.join(stastics_gdb,f'{stastic_v}_b{i+1}_{continent}_mwGLAKES_PLD_stastics')\n",
    "#     arcpy.analysis.Statistics(b_lake_afm_merge_with_BL_lyr, out_table, [['area',\"sum\"]], ['mwGLAKES_PLD']) \n",
    "    input_table_b_list.append(out_table)\n",
    "file_name=f'b_{stastic_v}_mwGLAKES_PLD_stastics.xls'\n",
    "Output_Excel_File=os.path.join(excel_dir,file_name)\n",
    "arcpy.conversion.TableToExcel(input_table_b_list, Output_Excel_File)"
   ]
  },
  {
   "cell_type": "code",
   "execution_count": null,
   "metadata": {
    "hidden": true
   },
   "outputs": [],
   "source": []
  },
  {
   "cell_type": "code",
   "execution_count": 68,
   "metadata": {
    "hidden": true
   },
   "outputs": [
    {
     "name": "stdout",
     "output_type": "stream",
     "text": [
      "b8_South_America_lake_afm_merge_with_BL\n"
     ]
    }
   ],
   "source": [
    "# print(b_lake_afm_merge_with_BL_lyr)\n",
    "# # arcpy.CalculateField_management(b_lake_afm_merge_with_BL_lyr,'mwGLAKES_PLD',1)\n",
    "# # selectByAttribute(b_lake_afm_merge_with_BL_lyr,'SWITCH_SELECTION',\"\")\n",
    "# # selectByLocation(b_lake_afm_merge_with_BL_lyr, 'INTERSECT', 'PLD_Arid','SUBSET_SELECTION')\n",
    "# arcpy.CalculateField_management(b_lake_afm_merge_with_BL_lyr,'mwGLAKES_PLD',2)\n",
    "# selectByAttribute(b_lake_afm_merge_with_BL_lyr,'NEW_SELECTION','mwGLAKES_PLD>0')\n",
    "# merge_list.append(b_lake_afm_merge_with_BL_lyr)"
   ]
  },
  {
   "cell_type": "code",
   "execution_count": 58,
   "metadata": {
    "hidden": true
   },
   "outputs": [
    {
     "data": {
      "text/html": [
       "<div class='gpresult'><h2>Messages</h2><div id='messages' data-messages='[\"Start Time: 2025年1月9日 9:14:39\",\"Succeeded at 2025年1月9日 9:14:39 (Elapsed Time: 0.04 seconds)\"]' data-show='true'><div id = 'default' /></div></div>"
      ],
      "text/plain": [
       "<Result 'b_for_merge'>"
      ]
     },
     "execution_count": 58,
     "metadata": {},
     "output_type": "execute_result"
    }
   ],
   "source": [
    "arcpy.MakeFeatureLayer_management(b_merge_file,'b_for_merge')"
   ]
  },
  {
   "cell_type": "code",
   "execution_count": 163,
   "metadata": {
    "hidden": true
   },
   "outputs": [],
   "source": [
    "arcpy.Merge_management(['b_for_merge',GLAKES_merge_file_lyr,'PLD_Arid'],three_dataset_merge)\n",
    "arcpy.MakeFeatureLayer_management(three_dataset_merge,three_dataset_merge_lyr)\n",
    "arcpy.Dissolve_management(three_dataset_merge_lyr, three_dataset_dissolve,\"\", \"\", \"SINGLE_PART\")\n",
    "\n",
    "arcpy.MakeFeatureLayer_management(three_dataset_dissolve,three_dataset_dissolve_lyr)\n",
    "arcpy.AddField_management(three_dataset_dissolve_lyr,\"lake_area\",\"Double\")\n",
    "arcpy.CalculateField_management(three_dataset_dissolve_lyr, \"lake_area\",  \"!shape.geodesicArea@SQUAREKILOMETERS!\", \"PYTHON_9.3\")\n",
    "arcpy.AddField_management(three_dataset_dissolve_lyr,\"continent\",\"Text\")"
   ]
  },
  {
   "cell_type": "code",
   "execution_count": 57,
   "metadata": {
    "hidden": true
   },
   "outputs": [
    {
     "data": {
      "text/html": [
       "<div class='gpresult'><h2>Messages</h2><div id='messages' data-messages='[\"Start Time: 2025年1月9日 9:13:53\",\"Succeeded at 2025年1月9日 9:13:53 (Elapsed Time: 0.55 seconds)\"]' data-show='true'><div id = 'default' /></div></div>"
      ],
      "text/plain": [
       "<Result 'three_dataset_dissolve'>"
      ]
     },
     "execution_count": 57,
     "metadata": {},
     "output_type": "execute_result"
    }
   ],
   "source": [
    "arcpy.MakeFeatureLayer_management(three_dataset_dissolve,three_dataset_dissolve_lyr)\n",
    "# arcpy.MakeFeatureLayer_management(b_merge_file_point,'b_for_merge_point')\n",
    "\n",
    "# fieldmappings = arcpy.FieldMappings()\n",
    "# fieldmappings_all = arcpy.FieldMappings()\n",
    "# fieldmappings_all.addTable(three_dataset_dissolve_lyr)\n",
    "# fieldmappings_all.addTable('b_for_merge_point')\n",
    "# field_list=['lake_area','area']#\n",
    "# for field_i in field_list:\n",
    "#     field_idx = fieldmappings_all.findFieldMapIndex(field_i)\n",
    "#     field_fieldmap = fieldmappings_all.getFieldMap(field_idx)\n",
    "#     fieldmappings.addFieldMap(field_fieldmap)\n",
    "# area_idx = fieldmappings.findFieldMapIndex(\"area\")\n",
    "# area_fieldmap = fieldmappings.getFieldMap(area_idx)\n",
    "# area_fieldmap.mergeRule = \"sum\"\n",
    "# fieldmappings.replaceFieldMap(area_idx, area_fieldmap)\n",
    "\n",
    "# print('Conduct spatial join')\n",
    "# arcpy.SpatialJoin_analysis(three_dataset_dissolve_lyr, 'b_for_merge_point', three_dataset_dissolve_SJ, \"JOIN_ONE_TO_ONE\",\n",
    "#                            \"KEEP_ALL\", fieldmappings, \"CONTAINS\")\n",
    "# arcpy.MakeFeatureLayer_management(three_dataset_dissolve_SJ,three_dataset_dissolve_SJ_lyr)"
   ]
  },
  {
   "cell_type": "code",
   "execution_count": 50,
   "metadata": {
    "hidden": true
   },
   "outputs": [
    {
     "name": "stdout",
     "output_type": "stream",
     "text": [
      "Conduct spatial join\n"
     ]
    },
    {
     "data": {
      "text/html": [
       "<div class='gpresult'><h2>Messages</h2><div id='messages' data-messages='[\"Start Time: 2025年1月8日 23:25:55\",\"Succeeded at 2025年1月8日 23:25:55 (Elapsed Time: 0.10 seconds)\"]' data-show='true'><div id = 'default' /></div></div>"
      ],
      "text/plain": [
       "<Result 'three_dataset_dissolve_SJ_SJ'>"
      ]
     },
     "execution_count": 50,
     "metadata": {},
     "output_type": "execute_result"
    }
   ],
   "source": [
    "arcpy.MakeFeatureLayer_management(GLAKES_merge_file_point,GLAKES_merge_file_point_lyr)\n",
    "fieldmappings = arcpy.FieldMappings()\n",
    "fieldmappings_all = arcpy.FieldMappings()\n",
    "fieldmappings_all.addTable(three_dataset_dissolve_SJ_lyr)\n",
    "fieldmappings_all.addTable(GLAKES_merge_file_point_lyr)\n",
    "field_list=['lake_area','area','Join_Count','Area_bound']#\n",
    "for field_i in field_list:\n",
    "    field_idx = fieldmappings_all.findFieldMapIndex(field_i)\n",
    "    field_fieldmap = fieldmappings_all.getFieldMap(field_idx)\n",
    "    if field_i=='area':\n",
    "        outputField=field_fieldmap.outputField\n",
    "        outputField.name='sum_area_b'\n",
    "        outputField.alias='sum_area_b'\n",
    "        field_fieldmap.outputField=outputField\n",
    "    if field_i=='Join_Count':\n",
    "        outputField=field_fieldmap.outputField\n",
    "        outputField.name='count_b'\n",
    "        outputField.alias='count_b'\n",
    "        field_fieldmap.outputField=outputField\n",
    "    fieldmappings.addFieldMap(field_fieldmap)\n",
    "    \n",
    "area_idx = fieldmappings.findFieldMapIndex(\"Area_bound\")\n",
    "area_fieldmap = fieldmappings.getFieldMap(area_idx)\n",
    "area_fieldmap.mergeRule = \"sum\"\n",
    "fieldmappings.replaceFieldMap(area_idx, area_fieldmap)\n",
    "\n",
    "print('Conduct spatial join')\n",
    "arcpy.SpatialJoin_analysis(three_dataset_dissolve_SJ, GLAKES_merge_file_point_lyr, three_dataset_dissolve_SJ_SJ, \"JOIN_ONE_TO_ONE\",\n",
    "                           \"KEEP_ALL\", fieldmappings, \"CONTAINS\")\n",
    "arcpy.MakeFeatureLayer_management(three_dataset_dissolve_SJ_SJ,three_dataset_dissolve_SJ_SJ_lyr)"
   ]
  },
  {
   "cell_type": "code",
   "execution_count": 53,
   "metadata": {
    "hidden": true
   },
   "outputs": [
    {
     "data": {
      "text/html": [
       "<div class='gpresult'><h2>Messages</h2><div id='messages' data-messages='[\"Start Time: 2025年1月9日 8:27:28\",\"Succeeded at 2025年1月9日 8:31:07 (Elapsed Time: 3 minutes 39 seconds)\"]' data-show='true'><div id = 'default' /></div></div>"
      ],
      "text/plain": [
       "<Result 'three_dataset_dissolve_SJ_SJ'>"
      ]
     },
     "execution_count": 53,
     "metadata": {},
     "output_type": "execute_result"
    }
   ],
   "source": [
    "# arcpy.AddField_management(three_dataset_dissolve_SJ_SJ_lyr,\"Hu\",\"short\")\n",
    "# selectByLocation(three_dataset_dissolve_SJ_SJ_lyr,'contains','b_for_merge_point')\n",
    "# arcpy.CalculateField_management(three_dataset_dissolve_SJ_SJ_lyr,\"Hu\",1)\n",
    "\n",
    "# arcpy.AddField_management(three_dataset_dissolve_SJ_SJ_lyr,\"GLAKES\",\"short\")\n",
    "# selectByLocation(three_dataset_dissolve_SJ_SJ_lyr,'contains',GLAKES_merge_file_point_lyr)\n",
    "# arcpy.CalculateField_management(three_dataset_dissolve_SJ_SJ_lyr,\"GLAKES\",1)\n",
    "\n",
    "# arcpy.AddField_management(three_dataset_dissolve_SJ_SJ_lyr,\"PLD\",\"short\")\n",
    "selectByLocation(three_dataset_dissolve_SJ_SJ_lyr,'contains',PLD_Arid_point_lyr)\n",
    "arcpy.CalculateField_management(three_dataset_dissolve_SJ_SJ_lyr,\"PLD\",1)"
   ]
  },
  {
   "cell_type": "code",
   "execution_count": 54,
   "metadata": {
    "hidden": true
   },
   "outputs": [
    {
     "data": {
      "text/html": [
       "<div class='gpresult'><h2>Messages</h2><div id='messages' data-messages='[\"Start Time: 2025年1月9日 8:31:32\",\"Succeeded at 2025年1月9日 8:31:32 (Elapsed Time: 0.04 seconds)\"]' data-show='true'><div id = 'default' /></div></div>"
      ],
      "text/plain": [
       "<Result 'Global_AI_Reclassify_Clip_simple'>"
      ]
     },
     "execution_count": 54,
     "metadata": {},
     "output_type": "execute_result"
    }
   ],
   "source": [
    "arcpy.MakeFeatureLayer_management(Arid_region,Arid_region_lyr)"
   ]
  },
  {
   "cell_type": "code",
   "execution_count": 55,
   "metadata": {
    "hidden": true
   },
   "outputs": [
    {
     "data": {
      "text/html": [
       "<div class='gpresult'><h2>Messages</h2><div id='messages' data-messages='[\"Start Time: 2025年1月9日 8:49:17\",\"Succeeded at 2025年1月9日 8:56:29 (Elapsed Time: 7 minutes 12 seconds)\"]' data-show='true'><div id = 'default' /></div></div>"
      ],
      "text/plain": [
       "<Result 'three_dataset_dissolve_SJ_SJ'>"
      ]
     },
     "execution_count": 55,
     "metadata": {},
     "output_type": "execute_result"
    }
   ],
   "source": [
    "arcpy.AddField_management(three_dataset_dissolve_SJ_SJ_lyr, 'change_ratio', \"DOUBLE\")#新建字段为面积比例\n",
    "selectByAttribute(three_dataset_dissolve_SJ_SJ_lyr,'NEW_SELECTION','sum_area_b IS NOT NULL')\n",
    "arcpy.CalculateField_management(three_dataset_dissolve_SJ_SJ_lyr, 'change_ratio', '(!lake_area!-!sum_area_b!)/!sum_area_b!*100')\n",
    "arcpy.AddField_management(three_dataset_dissolve_SJ_SJ_lyr, 'operate', \"short\")\n",
    "arcpy.AddField_management(three_dataset_dissolve_SJ_SJ_lyr, 'Arid_flag', \"short\")\n",
    "selectByLocation(three_dataset_dissolve_SJ_SJ_lyr,'INTERSECT',Arid_region_lyr)\n",
    "arcpy.CalculateField_management(three_dataset_dissolve_SJ_SJ_lyr, 'Arid_flag',2)"
   ]
  },
  {
   "cell_type": "code",
   "execution_count": 71,
   "metadata": {
    "hidden": true
   },
   "outputs": [
    {
     "data": {
      "text/html": [
       "<div class='gpresult'><h2>Messages</h2><div id='messages' data-messages='[\"Start Time: 2024年12月16日 10:48:22\",\"Succeeded at 2024年12月16日 10:48:23 (Elapsed Time: 0.84 seconds)\"]' data-show='true'><div id = 'default' /></div></div>"
      ],
      "text/plain": [
       "<Result 'three_dataset_dissolve_SJ_SJ'>"
      ]
     },
     "execution_count": 71,
     "metadata": {},
     "output_type": "execute_result"
    }
   ],
   "source": [
    "# arcpy.AddField_management(three_dataset_dissolve_SJ_SJ_lyr, 'Oceanline', \"short\")\n",
    "selectByLocation(three_dataset_dissolve_SJ_SJ_lyr,'INTERSECT','lines')\n",
    "arcpy.CalculateField_management(three_dataset_dissolve_SJ_SJ_lyr, 'Oceanline',2)\n",
    "selectByAttribute(three_dataset_dissolve_SJ_SJ_lyr,'NEW_SELECTION','Oceanline IS NULL')\n",
    "arcpy.SelectLayerByLocation_management(three_dataset_dissolve_SJ_SJ_lyr,'INTERSECT','lines',search_distance='10 kilometers',selection_type='SUBSET_SELECTION')\n",
    "arcpy.CalculateField_management(three_dataset_dissolve_SJ_SJ_lyr, 'Oceanline',1)"
   ]
  },
  {
   "cell_type": "code",
   "execution_count": 68,
   "metadata": {
    "hidden": true
   },
   "outputs": [],
   "source": [
    "# arcpy.AddField_management(three_dataset_dissolve_SJ_SJ_lyr, 'operate', \"short\")\n",
    "# selectByAttribute(three_dataset_dissolve_SJ_SJ_lyr,'NEW_SELECTION','change_ratio=0 or lake_area<0.005')\n",
    "# arcpy.CalculateField_management(three_dataset_dissolve_SJ_SJ_lyr, 'operate',0)\n",
    "# selectByAttribute(three_dataset_dissolve_SJ_SJ_lyr,'NEW_SELECTION','operate IS NULL AND change_ratio < 5 AND PLD=1 AND GLAKES IS NULL')\n",
    "# arcpy.CalculateField_management(three_dataset_dissolve_SJ_SJ_lyr, 'operate',0)\n",
    "# selectByAttribute(three_dataset_dissolve_SJ_SJ_lyr,'NEW_SELECTION','operate IS NULL AND change_ratio < 50 And lake_area < 1 AND PLD=1 AND GLAKES IS NULL')\n",
    "# arcpy.CalculateField_management(three_dataset_dissolve_SJ_SJ_lyr, 'operate',0)\n",
    "# selectByAttribute(three_dataset_dissolve_SJ_SJ_lyr,'NEW_SELECTION','count_b = 1 AND operate IS NULL And change_ratio < 5 And lake_area < 1')\n",
    "# arcpy.CalculateField_management(three_dataset_dissolve_SJ_SJ_lyr, 'operate',0)\n",
    "# selectByAttribute(three_dataset_dissolve_SJ_SJ_lyr,'NEW_SELECTION','Arid_flag = 2 AND operate IS NULL')\n",
    "# arcpy.CalculateField_management(three_dataset_dissolve_SJ_SJ_lyr, 'operate',1)\n",
    "# selectByAttribute(three_dataset_dissolve_SJ_SJ_lyr,'NEW_SELECTION','count_b = 1 AND operate IS NULL And change_ratio < 5')\n",
    "# selectByAttribute(three_dataset_dissolve_SJ_SJ_lyr,'NEW_SELECTION','count_b>2 AND operate IS NULL AND Oceanline >0 AND Rser_flag IS NULL AND max_area_b <1')\n",
    "# selectByAttribute(three_dataset_dissolve_SJ_SJ_lyr,'NEW_SELECTION','operate IS NULL And change_ratio < 5 AND PLD=1 AND GLAKES IS NULL')\n",
    "selectByAttribute(three_dataset_dissolve_SJ_SJ_lyr,'NEW_SELECTION',\"operate IS NULL And Hu IS NULL AND PLD IS NULL AND GLAKES =1\")\n"
   ]
  },
  {
   "cell_type": "code",
   "execution_count": 72,
   "metadata": {
    "hidden": true
   },
   "outputs": [],
   "source": [
    "cal_continent(three_dataset_dissolve_SJ_SJ_lyr)"
   ]
  },
  {
   "cell_type": "code",
   "execution_count": 82,
   "metadata": {
    "hidden": true
   },
   "outputs": [
    {
     "data": {
      "text/html": [
       "<div class='gpresult'><h2>Messages</h2><div id='messages' data-messages='[\"Start Time: 2025年1月9日 11:07:55\",\"Succeeded at 2025年1月9日 11:07:55 (Elapsed Time: 0.32 seconds)\"]' data-show='true'><div id = 'default' /></div></div>"
      ],
      "text/plain": [
       "<Result 'three_dataset_dissolve_SJ_SJ'>"
      ]
     },
     "execution_count": 82,
     "metadata": {},
     "output_type": "execute_result"
    }
   ],
   "source": [
    "# arcpy.AddField_management(three_dataset_dissolve_SJ_SJ_lyr,\"sources\",\"Text\")\n",
    "# selectByAttribute(three_dataset_dissolve_SJ_SJ_lyr,'NEW_SELECTION','GLAKES =1 and Hu IS NULL and PLD IS NULL')\n",
    "# arcpy.CalculateField_management(three_dataset_dissolve_SJ_SJ_lyr,\"sources\",\"'GLAKES'\")\n",
    "# selectByAttribute(three_dataset_dissolve_SJ_SJ_lyr,'NEW_SELECTION','PLD =1 and GLAKES IS NULL and Hu IS NULL')\n",
    "# arcpy.CalculateField_management(three_dataset_dissolve_SJ_SJ_lyr,\"sources\",\"'PLD'\")\n",
    "# selectByAttribute(three_dataset_dissolve_SJ_SJ_lyr,'NEW_SELECTION','Hu =1 and GLAKES =1 and PLD IS NULL')\n",
    "# arcpy.CalculateField_management(three_dataset_dissolve_SJ_SJ_lyr,\"sources\",\"'Hu,GLAKES'\")\n",
    "# selectByAttribute(three_dataset_dissolve_SJ_SJ_lyr,'NEW_SELECTION','Hu =1 and GLAKES IS NULL and PLD =1')\n",
    "# arcpy.CalculateField_management(three_dataset_dissolve_SJ_SJ_lyr,\"sources\",\"'Hu,PLD'\")\n",
    "# selectByAttribute(three_dataset_dissolve_SJ_SJ_lyr,'NEW_SELECTION','Hu is null and GLAKES =1 and PLD =1')\n",
    "# arcpy.CalculateField_management(three_dataset_dissolve_SJ_SJ_lyr,\"sources\",\"'GLAKES,PLD'\")\n",
    "# selectByAttribute(three_dataset_dissolve_SJ_SJ_lyr,'NEW_SELECTION','Hu =1 and GLAKES =1 and PLD =1')\n",
    "# arcpy.CalculateField_management(three_dataset_dissolve_SJ_SJ_lyr,\"sources\",\"'Hu,GLAKES,PLD'\")\n",
    "# selectByAttribute(three_dataset_dissolve_SJ_SJ_lyr,'NEW_SELECTION','Hu =1 and GLAKES IS NULL and PLD IS NULL')\n",
    "# arcpy.CalculateField_management(three_dataset_dissolve_SJ_SJ_lyr,\"sources\",\"'Hu,GLAKES'\")\n",
    "# selectByAttribute(three_dataset_dissolve_SJ_SJ_lyr,'NEW_SELECTION','sources IS NULL')\n",
    "arcpy.CalculateField_management(three_dataset_dissolve_SJ_SJ_lyr,\"sources\",\"'GLAKES'\")"
   ]
  },
  {
   "cell_type": "code",
   "execution_count": 83,
   "metadata": {
    "hidden": true
   },
   "outputs": [
    {
     "data": {
      "text/html": [
       "<div class='gpresult'><h2>Messages</h2><div id='messages' data-messages='[\"Start Time: 2025年1月9日 11:08:11\",\"Succeeded at 2025年1月9日 11:09:17 (Elapsed Time: 1 minutes 6 seconds)\"]' data-show='true'><div id = 'default' /></div></div>"
      ],
      "text/plain": [
       "<Result 'J:\\\\lakemapping\\\\postprocess\\\\v16_250104\\\\4_polygon_afm_mergeWith_BigLake.gdb\\\\three_dataset_dissolve_for_merge'>"
      ]
     },
     "execution_count": 83,
     "metadata": {},
     "output_type": "execute_result"
    }
   ],
   "source": [
    "selectByAttribute(three_dataset_dissolve_SJ_SJ_lyr,'NEW_SELECTION','operate IS NULL OR operate>0')\n",
    "fieldmappings = arcpy.FieldMappings()\n",
    "fieldmappings_all = arcpy.FieldMappings()\n",
    "fieldmappings_all.addTable(three_dataset_dissolve_SJ_SJ_lyr)\n",
    "field_list=['lake_area','sources','Continent']#,'Arid_flag'\n",
    "for field_i in field_list:\n",
    "    field_idx = fieldmappings_all.findFieldMapIndex(field_i)\n",
    "    field_fieldmap = fieldmappings_all.getFieldMap(field_idx)\n",
    "    fieldmappings.addFieldMap(field_fieldmap)\n",
    "arcpy.conversion.ExportFeatures(three_dataset_dissolve_SJ_SJ_lyr,three_dataset_dissolve_for_merge,field_mapping=fieldmappings)"
   ]
  },
  {
   "cell_type": "code",
   "execution_count": 24,
   "metadata": {
    "hidden": true
   },
   "outputs": [
    {
     "data": {
      "text/html": [
       "<div class='gpresult'><h2>Messages</h2><div id='messages' data-messages='[\"Start Time: 2025年1月14日 19:54:09\",\"Succeeded at 2025年1月14日 19:54:09 (Elapsed Time: 0.19 seconds)\"]' data-show='true'><div id = 'default' /></div></div>"
      ],
      "text/plain": [
       "<Result 'three_dataset_dissolve_for_merge'>"
      ]
     },
     "execution_count": 24,
     "metadata": {},
     "output_type": "execute_result"
    }
   ],
   "source": [
    "arcpy.MakeFeatureLayer_management(three_dataset_dissolve_for_merge,b_merge_layer)\n",
    "# arcpy.MakeFeatureLayer_management(b_merge_file_point,'b_for_merge_point')"
   ]
  },
  {
   "cell_type": "code",
   "execution_count": 85,
   "metadata": {
    "hidden": true
   },
   "outputs": [
    {
     "ename": "ExecuteError",
     "evalue": "ERROR 160706: Cannot acquire a lock.\nFailed to execute (CalculateField).\n",
     "output_type": "error",
     "traceback": [
      "\u001b[0;31m---------------------------------------------------------------------------\u001b[0m\n\u001b[0;31mExecuteError\u001b[0m                              Traceback (most recent call last)",
      "In  \u001b[0;34m[85]\u001b[0m:\nLine \u001b[0;34m1\u001b[0m:     cal_lake_type(b_merge_layer,\u001b[33m'\u001b[39;49;00m\u001b[33mlake_area\u001b[39;49;00m\u001b[33m'\u001b[39;49;00m)\n",
      "In  \u001b[0;34m[36]\u001b[0m:\nLine \u001b[0;34m6\u001b[0m:     arcpy.CalculateField_management(lyr,\u001b[33m'\u001b[39;49;00m\u001b[33mlake_type\u001b[39;49;00m\u001b[33m'\u001b[39;49;00m,i)\n",
      "File \u001b[0;34mC:\\Program Files\\ArcGIS\\Pro\\Resources\\ArcPy\\arcpy\\management.py\u001b[0m, in \u001b[0;32mCalculateField\u001b[0m:\nLine \u001b[0;34m5786\u001b[0m:  \u001b[34mraise\u001b[39;49;00m e\n",
      "File \u001b[0;34mC:\\Program Files\\ArcGIS\\Pro\\Resources\\ArcPy\\arcpy\\management.py\u001b[0m, in \u001b[0;32mCalculateField\u001b[0m:\nLine \u001b[0;34m5783\u001b[0m:  retval = convertArcObjectToPythonObject(gp.CalculateField_management(*gp_fixargs((in_table, field, expression, expression_type, code_block, field_type, enforce_domains), \u001b[34mTrue\u001b[39;49;00m)))\n",
      "File \u001b[0;34mC:\\Program Files\\ArcGIS\\Pro\\Resources\\ArcPy\\arcpy\\geoprocessing\\_base.py\u001b[0m, in \u001b[0;32m<lambda>\u001b[0m:\nLine \u001b[0;34m512\u001b[0m:   \u001b[34mreturn\u001b[39;49;00m \u001b[34mlambda\u001b[39;49;00m *args: val(*gp_fixargs(args, \u001b[34mTrue\u001b[39;49;00m))\n",
      "\u001b[0;31mExecuteError\u001b[0m: ERROR 160706: Cannot acquire a lock.\nFailed to execute (CalculateField).\n\n\u001b[0;31m---------------------------------------------------------------------------\u001b[0m"
     ]
    }
   ],
   "source": [
    "cal_lake_type(b_merge_layer,'lake_area')"
   ]
  },
  {
   "cell_type": "markdown",
   "metadata": {
    "heading_collapsed": true,
    "hidden": true
   },
   "source": [
    "### 生成c"
   ]
  },
  {
   "cell_type": "code",
   "execution_count": 29,
   "metadata": {
    "hidden": true
   },
   "outputs": [
    {
     "name": "stdout",
     "output_type": "stream",
     "text": [
      "Arctic\n"
     ]
    }
   ],
   "source": [
    "arcpy.SelectLayerByLocation_management('b_for_merge_point', 'WITHIN',b_merge_layer,selection_type='NEW_SELECTION',invert_spatial_relationship=True)\n",
    "for i in range(6,7):\n",
    "    continent=eight_continents[i]\n",
    "    print(continent)\n",
    "    b_lake_afm_merge_with_BL=os.path.join(mwBL_gdb,f'b{i+1}_{continent}_polygon_afm_mwBL')\n",
    "    b_lake_afm_merge_with_BL_lyr=f'b{i+1}_{continent}_lake_afm_merge_with_BL'\n",
    "    arcpy.MakeFeatureLayer_management(b_lake_afm_merge_with_BL, b_lake_afm_merge_with_BL_lyr)\n",
    "    c_lake_afm_mw_GP=os.path.join(merge_gdb,f'c{i+1}_{continent}_lakes')\n",
    "    c_lake_afm_mw_GP_lyr=f'c{i+1}_{continent}_lakes'\n",
    "\n",
    "    selectByAttribute(b_lake_afm_merge_with_BL_lyr,'NEW_SELECTION',\"mwGLAKES_PLD IS NULL\")\n",
    "    selectByLocation(b_lake_afm_merge_with_BL_lyr, 'CONTAINS', 'b_for_merge_point','ADD_TO_SELECTION')\n",
    "    selectByAttribute(b_merge_layer,'NEW_SELECTION',f\"Continent = '{continent}'\")\n",
    "    field_list=['lake_area','lake_type','sources']#,'Arid_flag'\n",
    "    fieldmappings = arcpy.FieldMappings()\n",
    "    fieldmappings_all = arcpy.FieldMappings()\n",
    "    fieldmappings_all.addTable(b_merge_layer)\n",
    "    fieldmappings_all.addTable(b_lake_afm_merge_with_BL_lyr)\n",
    "    for field_i in field_list:\n",
    "        field_idx = fieldmappings_all.findFieldMapIndex(field_i)\n",
    "        fieldmappings.addFieldMap(fieldmappings_all.getFieldMap(field_idx))\n",
    "\n",
    "    arcpy.Merge_management([b_lake_afm_merge_with_BL_lyr,b_merge_layer],c_lake_afm_mw_GP,field_mappings=fieldmappings)\n",
    "    arcpy.MakeFeatureLayer_management(c_lake_afm_mw_GP,c_lake_afm_mw_GP_lyr)\n",
    "#     selectByAttribute(c_lake_afm_mw_GP_lyr,'NEW_SELECTION',\"\")\n",
    "#     out_table=os.path.join(stastics_gdb,f'{version}_c{i+1}_{continent}_lakes_stastics')\n",
    "#     arcpy.analysis.Statistics(c_lake_afm_mw_GP_lyr, out_table, [['lake_area',\"sum\"]], ['sources']) "
   ]
  },
  {
   "cell_type": "code",
   "execution_count": 203,
   "metadata": {
    "hidden": true
   },
   "outputs": [],
   "source": [
    "input_table_b_list=[]\n",
    "for i in range(0,8):\n",
    "    continent=eight_continents[i]\n",
    "#     print(continent)\n",
    "#     c_lake_afm_mw_GP=os.path.join(merge_gdb,f'c{i+1}_{continent}_lakes')\n",
    "#     c_lake_afm_mw_GP_lyr=f'c{i+1}_{continent}_lakes'\n",
    "#     arcpy.MakeFeatureLayer_management(c_lake_afm_mw_GP,c_lake_afm_mw_GP_lyr)\n",
    "#     selectByAttribute(c_lake_afm_mw_GP_lyr,'NEW_SELECTION','lake_area IS NULL')\n",
    "    out_table=os.path.join(stastics_gdb,f'{version}_c{i+1}_{continent}_lakes_stastics')\n",
    "    arcpy.analysis.Statistics(c_lake_afm_mw_GP_lyr, out_table, [['lake_area',\"sum\"]], ['sources']) \n",
    "file_name=f'{stastic_v}_c_sum_lakes_stastics.xls'\n",
    "Output_Excel_File=os.path.join(excel_dir,file_name)\n",
    "arcpy.conversion.TableToExcel(input_table_b_list, Output_Excel_File)"
   ]
  },
  {
   "cell_type": "code",
   "execution_count": null,
   "metadata": {
    "hidden": true
   },
   "outputs": [
    {
     "data": {
      "text/html": [
       "<div class='gpresult'><h2>Messages</h2><div id='messages' data-messages='[\"Start Time: 2024年12月3日 12:52:13\",\"Succeeded at 2024年12月3日 12:54:01 (Elapsed Time: 1 minutes 47 seconds)\"]' data-show='true'><div id = 'default' /></div></div>"
      ],
      "text/plain": [
       "<Result 'J:\\\\lakemapping\\\\postprocess\\\\v15_241128\\\\0_summary_stastics.gdb\\\\v15_241128_c6_North_America_lakes_stastics'>"
      ]
     },
     "execution_count": 34,
     "metadata": {},
     "output_type": "execute_result"
    }
   ],
   "source": [
    "arcpy.MakeFeatureLayer_management(c_lake_afm_mw_GP,c_lake_afm_mw_GP_lyr)\n",
    "#     selectByAttribute(c_lake_afm_mw_GP_lyr,'NEW_SELECTION',\"\")\n",
    "out_table=os.path.join(stastics_gdb,f'{version}_c{i+1}_{continent}_lakes_stastics')\n",
    "arcpy.analysis.Statistics(c_lake_afm_mw_GP_lyr, out_table, [['lake_area',\"sum\"]], ['sources']) "
   ]
  },
  {
   "cell_type": "code",
   "execution_count": 23,
   "metadata": {
    "hidden": true
   },
   "outputs": [
    {
     "data": {
      "text/html": [
       "<div class='gpresult'><h2>Messages</h2><div id='messages' data-messages='[\"Start Time: 2025年1月9日 15:01:31\",\"Succeeded at 2025年1月9日 15:01:37 (Elapsed Time: 5.60 seconds)\"]' data-show='true'><div id = 'default' /></div></div>"
      ],
      "text/plain": [
       "<Result 'J:\\\\lakemapping\\\\postprocess\\\\v16_250104\\\\stastics_excel\\\\v16_250104_c_sum_lakes_stastics.xls'>"
      ]
     },
     "execution_count": 23,
     "metadata": {},
     "output_type": "execute_result"
    }
   ],
   "source": [
    "input_table_b_list=[]\n",
    "for i in range(0,8):\n",
    "    continent=eight_continents[i]\n",
    "    out_table=os.path.join(stastics_gdb,f'{version}_c{i+1}_{continent}_lakes_stastics')\n",
    "    input_table_b_list.append(out_table)\n",
    "file_name=f'{stastic_v}_c_sum_lakes_stastics.xls'\n",
    "Output_Excel_File=os.path.join(excel_dir,file_name)\n",
    "arcpy.conversion.TableToExcel(input_table_b_list, Output_Excel_File)"
   ]
  },
  {
   "cell_type": "markdown",
   "metadata": {},
   "source": [
    "## 空间分布分析"
   ]
  },
  {
   "cell_type": "markdown",
   "metadata": {},
   "source": [
    "### 计算lake type 生成pi"
   ]
  },
  {
   "cell_type": "code",
   "execution_count": 39,
   "metadata": {},
   "outputs": [],
   "source": [
    "grid=os.path.join(temp_gdb,'Global_grid_shp_1degree')\n",
    "grid_lyr='Global_grid_shp_1degree'\n",
    "# arcpy.MakeFeatureLayer_management(grid,grid_lyr)"
   ]
  },
  {
   "cell_type": "code",
   "execution_count": 55,
   "metadata": {},
   "outputs": [
    {
     "name": "stdout",
     "output_type": "stream",
     "text": [
      "North_America\n",
      "start transform to point\n",
      "start pairwise intersect\n"
     ]
    }
   ],
   "source": [
    "point_merge_list=[]\n",
    "pi_point_merge_list=[]\n",
    "for i in [5]:#range(0,8):#[1,3,4,5]:\n",
    "    continent=eight_continents[i]\n",
    "    print(continent)\n",
    "    c_lake_afm_mw_GP=os.path.join(merge_gdb,f'c{i+1}_{continent}_lakes')\n",
    "    c_lake_afm_mw_GP_lyr=f'c{i+1}_{continent}_lakes'\n",
    "    c_lake_afm_mw_GP_point=os.path.join(point_gdb,f'c{i+1}_{continent}_lakes_point')\n",
    "    c_lake_afm_mw_GP_point_lyr=f'c{i+1}_{continent}_lakes_point'\n",
    "    arcpy.MakeFeatureLayer_management(c_lake_afm_mw_GP,c_lake_afm_mw_GP_lyr)\n",
    "    \n",
    "    c_lake_afm_mw_GP_pi=os.path.join(temp_gdb,f'c{i+1}_{continent}_lakes_pi')\n",
    "    c_lake_afm_mw_GP_pi_lyr=f'c{i+1}_{continent}_lakes_pi'\n",
    "    c_lake_afm_mw_GP_pi_point=os.path.join(point_gdb,f'c{i+1}_{continent}_lakes_pi_point')\n",
    "    c_lake_afm_mw_GP_pi_point_lyr=f'c{i+1}_{continent}_lakes_pi_point'\n",
    "#     cal_lake_type(c_lake_afm_mw_GP_lyr,'lake_area')\n",
    "    \n",
    "    print('start transform to point')\n",
    "#     selectByAttribute(c_lake_afm_mw_GP_lyr,'NEW_SELECTION','') \n",
    "    arcpy.management.FeatureToPoint(c_lake_afm_mw_GP_lyr,c_lake_afm_mw_GP_point,'INSIDE')\n",
    "    print('start pairwise intersect')\n",
    "#     arcpy.analysis.PairwiseIntersect([c_lake_afm_mw_GP_lyr, grid_lyr],c_lake_afm_mw_GP_pi,join_attributes='NO_FID')\n",
    "#     arcpy.MakeFeatureLayer_management(c_lake_afm_mw_GP_pi,c_lake_afm_mw_GP_pi_lyr)\n",
    "#     selectByLocation(c_lake_afm_mw_GP_pi_lyr,'SHARE_A_LINE_SEGMENT_WITH',grid_lyr,'NEW_SELECTION')\n",
    "#     arcpy.CalculateField_management(c_lake_afm_mw_GP_pi_lyr,'lake_area', \"!shape.geodesicArea@SQUAREKILOMETERS!\", \"PYTHON_9.3\")\n",
    "#     selectByAttribute(c_lake_afm_mw_GP_pi_lyr,'NEW_SELECTION','') \n",
    "#     arcpy.management.FeatureToPoint(c_lake_afm_mw_GP_pi_lyr,c_lake_afm_mw_GP_pi_point,'INSIDE')\n"
   ]
  },
  {
   "cell_type": "code",
   "execution_count": 26,
   "metadata": {},
   "outputs": [
    {
     "data": {
      "text/html": [
       "<div class='gpresult'><h2>Messages</h2><div id='messages' data-messages='[\"Start Time: 2025年1月9日 17:06:23\",\"Succeeded at 2025年1月9日 17:09:27 (Elapsed Time: 3 minutes 3 seconds)\"]' data-show='true'><div id = 'default' /></div></div>"
      ],
      "text/plain": [
       "<Result 'J:\\\\lakemapping\\\\postprocess\\\\v16_250104\\\\6_point.gdb\\\\c1_Asia_lakes_pi_point'>"
      ]
     },
     "execution_count": 26,
     "metadata": {},
     "output_type": "execute_result"
    }
   ],
   "source": [
    "arcpy.analysis.PairwiseIntersect([c_lake_afm_mw_GP_lyr, grid_lyr],c_lake_afm_mw_GP_pi,join_attributes='NO_FID')\n",
    "arcpy.MakeFeatureLayer_management(c_lake_afm_mw_GP_pi,c_lake_afm_mw_GP_pi_lyr)\n",
    "selectByLocation(c_lake_afm_mw_GP_pi_lyr,'SHARE_A_LINE_SEGMENT_WITH',grid_lyr,'NEW_SELECTION')\n",
    "arcpy.CalculateField_management(c_lake_afm_mw_GP_pi_lyr,'lake_area', \"!shape.geodesicArea@SQUAREKILOMETERS!\", \"PYTHON_9.3\")\n",
    "selectByAttribute(c_lake_afm_mw_GP_pi_lyr,'NEW_SELECTION','') \n",
    "arcpy.management.FeatureToPoint(c_lake_afm_mw_GP_pi_lyr,c_lake_afm_mw_GP_pi_point,'INSIDE')"
   ]
  },
  {
   "cell_type": "code",
   "execution_count": 34,
   "metadata": {},
   "outputs": [],
   "source": [
    "total_lake_afm_mwPG_point=os.path.join(point_gdb,'total_lakes_point')\n",
    "total_lake_afm_mwPG_pi_point=os.path.join(point_gdb,'total_lakes_point_pi_new')\n",
    "total_lake_afm_mwPG_point_lyr='total_polygon_afm_mwPG_point'\n",
    "total_lake_afm_mwPG_pi_point_lyr='total_polygon_afm_mwPG_pi_point'"
   ]
  },
  {
   "cell_type": "code",
   "execution_count": 35,
   "metadata": {},
   "outputs": [
    {
     "name": "stdout",
     "output_type": "stream",
     "text": [
      "Asia\n",
      "Siberia\n",
      "Africa\n",
      "Europe\n",
      "Oceania_Anta\n",
      "North_America\n",
      "Arctic\n",
      "South_America\n"
     ]
    },
    {
     "data": {
      "text/html": [
       "<div class='gpresult'><h2>Messages</h2><div id='messages' data-messages='[\"Start Time: 2025年1月15日 19:42:28\",\"Succeeded at 2025年1月15日 19:46:50 (Elapsed Time: 4 minutes 21 seconds)\"]' data-show='true'><div id = 'default' /></div></div>"
      ],
      "text/plain": [
       "<Result 'J:\\\\lakemapping\\\\postprocess\\\\v16_250104\\\\6_point.gdb\\\\total_lakes_point'>"
      ]
     },
     "execution_count": 35,
     "metadata": {},
     "output_type": "execute_result"
    }
   ],
   "source": [
    "merge_list=[]\n",
    "for i in range(0,8):#[1,3,4,5]:\n",
    "    continent=eight_continents[i]\n",
    "    print(continent)\n",
    "    c_lake_afm_mw_GP_point=os.path.join(point_gdb,f'c{i+1}_{continent}_lakes_point')\n",
    "    c_lake_afm_mw_GP_point_lyr=f'c{i+1}_{continent}_lakes_point'\n",
    "    arcpy.MakeFeatureLayer_management(c_lake_afm_mw_GP_point,c_lake_afm_mw_GP_point_lyr)\n",
    "#     arcpy.AddField_management(c_lake_afm_mw_GP_point_lyr,'hu_c1','Short')\n",
    "#     arcpy.AddField_management(c_lake_afm_mw_GP_point_lyr,'hu_c3','Short')\n",
    "#     arcpy.AddField_management(c_lake_afm_mw_GP_point_lyr,'hu_c10','Short')\n",
    "#     arcpy.AddField_management(c_lake_afm_mw_GP_point_lyr,'hu_c100','Short')\n",
    "#     selectByAttribute(c_lake_afm_mw_GP_point_lyr,'NEW_SELECTION',\"lake_type=0\")\n",
    "#     arcpy.CalculateField_management(c_lake_afm_mw_GP_point_lyr,'hu_c1',1)\n",
    "#     selectByAttribute(c_lake_afm_mw_GP_point_lyr,'NEW_SELECTION',\"lake_type=1\")\n",
    "#     arcpy.CalculateField_management(c_lake_afm_mw_GP_point_lyr,'hu_c3',1)\n",
    "#     selectByAttribute(c_lake_afm_mw_GP_point_lyr,'NEW_SELECTION',\"lake_type=2\")\n",
    "#     arcpy.CalculateField_management(c_lake_afm_mw_GP_point_lyr,'hu_c10',1)\n",
    "#     selectByAttribute(c_lake_afm_mw_GP_point_lyr,'NEW_SELECTION',\"lake_type=3\")\n",
    "#     arcpy.CalculateField_management(c_lake_afm_mw_GP_point_lyr,'hu_c100',1)\n",
    "#     selectByAttribute(c_lake_afm_mw_GP_point_lyr,'NEW_SELECTION','')\n",
    "    merge_list.append(c_lake_afm_mw_GP_point_lyr)\n",
    "arcpy.Merge_management(merge_list,total_lake_afm_mwPG_point)"
   ]
  },
  {
   "cell_type": "code",
   "execution_count": 37,
   "metadata": {},
   "outputs": [
    {
     "name": "stdout",
     "output_type": "stream",
     "text": [
      "Asia\n",
      "Siberia\n",
      "Africa\n",
      "Europe\n",
      "Oceania_Anta\n",
      "North_America\n",
      "Arctic\n",
      "South_America\n"
     ]
    },
    {
     "data": {
      "text/html": [
       "<div class='gpresult'><h2>Messages</h2><div id='messages' data-messages='[\"Start Time: 2025年1月15日 20:02:40\",\"Succeeded at 2025年1月15日 20:08:26 (Elapsed Time: 5 minutes 46 seconds)\"]' data-show='true'><div id = 'default' /></div></div>"
      ],
      "text/plain": [
       "<Result 'J:\\\\lakemapping\\\\postprocess\\\\v16_250104\\\\6_point.gdb\\\\total_lakes_point_pi_new'>"
      ]
     },
     "execution_count": 37,
     "metadata": {},
     "output_type": "execute_result"
    }
   ],
   "source": [
    "merge_list=[]\n",
    "for i in range(0,8):#[1,3,4,5]:\n",
    "    continent=eight_continents[i]\n",
    "    print(continent)\n",
    "    c_lake_afm_mw_GP_pi_point=os.path.join(point_gdb,f'c{i+1}_{continent}_lakes_pi_point')\n",
    "    c_lake_afm_mw_GP_pi_point_lyr=f'c{i+1}_{continent}_lakes_pi_point'\n",
    "    arcpy.MakeFeatureLayer_management(c_lake_afm_mw_GP_pi_point,c_lake_afm_mw_GP_pi_point_lyr)\n",
    "#     arcpy.AddField_management(c_lake_afm_mw_GP_pi_point_lyr,'hu_a1','Double')\n",
    "#     arcpy.AddField_management(c_lake_afm_mw_GP_pi_point_lyr,'hu_a3','Double')\n",
    "#     arcpy.AddField_management(c_lake_afm_mw_GP_pi_point_lyr,'hu_a10','Double')\n",
    "#     arcpy.AddField_management(c_lake_afm_mw_GP_pi_point_lyr,'hu_a100','Double')\n",
    "#     selectByAttribute(c_lake_afm_mw_GP_pi_point_lyr,'NEW_SELECTION',\"lake_type=0\")\n",
    "#     arcpy.CalculateField_management(c_lake_afm_mw_GP_pi_point_lyr,'hu_a1','!lake_area!')\n",
    "#     selectByAttribute(c_lake_afm_mw_GP_pi_point_lyr,'NEW_SELECTION',\"lake_type=1\")\n",
    "#     arcpy.CalculateField_management(c_lake_afm_mw_GP_pi_point_lyr,'hu_a3','!lake_area!')\n",
    "#     selectByAttribute(c_lake_afm_mw_GP_pi_point_lyr,'NEW_SELECTION',\"lake_type=2\")\n",
    "#     arcpy.CalculateField_management(c_lake_afm_mw_GP_pi_point_lyr,'hu_a10','!lake_area!')\n",
    "#     selectByAttribute(c_lake_afm_mw_GP_pi_point_lyr,'NEW_SELECTION',\"lake_type=3\")\n",
    "#     arcpy.CalculateField_management(c_lake_afm_mw_GP_pi_point_lyr,'hu_a100','!lake_area!')\n",
    "#     selectByAttribute(c_lake_afm_mw_GP_pi_point_lyr,'NEW_SELECTION','')\n",
    "    merge_list.append(c_lake_afm_mw_GP_pi_point_lyr)\n",
    "arcpy.Merge_management(merge_list,total_lake_afm_mwPG_pi_point)"
   ]
  },
  {
   "cell_type": "code",
   "execution_count": 20,
   "metadata": {},
   "outputs": [
    {
     "ename": "ExecuteError",
     "evalue": "Failed to execute. Parameters are not valid.\nERROR 000732: Input Table: Dataset total_polygon_afm_mwPG_point does not exist or is not supported\nFailed to execute (AddField).\n",
     "output_type": "error",
     "traceback": [
      "\u001b[0;31m---------------------------------------------------------------------------\u001b[0m\n\u001b[0;31mExecuteError\u001b[0m                              Traceback (most recent call last)",
      "In  \u001b[0;34m[20]\u001b[0m:\nLine \u001b[0;34m1\u001b[0m:     arcpy.AddField_management(total_lake_afm_mwPG_point_lyr,\u001b[33m'\u001b[39;49;00m\u001b[33mhu_c1\u001b[39;49;00m\u001b[33m'\u001b[39;49;00m,\u001b[33m'\u001b[39;49;00m\u001b[33mShort\u001b[39;49;00m\u001b[33m'\u001b[39;49;00m)\n",
      "File \u001b[0;34mC:\\Program Files\\ArcGIS\\Pro\\Resources\\ArcPy\\arcpy\\management.py\u001b[0m, in \u001b[0;32mAddField\u001b[0m:\nLine \u001b[0;34m5345\u001b[0m:  \u001b[34mraise\u001b[39;49;00m e\n",
      "File \u001b[0;34mC:\\Program Files\\ArcGIS\\Pro\\Resources\\ArcPy\\arcpy\\management.py\u001b[0m, in \u001b[0;32mAddField\u001b[0m:\nLine \u001b[0;34m5342\u001b[0m:  retval = convertArcObjectToPythonObject(gp.AddField_management(*gp_fixargs((in_table, field_name, field_type, field_precision, field_scale, field_length, field_alias, field_is_nullable, field_is_required, field_domain), \u001b[34mTrue\u001b[39;49;00m)))\n",
      "File \u001b[0;34mC:\\Program Files\\ArcGIS\\Pro\\Resources\\ArcPy\\arcpy\\geoprocessing\\_base.py\u001b[0m, in \u001b[0;32m<lambda>\u001b[0m:\nLine \u001b[0;34m512\u001b[0m:   \u001b[34mreturn\u001b[39;49;00m \u001b[34mlambda\u001b[39;49;00m *args: val(*gp_fixargs(args, \u001b[34mTrue\u001b[39;49;00m))\n",
      "\u001b[0;31mExecuteError\u001b[0m: Failed to execute. Parameters are not valid.\nERROR 000732: Input Table: Dataset total_polygon_afm_mwPG_point does not exist or is not supported\nFailed to execute (AddField).\n\n\u001b[0;31m---------------------------------------------------------------------------\u001b[0m"
     ]
    }
   ],
   "source": [
    "# arcpy.AddField_management(total_lake_afm_mwPG_point_lyr,'hu_c1','Short')\n",
    "# arcpy.AddField_management(total_lake_afm_mwPG_point_lyr,'hu_c3','Short')\n",
    "# arcpy.AddField_management(total_lake_afm_mwPG_point_lyr,'hu_c10','Short')\n",
    "# arcpy.AddField_management(total_lake_afm_mwPG_point_lyr,'hu_c100','Short')\n",
    "# selectByAttribute(total_lake_afm_mwPG_point_lyr,'NEW_SELECTION',\"lake_type=0\")\n",
    "# arcpy.CalculateField_management(total_lake_afm_mwPG_point_lyr,'hu_c1',1)\n",
    "# selectByAttribute(total_lake_afm_mwPG_point_lyr,'NEW_SELECTION',\"lake_type=1\")\n",
    "# arcpy.CalculateField_management(total_lake_afm_mwPG_point_lyr,'hu_c3',1)\n",
    "# selectByAttribute(total_lake_afm_mwPG_point_lyr,'NEW_SELECTION',\"lake_type=2\")\n",
    "# arcpy.CalculateField_management(total_lake_afm_mwPG_point_lyr,'hu_c10',1)\n",
    "# selectByAttribute(total_lake_afm_mwPG_point_lyr,'NEW_SELECTION',\"lake_type=3\")\n",
    "# arcpy.CalculateField_management(total_lake_afm_mwPG_point_lyr,'hu_c100',1)"
   ]
  },
  {
   "cell_type": "code",
   "execution_count": null,
   "metadata": {},
   "outputs": [
    {
     "data": {
      "text/html": [
       "<div class='gpresult'><h2>Messages</h2><div id='messages' data-messages='[\"Start Time: 2024年12月12日 18:47:38\",\"Succeeded at 2024年12月12日 19:13:16 (Elapsed Time: 25 minutes 37 seconds)\"]' data-show='true'><div id = 'default' /></div></div>"
      ],
      "text/plain": [
       "<Result 'total_polygon_afm_mwPG_pi_point'>"
      ]
     },
     "execution_count": 53,
     "metadata": {},
     "output_type": "execute_result"
    }
   ],
   "source": [
    "# arcpy.AddField_management(total_lake_afm_mwPG_pi_point_lyr,'hu_a1','Double')\n",
    "# arcpy.AddField_management(total_lake_afm_mwPG_pi_point_lyr,'hu_a3','Double')\n",
    "# arcpy.AddField_management(total_lake_afm_mwPG_pi_point_lyr,'hu_a10','Double')\n",
    "# arcpy.AddField_management(total_lake_afm_mwPG_pi_point_lyr,'hu_a100','Double')\n",
    "# selectByAttribute(total_lake_afm_mwPG_pi_point_lyr,'NEW_SELECTION',\"lake_type=0\")\n",
    "# arcpy.CalculateField_management(total_lake_afm_mwPG_pi_point_lyr,'hu_a1','!lake_area!')\n",
    "# selectByAttribute(total_lake_afm_mwPG_pi_point_lyr,'NEW_SELECTION',\"lake_type=1\")\n",
    "# arcpy.CalculateField_management(total_lake_afm_mwPG_pi_point_lyr,'hu_a3','!lake_area!')\n",
    "# selectByAttribute(total_lake_afm_mwPG_pi_point_lyr,'NEW_SELECTION',\"lake_type=2\")\n",
    "# arcpy.CalculateField_management(total_lake_afm_mwPG_pi_point_lyr,'hu_a10','!lake_area!')\n",
    "# selectByAttribute(total_lake_afm_mwPG_pi_point_lyr,'NEW_SELECTION',\"lake_type=3\")\n",
    "# arcpy.CalculateField_management(total_lake_afm_mwPG_pi_point_lyr,'hu_a100','!lake_area!')"
   ]
  },
  {
   "cell_type": "code",
   "execution_count": 23,
   "metadata": {},
   "outputs": [
    {
     "data": {
      "text/html": [
       "<div class='gpresult'><h2>Messages</h2><div id='messages' data-messages='[\"Start Time: 2025年1月13日 21:02:11\",\"Succeeded at 2025年1月13日 21:02:12 (Elapsed Time: 0.82 seconds)\"]' data-show='true'><div id = 'default' /></div></div>"
      ],
      "text/plain": [
       "<Result 'D:\\\\lakemapping\\\\10_paper_writting\\\\figure\\\\8_visualize.gdb\\\\Data_5_GLAKES_plus'>"
      ]
     },
     "execution_count": 23,
     "metadata": {},
     "output_type": "execute_result"
    }
   ],
   "source": [
    "merge_list=[]\n",
    "gdb=r'D:\\lakemapping\\10_paper_writting\\figure\\8_visualize.gdb'\n",
    "sample_result=os.path.join(gdb,'Data_5_GLAKES_plus')\n",
    "lyr='Region_5_for_visualize'\n",
    "for i in range(0,8):#[1,3,4,5]:\n",
    "    continent=eight_continents[i]\n",
    "    c_lake_afm_mw_GP=os.path.join(merge_gdb,f'c{i+1}_{continent}_lakes')\n",
    "    c_lake_afm_mw_GP_lyr=f'c{i+1}_{continent}_lakes'\n",
    "    arcpy.MakeFeatureLayer_management(c_lake_afm_mw_GP,c_lake_afm_mw_GP_lyr)\n",
    "    selectByLocation(c_lake_afm_mw_GP_lyr, 'INTERSECT',lyr,'NEW_SELECTION')\n",
    "    merge_list.append(c_lake_afm_mw_GP_lyr)\n",
    "arcpy.Merge_management(merge_list,sample_result)"
   ]
  },
  {
   "cell_type": "code",
   "execution_count": 41,
   "metadata": {},
   "outputs": [
    {
     "data": {
      "text/html": [
       "<div class='gpresult'><h2>Messages</h2><div id='messages' data-messages='[\"Start Time: 2025年1月15日 21:04:27\",\"Succeeded at 2025年1月15日 21:04:27 (Elapsed Time: 0.01 seconds)\"]' data-show='true'><div id = 'default' /></div></div>"
      ],
      "text/plain": [
       "<Result 'total_polygon_afm_mwPG_pi_point'>"
      ]
     },
     "execution_count": 41,
     "metadata": {},
     "output_type": "execute_result"
    }
   ],
   "source": [
    "arcpy.MakeFeatureLayer_management(total_lake_afm_mwPG_point,total_lake_afm_mwPG_point_lyr)\n",
    "arcpy.MakeFeatureLayer_management(total_lake_afm_mwPG_pi_point,total_lake_afm_mwPG_pi_point_lyr)"
   ]
  },
  {
   "cell_type": "code",
   "execution_count": 42,
   "metadata": {},
   "outputs": [
    {
     "name": "stdout",
     "output_type": "stream",
     "text": [
      "Conduct spatial join\n",
      "Conduct spatial join\n"
     ]
    },
    {
     "data": {
      "text/html": [
       "<div class='gpresult'><h2>Messages</h2><div id='messages' data-messages='[\"Start Time: 2025年1月15日 21:07:38\",\"Succeeded at 2025年1月15日 21:07:38 (Elapsed Time: 0.02 seconds)\"]' data-show='true'><div id = 'default' /></div></div>"
      ],
      "text/plain": [
       "<Result 'Global_grid_shp_1degree_hu_Count_Area'>"
      ]
     },
     "execution_count": 42,
     "metadata": {},
     "output_type": "execute_result"
    }
   ],
   "source": [
    "fieldmappings = arcpy.FieldMappings()\n",
    "fieldmappings_all = arcpy.FieldMappings()\n",
    "fieldmappings_all.addTable(grid_lyr)\n",
    "field_list = ['grid_area','Lat_down','Lon_left','Grid_ID']\n",
    "for field_i in field_list:\n",
    "    field_idx = fieldmappings_all.findFieldMapIndex(field_i)\n",
    "    fieldmappings.addFieldMap(fieldmappings_all.getFieldMap(field_idx))\n",
    "    \n",
    "fieldmappings_all.addTable(total_lake_afm_mwPG_point_lyr)\n",
    "field_list = ['hu_c1','hu_c3','hu_c10','hu_c100']\n",
    "for field_i in field_list:\n",
    "    field_idx = fieldmappings_all.findFieldMapIndex(field_i)\n",
    "    field_fieldmap = fieldmappings_all.getFieldMap(field_idx)\n",
    "    field_fieldmap.mergeRule = \"sum\"\n",
    "    fieldmappings.addFieldMap(field_fieldmap)\n",
    "\n",
    "print('Conduct spatial join')\n",
    "arcpy.SpatialJoin_analysis(grid_lyr, total_lake_afm_mwPG_point_lyr, polygon_afm_mwPG_Count_SJ, \"JOIN_ONE_TO_ONE\",\n",
    "                           \"KEEP_ALL\", fieldmappings, \"CONTAINS\")\n",
    "arcpy.MakeFeatureLayer_management(polygon_afm_mwPG_Count_SJ, polygon_afm_mwPG_Count_SJ_lyr)\n",
    "\n",
    "fieldmappings = arcpy.FieldMappings()\n",
    "fieldmappings_all = arcpy.FieldMappings()\n",
    "fieldmappings_all.addTable(polygon_afm_mwPG_Count_SJ_lyr)\n",
    "field_list = ['grid_area','Join_Count','hu_c1','hu_c3','hu_c10','hu_c100','Lat_down','Lon_left','Grid_ID']\n",
    "for field_i in field_list:\n",
    "    field_idx = fieldmappings_all.findFieldMapIndex(field_i)\n",
    "    field_fieldmap = fieldmappings_all.getFieldMap(field_idx)\n",
    "    if field_i=='Join_Count':\n",
    "        outputField=field_fieldmap.outputField\n",
    "        outputField.name='hu_c0'\n",
    "        outputField.alias='hu_c0'\n",
    "        field_fieldmap.outputField=outputField\n",
    "    fieldmappings.addFieldMap(field_fieldmap)\n",
    "\n",
    "fieldmappings_all.addTable(total_lake_afm_mwPG_pi_point_lyr)\n",
    "field_list = ['lake_area','hu_a1','hu_a3','hu_a10','hu_a100']\n",
    "for field_i in field_list:\n",
    "    field_idx = fieldmappings_all.findFieldMapIndex(field_i)\n",
    "    field_fieldmap = fieldmappings_all.getFieldMap(field_idx)\n",
    "    field_fieldmap.mergeRule = \"sum\"\n",
    "    if field_i=='lake_area':\n",
    "        outputField=field_fieldmap.outputField\n",
    "        outputField.name='hu_a0'\n",
    "        outputField.alias='hu_a0'\n",
    "        field_fieldmap.outputField=outputField\n",
    "    fieldmappings.addFieldMap(field_fieldmap)\n",
    "\n",
    "print('Conduct spatial join')\n",
    "arcpy.SpatialJoin_analysis(polygon_afm_mwPG_Count_SJ_lyr, total_lake_afm_mwPG_pi_point_lyr, polygon_afm_mwPG_Count_Area_SJ, \"JOIN_ONE_TO_ONE\",\n",
    "                           \"KEEP_ALL\", fieldmappings, \"CONTAINS\")\n",
    "arcpy.MakeFeatureLayer_management(polygon_afm_mwPG_Count_Area_SJ, polygon_afm_mwPG_Count_Area_SJ_lyr)"
   ]
  },
  {
   "cell_type": "code",
   "execution_count": 38,
   "metadata": {},
   "outputs": [
    {
     "data": {
      "text/html": [
       "<div class='gpresult'><h2>Messages</h2><div id='messages' data-messages='[\"Start Time: 2025年1月10日 14:13:35\",\"Succeeded at 2025年1月10日 14:13:35 (Elapsed Time: 0.06 seconds)\"]' data-show='true'><div id = 'default' /></div></div>"
      ],
      "text/plain": [
       "<Result 'Global_grid_shp_1degree_hu_Count_Area'>"
      ]
     },
     "execution_count": 38,
     "metadata": {},
     "output_type": "execute_result"
    }
   ],
   "source": [
    "arcpy.MakeFeatureLayer_management(polygon_afm_mwPG_Count_Area_SJ, polygon_afm_mwPG_Count_Area_SJ_lyr)"
   ]
  },
  {
   "cell_type": "code",
   "execution_count": 43,
   "metadata": {},
   "outputs": [],
   "source": [
    "field_list=['hu_c0','hu_c1','hu_c3','hu_c10','hu_c100','hu_a0','hu_a1','hu_a3','hu_a10','hu_a100']\n",
    "for field in field_list:\n",
    "    selectByAttribute(polygon_afm_mwPG_Count_Area_SJ_lyr,'NEW_SELECTION',f'{field} IS NULL')\n",
    "    arcpy.CalculateField_management(polygon_afm_mwPG_Count_Area_SJ_lyr,field,0)\n",
    "selectByAttribute(polygon_afm_mwPG_Count_Area_SJ_lyr,'NEW_SELECTION','')"
   ]
  },
  {
   "cell_type": "code",
   "execution_count": 45,
   "metadata": {},
   "outputs": [],
   "source": [
    "# target_lyr=polygon_afm_mwPG_Count_Area_SJ_lyr#polygon_afm_mwBL_BG_Count_Area_SJ_lyr\n",
    "# join_lyr=PLD_Count_Area_SJ_lyr\n",
    "\n",
    "# arcpy.AddField_management(target_lyr,'hu_ap','double')\n",
    "# arcpy.AddField_management(target_lyr,'hu_ap_small_lake','double')\n",
    "# calculateField(target_lyr,'hu_ap','!hu_a0!/!grid_area!*100')\n",
    "# selectByAttribute(target_lyr,\"NEW_SELECTION\",'\"hu_a0\"<> 0')\n",
    "# calculateField(target_lyr,'hu_ap_small_lake','(!hu_a1!+!hu_a3!+!hu_a10!+!hu_a100!)/!hu_a0!*100')\n",
    "\n",
    "# arcpy.AddField_management(target_lyr,'diff_c0','Long')\n",
    "# arcpy.AddField_management(target_lyr,'diff_c_gt1','Long')\n",
    "# arcpy.AddField_management(target_lyr,'diff_c3','Long')\n",
    "# arcpy.AddField_management(target_lyr,'diff_c10','Long')\n",
    "# arcpy.AddField_management(target_lyr,'diff_c100','Long')\n",
    "\n",
    "# arcpy.AddField_management(target_lyr,'diff_a0','double')\n",
    "# arcpy.AddField_management(target_lyr,'diff_a3','double')\n",
    "# arcpy.AddField_management(target_lyr,'diff_a10','double')\n",
    "# arcpy.AddField_management(target_lyr,'diff_a100','double')\n",
    "\n",
    "arcpy.management.AddJoin(target_lyr,'Grid_ID',join_lyr,'Grid_ID','keep_all')\n",
    "\n",
    "calculateField(target_lyr,'diff_c0',f'!{target_lyr}.hu_c0!-!{join_lyr}.pld_c0!')\n",
    "calculateField(target_lyr,'diff_c_gt1',f'!{target_lyr}.diff_c0!-!{target_lyr}.hu_c1!')\n",
    "calculateField(target_lyr,'diff_c3',f'!{target_lyr}.hu_c3!-!{join_lyr}.pld_c3!')\n",
    "calculateField(target_lyr,'diff_c10',f'!{target_lyr}.hu_c10!-!{join_lyr}.pld_c10!')\n",
    "calculateField(target_lyr,'diff_c100',f'!{target_lyr}.hu_c100!-!{join_lyr}.pld_c100!')\n",
    "calculateField(target_lyr,'diff_a0',f'!{target_lyr}.hu_a0!-!{join_lyr}.pld_a0!')\n",
    "calculateField(target_lyr,'diff_a3',f'!{target_lyr}.hu_a3!-!{join_lyr}.pld_a3!')\n",
    "calculateField(target_lyr,'diff_a10',f'!{target_lyr}.hu_a10!-!{join_lyr}.pld_a10!')\n",
    "calculateField(target_lyr,'diff_a100',f'!{target_lyr}.hu_a100!-!{join_lyr}.pld_a100!')\n",
    "# calculateField(target_lyr,'diff_c0','!hu_c0!-!pld_c0!')\n",
    "# calculateField(target_lyr,'diff_c_gt1','!diff_c0!-!hu_c1!')\n",
    "# calculateField(target_lyr,'diff_c3','!hu_c3!-!pld_c3!')\n",
    "# calculateField(target_lyr,'diff_c10','!hu_c10!-!pld_c10!')\n",
    "# calculateField(target_lyr,'diff_c100','!hu_c100!-!pld_c100!')\n",
    "# calculateField(target_lyr,'diff_a0','!hu_a0!-!pld_a0!')\n",
    "# calculateField(target_lyr,'diff_a3','!hu_a3!-!pld_a3!')\n",
    "# calculateField(target_lyr,'diff_a10','!hu_a10!-!pld_a10!')\n",
    "# calculateField(target_lyr,'diff_a100','!hu_a100!-!pld_a100!')"
   ]
  },
  {
   "cell_type": "markdown",
   "metadata": {},
   "source": [
    "## 处理GLAKES"
   ]
  },
  {
   "cell_type": "code",
   "execution_count": 19,
   "metadata": {},
   "outputs": [],
   "source": [
    "GLAKES_Count_Area_SJ=os.path.join(temp_gdb,'Global_grid_shp_1degree_GLAKES_Count_Area')\n",
    "GLAKES_Count_Area_SJ_lyr='GLAKES_Count_Area_SJ'\n",
    "# arcpy.MakeFeatureLayer_management(GLAKES_Count_Area_SJ, GLAKES_Count_Area_SJ_lyr)"
   ]
  },
  {
   "cell_type": "code",
   "execution_count": 28,
   "metadata": {},
   "outputs": [
    {
     "name": "stdout",
     "output_type": "stream",
     "text": [
      "au1_GLAKES_niwSHIFT\n",
      "start transform to point\n",
      "start pairwise intersect\n"
     ]
    }
   ],
   "source": [
    "for layer in [GLAKES_niwSHIFT_lyr]:#[1,3,4,5]:,GLAKES_iwSHIFT_afm_keep_arid_lyr\n",
    "    print(layer)\n",
    "    GLAKES_point=os.path.join(point_gdb,f'{layer}_point')\n",
    "    GLAKES_point_lyr=f'{layer}_point'\n",
    "    GLAKES_pi=os.path.join(temp_gdb,f'{layer}_pi')\n",
    "    GLAKES_pi_lyr=f'{layer}_pi'\n",
    "    GLAKES_pi_point=os.path.join(point_gdb,f'{layer}_pi_point')\n",
    "    GLAKES_pi_point_lyr=f'{layer}_pi_point'\n",
    "#     arcpy.AddField_management(layer,'lake_type','Short')\n",
    "#     selectByAttribute(layer,'NEW_SELECTION',\"Area_bound <0.1\")\n",
    "#     arcpy.CalculateField_management(layer,'lake_type',2)\n",
    "#     selectByAttribute(layer,'NEW_SELECTION',\"Area_bound>=0.1 and Area_bound <1\")\n",
    "#     arcpy.CalculateField_management(layer,'lake_type',3)\n",
    "#     selectByAttribute(layer,'NEW_SELECTION',\"Area_bound>=1 and Area_bound <100\")\n",
    "#     arcpy.CalculateField_management(layer,'lake_type',4)\n",
    "#     selectByAttribute(layer,'NEW_SELECTION',\"Area_bound>=100\")\n",
    "#     arcpy.CalculateField_management(layer,'lake_type',5)\n",
    "    \n",
    "    print('start transform to point')\n",
    "#     selectByAttribute(layer,'NEW_SELECTION','') \n",
    "    arcpy.management.FeatureToPoint(layer,GLAKES_point,'INSIDE')\n",
    "    print('start pairwise intersect')\n",
    "    arcpy.analysis.PairwiseIntersect([layer, grid_lyr],GLAKES_pi,join_attributes='NO_FID')\n",
    "    arcpy.MakeFeatureLayer_management(GLAKES_pi,GLAKES_pi_lyr)\n",
    "    selectByLocation(GLAKES_pi_lyr,'SHARE_A_LINE_SEGMENT_WITH',grid_lyr,'NEW_SELECTION')\n",
    "    arcpy.CalculateField_management(GLAKES_pi_lyr,'Area_bound', \"!shape.geodesicArea@SQUAREKILOMETERS!\", \"PYTHON_9.3\")\n",
    "    selectByAttribute(GLAKES_pi_lyr,'NEW_SELECTION','') \n",
    "    arcpy.management.FeatureToPoint(GLAKES_pi_lyr,GLAKES_pi_point,'INSIDE')"
   ]
  },
  {
   "cell_type": "code",
   "execution_count": 29,
   "metadata": {},
   "outputs": [],
   "source": [
    "GLAKES_new_point_lyr='GLAKES_new_point'\n",
    "GLAKES_new_pi_point_lyr='GLAKES_new_pi_point'"
   ]
  },
  {
   "cell_type": "code",
   "execution_count": 34,
   "metadata": {},
   "outputs": [
    {
     "data": {
      "text/html": [
       "<div class='gpresult'><h2>Messages</h2><div id='messages' data-messages='[\"Start Time: 2024年12月20日 10:20:31\",\"Succeeded at 2024年12月20日 10:21:06 (Elapsed Time: 35.62 seconds)\"]' data-show='true'><div id = 'default' /></div></div>"
      ],
      "text/plain": [
       "<Result 'GLAKES_new_pi_point'>"
      ]
     },
     "execution_count": 34,
     "metadata": {},
     "output_type": "execute_result"
    }
   ],
   "source": [
    "# arcpy.AddField_management(GLAKES_new_point_lyr,'GL_c10','Short')\n",
    "# arcpy.AddField_management(GLAKES_new_point_lyr,'GL_c100','Short')\n",
    "# selectByAttribute(GLAKES_new_point_lyr,'NEW_SELECTION',\"lake_type=2\")\n",
    "# arcpy.CalculateField_management(GLAKES_new_point_lyr,'GL_c10',1)\n",
    "# selectByAttribute(GLAKES_new_point_lyr,'NEW_SELECTION',\"lake_type=3\")\n",
    "# arcpy.CalculateField_management(GLAKES_new_point_lyr,'GL_c100',1)\n",
    "selectByAttribute(GLAKES_new_point_lyr,'NEW_SELECTION',\"\")\n",
    "\n",
    "arcpy.AddField_management(GLAKES_new_pi_point_lyr,'GL_a10','Double')\n",
    "arcpy.AddField_management(GLAKES_new_pi_point_lyr,'GL_a100','Double')\n",
    "selectByAttribute(GLAKES_new_pi_point_lyr,'NEW_SELECTION',\"lake_type=2\")\n",
    "arcpy.CalculateField_management(GLAKES_new_pi_point_lyr,'GL_a10','!Area_bound!')\n",
    "selectByAttribute(GLAKES_new_pi_point_lyr,'NEW_SELECTION',\"lake_type=3\")\n",
    "arcpy.CalculateField_management(GLAKES_new_pi_point_lyr,'GL_a100','!Area_bound!')\n",
    "selectByAttribute(GLAKES_new_pi_point_lyr,'NEW_SELECTION',\"\")"
   ]
  },
  {
   "cell_type": "code",
   "execution_count": 32,
   "metadata": {},
   "outputs": [],
   "source": [
    "GLAKES_Count_SJ=os.path.join(temp_gdb,'Global_grid_shp_1degree_GLAKES_Count')\n",
    "GLAKES_Count_SJ_lyr='GLAKES_Count_SJ'\n",
    "GLAKES_Count_Area_SJ=os.path.join(temp_gdb,'Global_grid_shp_1degree_GLAKES_Count_Area')\n",
    "GLAKES_Count_Area_SJ_lyr='GLAKES_Count_Area_SJ'"
   ]
  },
  {
   "cell_type": "code",
   "execution_count": 91,
   "metadata": {},
   "outputs": [],
   "source": [
    "calculateField(GLAKES_Count_Area_SJ_lyr,'GL_ap','!GL_a0!/!grid_area!*100')"
   ]
  },
  {
   "cell_type": "code",
   "execution_count": 35,
   "metadata": {},
   "outputs": [
    {
     "name": "stdout",
     "output_type": "stream",
     "text": [
      "Conduct spatial join\n",
      "Conduct spatial join\n"
     ]
    },
    {
     "data": {
      "text/html": [
       "<div class='gpresult'><h2>Messages</h2><div id='messages' data-messages='[\"Start Time: 2024年12月20日 10:29:52\",\"Succeeded at 2024年12月20日 10:29:52 (Elapsed Time: 0.01 seconds)\"]' data-show='true'><div id = 'default' /></div></div>"
      ],
      "text/plain": [
       "<Result 'GLAKES_Count_Area_SJ'>"
      ]
     },
     "execution_count": 35,
     "metadata": {},
     "output_type": "execute_result"
    }
   ],
   "source": [
    "fieldmappings = arcpy.FieldMappings()\n",
    "fieldmappings_all = arcpy.FieldMappings()\n",
    "fieldmappings_all.addTable(grid_lyr)\n",
    "field_list = ['grid_area','Lat_down','Lon_left','Grid_ID']\n",
    "for field_i in field_list:\n",
    "    field_idx = fieldmappings_all.findFieldMapIndex(field_i)\n",
    "    fieldmappings.addFieldMap(fieldmappings_all.getFieldMap(field_idx))\n",
    "    \n",
    "fieldmappings_all.addTable(GLAKES_new_point_lyr)\n",
    "field_list = ['GL_c10','GL_c100']\n",
    "for field_i in field_list:\n",
    "    field_idx = fieldmappings_all.findFieldMapIndex(field_i)\n",
    "    field_fieldmap = fieldmappings_all.getFieldMap(field_idx)\n",
    "    field_fieldmap.mergeRule = \"sum\"\n",
    "    fieldmappings.addFieldMap(field_fieldmap)\n",
    "\n",
    "print('Conduct spatial join')\n",
    "arcpy.SpatialJoin_analysis(grid_lyr, GLAKES_new_point_lyr, GLAKES_Count_SJ, \"JOIN_ONE_TO_ONE\",\n",
    "                           \"KEEP_ALL\", fieldmappings, \"CONTAINS\")\n",
    "arcpy.MakeFeatureLayer_management(GLAKES_Count_SJ, GLAKES_Count_SJ_lyr)\n",
    "\n",
    "fieldmappings = arcpy.FieldMappings()\n",
    "fieldmappings_all = arcpy.FieldMappings()\n",
    "fieldmappings_all.addTable(GLAKES_Count_SJ)\n",
    "field_list = ['grid_area','Join_Count','GL_c10','GL_c100','Lat_down','Lon_left','Grid_ID']\n",
    "for field_i in field_list:\n",
    "    field_idx = fieldmappings_all.findFieldMapIndex(field_i)\n",
    "    field_fieldmap = fieldmappings_all.getFieldMap(field_idx)\n",
    "    if field_i=='Join_Count':\n",
    "        outputField=field_fieldmap.outputField\n",
    "        outputField.name='GL_c0'\n",
    "        outputField.alias='GL_c0'\n",
    "        field_fieldmap.outputField=outputField\n",
    "    fieldmappings.addFieldMap(field_fieldmap)\n",
    "\n",
    "fieldmappings_all.addTable(GLAKES_new_pi_point_lyr)\n",
    "field_list = ['Area_bound','GL_a10','GL_a100']\n",
    "for field_i in field_list:\n",
    "    field_idx = fieldmappings_all.findFieldMapIndex(field_i)\n",
    "    field_fieldmap = fieldmappings_all.getFieldMap(field_idx)\n",
    "    field_fieldmap.mergeRule = \"sum\"\n",
    "    if field_i=='Area_bound':\n",
    "        outputField=field_fieldmap.outputField\n",
    "        outputField.name='GL_a0'\n",
    "        outputField.alias='GL_a0'\n",
    "        field_fieldmap.outputField=outputField\n",
    "    fieldmappings.addFieldMap(field_fieldmap)\n",
    "\n",
    "print('Conduct spatial join')\n",
    "arcpy.SpatialJoin_analysis(GLAKES_Count_SJ_lyr, GLAKES_new_pi_point_lyr, GLAKES_Count_Area_SJ, \"JOIN_ONE_TO_ONE\",\n",
    "                           \"KEEP_ALL\", fieldmappings, \"CONTAINS\")\n",
    "arcpy.MakeFeatureLayer_management(GLAKES_Count_Area_SJ, GLAKES_Count_Area_SJ_lyr)"
   ]
  },
  {
   "cell_type": "code",
   "execution_count": 36,
   "metadata": {},
   "outputs": [],
   "source": [
    "field_list=['GL_c0','GL_c10','GL_c100','GL_a0','GL_a10','GL_a100']\n",
    "for field in field_list:\n",
    "    selectByAttribute(GLAKES_Count_Area_SJ_lyr,'NEW_SELECTION',f'{field} IS NULL')\n",
    "    arcpy.CalculateField_management(GLAKES_Count_Area_SJ_lyr,field,0)\n",
    "selectByAttribute(GLAKES_Count_Area_SJ_lyr,'NEW_SELECTION','')"
   ]
  },
  {
   "cell_type": "code",
   "execution_count": 37,
   "metadata": {},
   "outputs": [
    {
     "ename": "ExecuteError",
     "evalue": "ERROR 000539: Invalid field GLAKES_Count_Area_SJ.GL_c0\nFailed to execute (CalculateField).\n",
     "output_type": "error",
     "traceback": [
      "\u001b[0;31m---------------------------------------------------------------------------\u001b[0m\n\u001b[0;31mExecuteError\u001b[0m                              Traceback (most recent call last)",
      "In  \u001b[0;34m[37]\u001b[0m:\nLine \u001b[0;34m15\u001b[0m:    calculateField(target_lyr,\u001b[33m'\u001b[39;49;00m\u001b[33mdiff_G_c0\u001b[39;49;00m\u001b[33m'\u001b[39;49;00m,\u001b[33mf\u001b[39;49;00m\u001b[33m'\u001b[39;49;00m\u001b[33m!\u001b[39;49;00m\u001b[33m{\u001b[39;49;00mtarget_lyr\u001b[33m}\u001b[39;49;00m\u001b[33m.hu_c0!-!\u001b[39;49;00m\u001b[33m{\u001b[39;49;00mjoin_lyr\u001b[33m}\u001b[39;49;00m\u001b[33m.GL_c0!\u001b[39;49;00m\u001b[33m'\u001b[39;49;00m)\n",
      "In  \u001b[0;34m[7]\u001b[0m:\nLine \u001b[0;34m8\u001b[0m:     arcpy.CalculateField_management(inputFeature, field,code)\n",
      "File \u001b[0;34mC:\\Program Files\\ArcGIS\\Pro\\Resources\\ArcPy\\arcpy\\management.py\u001b[0m, in \u001b[0;32mCalculateField\u001b[0m:\nLine \u001b[0;34m5786\u001b[0m:  \u001b[34mraise\u001b[39;49;00m e\n",
      "File \u001b[0;34mC:\\Program Files\\ArcGIS\\Pro\\Resources\\ArcPy\\arcpy\\management.py\u001b[0m, in \u001b[0;32mCalculateField\u001b[0m:\nLine \u001b[0;34m5783\u001b[0m:  retval = convertArcObjectToPythonObject(gp.CalculateField_management(*gp_fixargs((in_table, field, expression, expression_type, code_block, field_type, enforce_domains), \u001b[34mTrue\u001b[39;49;00m)))\n",
      "File \u001b[0;34mC:\\Program Files\\ArcGIS\\Pro\\Resources\\ArcPy\\arcpy\\geoprocessing\\_base.py\u001b[0m, in \u001b[0;32m<lambda>\u001b[0m:\nLine \u001b[0;34m512\u001b[0m:   \u001b[34mreturn\u001b[39;49;00m \u001b[34mlambda\u001b[39;49;00m *args: val(*gp_fixargs(args, \u001b[34mTrue\u001b[39;49;00m))\n",
      "\u001b[0;31mExecuteError\u001b[0m: ERROR 000539: Invalid field GLAKES_Count_Area_SJ.GL_c0\nFailed to execute (CalculateField).\n\n\u001b[0;31m---------------------------------------------------------------------------\u001b[0m"
     ]
    }
   ],
   "source": [
    "target_lyr=polygon_afm_mwPG_Count_Area_SJ_lyr#polygon_afm_mwBL_BG_Count_Area_SJ_lyr\n",
    "join_lyr=GLAKES_Count_Area_SJ_lyr\n",
    "\n",
    "arcpy.AddField_management(target_lyr,'diff_G_c0','Long')\n",
    "arcpy.AddField_management(target_lyr,'diff_G_c_gt3','Long')\n",
    "arcpy.AddField_management(target_lyr,'diff_G_c10','Long')\n",
    "arcpy.AddField_management(target_lyr,'diff_G_c100','Long')\n",
    "\n",
    "arcpy.AddField_management(target_lyr,'diff_G_a0','double')\n",
    "arcpy.AddField_management(target_lyr,'diff_G_a10','double')\n",
    "arcpy.AddField_management(target_lyr,'diff_G_a100','double')\n",
    "\n",
    "arcpy.management.AddJoin(target_lyr,'Grid_ID',join_lyr,'Grid_ID','keep_all')\n",
    "\n",
    "calculateField(target_lyr,'diff_G_c0',f'!{target_lyr}.hu_c0!-!{join_lyr}.GL_c0!')\n",
    "calculateField(target_lyr,'diff_G_c_gt3',f'!{target_lyr}.diff_c0!-!{target_lyr}.GL_c3!')\n",
    "calculateField(target_lyr,'diff_G_c10',f'!{target_lyr}.hu_c10!-!{join_lyr}.GL_c10!')\n",
    "calculateField(target_lyr,'diff_c100',f'!{target_lyr}.hu_c100!-!{join_lyr}.GL_c100!')\n",
    "calculateField(target_lyr,'diff_a0',f'!{target_lyr}.hu_a0!-!{join_lyr}.GL_a0!')\n",
    "calculateField(target_lyr,'diff_a10',f'!{target_lyr}.hu_a10!-!{join_lyr}.GL_a10!')\n",
    "calculateField(target_lyr,'diff_a100',f'!{target_lyr}.hu_a100!-!{join_lyr}.GL_a100!')\n",
    "# calculateField(target_lyr,'diff_G_c0','!hu_c0!-!GL_c0!')\n",
    "# calculateField(target_lyr,'diff_G_c_gt3','!diff_c0!-!GL_c1!')\n",
    "# calculateField(target_lyr,'diff_G_c3','!hu_c3!-!GL_c3!')\n",
    "# calculateField(target_lyr,'diff_G_c10','!hu_c10!-!GL_c10!')\n",
    "# calculateField(target_lyr,'diff_G_c100','!hu_c100!-!GL_c100!')\n",
    "# calculateField(target_lyr,'diff_G_a0','!hu_a0!-!GL_a0!')\n",
    "# calculateField(target_lyr,'diff_G_a10','!hu_a10!-!GL_a10!')\n",
    "# calculateField(target_lyr,'diff_G_a100','!hu_a100!-!GL_a100!')"
   ]
  },
  {
   "cell_type": "code",
   "execution_count": null,
   "metadata": {},
   "outputs": [],
   "source": [
    "## 处理HydroLAKES"
   ]
  },
  {
   "cell_type": "code",
   "execution_count": null,
   "metadata": {},
   "outputs": [],
   "source": [
    "HydroLAKES=os.path.join(auxiliary_dataset_gdb,'Hydrolakes')\n",
    "HydroLAKES_lyr='HydroLAKES'\n",
    "arcpy.MakeFeatureLayer_management(HydroLAKES,HydroLAKES_lyr)\n",
    "HydroLAKES_point=os.path.join(point_gdb,f'HydroLAKES_point')\n",
    "HydroLAKES_point_lyr=f'HydroLAKES_point'\n",
    "HydroLAKES_pi=os.path.join(temp_gdb,f'HydroLAKES_pi')\n",
    "HydroLAKES_pi_lyr=f'HydroLAKES_pi'\n",
    "HydroLAKES_pi_point=os.path.join(point_gdb,f'HydroLAKES_pi_point')\n",
    "HydroLAKES_pi_point_lyr=f'HydroLAKES_pi_point'\n",
    "arcpy.AddField_management(HydroLAKES_lyr,'lake_type','Short')\n",
    "selectByAttribute(HydroLAKES_lyr,'NEW_SELECTION',\"Lake_area <1\")\n",
    "arcpy.CalculateField_management(HydroLAKES_lyr,'lake_type',3)\n",
    "selectByAttribute(HydroLAKES_lyr,'NEW_SELECTION',\"Lake_area>=1 and Lake_area <100\")\n",
    "arcpy.CalculateField_management(HydroLAKES_lyr,'lake_type',4)\n",
    "selectByAttribute(HydroLAKES_lyr,'NEW_SELECTION',\"Lake_area>=100\")\n",
    "arcpy.CalculateField_management(HydroLAKES_lyr,'lake_type',5)\n",
    "print('start transform to point')\n",
    "selectByAttribute(HydroLAKES_lyr,'NEW_SELECTION','') \n",
    "arcpy.management.FeatureToPoint(HydroLAKES_lyr,HydroLAKES_point,'INSIDE')\n",
    "print('start pairwise intersect')\n",
    "arcpy.analysis.PairwiseIntersect([HydroLAKES_lyr, grid_lyr],HydroLAKES_pi,join_attributes='NO_FID')\n",
    "arcpy.MakeFeatureLayer_management(HydroLAKES_pi,HydroLAKES_pi_lyr)\n",
    "selectByLocation(HydroLAKES_pi_lyr,'SHARE_A_LINE_SEGMENT_WITH',grid_lyr,'NEW_SELECTION')\n",
    "arcpy.CalculateField_management(HydroLAKES_pi_lyr,'Lake_area', \"!shape.geodesicArea@SQUAREKILOMETERS!\", \"PYTHON_9.3\")\n",
    "selectByAttribute(HydroLAKES_pi_lyr,'NEW_SELECTION','') \n",
    "arcpy.management.FeatureToPoint(HydroLAKES_pi_lyr,HydroLAKES_pi_point,'INSIDE')"
   ]
  }
 ],
 "metadata": {
  "kernelspec": {
   "display_name": "ArcGISPro",
   "language": "Python",
   "name": "python3"
  },
  "language_info": {
   "file_extension": ".py",
   "name": "python",
   "version": "3"
  }
 },
 "nbformat": 4,
 "nbformat_minor": 2
}
