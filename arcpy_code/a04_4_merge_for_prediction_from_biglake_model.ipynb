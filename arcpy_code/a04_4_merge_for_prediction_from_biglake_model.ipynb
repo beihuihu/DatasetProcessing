{
 "cells": [
  {
   "cell_type": "code",
   "execution_count": 67,
   "metadata": {},
   "outputs": [],
   "source": [
    "import arcpy\n",
    "from arcpy.sa import *\n",
    "import os\n",
    "import time\n",
    "arcpy.env.overwriteOutput = True"
   ]
  },
  {
   "cell_type": "code",
   "execution_count": 68,
   "metadata": {},
   "outputs": [],
   "source": [
    "# load input features and make layer\n",
    "output_dir = r'J:\\lakemapping\\postprocess\\v4_2403019'\n",
    "auxiliary_dataset_gdb=r'D:\\postprocess\\v240220\\auxiliary_dataset.gdb'\n",
    "river_mask_gdb=os.path.join(output_dir,f'2_polygon_iw_River.gdb')\n",
    "after_mask_gdb=os.path.join(output_dir,f'3_polygon_after_rivermask.gdb')\n",
    "merge_gdb=os.path.join(output_dir, \"4_polygon_merge.gdb\")\n",
    "region=\"as_4\"\n",
    "raw_prediction_fn='lakes_'+region\n",
    "prefix=region\n",
    "arcpy.env.workspace =merge_gdb "
   ]
  },
  {
   "cell_type": "code",
   "execution_count": 3,
   "metadata": {},
   "outputs": [
    {
     "data": {
      "text/html": [
       "<div class='gpresult'><h2>Messages</h2><div id='messages' data-messages='[\"Start Time: 2024年4月10日 14:26:13\",\"Succeeded at 2024年4月10日 14:26:13 (Elapsed Time: 0.01 seconds)\"]' data-show='true'><div id = 'default' /></div></div>"
      ],
      "text/plain": [
       "<Result 'GeoDAR'>"
      ]
     },
     "execution_count": 3,
     "metadata": {},
     "output_type": "execute_result"
    }
   ],
   "source": [
    "GLAKES_Res=os.path.join(auxiliary_dataset_gdb,'GLAKES_Res')\n",
    "arcpy.MakeFeatureLayer_management(GLAKES_Res,'GLAKES_Res')\n",
    "\n",
    "GLAKES=os.path.join(auxiliary_dataset_gdb,r'D:\\lakemapping\\0_auxiliary_data\\GLAKES\\GLAKES\\GLAKES.gdb\\GLAKES')\n",
    "arcpy.MakeFeatureLayer_management(GLAKES,'GLAKES')\n",
    "\n",
    "osm_reservoir=os.path.join(auxiliary_dataset_gdb,'osm_as_natural_water_reservoir_dam')\n",
    "arcpy.MakeFeatureLayer_management(osm_reservoir,'osm_reservoir')\n",
    "\n",
    "GeoDAR=r'D:\\lakemapping\\0_auxiliary_data\\GeoDAR\\GeoDAR_v10_v11\\GeoDAR_v11_reservoirs.shp'\n",
    "arcpy.MakeFeatureLayer_management(GeoDAR,'GeoDAR')\n"
   ]
  },
  {
   "cell_type": "code",
   "execution_count": 16,
   "metadata": {},
   "outputs": [],
   "source": [
    "lake_arm=os.path.join(river_mask_gdb,raw_prediction_fn+'_arm')\n",
    "lake_iwG=os.path.join(river_mask_gdb,raw_prediction_fn+'_iwG')\n",
    "lake_niwG=os.path.join(river_mask_gdb,raw_prediction_fn+'_niwG')\n",
    "lake_iwG_arm_SJ=lake_iwG+'_arm_SJ'\n",
    "lake_niwG_arm_SJ=lake_niwG+'_arm_SJ'\n",
    "lake_waterway_niwG=os.path.join(river_mask_gdb,raw_prediction_fn+'_waterway_niwG')\n",
    "lake_waterway_iwG_SJ=os.path.join(river_mask_gdb,raw_prediction_fn+'_waterway_iwG_SJ')\n",
    "lake_niwR=os.path.join(river_mask_gdb,raw_prediction_fn+'_niwR')\n",
    "big_lake=r'J:\\lakemapping\\postprocess\\V240303\\1_other_polygons.gdb\\lakes_{}_gte02'.format(region)\n",
    "lake_merge_bl=os.path.join(merge_gdb,raw_prediction_fn+'_merge_biglake')\n",
    "GLAKES_iwRser=os.path.join(merge_gdb,f'GLAKES_iw_{region}_Rser_2')\n",
    "GLAKES_iwRser_clip=os.path.join(merge_gdb,f'GLAKES_iw_{region}_Rser_clip')\n",
    "GLAKES_iwRser_join=os.path.join(merge_gdb,f'GLAKES_iw_{region}_Rser_join')"
   ]
  },
  {
   "cell_type": "code",
   "execution_count": 17,
   "metadata": {},
   "outputs": [],
   "source": [
    "GLAKES_lyr='GLAKES'\n",
    "lake_arm_lyr=f'lakes_{region}_arm'\n",
    "lake_niwR_lyr=f'lakes_{region}_niwR'\n",
    "lake_iwG_arm_SJ_lyr=f'lakes_{region}_iwG_arm_SJ'\n",
    "lake_niwG_arm_SJ_lyr=f'lakes_{region}_niwG_arm_SJ'\n",
    "lake_waterway_niwG_lyr=f'lakes_{region}_waterway_niwG'\n",
    "lake_waterway_iwG_SJ_lyr=f'lakes_{region}_waterway_iwG_SJ'\n",
    "lake_big_lake_lyr=f'lakes_{region}_biglakeModel'\n",
    "lake_merge_bl_lyr=f'lake_{region}_merge_bl'\n",
    "# GLAKES_iwRser_lyr=f'GLAKES_iw_{region}_Rser'\n",
    "# GLAKES_iwRser_clip_lyr=f'GLAKES_iw_{region}_clip_Rser'\n",
    "# GLAKES_iwRser_join_lyr=f'GLAKES_iw_{region}_Rser_join'"
   ]
  },
  {
   "cell_type": "code",
   "execution_count": 22,
   "metadata": {
    "scrolled": true
   },
   "outputs": [
    {
     "ename": "ExecuteError",
     "evalue": "Failed to execute. Parameters are not valid.\nERROR 000732: Input Features: Dataset J:\\lakemapping\\postprocess\\V240303\\1_other_polygons.gdb\\lakes_as_4_gte02 does not exist or is not supported\nFailed to execute (MakeFeatureLayer).\n",
     "output_type": "error",
     "traceback": [
      "\u001b[0;31m---------------------------------------------------------------------------\u001b[0m\n\u001b[0;31mExecuteError\u001b[0m                              Traceback (most recent call last)",
      "In  \u001b[0;34m[22]\u001b[0m:\nLine \u001b[0;34m8\u001b[0m:     arcpy.MakeFeatureLayer_management(big_lake,lake_big_lake_lyr)\n",
      "File \u001b[0;34mC:\\Program Files\\ArcGIS\\Pro\\Resources\\ArcPy\\arcpy\\management.py\u001b[0m, in \u001b[0;32mMakeFeatureLayer\u001b[0m:\nLine \u001b[0;34m9870\u001b[0m:  \u001b[34mraise\u001b[39;49;00m e\n",
      "File \u001b[0;34mC:\\Program Files\\ArcGIS\\Pro\\Resources\\ArcPy\\arcpy\\management.py\u001b[0m, in \u001b[0;32mMakeFeatureLayer\u001b[0m:\nLine \u001b[0;34m9867\u001b[0m:  retval = convertArcObjectToPythonObject(gp.MakeFeatureLayer_management(*gp_fixargs((in_features, out_layer, where_clause, workspace, field_info), \u001b[34mTrue\u001b[39;49;00m)))\n",
      "File \u001b[0;34mC:\\Program Files\\ArcGIS\\Pro\\Resources\\ArcPy\\arcpy\\geoprocessing\\_base.py\u001b[0m, in \u001b[0;32m<lambda>\u001b[0m:\nLine \u001b[0;34m512\u001b[0m:   \u001b[34mreturn\u001b[39;49;00m \u001b[34mlambda\u001b[39;49;00m *args: val(*gp_fixargs(args, \u001b[34mTrue\u001b[39;49;00m))\n",
      "\u001b[0;31mExecuteError\u001b[0m: Failed to execute. Parameters are not valid.\nERROR 000732: Input Features: Dataset J:\\lakemapping\\postprocess\\V240303\\1_other_polygons.gdb\\lakes_as_4_gte02 does not exist or is not supported\nFailed to execute (MakeFeatureLayer).\n\n\u001b[0;31m---------------------------------------------------------------------------\u001b[0m"
     ]
    }
   ],
   "source": [
    "arcpy.MakeFeatureLayer_management(GLAKES,GLAKES_lyr)\n",
    "arcpy.MakeFeatureLayer_management(lake_arm,lake_arm_lyr)\n",
    "arcpy.MakeFeatureLayer_management(lake_niwR,lake_niwR_lyr)\n",
    "arcpy.MakeFeatureLayer_management(lake_iwG_arm_SJ,lake_iwG_arm_SJ_lyr)\n",
    "arcpy.MakeFeatureLayer_management(lake_niwG_arm_SJ,lake_niwG_arm_SJ_lyr)\n",
    "arcpy.MakeFeatureLayer_management(lake_waterway_niwG,lake_waterway_niwG_lyr)\n",
    "arcpy.MakeFeatureLayer_management(lake_waterway_iwG_SJ,lake_waterway_iwG_SJ_lyr)\n",
    "arcpy.MakeFeatureLayer_management(big_lake,lake_big_lake_lyr)"
   ]
  },
  {
   "cell_type": "code",
   "execution_count": 18,
   "metadata": {},
   "outputs": [],
   "source": [
    "def selectByLocation(inputFeature,overlapType,selectionFeature,selectionType='NEW_SELECTION'):\n",
    "    arcpy.SelectLayerByLocation_management(inputFeature,overlapType,selectionFeature,selection_type=selectionType)\n",
    "    \n",
    "def selectByAttribute(inputFeature,selectionType='NEW_SELECTION',code=''):\n",
    "    arcpy.management.SelectLayerByAttribute(inputFeature,selectionType,code)\n",
    "    \n",
    "def calculateField(inputFeature,field,code):\n",
    "    arcpy.CalculateField_management(inputFeature, field,code)"
   ]
  },
  {
   "cell_type": "code",
   "execution_count": 19,
   "metadata": {},
   "outputs": [
    {
     "data": {
      "text/html": [
       "<div class='gpresult'><h2>Messages</h2><div id='messages' data-messages='[\"Start Time: 2024年4月11日 12:06:09\",\"Succeeded at 2024年4月11日 12:06:15 (Elapsed Time: 6.72 seconds)\"]' data-show='true'><div id = 'default' /></div></div>"
      ],
      "text/plain": [
       "<Result 'J:\\\\lakemapping\\\\postprocess\\\\v4_2403019\\\\4_polygon_merge.gdb\\\\lakes_as_4_merge_biglake_temp'>"
      ]
     },
     "execution_count": 19,
     "metadata": {},
     "output_type": "execute_result"
    }
   ],
   "source": [
    "temp_file=lake_merge_bl+'_temp'\n",
    "fieldmappings = arcpy.FieldMappings()\n",
    "fieldmappings_all = arcpy.FieldMappings()\n",
    "fieldmappings_all.addTable(lake_iwG_arm_SJ_lyr)#未mask\n",
    "field_list = ['area','flag','operate']  # keep the only three fields, area代表lake without rivermask的面积，area_arm代表lake with rivermask的面积\n",
    "for field_i in field_list:\n",
    "    field_idx = fieldmappings_all.findFieldMapIndex(field_i)\n",
    "    fieldmappings.addFieldMap(fieldmappings_all.getFieldMap(field_idx))\n",
    "\n",
    "selectByAttribute(lake_iwG_arm_SJ_lyr,'NEW_SELECTION','\"operate\" = 0.5 OR operate IS NULL')\n",
    "selectByLocation(lake_arm_lyr, 'WITHIN', lake_iwG_arm_SJ_lyr)\n",
    "\n",
    "selectByAttribute(lake_niwG_arm_SJ_lyr,'NEW_SELECTION','\"operate\" = 0.5 OR operate IS NULL')\n",
    "selectByLocation(lake_arm_lyr, 'WITHIN', lake_niwG_arm_SJ_lyr,'ADD_TO_SELECTION')\n",
    "\n",
    "selectByAttribute(lake_arm_lyr,'SUBSET_SELECTION','\"operate\" IS NULL')\n",
    "selectByAttribute(lake_iwG_arm_SJ_lyr,'NEW_SELECTION','\"operate\" >= 1')\n",
    "selectByAttribute(lake_niwG_arm_SJ_lyr,'NEW_SELECTION','\"operate\" >= 1')\n",
    "\n",
    "selectByAttribute(lake_waterway_iwG_SJ_lyr,'NEW_SELECTION','\"operate\"<> 0 or operate IS NULL')\n",
    "selectByAttribute(lake_waterway_niwG_lyr,'NEW_SELECTION','\"operate\"<> 0 or operate IS NULL')\n",
    "\n",
    "selectByAttribute(lake_niwR_lyr,'NEW_SELECTION','\"operate\"<> 0 or operate IS NULL')\n",
    "# selectByAttribute(big_lake_merge,'NEW_SELECTION','\"operate\"=1')\n",
    "selectByAttribute(lake_big_lake_lyr,'NEW_SELECTION','\"operate\"=1')\n",
    "merge_list=[lake_iwG_arm_SJ_lyr,lake_niwG_arm_SJ_lyr,lake_arm_lyr,lake_waterway_iwG_SJ_lyr,lake_waterway_niwG_lyr,lake_niwR_lyr,lake_big_lake_lyr]\n",
    "arcpy.Merge_management(merge_list,temp_file,fieldmappings)"
   ]
  },
  {
   "cell_type": "code",
   "execution_count": 20,
   "metadata": {},
   "outputs": [
    {
     "data": {
      "text/html": [
       "<div class='gpresult'><h2>Messages</h2><div id='messages' data-messages='[\"Start Time: 2024年4月11日 12:07:07\",\"Succeeded at 2024年4月11日 12:10:08 (Elapsed Time: 3 minutes 0 seconds)\"]' data-show='true'><div id = 'default' /></div></div>"
      ],
      "text/plain": [
       "<Result 'J:\\\\lakemapping\\\\postprocess\\\\v4_2403019\\\\4_polygon_merge.gdb\\\\lakes_as_4_merge_biglake'>"
      ]
     },
     "execution_count": 20,
     "metadata": {},
     "output_type": "execute_result"
    }
   ],
   "source": [
    "arcpy.Dissolve_management(temp_file,lake_merge_bl,multi_part=\"SINGLE_PART\")\n",
    "arcpy.AddField_management(lake_merge_bl, 'area', \"DOUBLE\")\n",
    "arcpy.CalculateField_management(lake_merge_bl, \"area\",  \"!shape.geodesicArea@SQUAREKILOMETERS!\", \"PYTHON_9.3\")"
   ]
  },
  {
   "cell_type": "code",
   "execution_count": 24,
   "metadata": {},
   "outputs": [],
   "source": [
    "target_region_list=[]\n",
    "origin_region_list_list=[]"
   ]
  },
  {
   "cell_type": "code",
   "execution_count": 25,
   "metadata": {},
   "outputs": [],
   "source": [
    "target_region = 'as_2'\n",
    "origin_region_list=['as_1','as_3','as_8']#\n",
    "target_region_list.append(target_region)\n",
    "origin_region_list_list.append(origin_region_list)"
   ]
  },
  {
   "cell_type": "code",
   "execution_count": 26,
   "metadata": {},
   "outputs": [],
   "source": [
    "target_region = 'as_4'\n",
    "origin_region_list=['as_1','as_2','as_3','as_6','as_7','as_9']\n",
    "target_region_list.append(target_region)\n",
    "origin_region_list_list.append(origin_region_list)"
   ]
  },
  {
   "cell_type": "code",
   "execution_count": 27,
   "metadata": {},
   "outputs": [],
   "source": [
    "target_region = 'as_5'\n",
    "origin_region_list=['as_3']\n",
    "target_region_list.append(target_region)\n",
    "origin_region_list_list.append(origin_region_list)"
   ]
  },
  {
   "cell_type": "code",
   "execution_count": 28,
   "metadata": {},
   "outputs": [],
   "source": [
    "target_region = 'as_6'\n",
    "origin_region_list=['as_3','as_5','as_7']\n",
    "target_region_list.append(target_region)\n",
    "origin_region_list_list.append(origin_region_list)"
   ]
  },
  {
   "cell_type": "code",
   "execution_count": 29,
   "metadata": {},
   "outputs": [],
   "source": [
    "target_region = 'as_9'\n",
    "origin_region_list=['as_7','as_1','eu','af']\n",
    "target_region_list.append(target_region)\n",
    "origin_region_list_list.append(origin_region_list)"
   ]
  },
  {
   "cell_type": "code",
   "execution_count": 31,
   "metadata": {
    "scrolled": true
   },
   "outputs": [
    {
     "name": "stdout",
     "output_type": "stream",
     "text": [
      "as_2\n",
      "['as_1', 'as_3', 'as_8']\n",
      "select polygons in region:as_1\n",
      "select polygons in region:as_3\n",
      "select polygons in region:as_8\n",
      "time: 0.1469874660174052 minutes\n",
      "as_4\n",
      "['as_1', 'as_2', 'as_3', 'as_6', 'as_7', 'as_9']\n",
      "select polygons in region:as_1\n",
      "select polygons in region:as_2\n",
      "select polygons in region:as_3\n",
      "select polygons in region:as_6\n",
      "select polygons in region:as_7\n",
      "select polygons in region:as_9\n",
      "time: 0.21267534891764323 minutes\n",
      "as_5\n",
      "['as_3']\n",
      "select polygons in region:as_3\n",
      "time: 0.03888015747070313 minutes\n",
      "as_6\n",
      "['as_3', 'as_5', 'as_7']\n",
      "select polygons in region:as_3\n",
      "select polygons in region:as_5\n",
      "select polygons in region:as_7\n",
      "time: 0.16703265110651652 minutes\n",
      "as_9\n",
      "['as_7', 'as_1', 'eu', 'af']\n",
      "select polygons in region:as_7\n",
      "select polygons in region:as_1\n",
      "select polygons in region:eu\n",
      "select polygons in region:af\n"
     ]
    },
    {
     "ename": "ExecuteError",
     "evalue": "Failed to execute. Parameters are not valid.\nERROR 000732: Input Features: Dataset J:\\lakemapping\\postprocess\\v4_2403019\\4_polygon_merge.gdb\\lakes_af_merge_biglake does not exist or is not supported\nWARNING 000725: Output Layer: Dataset origin_region_layer already exists.\nFailed to execute (MakeFeatureLayer).\n",
     "output_type": "error",
     "traceback": [
      "\u001b[0;31m---------------------------------------------------------------------------\u001b[0m\n\u001b[0;31mExecuteError\u001b[0m                              Traceback (most recent call last)",
      "In  \u001b[0;34m[31]\u001b[0m:\nLine \u001b[0;34m15\u001b[0m:    arcpy.MakeFeatureLayer_management(origin_region_file,origin_region_layer)\n",
      "File \u001b[0;34mC:\\Program Files\\ArcGIS\\Pro\\Resources\\ArcPy\\arcpy\\management.py\u001b[0m, in \u001b[0;32mMakeFeatureLayer\u001b[0m:\nLine \u001b[0;34m9870\u001b[0m:  \u001b[34mraise\u001b[39;49;00m e\n",
      "File \u001b[0;34mC:\\Program Files\\ArcGIS\\Pro\\Resources\\ArcPy\\arcpy\\management.py\u001b[0m, in \u001b[0;32mMakeFeatureLayer\u001b[0m:\nLine \u001b[0;34m9867\u001b[0m:  retval = convertArcObjectToPythonObject(gp.MakeFeatureLayer_management(*gp_fixargs((in_features, out_layer, where_clause, workspace, field_info), \u001b[34mTrue\u001b[39;49;00m)))\n",
      "File \u001b[0;34mC:\\Program Files\\ArcGIS\\Pro\\Resources\\ArcPy\\arcpy\\geoprocessing\\_base.py\u001b[0m, in \u001b[0;32m<lambda>\u001b[0m:\nLine \u001b[0;34m512\u001b[0m:   \u001b[34mreturn\u001b[39;49;00m \u001b[34mlambda\u001b[39;49;00m *args: val(*gp_fixargs(args, \u001b[34mTrue\u001b[39;49;00m))\n",
      "\u001b[0;31mExecuteError\u001b[0m: Failed to execute. Parameters are not valid.\nERROR 000732: Input Features: Dataset J:\\lakemapping\\postprocess\\v4_2403019\\4_polygon_merge.gdb\\lakes_af_merge_biglake does not exist or is not supported\nWARNING 000725: Output Layer: Dataset origin_region_layer already exists.\nFailed to execute (MakeFeatureLayer).\n\n\u001b[0;31m---------------------------------------------------------------------------\u001b[0m"
     ]
    }
   ],
   "source": [
    "for i in range(0,5):\n",
    "    target_region=target_region_list[i]\n",
    "    origin_region_list=origin_region_list_list[i]\n",
    "    print(target_region)\n",
    "    print(origin_region_list)\n",
    "    start = time.time()\n",
    "    target_region_file =os.path.join(merge_gdb,'lakes_{}_merge_biglake' .format(target_region))\n",
    "    target_region_layer='target_region_layer'\n",
    "    arcpy.MakeFeatureLayer_management(target_region_file, target_region_layer)\n",
    "\n",
    "    for origin_region in origin_region_list:\n",
    "        print('select polygons in region:'+ origin_region)\n",
    "        origin_region_file=os.path.join(merge_gdb,'lakes_{}_merge_biglake' .format(origin_region))\n",
    "        origin_region_layer='origin_region_layer'\n",
    "        arcpy.MakeFeatureLayer_management(origin_region_file,origin_region_layer)\n",
    "        arcpy.SelectLayerByLocation_management(origin_region_layer, 'INTERSECT',target_region_layer )#select lake interect with origin polygon\n",
    "        output_file='lakes_{}_interect_with_{}' .format(origin_region,target_region)\n",
    "        arcpy.CopyFeatures_management(origin_region_layer,output_file)\n",
    "        arcpy.DeleteFeatures_management(origin_region_layer)\n",
    "    end = time.time()\n",
    "    print (f'time: {(end-start)/60} minutes')"
   ]
  },
  {
   "cell_type": "code",
   "execution_count": null,
   "metadata": {},
   "outputs": [],
   "source": [
    "target_region='as_9'\n",
    "origin_region_list=['as_7','eu']"
   ]
  },
  {
   "cell_type": "code",
   "execution_count": 38,
   "metadata": {},
   "outputs": [],
   "source": [
    "target_region='as_6'\n",
    "origin_region_list=['as_7']"
   ]
  },
  {
   "cell_type": "code",
   "execution_count": 40,
   "metadata": {},
   "outputs": [],
   "source": [
    "target_region='as_2'\n",
    "origin_region_list=['as_3']"
   ]
  },
  {
   "cell_type": "code",
   "execution_count": 41,
   "metadata": {},
   "outputs": [
    {
     "name": "stdout",
     "output_type": "stream",
     "text": [
      "as_2\n",
      "['as_3']\n",
      "start Dissolve\n",
      "finish dissolve\n",
      "time: 2.4354761322339376 minutes\n"
     ]
    }
   ],
   "source": [
    "print(target_region)\n",
    "print(origin_region_list)\n",
    "lak_shp = merge_gdb + '/lakes_{}_merge_biglake_new_temp'.format(target_region)\n",
    "merge_shp_list =['lakes_{}_merge_biglake' .format(target_region)]\n",
    "for origin_region in origin_region_list:\n",
    "    merge_shp_list.append('lakes_{}_interect_with_{}' .format(origin_region,target_region))\n",
    "arcpy.Merge_management(merge_shp_list, lak_shp) \n",
    "lak_dissolved = merge_gdb + '/lakes_{}_merge_biglake_new'.format(target_region) #dissolve geometry\n",
    "start = time.time()\n",
    "lak_shp_lyr = 'lak_shp_lyr'\n",
    "arcpy.MakeFeatureLayer_management(lak_shp, lak_shp_lyr)\n",
    "print('start Dissolve')\n",
    "arcpy.Dissolve_management(lak_shp_lyr, lak_dissolved, multi_part=\"SINGLE_PART\")#dissolve copylake\n",
    "lak_dissolved_Layer='lak_dissolved_lyr'\n",
    "arcpy.MakeFeatureLayer_management(lak_dissolved, lak_dissolved_Layer)\n",
    "print('finish dissolve')\n",
    "arcpy.Delete_management(lak_shp)\n",
    "end = time.time()\n",
    "print (f'time: {(end-start)/60} minutes')"
   ]
  },
  {
   "cell_type": "code",
   "execution_count": null,
   "metadata": {},
   "outputs": [],
   "source": []
  }
 ],
 "metadata": {
  "kernelspec": {
   "display_name": "ArcGISPro",
   "language": "Python",
   "name": "python3"
  },
  "language_info": {
   "file_extension": ".py",
   "name": "python",
   "version": "3"
  }
 },
 "nbformat": 4,
 "nbformat_minor": 2
}
