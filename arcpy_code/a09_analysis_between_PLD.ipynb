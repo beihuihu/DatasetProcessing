{
 "cells": [
  {
   "cell_type": "code",
   "execution_count": null,
   "metadata": {},
   "outputs": [],
   "source": [
    "import arcpy\n",
    "from arcpy.sa import *\n",
    "import os\n",
    "import time\n",
    "arcpy.env.overwriteOutput = True"
   ]
  },
  {
   "cell_type": "code",
   "execution_count": null,
   "metadata": {},
   "outputs": [],
   "source": [
    "# load input features and make layer\n",
    "version='v14_241115'\n",
    "sub_v='_v1'\n",
    "stastic_v=f'{version}{sub_v}'\n",
    "# stastic_v=f'{version}'\n",
    "output_dir = os.path.join(r'J:\\lakemapping\\postprocess',version)\n",
    "\n",
    "auxiliary_dataset_gdb=r'D:\\postprocess\\v240220\\auxiliary_dataset.gdb'\n",
    "stastics_gdb=os.path.join(output_dir,f'0_summary_stastics{sub_v}.gdb')\n",
    "polygon_iwR_gdb=os.path.join(output_dir,'2_polygon_iw_River.gdb')\n",
    "after_mask_gdb=os.path.join(output_dir,f'3_polygon_after_rivermask{sub_v}.gdb')\n",
    "mwBL_gdb=os.path.join(output_dir,f'4_polygon_afm_mergeWith_BigLake{sub_v}.gdb')\n",
    "mwBG_gdb=os.path.join(output_dir,f'5_polygon_afm_mwBL_BigGLAKES{sub_v}.gdb')\n",
    "mwPLD_gdb=os.path.join(output_dir,f'6_polygon_afm_mergeWith_BigPLD{sub_v}.gdb')\n",
    "excel_dir=os.path.join(output_dir,f'stastics_excel{sub_v}')\n",
    "mwBG_point_gdb=os.path.join(output_dir,f'5_polygon_afm_mwBL_BigGLAKES{sub_v}_point.gdb')\n",
    "new_polygon_afm_mwBL_BG_pi_point_gdb='J:\\lakemapping\\PLD\\polygon_afm_mwBL_BG_pi_point.gdb'\n",
    "polygon_afm_mwBL_BG_pi_point_point_gdb=r'J:\\lakemapping\\PLD\\PLD_point.gdb'\n",
    "temp_gdb=os.path.join(output_dir,f'7_correct_temp_file{sub_v}.gdb')#\n",
    "new_PLD_gdb=r'J:\\lakemapping\\PLD\\PLD.gdb'\n",
    "PLD_point_gdb=r'J:\\lakemapping\\PLD\\PLD_point.gdb'\n",
    "\n",
    "# if not os.path.exists(temp_gdb):\n",
    "#     arcpy.CreateFileGDB_management(output_dir,f'7_correct_temp_file{sub_v}.gdb')"
   ]
  },
  {
   "cell_type": "code",
   "execution_count": null,
   "metadata": {},
   "outputs": [],
   "source": [
    "print(stastic_v)"
   ]
  },
  {
   "cell_type": "code",
   "execution_count": null,
   "metadata": {},
   "outputs": [],
   "source": [
    "eight_continents=['Asia','Siberia','Africa','Europe','Oceania_Anta','North_America','Arctic','South_America']"
   ]
  },
  {
   "cell_type": "code",
   "execution_count": null,
   "metadata": {},
   "outputs": [],
   "source": [
    "def selectByLocation(inputFeature,overlapType,selectionFeature,selectionType='NEW_SELECTION'):\n",
    "    arcpy.SelectLayerByLocation_management(inputFeature,overlapType,selectionFeature,selection_type=selectionType)\n",
    "    \n",
    "def selectByAttribute(inputFeature,selectionType='NEW_SELECTION',code=''):\n",
    "    arcpy.management.SelectLayerByAttribute(inputFeature,selectionType,code)\n",
    "    \n",
    "def calculateField(inputFeature,field,code):\n",
    "    arcpy.CalculateField_management(inputFeature, field,code)\n",
    "\n",
    "def cal_continent(lyr):\n",
    "    arcpy.AddField_management(lyr, 'Continent', \"Text\")\n",
    "    for i in range(0,6):\n",
    "        continent=seven_continents[i]\n",
    "        selectByAttribute(continent_lyr,'NEW_SELECTION',f\"Continent = '{continent}'\")\n",
    "        selectByAttribute(lyr,'NEW_SELECTION',\"Continent IS NULL\")\n",
    "        selectByLocation(lyr,'HAVE_THEIR_CENTER_IN',continent_lyr,'SUBSET_SELECTION')\n",
    "        calculateField(lyr,'Continent',f\"'{continent}'\")"
   ]
  },
  {
   "cell_type": "code",
   "execution_count": null,
   "metadata": {},
   "outputs": [],
   "source": [
    "grid=os.path.join(temp_gdb,'Global_grid_shp_1degree')\n",
    "grid_lyr='Global_grid_shp_1degree'\n",
    "arcpy.MakeFeatureLayer_management(grid,grid_lyr)"
   ]
  },
  {
   "cell_type": "code",
   "execution_count": null,
   "metadata": {},
   "outputs": [],
   "source": [
    "total_polygon_afm_mwBL_BG_point=os.path.join(mwBG_point_gdb,'total_polygon_afm_mwBL_BG_point')\n",
    "total_polygon_afm_mwBL_BG_pi_point=os.path.join(mwBG_point_gdb,'total_polygon_afm_mwBL_BG_pi_point')\n",
    "total_polygon_afm_mwBL_BG_point_lyr='total_polygon_afm_mwBL_BG_point'\n",
    "total_polygon_afm_mwBL_BG_pi_point_lyr='total_polygon_afm_mwBL_BG_pi_point'\n",
    "polygon_afm_mwBL_BG_Count_SJ=os.path.join(temp_gdb,'Global_grid_shp_1degree_hu_Count')\n",
    "polygon_afm_mwBL_BG_Count_SJ_lyr='Global_grid_shp_1degree_hu_Count'\n",
    "polygon_afm_mwBL_BG_Count_Area_SJ=os.path.join(temp_gdb,'Global_grid_shp_1degree_hu_Count_Area')\n",
    "polygon_afm_mwBL_BG_Count_Area_SJ_lyr='Global_grid_shp_1degree_hu_Count_Area'"
   ]
  },
  {
   "cell_type": "code",
   "execution_count": null,
   "metadata": {},
   "outputs": [],
   "source": [
    "PLD_list=['af','eu','si','as','au','sa','na','ar','gr']\n",
    "total_pld_point=os.path.join(PLD_point_gdb,'total_PLD_point')\n",
    "total_pld_pi_point=os.path.join(PLD_point_gdb,'total_PLD_pi_point')\n",
    "total_pld_point_lyr='total_pld_point'\n",
    "total_pld_pi_point_lyr='total_pld_pi_point'\n",
    "PLD_Count_SJ=os.path.join(temp_gdb,'Global_grid_shp_1degree_PLD_Count')\n",
    "PLD_Count_SJ_lyr='Global_grid_shp_1degree_PLD_Count'\n",
    "PLD_Count_Area_SJ=os.path.join(temp_gdb,'Global_grid_shp_1degree_PLD_Count_Area')\n",
    "PLD_Count_Area_SJ_lyr='Global_grid_shp_1degree_PLD_Count_Area'"
   ]
  },
  {
   "cell_type": "code",
   "execution_count": null,
   "metadata": {},
   "outputs": [],
   "source": [
    "d_lakes_in_arid_grids=os.path.join(mwPLD_gdb,'d_lakes_in_arid_grids')\n",
    "d_lakes_in_arid_grids_lyr='d_lakes_in_arid_grids'\n",
    "d_lakes_in_arid_grids_point=os.path.join(mwBG_point_gdb,'d_lakes_in_arid_grids_point')\n",
    "d_lakes_in_arid_grids_point_lyr='d_lakes_in_arid_grids_point'\n",
    "\n",
    "d_lakes_in_arid_grids_pi=os.path.join(temp_gdb,'d_lakes_in_arid_grids_pi')\n",
    "d_lakes_in_arid_grids_pi_lyr='d_lakes_in_arid_grids_pi'\n",
    "d_lakes_in_arid_grids_pi_point=os.path.join(temp_gdb,'d_lakes_in_arid_grids_pi_point')\n",
    "d_lakes_in_arid_grids_pi_point_lyr='d_lakes_in_arid_grids_pi_point'\n",
    "\n",
    "Global_grid_shp_1degree_Arid=os.path.join(temp_gdb,'Global_grid_shp_1degree_Arid')\n",
    "Global_grid_shp_1degree_Arid_lyr='Global_grid_shp_1degree_Arid'\n",
    "\n",
    "d_lakes_in_arid_grids_Count_SJ=os.path.join(temp_gdb,'d_lakes_in_arid_grids_Count')\n",
    "d_lakes_in_arid_grids_Count_SJ_lyr='d_lakes_in_arid_grids_Count'\n",
    "d_lakes_in_arid_grids_Count_Area_SJ=os.path.join(temp_gdb,'d_lakes_in_arid_grids_Count_Area')\n",
    "d_lakes_in_arid_grids_Count_Area_SJ_lyr='d_lakes_in_arid_grids_Count_Area'"
   ]
  },
  {
   "cell_type": "markdown",
   "metadata": {},
   "source": [
    "## 一、处理my result"
   ]
  },
  {
   "cell_type": "markdown",
   "metadata": {},
   "source": [
    "### 1.1 计算lake type，生成pi"
   ]
  },
  {
   "cell_type": "code",
   "execution_count": null,
   "metadata": {},
   "outputs": [],
   "source": [
    "for i in range(1,8):#[1,3,4,5]:\n",
    "    continent=eight_continents[i]\n",
    "    print(continent)\n",
    "    c_lake_afm_mw_BL_BG=os.path.join(mwBG_gdb,f'c{i+1}_{continent}_polygon_afm_mwBL_BG')\n",
    "    c_lake_afm_mw_BL_BG_lyr=f'c{i+1}_{continent}_lake_afm_mw_BL_BG'\n",
    "    arcpy.MakeFeatureLayer_management(c_lake_afm_mw_BL_BG,c_lake_afm_mw_BL_BG_lyr)\n",
    "    \n",
    "    c_lake_afm_mw_BL_BG_pi=os.path.join(temp_gdb,f'c{i+1}_{continent}_polygon_afm_mwBL_BG_pi')\n",
    "    c_lake_afm_mw_BL_BG_pi_lyr=f'c{i+1}_{continent}_lake_afm_mw_BL_BG_pi'\n",
    "    c_lake_afm_mw_BL_BG_pi_point=os.path.join(temp_gdb,f'c{i+1}_{continent}_polygon_afm_mwBL_BG_pi_point')\n",
    "    \n",
    "    arcpy.AddField_management(c_lake_afm_mw_BL_BG_lyr,'lake_type','Short')\n",
    "    selectByAttribute(c_lake_afm_mw_BL_BG_lyr,'NEW_SELECTION',\"lake_area<0.01\")\n",
    "    arcpy.CalculateField_management(c_lake_afm_mw_BL_BG_lyr,'lake_type',0)\n",
    "    selectByAttribute(c_lake_afm_mw_BL_BG_lyr,'NEW_SELECTION',\"lake_area>=0.01 and lake_area <0.03\")\n",
    "    arcpy.CalculateField_management(c_lake_afm_mw_BL_BG_lyr,'lake_type',1)\n",
    "    selectByAttribute(c_lake_afm_mw_BL_BG_lyr,'NEW_SELECTION',\"lake_area>=0.03 and lake_area <0.1\")\n",
    "    arcpy.CalculateField_management(c_lake_afm_mw_BL_BG_lyr,'lake_type',2)\n",
    "    selectByAttribute(c_lake_afm_mw_BL_BG_lyr,'NEW_SELECTION',\"lake_area>=0.1 and lake_area <1\")\n",
    "    arcpy.CalculateField_management(c_lake_afm_mw_BL_BG_lyr,'lake_type',3)\n",
    "    selectByAttribute(c_lake_afm_mw_BL_BG_lyr,'NEW_SELECTION',\"lake_area>=1 and lake_area <100\")\n",
    "    arcpy.CalculateField_management(c_lake_afm_mw_BL_BG_lyr,'lake_type',4)\n",
    "    selectByAttribute(c_lake_afm_mw_BL_BG_lyr,'NEW_SELECTION',\"lake_area>=100\")\n",
    "    arcpy.CalculateField_management(c_lake_afm_mw_BL_BG_lyr,'lake_type',5)\n",
    "    \n",
    "    print('start transform to point')\n",
    "    selectByAttribute(c_lake_afm_mw_BL_BG_lyr,'NEW_SELECTION','') \n",
    "    c_lake_afm_mw_BL_BG_point=os.path.join(mwBG_point_gdb,f'c{i+1}_{continent}_polygon_afm_mwBL_BG_point')\n",
    "    arcpy.management.FeatureToPoint(c_lake_afm_mw_BL_BG_lyr,c_lake_afm_mw_BL_BG_point,'INSIDE')\n",
    "    \n",
    "    print('start pairwise intersect')\n",
    "    arcpy.analysis.PairwiseIntersect([c_lake_afm_mw_BL_BG_lyr, grid_lyr],c_lake_afm_mw_BL_BG_pi,join_attributes='NO_FID')\n",
    "    arcpy.MakeFeatureLayer_management(c_lake_afm_mw_BL_BG_pi,c_lake_afm_mw_BL_BG_pi_lyr)\n",
    "    selectByLocation(c_lake_afm_mw_BL_BG_pi_lyr,'SHARE_A_LINE_SEGMENT_WITH',grid_lyr,'NEW_SELECTION')\n",
    "    arcpy.CalculateField_management(c_lake_afm_mw_BL_BG_pi_lyr,'ref_area', \"!shape.geodesicArea@SQUAREKILOMETERS!\", \"PYTHON_9.3\")\n",
    "    arcpy.management.FeatureToPoint(c_lake_afm_mw_BL_BG_pi_lyr,c_lake_afm_mw_BL_BG_pi_point,'INSIDE')\n"
   ]
  },
  {
   "cell_type": "code",
   "execution_count": null,
   "metadata": {},
   "outputs": [],
   "source": [
    "c_lake_afm_mw_BL_BG_pi_point=os.path.join(temp_gdb,f'c{i+1}_{continent}_polygon_afm_mwBL_BG_pi_point')\n",
    "selectByAttribute(c_lake_afm_mw_BL_BG_pi_lyr,'NEW_SELECTION','')\n",
    "arcpy.management.FeatureToPoint(c_lake_afm_mw_BL_BG_pi_lyr,c_lake_afm_mw_BL_BG_pi_point,'INSIDE')"
   ]
  },
  {
   "cell_type": "code",
   "execution_count": null,
   "metadata": {},
   "outputs": [],
   "source": [
    "merge_list=[]\n",
    "for i in range(0,8):#[1,3,4,5]:\n",
    "    continent=eight_continents[i]\n",
    "    print(continent)\n",
    "    c_lake_afm_mw_BL_BG_point=os.path.join(mwBG_point_gdb,f'c{i+1}_{continent}_polygon_afm_mwBL_BG_point')\n",
    "    c_lake_afm_mw_BL_BG_point_lyr=f'c{i+1}_{continent}_lake_afm_mw_BL_BG_point'\n",
    "    arcpy.MakeFeatureLayer_management(c_lake_afm_mw_BL_BG_point,c_lake_afm_mw_BL_BG_point_lyr)\n",
    "#     arcpy.AddField_management(c_lake_afm_mw_BL_BG_point_lyr,'hu_c1','Short')\n",
    "#     arcpy.AddField_management(c_lake_afm_mw_BL_BG_point_lyr,'hu_c3','Short')\n",
    "#     arcpy.AddField_management(c_lake_afm_mw_BL_BG_point_lyr,'hu_c10','Short')\n",
    "#     arcpy.AddField_management(c_lake_afm_mw_BL_BG_point_lyr,'hu_c100','Short')\n",
    "#     selectByAttribute(c_lake_afm_mw_BL_BG_point_lyr,'NEW_SELECTION',\"lake_type=0\")\n",
    "#     arcpy.CalculateField_management(c_lake_afm_mw_BL_BG_point_lyr,'hu_c1',1)\n",
    "#     selectByAttribute(c_lake_afm_mw_BL_BG_point_lyr,'NEW_SELECTION',\"lake_type=1\")\n",
    "#     arcpy.CalculateField_management(c_lake_afm_mw_BL_BG_point_lyr,'hu_c3',1)\n",
    "#     selectByAttribute(c_lake_afm_mw_BL_BG_point_lyr,'NEW_SELECTION',\"lake_type=2\")\n",
    "#     arcpy.CalculateField_management(c_lake_afm_mw_BL_BG_point_lyr,'hu_c10',1)\n",
    "#     selectByAttribute(c_lake_afm_mw_BL_BG_point_lyr,'NEW_SELECTION',\"lake_type=3\")\n",
    "#     arcpy.CalculateField_management(c_lake_afm_mw_BL_BG_point_lyr,'hu_c100',1)\n",
    "#     selectByAttribute(c_lake_afm_mw_BL_BG_point_lyr,'NEW_SELECTION','')\n",
    "    merge_list.append(c_lake_afm_mw_BL_BG_point_lyr)\n",
    "total_lake_afm_mw_BL_BG_point=os.path.join(mwBG_point_gdb,'total_polygon_afm_mwBL_BG_point')\n",
    "arcpy.Merge_management(merge_list,total_lake_afm_mw_BL_BG_point)"
   ]
  },
  {
   "cell_type": "code",
   "execution_count": null,
   "metadata": {},
   "outputs": [],
   "source": [
    "merge_list=[]\n",
    "for i in range(0,8):#[1,3,4,5]:\n",
    "    continent=eight_continents[i]\n",
    "    print(continent)\n",
    "    c_lake_afm_mw_BL_BG_pi_point=os.path.join(temp_gdb,f'c{i+1}_{continent}_polygon_afm_mwBL_BG_pi_point')\n",
    "    c_lake_afm_mw_BL_BG_pi_point_lyr=f'c{i+1}_{continent}_lake_afm_mw_BL_BG_pi_point'\n",
    "    arcpy.MakeFeatureLayer_management(c_lake_afm_mw_BL_BG_pi_point,c_lake_afm_mw_BL_BG_pi_point_lyr)\n",
    "#     arcpy.AddField_management(c_lake_afm_mw_BL_BG_pi_point_lyr,'hu_a1','Double')\n",
    "#     arcpy.AddField_management(c_lake_afm_mw_BL_BG_pi_point_lyr,'hu_a3','Double')\n",
    "#     arcpy.AddField_management(c_lake_afm_mw_BL_BG_pi_point_lyr,'hu_a10','Double')\n",
    "#     arcpy.AddField_management(c_lake_afm_mw_BL_BG_pi_point_lyr,'hu_a100','Double')\n",
    "#     selectByAttribute(c_lake_afm_mw_BL_BG_pi_point_lyr,'NEW_SELECTION',\"lake_type=0\")\n",
    "#     arcpy.CalculateField_management(c_lake_afm_mw_BL_BG_pi_point_lyr,'hu_a1','!lake_area!')\n",
    "#     selectByAttribute(c_lake_afm_mw_BL_BG_pi_point_lyr,'NEW_SELECTION',\"lake_type=1\")\n",
    "#     arcpy.CalculateField_management(c_lake_afm_mw_BL_BG_pi_point_lyr,'hu_a3','!lake_area!')\n",
    "#     selectByAttribute(c_lake_afm_mw_BL_BG_pi_point_lyr,'NEW_SELECTION',\"lake_type=2\")\n",
    "#     arcpy.CalculateField_management(c_lake_afm_mw_BL_BG_pi_point_lyr,'hu_a10','!lake_area!')\n",
    "#     selectByAttribute(c_lake_afm_mw_BL_BG_pi_point_lyr,'NEW_SELECTION',\"lake_type=3\")\n",
    "#     arcpy.CalculateField_management(c_lake_afm_mw_BL_BG_pi_point_lyr,'hu_a100','!lake_area!')\n",
    "#     selectByAttribute(c_lake_afm_mw_BL_BG_pi_point_lyr,'NEW_SELECTION','')\n",
    "    merge_list.append(c_lake_afm_mw_BL_BG_pi_point_lyr)\n",
    "total_lake_afm_mw_BL_BG_pi_point=os.path.join(mwBG_point_gdb,'total_polygon_afm_mwBL_BG_pi_point')\n",
    "arcpy.Merge_management(merge_list,total_lake_afm_mw_BL_BG_pi_point)"
   ]
  },
  {
   "cell_type": "code",
   "execution_count": null,
   "metadata": {},
   "outputs": [],
   "source": [
    "arcpy.MakeFeatureLayer_management(total_polygon_afm_mwBL_BG_point,total_polygon_afm_mwBL_BG_point_lyr)\n",
    "arcpy.MakeFeatureLayer_management(total_polygon_afm_mwBL_BG_pi_point,total_polygon_afm_mwBL_BG_pi_point_lyr)"
   ]
  },
  {
   "cell_type": "markdown",
   "metadata": {},
   "source": [
    "### 1.2 导出特定区域结果"
   ]
  },
  {
   "cell_type": "code",
   "execution_count": null,
   "metadata": {},
   "outputs": [],
   "source": [
    "merge_list=[]\n",
    "sample_result=os.path.join(temp_gdb,'Hu_lakes')\n",
    "for i in range(0,8):#[1,3,4,5]:\n",
    "    continent=eight_continents[i]\n",
    "    if i ==6:\n",
    "        c_lake_afm_mw_BL_BG=os.path.join(mwBG_gdb,f'c{i+1}_{continent}_polygon_afm_mwBL_BG')\n",
    "        c_lake_afm_mw_BL_BG_lyr=f'c{i+1}_{continent}_lake_afm_mw_BL_BG'\n",
    "        arcpy.MakeFeatureLayer_management(c_lake_afm_mw_BL_BG,c_lake_afm_mw_BL_BG_lyr)\n",
    "        selectByLocation(c_lake_afm_mw_BL_BG_lyr, 'INTERSECT', 'different_regions','NEW_SELECTION')\n",
    "        merge_list.append(c_lake_afm_mw_BL_BG_lyr)\n",
    "    else:\n",
    "        d_lake_afm_mw_BL_PLD=os.path.join(mwPLD_gdb,f'd{i+1}_{continent}_lakes_mwPLD')\n",
    "        d_lake_afm_mw_BL_PLD_lyr=f'd{i+1}_{continent}_lakes'\n",
    "        arcpy.MakeFeatureLayer_management(d_lake_afm_mw_BL_PLD,d_lake_afm_mw_BL_PLD_lyr)\n",
    "        selectByLocation(d_lake_afm_mw_BL_PLD_lyr, 'INTERSECT', 'different_regions','NEW_SELECTION')\n",
    "        merge_list.append(d_lake_afm_mw_BL_PLD_lyr)\n",
    "\n",
    "arcpy.Merge_management(merge_list,sample_result)"
   ]
  },
  {
   "cell_type": "markdown",
   "metadata": {
    "heading_collapsed": true
   },
   "source": [
    "### 1.3 空间连接"
   ]
  },
  {
   "cell_type": "code",
   "execution_count": null,
   "metadata": {
    "hidden": true
   },
   "outputs": [],
   "source": [
    "fieldmappings = arcpy.FieldMappings()\n",
    "fieldmappings_all = arcpy.FieldMappings()\n",
    "fieldmappings_all.addTable(grid_lyr)\n",
    "field_list = ['grid_area','Lat_down','Lon_left','Grid_ID']\n",
    "for field_i in field_list:\n",
    "    field_idx = fieldmappings_all.findFieldMapIndex(field_i)\n",
    "    fieldmappings.addFieldMap(fieldmappings_all.getFieldMap(field_idx))\n",
    "    \n",
    "fieldmappings_all.addTable(total_polygon_afm_mwBL_BG_point_lyr)\n",
    "field_list = ['hu_c1','hu_c3','hu_c10','hu_c100','Lat_down','Lon_left']\n",
    "for field_i in field_list:\n",
    "    field_idx = fieldmappings_all.findFieldMapIndex(field_i)\n",
    "    field_fieldmap = fieldmappings_all.getFieldMap(field_idx)\n",
    "    field_fieldmap.mergeRule = \"sum\"\n",
    "    fieldmappings.addFieldMap(field_fieldmap)\n",
    "\n",
    "print('Conduct spatial join')\n",
    "arcpy.SpatialJoin_analysis(grid_lyr, total_polygon_afm_mwBL_BG_point_lyr, polygon_afm_mwBL_BG_Count_SJ, \"JOIN_ONE_TO_ONE\",\n",
    "                           \"KEEP_ALL\", fieldmappings, \"CONTAINS\")\n",
    "arcpy.MakeFeatureLayer_management(polygon_afm_mwBL_BG_Count_SJ, polygon_afm_mwBL_BG_Count_SJ_lyr)\n",
    "\n",
    "fieldmappings = arcpy.FieldMappings()\n",
    "fieldmappings_all = arcpy.FieldMappings()\n",
    "fieldmappings_all.addTable(polygon_afm_mwBL_BG_Count_SJ_lyr)\n",
    "field_list = ['grid_area','Join_Count','hu_c1','hu_c3','hu_c10','hu_c100','Lat_down','Lon_left','Grid_ID']\n",
    "for field_i in field_list:\n",
    "    field_idx = fieldmappings_all.findFieldMapIndex(field_i)\n",
    "    field_fieldmap = fieldmappings_all.getFieldMap(field_idx)\n",
    "    if field_i=='Join_Count':\n",
    "        outputField=field_fieldmap.outputField\n",
    "        outputField.name='hu_c0'\n",
    "        outputField.alias='hu_c0'\n",
    "        field_fieldmap.outputField=outputField\n",
    "    fieldmappings.addFieldMap(field_fieldmap)\n",
    "\n",
    "fieldmappings_all.addTable(total_polygon_afm_mwBL_BG_pi_point_lyr)\n",
    "field_list = ['lake_area','hu_a1','hu_a3','hu_a10','hu_a100']\n",
    "for field_i in field_list:\n",
    "    field_idx = fieldmappings_all.findFieldMapIndex(field_i)\n",
    "    field_fieldmap = fieldmappings_all.getFieldMap(field_idx)\n",
    "    field_fieldmap.mergeRule = \"sum\"\n",
    "    if field_i=='lake_area':\n",
    "        outputField=field_fieldmap.outputField\n",
    "        outputField.name='hu_a0'\n",
    "        outputField.alias='hu_a0'\n",
    "        field_fieldmap.outputField=outputField\n",
    "    fieldmappings.addFieldMap(field_fieldmap)\n",
    "\n",
    "print('Conduct spatial join')\n",
    "arcpy.SpatialJoin_analysis(polygon_afm_mwBL_BG_Count_SJ_lyr, total_polygon_afm_mwBL_BG_pi_point_lyr, polygon_afm_mwBL_BG_Count_Area_SJ, \"JOIN_ONE_TO_ONE\",\n",
    "                           \"KEEP_ALL\", fieldmappings, \"CONTAINS\")\n",
    "arcpy.MakeFeatureLayer_management(polygon_afm_mwBL_BG_Count_Area_SJ, polygon_afm_mwBL_BG_Count_Area_SJ_lyr)"
   ]
  },
  {
   "cell_type": "code",
   "execution_count": null,
   "metadata": {
    "hidden": true
   },
   "outputs": [],
   "source": [
    "arcpy.MakeFeatureLayer_management(polygon_afm_mwBL_BG_Count_Area_SJ, polygon_afm_mwBL_BG_Count_Area_SJ_lyr)"
   ]
  },
  {
   "cell_type": "code",
   "execution_count": null,
   "metadata": {
    "hidden": true
   },
   "outputs": [],
   "source": [
    "field_list=['hu_c0','hu_c1','hu_c3','hu_c10','hu_c100','hu_a0','hu_a1','hu_a3','hu_a10','hu_a100']\n",
    "for field in field_list:\n",
    "    selectByAttribute(polygon_afm_mwBL_BG_Count_Area_SJ_lyr,'NEW_SELECTION',f'{field} IS NULL')\n",
    "    arcpy.CalculateField_management(polygon_afm_mwBL_BG_Count_Area_SJ_lyr,field,0)"
   ]
  },
  {
   "cell_type": "markdown",
   "metadata": {},
   "source": [
    "## 二、处理PLD"
   ]
  },
  {
   "cell_type": "markdown",
   "metadata": {},
   "source": [
    "### 2.1 计算lake type，生成pi"
   ]
  },
  {
   "cell_type": "code",
   "execution_count": null,
   "metadata": {},
   "outputs": [],
   "source": [
    "for region in PLD_list[0:]:#[1,3,4,5]:\n",
    "    print(region)\n",
    "    PLD_region=os.path.join(new_PLD_gdb,f'PLD_{region}')\n",
    "    PLD_region_point=os.path.join(PLD_point_gdb,f'PLD_{region}_point')\n",
    "    PLD_region_pi=os.path.join(new_PLD_gdb,f'PLD_{region}_pi')\n",
    "    PLD_region_pi_lyr=f'PLD_{region}_pi'\n",
    "    PLD_region_lyr=f'PLD_{region}'\n",
    "    arcpy.MakeFeatureLayer_management(PLD_region,PLD_region_lyr)\n",
    "#     arcpy.AddField_management(PLD_region_lyr,'pld_c3','Short')\n",
    "    arcpy.AddField_management(PLD_region_lyr,'pld_c10','Short')\n",
    "#     arcpy.AddField_management(PLD_region_lyr,'pld_c100','Short')\n",
    "#     selectByAttribute(PLD_region_lyr,'NEW_SELECTION',\"ref_area<0.03\")\n",
    "#     arcpy.CalculateField_management(PLD_region_lyr,'pld_c3',1)\n",
    "    selectByAttribute(PLD_region_lyr,'NEW_SELECTION',\"ref_area>=0.03 and ref_area<0.1\")\n",
    "    arcpy.CalculateField_management(PLD_region_lyr,'pld_c10',1)\n",
    "    selectByAttribute(PLD_region_lyr,'NEW_SELECTION',\"ref_area>=0.1 and ref_area<1\")\n",
    "    arcpy.CalculateField_management(PLD_region_lyr,'pld_c100',1)\n",
    "    selectByAttribute(PLD_region_lyr,'NEW_SELECTION','')\n",
    "    arcpy.management.FeatureToPoint(PLD_region_lyr,PLD_region_point,'INSIDE')\n",
    "\n",
    "    arcpy.analysis.PairwiseIntersect([PLD_region_lyr, grid_lyr],PLD_region_pi,join_attributes='NO_FID')\n",
    "    arcpy.MakeFeatureLayer_management(PLD_region_pi,PLD_region_pi_lyr)\n",
    "    selectByLocation(PLD_region_pi_lyr,'SHARE_A_LINE_SEGMENT_WITH',grid_lyr,'NEW_SELECTION')\n",
    "    arcpy.CalculateField_management(PLD_region_pi_lyr,'ref_area', \"!shape.geodesicArea@SQUAREKILOMETERS!\", \"PYTHON_9.3\")\n",
    "    PLD_region_pi_point=os.path.join(PLD_point_gdb,f'PLD_{region}_pi_point')\n",
    "    selectByAttribute(PLD_region_pi_lyr,\"NEW_SELECTION\",\"\")\n",
    "    arcpy.management.FeatureToPoint(PLD_region_pi_lyr,PLD_region_pi_point,'INSIDE')"
   ]
  },
  {
   "cell_type": "code",
   "execution_count": null,
   "metadata": {
    "scrolled": true
   },
   "outputs": [],
   "source": [
    "for region in PLD_list:\n",
    "    PLD_region_pi_point=os.path.join(PLD_point_gdb,f'PLD_{region}_pi_point')\n",
    "    PLD_region_pi_point_lyr=f'PLD_{region}_pi_point'\n",
    "    arcpy.MakeFeatureLayer_management(PLD_region_pi_point,PLD_region_pi_point_lyr)\n",
    "    arcpy.AddField_management(PLD_region_pi_point_lyr,'pld_a3','Double')\n",
    "    arcpy.AddField_management(PLD_region_pi_point_lyr,'pld_a10','Double')\n",
    "    arcpy.AddField_management(PLD_region_pi_point_lyr,'pld_a100','Double')\n",
    "    arcpy.CalculateField_management(PLD_region_pi_point_lyr,'pld_a3','!pld_c3!*!ref_area!')\n",
    "    arcpy.CalculateField_management(PLD_region_pi_point_lyr,'pld_a10','!pld_c10!*!ref_area!')\n",
    "    arcpy.CalculateField_management(PLD_region_pi_point_lyr,'pld_a100','!pld_c100!*!ref_area!')"
   ]
  },
  {
   "cell_type": "code",
   "execution_count": null,
   "metadata": {},
   "outputs": [],
   "source": [
    "# arcpy.MakeFeatureLayer_management(total_pld_point,total_pld_point_lyr)\n",
    "arcpy.MakeFeatureLayer_management(total_pld_pi_point,total_pld_pi_point_lyr)"
   ]
  },
  {
   "cell_type": "markdown",
   "metadata": {},
   "source": [
    "### 2.2 空间连接"
   ]
  },
  {
   "cell_type": "code",
   "execution_count": null,
   "metadata": {},
   "outputs": [],
   "source": [
    "# fieldmappings = arcpy.FieldMappings()\n",
    "# fieldmappings_all = arcpy.FieldMappings()\n",
    "# fieldmappings_all.addTable(grid_lyr)\n",
    "# field_list = ['grid_area','Lat_down','Lon_left','Grid_ID']\n",
    "# for field_i in field_list:\n",
    "#     field_idx = fieldmappings_all.findFieldMapIndex(field_i)\n",
    "#     fieldmappings.addFieldMap(fieldmappings_all.getFieldMap(field_idx))\n",
    "    \n",
    "# fieldmappings_all.addTable(total_pld_point_lyr)\n",
    "# field_list = ['pld_c3', 'pld_c10','pld_c100']\n",
    "# for field_i in field_list:\n",
    "#     field_idx = fieldmappings_all.findFieldMapIndex(field_i)\n",
    "#     field_fieldmap = fieldmappings_all.getFieldMap(field_idx)\n",
    "#     field_fieldmap.mergeRule = \"sum\"\n",
    "#     fieldmappings.addFieldMap(field_fieldmap)\n",
    "\n",
    "# print('Conduct spatial join')\n",
    "# arcpy.SpatialJoin_analysis(grid_lyr, total_pld_point_lyr, PLD_Count_SJ, \"JOIN_ONE_TO_ONE\",\n",
    "#                            \"KEEP_ALL\", fieldmappings, \"CONTAINS\")\n",
    "arcpy.MakeFeatureLayer_management(PLD_Count_SJ, PLD_Count_SJ_lyr)\n",
    "\n",
    "fieldmappings = arcpy.FieldMappings()\n",
    "fieldmappings_all = arcpy.FieldMappings()\n",
    "fieldmappings_all.addTable(PLD_Count_SJ_lyr)\n",
    "field_list = ['grid_area','Join_Count','pld_c3','pld_c10', 'pld_c100','Lat_down','Lon_left','Grid_ID']\n",
    "for field_i in field_list:\n",
    "    field_idx = fieldmappings_all.findFieldMapIndex(field_i)\n",
    "    field_fieldmap = fieldmappings_all.getFieldMap(field_idx)\n",
    "    if field_i=='Join_Count':\n",
    "        outputField=field_fieldmap.outputField\n",
    "        outputField.name='pld_c0'\n",
    "        outputField.alia_name='pld_c0'\n",
    "        field_fieldmap.outputField=outputField\n",
    "    fieldmappings.addFieldMap(field_fieldmap)\n",
    "\n",
    "    \n",
    "fieldmappings_all.addTable(total_pld_pi_point_lyr)\n",
    "field_list = ['ref_area','pld_a3','pld_a10', 'pld_a100']\n",
    "for field_i in field_list:\n",
    "    field_idx = fieldmappings_all.findFieldMapIndex(field_i)\n",
    "    field_fieldmap = fieldmappings_all.getFieldMap(field_idx)\n",
    "    field_fieldmap.mergeRule = \"sum\"\n",
    "    if field_i=='JOIN_COUNT':\n",
    "        outputField=field_fieldmap.outputField\n",
    "        outputField.name='pld_a0'\n",
    "        outputField.alia_name='pld_a0'\n",
    "        field_fieldmap.outputField=outputField\n",
    "    fieldmappings.addFieldMap(field_fieldmap)\n",
    "\n",
    "print('Conduct spatial join')\n",
    "arcpy.SpatialJoin_analysis(PLD_Count_SJ_lyr, total_pld_pi_point_lyr, PLD_Count_Area_SJ, \"JOIN_ONE_TO_ONE\",\n",
    "                           \"KEEP_ALL\", fieldmappings, \"CONTAINS\")\n",
    "arcpy.MakeFeatureLayer_management(PLD_Count_Area_SJ, PLD_Count_Area_SJ_lyr)"
   ]
  },
  {
   "cell_type": "code",
   "execution_count": null,
   "metadata": {},
   "outputs": [],
   "source": [
    "arcpy.MakeFeatureLayer_management(PLD_Count_Area_SJ, PLD_Count_Area_SJ_lyr)"
   ]
  },
  {
   "cell_type": "code",
   "execution_count": null,
   "metadata": {},
   "outputs": [],
   "source": [
    "arcpy.MakeFeatureLayer_management(PLD_Count_Area_SJ, PLD_Count_Area_SJ_lyr)\n",
    "field_list=['pld_c0','pld_c3','pld_c10','pld_c100','pld_a0','pld_a3','pld_a10','pld_a100']\n",
    "for field in field_list:\n",
    "    selectByAttribute(PLD_Count_Area_SJ_lyr,'NEW_SELECTION',f'{field} IS NULL')\n",
    "    arcpy.CalculateField_management(PLD_Count_Area_SJ_lyr,field,0)"
   ]
  },
  {
   "cell_type": "markdown",
   "metadata": {},
   "source": [
    "### 2.3 导出特定区域结果"
   ]
  },
  {
   "cell_type": "code",
   "execution_count": null,
   "metadata": {},
   "outputs": [],
   "source": [
    "# merge_list=[]\n",
    "sample_result=os.path.join(temp_gdb,'PLD_lakes')\n",
    "# for region in PLD_list:\n",
    "#     print(region)\n",
    "#     PLD_region=os.path.join(new_PLD_gdb,f'PLD_{region}')\n",
    "#     PLD_region_point=os.path.join(PLD_point_gdb,f'PLD_{region}_point')\n",
    "#     PLD_region_pi=os.path.join(new_PLD_gdb,f'PLD_{region}_pi')\n",
    "#     PLD_region_pi_lyr=f'PLD_{region}_pi'\n",
    "#     PLD_region_lyr=f'PLD_{region}'\n",
    "#     arcpy.MakeFeatureLayer_management(PLD_region,PLD_region_lyr)\n",
    "#     selectByLocation(PLD_region_lyr, 'INTERSECT', 'different_regions','NEW_SELECTION')\n",
    "#     merge_list.append(PLD_region_lyr)\n",
    "arcpy.Merge_management(merge_list,sample_result)"
   ]
  },
  {
   "cell_type": "markdown",
   "metadata": {},
   "source": [
    "## 三、处理GLAKES"
   ]
  },
  {
   "cell_type": "markdown",
   "metadata": {},
   "source": [
    "### 3.1 展示occurrence"
   ]
  },
  {
   "cell_type": "code",
   "execution_count": null,
   "metadata": {},
   "outputs": [],
   "source": [
    "osw_grid_lyr='latlon_10degree'\n",
    "selectByLocation(osw_grid_lyr,'INTERSECT','different_place','NEW_SELECTION')\n",
    "with arcpy.da.SearchCursor(osw_grid_lyr, [\"Grid_name\"]) as cursor:\n",
    "    for row in cursor:\n",
    "        name_value = row[0] \n",
    "        osw_file=os.path.join(r'J:\\4_GSW\\occurrence',f'occurrence_{name_value}.tif')\n",
    "#         arcpy.MakeFeatureLayer_management(osw_file,f'osw_{name_value}')\n",
    "        aprx = arcpy.mp.ArcGISProject(\"CURRENT\")  # \"CURRENT\"表示当前打开的项目\n",
    "        map = aprx.activeMap  # 获取当前活动的地图\n",
    "\n",
    "        # 将栅格影像添加到地图中\n",
    "        map.addDataFromPath(osw_file)"
   ]
  },
  {
   "cell_type": "markdown",
   "metadata": {},
   "source": [
    "### 3.2 join"
   ]
  },
  {
   "cell_type": "code",
   "execution_count": null,
   "metadata": {},
   "outputs": [],
   "source": [
    "GLAKES_Count_Area_SJ=os.path.join(temp_gdb,'Global_grid_shp_1degree_GLAKES_Count_Area')\n",
    "GLAKES_Count_Area_SJ_lyr='GLAKES_Count_Area_SJ'\n",
    "arcpy.MakeFeatureLayer_management(GLAKES_Count_Area_SJ, GLAKES_Count_Area_SJ_lyr)"
   ]
  },
  {
   "cell_type": "code",
   "execution_count": null,
   "metadata": {},
   "outputs": [],
   "source": [
    "target_lyr=d_lakes_in_arid_grids_Count_Area_SJ_lyr#polygon_afm_mwBL_BG_Count_Area_SJ_lyr\n",
    "join_lyr=PLD_Count_Area_SJ_lyr\n",
    "\n",
    "arcpy.AddField_management(target_lyr,'hu_ap','double')\n",
    "arcpy.AddField_management(target_lyr,'hu_ap_small_lake','double')\n",
    "calculateField(target_lyr,'hu_ap','!hu_a0!/!grid_area!*100')\n",
    "selectByAttribute(target_lyr,\"NEW_SELECTION\",'\"hu_a0\"<> 0')\n",
    "calculateField(target_lyr,'hu_ap_small_lake','(!hu_a1!+!hu_a3!+!hu_a10!+!hu_a100!)/!hu_a0!*100')\n",
    "\n",
    "arcpy.AddField_management(target_lyr,'diff_c0','Long')\n",
    "arcpy.AddField_management(target_lyr,'diff_c_gt1','Long')\n",
    "arcpy.AddField_management(target_lyr,'diff_c3','Long')\n",
    "arcpy.AddField_management(target_lyr,'diff_c10','Long')\n",
    "arcpy.AddField_management(target_lyr,'diff_c100','Long')\n",
    "\n",
    "arcpy.AddField_management(target_lyr,'diff_a0','double')\n",
    "arcpy.AddField_management(target_lyr,'diff_a3','double')\n",
    "arcpy.AddField_management(target_lyr,'diff_a10','double')\n",
    "arcpy.AddField_management(target_lyr,'diff_a100','double')\n",
    "\n",
    "arcpy.management.AddJoin(target_lyr,'Grid_ID',join_lyr,'Grid_ID','keep_all')\n",
    "\n",
    "calculateField(target_lyr,'diff_c0',f'!{target_lyr}.hu_c0!-!{join_lyr}.pld_c0!')\n",
    "calculateField(target_lyr,'diff_c_gt1',f'!{target_lyr}.diff_c0!-!{target_lyr}.hu_c1!')\n",
    "calculateField(target_lyr,'diff_c3',f'!{target_lyr}.hu_c3!-!{join_lyr}.pld_c3!')\n",
    "calculateField(target_lyr,'diff_c10',f'!{target_lyr}.hu_c10!-!{join_lyr}.pld_c10!')\n",
    "calculateField(target_lyr,'diff_c100',f'!{target_lyr}.hu_c100!-!{join_lyr}.pld_c100!')\n",
    "calculateField(target_lyr,'diff_a0',f'!{target_lyr}.hu_a0!-!{join_lyr}.pld_a0!')\n",
    "calculateField(target_lyr,'diff_a3',f'!{target_lyr}.hu_a3!-!{join_lyr}.pld_a3!')\n",
    "calculateField(target_lyr,'diff_a10',f'!{target_lyr}.hu_a10!-!{join_lyr}.pld_a10!')\n",
    "calculateField(target_lyr,'diff_a100',f'!{target_lyr}.hu_a100!-!{join_lyr}.pld_a100!')\n",
    "# calculateField(target_lyr,'diff_c0','!hu_c0!-!pld_c0!')\n",
    "# calculateField(target_lyr,'diff_c_gt1','!diff_c0!-!hu_c1!')\n",
    "# calculateField(target_lyr,'diff_c3','!hu_c3!-!pld_c3!')\n",
    "# calculateField(target_lyr,'diff_c10','!hu_c10!-!pld_c10!')\n",
    "# calculateField(target_lyr,'diff_c100','!hu_c100!-!pld_c100!')\n",
    "# calculateField(target_lyr,'diff_a0','!hu_a0!-!pld_a0!')\n",
    "# calculateField(target_lyr,'diff_a3','!hu_a3!-!pld_a3!')\n",
    "# calculateField(target_lyr,'diff_a10','!hu_a10!-!pld_a10!')\n",
    "# calculateField(target_lyr,'diff_a100','!hu_a100!-!pld_a100!')"
   ]
  },
  {
   "cell_type": "code",
   "execution_count": null,
   "metadata": {},
   "outputs": [],
   "source": [
    "arcpy.management.AddJoin(polygon_afm_mwBL_BG_Count_Area_SJ_lyr,'OBJECTID',GLAKES_Count_Area_SJ_lyr,'OBJECTID','keep_all')"
   ]
  },
  {
   "cell_type": "code",
   "execution_count": null,
   "metadata": {},
   "outputs": [],
   "source": [
    "arcpy.AddField_management(polygon_afm_mwBL_BG_Count_Area_SJ_lyr,'diff_c0_G','Long')\n",
    "arcpy.AddField_management(polygon_afm_mwBL_BG_Count_Area_SJ_lyr,'diff_c_gt3_G','Long')\n",
    "arcpy.AddField_management(polygon_afm_mwBL_BG_Count_Area_SJ_lyr,'diff_c100_G','Long')\n",
    "\n",
    "arcpy.AddField_management(polygon_afm_mwBL_BG_Count_Area_SJ_lyr,'diff_a0_G','double')\n",
    "arcpy.AddField_management(polygon_afm_mwBL_BG_Count_Area_SJ_lyr,'diff_a100_G','double')\n",
    "\n",
    "calculateField(polygon_afm_mwBL_BG_Count_Area_SJ_lyr,'diff_c0_G','!Global_grid_shp_1degree_hu_Count_Area.hu_c0!-!Global_grid_shp_1degree_GLAKES_Count_Area.GL_c0!')\n",
    "calculateField(polygon_afm_mwBL_BG_Count_Area_SJ_lyr,'diff_c_gt3_G','!Global_grid_shp_1degree_hu_Count_Area.diff_c0_G!-!Global_grid_shp_1degree_hu_Count_Area.hu_c1!-!Global_grid_shp_1degree_hu_Count_Area.hu_c3!')\n",
    "calculateField(polygon_afm_mwBL_BG_Count_Area_SJ_lyr,'diff_c100_G','!Global_grid_shp_1degree_hu_Count_Area.hu_c100!-!Global_grid_shp_1degree_GLAKES_Count_Area.GL_c100!')\n",
    "calculateField(polygon_afm_mwBL_BG_Count_Area_SJ_lyr,'diff_a0_G','!Global_grid_shp_1degree_hu_Count_Area.hu_a0!-!Global_grid_shp_1degree_GLAKES_Count_Area.GL_a0!')\n",
    "calculateField(polygon_afm_mwBL_BG_Count_Area_SJ_lyr,'diff_a100_G','!Global_grid_shp_1degree_hu_Count_Area.hu_a100!-!Global_grid_shp_1degree_GLAKES_Count_Area.GL_a100!')"
   ]
  },
  {
   "cell_type": "code",
   "execution_count": null,
   "metadata": {},
   "outputs": [],
   "source": [
    "GLAKES=r'D:\\lakemapping\\0_auxiliary_data\\GLAKES\\GLAKES.gdb\\GLAKES'\n",
    "arcpy.MakeFeatureLayer_management(GLAKES,'GLAKES')"
   ]
  },
  {
   "cell_type": "code",
   "execution_count": null,
   "metadata": {},
   "outputs": [],
   "source": [
    "selectByLocation('GLAKES', 'INTERSECT', 'different_regions','NEW_SELECTION')\n",
    "sample_result=os.path.join(temp_gdb,'GLAKES_sample')\n",
    "arcpy.conversion.ExportFeatures('GLAKES',sample_result)"
   ]
  },
  {
   "cell_type": "markdown",
   "metadata": {},
   "source": [
    "## Aird Region"
   ]
  },
  {
   "cell_type": "code",
   "execution_count": null,
   "metadata": {},
   "outputs": [],
   "source": [
    "arcpy.MakeFeatureLayer_management(Global_grid_shp_1degree_Arid,Global_grid_shp_1degree_Arid_lyr)"
   ]
  },
  {
   "cell_type": "code",
   "execution_count": null,
   "metadata": {},
   "outputs": [],
   "source": [
    "# selectByAttribute(d_lakes_in_arid_grids_lyr,'NEW_SELECTION',\"lake_area>=0.1 AND lake_area<1\")\n",
    "# arcpy.CalculateField_management(d_lakes_in_arid_grids_lyr,'lake_type',3)\n",
    "# selectByAttribute(d_lakes_in_arid_grids_point_lyr,'NEW_SELECTION',\"lake_area>=0.1 AND lake_area<1\")\n",
    "# arcpy.CalculateField_management(d_lakes_in_arid_grids_point_lyr,'lake_type',3)\n",
    "# arcpy.CalculateField_management(d_lakes_in_arid_grids_point_lyr,'hu_c10',0)\n",
    "# arcpy.CalculateField_management(d_lakes_in_arid_grids_point_lyr,'hu_c100',1)\n",
    "# selectByLocation(d_lakes_in_arid_grids_pi_lyr,'WITHIN',d_lakes_in_arid_grids_lyr)\n",
    "# arcpy.CalculateField_management(d_lakes_in_arid_grids_pi_lyr,'lake_type',3)\n",
    "selectByLocation(d_lakes_in_arid_grids_pi_point_lyr,'WITHIN',d_lakes_in_arid_grids_lyr)\n",
    "arcpy.CalculateField_management(d_lakes_in_arid_grids_pi_point_lyr,'lake_type',3)\n",
    "arcpy.CalculateField_management(d_lakes_in_arid_grids_pi_point_lyr,'hu_a10',0)\n",
    "arcpy.CalculateField_management(d_lakes_in_arid_grids_pi_point_lyr,'hu_a100','!lake_area!')"
   ]
  },
  {
   "cell_type": "code",
   "execution_count": null,
   "metadata": {},
   "outputs": [],
   "source": [
    "# merge_list=[]\n",
    "\n",
    "# for i in range(0,8):\n",
    "#     if i !=6:\n",
    "#         continent=eight_continents[i]\n",
    "#         print(continent)\n",
    "#         d_lake_afm_mw_BL_PLD=os.path.join(mwPLD_gdb,f'd{i+1}_{continent}_lakes')\n",
    "#         d_lake_afm_mw_BL_PLD_lyr=f'd{i+1}_{continent}_lakes_mwPLD'\n",
    "#         d_lake_afm_mw_BL_PLD_point=os.path.join(mwPLD_point_gdb,f'd{i+1}_{continent}_lakes_point')\n",
    "#         d_lake_afm_mw_BL_PLD_point_lyr=f'd{i+1}_{continent}_lakes_point_lyr'\n",
    "# #         arcpy.MakeFeatureLayer_management(d_lake_afm_mw_BL_PLD,d_lake_afm_mw_BL_PLD_lyr)\n",
    "#         selectByLocation(d_lake_afm_mw_BL_PLD_lyr, 'INTERSECT', Global_grid_shp_1degree_Arid_lyr,'NEW_SELECTION')\n",
    "#         merge_list.append(d_lake_afm_mw_BL_PLD_lyr)\n",
    "        \n",
    "# print('start merge')\n",
    "# arcpy.Merge_management(merge_list,d_lakes_in_arid_grids)\n",
    "# arcpy.MakeFeatureLayer_management(d_lakes_in_arid_grids,d_lakes_in_arid_grids_lyr)\n",
    "\n",
    "# print('start transform to point')\n",
    "# arcpy.management.FeatureToPoint(d_lakes_in_arid_grids_lyr,d_lakes_in_arid_grids_point,'INSIDE')\n",
    "# arcpy.MakeFeatureLayer_management(d_lakes_in_arid_grids_point,d_lakes_in_arid_grids_point_lyr)\n",
    "# arcpy.AddField_management(d_lakes_in_arid_grids_point_lyr,'hu_c1','Short')\n",
    "# arcpy.AddField_management(d_lakes_in_arid_grids_point_lyr,'hu_c3','Short')\n",
    "# arcpy.AddField_management(d_lakes_in_arid_grids_point_lyr,'hu_c10','Short')\n",
    "# arcpy.AddField_management(d_lakes_in_arid_grids_point_lyr,'hu_c100','Short')\n",
    "# selectByAttribute(d_lakes_in_arid_grids_point_lyr,'NEW_SELECTION',\"lake_type =0\")\n",
    "# arcpy.CalculateField_management(d_lakes_in_arid_grids_point_lyr,'hu_c1',1)\n",
    "# selectByAttribute(d_lakes_in_arid_grids_point_lyr,'NEW_SELECTION',\"lake_type =1\")\n",
    "# arcpy.CalculateField_management(d_lakes_in_arid_grids_point_lyr,'hu_c3',1)\n",
    "# selectByAttribute(d_lakes_in_arid_grids_point_lyr,'NEW_SELECTION',\"lake_type =2\")\n",
    "# arcpy.CalculateField_management(d_lakes_in_arid_grids_point_lyr,'hu_c10',1)\n",
    "# selectByAttribute(d_lakes_in_arid_grids_point_lyr,'NEW_SELECTION',\"lake_type =3\")\n",
    "# arcpy.CalculateField_management(d_lakes_in_arid_grids_point_lyr,'hu_c100',1)\n",
    "# selectByAttribute(d_lakes_in_arid_grids_lyr,'NEW_SELECTION',\"\")\n",
    "# print('start pairwise intersect')\n",
    "# arcpy.analysis.PairwiseIntersect([d_lakes_in_arid_grids_lyr, Global_grid_shp_1degree_Arid_lyr],d_lakes_in_arid_grids_pi,join_attributes='NO_FID')\n",
    "# arcpy.MakeFeatureLayer_management(d_lakes_in_arid_grids_pi,d_lakes_in_arid_grids_pi_lyr)\n",
    "# selectByLocation(d_lakes_in_arid_grids_pi_lyr,'SHARE_A_LINE_SEGMENT_WITH',Global_grid_shp_1degree_Arid_lyr,'NEW_SELECTION')\n",
    "# arcpy.CalculateField_management(d_lakes_in_arid_grids_pi_lyr,'lake_area', \"!shape.geodesicArea@SQUAREKILOMETERS!\", \"PYTHON_9.3\")\n",
    "# selectByAttribute(d_lakes_in_arid_grids_pi_lyr,'NEW_SELECTION',\"\")\n",
    "print('start transform to point')\n",
    "arcpy.management.FeatureToPoint(d_lakes_in_arid_grids_pi_lyr,d_lakes_in_arid_grids_pi_point,'INSIDE')\n",
    "arcpy.MakeFeatureLayer_management(d_lakes_in_arid_grids_pi_point,d_lakes_in_arid_grids_pi_point_lyr)\n",
    "\n",
    "print('start calculate field')\n",
    "arcpy.AddField_management(d_lakes_in_arid_grids_pi_point_lyr,'hu_a1','Double')\n",
    "selectByAttribute(d_lakes_in_arid_grids_pi_point_lyr,'NEW_SELECTION',\"lake_type = 0\")\n",
    "arcpy.CalculateField_management(d_lakes_in_arid_grids_pi_point_lyr,'hu_a1','!lake_area!')\n",
    "\n",
    "arcpy.AddField_management(d_lakes_in_arid_grids_pi_point_lyr,'hu_a3','Double')\n",
    "selectByAttribute(d_lakes_in_arid_grids_pi_point_lyr,'NEW_SELECTION',\"lake_type = 1\")\n",
    "arcpy.CalculateField_management(d_lakes_in_arid_grids_pi_point_lyr,'hu_a3','!lake_area!')\n",
    "\n",
    "arcpy.AddField_management(d_lakes_in_arid_grids_pi_point_lyr,'hu_a10','Double')\n",
    "selectByAttribute(d_lakes_in_arid_grids_pi_point_lyr,'NEW_SELECTION',\"lake_type = 2\")\n",
    "arcpy.CalculateField_management(d_lakes_in_arid_grids_pi_point_lyr,'hu_a10','!lake_area!')\n",
    "\n",
    "arcpy.AddField_management(d_lakes_in_arid_grids_pi_point_lyr,'hu_a100','Double')\n",
    "selectByAttribute(d_lakes_in_arid_grids_pi_point_lyr,'NEW_SELECTION',\"lake_type = 3\")\n",
    "arcpy.CalculateField_management(d_lakes_in_arid_grids_pi_point_lyr,'hu_a100','!lake_area!')"
   ]
  },
  {
   "cell_type": "code",
   "execution_count": null,
   "metadata": {},
   "outputs": [],
   "source": [
    "arcpy.MakeFeatureLayer_management(d_lakes_in_arid_grids_point,d_lakes_in_arid_grids_point_lyr)\n",
    "arcpy.MakeFeatureLayer_management(d_lakes_in_arid_grids_pi_point,d_lakes_in_arid_grids_pi_point_lyr)"
   ]
  },
  {
   "cell_type": "code",
   "execution_count": null,
   "metadata": {},
   "outputs": [],
   "source": [
    "# fieldmappings = arcpy.FieldMappings()\n",
    "# fieldmappings_all = arcpy.FieldMappings()\n",
    "# fieldmappings_all.addTable(Global_grid_shp_1degree_Arid_lyr)\n",
    "# field_list = ['grid_area','Lat_down','Lon_left','Grid_ID']\n",
    "# for field_i in field_list:\n",
    "#     field_idx = fieldmappings_all.findFieldMapIndex(field_i)\n",
    "#     fieldmappings.addFieldMap(fieldmappings_all.getFieldMap(field_idx))\n",
    "    \n",
    "# fieldmappings_all.addTable(d_lakes_in_arid_grids_point_lyr)\n",
    "# field_list = ['hu_c1','hu_c3','hu_c10','hu_c100']\n",
    "# for field_i in field_list:\n",
    "#     field_idx = fieldmappings_all.findFieldMapIndex(field_i)\n",
    "#     field_fieldmap = fieldmappings_all.getFieldMap(field_idx)\n",
    "#     field_fieldmap.mergeRule = \"sum\"\n",
    "#     fieldmappings.addFieldMap(field_fieldmap)\n",
    "\n",
    "# print('Conduct spatial join')\n",
    "# arcpy.SpatialJoin_analysis(Global_grid_shp_1degree_Arid_lyr, d_lakes_in_arid_grids_point_lyr, d_lakes_in_arid_grids_Count_SJ, \"JOIN_ONE_TO_ONE\",\n",
    "#                            \"KEEP_ALL\", fieldmappings, \"CONTAINS\")\n",
    "# arcpy.MakeFeatureLayer_management(d_lakes_in_arid_grids_Count_SJ, d_lakes_in_arid_grids_Count_SJ_lyr)\n",
    "\n",
    "fieldmappings = arcpy.FieldMappings()\n",
    "fieldmappings_all = arcpy.FieldMappings()\n",
    "fieldmappings_all.addTable(d_lakes_in_arid_grids_Count_SJ_lyr)\n",
    "field_list =['grid_area','Join_Count','hu_c1','hu_c3','hu_c10','hu_c100','Lat_down','Lon_left','Grid_ID']\n",
    "for field_i in field_list:\n",
    "    field_idx = fieldmappings_all.findFieldMapIndex(field_i)\n",
    "    field_fieldmap = fieldmappings_all.getFieldMap(field_idx)\n",
    "    if field_i=='Join_Count':\n",
    "        outputField=field_fieldmap.outputField\n",
    "        outputField.name='hu_c0'\n",
    "        outputField.alia_name='hu_c0'\n",
    "        field_fieldmap.outputField=outputField\n",
    "    fieldmappings.addFieldMap(field_fieldmap)\n",
    "\n",
    "    \n",
    "fieldmappings_all.addTable(d_lakes_in_arid_grids_pi_point_lyr)\n",
    "field_list = ['lake_area','hu_a1','hu_a3','hu_a10','hu_a100']\n",
    "for field_i in field_list:\n",
    "    field_idx = fieldmappings_all.findFieldMapIndex(field_i)\n",
    "    field_fieldmap = fieldmappings_all.getFieldMap(field_idx)\n",
    "    field_fieldmap.mergeRule = \"sum\"\n",
    "    if field_i=='lake_area':\n",
    "        outputField=field_fieldmap.outputField\n",
    "        outputField.name='hu_a0'\n",
    "        outputField.alia_name='hu_a0'\n",
    "        field_fieldmap.outputField=outputField\n",
    "    fieldmappings.addFieldMap(field_fieldmap)\n",
    "\n",
    "print('Conduct spatial join')\n",
    "arcpy.SpatialJoin_analysis(d_lakes_in_arid_grids_Count_SJ_lyr, d_lakes_in_arid_grids_pi_point_lyr, d_lakes_in_arid_grids_Count_Area_SJ, \"JOIN_ONE_TO_ONE\",\n",
    "                           \"KEEP_ALL\", fieldmappings, \"CONTAINS\")\n",
    "arcpy.MakeFeatureLayer_management(d_lakes_in_arid_grids_Count_Area_SJ, d_lakes_in_arid_grids_Count_Area_SJ_lyr)"
   ]
  },
  {
   "cell_type": "code",
   "execution_count": null,
   "metadata": {},
   "outputs": [],
   "source": [
    "field_list=['hu_c0','hu_c1','hu_c3','hu_c10','hu_c100','hu_a0','hu_a1','hu_a3','hu_a10','hu_a100']\n",
    "for field in field_list:\n",
    "    selectByAttribute(d_lakes_in_arid_grids_Count_Area_SJ_lyr,'NEW_SELECTION',f'{field} IS NULL')\n",
    "    arcpy.CalculateField_management(d_lakes_in_arid_grids_Count_Area_SJ_lyr,field,0)"
   ]
  },
  {
   "cell_type": "code",
   "execution_count": null,
   "metadata": {},
   "outputs": [],
   "source": []
  }
 ],
 "metadata": {
  "kernelspec": {
   "display_name": "ArcGISPro",
   "language": "Python",
   "name": "python3"
  },
  "language_info": {
   "file_extension": ".py",
   "name": "python",
   "version": "3"
  }
 },
 "nbformat": 4,
 "nbformat_minor": 2
}
