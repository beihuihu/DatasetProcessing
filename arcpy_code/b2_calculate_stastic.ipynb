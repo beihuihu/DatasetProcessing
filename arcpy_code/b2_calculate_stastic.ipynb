{
 "cells": [
  {
   "cell_type": "code",
   "execution_count": 1,
   "metadata": {},
   "outputs": [],
   "source": [
    "import arcpy\n",
    "from arcpy.sa import *\n",
    "import os\n",
    "import time\n",
    "arcpy.env.overwriteOutput = True"
   ]
  },
  {
   "cell_type": "code",
   "execution_count": 2,
   "metadata": {},
   "outputs": [],
   "source": [
    "after_mask_gdb=r'J:\\lakemapping\\postprocess\\v9_240622\\3_polygon_after_rivermask.gdb'"
   ]
  },
  {
   "cell_type": "code",
   "execution_count": 3,
   "metadata": {},
   "outputs": [],
   "source": [
    "output_dir = r'J:\\lakemapping\\postprocess\\v9_240622'\n",
    "if not os.path.exists(output_dir):\n",
    "    arcpy.CreateFileGDB_management(output_dir, \"0_summary_stastics.gdb\")\n",
    "after_mask_gdb=os.path.join(output_dir,f'3_polygon_after_rivermask.gdb')\n",
    "stastics_gdb=os.path.join(output_dir,f'0_summary_stastics.gdb')"
   ]
  },
  {
   "cell_type": "code",
   "execution_count": 123,
   "metadata": {},
   "outputs": [],
   "source": [
    "lake_rmO=os.path.join(r'D:\\postprocess\\v240306\\1_other_polygons.gdb',f'{raw_prediction_fn}_rmO' ) "
   ]
  },
  {
   "cell_type": "code",
   "execution_count": 124,
   "metadata": {},
   "outputs": [
    {
     "name": "stdout",
     "output_type": "stream",
     "text": [
      "['af', 'eu', 'oc', 'island', 'greenland', 'sa_1', 'sa_2', 'as_1', 'as_2', 'as_3', 'as_4', 'as_5', 'as_6', 'as_7', 'as_8', 'as_9', 'na_1', 'na_2', 'na_3', 'na_4', 'na_5', 'na_6']\n"
     ]
    }
   ],
   "source": [
    "region_list=['af','eu','oc','island','greenland','sa_1','sa_2']\n",
    "for i in range(1,10):\n",
    "    region_list.append(f'as_{i}')\n",
    "for i in range(1,7):\n",
    "    region_list.append(f'na_{i}')\n",
    "print(region_list)"
   ]
  },
  {
   "cell_type": "code",
   "execution_count": 125,
   "metadata": {},
   "outputs": [
    {
     "name": "stdout",
     "output_type": "stream",
     "text": [
      "af\n",
      "eu\n",
      "oc\n",
      "island\n",
      "greenland\n",
      "sa_1\n",
      "sa_2\n",
      "as_1\n",
      "as_2\n",
      "as_3\n",
      "as_4\n",
      "as_5\n",
      "as_6\n",
      "as_7\n",
      "as_8\n",
      "as_9\n",
      "na_1\n",
      "na_2\n",
      "na_3\n",
      "na_4\n",
      "na_5\n",
      "na_6\n"
     ]
    }
   ],
   "source": [
    "input_table_rmO_list=[]\n",
    "for region in region_list:\n",
    "    print(region)\n",
    "    raw_prediction_fn='lakes_'+region\n",
    "#     lake_rmO_lyr=raw_prediction_fn+'_rmO' \n",
    "#     lake_rmO=os.path.join(r'J:\\lakemapping\\postprocess\\v3_240306\\1_other_polygons.gdb',f'{raw_prediction_fn}_rmO' ) \n",
    "#     arcpy.MakeFeatureLayer_management(lake_rmO, lake_rmO_lyr)\n",
    "#     out_table=os.path.join(stastics_gdb,f'{raw_prediction_fn}_rmO_stastics' ) \n",
    "#     arcpy.analysis.Statistics(lake_rmO_lyr, out_table, [['area',\"sum\"]], ['iwR','iwG'])\n",
    "    out_table=os.path.join(stastics_gdb,f'{raw_prediction_fn}_rmO_stastics' ) \n",
    "    input_table_rmO_list.append(out_table)\n",
    "#     arcpy.analysis.Statistics(lake_rmO_lyr, out_table, [['area',\"sum\"]], ['iwR','iwG'])"
   ]
  },
  {
   "cell_type": "code",
   "execution_count": 126,
   "metadata": {},
   "outputs": [
    {
     "name": "stdout",
     "output_type": "stream",
     "text": [
      "af\n",
      "eu\n",
      "oc\n",
      "island\n",
      "greenland\n",
      "sa_1\n",
      "sa_2\n",
      "as_1\n",
      "as_2\n",
      "as_3\n",
      "as_4\n",
      "as_5\n",
      "as_6\n",
      "as_7\n",
      "as_8\n",
      "as_9\n",
      "na_1\n",
      "na_2\n",
      "na_3\n",
      "na_4\n",
      "na_5\n",
      "na_6\n"
     ]
    }
   ],
   "source": [
    "input_table_afm_list=[]\n",
    "for region in region_list:\n",
    "    print(region)\n",
    "    raw_prediction_fn='lakes_'+region\n",
    "    out_table=os.path.join(stastics_gdb,f'{raw_prediction_fn}_afm_stastics' )\n",
    "    input_table_afm_list.append(out_table)\n",
    "#     result_afm=os.path.join(after_mask_gdb,raw_prediction_fn+'_afterMask')\n",
    "#     result_afm_lyr=region+'_afterMask'\n",
    "#     arcpy.MakeFeatureLayer_management(result_afm, result_afm_lyr)\n",
    "#     arcpy.analysis.Statistics(result_afm_lyr, out_table, [['area',\"sum\"]], ['iwR','iwG']) "
   ]
  },
  {
   "cell_type": "code",
   "execution_count": 260,
   "metadata": {},
   "outputs": [
    {
     "data": {
      "text/html": [
       "<div class='gpresult'><h2>Messages</h2><div id='messages' data-messages='[\"Start Time: 2024年7月5日 17:20:02\",\"Succeeded at 2024年7月5日 17:20:18 (Elapsed Time: 16.67 seconds)\"]' data-show='true'><div id = 'default' /></div></div>"
      ],
      "text/plain": [
       "<Result 'J:\\\\lakemapping\\\\postprocess\\\\v9_240622\\\\0_summary_stastics.gdb\\\\lakes_sa_1_afm_stastics'>"
      ]
     },
     "execution_count": 260,
     "metadata": {},
     "output_type": "execute_result"
    }
   ],
   "source": [
    "region='sa_1'\n",
    "raw_prediction_fn='lakes_'+region\n",
    "result_afm=os.path.join(after_mask_gdb,raw_prediction_fn+'_afterMask')\n",
    "result_afm_lyr='lakes_'+region+'_afm'\n",
    "arcpy.MakeFeatureLayer_management(result_afm, result_afm_lyr)\n",
    "out_table=os.path.join(stastics_gdb,f'{raw_prediction_fn}_afm_stastics' )\n",
    "arcpy.analysis.Statistics(result_afm_lyr, out_table, [['area',\"sum\"]], ['iwR','iwG']) \n",
    "# lake_rmO_lyr=raw_prediction_fn+'_rmO' \n",
    "# lake_rmO=os.path.join(r'J:\\lakemapping\\postprocess\\v3_240306\\1_other_polygons.gdb',f'{raw_prediction_fn}_rmO' ) \n",
    "# arcpy.MakeFeatureLayer_management(lake_rmO, lake_rmO_lyr)\n",
    "# out_table=os.path.join(stastics_gdb,f'{raw_prediction_fn}_rmO_stastics' ) \n",
    "# arcpy.analysis.Statistics(lake_rmO_lyr, out_table, [['area',\"sum\"]], ['iwR','iwG'])"
   ]
  },
  {
   "cell_type": "code",
   "execution_count": 43,
   "metadata": {},
   "outputs": [
    {
     "ename": "NameError",
     "evalue": "name 'input_table_afm_list' is not defined",
     "output_type": "error",
     "traceback": [
      "\u001b[0;31m---------------------------------------------------------------------------\u001b[0m\n\u001b[0;31mNameError\u001b[0m                                 Traceback (most recent call last)",
      "In  \u001b[0;34m[43]\u001b[0m:\nLine \u001b[0;34m1\u001b[0m:     \u001b[36mprint\u001b[39;49;00m(input_table_afm_list)\n",
      "\u001b[0;31mNameError\u001b[0m: name 'input_table_afm_list' is not defined\n\u001b[0;31m---------------------------------------------------------------------------\u001b[0m"
     ]
    }
   ],
   "source": [
    "print(input_table_afm_list)"
   ]
  },
  {
   "cell_type": "code",
   "execution_count": 138,
   "metadata": {},
   "outputs": [
    {
     "data": {
      "text/html": [
       "<div class='gpresult'><h2>Messages</h2><div id='messages' data-messages='[\"Start Time: 2024年7月1日 15:41:35\",\"Succeeded at 2024年7月1日 15:41:55 (Elapsed Time: 19.49 seconds)\"]' data-show='true'><div id = 'default' /></div></div>"
      ],
      "text/plain": [
       "<Result 'J:\\\\lakemapping\\\\postprocess\\\\v9_240622\\\\sum_rmO_stastics.xls'>"
      ]
     },
     "execution_count": 138,
     "metadata": {},
     "output_type": "execute_result"
    }
   ],
   "source": [
    "Output_Excel_File=r'J:\\lakemapping\\postprocess\\v9_240622\\sum_rmO_stastics.xls'\n",
    "arcpy.conversion.TableToExcel(input_table_rmO_list, Output_Excel_File)"
   ]
  },
  {
   "cell_type": "code",
   "execution_count": 261,
   "metadata": {},
   "outputs": [
    {
     "data": {
      "text/html": [
       "<div class='gpresult'><h2>Messages</h2><div id='messages' data-messages='[\"Start Time: 2024年7月5日 17:22:19\",\"Succeeded at 2024年7月5日 17:22:28 (Elapsed Time: 9.12 seconds)\"]' data-show='true'><div id = 'default' /></div></div>"
      ],
      "text/plain": [
       "<Result 'J:\\\\lakemapping\\\\postprocess\\\\v9_240622\\\\sum_afm_stastics.xls'>"
      ]
     },
     "execution_count": 261,
     "metadata": {},
     "output_type": "execute_result"
    }
   ],
   "source": [
    "Output_Excel_File=r'J:\\lakemapping\\postprocess\\v9_240622\\sum_afm_stastics.xls'\n",
    "arcpy.conversion.TableToExcel(input_table_afm_list, Output_Excel_File)"
   ]
  },
  {
   "cell_type": "code",
   "execution_count": null,
   "metadata": {},
   "outputs": [],
   "source": []
  }
 ],
 "metadata": {
  "kernelspec": {
   "display_name": "ArcGISPro",
   "language": "Python",
   "name": "python3"
  },
  "language_info": {
   "file_extension": ".py",
   "name": "python",
   "version": "3"
  }
 },
 "nbformat": 4,
 "nbformat_minor": 2
}
