{
 "cells": [
  {
   "cell_type": "code",
   "execution_count": 12,
   "metadata": {},
   "outputs": [],
   "source": [
    "# Set environment settings\n",
    "import arcpy\n",
    "from arcpy.sa import *\n",
    "import os\n",
    "import time\n",
    "arcpy.env.overwriteOutput = True"
   ]
  },
  {
   "cell_type": "code",
   "execution_count": 13,
   "metadata": {},
   "outputs": [],
   "source": [
    "base_dir = r'D:\\postprocess\\v240306'\n",
    "masked_shp_dn1_merge_path = base_dir + '/shp_dn1_alm_merge.gdb'\n",
    "raw_prediction_path=base_dir + '/0_raw_prediction.gdb'\n",
    "if not os.path.exists(raw_prediction_path):\n",
    "    arcpy.CreateFileGDB_management(base_dir, \"0_raw_prediction.gdb\")\n",
    "arcpy.env.workspace = masked_shp_dn1_merge_path\n",
    "target_region_list=[]\n",
    "origin_region_list_list=[]"
   ]
  },
  {
   "cell_type": "markdown",
   "metadata": {},
   "source": [
    "## 1) select target region and origin regions"
   ]
  },
  {
   "cell_type": "code",
   "execution_count": 3,
   "metadata": {},
   "outputs": [],
   "source": [
    "target_region = 'as_2'\n",
    "origin_region_list=['as_1','as_3','as_8']#\n",
    "target_region_list.append(target_region)\n",
    "origin_region_list_list.append(origin_region_list)"
   ]
  },
  {
   "cell_type": "code",
   "execution_count": 39,
   "metadata": {},
   "outputs": [],
   "source": [
    "target_region = 'as_4'\n",
    "origin_region_list=['as_1','as_2','as_3','as_6','as_7','as_9']\n",
    "target_region_list.append(target_region)\n",
    "origin_region_list_list.append(origin_region_list)"
   ]
  },
  {
   "cell_type": "code",
   "execution_count": 5,
   "metadata": {},
   "outputs": [],
   "source": [
    "target_region = 'as_5'\n",
    "origin_region_list=['as_3']\n",
    "target_region_list.append(target_region)\n",
    "origin_region_list_list.append(origin_region_list)"
   ]
  },
  {
   "cell_type": "code",
   "execution_count": 6,
   "metadata": {},
   "outputs": [],
   "source": [
    "target_region = 'as_6'\n",
    "origin_region_list=['as_3','as_5','as_7']\n",
    "target_region_list.append(target_region)\n",
    "origin_region_list_list.append(origin_region_list)"
   ]
  },
  {
   "cell_type": "code",
   "execution_count": 108,
   "metadata": {},
   "outputs": [],
   "source": [
    "target_region = 'as_9'\n",
    "origin_region_list=['as_7','as_1','eu','af']\n",
    "target_region_list.append(target_region)\n",
    "origin_region_list_list.append(origin_region_list)"
   ]
  },
  {
   "cell_type": "code",
   "execution_count": 8,
   "metadata": {},
   "outputs": [],
   "source": [
    "target_region = 'na_1'\n",
    "origin_region_list=['sa_1','na_2','na_3']\n",
    "target_region_list.append(target_region)\n",
    "origin_region_list_list.append(origin_region_list)"
   ]
  },
  {
   "cell_type": "code",
   "execution_count": 10,
   "metadata": {},
   "outputs": [],
   "source": [
    "target_region = 'na_2'\n",
    "origin_region_list=['na_3']\n",
    "target_region_list.append(target_region)\n",
    "origin_region_list_list.append(origin_region_list)"
   ]
  },
  {
   "cell_type": "code",
   "execution_count": 17,
   "metadata": {},
   "outputs": [],
   "source": [
    "target_region = 'na_3'\n",
    "origin_region_list=['na_5','na_6']#以前的版本要加上,'na_7'\n",
    "target_region_list.append(target_region)\n",
    "origin_region_list_list.append(origin_region_list)"
   ]
  },
  {
   "cell_type": "code",
   "execution_count": 11,
   "metadata": {},
   "outputs": [],
   "source": [
    "target_region = 'na_4'\n",
    "origin_region_list=['na_5']\n",
    "target_region_list.append(target_region)\n",
    "origin_region_list_list.append(origin_region_list)"
   ]
  },
  {
   "cell_type": "code",
   "execution_count": 101,
   "metadata": {},
   "outputs": [],
   "source": [
    "target_region = 'na_5'\n",
    "origin_region_list=['na_6']\n",
    "target_region_list.append(target_region)\n",
    "origin_region_list_list.append(origin_region_list)"
   ]
  },
  {
   "cell_type": "code",
   "execution_count": 12,
   "metadata": {},
   "outputs": [],
   "source": [
    "target_region = 'sa_2'\n",
    "origin_region_list=['sa_1']\n",
    "target_region_list.append(target_region)\n",
    "origin_region_list_list.append(origin_region_list)"
   ]
  },
  {
   "cell_type": "code",
   "execution_count": 13,
   "metadata": {},
   "outputs": [],
   "source": [
    "not_target_region_list=['as_1','as_3','as_7','as_8','na_6','sa_1','eu','af','oc','greenland','island']"
   ]
  },
  {
   "cell_type": "markdown",
   "metadata": {},
   "source": [
    "## 2) select polygons from origin region which interects with polygons in target region"
   ]
  },
  {
   "cell_type": "code",
   "execution_count": 11,
   "metadata": {
    "scrolled": true
   },
   "outputs": [
    {
     "name": "stdout",
     "output_type": "stream",
     "text": [
      "na_2\n",
      "['na_3']\n",
      "select polygons in region:na_3\n",
      "time: 0.11281557480494181 minutes\n"
     ]
    }
   ],
   "source": [
    "for i in range(0,1):\n",
    "    target_region=target_region_list[i]\n",
    "    origin_region_list=origin_region_list_list[i]\n",
    "    print(target_region)\n",
    "    print(origin_region_list)\n",
    "    start = time.time()\n",
    "    intersect_polygon_list=[]\n",
    "    target_region_file =os.path.join(masked_shp_dn1_merge_path,'lakes_{}_raw_dissolved' .format(target_region))\n",
    "    target_region_layer='target_region_layer'\n",
    "    arcpy.MakeFeatureLayer_management(target_region_file, target_region_layer)\n",
    "\n",
    "    for origin_region in origin_region_list:\n",
    "        print('select polygons in region:'+ origin_region)\n",
    "        origin_region_file=os.path.join(masked_shp_dn1_merge_path,'lakes_{}_raw_dissolved' .format(origin_region))\n",
    "        origin_region_layer='origin_region_layer'\n",
    "        arcpy.MakeFeatureLayer_management(origin_region_file,origin_region_layer)\n",
    "        arcpy.SelectLayerByLocation_management(origin_region_layer, 'INTERSECT',target_region_layer )#select lake interect with origin polygon\n",
    "        output_file='lakes_{}_interect_with_{}' .format(origin_region,target_region)\n",
    "        arcpy.CopyFeatures_management(origin_region_layer,output_file)\n",
    "        intersect_polygon_list.append(output_file)\n",
    "        arcpy.DeleteFeatures_management(origin_region_layer)\n",
    "    end = time.time()\n",
    "    print (f'time: {(end-start)/60} minutes')"
   ]
  },
  {
   "cell_type": "code",
   "execution_count": 13,
   "metadata": {},
   "outputs": [
    {
     "name": "stdout",
     "output_type": "stream",
     "text": [
      "select polygons in region:na_5\n",
      "select polygons in region:na_6\n",
      "time: 0.185813570022583 minutes\n"
     ]
    }
   ],
   "source": [
    "# #单个区域版本\n",
    "start = time.time()\n",
    "intersect_polygon_list=[]\n",
    "target_region_file ='lakes_{}_raw_dissolved' .format(target_region)\n",
    "target_region_layer='target_region_layer'\n",
    "arcpy.MakeFeatureLayer_management(target_region_file, target_region_layer)\n",
    "\n",
    "for origin_region in origin_region_list:\n",
    "    print('select polygons in region:'+ origin_region)\n",
    "    origin_region_file=r'J:\\lakemapping\\postprocess\\v3_240306\\shp_dn1_alm_merge.gdb\\lakes_{}_raw_dissolved' .format(origin_region)\n",
    "    origin_region_layer='origin_region_layer'\n",
    "    arcpy.MakeFeatureLayer_management(origin_region_file,origin_region_layer)\n",
    "    arcpy.SelectLayerByLocation_management(origin_region_layer, 'INTERSECT',target_region_layer )#select lake interect with origin polygon\n",
    "    output_file='lakes_{}_interect_with_{}' .format(origin_region,target_region)\n",
    "    arcpy.CopyFeatures_management(origin_region_layer,output_file)\n",
    "    intersect_polygon_list.append(output_file)\n",
    "    arcpy.DeleteFeatures_management(origin_region_layer)\n",
    "end = time.time()\n",
    "print (f'time: {(end-start)/60} minutes')"
   ]
  },
  {
   "cell_type": "markdown",
   "metadata": {},
   "source": [
    "## 3) merge and dissolve shp files, get final shp file for each region\n",
    "be sure that all selections in 2) assosiated with target region have been done."
   ]
  },
  {
   "cell_type": "code",
   "execution_count": 15,
   "metadata": {
    "scrolled": true
   },
   "outputs": [
    {
     "name": "stdout",
     "output_type": "stream",
     "text": [
      "as_5\n",
      "['as_3']\n",
      "start Dissolve\n",
      "finish dissolve\n",
      "time: 6.62673325141271 minutes\n",
      "as_6\n",
      "['as_3', 'as_5', 'as_7']\n",
      "start Dissolve\n",
      "finish dissolve\n",
      "time: 3.549116547902425 minutes\n",
      "as_9\n",
      "['as_7', 'as_1', 'eu', 'af']\n",
      "start Dissolve\n",
      "finish dissolve\n",
      "time: 5.9083509405454 minutes\n",
      "na_1\n",
      "['sa_1', 'na_2', 'na_3']\n",
      "start Dissolve\n",
      "finish dissolve\n",
      "time: 7.546239503224691 minutes\n",
      "na_2\n",
      "['na_3']\n",
      "start Dissolve\n",
      "finish dissolve\n",
      "time: 17.07651622692744 minutes\n",
      "na_3\n",
      "['na_5', 'na_6']\n",
      "start Dissolve\n",
      "finish dissolve\n",
      "time: 9.799533804257711 minutes\n",
      "na_4\n",
      "['na_5']\n",
      "start Dissolve\n",
      "finish dissolve\n",
      "time: 6.4391072233517965 minutes\n",
      "sa_2\n",
      "['sa_1']\n",
      "start Dissolve\n",
      "finish dissolve\n",
      "time: 5.018065706888835 minutes\n"
     ]
    }
   ],
   "source": [
    "for i in range(2,10):\n",
    "    target_region=target_region_list[i]\n",
    "    origin_region_list=origin_region_list_list[i]\n",
    "    print(target_region)\n",
    "    print(origin_region_list)\n",
    "    lak_shp = raw_prediction_path + '/lakes_temp_' +target_region\n",
    "    merge_shp_list =['lakes_{}_raw_dissolved' .format(target_region)]\n",
    "    for origin_region in origin_region_list:\n",
    "        merge_shp_list.append('lakes_{}_interect_with_{}' .format(origin_region,target_region))\n",
    "    arcpy.Merge_management(merge_shp_list, lak_shp) \n",
    "    lak_dissolved = raw_prediction_path + '/lakes_' +target_region #dissolve geometry\n",
    "    start = time.time()\n",
    "    lak_shp_lyr = 'lak_shp_lyr'\n",
    "    arcpy.MakeFeatureLayer_management(lak_shp, lak_shp_lyr)\n",
    "    print('start Dissolve')\n",
    "    dissolveFields = [\"gridcode\"]\n",
    "    arcpy.Dissolve_management(lak_shp_lyr, lak_dissolved, dissolveFields, \"\", \"SINGLE_PART\")#dissolve copylake\n",
    "    lak_dissolved_Layer='lak_dissolved_lyr'\n",
    "    arcpy.MakeFeatureLayer_management(lak_dissolved, lak_dissolved_Layer)\n",
    "    print('finish dissolve')\n",
    "    arcpy.Delete_management(lak_shp)\n",
    "    end = time.time()\n",
    "    print (f'time: {(end-start)/60} minutes')"
   ]
  },
  {
   "cell_type": "code",
   "execution_count": 18,
   "metadata": {},
   "outputs": [
    {
     "name": "stdout",
     "output_type": "stream",
     "text": [
      "['lakes_na_3_raw_dissolved', 'lakes_na_5_interect_with_na_3', 'lakes_na_6_interect_with_na_3', 'lakes_na_7_interect_with_na_3']\n",
      "start Dissolve\n",
      "finish dissolve\n",
      "time: 8.993004628022511 minutes\n"
     ]
    }
   ],
   "source": [
    "# # #单个区域版本\n",
    "lak_shp = raw_prediction_path + '/lakes_temp_' +target_region\n",
    "merge_shp_list =['lakes_{}_raw_dissolved' .format(target_region)]\n",
    "for origin_region in origin_region_list:\n",
    "    merge_shp_list.append('lakes_{}_interect_with_{}' .format(origin_region,target_region))\n",
    "print(merge_shp_list)\n",
    "arcpy.Merge_management(merge_shp_list, lak_shp) \n",
    "lak_dissolved = raw_prediction_path + '/lakes_' +target_region #dissolve geometry\n",
    "start = time.time()\n",
    "lak_shp_lyr = 'lak_shp_lyr'\n",
    "arcpy.MakeFeatureLayer_management(lak_shp, lak_shp_lyr)\n",
    "print('start Dissolve')\n",
    "dissolveFields = [\"gridcode\"]\n",
    "arcpy.Dissolve_management(lak_shp_lyr, lak_dissolved, dissolveFields, \"\", \"SINGLE_PART\")#dissolve copylake\n",
    "lak_dissolved_Layer='lak_dissolved_lyr'\n",
    "arcpy.MakeFeatureLayer_management(lak_dissolved, lak_dissolved_Layer)\n",
    "print('finish dissolve')\n",
    "arcpy.Delete_management(lak_shp)\n",
    "end = time.time()\n",
    "print (f'time: {(end-start)/60} minutes')"
   ]
  },
  {
   "cell_type": "code",
   "execution_count": 16,
   "metadata": {},
   "outputs": [
    {
     "name": "stdout",
     "output_type": "stream",
     "text": [
      "copy data for regions that are not targets\n",
      "time: 12.637525196870168 minutes\n"
     ]
    }
   ],
   "source": [
    "start = time.time()\n",
    "print('copy data for regions that are not targets')\n",
    "for region in not_target_region_list:\n",
    "    lak_shp='lakes_{}_raw_dissolved' .format(region)\n",
    "    lak_copy_shp=raw_prediction_path + '/lakes_' + region\n",
    "    arcpy.CopyFeatures_management(lak_shp , lak_copy_shp)\n",
    "end = time.time()\n",
    "print (f'time: {(end-start)/60} minutes')"
   ]
  },
  {
   "cell_type": "code",
   "execution_count": 106,
   "metadata": {},
   "outputs": [
    {
     "data": {
      "text/html": [
       "<div class='gpresult'><h2>Messages</h2><div id='messages' data-messages='[\"Start Time: 2024年4月2日 23:34:51\",\"Succeeded at 2024年4月2日 23:36:47 (Elapsed Time: 1 minutes 55 seconds)\"]' data-show='true'><div id = 'default' /></div></div>"
      ],
      "text/plain": [
       "<Result 'J:\\\\lakemapping\\\\postprocess\\\\V240303\\\\0_raw_prediction.gdb\\\\lakes_na_6'>"
      ]
     },
     "execution_count": 106,
     "metadata": {},
     "output_type": "execute_result"
    }
   ],
   "source": [
    "region='na_6'\n",
    "lak_shp='lakes_{}_raw_dissolved' .format(region)\n",
    "lak_copy_shp=raw_prediction_path + '/lakes_' + region\n",
    "arcpy.CopyFeatures_management(lak_shp , lak_copy_shp)"
   ]
  },
  {
   "cell_type": "markdown",
   "metadata": {},
   "source": [
    "## 4) do the same thing to polygons after river mask"
   ]
  },
  {
   "cell_type": "code",
   "execution_count": 16,
   "metadata": {
    "scrolled": true
   },
   "outputs": [
    {
     "name": "stdout",
     "output_type": "stream",
     "text": [
      "as_2\n",
      "['as_1', 'as_3', 'as_8']\n",
      "select polygons in region:as_1\n",
      "select polygons in region:as_3\n",
      "select polygons in region:as_8\n",
      "time: 0.11091760794321696 minutes\n",
      "as_4\n",
      "['as_1', 'as_2', 'as_3', 'as_6', 'as_7', 'as_9']\n",
      "select polygons in region:as_1\n",
      "select polygons in region:as_2\n",
      "select polygons in region:as_3\n",
      "select polygons in region:as_6\n",
      "select polygons in region:as_7\n",
      "select polygons in region:as_9\n",
      "time: 4.482868031660716 minutes\n",
      "as_5\n",
      "['as_3']\n",
      "select polygons in region:as_3\n",
      "time: 0.028592348098754883 minutes\n",
      "as_6\n",
      "['as_3', 'as_5', 'as_7']\n",
      "select polygons in region:as_3\n",
      "select polygons in region:as_5\n",
      "select polygons in region:as_7\n",
      "time: 0.2117937485376994 minutes\n",
      "as_9\n",
      "['as_7', 'as_1', 'eu', 'af']\n",
      "select polygons in region:as_7\n",
      "select polygons in region:as_1\n",
      "select polygons in region:eu\n",
      "select polygons in region:af\n",
      "time: 0.1827073136965434 minutes\n",
      "na_1\n",
      "['sa_1', 'na_2', 'na_3']\n",
      "select polygons in region:sa_1\n",
      "select polygons in region:na_2\n",
      "select polygons in region:na_3\n",
      "time: 3.3215752641359964 minutes\n",
      "na_2\n",
      "['na_3']\n",
      "select polygons in region:na_3\n",
      "time: 0.03724367221196492 minutes\n",
      "na_3\n",
      "['na_5', 'na_6']\n",
      "select polygons in region:na_5\n",
      "select polygons in region:na_6\n",
      "time: 0.16181997458140054 minutes\n",
      "na_4\n",
      "['na_5']\n",
      "select polygons in region:na_5\n",
      "time: 0.03639156421025594 minutes\n",
      "sa_2\n",
      "['sa_1']\n",
      "select polygons in region:sa_1\n",
      "time: 0.09426302909851074 minutes\n"
     ]
    },
    {
     "ename": "IndexError",
     "evalue": "list index out of range",
     "output_type": "error",
     "traceback": [
      "\u001b[0;31m---------------------------------------------------------------------------\u001b[0m\n\u001b[0;31mIndexError\u001b[0m                                Traceback (most recent call last)",
      "In  \u001b[0;34m[16]\u001b[0m:\nLine \u001b[0;34m3\u001b[0m:     target_region=target_region_list[i]\n",
      "\u001b[0;31mIndexError\u001b[0m: list index out of range\n\u001b[0;31m---------------------------------------------------------------------------\u001b[0m"
     ]
    }
   ],
   "source": [
    "river_masked_path = base_dir + '/shp_dn1_arm_merge.gdb'\n",
    "for i in range(0,11):\n",
    "    target_region=target_region_list[i]\n",
    "    origin_region_list=origin_region_list_list[i]\n",
    "    print(target_region)\n",
    "    print(origin_region_list)\n",
    "    start = time.time()\n",
    "    for origin_region in origin_region_list:\n",
    "        target_region_file =os.path.join(masked_shp_dn1_merge_path,'lakes_{}_interect_with_{}' .format(origin_region,target_region))\n",
    "        target_region_layer='target_region_layer'\n",
    "        arcpy.MakeFeatureLayer_management(target_region_file, target_region_layer)\n",
    "        \n",
    "        print('select polygons in region:'+ origin_region)\n",
    "        origin_region_file=os.path.join(river_masked_path,'lake_{}_arm' .format(origin_region))\n",
    "        origin_region_layer='origin_region_layer'\n",
    "        arcpy.MakeFeatureLayer_management(origin_region_file,origin_region_layer)\n",
    "        \n",
    "        arcpy.SelectLayerByLocation_management(origin_region_layer, 'WITHIN',target_region_layer )#select lake interect with origin polygon\n",
    "        output_file=os.path.join(river_masked_path,'lake_{}_arm_iw_{}' .format(origin_region,target_region))\n",
    "        arcpy.CopyFeatures_management(origin_region_layer,output_file)\n",
    "        arcpy.DeleteFeatures_management(origin_region_layer)\n",
    "    end = time.time()\n",
    "    print (f'time: {(end-start)/60} minutes')"
   ]
  },
  {
   "cell_type": "code",
   "execution_count": 17,
   "metadata": {
    "scrolled": true
   },
   "outputs": [
    {
     "name": "stdout",
     "output_type": "stream",
     "text": [
      "as_2\n",
      "['as_1', 'as_3', 'as_8']\n",
      "start Dissolve\n",
      "finish dissolve\n",
      "time: 6.879744319121043 minutes\n",
      "as_4\n",
      "['as_1', 'as_2', 'as_3', 'as_6', 'as_7', 'as_9']\n",
      "start Dissolve\n",
      "finish dissolve\n",
      "time: 1.779564348856608 minutes\n",
      "as_5\n",
      "['as_3']\n",
      "start Dissolve\n",
      "finish dissolve\n",
      "time: 9.748622794946035 minutes\n",
      "as_6\n",
      "['as_3', 'as_5', 'as_7']\n",
      "start Dissolve\n",
      "finish dissolve\n",
      "time: 3.163677684466044 minutes\n",
      "as_9\n",
      "['as_7', 'as_1', 'eu', 'af']\n",
      "start Dissolve\n",
      "finish dissolve\n",
      "time: 5.625420820713043 minutes\n",
      "na_1\n",
      "['sa_1', 'na_2', 'na_3']\n",
      "start Dissolve\n",
      "finish dissolve\n",
      "time: 7.027375070254008 minutes\n",
      "na_2\n",
      "['na_3']\n",
      "start Dissolve\n",
      "finish dissolve\n",
      "time: 16.257444592316947 minutes\n",
      "na_3\n",
      "['na_5', 'na_6']\n",
      "start Dissolve\n",
      "finish dissolve\n",
      "time: 9.177522039413452 minutes\n",
      "na_4\n",
      "['na_5']\n",
      "start Dissolve\n",
      "finish dissolve\n",
      "time: 5.967086525758107 minutes\n",
      "sa_2\n",
      "['sa_1']\n"
     ]
    },
    {
     "ename": "ExecuteError",
     "evalue": "Failed to execute. Parameters are not valid.\nERROR 000732: Input Datasets: Dataset D:\\postprocess\\v240303/shp_dn1_arm_merge.gdb/lake_sa_2_arm does not exist or is not supported\nFailed to execute (Merge).\n",
     "output_type": "error",
     "traceback": [
      "\u001b[0;31m---------------------------------------------------------------------------\u001b[0m\n\u001b[0;31mExecuteError\u001b[0m                              Traceback (most recent call last)",
      "In  \u001b[0;34m[17]\u001b[0m:\nLine \u001b[0;34m10\u001b[0m:    arcpy.Merge_management(merge_shp_list, lak_shp) \n",
      "File \u001b[0;34mC:\\Program Files\\ArcGIS\\Pro\\Resources\\ArcPy\\arcpy\\management.py\u001b[0m, in \u001b[0;32mMerge\u001b[0m:\nLine \u001b[0;34m7238\u001b[0m:  \u001b[34mraise\u001b[39;49;00m e\n",
      "File \u001b[0;34mC:\\Program Files\\ArcGIS\\Pro\\Resources\\ArcPy\\arcpy\\management.py\u001b[0m, in \u001b[0;32mMerge\u001b[0m:\nLine \u001b[0;34m7235\u001b[0m:  retval = convertArcObjectToPythonObject(gp.Merge_management(*gp_fixargs((inputs, output, field_mappings, add_source), \u001b[34mTrue\u001b[39;49;00m)))\n",
      "File \u001b[0;34mC:\\Program Files\\ArcGIS\\Pro\\Resources\\ArcPy\\arcpy\\geoprocessing\\_base.py\u001b[0m, in \u001b[0;32m<lambda>\u001b[0m:\nLine \u001b[0;34m512\u001b[0m:   \u001b[34mreturn\u001b[39;49;00m \u001b[34mlambda\u001b[39;49;00m *args: val(*gp_fixargs(args, \u001b[34mTrue\u001b[39;49;00m))\n",
      "\u001b[0;31mExecuteError\u001b[0m: Failed to execute. Parameters are not valid.\nERROR 000732: Input Datasets: Dataset D:\\postprocess\\v240303/shp_dn1_arm_merge.gdb/lake_sa_2_arm does not exist or is not supported\nFailed to execute (Merge).\n\n\u001b[0;31m---------------------------------------------------------------------------\u001b[0m"
     ]
    }
   ],
   "source": [
    "for i in range(0,11):\n",
    "    target_region=target_region_list[i]\n",
    "    origin_region_list=origin_region_list_list[i]\n",
    "    print(target_region)\n",
    "    print(origin_region_list)\n",
    "    lak_shp = river_masked_path + '/lakes_temp_' +target_region\n",
    "    merge_shp_list =[river_masked_path+'/lake_{}_arm' .format(target_region)]\n",
    "    for origin_region in origin_region_list:\n",
    "        merge_shp_list.append(river_masked_path+'/lake_{}_arm_iw_{}' .format(origin_region,target_region))\n",
    "    arcpy.Merge_management(merge_shp_list, lak_shp) \n",
    "    lak_dissolved = raw_prediction_path + '/lakes_' +target_region +'_arm' #dissolve geometry\n",
    "    start = time.time()\n",
    "    lak_shp_lyr = 'lak_shp_lyr'\n",
    "    arcpy.MakeFeatureLayer_management(lak_shp, lak_shp_lyr)\n",
    "    print('start Dissolve')\n",
    "    dissolveFields = [\"gridcode\"]\n",
    "    arcpy.Dissolve_management(lak_shp_lyr, lak_dissolved, dissolveFields, \"\", \"SINGLE_PART\")#dissolve copylake\n",
    "    lak_dissolved_Layer='lak_dissolved_lyr'\n",
    "    arcpy.MakeFeatureLayer_management(lak_dissolved, lak_dissolved_Layer)\n",
    "    print('finish dissolve')\n",
    "    arcpy.Delete_management(lak_shp)\n",
    "    end = time.time()\n",
    "    print (f'time: {(end-start)/60} minutes')"
   ]
  },
  {
   "cell_type": "code",
   "execution_count": 18,
   "metadata": {},
   "outputs": [
    {
     "name": "stdout",
     "output_type": "stream",
     "text": [
      "copy data for regions that are not targets\n",
      "start Dissolve\n",
      "finish dissolve\n",
      "time: 3.7879005352656048 minutes\n",
      "start Dissolve\n",
      "finish dissolve\n",
      "time: 11.725994829336802 minutes\n",
      "start Dissolve\n",
      "finish dissolve\n",
      "time: 10.310110894838969 minutes\n",
      "start Dissolve\n",
      "finish dissolve\n",
      "time: 3.798654615879059 minutes\n",
      "start Dissolve\n",
      "finish dissolve\n",
      "time: 6.830979017416636 minutes\n",
      "start Dissolve\n",
      "finish dissolve\n",
      "time: 4.245935813585917 minutes\n",
      "start Dissolve\n",
      "finish dissolve\n",
      "time: 10.354592529932658 minutes\n",
      "start Dissolve\n",
      "finish dissolve\n",
      "time: 9.082281442483266 minutes\n",
      "start Dissolve\n",
      "finish dissolve\n",
      "time: 3.5067530234654742 minutes\n",
      "start Dissolve\n",
      "finish dissolve\n",
      "time: 2.7891430934270223 minutes\n",
      "start Dissolve\n",
      "finish dissolve\n",
      "time: 3.5034302194913227 minutes\n",
      "time: 3.5034302194913227 minutes\n"
     ]
    }
   ],
   "source": [
    "start = time.time()\n",
    "print('copy data for regions that are not targets')\n",
    "for region in not_target_region_list:\n",
    "    lak_shp=river_masked_path+'/lake_{}_arm' .format(region)\n",
    "    lak_dissolved = raw_prediction_path + '/lakes_' +region +'_arm' #dissolve geometry\n",
    "#     print(lak_dissolved)\n",
    "    start = time.time()\n",
    "    lak_shp_lyr = 'lak_shp_lyr'\n",
    "    arcpy.MakeFeatureLayer_management(lak_shp, lak_shp_lyr)\n",
    "    print('start Dissolve')\n",
    "    dissolveFields = [\"gridcode\"]\n",
    "    arcpy.Dissolve_management(lak_shp_lyr, lak_dissolved, dissolveFields, \"\", \"SINGLE_PART\")#dissolve copylake\n",
    "    lak_dissolved_Layer='lak_dissolved_lyr'\n",
    "    arcpy.MakeFeatureLayer_management(lak_dissolved, lak_dissolved_Layer)\n",
    "    print('finish dissolve')\n",
    "    arcpy.Delete_management(lak_shp)\n",
    "    end = time.time()\n",
    "    print (f'time: {(end-start)/60} minutes')\n",
    "print (f'time: {(end-start)/60} minutes')"
   ]
  },
  {
   "cell_type": "code",
   "execution_count": null,
   "metadata": {},
   "outputs": [],
   "source": []
  }
 ],
 "metadata": {
  "kernelspec": {
   "display_name": "ArcGISPro",
   "language": "Python",
   "name": "python3"
  },
  "language_info": {
   "file_extension": ".py",
   "name": "python",
   "version": "3"
  }
 },
 "nbformat": 4,
 "nbformat_minor": 2
}
