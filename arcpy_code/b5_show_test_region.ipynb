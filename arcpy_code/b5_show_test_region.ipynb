{
 "cells": [
  {
   "cell_type": "code",
   "execution_count": 2,
   "metadata": {},
   "outputs": [],
   "source": [
    "import arcpy, sys\n",
    "import os\n"
   ]
  },
  {
   "cell_type": "code",
   "execution_count": 50,
   "metadata": {},
   "outputs": [
    {
     "name": "stdout",
     "output_type": "stream",
     "text": [
      "ndwi_10m_type0_1565.tif\n"
     ]
    }
   ],
   "source": [
    "\n",
    "# 设置工作环境和输入文件夹路径\n",
    "input_folder = r'D:\\lakemapping\\10_paper_writting\\figure\\sample\\sampleV8_test_region'\n",
    "output_folder = r'D:\\lakemapping\\10_paper_writting\\figure\\sample\\sampleV8_test_region_colormap'\n",
    "\n",
    "# 设置色带范围和颜色\n",
    "min_value = -100\n",
    "max_value = 100\n",
    "\n",
    "# 获取文件夹中的所有tif影像文件\n",
    "for root, dirs, files in os.walk(input_folder):\n",
    "    for file in files:\n",
    "        if file.endswith('tif'):\n",
    "            print(file)\n",
    "            raster_path=os.path.join(input_folder,file)\n",
    "            raster_layer = arcpy.management.MakeRasterLayer(raster_path, file)\n",
    "            layer=raster_layer.getOutput(0)\n",
    "            symbology = layer.symbology\n",
    "            symbology.updateColorizer('RasterUniqueValueColorizer')\n",
    "            arcpy.management.BuildRasterAttributeTable(layer)\n",
    "            symbology.colorizer.field = 'Value'\n",
    "            for grp in symbology.colorizer.groups:\n",
    "                for itm in grp.items:\n",
    "                    label=int(itm.label)\n",
    "                    if label>=0:\n",
    "                        itm.color = {'RGB': [255-label*2.55, 255-label*2.55, 255, 100]}\n",
    "                    if label <0:\n",
    "                        itm.color = {'RGB': [255, 255+label*2.55, 255+label*2.55, 100]}\n",
    "        # # #         应用符号化到栅格图层\n",
    "            layer.symbology=symbology\n",
    "#             print(symbology)\n",
    "        #         arcpy.management.ApplySymbologyFromLayer(raster_layer, symbology)\n"
   ]
  },
  {
   "cell_type": "code",
   "execution_count": 7,
   "metadata": {},
   "outputs": [],
   "source": [
    "## SELECT PLD、GLAKES within test region"
   ]
  },
  {
   "cell_type": "code",
   "execution_count": 6,
   "metadata": {},
   "outputs": [],
   "source": [
    "auxiliary_dataset_gdb=r'J:\\lakemapping\\auxiliary_dataset.gdb'\n",
    "GLAKES=r'D:\\lakemapping\\0_auxiliary_data\\GLAKES\\GLAKES\\GLAKES.gdb\\GLAKES'\n",
    "# arcpy.MakeFeatureLayer_management(GLAKES,'GLAKES')"
   ]
  },
  {
   "cell_type": "code",
   "execution_count": 46,
   "metadata": {},
   "outputs": [],
   "source": [
    "GLAKES_new_gdb=r'D:\\lakemapping\\0_auxiliary_data\\GLAKES\\GLAKES_after_30p_land_mask.gdb'\n",
    "GLAKES_iwSHIFT_afm_keep_arid=os.path.join(GLAKES_new_gdb,'au2_GLAKES_iwSHIFT_after_mask_gt3ha_keep_arid')\n",
    "GLAKES_niwSHIFT=os.path.join(GLAKES_new_gdb,'au1_GLAKES_niwSHIFT')\n",
    "GLAKES_iwSHIFT_afm_keep_arid_lyr='GLAKES_iwSHIFT_after_mask_gt3ha_keep_arid'\n",
    "GLAKES_niwSHIFT_lyr='au1_GLAKES_niwSHIFT'"
   ]
  },
  {
   "cell_type": "code",
   "execution_count": 7,
   "metadata": {},
   "outputs": [
    {
     "data": {
      "text/html": [
       "<div class='gpresult'><h2>Messages</h2><div id='messages' data-messages='[\"Start Time: 2024年12月27日 15:48:55\",\"Succeeded at 2024年12月27日 15:48:55 (Elapsed Time: 0.03 seconds)\"]' data-show='true'><div id = 'default' /></div></div>"
      ],
      "text/plain": [
       "<Result 'GeoDAR'>"
      ]
     },
     "execution_count": 7,
     "metadata": {},
     "output_type": "execute_result"
    }
   ],
   "source": [
    "osm_reservoir=os.path.join(auxiliary_dataset_gdb,'osm_natural_water_reservoir')\n",
    "arcpy.MakeFeatureLayer_management(osm_reservoir,'osm_reservoir')\n",
    "\n",
    "GeoDAR=r'D:\\lakemapping\\0_auxiliary_data\\GeoDAR\\GeoDAR_v10_v11\\GeoDAR_v11_reservoirs.shp'\n",
    "arcpy.MakeFeatureLayer_management(GeoDAR,'GeoDAR')"
   ]
  },
  {
   "cell_type": "code",
   "execution_count": 47,
   "metadata": {},
   "outputs": [
    {
     "data": {
      "text/html": [
       "<div class='gpresult'><h2>Messages</h2><div id='messages' data-messages='[\"Start Time: 2024年12月25日 18:17:31\",\"Succeeded at 2024年12月25日 18:17:31 (Elapsed Time: 0.03 seconds)\"]' data-show='true'><div id = 'default' /></div></div>"
      ],
      "text/plain": [
       "<Result 'au1_GLAKES_niwSHIFT'>"
      ]
     },
     "execution_count": 47,
     "metadata": {},
     "output_type": "execute_result"
    }
   ],
   "source": [
    "arcpy.MakeFeatureLayer_management(GLAKES_iwSHIFT_afm_keep_arid,GLAKES_iwSHIFT_afm_keep_arid_lyr)\n",
    "arcpy.MakeFeatureLayer_management(GLAKES_niwSHIFT,GLAKES_niwSHIFT_lyr)"
   ]
  },
  {
   "cell_type": "code",
   "execution_count": 49,
   "metadata": {},
   "outputs": [
    {
     "data": {
      "text/html": [
       "<div class='gpresult'><h2>Messages</h2><div id='messages' data-messages='[\"Start Time: 2024年12月25日 18:20:10\",\"Succeeded at 2024年12月25日 18:20:10 (Elapsed Time: 0.39 seconds)\"]' data-show='true'><div id = 'default' /></div></div>"
      ],
      "text/plain": [
       "<Result 'D:\\\\lakemapping\\\\4_prediction\\\\model0130\\\\sampleV8\\\\GLAKES_new.shp'>"
      ]
     },
     "execution_count": 49,
     "metadata": {},
     "output_type": "execute_result"
    }
   ],
   "source": [
    "base_dir=r'D:\\lakemapping\\4_prediction\\model0130\\sampleV8'\n",
    "sample_result=os.path.join(base_dir,'GLAKES_new_test_lakes.shp')\n",
    "sample_result=os.path.join(base_dir,'GLAKES_new.shp')\n",
    "selectByLocation(GLAKES_niwSHIFT_lyr, 'INTERSECT', 'test_region','NEW_SELECTION')\n",
    "selectByLocation(GLAKES_iwSHIFT_afm_keep_arid_lyr, 'INTERSECT', 'test_region','NEW_SELECTION')\n",
    "arcpy.Merge_management([GLAKES_niwSHIFT_lyr,GLAKES_iwSHIFT_afm_keep_arid_lyr],sample_result)"
   ]
  },
  {
   "cell_type": "code",
   "execution_count": null,
   "metadata": {},
   "outputs": [],
   "source": [
    "PLD_list=['af','eu','si','as','au','sa','na','ar','gr']\n",
    "new_PLD_gdb=r'J:\\lakemapping\\PLD\\PLD.gdb'"
   ]
  },
  {
   "cell_type": "code",
   "execution_count": null,
   "metadata": {},
   "outputs": [],
   "source": [
    "merge_list=[]\n",
    "base_dir=r'D:\\lakemapping\\4_prediction\\model0130\\sampleV8'\n",
    "sample_result=os.path.join(base_dir,'PLD_test_lakes.shp')\n",
    "for region in PLD_list:\n",
    "    print(region)\n",
    "    PLD_region=os.path.join(new_PLD_gdb,f'PLD_{region}')\n",
    "    PLD_region_lyr=f'PLD_{region}'\n",
    "#     arcpy.MakeFeatureLayer_management(PLD_region,PLD_region_lyr)\n",
    "    selectByLocation(PLD_region_lyr, 'INTERSECT', 'test_region','NEW_SELECTION')\n",
    "    merge_list.append(PLD_region_lyr)\n",
    "arcpy.Merge_management(merge_list,sample_result)"
   ]
  },
  {
   "cell_type": "code",
   "execution_count": 53,
   "metadata": {},
   "outputs": [
    {
     "data": {
      "text/html": [
       "<div class='gpresult'><h2>Messages</h2><div id='messages' data-messages='[\"Start Time: 2024年12月25日 19:00:59\",\"Succeeded at 2024年12月25日 19:01:01 (Elapsed Time: 1.14 seconds)\"]' data-show='true'><div id = 'default' /></div></div>"
      ],
      "text/plain": [
       "<Result 'D:\\\\lakemapping\\\\4_prediction\\\\model0130\\\\sampleV8\\\\Hu_lakes.shp'>"
      ]
     },
     "execution_count": 53,
     "metadata": {},
     "output_type": "execute_result"
    }
   ],
   "source": [
    "merge_list=[]\n",
    "version='v15_241128'\n",
    "output_dir = os.path.join(r'J:\\lakemapping\\postprocess',version)\n",
    "merge_gdb=os.path.join(output_dir,f'5_polygon_afm_mergeWith_GLAKES_PLD.gdb')\n",
    "sample_result=os.path.join(base_dir,'Hu_lakes')\n",
    "for i in range(0,8):\n",
    "    continent=eight_continents[i]\n",
    "    c_lake_afm_mw_GP=os.path.join(merge_gdb,f'c{i+1}_{continent}_lakes')\n",
    "    c_lake_afm_mw_GP_lyr=f'c{i+1}_{continent}_lakes'\n",
    "    arcpy.MakeFeatureLayer_management(c_lake_afm_mw_GP,c_lake_afm_mw_GP_lyr)\n",
    "    selectByLocation(c_lake_afm_mw_GP_lyr, 'INTERSECT', 'test_region','NEW_SELECTION')\n",
    "    merge_list.append(c_lake_afm_mw_GP_lyr)\n",
    "arcpy.Merge_management(merge_list,sample_result)"
   ]
  },
  {
   "cell_type": "code",
   "execution_count": 12,
   "metadata": {},
   "outputs": [
    {
     "name": "stdout",
     "output_type": "stream",
     "text": [
      "test_buffer_0_02degree\\result\\iew100\\shp_result\n"
     ]
    }
   ],
   "source": [
    "base_dir = r'D:\\lakemapping\\4_prediction\\model0130\\sampleV8'\n",
    "iew='100'\n",
    "version = r'test_buffer_0_02degree\\result\\iew'+iew+'\\shp_result'\n",
    "print(version)\n",
    "predicted_polygon_dir = os.path.join(base_dir,version)\n",
    "predicted_polygons_SJ = os.path.join(predicted_polygon_dir , f'iew{iew}_predicted_polygons_SJ.shp')\n",
    "predicted_polygons_SJ_lyr = 'predicted_polygons_SJ'"
   ]
  },
  {
   "cell_type": "code",
   "execution_count": 35,
   "metadata": {},
   "outputs": [],
   "source": [
    "def selectByLocation(inputFeature,overlapType,selectionFeature,selectionType='NEW_SELECTION'):\n",
    "    arcpy.SelectLayerByLocation_management(inputFeature,overlapType,selectionFeature,selection_type=selectionType)\n",
    "    \n",
    "def selectByAttribute(inputFeature,selectionType='NEW_SELECTION',code=''):\n",
    "    arcpy.management.SelectLayerByAttribute(inputFeature,selectionType,code)\n",
    "    \n",
    "def calculateOperateByAttribute(inputFeature,code, column,value):\n",
    "    selectByAttribute(inputFeature,'NEW_SELECTION',code)\n",
    "    arcpy.CalculateField_management(inputFeature, column,value)\n",
    "    \n",
    "def calculateOperateByLocation(inputFeature,overlapType,selectionFeature,column,value,selectionType='NEW_SELECTION'):\n",
    "    selectByLocation(inputFeature,overlapType,selectionFeature,selectionType)\n",
    "    arcpy.CalculateField_management(inputFeature, column,value)"
   ]
  },
  {
   "cell_type": "code",
   "execution_count": 30,
   "metadata": {},
   "outputs": [
    {
     "data": {
      "text/html": [
       "<div class='gpresult'><h2>Messages</h2><div id='messages' data-messages='[\"Start Time: 2024年12月28日 11:55:36\",\"Adding operate to iew100_predicted_polygons_SJ...\",\"Succeeded at 2024年12月28日 11:55:36 (Elapsed Time: 0.19 seconds)\"]' data-show='true'><div id = 'default' /></div></div>"
      ],
      "text/plain": [
       "<Result 'predicted_polygons_SJ'>"
      ]
     },
     "execution_count": 30,
     "metadata": {},
     "output_type": "execute_result"
    }
   ],
   "source": [
    "# arcpy.MakeFeatureLayer_management(predicted_polygons_SJ,predicted_polygons_SJ_lyr)\n",
    "arcpy.AddField_management(predicted_polygons_SJ_lyr, 'operate', \"Double\")"
   ]
  },
  {
   "cell_type": "code",
   "execution_count": 29,
   "metadata": {},
   "outputs": [],
   "source": [
    "arcpy.AddField_management(predicted_polygons_SJ_lyr, 'flag', \"Double\")\n",
    "selectByAttribute('GLAKES_new',code='Area_bound <=1 and Rser_flag =0')\n",
    "calculateOperateByLocation(predicted_polygons_SJ_lyr,'INTERSECT','GLAKES_new','flag',0.5)\n",
    "selectByAttribute('GLAKES_new',code='Area_bound >=1 and Rser_flag =0')\n",
    "calculateOperateByLocation(predicted_polygons_SJ_lyr,'INTERSECT','GLAKES_new','flag',1)\n",
    "selectByAttribute('GLAKES_new',code='Rser_flag =1')\n",
    "calculateOperateByLocation(predicted_polygons_SJ_lyr,'INTERSECT','GLAKES_new','flag',2)\n",
    "selectByAttribute(predicted_polygons_SJ_lyr,'NEW_SELECTION', 'flag IS NULL OR \"flag\" <1 ')\n",
    "calculateOperateByLocation(predicted_polygons_SJ_lyr,'INTERSECT','GeoDAR','flag',3,'SUBSET_SELECTION')\n",
    "selectByAttribute(predicted_polygons_SJ_lyr,'NEW_SELECTION', 'flag IS NULL OR \"flag\" <1 ')\n",
    "calculateOperateByLocation(predicted_polygons_SJ_lyr,'INTERSECT','osm_reservoir','flag',4,'SUBSET_SELECTION')"
   ]
  },
  {
   "cell_type": "code",
   "execution_count": 54,
   "metadata": {},
   "outputs": [],
   "source": [
    "#iwG aGm:flag=0.5、1、2 or 部分3、4 area ratio<1\n",
    "#保留与水库相交的湖泊\n",
    "calculateOperateByAttribute(predicted_polygons_SJ_lyr, '\"area_ratio\" >=1', 'operate',1)\n",
    "# calculateOperateByAttribute(predicted_polygons_SJ_lyr,'\"flag\" >=2','operate',1)\n",
    "#和GLAKES小自然湖相交，面积大于1，ar>0.9 保留；和GLAKES大自然湖相交，ar>0.8保留\n",
    "# calculateOperateByAttribute(predicted_polygons_SJ_lyr,'\"P_area\">=1 and \"area_ratio\" >= 0.9', 'operate',1)#iwG niwG都满足\n",
    "# calculateOperateByAttribute(predicted_polygons_SJ_lyr,'\"flag\" = 1 AND \"area_ratio\" >= 0.8', 'operate',1)\n",
    "# #其他，保留mask后 本来应该operate IS null\n",
    "# calculateOperateByAttribute(predicted_polygons_SJ_lyr,'operate IS NULL OR operate =0','operate',0.5)#flag =0.5 OR 1\n",
    "#和GLAKES小自然湖相交，AR<0.1,删除\n",
    "# calculateOperateByAttribute(predicted_polygons_SJ_lyr,'\"flag\" = 0.5 AND \"area_ratio\" < 0.1', 'operate',0)\n",
    "# #niwG flag=0 or 部分3、4\n",
    "# #不和其他数据相交，AR<0.8,删除\n",
    "# calculateOperateByAttribute(predicted_polygons_SJ_lyr,'\"flag\" = 0 AND \"area_ratio\" < 0.8', 'operate',0)"
   ]
  },
  {
   "cell_type": "code",
   "execution_count": 51,
   "metadata": {},
   "outputs": [
    {
     "data": {
      "text/html": [
       "<div class='gpresult'><h2>Messages</h2><div id='messages' data-messages='[\"Start Time: 2024年12月28日 16:03:25\",\"WARNING 000405: No records within table, or selection set has 0 records.\",\"Succeeded at 2024年12月28日 16:03:25 (Elapsed Time: 0.03 seconds)\"]' data-show='true'><div id = 'default' /></div></div>"
      ],
      "text/plain": [
       "<Result 'lakes_afterMask'>"
      ]
     },
     "execution_count": 51,
     "metadata": {},
     "output_type": "execute_result"
    }
   ],
   "source": [
    "lakes_afterMask=os.path.join(predicted_polygon_dir , f'iew{iew}_predicted_polygons_SJ_afm.shp')\n",
    "lakes_afterMask_lyr='lakes_afterMask'\n",
    "selectByAttribute(predicted_polygons_SJ_lyr,'NEW_SELECTION','\"operate\" = 0.5')\n",
    "# selectByLocation('iew100_predicted_polygons_afm_point', 'WITHIN', predicted_polygons_SJ_lyr,'NEW_SELECTION')\n",
    "selectByLocation('iew100_predicted_polygons_afm', 'WITHIN', predicted_polygons_SJ_lyr,'NEW_SELECTION')\n",
    "# selectByAttribute('iew100_predicted_polygons_afm_point','SUBSET_SELECTION','\"operate\" IS NULL')\n",
    "# selectByAttribute('iew100_predicted_polygons_afm_point','ADD_TO_SELECTION','\"operate\" = 1')\n",
    "selectByAttribute(predicted_polygons_SJ_lyr,'NEW_SELECTION','\"operate\" >= 1')\n",
    "\n",
    "arcpy.Merge_management([predicted_polygons_SJ_lyr,'iew100_predicted_polygons_afm'],lakes_afterMask)\n",
    "arcpy.MakeFeatureLayer_management(lakes_afterMask,lakes_afterMask_lyr)\n",
    "selectByAttribute(lakes_afterMask_lyr,'NEW_SELECTION','P_area IS NULL')\n",
    "arcpy.CalculateField_management(lakes_afterMask_lyr, \"P_area\",  \"!shape.geodesicArea@SQUAREKILOMETERS!\", \"PYTHON_9.3\")"
   ]
  },
  {
   "cell_type": "code",
   "execution_count": null,
   "metadata": {},
   "outputs": [],
   "source": [
    "operate = 0.5 And area_ratio < 0.01 Or operate = 0"
   ]
  }
 ],
 "metadata": {
  "kernelspec": {
   "display_name": "ArcGISPro",
   "language": "Python",
   "name": "python3"
  },
  "language_info": {
   "file_extension": ".py",
   "name": "python",
   "version": "3"
  }
 },
 "nbformat": 4,
 "nbformat_minor": 2
}
