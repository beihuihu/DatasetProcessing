{
 "cells": [
  {
   "cell_type": "code",
   "execution_count": 1,
   "metadata": {},
   "outputs": [],
   "source": [
    "import arcpy\n",
    "from arcpy.sa import *\n",
    "import os\n",
    "import time\n",
    "arcpy.env.overwriteOutput = True"
   ]
  },
  {
   "cell_type": "code",
   "execution_count": 2,
   "metadata": {},
   "outputs": [],
   "source": [
    "# load input features and make layer\n",
    "version='v10_240710'\n",
    "output_dir = r'J:\\lakemapping\\postprocess\\v10_240710'\n",
    "after_mask_gdb=os.path.join(output_dir,'3_polygon_after_rivermask.gdb')\n",
    "stastics_gdb=os.path.join(output_dir,'0_summary_stastics.gdb')\n",
    "Agdb=os.path.join(output_dir,'a_polygon_after_mask_Continent.gdb')\n",
    "Bgdb=os.path.join(output_dir,'b_polygon_afm_mergeWith_BigLake_Continent.gdb')\n",
    "Cgdb=os.path.join(output_dir,'c_polygon_afm_mergeWith_BL_BigGLAKES_Continent.gdb')\n",
    "if not os.path.exists(Agdb):\n",
    "    arcpy.CreateFileGDB_management(output_dir,'a_polygon_after_mask_Continent.gdb')\n",
    "if not os.path.exists(Bgdb):\n",
    "    arcpy.CreateFileGDB_management(output_dir,'b_polygon_afm_mergeWith_BigLake_Continent.gdb')\n",
    "if not os.path.exists(Cgdb):\n",
    "    arcpy.CreateFileGDB_management(output_dir,'c_polygon_afm_mergeWith_BL_BigGLAKES_Continent.gdb')\n",
    "if not os.path.exists(stastics_gdb):\n",
    "    arcpy.CreateFileGDB_management(output_dir,'0_summary_stastics.gdb')"
   ]
  },
  {
   "cell_type": "code",
   "execution_count": 37,
   "metadata": {},
   "outputs": [],
   "source": [
    "a_iwBL_merge_with_BL_raw=os.path.join(Agdb,'a_iwBL_merge_with_BL_raw')\n",
    "a_iwBL_merge_with_BL=os.path.join(Agdb,'a_iwBL_merge_with_BL')\n",
    "a_iwBL_merge_with_BL_raw_lyr='a_iwBL_merge_with_BL_raw'\n",
    "a_iwBL_merge_with_BL_lyr='a_iwBL_merge_with_BL'\n",
    "b_iwBG_merge_with_BG_raw=os.path.join(Bgdb,'b_iwBG_merge_with_BG_raw')\n",
    "b_iwBG_merge_with_BG=os.path.join(Bgdb,'b_iwBG_merge_with_BG')\n",
    "b_iwBG_merge_with_BG_raw_lyr='b_iwBG_merge_with_BG_raw'\n",
    "b_iwBG_merge_with_BG_lyr='b_iwBG_merge_with_BG'\n"
   ]
  },
  {
   "cell_type": "code",
   "execution_count": 15,
   "metadata": {},
   "outputs": [],
   "source": [
    "seven_continents=['Asia','Africa','Europe','Oceania_Anta','North_America','South_America']\n"
   ]
  },
  {
   "cell_type": "code",
   "execution_count": 4,
   "metadata": {},
   "outputs": [],
   "source": [
    "def selectByLocation(inputFeature,overlapType,selectionFeature,selectionType='NEW_SELECTION'):\n",
    "    arcpy.SelectLayerByLocation_management(inputFeature,overlapType,selectionFeature,selection_type=selectionType)\n",
    "    \n",
    "def selectByAttribute(inputFeature,selectionType='NEW_SELECTION',code=''):\n",
    "    arcpy.management.SelectLayerByAttribute(inputFeature,selectionType,code)\n",
    "    \n",
    "def calculateField(inputFeature,field,code):\n",
    "    arcpy.CalculateField_management(inputFeature, field,code)"
   ]
  },
  {
   "cell_type": "code",
   "execution_count": 5,
   "metadata": {},
   "outputs": [],
   "source": [
    "region_list=['eu','af','oc','island','greenland','sa_1','sa_2']\n",
    "for i in range(1,10):\n",
    "    region_list.append(f'as_{i}')\n",
    "    \n",
    "for i in range(1,7):\n",
    "    region_list.append(f'na_{i}')"
   ]
  },
  {
   "cell_type": "code",
   "execution_count": 6,
   "metadata": {},
   "outputs": [],
   "source": [
    "big_lakes=os.path.join(Agdb,f'big_lakes')\n",
    "big_lakes_lyr=f'big_lakes'\n",
    "GLAKES_gte1=os.path.join(Bgdb,'GLAKES_gte1')\n",
    "GLAKES_lt1=os.path.join(Bgdb,'GLAKES_lt1')\n",
    "GLAKES_gte1_lyr='GLAKES_gte1'\n",
    "GLAKES_lt1_lyr='GLAKES_gte1'"
   ]
  },
  {
   "cell_type": "code",
   "execution_count": 7,
   "metadata": {},
   "outputs": [
    {
     "data": {
      "text/html": [
       "<div class='gpresult'><h2>Messages</h2><div id='messages' data-messages='[\"Start Time: 2024年7月11日 22:57:03\",\"Succeeded at 2024年7月11日 22:57:03 (Elapsed Time: 0.06 seconds)\"]' data-show='true'><div id = 'default' /></div></div>"
      ],
      "text/plain": [
       "<Result 'continent'>"
      ]
     },
     "execution_count": 7,
     "metadata": {},
     "output_type": "execute_result"
    }
   ],
   "source": [
    "continent=r'D:\\lakemapping\\0_auxiliary_data\\World_Continents\\World_Continents.shp'\n",
    "continent_lyr='continent'\n",
    "arcpy.MakeFeatureLayer_management(continent,continent_lyr)"
   ]
  },
  {
   "cell_type": "markdown",
   "metadata": {},
   "source": [
    "## 1， 对GLAKES进行分类，合并big_lakes"
   ]
  },
  {
   "cell_type": "code",
   "execution_count": 32,
   "metadata": {},
   "outputs": [
    {
     "data": {
      "text/html": [
       "<div class='gpresult'><h2>Messages</h2><div id='messages' data-messages='[\"Start Time: 2024年7月12日 1:47:22\",\"Succeeded at 2024年7月12日 1:49:30 (Elapsed Time: 2 minutes 7 seconds)\"]' data-show='true'><div id = 'default' /></div></div>"
      ],
      "text/plain": [
       "<Result 'J:\\\\lakemapping\\\\postprocess\\\\v10_240710\\\\b_polygon_afm_mergeWith_BigLake_Continent.gdb\\\\GLAKES_lt1'>"
      ]
     },
     "execution_count": 32,
     "metadata": {},
     "output_type": "execute_result"
    }
   ],
   "source": [
    "# GLAKES=r'D:\\lakemapping\\0_auxiliary_data\\GLAKES\\GLAKES\\GLAKES.gdb\\GLAKES'\n",
    "# arcpy.MakeFeatureLayer_management(GLAKES,'GLAKES')\n",
    "# selectByAttribute('GLAKES','NEW_SELECTION','\"Area_bound\" >= 1')\n",
    "# arcpy.conversion.ExportFeatures('GLAKES',GLAKES_gte1)\n",
    "# selectByAttribute('GLAKES','SWITCH_SELECTION','')\n",
    "# arcpy.conversion.ExportFeatures('GLAKES',GLAKES_lt1)"
   ]
  },
  {
   "cell_type": "code",
   "execution_count": 8,
   "metadata": {},
   "outputs": [],
   "source": [
    "# big_lake_list=[]\n",
    "# for region in region_list:\n",
    "#     polygon_big_lake=os.path.join(after_mask_gdb,'big_lakes_'+region)\n",
    "#     arcpy.MakeFeatureLayer_management(polygon_big_lake,'big_lakes_'+region)\n",
    "#     big_lake_list.append('big_lakes_'+region)\n",
    "# arcpy.Merge_management(big_lake_list,big_lakes)"
   ]
  },
  {
   "cell_type": "markdown",
   "metadata": {},
   "source": [
    "## 2，将mask后结果与big_lakes合并，得到的数据存在Bgdb"
   ]
  },
  {
   "cell_type": "code",
   "execution_count": 9,
   "metadata": {},
   "outputs": [
    {
     "data": {
      "text/html": [
       "<div class='gpresult'><h2>Messages</h2><div id='messages' data-messages='[\"Start Time: 2024年7月11日 22:57:07\",\"Succeeded at 2024年7月11日 22:57:07 (Elapsed Time: 0.05 seconds)\"]' data-show='true'><div id = 'default' /></div></div>"
      ],
      "text/plain": [
       "<Result 'big_lakes'>"
      ]
     },
     "execution_count": 9,
     "metadata": {},
     "output_type": "execute_result"
    }
   ],
   "source": [
    "arcpy.MakeFeatureLayer_management(big_lakes,big_lakes_lyr)"
   ]
  },
  {
   "cell_type": "code",
   "execution_count": 26,
   "metadata": {},
   "outputs": [
    {
     "name": "stdout",
     "output_type": "stream",
     "text": [
      "time:746.0724091529846s\n"
     ]
    }
   ],
   "source": [
    "## 添加 Continent 及 iwBL 属性\n",
    "start=time.time()\n",
    "input_table_afm_list=[]\n",
    "for region in region_list:\n",
    "    lakes_afm=os.path.join(after_mask_gdb,'lakes_'+region+'_afterMask')\n",
    "    lakes_afm_lyr='lakes_'+region+'_afm'\n",
    "    arcpy.MakeFeatureLayer_management(lakes_afm,lakes_afm_lyr)\n",
    "    arcpy.AddField_management(lakes_afm_lyr, 'Continent', \"Text\")\n",
    "    arcpy.AddField_management(lakes_afm_lyr, 'iwBL', \"Short\")\n",
    "    selectByLocation(lakes_afm_lyr,'INTERSECT',big_lakes_lyr)\n",
    "    calculateField(lakes_afm_lyr,'iwBL',1)\n",
    "    for i in range(0,6):\n",
    "        continent=seven_continents[i]\n",
    "        selectByAttribute(continent_lyr,'NEW_SELECTION',f\"Continent = '{continent}'\")\n",
    "        selectByAttribute(lakes_afm_lyr,'NEW_SELECTION',\"Continent IS NULL\")\n",
    "        selectByLocation(lakes_afm_lyr,'HAVE_THEIR_CENTER_IN',continent_lyr,'SUBSET_SELECTION')\n",
    "        calculateField(lakes_afm_lyr,'Continent',f\"'{continent}'\")\n",
    "    selectByAttribute(lakes_afm_lyr,'NEW_SELECTION','')\n",
    "    out_table=os.path.join(stastics_gdb,f'{region}_afm_by_Continent_stastics')\n",
    "    input_table_afm_list.append(out_table)\n",
    "    arcpy.analysis.Statistics(lakes_afm_lyr, out_table, [['area',\"sum\"]], ['Continent']) \n",
    "    selectByAttribute(lakes_afm_lyr,'NEW_SELECTION','iwBL IS NULL')\n",
    "    calculateField(lakes_afm_lyr,'iwBL',0)\n",
    "end=time.time()\n",
    "print(f'time:{end-start}s')"
   ]
  },
  {
   "cell_type": "code",
   "execution_count": 28,
   "metadata": {},
   "outputs": [
    {
     "data": {
      "text/html": [
       "<div class='gpresult'><h2>Messages</h2><div id='messages' data-messages='[\"Start Time: 2024年7月12日 1:26:32\",\"Succeeded at 2024年7月12日 1:26:40 (Elapsed Time: 7.61 seconds)\"]' data-show='true'><div id = 'default' /></div></div>"
      ],
      "text/plain": [
       "<Result 'J:\\\\lakemapping\\\\postprocess\\\\v10_240710\\\\sum_afm_classify_by_Continents_stastics.xls'>"
      ]
     },
     "execution_count": 28,
     "metadata": {},
     "output_type": "execute_result"
    }
   ],
   "source": [
    "Output_Excel_File=r'J:\\lakemapping\\postprocess\\v10_240710\\sum_afm_classify_by_Continents_stastics.xls'\n",
    "arcpy.conversion.TableToExcel(input_table_afm_list, Output_Excel_File)"
   ]
  },
  {
   "cell_type": "code",
   "execution_count": 9,
   "metadata": {},
   "outputs": [],
   "source": [
    "j=16"
   ]
  },
  {
   "cell_type": "code",
   "execution_count": 25,
   "metadata": {},
   "outputs": [
    {
     "data": {
      "text/html": [
       "<div class='gpresult'><h2>Messages</h2><div id='messages' data-messages='[\"Start Time: 2024年7月12日 0:12:40\",\"Succeeded at 2024年7月12日 0:12:41 (Elapsed Time: 1.44 seconds)\"]' data-show='true'><div id = 'default' /></div></div>"
      ],
      "text/plain": [
       "<Result 'J:\\\\lakemapping\\\\postprocess\\\\v10_240710\\\\0_summary_stastics.gdb\\\\island_afm_by_Continent_stastics'>"
      ]
     },
     "execution_count": 25,
     "metadata": {},
     "output_type": "execute_result"
    }
   ],
   "source": [
    "# region='island'\n",
    "# lakes_afm=os.path.join(after_mask_gdb,'lakes_'+region+'_afterMask')\n",
    "# lakes_afm_lyr='lakes_'+region+'_afm'\n",
    "# arcpy.MakeFeatureLayer_management(lakes_afm,lakes_afm_lyr)\n",
    "#     arcpy.AddField_management(lakes_afm_lyr, 'Continent', \"Text\")\n",
    "#     arcpy.AddField_management(lakes_afm_lyr, 'iwBL', \"Short\")\n",
    "#     selectByLocation(lakes_afm_lyr,'INTERSECT',big_lakes_lyr)\n",
    "#     calculateField(lakes_afm_lyr,'iwBL',1)\n",
    "# for i in range(0,6):\n",
    "#     continent=seven_continents[i]\n",
    "#     selectByAttribute(continent_lyr,'NEW_SELECTION',f\"Continent = '{continent}'\")\n",
    "#     selectByAttribute(lakes_afm_lyr,'NEW_SELECTION',\"Continent IS NULL\")\n",
    "#     selectByLocation(lakes_afm_lyr,'HAVE_THEIR_CENTER_IN',continent_lyr,'SUBSET_SELECTION')\n",
    "#     calculateField(lakes_afm_lyr,'Continent',f\"'{continent}'\")\n",
    "# selectByAttribute(lakes_afm_lyr,'NEW_SELECTION','')\n",
    "# out_table=os.path.join(stastics_gdb,f'{region}_afm_by_Continent_stastics')\n",
    "# input_table_afm_list.append(out_table)\n",
    "# arcpy.analysis.Statistics(lakes_afm_lyr, out_table, [['area',\"sum\"]], ['Continent']) \n",
    "# j=j+1\n",
    "# arcpy.Delete_management(lakes_afm_lyr)"
   ]
  },
  {
   "cell_type": "code",
   "execution_count": 10,
   "metadata": {},
   "outputs": [],
   "source": [
    "afm_list=[]\n",
    "for region in region_list:\n",
    "    lakes_afm_lyr='lakes_'+region+'_afm'\n",
    "    afm_list.append(lakes_afm_lyr)\n",
    "    selectByAttribute(lakes_afm_lyr,'NEW_SELECTION',\"iwBL = 1\")"
   ]
  },
  {
   "cell_type": "code",
   "execution_count": 12,
   "metadata": {},
   "outputs": [
    {
     "name": "stdout",
     "output_type": "stream",
     "text": [
      "['lakes_eu_afm', 'lakes_af_afm', 'lakes_oc_afm', 'lakes_island_afm', 'lakes_greenland_afm', 'lakes_sa_1_afm', 'lakes_sa_2_afm', 'lakes_as_1_afm', 'lakes_as_2_afm', 'lakes_as_3_afm', 'lakes_as_4_afm', 'lakes_as_5_afm', 'lakes_as_6_afm', 'lakes_as_7_afm', 'lakes_as_8_afm', 'lakes_as_9_afm', 'lakes_na_1_afm', 'lakes_na_2_afm', 'lakes_na_3_afm', 'lakes_na_4_afm', 'lakes_na_5_afm', 'lakes_na_6_afm', 'big_lakes']\n",
      "time:41.49833416938782s\n"
     ]
    }
   ],
   "source": [
    "#把iwBL与big lake文件合并，并融合\n",
    "merge_list=afm_list.copy()\n",
    "merge_list.append(big_lakes_lyr)\n",
    "print(merge_list)\n",
    "start=time.time()\n",
    "arcpy.Merge_management(merge_list,a_iwBL_merge_with_BL_raw)\n",
    "arcpy.MakeFeatureLayer_management(a_iwBL_merge_with_BL_raw, a_iwBL_merge_with_BL_raw_lyr)#global_lakes_afm_merged_with_GBL\n",
    "end=time.time()\n",
    "print(f'time:{end-start}s')"
   ]
  },
  {
   "cell_type": "code",
   "execution_count": 13,
   "metadata": {},
   "outputs": [
    {
     "name": "stdout",
     "output_type": "stream",
     "text": [
      "start Dissolve\n",
      "time:1702.3034601211548s\n"
     ]
    }
   ],
   "source": [
    "start=time.time()\n",
    "print('start Dissolve')\n",
    "arcpy.Dissolve_management(a_iwBL_merge_with_BL_raw_lyr, a_iwBL_merge_with_BL,\"\", \"\", \"SINGLE_PART\")#dissolve copylake\n",
    "arcpy.MakeFeatureLayer_management(a_iwBL_merge_with_BL, a_iwBL_merge_with_BL_lyr)\n",
    "arcpy.AddField_management(a_iwBL_merge_with_BL_lyr,\"area\",\"Double\")\n",
    "arcpy.CalculateField_management(a_iwBL_merge_with_BL_lyr, \"area\",  \"!shape.geodesicArea@SQUAREKILOMETERS!\", \"PYTHON_9.3\")\n",
    "end=time.time()\n",
    "print(f'time:{end-start}s')"
   ]
  },
  {
   "cell_type": "code",
   "execution_count": 30,
   "metadata": {},
   "outputs": [
    {
     "data": {
      "text/html": [
       "<div class='gpresult'><h2>Messages</h2><div id='messages' data-messages='[\"Start Time: 2024年7月12日 1:39:00\",\"Succeeded at 2024年7月12日 1:39:00 (Elapsed Time: 0.11 seconds)\"]' data-show='true'><div id = 'default' /></div></div>"
      ],
      "text/plain": [
       "<Result 'a_iwBL_merge_with_BL'>"
      ]
     },
     "execution_count": 30,
     "metadata": {},
     "output_type": "execute_result"
    }
   ],
   "source": [
    "arcpy.MakeFeatureLayer_management(a_iwBL_merge_with_BL, a_iwBL_merge_with_BL_lyr)"
   ]
  },
  {
   "cell_type": "code",
   "execution_count": 16,
   "metadata": {},
   "outputs": [],
   "source": [
    "arcpy.AddField_management(a_iwBL_merge_with_BL_lyr, 'Continent', \"Text\")\n",
    "for i in range(0,6):\n",
    "    continent=seven_continents[i]\n",
    "    selectByAttribute(continent_lyr,'NEW_SELECTION',f\"Continent = '{continent}'\")\n",
    "    selectByAttribute(a_iwBL_merge_with_BL_lyr,'NEW_SELECTION',\"Continent IS NULL\")\n",
    "    selectByLocation(a_iwBL_merge_with_BL_lyr,'HAVE_THEIR_CENTER_IN',continent_lyr,'SUBSET_SELECTION')\n",
    "    calculateField(a_iwBL_merge_with_BL_lyr,'Continent',f\"'{continent}'\")"
   ]
  },
  {
   "cell_type": "code",
   "execution_count": 38,
   "metadata": {},
   "outputs": [],
   "source": [
    "b_lyr_list=[]\n",
    "for i in range(0,6):\n",
    "    continent=seven_continents[i]\n",
    "    continent_merge_list=[a_iwBL_merge_with_BL_lyr]\n",
    "    for j in continent_region_list[i]:\n",
    "        selectByAttribute(afm_list[j],'NEW_SELECTION',f\"Continent = '{continent}' AND iwBL = 0\")\n",
    "        continent_merge_list.append(afm_list[j])\n",
    "    print(continent_merge_list)\n",
    "    selectByAttribute(a_iwBL_merge_with_BL_lyr,'NEW_SELECTION',f\"Continent = '{continent}'\")\n",
    "    b_lake_afm_merge_with_BL=os.path.join(Bgdb,f'b{i+1}_{continent}_polygon_afm_mwBL')\n",
    "    b_lake_afm_merge_with_BL_lyr=f'b{i+1}_{continent}_lake_afm_merge_with_BL'\n",
    "    b_lyr_list.append(b_lake_afm_merge_with_BL_lyr)\n",
    "#     arcpy.Merge_management(continent_merge_list,b_lake_afm_merge_with_BL)\n",
    "    arcpy.MakeFeatureLayer_management(b_lake_afm_merge_with_BL, b_lake_afm_merge_with_BL_lyr)\n",
    "    arcpy.AddField_management(b_lake_afm_merge_with_BL_lyr, 'iwBG', \"Short\")\n",
    "    selectByLocation(b_lake_afm_merge_with_BL_lyr,'INTERSECT',GLAKES_gte1_lyr)\n",
    "    calculateField(b_lake_afm_merge_with_BL_lyr,'iwBG',1)\n",
    "    selectByAttribute(b_lake_afm_merge_with_BL_lyr,'NEW_SELECTION','iwBG IS NULL')\n",
    "    calculateField(b_lake_afm_merge_with_BL_lyr,'iwBG',0)"
   ]
  },
  {
   "cell_type": "markdown",
   "metadata": {},
   "source": [
    "## 3，将b结果与big_GLAKES合并，得到的数据存在Cgdb"
   ]
  },
  {
   "cell_type": "code",
   "execution_count": 39,
   "metadata": {},
   "outputs": [
    {
     "name": "stdout",
     "output_type": "stream",
     "text": [
      "['b1_Asia_lake_afm_merge_with_BL', 'b2_Africa_lake_afm_merge_with_BL', 'b3_Europe_lake_afm_merge_with_BL', 'b4_Oceania_Anta_lake_afm_merge_with_BL', 'b5_North_America_lake_afm_merge_with_BL', 'b6_South_America_lake_afm_merge_with_BL', 'GLAKES_gte1']\n",
      "time:111.72716164588928s\n"
     ]
    }
   ],
   "source": [
    "#3.1 把iwBG与big GLAKES文件合并，并融合\n",
    "merge_list_BG=b_lyr_list.copy()\n",
    "merge_list_BG.append(GLAKES_gte1_lyr)\n",
    "print(merge_list_BG)\n",
    "\n",
    "start=time.time()\n",
    "# for i in range(0,6):\n",
    "#     b_lyr=b_lyr_list[i]\n",
    "#     selectByAttribute(b_lyr,'NEW_SELECTION',\"iwBG = 1\")\n",
    "    \n",
    "arcpy.Merge_management(merge_list_BG,b_iwBG_merge_with_BG_raw)\n",
    "arcpy.MakeFeatureLayer_management(b_iwBG_merge_with_BG_raw, b_iwBG_merge_with_BG_raw_lyr)#global_lakes_afm_merged_with_GBL\n",
    "end=time.time()\n",
    "print(f'time:{end-start}s')"
   ]
  },
  {
   "cell_type": "code",
   "execution_count": 40,
   "metadata": {},
   "outputs": [
    {
     "name": "stdout",
     "output_type": "stream",
     "text": [
      "start Dissolve\n",
      "time:4815.872866868973s\n"
     ]
    }
   ],
   "source": [
    "start=time.time()\n",
    "print('start Dissolve')\n",
    "arcpy.Dissolve_management(b_iwBG_merge_with_BG_raw_lyr, b_iwBG_merge_with_BG,\"\", \"\", \"SINGLE_PART\")#dissolve copylake\n",
    "arcpy.MakeFeatureLayer_management(b_iwBG_merge_with_BG, b_iwBG_merge_with_BG_lyr)\n",
    "arcpy.AddField_management(b_iwBG_merge_with_BG_lyr,\"area\",\"Double\")\n",
    "arcpy.CalculateField_management(b_iwBG_merge_with_BG_lyr, \"area\",  \"!shape.geodesicArea@SQUAREKILOMETERS!\", \"PYTHON_9.3\")\n",
    "end=time.time()\n",
    "print(f'time:{end-start}s')"
   ]
  },
  {
   "cell_type": "code",
   "execution_count": 42,
   "metadata": {},
   "outputs": [],
   "source": [
    "arcpy.AddField_management(b_iwBG_merge_with_BG_lyr, 'Continent', \"Text\")\n",
    "for i in range(1,6):\n",
    "    continent=seven_continents[i]\n",
    "    selectByAttribute(continent_lyr,'NEW_SELECTION',f\"Continent = '{continent}'\")\n",
    "    selectByAttribute(b_iwBG_merge_with_BG_lyr,'NEW_SELECTION',\"Continent IS NULL\")\n",
    "    selectByLocation(b_iwBG_merge_with_BG_lyr,'HAVE_THEIR_CENTER_IN',continent_lyr,'SUBSET_SELECTION')\n",
    "    calculateField(b_iwBG_merge_with_BG_lyr,'Continent',f\"'{continent}'\")"
   ]
  },
  {
   "cell_type": "code",
   "execution_count": 44,
   "metadata": {},
   "outputs": [],
   "source": [
    "## 3.2 将niwGB与 3.1的结果合并生成c\n",
    "for i in range(0,6):\n",
    "    b_lyr=b_lyr_list[i]\n",
    "    continent=seven_continents[i]\n",
    "    arcpy.MakeFeatureLayer_management(b_lake_afm_merge_with_BL, b_lake_afm_merge_with_BL_lyr)\n",
    "    arcpy.analysis.Statistics(b_lyr, out_table, [['area',\"sum\"]], ['iwBG']) \n",
    "    selectByAttribute(b_lyr,'NEW_SELECTION',\"iwBG = 0\")\n",
    "    selectByAttribute(b_iwBG_merge_with_BG_lyr,'NEW_SELECTION',f\"Continent = '{continent}'\")\n",
    "    c_lake_afm_mw_BL_BG=os.path.join(Bgdb,f'c{i+1}_{continent}_polygon_afm_mwBL_BG')\n",
    "    c_lake_afm_mw_BL_BG_lyr=f'c{i+1}_{continent}_lake_afm_mw_BL_BG'\n",
    "    arcpy.Merge_management([b_lyr,b_iwBG_merge_with_BG_lyr],c_lake_afm_mw_BL_BG)\n",
    "    arcpy.MakeFeatureLayer_management(c_lake_afm_mw_BL_BG,c_lake_afm_mw_BL_BG_lyr)\n",
    "    "
   ]
  },
  {
   "cell_type": "code",
   "execution_count": 52,
   "metadata": {},
   "outputs": [
    {
     "name": "stdout",
     "output_type": "stream",
     "text": [
      "b1_Asia_lake_afm_merge_with_BL\n",
      "b2_Africa_lake_afm_merge_with_BL\n",
      "b3_Europe_lake_afm_merge_with_BL\n",
      "b4_Oceania_Anta_lake_afm_merge_with_BL\n",
      "b5_North_America_lake_afm_merge_with_BL\n",
      "b6_South_America_lake_afm_merge_with_BL\n"
     ]
    }
   ],
   "source": [
    "input_table_mwBL_list=[]\n",
    "input_table_mwBL_BG_list=[]\n",
    "for i in range(0,6):\n",
    "    b_lyr=b_lyr_list[i]\n",
    "    continent=seven_continents[i]\n",
    "    out_table_1=os.path.join(stastics_gdb,f'b{i+1}_{continent}_afm_mwBL_by_Continent_stastics')\n",
    "    input_table_mwBL_list.append(out_table_1)\n",
    "    \n",
    "    c_lake_afm_mw_BL_BG=os.path.join(Bgdb,f'c{i+1}_{continent}_polygon_afm_mwBL_BG')\n",
    "    c_lake_afm_mw_BL_BG_lyr=f'c{i+1}_{continent}_lake_afm_mw_BL_BG'\n",
    "#     arcpy.MakeFeatureLayer_management(c_lake_afm_mw_BL_BG,c_lake_afm_mw_BL_BG_lyr)\n",
    "    out_table=os.path.join(stastics_gdb,f'c{i+1}_{continent}_afm_mwBL_BG_by_Continent_stastics')\n",
    "    input_table_mwBL_BG_list.append(out_table)\n",
    "#     arcpy.analysis.Statistics(c_lake_afm_mw_BL_BG_lyr, out_table, [['area',\"sum\"]]) \n",
    "    out_table_2=os.path.join(stastics_gdb,f'c{i+1}_{continent}_afm_mwBL_BG_by_Continent_stastics')\n",
    "    input_table_mwBL_BG_list.append(out_table_2)\n",
    "    \n",
    "Output_Excel_File=r'J:\\lakemapping\\postprocess\\v10_240710\\sum_afm_mwBL_classify_by_Continents_stastics.xls'\n",
    "Output_Excel_File_2=r'J:\\lakemapping\\postprocess\\v10_240710\\sum_afm_mwBL_BG_classify_by_Continents_stastics.xls'\n",
    "print(input_table_mwBL_BG_list)\n",
    "arcpy.conversion.TableToExcel(input_table_mwBL_list, Output_Excel_File)\n",
    "arcpy.conversion.TableToExcel(input_table_mwBL_BG_list, Output_Excel_File_2)"
   ]
  }
 ],
 "metadata": {
  "kernelspec": {
   "display_name": "ArcGISPro",
   "language": "Python",
   "name": "python3"
  },
  "language_info": {
   "file_extension": ".py",
   "name": "python",
   "version": "3"
  }
 },
 "nbformat": 4,
 "nbformat_minor": 2
}
