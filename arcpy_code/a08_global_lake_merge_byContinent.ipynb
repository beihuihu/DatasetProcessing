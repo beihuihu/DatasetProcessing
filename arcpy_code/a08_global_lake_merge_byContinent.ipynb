{
 "cells": [
  {
   "cell_type": "code",
   "execution_count": null,
   "metadata": {},
   "outputs": [],
   "source": [
    "import arcpy\n",
    "from arcpy.sa import *\n",
    "import os\n",
    "import time\n",
    "arcpy.env.overwriteOutput = True"
   ]
  },
  {
   "cell_type": "code",
   "execution_count": null,
   "metadata": {},
   "outputs": [],
   "source": [
    "# load input features and make layer\n",
    "version='v11_240805'\n",
    "stastic_v=f'{version}_v1'\n",
    "output_dir = os.path.join(r'J:\\lakemapping\\postprocess',version)\n",
    "output_2=os.path.join(r'J:\\lakemapping\\postprocess','v10_240710')\n",
    "\n",
    "auxiliary_dataset_gdb=r'D:\\postprocess\\v240220\\auxiliary_dataset.gdb'\n",
    "after_mask_gdb=os.path.join(output_dir,'3_polygon_after_rivermask.gdb')\n",
    "stastics_gdb=os.path.join(output_dir,'0_summary_stastics.gdb')\n",
    "mwBL_gdb=os.path.join(output_dir,'4_polygon_afm_mergeWith_BigLake.gdb')\n",
    "mwBG_gdb=os.path.join(output_dir,'5_polygon_afm_mwBL_BigGLAKES.gdb')\n",
    "excel_dir=os.path.join(output_dir,'stastics_excel')\n",
    "\n",
    "if not os.path.exists(mwBL_gdb):\n",
    "    arcpy.CreateFileGDB_management(output_dir,'4_polygon_afm_mergeWith_BigLake.gdb')\n",
    "if not os.path.exists(mwBG_gdb):\n",
    "    arcpy.CreateFileGDB_management(output_dir,'5_polygon_afm_mwBL_BigGLAKES.gdb')\n",
    "if not os.path.exists(stastics_gdb):\n",
    "    arcpy.CreateFileGDB_management(output_dir,'0_summary_stastics.gdb')\n",
    "if not os.path.exists(after_mask_gdb):\n",
    "    arcpy.CreateFileGDB_management(output_dir,'3_polygon_after_rivermask.gdb')"
   ]
  },
  {
   "cell_type": "code",
   "execution_count": null,
   "metadata": {},
   "outputs": [],
   "source": [
    "lakes_iwBR=r'J:\\lakemapping\\postprocess\\v10_240710\\2_polygon_iw_River.gdb\\total_iwBR_arm_SJ'\n",
    "total_lakes_arm=r'J:\\lakemapping\\postprocess\\v10_240710\\2_polygon_iw_River.gdb\\total_lakes_arm'\n",
    "lakes_iwBR_afterMask=os.path.join(after_mask_gdb,'lakes_iwBR_afterMask')\n",
    "lakes_iwBR_lyr='lakes_iwBR'\n",
    "total_lakes_arm_lyr='lakes_arm'\n",
    "lakes_iwBR_afm_lyr='lakes_iwBR_afm'"
   ]
  },
  {
   "cell_type": "code",
   "execution_count": null,
   "metadata": {},
   "outputs": [],
   "source": [
    "a_iwBL_merge_with_BL_raw=os.path.join(after_mask_gdb,'a_total_lakes_afm_iwBL_merge_with_BigLakes_raw')\n",
    "a_iwBL_merge_with_BL=os.path.join(after_mask_gdb,'a_total_lakes_afm_iwBL_merge_with_BigLakes')\n",
    "a_iwBL_merge_with_BL_raw_lyr='a_lakes_afm_iwBL_mw_BL_raw'\n",
    "a_iwBL_merge_with_BL_lyr='a_lakes_afm_iwBL_mw_BL'\n",
    "\n",
    "b_iwBG=os.path.join(mwBL_gdb,'b_total_lakes_afm_mwBL_iwBG')\n",
    "b_iwBG_point=os.path.join(mwBL_gdb,'b_total_lakes_afm_mwBL_iwBG_point')\n",
    "b_iwBG_lyr='b_lakes_afm_mwBL_iwBG'\n",
    "b_iwBG_point_lyr='b_lakes_afm_mwBL_iwBG_point'\n",
    "\n",
    "b_iwBG_merge_with_BG_raw=os.path.join(mwBL_gdb,'b_total_lakes_afm_mwBL_iwBG_merge_with_BG_raw')\n",
    "b_iwBG_merge_with_BG=os.path.join(mwBL_gdb,'b_total_lakes_afm_mwBL_iwBG_merge_with_BG')\n",
    "b_iwBG_merge_with_BG_raw_lyr='b_lakes_afm_mwBL_iwBG_mw_BG_raw'\n",
    "b_iwBG_merge_with_BG_lyr='b_lakes_afm_mwBL_iwBG_mw_BG'\n",
    "\n",
    "b_iwBG_merge_with_BG_SJ=os.path.join(mwBL_gdb,'b_iwBG_merge_with_BG_SJ')\n",
    "b_iwBG_merge_with_BG_SJ_SJ=os.path.join(mwBL_gdb,'b_iwBG_merge_with_BG_SJ_SJ')\n",
    "b_iwBG_merge_with_BG_SJ_dissolve=os.path.join(mwBL_gdb,'b_iwBG_merge_with_BG_SJ_dissolve')\n",
    "b_iwBG_merge_with_BG_SJ_GLAKES_SJ=os.path.join(mwBL_gdb,'b_iwBG_merge_with_BG_SJ_GLAKES_SJ')\n",
    "b_iwBG_merge_with_BG_final=os.path.join(mwBL_gdb,'b_iwBG_merge_with_BG_final')\n",
    "b_iwBG_merge_with_BG_SJ_lyr='b_lakes_afm_mwBL_iwBG_mw_BG_SJ'\n",
    "b_iwBG_merge_with_BG_SJ_dissolve_lyr='b_iwBG_merge_with_BG_SJ_dissolve'\n",
    "b_iwBG_merge_with_BG_SJ_GLAKES_SJ_lyr='b_iwBG_merge_with_BG_SJ_GLAKES_SJ'\n",
    "b_iwBG_merge_with_BG_final_lyr='b_iwBG_merge_with_BG_final'"
   ]
  },
  {
   "cell_type": "code",
   "execution_count": null,
   "metadata": {},
   "outputs": [],
   "source": [
    "seven_continents=['Asia','Africa','Europe','Oceania_Anta','North_America','South_America']"
   ]
  },
  {
   "cell_type": "code",
   "execution_count": null,
   "metadata": {},
   "outputs": [],
   "source": [
    "def selectByLocation(inputFeature,overlapType,selectionFeature,selectionType='NEW_SELECTION'):\n",
    "    arcpy.SelectLayerByLocation_management(inputFeature,overlapType,selectionFeature,selection_type=selectionType)\n",
    "    \n",
    "def selectByAttribute(inputFeature,selectionType='NEW_SELECTION',code=''):\n",
    "    arcpy.management.SelectLayerByAttribute(inputFeature,selectionType,code)\n",
    "    \n",
    "def calculateField(inputFeature,field,code):\n",
    "    arcpy.CalculateField_management(inputFeature, field,code)\n",
    "\n",
    "def cal_continent(lyr):\n",
    "    arcpy.AddField_management(lyr, 'Continent', \"Text\")\n",
    "    for i in range(0,6):\n",
    "        continent=seven_continents[i]\n",
    "        selectByAttribute(continent_lyr,'NEW_SELECTION',f\"Continent = '{continent}'\")\n",
    "        selectByAttribute(lyr,'NEW_SELECTION',\"Continent IS NULL\")\n",
    "        selectByLocation(lyr,'HAVE_THEIR_CENTER_IN',continent_lyr,'SUBSET_SELECTION')\n",
    "        calculateField(lyr,'Continent',f\"'{continent}'\")"
   ]
  },
  {
   "cell_type": "code",
   "execution_count": null,
   "metadata": {},
   "outputs": [],
   "source": [
    "big_lakes=os.path.join(after_mask_gdb,f'total_big_lakes')\n",
    "big_lakes_lyr=f'big_lakes'\n",
    "GLAKES_gte1_Rser=os.path.join(mwBL_gdb,'GLAKES_gte1_Rser')\n",
    "GLAKES_gte1_Rser_singlepart=os.path.join(mwBL_gdb,'GLAKES_gte1_Rser_singlepart')\n",
    "GLAKES_gte1_Rser_point=os.path.join(mwBL_gdb,'GLAKES_gte1_Rser_point')\n",
    "GLAKES_gte1_Rser_lyr='GLAKES_gte1_Rser'\n",
    "GLAKES_gte1_Rser_point_lyr='GLAKES_gte1_Rser_point'"
   ]
  },
  {
   "cell_type": "code",
   "execution_count": null,
   "metadata": {},
   "outputs": [],
   "source": [
    "GLAKES_Res=os.path.join(auxiliary_dataset_gdb,'GLAKES_Res')\n",
    "arcpy.MakeFeatureLayer_management(GLAKES_Res,'GLAKES_Res')\n",
    "\n",
    "# GLAKES_natural_lake=os.path.join(auxiliary_dataset_gdb,'GLAKES_gte1_natural_lake')\n",
    "# arcpy.MakeFeatureLayer_management(GLAKES_natural_lake,'GLAKES_natural_lake')"
   ]
  },
  {
   "cell_type": "code",
   "execution_count": null,
   "metadata": {},
   "outputs": [],
   "source": [
    "continent=r'D:\\lakemapping\\0_auxiliary_data\\World_Continents\\World_Continents.shp'\n",
    "continent_lyr='continent'\n",
    "arcpy.MakeFeatureLayer_management(continent,continent_lyr)"
   ]
  },
  {
   "cell_type": "markdown",
   "metadata": {},
   "source": [
    "## 1， 对GLAKES进行分类，合并big_lakes，获得mask后结果"
   ]
  },
  {
   "cell_type": "markdown",
   "metadata": {},
   "source": [
    "### 1.1 对GLAKES进行分类"
   ]
  },
  {
   "cell_type": "code",
   "execution_count": null,
   "metadata": {},
   "outputs": [],
   "source": [
    "GLAKES=r'D:\\lakemapping\\0_auxiliary_data\\GLAKES\\GLAKES.gdb\\GLAKES'\n",
    "arcpy.MakeFeatureLayer_management(GLAKES,'GLAKES')"
   ]
  },
  {
   "cell_type": "code",
   "execution_count": null,
   "metadata": {},
   "outputs": [],
   "source": [
    "selectByAttribute('GLAKES','NEW_SELECTION','\"Area_bound\" >= 1 OR \"Rser_flag\"=1')\n",
    "arcpy.conversion.ExportFeatures('GLAKES',GLAKES_gte1_Rser)"
   ]
  },
  {
   "cell_type": "code",
   "execution_count": null,
   "metadata": {},
   "outputs": [],
   "source": [
    "arcpy.MakeFeatureLayer_management(GLAKES_gte1_Rser,GLAKES_gte1_Rser_lyr)"
   ]
  },
  {
   "cell_type": "code",
   "execution_count": null,
   "metadata": {},
   "outputs": [],
   "source": [
    "# arcpy.management.FeatureToPoint(GLAKES_gte1_Rser_lyr,GLAKES_gte1_Rser_point,'INSIDE')\n",
    "arcpy.MakeFeatureLayer_management(GLAKES_gte1_Rser_point,GLAKES_gte1_Rser_point_lyr)"
   ]
  },
  {
   "cell_type": "markdown",
   "metadata": {},
   "source": [
    "### 1.2 合并big_lakes"
   ]
  },
  {
   "cell_type": "code",
   "execution_count": null,
   "metadata": {},
   "outputs": [],
   "source": [
    "big_lake_list=[]\n",
    "for region in region_list:\n",
    "    polygon_big_lake=os.path.join(after_mask_gdb,'big_lakes_'+region)\n",
    "    arcpy.MakeFeatureLayer_management(polygon_big_lake,'big_lakes_'+region)\n",
    "    big_lake_list.append('big_lakes_'+region)\n",
    "# arcpy.Merge_management(big_lake_list,big_lakes)"
   ]
  },
  {
   "cell_type": "code",
   "execution_count": null,
   "metadata": {},
   "outputs": [],
   "source": [
    "arcpy.MakeFeatureLayer_management(big_lakes,big_lakes_lyr)"
   ]
  },
  {
   "cell_type": "markdown",
   "metadata": {},
   "source": [
    "### 1.3 获得mask后结果"
   ]
  },
  {
   "cell_type": "code",
   "execution_count": null,
   "metadata": {},
   "outputs": [],
   "source": [
    "arcpy.MakeFeatureLayer_management(lakes_iwBR,lakes_iwBR_lyr)\n",
    "arcpy.MakeFeatureLayer_management(total_lakes_arm,total_lakes_arm_lyr)"
   ]
  },
  {
   "cell_type": "code",
   "execution_count": null,
   "metadata": {},
   "outputs": [],
   "source": [
    "selectByAttribute(lakes_iwBR_lyr,'NEW_SELECTION','\"operate\" = 0.5 OR operate IS NULL')\n",
    "selectByLocation(total_lakes_arm_lyr, 'WITHIN', lakes_iwBR_lyr,'NEW_SELECTION')\n",
    "selectByAttribute(total_lakes_arm_lyr,'SUBSET_SELECTION','\"operate\" IS NULL')\n",
    "selectByAttribute(total_lakes_arm_lyr,'ADD_TO_SELECTION','\"operate\" = 1')\n",
    "selectByAttribute(lakes_iwBR_lyr,'NEW_SELECTION','\"operate\">= 1')\n",
    "fieldmappings = arcpy.FieldMappings()\n",
    "fieldmappings_all = arcpy.FieldMappings()\n",
    "fieldmappings_all.addTable(lakes_iwBR_lyr)#未mask\n",
    "fieldmappings_all.addTable(total_lakes_arm_lyr)\n",
    "field_list = ['area','iwR','iwG','flag','Continent','operate']\n",
    "for field_i in field_list:\n",
    "        field_idx = fieldmappings_all.findFieldMapIndex(field_i)\n",
    "        fieldmappings.addFieldMap(fieldmappings_all.getFieldMap(field_idx))\n",
    "arcpy.Merge_management([lakes_iwBR_lyr,total_lakes_arm_lyr],lakes_iwBR_afterMask,fieldmappings)\n",
    "arcpy.MakeFeatureLayer_management(lakes_iwBR_afterMask,lakes_iwBR_afm_lyr)\n",
    "selectByAttribute(lakes_iwBR_afm_lyr,'NEW_SELECTION','area IS NULL')\n",
    "arcpy.CalculateField_management(lakes_iwBR_afm_lyr, \"area\",  \"!shape.geodesicArea@SQUAREKILOMETERS!\", \"PYTHON_9.3\")"
   ]
  },
  {
   "cell_type": "code",
   "execution_count": null,
   "metadata": {},
   "outputs": [],
   "source": [
    "arcpy.AddField_management(lakes_iwBR_afm_lyr, 'iwBL', \"Short\")\n",
    "selectByLocation(lakes_iwBR_afm_lyr,'INTERSECT',big_lakes_lyr)\n",
    "calculateField(lakes_iwBR_afm_lyr,'iwBL',1)\n",
    "selectByAttribute(lakes_iwBR_afm_lyr,'NEW_SELECTION','iwBL IS NULL')\n",
    "calculateField(lakes_iwBR_afm_lyr,'iwBL',0)"
   ]
  },
  {
   "cell_type": "code",
   "execution_count": null,
   "metadata": {},
   "outputs": [],
   "source": [
    "arcpy.MakeFeatureLayer_management(lakes_iwBR_afterMask,lakes_iwBR_afm_lyr)"
   ]
  },
  {
   "cell_type": "code",
   "execution_count": null,
   "metadata": {},
   "outputs": [],
   "source": [
    "for i in range(0,6):\n",
    "    continent=seven_continents[i]\n",
    "    print(continent)\n",
    "    lakes_niwBR=os.path.join(r'J:\\lakemapping\\postprocess\\v10_240710\\2_polygon_iw_River.gdb','lakes_'+continent+'_niwBR')\n",
    "    lakes_niwBR_lyr='lakes_'+continent+'_niwBR'\n",
    "    arcpy.MakeFeatureLayer_management(lakes_niwBR,lakes_niwBR_lyr)\n",
    "    arcpy.AddField_management(lakes_niwBR_lyr, 'iwBL', \"Short\")\n",
    "    selectByLocation(lakes_niwBR_lyr,'INTERSECT',big_lakes_lyr)\n",
    "    calculateField(lakes_niwBR_lyr,'iwBL',1)\n",
    "    selectByAttribute(lakes_niwBR_lyr,'NEW_SELECTION','iwBL IS NULL')\n",
    "    calculateField(lakes_niwBR_lyr,'iwBL',0)"
   ]
  },
  {
   "cell_type": "code",
   "execution_count": null,
   "metadata": {},
   "outputs": [],
   "source": [
    "input_table_afm_list=[]\n",
    "for i in range(0,6):\n",
    "    continent=seven_continents[i]\n",
    "    print(continent)\n",
    "    lakes_niwBR=os.path.join(r'J:\\lakemapping\\postprocess\\v10_240710\\2_polygon_iw_River.gdb','lakes_'+continent+'_niwBR')\n",
    "    lakes_niwBR_lyr='lakes_'+continent+'_niwBR'\n",
    "    lakes_niwBR_afm_lyr='lakes_'+continent+'_niwBR_afm'\n",
    "    lakes_niwBR_afm=os.path.join(after_mask_gdb,'lakes_'+continent+'_niwBR_afterMask')\n",
    "    arcpy.MakeFeatureLayer_management(lakes_niwBR,lakes_niwBR_lyr)\n",
    "    selectByAttribute(lakes_niwBR_lyr,'NEW_SELECTION','\"operate\"<> 0 or operate IS NULL')\n",
    "    arcpy.conversion.ExportFeatures(lakes_niwBR_lyr,lakes_niwBR_afm)\n",
    "    arcpy.MakeFeatureLayer_management(lakes_niwBR_afm,lakes_niwBR_afm_lyr)\n",
    "    out_table=os.path.join(stastics_gdb,f'{stastic_v}_{continent}_niwBR_afm_stastics')\n",
    "    input_table_afm_list.append(out_table)\n",
    "    arcpy.analysis.Statistics(lakes_niwBR_afm_lyr, out_table, [['area',\"sum\"]], ['iwBL']) \n",
    "print(input_table_afm_list)"
   ]
  },
  {
   "cell_type": "code",
   "execution_count": null,
   "metadata": {},
   "outputs": [],
   "source": [
    "file_name=f'{stastic_v}_sum_afm_classify_by_Continents_stastics.xls'\n",
    "Output_Excel_File=os.path.join(excel_dir,file_name)\n",
    "arcpy.conversion.TableToExcel(input_table_afm_list, Output_Excel_File)"
   ]
  },
  {
   "cell_type": "markdown",
   "metadata": {},
   "source": [
    "## 2，将mask后结果与big_lakes合并，得到的数据存在4_mwBL_gdb"
   ]
  },
  {
   "cell_type": "code",
   "execution_count": null,
   "metadata": {},
   "outputs": [],
   "source": [
    "merge_list=[lakes_iwBR_afm_lyr]\n",
    "selectByAttribute(lakes_iwBR_afm_lyr,'NEW_SELECTION',\"iwBL = 1\")\n",
    "for continent in seven_continents:\n",
    "    lakes_niwBR_afm_lyr='lakes_'+continent+'_niwBR_afm'\n",
    "    lakes_niwBR_afm=os.path.join(after_mask_gdb,'lakes_'+continent+'_niwBR_afterMask')\n",
    "    arcpy.MakeFeatureLayer_management(lakes_niwBR_afm,lakes_niwBR_afm_lyr)\n",
    "    merge_list.append(lakes_niwBR_afm_lyr)\n",
    "    selectByAttribute(lakes_niwBR_afm_lyr,'NEW_SELECTION',\"iwBL = 1\")\n",
    "#把iwBL=1的湖泊与big lake文件合并，并融合\n",
    "merge_list.append(big_lakes_lyr)\n",
    "print(merge_list)\n",
    "\n",
    "start=time.time()\n",
    "arcpy.Merge_management(merge_list,a_iwBL_merge_with_BL_raw)\n",
    "arcpy.MakeFeatureLayer_management(a_iwBL_merge_with_BL_raw, a_iwBL_merge_with_BL_raw_lyr)#global_lakes_afm_merged_with_GBL\n",
    "end=time.time()\n",
    "print(f'time:{end-start}s')"
   ]
  },
  {
   "cell_type": "code",
   "execution_count": null,
   "metadata": {},
   "outputs": [],
   "source": [
    "start=time.time()\n",
    "print('start Dissolve')\n",
    "arcpy.Dissolve_management(a_iwBL_merge_with_BL_raw_lyr, a_iwBL_merge_with_BL,\"\", \"\", \"SINGLE_PART\")#dissolve copylake\n",
    "arcpy.MakeFeatureLayer_management(a_iwBL_merge_with_BL, a_iwBL_merge_with_BL_lyr)\n",
    "arcpy.AddField_management(a_iwBL_merge_with_BL_lyr,\"area\",\"Double\")\n",
    "arcpy.CalculateField_management(a_iwBL_merge_with_BL_lyr, \"area\",  \"!shape.geodesicArea@SQUAREKILOMETERS!\", \"PYTHON_9.3\")\n",
    "end=time.time()\n",
    "print(f'time:{end-start}s')"
   ]
  },
  {
   "cell_type": "code",
   "execution_count": null,
   "metadata": {},
   "outputs": [],
   "source": [
    "arcpy.MakeFeatureLayer_management(a_iwBL_merge_with_BL, a_iwBL_merge_with_BL_lyr)\n",
    "# arcpy.AddField_management(a_iwBL_merge_with_BL_lyr, 'iwBL', \"short\")\n",
    "# calculateField(a_iwBL_merge_with_BL_lyr, \"iwBL\",1)\n",
    "# arcpy.AddField_management(a_iwBL_merge_with_BL_lyr, 'Continent', \"Text\")\n",
    "# cal_continent(a_iwBL_merge_with_BL_lyr)\n",
    "# arcpy.AddField_management(a_iwBL_merge_with_BL_lyr, 'flag', \"short\")"
   ]
  },
  {
   "cell_type": "code",
   "execution_count": null,
   "metadata": {},
   "outputs": [],
   "source": [
    "# arcpy.management.Delete(a_iwBL_merge_with_BL_raw)\n",
    "selectByLocation(a_iwBL_merge_with_BL_lyr, 'INTERSECT', GLAKES_natural_lake)\n",
    "calculateField(a_iwBL_merge_with_BL_lyr, \"flag\",1)\n",
    "selectByLocation(a_iwBL_merge_with_BL_lyr, 'INTERSECT', GLAKES_Res)\n",
    "calculateField(a_iwBL_merge_with_BL_lyr, \"flag\",2)"
   ]
  },
  {
   "cell_type": "code",
   "execution_count": null,
   "metadata": {},
   "outputs": [],
   "source": [
    "input_table_b_list=[]\n",
    "for i in range(0,6):\n",
    "    continent=seven_continents[i]\n",
    "    selectByAttribute(a_iwBL_merge_with_BL_lyr,'NEW_SELECTION',f\"Continent = '{continent}'\")\n",
    "    \n",
    "    selectByAttribute(lakes_iwBR_afm_lyr,'NEW_SELECTION',f\"iwBL = 0 AND Continent = '{continent}'\")\n",
    "    lakes_niwBR_afm=os.path.join(after_mask_gdb,'lakes_'+continent+'_niwBR_afterMask')\n",
    "    lakes_niwBR_afm_lyr='lakes_'+continent+'_niwBR_afm'\n",
    "    arcpy.MakeFeatureLayer_management(lakes_niwBR_afm,lakes_niwBR_afm_lyr)\n",
    "    \n",
    "    selectByAttribute(lakes_niwBR_afm_lyr,'NEW_SELECTION',f\"iwBL = 0\")\n",
    "    b_lake_afm_merge_with_BL=os.path.join(mwBL_gdb,f'b{i+1}_{continent}_polygon_afm_mwBL')\n",
    "    b_lake_afm_merge_with_BL_lyr=f'b{i+1}_{continent}_lake_afm_merge_with_BL'\n",
    "    \n",
    "    field_list=['area','operate','iwBL','flag']\n",
    "    fieldmappings = arcpy.FieldMappings()\n",
    "    fieldmappings_all = arcpy.FieldMappings()\n",
    "    fieldmappings_all.addTable(lakes_niwBR_afm_lyr)\n",
    "    for field_i in field_list:\n",
    "        field_idx = fieldmappings_all.findFieldMapIndex(field_i)\n",
    "        fieldmappings.addFieldMap(fieldmappings_all.getFieldMap(field_idx))\n",
    "        \n",
    "    arcpy.Merge_management([a_iwBL_merge_with_BL_lyr,lakes_niwBR_afm_lyr,lakes_iwBR_afm_lyr],b_lake_afm_merge_with_BL,field_mappings=fieldmappings)\n",
    "    arcpy.MakeFeatureLayer_management(b_lake_afm_merge_with_BL, b_lake_afm_merge_with_BL_lyr)\n",
    "    #选出和big lake合并的湖泊及原先flag=3、4的湖泊，赋值2\n",
    "    selectByAttribute(b_lake_afm_merge_with_BL_lyr,'NEW_SELECTION','flag > 2 OR flag = 0 OR flag IS NULL')\n",
    "    selectByLocation(b_lake_afm_merge_with_BL_lyr, 'INTERSECT', GLAKES_gte1_Rser_lyr,'SUBSET_SELECTION')\n",
    "    calculateField(b_lake_afm_merge_with_BL_lyr, \"flag\",2.5)\n",
    "    selectByAttribute(b_lake_afm_merge_with_BL_lyr,'NEW_SELECTION','')\n",
    "    \n",
    "    out_table=os.path.join(stastics_gdb,f'{stastic_v}_{continent}_lakes_merge_with_BL_stastics')\n",
    "    input_table_b_list.append(out_table)\n",
    "    arcpy.analysis.Statistics(b_lake_afm_merge_with_BL_lyr, out_table, [['area',\"sum\"]], ['flag']) \n",
    "\n",
    "file_name=f'{stastic_v}_sum_lakes_afm_mwBL_stastics.xls'\n",
    "Output_Excel_File=os.path.join(excel_dir,file_name)\n",
    "arcpy.conversion.TableToExcel(input_table_b_list, Output_Excel_File)"
   ]
  },
  {
   "cell_type": "markdown",
   "metadata": {},
   "source": [
    "## 3，将b结果与big_GLAKES合并，得到的数据存在mwBG.gdb"
   ]
  },
  {
   "cell_type": "markdown",
   "metadata": {},
   "source": [
    "### 3.1 合并"
   ]
  },
  {
   "cell_type": "code",
   "execution_count": null,
   "metadata": {},
   "outputs": [],
   "source": [
    "merge_list_BG=[]\n",
    "start=time.time()\n",
    "for i in range(0,6):\n",
    "    continent=seven_continents[i]\n",
    "    b_lake_afm_merge_with_BL=os.path.join(mwBL_gdb,f'b{i+1}_{continent}_polygon_afm_mwBL')\n",
    "    b_lake_afm_merge_with_BL_lyr=f'b{i+1}_{continent}_lake_afm_merge_with_BL'\n",
    "    arcpy.MakeFeatureLayer_management(b_lake_afm_merge_with_BL, b_lake_afm_merge_with_BL_lyr)\n",
    "    selectByAttribute(b_lake_afm_merge_with_BL_lyr,'NEW_SELECTION',\"flag > 0 and flag < 3\")\n",
    "    merge_list_BG.append(b_lake_afm_merge_with_BL_lyr)\n",
    "arcpy.Merge_management(merge_list_BG,b_iwBG)\n",
    "arcpy.MakeFeatureLayer_management(b_iwBG, b_iwBG_lyr)\n",
    "arcpy.management.FeatureToPoint(b_iwBG_lyr,b_iwBG_point,'INSIDE')\n",
    "arcpy.MakeFeatureLayer_management(b_iwBG_point, b_iwBG_point_lyr)\n",
    "arcpy.Merge_management([b_iwBG_lyr,GLAKES_gte1_Rser_lyr],b_iwBG_merge_with_BG_raw)#GLAKES_gte1_lyr\n",
    "end=time.time()\n",
    "print(f'time:{end-start}s')"
   ]
  },
  {
   "cell_type": "code",
   "execution_count": null,
   "metadata": {},
   "outputs": [],
   "source": [
    "start=time.time()\n",
    "arcpy.MakeFeatureLayer_management(b_iwBG_merge_with_BG_raw, b_iwBG_merge_with_BG_raw_lyr)\n",
    "print('start Dissolve')\n",
    "arcpy.Dissolve_management(b_iwBG_merge_with_BG_raw_lyr, b_iwBG_merge_with_BG,\"\", \"\", \"SINGLE_PART\")# dissolve copylake\n",
    "arcpy.MakeFeatureLayer_management(b_iwBG_merge_with_BG, b_iwBG_merge_with_BG_lyr)\n",
    "end=time.time()\n",
    "print(f'time:{end-start}s')"
   ]
  },
  {
   "cell_type": "code",
   "execution_count": null,
   "metadata": {},
   "outputs": [],
   "source": [
    "arcpy.management.Delete(b_iwBG_merge_with_BG_raw)\n",
    "# arcpy.MakeFeatureLayer_management(b_iwBG_merge_with_BG, b_iwBG_merge_with_BG_lyr)"
   ]
  },
  {
   "cell_type": "markdown",
   "metadata": {},
   "source": [
    "### 3.2 匹配湖泊对应的GLAKES Lake_id"
   ]
  },
  {
   "cell_type": "code",
   "execution_count": null,
   "metadata": {},
   "outputs": [],
   "source": [
    "fieldmappings_all = arcpy.FieldMappings()\n",
    "fieldmappings_all.addTable(GLAKES_gte1_Rser_point_lyr)\n",
    "\n",
    "#包含的面积最大的GLAKES的Lake_id\n",
    "field_idx = fieldmappings_all.findFieldMapIndex('Lake_id')\n",
    "fieldmappings = arcpy.FieldMappings()\n",
    "fieldmappings.addFieldMap(fieldmappings_all.getFieldMap(field_idx))\n",
    "Lake_id_idx = fieldmappings.findFieldMapIndex(\"Lake_id\")\n",
    "Lake_id_fieldmap = fieldmappings.getFieldMap(Lake_id_idx)\n",
    "Lake_id_fieldmap.mergeRule = \"min\"\n",
    "fieldmappings.replaceFieldMap(Lake_id_idx, Lake_id_fieldmap)\n",
    "\n",
    "print('Conduct spatial join')\n",
    "arcpy.SpatialJoin_analysis(b_iwBG_merge_with_BG_lyr, GLAKES_gte1_Rser_point_lyr, b_iwBG_merge_with_BG_SJ, \"JOIN_ONE_TO_ONE\",\n",
    "                           \"KEEP_ALL\", fieldmappings, \"CONTAINS\")\n",
    "arcpy.MakeFeatureLayer_management(b_iwBG_merge_with_BG_SJ,b_iwBG_merge_with_BG_SJ_lyr)"
   ]
  },
  {
   "cell_type": "code",
   "execution_count": null,
   "metadata": {},
   "outputs": [],
   "source": [
    "##解决GLAKES 八连通湖泊 不一致的问题\n",
    "fieldmappings = arcpy.FieldMappings()\n",
    "fieldmappings_all = arcpy.FieldMappings()\n",
    "fieldmappings_all.addTable(GLAKES_gte1_Rser_lyr)\n",
    "\n",
    "field_idx = fieldmappings_all.findFieldMapIndex('Lake_id')\n",
    "fieldmappings.addFieldMap(fieldmappings_all.getFieldMap(field_idx))\n",
    "Lake_id_idx = fieldmappings.findFieldMapIndex(\"Lake_id\")\n",
    "Lake_id_fieldmap = fieldmappings.getFieldMap(Lake_id_idx)\n",
    "Lake_id_fieldmap.mergeRule = \"min\"\n",
    "fieldmappings.replaceFieldMap(Lake_id_idx, Lake_id_fieldmap)\n",
    "\n",
    "selectByAttribute(b_iwBG_merge_with_BG_SJ_lyr,\"NEW_SELECTION\",\"Lake_id IS NULL\")\n",
    "print('Conduct spatial join')\n",
    "arcpy.SpatialJoin_analysis(b_iwBG_merge_with_BG_SJ_lyr, GLAKES_gte1_Rser_lyr, b_iwBG_merge_with_BG_SJ_SJ, \"JOIN_ONE_TO_ONE\",\n",
    "                           \"KEEP_ALL\", fieldmappings, \"LARGEST_OVERLAP\")"
   ]
  },
  {
   "cell_type": "code",
   "execution_count": null,
   "metadata": {},
   "outputs": [],
   "source": [
    "arcpy.management.AddJoin(b_iwBG_merge_with_BG_SJ_lyr,'OBJECTID','b_iwBG_merge_with_BG_SJ_SJ','TARGET_FID')\n",
    "arcpy.CalculateField_management(b_iwBG_merge_with_BG_SJ_lyr,'b_iwBG_merge_with_BG_SJ.Lake_id','!b_iwBG_merge_with_BG_SJ_SJ.Lake_id!')\n",
    "arcpy.management.RemoveJoin(b_iwBG_merge_with_BG_SJ_lyr)"
   ]
  },
  {
   "cell_type": "code",
   "execution_count": null,
   "metadata": {},
   "outputs": [],
   "source": [
    "arcpy.Dissolve_management(b_iwBG_merge_with_BG_SJ_lyr, b_iwBG_merge_with_BG_SJ_dissolve,\"Lake_id\")\n",
    "arcpy.MakeFeatureLayer_management(b_iwBG_merge_with_BG_SJ_dissolve, b_iwBG_merge_with_BG_SJ_dissolve_lyr)\n",
    "arcpy.AddField_management(b_iwBG_merge_with_BG_SJ_dissolve_lyr,\"lake_area\",\"Double\")\n",
    "arcpy.CalculateField_management(b_iwBG_merge_with_BG_SJ_dissolve_lyr, \"lake_area\",  \"!shape.geodesicArea@SQUAREKILOMETERS!\", \"PYTHON_9.3\")"
   ]
  },
  {
   "cell_type": "markdown",
   "metadata": {},
   "source": [
    "### 3.3 统计包含的GLAKES 湖泊面积"
   ]
  },
  {
   "cell_type": "code",
   "execution_count": null,
   "metadata": {},
   "outputs": [],
   "source": [
    "fieldmappings = arcpy.FieldMappings()\n",
    "fieldmappings_all = arcpy.FieldMappings()\n",
    "fieldmappings_all.addTable(b_iwBG_merge_with_BG_SJ_dissolve_lyr)\n",
    "field_idx = fieldmappings_all.findFieldMapIndex('Lake_id')\n",
    "fieldmappings.addFieldMap(fieldmappings_all.getFieldMap(field_idx))\n",
    "fieldmappings_all.addTable(GLAKES_gte1_Rser_point_lyr)\n",
    "field_list=['lake_area','Area_bound']\n",
    "for field_i in field_list:\n",
    "    field_idx = fieldmappings_all.findFieldMapIndex(field_i)\n",
    "    fieldmappings.addFieldMap(fieldmappings_all.getFieldMap(field_idx))\n",
    "Area_bound_idx = fieldmappings.findFieldMapIndex(\"Area_bound\")\n",
    "Area_bound_fieldmap = fieldmappings.getFieldMap(Area_bound_idx)\n",
    "Area_bound_fieldmap.mergeRule = \"sum\"\n",
    "fieldmappings.replaceFieldMap(Area_bound_idx, Area_bound_fieldmap)\n",
    "arcpy.SpatialJoin_analysis(b_iwBG_merge_with_BG_SJ_dissolve_lyr, GLAKES_gte1_Rser_point_lyr, b_iwBG_merge_with_BG_SJ_GLAKES_SJ, \"JOIN_ONE_TO_ONE\",\n",
    "                           \"KEEP_ALL\", fieldmappings, \"CONTAINS\")"
   ]
  },
  {
   "cell_type": "code",
   "execution_count": null,
   "metadata": {
    "scrolled": true
   },
   "outputs": [],
   "source": [
    "arcpy.MakeFeatureLayer_management(b_iwBG_merge_with_BG_SJ_GLAKES_SJ,b_iwBG_merge_with_BG_SJ_GLAKES_SJ_lyr)\n",
    "arcpy.AddField_management(b_iwBG_merge_with_BG_SJ_GLAKES_SJ_lyr, 'GLAKES_AR', \"DOUBLE\")#新建字段为面积比例\n",
    "arcpy.CalculateField_management(b_iwBG_merge_with_BG_SJ_GLAKES_SJ_lyr, 'GLAKES_AR', '!Area_bound!/!lake_area!', \"PYTHON3\")"
   ]
  },
  {
   "cell_type": "markdown",
   "metadata": {},
   "source": [
    "### 3.3 统计包含的merge前的湖泊面积"
   ]
  },
  {
   "cell_type": "code",
   "execution_count": null,
   "metadata": {},
   "outputs": [],
   "source": [
    "fieldmappings = arcpy.FieldMappings()\n",
    "fieldmappings_all = arcpy.FieldMappings()\n",
    "fieldmappings_all.addTable(b_iwBG_merge_with_BG_SJ_GLAKES_SJ_lyr)\n",
    "fieldmappings_all.addTable(b_iwBG_point_lyr)\n",
    "field_list=['lake_area','Lake_id','GLAKES_AR','area']\n",
    "for field_i in field_list:\n",
    "    field_idx = fieldmappings_all.findFieldMapIndex(field_i)\n",
    "    fieldmappings.addFieldMap(fieldmappings_all.getFieldMap(field_idx))\n",
    "area_idx = fieldmappings.findFieldMapIndex(\"area\")\n",
    "area_fieldmap = fieldmappings.getFieldMap(area_idx)\n",
    "area_fieldmap.mergeRule = \"sum\"\n",
    "fieldmappings.replaceFieldMap(area_idx, area_fieldmap)\n",
    "arcpy.SpatialJoin_analysis(b_iwBG_merge_with_BG_SJ_GLAKES_SJ_lyr, b_iwBG_point_lyr, b_iwBG_merge_with_BG_final, \"JOIN_ONE_TO_ONE\",\n",
    "                           \"KEEP_ALL\", fieldmappings, \"CONTAINS\")"
   ]
  },
  {
   "cell_type": "code",
   "execution_count": null,
   "metadata": {},
   "outputs": [],
   "source": [
    "arcpy.MakeFeatureLayer_management(b_iwBG_merge_with_BG_final,b_iwBG_merge_with_BG_final_lyr)\n",
    "# arcpy.AddField_management(b_iwBG_merge_with_BG_final_lyr, 'merge_AR', \"DOUBLE\")#新建字段为面积比例\n",
    "# arcpy.CalculateField_management(b_iwBG_merge_with_BG_final_lyr, 'merge_AR', '!area!/!lake_area!', \"PYTHON3\")"
   ]
  },
  {
   "cell_type": "code",
   "execution_count": null,
   "metadata": {},
   "outputs": [],
   "source": [
    "arcpy.DeleteField_management(b_iwBG_merge_with_BG_final_lyr, 'area')\n",
    "arcpy.AddField_management(b_iwBG_merge_with_BG_final_lyr, 'flag', \"DOUBLE\")\n",
    "selectByAttribute(b_iwBG_merge_with_BG_final_lyr,'NEW_SELECTION',\"merge_AR IS NOT NULL\")\n",
    "arcpy.CalculateField_management(b_iwBG_merge_with_BG_final_lyr, 'flag',2.5)\n",
    "selectByAttribute(b_iwBG_merge_with_BG_final_lyr,'NEW_SELECTION',\"merge_AR IS NULL\")\n",
    "selectByLocation(b_iwBG_merge_with_BG_final_lyr, 'INTERSECT', 'GLAKES_Res','SUBSET_SELECTION')\n",
    "arcpy.CalculateField_management(b_iwBG_merge_with_BG_final_lyr, 'flag',2)\n",
    "selectByAttribute(b_iwBG_merge_with_BG_final_lyr,'NEW_SELECTION',\"merge_AR IS NULL\")\n",
    "arcpy.CalculateField_management(b_iwBG_merge_with_BG_final_lyr, 'flag',1)\n",
    "cal_continent(b_iwBG_merge_with_BG_final_lyr)"
   ]
  },
  {
   "cell_type": "markdown",
   "metadata": {},
   "source": [
    "### 3.4 将不与GLAKES相交的湖泊与前面生成的结果合并，得到c"
   ]
  },
  {
   "cell_type": "code",
   "execution_count": null,
   "metadata": {},
   "outputs": [],
   "source": [
    "# input_table_mwBG_list=[]\n",
    "for i in range(5,6):#[1,3,4,5]:\n",
    "    continent=seven_continents[i]\n",
    "    print(continent)\n",
    "    b_lake_afm_merge_with_BL_lyr=f'b{i+1}_{continent}_lake_afm_merge_with_BL'\n",
    "    b_lake_afm_merge_with_BL=os.path.join(mwBL_gdb,f'b{i+1}_{continent}_polygon_afm_mwBL')\n",
    "    arcpy.MakeFeatureLayer_management(b_lake_afm_merge_with_BL,b_lake_afm_merge_with_BL_lyr)\n",
    "#     arcpy.AddField_management(b_lake_afm_merge_with_BL_lyr, 'lake_area', \"DOUBLE\")\n",
    "#     arcpy.CalculateField_management(b_lake_afm_merge_with_BL_lyr, 'lake_area','!area!')\n",
    "    \n",
    "    selectByAttribute(b_lake_afm_merge_with_BL_lyr,'NEW_SELECTION',\"flag IS NULL or flag = 0 OR flag>=3\")\n",
    "    selectByAttribute(b_iwBG_merge_with_BG_final_lyr,'NEW_SELECTION',f\"Continent = '{continent}'\")\n",
    "    \n",
    "    c_lake_afm_mw_BL_BG=os.path.join(mwBG_gdb,f'c{i+1}_{continent}_polygon_afm_mwBL_BG')\n",
    "    c_lake_afm_mw_BL_BG_lyr=f'c{i+1}_{continent}_lake_afm_mw_BL_BG'\n",
    "    \n",
    "    field_list=['lake_area','Lake_id','GLAKES_AR','merge_AR','flag','operate']\n",
    "    fieldmappings = arcpy.FieldMappings()\n",
    "    fieldmappings_all = arcpy.FieldMappings()\n",
    "    fieldmappings_all.addTable(b_lake_afm_merge_with_BL_lyr)#未mask\n",
    "    fieldmappings_all.addTable(b_iwBG_merge_with_BG_final_lyr)\n",
    "    for field_i in field_list:\n",
    "        field_idx = fieldmappings_all.findFieldMapIndex(field_i)\n",
    "        fieldmappings.addFieldMap(fieldmappings_all.getFieldMap(field_idx))\n",
    "    \n",
    "    arcpy.Merge_management([b_lake_afm_merge_with_BL_lyr,b_iwBG_merge_with_BG_final_lyr],c_lake_afm_mw_BL_BG,field_mappings=fieldmappings)\n",
    "    arcpy.MakeFeatureLayer_management(c_lake_afm_mw_BL_BG,c_lake_afm_mw_BL_BG_lyr)\n",
    "    selectByAttribute(c_lake_afm_mw_BL_BG_lyr,'NEW_SELECTION',\"\")\n",
    "    out_table=os.path.join(stastics_gdb,f'c{i+1}_{continent}_polygon_afm_mwBL_BG_stastics_{version}')\n",
    "    input_table_mwBG_list.append(out_table)\n",
    "    arcpy.analysis.Statistics(c_lake_afm_mw_BL_BG_lyr, out_table, [['lake_area',\"sum\"]], ['flag']) \n",
    "# file_name=f'sum_lakes_afm_mwBL_BG_stastics_{version}.xls'\n",
    "# Output_Excel_File=os.path.join(excel_dir,file_name)\n",
    "# arcpy.conversion.TableToExcel(input_table_mwBG_list, Output_Excel_File)    "
   ]
  },
  {
   "cell_type": "code",
   "execution_count": null,
   "metadata": {},
   "outputs": [],
   "source": [
    "arcpy.analysis.Statistics(c_lake_afm_mw_BL_BG_lyr, out_table, [['lake_area',\"sum\"]], ['flag']) "
   ]
  },
  {
   "cell_type": "code",
   "execution_count": null,
   "metadata": {},
   "outputs": [],
   "source": [
    "# input_table_mwBL_list=[]\n",
    "# input_table_mwBL_BG_list=[]\n",
    "# for i in range(0,6):\n",
    "#     b_lyr=b_lyr_list[i]\n",
    "#     continent=seven_continents[i]\n",
    "#     out_table_1=os.path.join(stastics_gdb,f'b{i+1}_{continent}_afm_mwBL_by_Continent_stastics')\n",
    "#     input_table_mwBL_list.append(out_table_1)\n",
    "#     c_lake_afm_mw_BL_BG=os.path.join( Cgdb,f'c{i+1}_{continent}_polygon_afm_mwBL_BG')\n",
    "#     c_lake_afm_mw_BL_BG_lyr=f'c{i+1}_{continent}_lake_afm_mw_BL_BG'\n",
    "# #     arcpy.MakeFeatureLayer_management(c_lake_afm_mw_BL_BG,c_lake_afm_mw_BL_BG_lyr)\n",
    "#     out_table=os.path.join(stastics_gdb,f'c{i+1}_{continent}_afm_mwBL_BG_by_Continent_stastics')\n",
    "#     input_table_mwBL_BG_list.append(out_table)\n",
    "# #     arcpy.analysis.Statistics(c_lake_afm_mw_BL_BG_lyr, out_table, [['area',\"sum\"]]) \n",
    "#     out_table_2=os.path.join(stastics_gdb,f'c{i+1}_{continent}_afm_mwBL_BG_by_Continent_stastics')\n",
    "#     input_table_mwBL_BG_list.append(out_table_2)\n",
    "    \n",
    "# Output_Excel_File=r'J:\\lakemapping\\postprocess\\v10_240710\\sum_afm_mwBL_classify_by_Continents_stastics.xls'\n",
    "# Output_Excel_File_2=r'J:\\lakemapping\\postprocess\\v10_240710\\sum_afm_mwBL_BG_classify_by_Continents_stastics.xls'\n",
    "# print(input_table_mwBL_BG_list)\n",
    "# arcpy.conversion.TableToExcel(input_table_mwBL_list, Output_Excel_File)\n",
    "# arcpy.conversion.TableToExcel(input_table_mwBL_BG_list, Output_Excel_File_2)"
   ]
  }
 ],
 "metadata": {
  "kernelspec": {
   "display_name": "ArcGISPro",
   "language": "Python",
   "name": "python3"
  },
  "language_info": {
   "file_extension": ".py",
   "name": "python",
   "version": "3"
  }
 },
 "nbformat": 4,
 "nbformat_minor": 2
}
