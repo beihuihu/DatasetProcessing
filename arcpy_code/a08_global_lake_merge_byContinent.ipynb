{
 "cells": [
  {
   "cell_type": "code",
   "execution_count": null,
   "metadata": {},
   "outputs": [],
   "source": [
    "import arcpy\n",
    "from arcpy.sa import *\n",
    "import os\n",
    "import time\n",
    "arcpy.env.overwriteOutput = True"
   ]
  },
  {
   "cell_type": "code",
   "execution_count": null,
   "metadata": {},
   "outputs": [],
   "source": [
    "# load input features and make layer\n",
    "version='v10_240710'\n",
    "output_dir = r'J:\\lakemapping\\postprocess\\v10_240710'\n",
    "after_mask_gdb=os.path.join(output_dir,'3_polygon_after_rivermask.gdb')\n",
    "stastics_gdb=os.path.join(output_dir,'0_summary_stastics.gdb')\n",
    "mwBL_gdb=os.path.join(output_dir,'4_polygon_afm_mergeWith_BigLake.gdb')\n",
    "mwBG_gdb=os.path.join(output_dir,'5_polygon_afm_mwBL_BigGLAKES.gdb')\n",
    "excel_dir=os.path.join(output_dir,'stastics_excel')\n",
    "if not os.path.exists(mwBL_gdb):\n",
    "    arcpy.CreateFileGDB_management(output_dir,'4_polygon_afm_mergeWith_BigLake.gdb')\n",
    "if not os.path.exists(mwBG_gdb):\n",
    "    arcpy.CreateFileGDB_management(output_dir,'5_polygon_afm_mwBL_BigGLAKES.gdb')\n",
    "if not os.path.exists(stastics_gdb):\n",
    "    arcpy.CreateFileGDB_management(output_dir,'0_summary_stastics.gdb')"
   ]
  },
  {
   "cell_type": "code",
   "execution_count": null,
   "metadata": {},
   "outputs": [],
   "source": [
    "a_iwBL_merge_with_BL_raw=os.path.join(after_mask_gdb,'total_lakes_afm_iwBL_merge_with_BigLakes_raw')\n",
    "a_iwBL_merge_with_BL=os.path.join(after_mask_gdb,'total_lakes_afm_iwBL_merge_with_BigLakes')\n",
    "a_iwBL_merge_with_BL_raw_lyr='lakes_afm_iwBL_mw_BL_raw'\n",
    "a_iwBL_merge_with_BL_lyr='lakes_afm_iwBL_mw_BL'\n",
    "b_iwBG_merge_with_BG_raw=os.path.join(mwBL_gdb,'lakes_afm_mwBL_iwBG_merge_with_BG_raw')\n",
    "b_iwBG_merge_with_BG=os.path.join(mwBL_gdb,'lakes_afm_mwBL_iwBG_merge_with_BG')\n",
    "b_iwBG_merge_with_BG_SJ=os.path.join(mwBL_gdb,'b_iwBG_merge_with_BG_SJ')\n",
    "b_iwBG_merge_with_BG_raw_lyr='lakes_afm_mwBL_iwBG_mw_BG_raw'\n",
    "b_iwBG_merge_with_BG_lyr='lakes_afm_mwBL_iwBG_mw_BG'\n",
    "b_iwBG_merge_with_BG_SJ_lyr='lakes_afm_mwBL_iwBG_mw_BG_SJ'"
   ]
  },
  {
   "cell_type": "code",
   "execution_count": null,
   "metadata": {},
   "outputs": [],
   "source": [
    "seven_continents=['Asia','Africa','Europe','Oceania_Anta','North_America','South_America']"
   ]
  },
  {
   "cell_type": "code",
   "execution_count": null,
   "metadata": {},
   "outputs": [],
   "source": [
    "def selectByLocation(inputFeature,overlapType,selectionFeature,selectionType='NEW_SELECTION'):\n",
    "    arcpy.SelectLayerByLocation_management(inputFeature,overlapType,selectionFeature,selection_type=selectionType)\n",
    "    \n",
    "def selectByAttribute(inputFeature,selectionType='NEW_SELECTION',code=''):\n",
    "    arcpy.management.SelectLayerByAttribute(inputFeature,selectionType,code)\n",
    "    \n",
    "def calculateField(inputFeature,field,code):\n",
    "    arcpy.CalculateField_management(inputFeature, field,code)"
   ]
  },
  {
   "cell_type": "code",
   "execution_count": null,
   "metadata": {},
   "outputs": [],
   "source": [
    "region_list=['eu','af','oc','island','greenland','sa_1','sa_2']\n",
    "for i in range(1,10):\n",
    "    region_list.append(f'as_{i}')\n",
    "    \n",
    "for i in range(1,7):\n",
    "    region_list.append(f'na_{i}')"
   ]
  },
  {
   "cell_type": "code",
   "execution_count": null,
   "metadata": {},
   "outputs": [],
   "source": [
    "big_lakes=os.path.join(after_mask_gdb,f'total_big_lakes')\n",
    "big_lakes_lyr=f'big_lakes'\n",
    "GLAKES_gte1=os.path.join(mwBL_gdb,'GLAKES_gte1')\n",
    "GLAKES_gte1_singlepart=os.path.join(mwBL_gdb,'GLAKES_gte1_singlepart')\n",
    "GLAKES_gte1_point=os.path.join(mwBL_gdb,'GLAKES_gte1_point')\n",
    "GLAKES_lt1=os.path.join(mwBL_gdb,'GLAKES_lt1')\n",
    "GLAKES_gte1_lyr='GLAKES_gte1'\n",
    "GLAKES_lt1_lyr='GLAKES_lt1'\n",
    "GLAKES_gte1_singlepart_lyr='GLAKES_gte1_singlepart'\n",
    "GLAKES_gte1_point_lyr='GLAKES_gte1_point'"
   ]
  },
  {
   "cell_type": "code",
   "execution_count": null,
   "metadata": {},
   "outputs": [],
   "source": [
    "continent=r'D:\\lakemapping\\0_auxiliary_data\\World_Continents\\World_Continents.shp'\n",
    "continent_lyr='continent'\n",
    "arcpy.MakeFeatureLayer_management(continent,continent_lyr)"
   ]
  },
  {
   "cell_type": "markdown",
   "metadata": {},
   "source": [
    "## 1， 对GLAKES进行分类，合并big_lakes"
   ]
  },
  {
   "cell_type": "code",
   "execution_count": null,
   "metadata": {},
   "outputs": [],
   "source": [
    "GLAKES=r'D:\\lakemapping\\0_auxiliary_data\\GLAKES\\GLAKES.gdb\\GLAKES'\n",
    "arcpy.MakeFeatureLayer_management(GLAKES,'GLAKES')\n",
    "selectByAttribute('GLAKES','NEW_SELECTION','\"Area_bound\" >= 1')\n",
    "arcpy.conversion.ExportFeatures('GLAKES',GLAKES_gte1)\n",
    "selectByAttribute('GLAKES','SWITCH_SELECTION','')\n",
    "arcpy.conversion.ExportFeatures('GLAKES',GLAKES_lt1)"
   ]
  },
  {
   "cell_type": "code",
   "execution_count": null,
   "metadata": {},
   "outputs": [],
   "source": [
    "arcpy.MakeFeatureLayer_management(GLAKES_gte1,GLAKES_gte1_lyr)\n",
    "arcpy.MakeFeatureLayer_management(GLAKES_lt1,GLAKES_lt1_lyr)"
   ]
  },
  {
   "cell_type": "code",
   "execution_count": null,
   "metadata": {},
   "outputs": [],
   "source": [
    "# arcpy.management.MultipartToSinglepart(GLAKES_gte1_lyr, GLAKES_gte1_singlepart)\n",
    "# arcpy.MakeFeatureLayer_management(GLAKES_gte1_singlepart,GLAKES_gte1_singlepart_lyr)\n",
    "arcpy.management.FeatureToPoint(GLAKES_gte1_singlepart,GLAKES_gte1_point,'INSIDE')\n",
    "arcpy.MakeFeatureLayer_management(GLAKES_gte1_point,GLAKES_gte1_point_lyr)"
   ]
  },
  {
   "cell_type": "code",
   "execution_count": null,
   "metadata": {},
   "outputs": [],
   "source": []
  },
  {
   "cell_type": "code",
   "execution_count": null,
   "metadata": {},
   "outputs": [],
   "source": [
    "big_lake_list=[]\n",
    "for region in region_list:\n",
    "    polygon_big_lake=os.path.join(after_mask_gdb,'big_lakes_'+region)\n",
    "    arcpy.MakeFeatureLayer_management(polygon_big_lake,'big_lakes_'+region)\n",
    "    big_lake_list.append('big_lakes_'+region)\n",
    "arcpy.Merge_management(big_lake_list,big_lakes)"
   ]
  },
  {
   "cell_type": "markdown",
   "metadata": {},
   "source": [
    "## 2，将mask后结果与big_lakes合并，得到的数据存在4_mwBL_gdb"
   ]
  },
  {
   "cell_type": "code",
   "execution_count": null,
   "metadata": {},
   "outputs": [],
   "source": [
    "arcpy.MakeFeatureLayer_management(big_lakes,big_lakes_lyr)"
   ]
  },
  {
   "cell_type": "code",
   "execution_count": null,
   "metadata": {},
   "outputs": [],
   "source": [
    "## 添加 Continent 及 iwBL 属性\n",
    "start=time.time()\n",
    "input_table_afm_list=[]\n",
    "for region in region_list:\n",
    "    lakes_afm=os.path.join(after_mask_gdb,'lakes_'+region+'_afterMask')\n",
    "    lakes_afm_lyr='lakes_'+region+'_afm'\n",
    "    arcpy.MakeFeatureLayer_management(lakes_afm,lakes_afm_lyr)\n",
    "#     arcpy.AddField_management(lakes_afm_lyr, 'Continent', \"Text\")\n",
    "#     arcpy.AddField_management(lakes_afm_lyr, 'iwBL', \"Short\")\n",
    "    selectByLocation(lakes_afm_lyr,'INTERSECT',big_lakes_lyr)\n",
    "    calculateField(lakes_afm_lyr,'iwBL',1)\n",
    "#     for i in range(0,6):\n",
    "#         continent=seven_continents[i]\n",
    "#         selectByAttribute(continent_lyr,'NEW_SELECTION',f\"Continent = '{continent}'\")\n",
    "#         selectByAttribute(lakes_afm_lyr,'NEW_SELECTION',\"Continent IS NULL\")\n",
    "#         selectByLocation(lakes_afm_lyr,'HAVE_THEIR_CENTER_IN',continent_lyr,'SUBSET_SELECTION')\n",
    "#         calculateField(lakes_afm_lyr,'Continent',f\"'{continent}'\")\n",
    "    selectByAttribute(lakes_afm_lyr,'NEW_SELECTION','')\n",
    "#     out_table=os.path.join(stastics_gdb,f'{region}_afm_by_Continent_stastics')\n",
    "    out_table=os.path.join(stastics_gdb,f'{region}_afm_by_Continent_stastics_{version}')\n",
    "    input_table_afm_list.append(out_table)\n",
    "    arcpy.analysis.Statistics(lakes_afm_lyr, out_table, [['area',\"sum\"]], ['Continent','iwBL']) \n",
    "#     selectByAttribute(lakes_afm_lyr,'NEW_SELECTION','iwBL IS NULL')\n",
    "#     calculateField(lakes_afm_lyr,'iwBL',0)\n",
    "print(input_table_afm_list)\n",
    "end=time.time()\n",
    "print(f'time:{end-start}s')"
   ]
  },
  {
   "cell_type": "code",
   "execution_count": null,
   "metadata": {},
   "outputs": [],
   "source": [
    "region='sa_2'\n",
    "lakes_afm=os.path.join(after_mask_gdb,'lakes_'+region+'_afterMask')\n",
    "lakes_afm_lyr='lakes_'+region+'_afm'\n",
    "arcpy.MakeFeatureLayer_management(lakes_afm,lakes_afm_lyr)\n",
    "# arcpy.AddField_management(lakes_afm_lyr, 'iwBL', \"Short\")\n",
    "selectByLocation(lakes_afm_lyr,'INTERSECT',big_lakes_lyr)\n",
    "# calculateField(lakes_afm_lyr,'iwBL',1)\n",
    "# selectByAttribute(lakes_afm_lyr,'NEW_SELECTION','iwBL IS NULL')\n",
    "# calculateField(lakes_afm_lyr,'iwBL,0)\n",
    "# selectByAttribute(lakes_afm_lyr,'NEW_SELECTION','')\n",
    "# out_table=os.path.join(stastics_gdb,f'{region}_afm_by_Continent_stastics_{version}')\n",
    "# # input_table_afm_list.append(out_table)\n",
    "# arcpy.analysis.Statistics(lakes_afm_lyr, out_table, [['area',\"sum\"]], ['Continent','iwBL']) "
   ]
  },
  {
   "cell_type": "code",
   "execution_count": null,
   "metadata": {},
   "outputs": [],
   "source": [
    "# Output_Excel_File=r'J:\\lakemapping\\postprocess\\v10_240710\\sum_afm_classify_by_Continents_stastics.xls'\n",
    "file_name=f'sum_lakes_afm_classify_by_Continents_stastics_{version}.xls'\n",
    "Output_Excel_File=os.path.join(excel_dir,file_name)\n",
    "arcpy.conversion.TableToExcel(input_table_afm_list, Output_Excel_File)"
   ]
  },
  {
   "cell_type": "code",
   "execution_count": null,
   "metadata": {},
   "outputs": [],
   "source": [
    "j=16"
   ]
  },
  {
   "cell_type": "code",
   "execution_count": null,
   "metadata": {},
   "outputs": [],
   "source": [
    "# region='island'\n",
    "# lakes_afm=os.path.join(after_mask_gdb,'lakes_'+region+'_afterMask')\n",
    "# lakes_afm_lyr='lakes_'+region+'_afm'\n",
    "# arcpy.MakeFeatureLayer_management(lakes_afm,lakes_afm_lyr)\n",
    "#     arcpy.AddField_management(lakes_afm_lyr, 'Continent', \"Text\")\n",
    "#     arcpy.AddField_management(lakes_afm_lyr, 'iwBL', \"Short\")\n",
    "#     selectByLocation(lakes_afm_lyr,'INTERSECT',big_lakes_lyr)\n",
    "#     calculateField(lakes_afm_lyr,'iwBL',1)\n",
    "# for i in range(0,6):\n",
    "#     continent=seven_continents[i]\n",
    "#     selectByAttribute(continent_lyr,'NEW_SELECTION',f\"Continent = '{continent}'\")\n",
    "#     selectByAttribute(lakes_afm_lyr,'NEW_SELECTION',\"Continent IS NULL\")\n",
    "#     selectByLocation(lakes_afm_lyr,'HAVE_THEIR_CENTER_IN',continent_lyr,'SUBSET_SELECTION')\n",
    "#     calculateField(lakes_afm_lyr,'Continent',f\"'{continent}'\")\n",
    "# selectByAttribute(lakes_afm_lyr,'NEW_SELECTION','')\n",
    "# out_table=os.path.join(stastics_gdb,f'{region}_afm_by_Continent_stastics')\n",
    "# input_table_afm_list.append(out_table)\n",
    "# arcpy.analysis.Statistics(lakes_afm_lyr, out_table, [['area',\"sum\"]], ['Continent']) \n",
    "# j=j+1\n",
    "# arcpy.Delete_management(lakes_afm_lyr)"
   ]
  },
  {
   "cell_type": "code",
   "execution_count": null,
   "metadata": {},
   "outputs": [],
   "source": [
    "afm_list=[]\n",
    "for region in region_list:\n",
    "    lakes_afm_lyr='lakes_'+region+'_afm'\n",
    "    lakes_afm=os.path.join(after_mask_gdb,'lakes_'+region+'_afterMask')\n",
    "    arcpy.MakeFeatureLayer_management(lakes_afm,lakes_afm_lyr)\n",
    "    afm_list.append(lakes_afm_lyr)\n",
    "    selectByAttribute(lakes_afm_lyr,'NEW_SELECTION',\"iwBL = 1\")"
   ]
  },
  {
   "cell_type": "code",
   "execution_count": null,
   "metadata": {},
   "outputs": [],
   "source": [
    "#把iwBL与big lake文件合并，并融合\n",
    "merge_list=afm_list.copy()\n",
    "merge_list.append(big_lakes_lyr)\n",
    "print(merge_list)\n",
    "start=time.time()\n",
    "arcpy.Merge_management(merge_list,a_iwBL_merge_with_BL_raw)\n",
    "arcpy.MakeFeatureLayer_management(a_iwBL_merge_with_BL_raw, a_iwBL_merge_with_BL_raw_lyr)#global_lakes_afm_merged_with_GBL\n",
    "end=time.time()\n",
    "print(f'time:{end-start}s')"
   ]
  },
  {
   "cell_type": "code",
   "execution_count": null,
   "metadata": {},
   "outputs": [],
   "source": [
    "# start=time.time()\n",
    "# print('start Dissolve')\n",
    "# arcpy.Dissolve_management(a_iwBL_merge_with_BL_raw_lyr, a_iwBL_merge_with_BL,\"\", \"\", \"SINGLE_PART\")#dissolve copylake\n",
    "# arcpy.MakeFeatureLayer_management(a_iwBL_merge_with_BL, a_iwBL_merge_with_BL_lyr)\n",
    "# arcpy.AddField_management(a_iwBL_merge_with_BL_lyr,\"area\",\"Double\")\n",
    "arcpy.CalculateField_management(a_iwBL_merge_with_BL_lyr, \"area\",  \"!shape.geodesicArea@SQUAREKILOMETERS!\", \"PYTHON_9.3\")\n",
    "end=time.time()\n",
    "print(f'time:{end-start}s')"
   ]
  },
  {
   "cell_type": "code",
   "execution_count": null,
   "metadata": {},
   "outputs": [],
   "source": [
    "arcpy.MakeFeatureLayer_management(a_iwBL_merge_with_BL, a_iwBL_merge_with_BL_lyr)"
   ]
  },
  {
   "cell_type": "code",
   "execution_count": null,
   "metadata": {},
   "outputs": [],
   "source": [
    "arcpy.AddField_management(a_iwBL_merge_with_BL_lyr, 'Continent', \"Text\")\n",
    "for i in range(0,6):\n",
    "    continent=seven_continents[i]\n",
    "    selectByAttribute(continent_lyr,'NEW_SELECTION',f\"Continent = '{continent}'\")\n",
    "    selectByAttribute(a_iwBL_merge_with_BL_lyr,'NEW_SELECTION',\"Continent IS NULL\")\n",
    "    selectByLocation(a_iwBL_merge_with_BL_lyr,'HAVE_THEIR_CENTER_IN',continent_lyr,'SUBSET_SELECTION')\n",
    "    calculateField(a_iwBL_merge_with_BL_lyr,'Continent',f\"'{continent}'\")"
   ]
  },
  {
   "cell_type": "code",
   "execution_count": null,
   "metadata": {},
   "outputs": [],
   "source": [
    "# continent_region_list=[[1,2,4,8,9,10,11,12,13,14,15,16],[2,4,16],[1,4,5,16],[3,4,15],[4,5,6,12,17,18,19,20,21,22],[4,6,7]]\n",
    "# b_lyr_list=[]\n",
    "# input_table_b_list=[]\n",
    "for i in range(0,6):\n",
    "    continent=seven_continents[i]\n",
    "#     continent_merge_list=[a_iwBL_merge_with_BL_lyr]\n",
    "#     for j in continent_region_list[i]:\n",
    "#         region_id=j-1#算错了\n",
    "#         selectByAttribute(afm_list[region_id],'NEW_SELECTION',f\"Continent = '{continent}' AND iwBL = 0\")\n",
    "#         continent_merge_list.append(afm_list[region_id])\n",
    "#     print(continent_merge_list)\n",
    "    \n",
    "#     selectByAttribute(a_iwBL_merge_with_BL_lyr,'NEW_SELECTION',f\"Continent = '{continent}'\")\n",
    "#     b_lake_afm_merge_with_BL=os.path.join(mwBL_gdb,f'b{i+1}_{continent}_polygon_afm_mwBL')\n",
    "    b_lake_afm_merge_with_BL_lyr=f'b{i+1}_{continent}_lake_afm_merge_with_BL'\n",
    "#     b_lyr_list.append(b_lake_afm_merge_with_BL_lyr)\n",
    "#     arcpy.Merge_management(continent_merge_list,b_lake_afm_merge_with_BL)\n",
    "#     arcpy.MakeFeatureLayer_management(b_lake_afm_merge_with_BL, b_lake_afm_merge_with_BL_lyr)\n",
    "#     arcpy.AddField_management(b_lake_afm_merge_with_BL_lyr, 'iwBG', \"Short\")\n",
    "#     selectByLocation(b_lake_afm_merge_with_BL_lyr,'INTERSECT',GLAKES_lt1_lyr)\n",
    "#     calculateField(b_lake_afm_merge_with_BL_lyr,'iwBG',1)\n",
    "#     selectByLocation(b_lake_afm_merge_with_BL_lyr,'INTERSECT',GLAKES_gte1_lyr,'SUBSET_SELECTION')\n",
    "#     calculateField(b_lake_afm_merge_with_BL_lyr,'iwBG',3)\n",
    "#     selectByAttribute(b_lake_afm_merge_with_BL_lyr,'NEW_SELECTION','iwBG IS NULL')\n",
    "#     selectByLocation(b_lake_afm_merge_with_BL_lyr,'INTERSECT',GLAKES_gte1_lyr,'SUBSET_SELECTION')\n",
    "#     calculateField(b_lake_afm_merge_with_BL_lyr,'iwBG',2)\n",
    "#     selectByAttribute(b_lake_afm_merge_with_BL_lyr,'NEW_SELECTION','iwBG IS NULL')\n",
    "#     calculateField(b_lake_afm_merge_with_BL_lyr,'iwBG',0)\n",
    "#     out_table=os.path.join(stastics_gdb,f'{continent}_lakes_merge_with_BL_stastics_{version}')\n",
    "#     input_table_b_list.append(out_table)\n",
    "#     selectByAttribute(b_lake_afm_merge_with_BL_lyr,'NEW_SELECTION','')\n",
    "#     arcpy.analysis.Statistics(b_lake_afm_merge_with_BL_lyr, out_table, [['area',\"sum\"]], ['iwBG']) \n",
    "\n",
    "    if (i==0 or i==2):\n",
    "        gdb=r'J:\\lakemapping\\postprocess\\dataset_for_check\\Asia_Europe\\dataset_Asia_Europe.gdb'\n",
    "    elif (i==1 or i==3 or i==5):\n",
    "        gdb=r'J:\\lakemapping\\postprocess\\dataset_for_check\\Africa_Oceania_South_America\\Africa_Oceania_South_America.gdb'\n",
    "    else:\n",
    "        gdb=r'J:\\lakemapping\\postprocess\\dataset_for_check\\North_America\\North_America.gdb'\n",
    "    new_b_lake_afm_merge_with_BL=os.path.join(gdb,f'b{i+1}_{continent}_polygon_afm_mwBL')\n",
    "    field_list=['area','operate','iwBG']\n",
    "    fieldmappings = arcpy.FieldMappings()\n",
    "    fieldmappings_all = arcpy.FieldMappings()\n",
    "    fieldmappings_all.addTable(b_lake_afm_merge_with_BL_lyr)\n",
    "    for field_i in field_list:\n",
    "        field_idx = fieldmappings_all.findFieldMapIndex(field_i)\n",
    "        fieldmappings.addFieldMap(fieldmappings_all.getFieldMap(field_idx))\n",
    "    arcpy.conversion.ExportFeatures(b_lake_afm_merge_with_BL_lyr,new_b_lake_afm_merge_with_BL,field_mapping=fieldmappings)"
   ]
  },
  {
   "cell_type": "code",
   "execution_count": null,
   "metadata": {},
   "outputs": [],
   "source": [
    "selectByLocation(b_lake_afm_merge_with_BL_lyr,'INTERSECT',GLAKES_lt1_lyr)"
   ]
  },
  {
   "cell_type": "code",
   "execution_count": null,
   "metadata": {},
   "outputs": [],
   "source": [
    "# out_table=os.path.join(stastics_gdb,f'{continent}_lakes_merge_with_BL_stastics_{version}')\n",
    "# # input_table_b_list.append(out_table)\n",
    "# selectByAttribute(b_lake_afm_merge_with_BL_lyr,'NEW_SELECTION','')\n",
    "# arcpy.analysis.Statistics(b_lake_afm_merge_with_BL_lyr, out_table, [['area',\"sum\"]], ['iwBG']) "
   ]
  },
  {
   "cell_type": "code",
   "execution_count": null,
   "metadata": {},
   "outputs": [],
   "source": [
    "file_name=f'sum_lakes_afm_mwBL_stastics_{version}.xls'\n",
    "Output_Excel_File=os.path.join(excel_dir,file_name)\n",
    "arcpy.conversion.TableToExcel(input_table_b_list, Output_Excel_File)"
   ]
  },
  {
   "cell_type": "markdown",
   "metadata": {},
   "source": [
    "## 3，将b结果与big_GLAKES合并，得到的数据存在mwBGgdb"
   ]
  },
  {
   "cell_type": "code",
   "execution_count": null,
   "metadata": {},
   "outputs": [],
   "source": [
    "#3.1 把iwBG与big GLAKES文件合并，并融合\n",
    "merge_list_BG=b_lyr_list.copy()\n",
    "merge_list_BG.append(GLAKES_gte1_lyr)\n",
    "print(merge_list_BG)\n",
    "\n",
    "start=time.time()\n",
    "for i in range(0,6):\n",
    "    b_lyr=b_lyr_list[i]\n",
    "    selectByAttribute(b_lyr,'NEW_SELECTION',\"iwBG > 1\")\n",
    "    \n",
    "arcpy.Merge_management(merge_list_BG,b_iwBG_merge_with_BG_raw)\n",
    "arcpy.MakeFeatureLayer_management(b_iwBG_merge_with_BG_raw, b_iwBG_merge_with_BG_raw_lyr)#global_lakes_afm_merged_with_GBL\n",
    "end=time.time()\n",
    "print(f'time:{end-start}s')"
   ]
  },
  {
   "cell_type": "code",
   "execution_count": null,
   "metadata": {},
   "outputs": [],
   "source": [
    "start=time.time()\n",
    "print('start Dissolve')\n",
    "arcpy.Dissolve_management(b_iwBG_merge_with_BG_raw_lyr, b_iwBG_merge_with_BG,\"\", \"\", \"SINGLE_PART\")# dissolve copylake\n",
    "arcpy.MakeFeatureLayer_management(b_iwBG_merge_with_BG, b_iwBG_merge_with_BG_lyr)\n",
    "arcpy.AddField_management(b_iwBG_merge_with_BG_lyr,\"area\",\"Double\")\n",
    "arcpy.CalculateField_management(b_iwBG_merge_with_BG_lyr, \"area\",  \"!shape.geodesicArea@SQUAREKILOMETERS!\", \"PYTHON_9.3\")\n",
    "end=time.time()\n",
    "print(f'time:{end-start}s')"
   ]
  },
  {
   "cell_type": "code",
   "execution_count": null,
   "metadata": {},
   "outputs": [],
   "source": [
    "arcpy.MakeFeatureLayer_management(b_iwBG_merge_with_BG, b_iwBG_merge_with_BG_lyr)"
   ]
  },
  {
   "cell_type": "code",
   "execution_count": null,
   "metadata": {},
   "outputs": [],
   "source": [
    "field_list=['area','Lake_id']\n",
    "fieldmappings = arcpy.FieldMappings()\n",
    "fieldmappings_all = arcpy.FieldMappings()\n",
    "fieldmappings_all.addTable(b_iwBG_merge_with_BG_lyr)#未mask\n",
    "fieldmappings_all.addTable(GLAKES_gte1_lyr)\n",
    "for field_i in field_list:\n",
    "        field_idx = fieldmappings_all.findFieldMapIndex(field_i)\n",
    "        fieldmappings.addFieldMap(fieldmappings_all.getFieldMap(field_idx))\n",
    "\n",
    "print('Conduct spatial join')\n",
    "arcpy.SpatialJoin_analysis(b_iwBG_merge_with_BG_lyr, GLAKES_gte1_point_lyr, b_iwBG_merge_with_BG_SJ, \"JOIN_ONE_TO_ONE\",\n",
    "                           \"KEEP_ALL\", fieldmappings, \"CONTAINS\")\n"
   ]
  },
  {
   "cell_type": "code",
   "execution_count": null,
   "metadata": {},
   "outputs": [],
   "source": [
    "# b_iwBG_merge_with_BG_SJ_lyr='b_iwBG_merge_with_BG_SJ_lyr'\n",
    "# arcpy.MakeFeatureLayer_management(b_iwBG_merge_with_BG_SJ,b_iwBG_merge_with_BG_SJ_lyr)"
   ]
  },
  {
   "cell_type": "code",
   "execution_count": null,
   "metadata": {},
   "outputs": [],
   "source": [
    "b_iwBG_merge_with_BG_SJ_SJ=os.path.join(mwBL_gdb,'b_iwBG_merge_with_BG_SJ_SJ')\n",
    "b_iwBG_merge_with_BG_SJ_SJ_lyr='b_iwBG_merge_with_BG_SJ_SJ'\n",
    "selectByAttribute(b_iwBG_merge_with_BG_SJ_lyr,,'NEW_SELECTION','Join_Count = 0')\n",
    "print('Conduct spatial join')\n",
    "arcpy.SpatialJoin_analysis(b_iwBG_merge_with_BG_SJ_lyr, GLAKES_gte1_lyr, b_iwBG_merge_with_BG_SJ_SJ, \"JOIN_ONE_TO_MORE\",\n",
    "                           \"KEEP_ALL\", fieldmappings, \"LARGEST_OVERLAP\")\n",
    "arcpy.MakeFeatureLayer_management(b_iwBG_merge_with_BG_SJ_SJ,b_iwBG_merge_with_BG_SJ_SJ_lyr)"
   ]
  },
  {
   "cell_type": "code",
   "execution_count": null,
   "metadata": {},
   "outputs": [],
   "source": [
    "# arcpy.management.AddJoin(b_iwBG_merge_with_BG_SJ_lyr,'OBJECTID',b_iwBG_merge_with_BG_SJ_SJ_lyr,'TARGET_FID',\"KEEP_COMMON\")"
   ]
  },
  {
   "cell_type": "code",
   "execution_count": null,
   "metadata": {},
   "outputs": [],
   "source": [
    "arcpy.AddField_management(b_iwBG_merge_with_BG_lyr, 'Continent', \"Text\")\n",
    "for i in range(1,6):\n",
    "    continent=seven_continents[i]\n",
    "    selectByAttribute(continent_lyr,'NEW_SELECTION',f\"Continent = '{continent}'\")\n",
    "    selectByAttribute(b_iwBG_merge_with_BG_lyr,'NEW_SELECTION',\"Continent IS NULL\")\n",
    "    selectByLocation(b_iwBG_merge_with_BG_lyr,'HAVE_THEIR_CENTER_IN',continent_lyr,'SUBSET_SELECTION')\n",
    "    calculateField(b_iwBG_merge_with_BG_lyr,'Continent',f\"'{continent}'\")"
   ]
  },
  {
   "cell_type": "code",
   "execution_count": null,
   "metadata": {},
   "outputs": [],
   "source": [
    "b_iwBG_merge_with_BG_SJ_dissolve=os.path.join(mwBL_gdb,'b_iwBG_merge_with_BG_SJ_dissolve')\n",
    "b_iwBG_merge_with_BG_SJ_dissolve_lyr='b_iwBG_merge_with_BG_SJ_dissolve'\n",
    "arcpy.Dissolve_management(b_iwBG_merge_with_BG_lyr, b_iwBG_merge_with_BG_dissolve,\"Lake_id\", \"\", \"SINGLE_PART\")#dissolve copylake\n",
    "arcpy.MakeFeatureLayer_management(b_iwBG_merge_with_BG_SJ_dissolve, b_iwBG_merge_with_BG_SJ_dissolve_lyr)"
   ]
  },
  {
   "cell_type": "code",
   "execution_count": null,
   "metadata": {},
   "outputs": [],
   "source": [
    "arcpy.AddField_management(b_iwBG_merge_with_BG_SJ_dissolve_lyr, 'Continent', \"Text\")\n",
    "for i in range(0,1):\n",
    "    continent=seven_continents[i]\n",
    "    selectByAttribute(continent_lyr,'NEW_SELECTION',f\"Continent = '{continent}'\")\n",
    "    selectByAttribute(b_iwBG_merge_with_BG_SJ_dissolve_lyr,'NEW_SELECTION',\"Continent IS NULL\")\n",
    "    selectByLocation(b_iwBG_merge_with_BG_SJ_dissolve_lyr,'HAVE_THEIR_CENTER_IN',continent_lyr,'SUBSET_SELECTION')\n",
    "    calculateField(b_iwBG_merge_with_BG_SJ_dissolve_lyr,'Continent',f\"'{continent}'\")"
   ]
  },
  {
   "cell_type": "code",
   "execution_count": null,
   "metadata": {},
   "outputs": [],
   "source": [
    "## 3.2 将niwGB与 3.1的结果合并生成c\n",
    "for i in range(0,6):\n",
    "    b_lyr=b_lyr_list[i]\n",
    "    continent=seven_continents[i]\n",
    "    selectByAttribute(b_lyr,'NEW_SELECTION',\"iwBG = 0\")\n",
    "    selectByAttribute(b_iwBG_merge_with_BG_SJ_dissolve_lyr,'NEW_SELECTION',f\"Continent = '{continent}'\")\n",
    "    c_lake_afm_mw_BL_BG=os.path.join(mwBG_gdb,f'c{i+1}_{continent}_polygon_afm_mwBL_BG')\n",
    "    c_lake_afm_mw_BL_BG_lyr=f'c{i+1}_{continent}_lake_afm_mw_BL_BG'\n",
    "    arcpy.Merge_management([b_lyr,b_iwBG_merge_with_BG_SJ_dissolve_lyr],c_lake_afm_mw_BL_BG,fieldmappings)\n",
    "    arcpy.MakeFeatureLayer_management(c_lake_afm_mw_BL_BG,c_lake_afm_mw_BL_BG_lyr)\n",
    "    #export to other place\n",
    "#     if (i==0 or i==2):\n",
    "#         gdb=r'J:\\lakemapping\\postprocess\\dataset_for_check\\Asia_Europe\\dataset_Asia_Europe.gdb'\n",
    "#     elif (i==1 or i==3 or i==5):\n",
    "#         gdb=r'J:\\lakemapping\\postprocess\\dataset_for_check\\Africa_Oceania_South_America\\Africa_Oceania_South_America.gdb'\n",
    "#     else:\n",
    "#         gdb=r'J:\\lakemapping\\postprocess\\dataset_for_check\\North_America\\North_America.gdb'\n",
    "#     new_c_lake_afm_mw_BL_BG=os.path.join(gdb,f'c{i+1}_{continent}_polygon_afm_mwBL_BG')\n",
    "#     field_list=['area','iwBG','operate','Lake_id']\n",
    "#     fieldmappings = arcpy.FieldMappings()\n",
    "#     fieldmappings_all = arcpy.FieldMappings()\n",
    "#     fieldmappings_all.addTable(b_lyr)#未mask\n",
    "#     fieldmappings_all.addTable(b_iwBG_merge_with_BG_SJ_dissolve_lyr)\n",
    "#     for field_i in field_list:\n",
    "#         field_idx = fieldmappings_all.findFieldMapIndex(field_i)\n",
    "#         fieldmappings.addFieldMap(fieldmappings_all.getFieldMap(field_idx))\n",
    "#     arcpy.conversion.ExportFeatures(c_lake_afm_mw_BL_BG_lyr,new_c_lake_afm_mw_BL_BG,field_mapping=fieldmappings)\n",
    "    "
   ]
  },
  {
   "cell_type": "code",
   "execution_count": null,
   "metadata": {},
   "outputs": [],
   "source": [
    "# input_table_mwBL_list=[]\n",
    "# input_table_mwBL_BG_list=[]\n",
    "# for i in range(0,6):\n",
    "#     b_lyr=b_lyr_list[i]\n",
    "#     continent=seven_continents[i]\n",
    "#     out_table_1=os.path.join(stastics_gdb,f'b{i+1}_{continent}_afm_mwBL_by_Continent_stastics')\n",
    "#     input_table_mwBL_list.append(out_table_1)\n",
    "#     c_lake_afm_mw_BL_BG=os.path.join( Cgdb,f'c{i+1}_{continent}_polygon_afm_mwBL_BG')\n",
    "#     c_lake_afm_mw_BL_BG_lyr=f'c{i+1}_{continent}_lake_afm_mw_BL_BG'\n",
    "# #     arcpy.MakeFeatureLayer_management(c_lake_afm_mw_BL_BG,c_lake_afm_mw_BL_BG_lyr)\n",
    "#     out_table=os.path.join(stastics_gdb,f'c{i+1}_{continent}_afm_mwBL_BG_by_Continent_stastics')\n",
    "#     input_table_mwBL_BG_list.append(out_table)\n",
    "# #     arcpy.analysis.Statistics(c_lake_afm_mw_BL_BG_lyr, out_table, [['area',\"sum\"]]) \n",
    "#     out_table_2=os.path.join(stastics_gdb,f'c{i+1}_{continent}_afm_mwBL_BG_by_Continent_stastics')\n",
    "#     input_table_mwBL_BG_list.append(out_table_2)\n",
    "    \n",
    "# Output_Excel_File=r'J:\\lakemapping\\postprocess\\v10_240710\\sum_afm_mwBL_classify_by_Continents_stastics.xls'\n",
    "# Output_Excel_File_2=r'J:\\lakemapping\\postprocess\\v10_240710\\sum_afm_mwBL_BG_classify_by_Continents_stastics.xls'\n",
    "# print(input_table_mwBL_BG_list)\n",
    "# arcpy.conversion.TableToExcel(input_table_mwBL_list, Output_Excel_File)\n",
    "# arcpy.conversion.TableToExcel(input_table_mwBL_BG_list, Output_Excel_File_2)"
   ]
  }
 ],
 "metadata": {
  "kernelspec": {
   "display_name": "ArcGISPro",
   "language": "Python",
   "name": "python3"
  },
  "language_info": {
   "file_extension": ".py",
   "name": "python",
   "version": "3"
  }
 },
 "nbformat": 4,
 "nbformat_minor": 2
}
