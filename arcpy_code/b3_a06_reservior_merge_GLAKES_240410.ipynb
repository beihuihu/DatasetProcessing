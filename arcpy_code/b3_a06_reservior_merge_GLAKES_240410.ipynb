{
 "cells": [
  {
   "cell_type": "code",
   "execution_count": 66,
   "metadata": {},
   "outputs": [],
   "source": [
    "import arcpy\n",
    "from arcpy.sa import *\n",
    "import os\n",
    "import time\n",
    "arcpy.env.overwriteOutput = True"
   ]
  },
  {
   "cell_type": "code",
   "execution_count": 68,
   "metadata": {},
   "outputs": [],
   "source": [
    "# load input features and make layer\n",
    "output_dir = r'J:\\lakemapping\\postprocess\\v5_240410'\n",
    "auxiliary_dataset_gdb=r'D:\\postprocess\\v240220\\auxiliary_dataset.gdb'\n",
    "after_mask_gdb=os.path.join(output_dir,f'3_polygon_after_rivermask.gdb')\n",
    "# region=\"asia_eu_af\"\n",
    "region='oc'\n",
    "raw_prediction_fn='lakes_'+region\n",
    "prefix=region"
   ]
  },
  {
   "cell_type": "code",
   "execution_count": 4,
   "metadata": {},
   "outputs": [
    {
     "data": {
      "text/html": [
       "<div class='gpresult'><h2>Messages</h2><div id='messages' data-messages='[\"Start Time: 2024年4月19日 21:42:20\",\"Succeeded at 2024年4月19日 21:42:20 (Elapsed Time: 0.01 seconds)\"]' data-show='true'><div id = 'default' /></div></div>"
      ],
      "text/plain": [
       "<Result 'GLAKES_natural_lake'>"
      ]
     },
     "execution_count": 4,
     "metadata": {},
     "output_type": "execute_result"
    }
   ],
   "source": [
    "GLAKES_Res=os.path.join(auxiliary_dataset_gdb,'GLAKES_Res')\n",
    "arcpy.MakeFeatureLayer_management(GLAKES_Res,'GLAKES_Res')\n",
    "\n",
    "GLAKES=os.path.join(auxiliary_dataset_gdb,r'D:\\lakemapping\\0_auxiliary_data\\GLAKES\\GLAKES\\GLAKES.gdb\\GLAKES')\n",
    "arcpy.MakeFeatureLayer_management(GLAKES,'GLAKES')\n",
    "\n",
    "osm_reservoir=os.path.join(auxiliary_dataset_gdb,'osm_as_natural_water_reservoir_dam')\n",
    "arcpy.MakeFeatureLayer_management(osm_reservoir,'osm_reservoir')\n",
    "\n",
    "GeoDAR=r'D:\\lakemapping\\0_auxiliary_data\\GeoDAR\\GeoDAR_v10_v11\\GeoDAR_v11_reservoirs.shp'\n",
    "arcpy.MakeFeatureLayer_management(GeoDAR,'GeoDAR')\n",
    "\n",
    "GLAKES_natural_lake=os.path.join(auxiliary_dataset_gdb,'GLAKES_gte1_natural_lake')\n",
    "arcpy.MakeFeatureLayer_management(GLAKES_natural_lake,'GLAKES_natural_lake')"
   ]
  },
  {
   "cell_type": "markdown",
   "metadata": {},
   "source": [
    "# Function"
   ]
  },
  {
   "cell_type": "code",
   "execution_count": 41,
   "metadata": {},
   "outputs": [],
   "source": [
    "def selectByLocation(inputFeature,overlapType,selectionFeature,selectionType='NEW_SELECTION'):\n",
    "    arcpy.SelectLayerByLocation_management(inputFeature,overlapType,selectionFeature,selection_type=selectionType)\n",
    "    \n",
    "def selectByAttribute(inputFeature,selectionType='NEW_SELECTION',code=''):\n",
    "    arcpy.management.SelectLayerByAttribute(inputFeature,selectionType,code)\n",
    "    \n",
    "def calculateField(inputFeature,field,code):\n",
    "    arcpy.CalculateField_management(inputFeature, field,code)\n",
    "\n",
    "    \n",
    "def normal_join(inputFeature,joinFeature,outputFeauture,field_list,outLayer):\n",
    "    print('Prepare the fieldmap for river mask spatial join')\n",
    "    fieldmappings = arcpy.FieldMappings()\n",
    "    fieldmappings_all = arcpy.FieldMappings()\n",
    "    fieldmappings_all.addTable(inputFeature)#未mask\n",
    "    fieldmappings_all.addTable(joinFeature)\n",
    "    for field_i in field_list:\n",
    "        field_idx = fieldmappings_all.findFieldMapIndex(field_i)\n",
    "        fieldmappings.addFieldMap(fieldmappings_all.getFieldMap(field_idx))\n",
    "        \n",
    "    area_idx = fieldmappings.findFieldMapIndex(\"area_mask\")\n",
    "    area_fieldmap = fieldmappings.getFieldMap(area_idx)\n",
    "    area_fieldmap.mergeRule = \"sum\"\n",
    "    fieldmappings.replaceFieldMap(area_idx, area_fieldmap)\n",
    "    \n",
    "    id_idx = fieldmappings.findFieldMapIndex(\"ORIG_FID\")\n",
    "    id_fieldmap = fieldmappings.getFieldMap(id_idx)\n",
    "    id_fieldmap.mergeRule = \"range\"\n",
    "    fieldmappings.replaceFieldMap(id_idx, id_fieldmap)\n",
    "    \n",
    "    flag_idx = fieldmappings.findFieldMapIndex(\"flag\")\n",
    "    flag_fieldmap = fieldmappings.getFieldMap(flag_idx)\n",
    "    flag_fieldmap.mergeRule = \"mode\"\n",
    "    fieldmappings.replaceFieldMap(flag_idx, flag_fieldmap)\n",
    "    \n",
    "    print('Conduct spatial join')\n",
    "    arcpy.SpatialJoin_analysis(inputFeature, joinFeature, outputFeauture, \"JOIN_ONE_TO_ONE\",\n",
    "                               \"KEEP_COMMON\", fieldmappings, \"SHARE_A_LINE_SEGMENT_WITH\")\n",
    "    lyr=outLayer\n",
    "    arcpy.MakeFeatureLayer_management(outputFeauture, lyr)\n",
    "                               \n",
    "def add_Res_flag(inputFeature):\n",
    "    selectByAttribute(inputFeature,'NEW_SELECTION', 'flag IS NULL OR \"flag\" = 0')\n",
    "    selectByLocation(inputFeature,'INTERSECT',osm_reservoir,'SUBSET_SELECTION')\n",
    "    arcpy.CalculateField_management(inputFeature, 'flag',  3)\n",
    "\n",
    "    selectByAttribute(inputFeature,'NEW_SELECTION', 'flag IS NULL OR \"flag\" = 0')\n",
    "    selectByLocation(inputFeature,'INTERSECT',GeoDAR,'SUBSET_SELECTION')\n",
    "    arcpy.CalculateField_management(inputFeature, 'flag',  4)\n",
    "\n",
    "def calculateOperateByAttribute(inputFeature,code,operate):\n",
    "    selectByAttribute(inputFeature,'NEW_SELECTION',code)\n",
    "    arcpy.CalculateField_management(inputFeature, 'operate',  operate)\n",
    "def calculateOperateByLocation(inputFeature,selectionFeature,operate,selectionType='NEW_SELECTION'):\n",
    "    selectByLocation(inputFeature,selectionType,selectionFeature)\n",
    "    arcpy.CalculateField_management(inputFeature, 'operate',operate)\n",
    "    "
   ]
  },
  {
   "cell_type": "markdown",
   "metadata": {},
   "source": [
    "# export"
   ]
  },
  {
   "cell_type": "code",
   "execution_count": 6,
   "metadata": {},
   "outputs": [
    {
     "ename": "ExecuteError",
     "evalue": "Failed to execute. Parameters are not valid.\nERROR 000732: Input Features: Dataset J:\\lakemapping\\postprocess\\v5_240410\\3_polygon_after_rivermask.gdb\\lakes_oc does not exist or is not supported\nWARNING 000725: Output Layer: Dataset lakes_asia_eu_af already exists.\nFailed to execute (MakeFeatureLayer).\n",
     "output_type": "error",
     "traceback": [
      "\u001b[0;31m---------------------------------------------------------------------------\u001b[0m\n\u001b[0;31mExecuteError\u001b[0m                              Traceback (most recent call last)",
      "In  \u001b[0;34m[6]\u001b[0m:\nLine \u001b[0;34m3\u001b[0m:     arcpy.MakeFeatureLayer_management(prediction,prediction_lyr)\n",
      "File \u001b[0;34mC:\\Program Files\\ArcGIS\\Pro\\Resources\\ArcPy\\arcpy\\management.py\u001b[0m, in \u001b[0;32mMakeFeatureLayer\u001b[0m:\nLine \u001b[0;34m9870\u001b[0m:  \u001b[34mraise\u001b[39;49;00m e\n",
      "File \u001b[0;34mC:\\Program Files\\ArcGIS\\Pro\\Resources\\ArcPy\\arcpy\\management.py\u001b[0m, in \u001b[0;32mMakeFeatureLayer\u001b[0m:\nLine \u001b[0;34m9867\u001b[0m:  retval = convertArcObjectToPythonObject(gp.MakeFeatureLayer_management(*gp_fixargs((in_features, out_layer, where_clause, workspace, field_info), \u001b[34mTrue\u001b[39;49;00m)))\n",
      "File \u001b[0;34mC:\\Program Files\\ArcGIS\\Pro\\Resources\\ArcPy\\arcpy\\geoprocessing\\_base.py\u001b[0m, in \u001b[0;32m<lambda>\u001b[0m:\nLine \u001b[0;34m512\u001b[0m:   \u001b[34mreturn\u001b[39;49;00m \u001b[34mlambda\u001b[39;49;00m *args: val(*gp_fixargs(args, \u001b[34mTrue\u001b[39;49;00m))\n",
      "\u001b[0;31mExecuteError\u001b[0m: Failed to execute. Parameters are not valid.\nERROR 000732: Input Features: Dataset J:\\lakemapping\\postprocess\\v5_240410\\3_polygon_after_rivermask.gdb\\lakes_oc does not exist or is not supported\nWARNING 000725: Output Layer: Dataset lakes_asia_eu_af already exists.\nFailed to execute (MakeFeatureLayer).\n\n\u001b[0;31m---------------------------------------------------------------------------\u001b[0m"
     ]
    }
   ],
   "source": [
    "# prediction=os.path.join(after_mask_gdb,raw_prediction_fn)\n",
    "# prediction_lyr='lakes_asia_eu_af'\n",
    "# arcpy.MakeFeatureLayer_management(prediction,prediction_lyr)"
   ]
  },
  {
   "cell_type": "code",
   "execution_count": 30,
   "metadata": {},
   "outputs": [
    {
     "data": {
      "text/html": [
       "<div class='gpresult'><h2>Messages</h2><div id='messages' data-messages='[\"Start Time: 2024年4月19日 22:04:58\",\"Succeeded at 2024年4月19日 22:04:58 (Elapsed Time: 0.01 seconds)\"]' data-show='true'><div id = 'default' /></div></div>"
      ],
      "text/plain": [
       "<Result 'lakes_oc'>"
      ]
     },
     "execution_count": 30,
     "metadata": {},
     "output_type": "execute_result"
    }
   ],
   "source": [
    "prediction=os.path.join(after_mask_gdb,raw_prediction_fn+'_afterMask')\n",
    "prediction_lyr='lakes_oc'\n",
    "arcpy.MakeFeatureLayer_management(prediction,prediction_lyr)"
   ]
  },
  {
   "cell_type": "code",
   "execution_count": 6,
   "metadata": {},
   "outputs": [],
   "source": [
    "# GLAKES_clip=os.path.join(after_mask_gdb,'GLAKES_clip_temp')\n",
    "# GLAKES_clip_split=os.path.join(after_mask_gdb,'GLAKES_clip_split')\n",
    "# GLAKES_clip_SJ=os.path.join(after_mask_gdb,'GLAKES_clip_SJ')"
   ]
  },
  {
   "cell_type": "code",
   "execution_count": 31,
   "metadata": {},
   "outputs": [],
   "source": [
    "GLAKES_clip=os.path.join(after_mask_gdb,'GLAKES_oc_clip_temp')\n",
    "GLAKES_clip_split=os.path.join(after_mask_gdb,'GLAKES_oc_clip_split')\n",
    "GLAKES_clip_SJ=os.path.join(after_mask_gdb,'GLAKES_oc_clip_SJ')"
   ]
  },
  {
   "cell_type": "code",
   "execution_count": 8,
   "metadata": {},
   "outputs": [],
   "source": [
    "# arcpy.AddField_management(prediction_lyr, 'flag', \"Short\")\n",
    "selectByAttribute(prediction_lyr,'NEW_SELECTION','\"flag\" IS NULL')\n",
    "selectByLocation(prediction_lyr,'INTERSECT',GLAKES_Res,\"SUBSET_SELECTION\")\n",
    "arcpy.CalculateField_management(prediction_lyr,'flag',2)\n",
    "selectByAttribute(prediction_lyr,'NEW_SELECTION','\"flag\" IS NULL')\n",
    "selectByLocation(prediction_lyr,'INTERSECT',osm_reservoir,\"SUBSET_SELECTION\")\n",
    "arcpy.CalculateField_management(prediction_lyr,'flag',3)\n",
    "selectByAttribute(prediction_lyr,'NEW_SELECTION','\"flag\" = 3')\n",
    "selectByLocation(prediction_lyr,'INTERSECT',GeoDAR,\"SUBSET_SELECTION\")\n",
    "arcpy.CalculateField_management(prediction_lyr,'flag',4)\n",
    "selectByAttribute(prediction_lyr,'NEW_SELECTION','')"
   ]
  },
  {
   "cell_type": "code",
   "execution_count": 146,
   "metadata": {},
   "outputs": [
    {
     "data": {
      "text/html": [
       "<div class='gpresult'><h2>Messages</h2><div id='messages' data-messages='[\"Start Time: 2024年4月16日 9:33:24\",\"Succeeded at 2024年4月16日 10:08:46 (Elapsed Time: 35 minutes 21 seconds)\"]' data-show='true'><div id = 'default' /></div></div>"
      ],
      "text/plain": [
       "<Result 'lakes_asia_eu'>"
      ]
     },
     "execution_count": 146,
     "metadata": {},
     "output_type": "execute_result"
    }
   ],
   "source": [
    "# arcpy.AddField_management(prediction_lyr, 'area', \"Double\")\n",
    "# arcpy.CalculateField_management(prediction_lyr, \"area\",  \"!shape.geodesicArea@SQUAREKILOMETERS!\", \"PYTHON_9.3\")"
   ]
  },
  {
   "cell_type": "code",
   "execution_count": 32,
   "metadata": {},
   "outputs": [],
   "source": [
    "selectByAttribute(prediction_lyr,'NEW_SELECTION','\"flag\" <> 0')"
   ]
  },
  {
   "cell_type": "code",
   "execution_count": 33,
   "metadata": {},
   "outputs": [],
   "source": [
    "selectByLocation('GLAKES','INTERSECT',prediction_lyr,\"NEW_SELECTION\")\n",
    "selectByAttribute('GLAKES','ADD_TO_SELECTION','\"Area_bound\">=1')"
   ]
  },
  {
   "cell_type": "code",
   "execution_count": 34,
   "metadata": {},
   "outputs": [],
   "source": [
    "selectByLocation(prediction_lyr,'INTERSECT','GLAKES',\"NEW_SELECTION\")"
   ]
  },
  {
   "cell_type": "code",
   "execution_count": 35,
   "metadata": {},
   "outputs": [
    {
     "data": {
      "text/html": [
       "<div class='gpresult'><h2>Messages</h2><div id='messages' data-messages='[\"Start Time: 2024年4月19日 22:07:52\",\"Succeeded at 2024年4月19日 22:07:52 (Elapsed Time: 0.13 seconds)\"]' data-show='true'><div id = 'default' /></div></div>"
      ],
      "text/plain": [
       "<Result 'GLAKES_clip_split'>"
      ]
     },
     "execution_count": 35,
     "metadata": {},
     "output_type": "execute_result"
    }
   ],
   "source": [
    "# arcpy.analysis.Clip('GLAKES',prediction_lyr,GLAKES_clip)\n",
    "# arcpy.management.MultipartToSinglepart(GLAKES_clip, GLAKES_clip_split)\n",
    "# arcpy.MakeFeatureLayer_management(GLAKES_clip_split,'GLAKES_clip_split')"
   ]
  },
  {
   "cell_type": "code",
   "execution_count": 36,
   "metadata": {},
   "outputs": [
    {
     "data": {
      "text/html": [
       "<div class='gpresult'><h2>Messages</h2><div id='messages' data-messages='[\"Start Time: 2024年4月19日 22:10:19\",\"Succeeded at 2024年4月19日 22:10:19 (Elapsed Time: 0.01 seconds)\"]' data-show='true'><div id = 'default' /></div></div>"
      ],
      "text/plain": [
       "<Result 'GLAKES_clip_split'>"
      ]
     },
     "execution_count": 36,
     "metadata": {},
     "output_type": "execute_result"
    }
   ],
   "source": [
    "arcpy.analysis.Clip(prediction_lyr,'GLAKES',GLAKES_clip)\n",
    "arcpy.management.MultipartToSinglepart(GLAKES_clip, GLAKES_clip_split)\n",
    "arcpy.MakeFeatureLayer_management(GLAKES_clip_split,'GLAKES_clip_split')"
   ]
  },
  {
   "cell_type": "code",
   "execution_count": 38,
   "metadata": {},
   "outputs": [
    {
     "name": "stdout",
     "output_type": "stream",
     "text": [
      "J:\\lakemapping\\postprocess\\v5_240410\\3_polygon_after_rivermask.gdb\\GLAKES_oc_clip_SJ\n"
     ]
    }
   ],
   "source": [
    "print(GLAKES_clip_SJ)"
   ]
  },
  {
   "cell_type": "code",
   "execution_count": 43,
   "metadata": {},
   "outputs": [
    {
     "name": "stdout",
     "output_type": "stream",
     "text": [
      "Prepare the fieldmap for river mask spatial join\n",
      "Conduct spatial join\n"
     ]
    },
    {
     "data": {
      "text/html": [
       "<div class='gpresult'><h2>Messages</h2><div id='messages' data-messages='[\"Start Time: 2024年4月19日 22:22:28\",\"Succeeded at 2024年4月19日 22:22:30 (Elapsed Time: 2.49 seconds)\"]' data-show='true'><div id = 'default' /></div></div>"
      ],
      "text/plain": [
       "<Result 'J:\\\\lakemapping\\\\postprocess\\\\v5_240410\\\\3_polygon_after_rivermask.gdb\\\\GLAKES_oc_clip_SJ'>"
      ]
     },
     "execution_count": 43,
     "metadata": {},
     "output_type": "execute_result"
    }
   ],
   "source": [
    "# arcpy.AddField_management('GLAKES_oc_clip_split', 'area_mask', \"Double\")\n",
    "# arcpy.CalculateField_management('GLAKES_oc_clip_split', \"area_mask\",  \"!shape.geodesicArea@SQUAREKILOMETERS!\", \"PYTHON_9.3\")\n",
    "normal_join('GLAKES','GLAKES_oc_clip_split',GLAKES_clip_SJ,[\"Area_bound\",\"ORIG_FID\",\"area_mask\",\"Rser_flag\",'f'],'GLAKES_oc_clip_SJ')\n",
    "    #计算比例\n",
    "arcpy.AddField_management(GLAKES_clip_SJ, 'area_ratio', \"DOUBLE\")#新建字段为面积比例\n",
    "arcpy.CalculateField_management(GLAKES_clip_SJ, 'area_ratio', '!area_mask!/!Area_bound!', \"PYTHON3\")"
   ]
  },
  {
   "cell_type": "code",
   "execution_count": 37,
   "metadata": {},
   "outputs": [],
   "source": [
    "# gridshp=r'D:\\postprocess\\GridShp_v240228.shp'\n",
    "# arcpy.MakeFeatureLayer_management(gridshp,'gridshp')\n",
    "# arcpy.MakeFeatureLayer_management(GLAKES_clip_SJ,'GLAKES_clip_SJ')\n",
    "# arcpy.AddField_management('GLAKES_clip_SJ', 'region', \"TEXT\")\n",
    "for i in range(2,10):\n",
    "    selectByAttribute('gridshp','NEW_SELECTION',f\"region = 'as_{i}'\")\n",
    "    selectByLocation('GLAKES_clip_SJ','HAVE_THEIR_CENTER_IN','gridshp',\"NEW_SELECTION\")\n",
    "    arcpy.CalculateField_management('GLAKES_clip_SJ','region',f\"'as_{i}'\")\n",
    "for r in ['eu','af']:\n",
    "    selectByAttribute('gridshp','NEW_SELECTION',f\"region = '{r}'\")\n",
    "    selectByLocation('GLAKES_clip_SJ','HAVE_THEIR_CENTER_IN','gridshp',\"NEW_SELECTION\")\n",
    "    arcpy.CalculateField_management('GLAKES_clip_SJ','region',f\"'{r}'\")"
   ]
  },
  {
   "cell_type": "code",
   "execution_count": 29,
   "metadata": {},
   "outputs": [],
   "source": []
  },
  {
   "cell_type": "code",
   "execution_count": 93,
   "metadata": {},
   "outputs": [
    {
     "data": {
      "text/html": [
       "<div class='gpresult'><h2>Messages</h2><div id='messages' data-messages='[\"Start Time: 2024年4月15日 11:23:55\",\"Reading Features...\",\"Processing Tiles...\",\"Assembling Tile Features...\",\"Succeeded at 2024年4月15日 11:31:50 (Elapsed Time: 7 minutes 54 seconds)\"]' data-show='true'><div id = 'default' /></div></div>"
      ],
      "text/plain": [
       "<Result 'J:\\\\lakemapping\\\\postprocess\\\\v5_240410\\\\3_polygon_after_rivermask.gdb\\\\lakes_eu_biglakeModel_clip_temp'>"
      ]
     },
     "execution_count": 93,
     "metadata": {},
     "output_type": "execute_result"
    }
   ],
   "source": [
    "lake_big_lake_clip_temp=lake_big_lake_clip+\"_temp\"\n",
    "arcpy.analysis.Clip(result_afm_lyr,lake_big_lake_lyr,lake_big_lake_clip_temp)"
   ]
  },
  {
   "cell_type": "code",
   "execution_count": 94,
   "metadata": {},
   "outputs": [
    {
     "data": {
      "text/html": [
       "<div class='gpresult'><h2>Messages</h2><div id='messages' data-messages='[\"Start Time: 2024年4月15日 11:32:08\",\"Succeeded at 2024年4月15日 11:32:08 (Elapsed Time: 0.01 seconds)\"]' data-show='true'><div id = 'default' /></div></div>"
      ],
      "text/plain": [
       "<Result 'eu_biglakeModel_clip'>"
      ]
     },
     "execution_count": 94,
     "metadata": {},
     "output_type": "execute_result"
    }
   ],
   "source": [
    "arcpy.management.MultipartToSinglepart(lake_big_lake_clip_temp, lake_big_lake_clip)\n",
    "arcpy.MakeFeatureLayer_management(lake_big_lake_clip,lake_big_lake_clip_lyr)"
   ]
  },
  {
   "cell_type": "code",
   "execution_count": 95,
   "metadata": {},
   "outputs": [
    {
     "name": "stdout",
     "output_type": "stream",
     "text": [
      "Prepare the fieldmap for river mask spatial join\n",
      "Conduct spatial join\n"
     ]
    },
    {
     "data": {
      "text/html": [
       "<div class='gpresult'><h2>Messages</h2><div id='messages' data-messages='[\"Start Time: 2024年4月15日 11:41:52\",\"Succeeded at 2024年4月15日 11:43:09 (Elapsed Time: 1 minutes 17 seconds)\"]' data-show='true'><div id = 'default' /></div></div>"
      ],
      "text/plain": [
       "<Result 'eu_biglakeModel_SJ'>"
      ]
     },
     "execution_count": 95,
     "metadata": {},
     "output_type": "execute_result"
    }
   ],
   "source": [
    "# arcpy.AddField_management(lake_big_lake_clip_lyr, 'area_arm', \"Double\")\n",
    "# arcpy.CalculateField_management(lake_big_lake_clip_lyr, \"area_arm\",  \"!shape.geodesicArea@SQUAREKILOMETERS!\", \"PYTHON_9.3\")\n",
    "normal_join(lake_big_lake_lyr,lake_big_lake_clip_lyr,big_lake_join,[\"area\",\"area_arm\",\"flag\",\"iwR\",\"operate_pre\",\"operate\"],big_lake_join_lyr)\n",
    "    #计算比例\n",
    "arcpy.AddField_management(big_lake_join_lyr, 'area_ratio_R', \"DOUBLE\")#新建字段为面积比例\n",
    "arcpy.CalculateField_management(big_lake_join_lyr, 'area_ratio_R', '!area_arm!/!area!', \"PYTHON3\")"
   ]
  },
  {
   "cell_type": "code",
   "execution_count": 118,
   "metadata": {},
   "outputs": [
    {
     "data": {
      "text/html": [
       "<div class='gpresult'><h2>Messages</h2><div id='messages' data-messages='[\"Start Time: 2024年4月15日 16:25:47\",\"Succeeded at 2024年4月15日 16:25:48 (Elapsed Time: 0.20 seconds)\"]' data-show='true'><div id = 'default' /></div></div>"
      ],
      "text/plain": [
       "<Result 'as_8_biglakeModel_SJ'>"
      ]
     },
     "execution_count": 118,
     "metadata": {},
     "output_type": "execute_result"
    }
   ],
   "source": [
    "arcpy.MakeFeatureLayer_management(big_lake_join,big_lake_join_lyr)"
   ]
  },
  {
   "cell_type": "code",
   "execution_count": 119,
   "metadata": {},
   "outputs": [
    {
     "data": {
      "text/html": [
       "<div class='gpresult'><h2>Messages</h2><div id='messages' data-messages='[\"Start Time: 2024年4月15日 16:26:20\",\"Dissolving...\",\"Succeeded at 2024年4月15日 16:30:27 (Elapsed Time: 4 minutes 7 seconds)\"]' data-show='true'><div id = 'default' /></div></div>"
      ],
      "text/plain": [
       "<Result 'J:\\\\lakemapping\\\\postprocess\\\\v5_240410\\\\3_polygon_after_rivermask.gdb\\\\lakes_eu_afterMask_merge'>"
      ]
     },
     "execution_count": 119,
     "metadata": {},
     "output_type": "execute_result"
    }
   ],
   "source": [
    "selectByAttribute(big_lake_join_lyr,'NEW_SELECTION','\"operate\"=1')\n",
    "result_afm_merge_temp=result_afm_merge+\"_temp\"\n",
    "merge_list=[result_afm_lyr,big_lake_join_lyr]\n",
    "fieldmappings = arcpy.FieldMappings()\n",
    "fieldmappings_all = arcpy.FieldMappings()\n",
    "fieldmappings_all.addTable(result_afm_lyr)\n",
    "field_list = ['area','iwR','flag','operate_pre']\n",
    "arcpy.Merge_management(merge_list,result_afm_merge_temp,fieldmappings)\n",
    "arcpy.Dissolve_management(result_afm_merge_temp,result_afm_merge,multi_part=\"SINGLE_PART\")"
   ]
  },
  {
   "cell_type": "code",
   "execution_count": 120,
   "metadata": {},
   "outputs": [
    {
     "data": {
      "text/html": [
       "<div class='gpresult'><h2>Messages</h2><div id='messages' data-messages='[\"Start Time: 2024年4月15日 16:30:30\",\"Succeeded at 2024年4月15日 16:43:45 (Elapsed Time: 13 minutes 15 seconds)\"]' data-show='true'><div id = 'default' /></div></div>"
      ],
      "text/plain": [
       "<Result 'as_8_afterMask_mege'>"
      ]
     },
     "execution_count": 120,
     "metadata": {},
     "output_type": "execute_result"
    }
   ],
   "source": [
    "arcpy.MakeFeatureLayer_management(result_afm_merge,result_afm_merge_lyr)\n",
    "arcpy.AddField_management(result_afm_merge_lyr, 'area', \"Double\")\n",
    "arcpy.CalculateField_management(result_afm_merge_lyr, \"area\",  \"!shape.geodesicArea@SQUAREKILOMETERS!\", \"PYTHON_9.3\")"
   ]
  },
  {
   "cell_type": "code",
   "execution_count": null,
   "metadata": {},
   "outputs": [],
   "source": []
  }
 ],
 "metadata": {
  "kernelspec": {
   "display_name": "ArcGISPro",
   "language": "Python",
   "name": "python3"
  },
  "language_info": {
   "file_extension": ".py",
   "name": "python",
   "version": "3"
  }
 },
 "nbformat": 4,
 "nbformat_minor": 2
}
