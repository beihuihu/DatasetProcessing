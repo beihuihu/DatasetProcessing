{
 "cells": [
  {
   "cell_type": "code",
   "execution_count": 1,
   "metadata": {},
   "outputs": [],
   "source": [
    "import arcpy\n",
    "from arcpy.sa import *\n",
    "import os\n",
    "import time\n",
    "arcpy.env.overwriteOutput = True"
   ]
  },
  {
   "cell_type": "code",
   "execution_count": 2,
   "metadata": {},
   "outputs": [],
   "source": [
    "version='v13_241021'\n",
    "sub_v=''\n",
    "# stastic_v=f'{version}_{sub_v}'\n",
    "stastic_v=f'{version}'\n",
    "output_dir = os.path.join(r'J:\\lakemapping\\postprocess',version)\n",
    "\n",
    "auxiliary_dataset_gdb=r'D:\\postprocess\\v240220\\auxiliary_dataset.gdb'\n",
    "mwBG_gdb=os.path.join(output_dir,f'5_polygon_afm_mwBL_BigGLAKES{sub_v}.gdb')\n",
    "temp_gdb=os.path.join(output_dir,'7_correct_temp_file.gdb')\n",
    "if not os.path.exists(temp_gdb):\n",
    "    arcpy.CreateFileGDB_management(output_dir,f'7_correct_temp_file.gdb')\n",
    "mwBG_point_gdb=os.path.join(output_dir,f'5_polygon_afm_mwBL_BigGLAKES{sub_v}_point.gdb')"
   ]
  },
  {
   "cell_type": "code",
   "execution_count": 3,
   "metadata": {},
   "outputs": [],
   "source": [
    "def selectByLocation(inputFeature,overlapType,selectionFeature,selectionType='NEW_SELECTION'):\n",
    "    arcpy.SelectLayerByLocation_management(inputFeature,overlapType,selectionFeature,selection_type=selectionType)\n",
    "    \n",
    "def selectByAttribute(inputFeature,selectionType='NEW_SELECTION',code=''):\n",
    "    arcpy.management.SelectLayerByAttribute(inputFeature,selectionType,code)\n",
    "    \n",
    "def calculateField(inputFeature,field,code):\n",
    "    arcpy.CalculateField_management(inputFeature, field,code)\n",
    "\n",
    "def cal_continent(lyr):\n",
    "    arcpy.AddField_management(lyr, 'Continent', \"Text\")\n",
    "    for i in range(0,6):\n",
    "        continent=seven_continents[i]\n",
    "        selectByAttribute(continent_lyr,'NEW_SELECTION',f\"Continent = '{continent}'\")\n",
    "        selectByAttribute(lyr,'NEW_SELECTION',\"Continent IS NULL\")\n",
    "        selectByLocation(lyr,'HAVE_THEIR_CENTER_IN',continent_lyr,'SUBSET_SELECTION')\n",
    "        calculateField(lyr,'Continent',f\"'{continent}'\")"
   ]
  },
  {
   "cell_type": "code",
   "execution_count": 4,
   "metadata": {},
   "outputs": [
    {
     "data": {
      "text/html": [
       "<div class='gpresult'><h2>Messages</h2><div id='messages' data-messages='[\"Start Time: 2024年11月2日 10:58:59\",\"Succeeded at 2024年11月2日 10:59:00 (Elapsed Time: 1.18 seconds)\"]' data-show='true'><div id = 'default' /></div></div>"
      ],
      "text/plain": [
       "<Result 'Global_grid_shp_1degree'>"
      ]
     },
     "execution_count": 4,
     "metadata": {},
     "output_type": "execute_result"
    }
   ],
   "source": [
    "grid=os.path.join(temp_gdb,'Global_grid_shp_1degree')\n",
    "grid_lyr='Global_grid_shp_1degree'\n",
    "arcpy.MakeFeatureLayer_management(grid,grid_lyr)"
   ]
  },
  {
   "cell_type": "code",
   "execution_count": 6,
   "metadata": {},
   "outputs": [],
   "source": [
    "eight_continents=['Asia','Siberia','Africa','Europe','Oceania_Anta','North_America','Arctic','South_America']"
   ]
  },
  {
   "cell_type": "code",
   "execution_count": null,
   "metadata": {},
   "outputs": [],
   "source": [
    "merge_list=[]  \n",
    "for i in range(0,8):#[1,3,4,5]:\n",
    "    continent=eight_continents[i]\n",
    "    print(continent)\n",
    "    c_lake_afm_mw_BL_BG_point=os.path.join(mwBG_point_gdb,f'c{i+1}_{continent}_polygon_afm_mwBL_BG_point')\n",
    "    c_lake_afm_mw_BL_BG_point_lyr=f'c{i+1}_{continent}_polygon_afm_mwBL_BG_point'\n",
    "    arcpy.MakeFeatureLayer_management(c_lake_afm_mw_BL_BG_point,c_lake_afm_mw_BL_BG_point_lyr)\n",
    "    merge_list.append(c_lake_afm_mw_BL_BG_point_lyr)\n",
    "\n",
    "for i in range(0,8):#[1,3,4,5]:\n",
    "    continent=eight_continents[i]\n",
    "    print(continent)\n",
    "    c_lake_afm_mw_BL_BG_point_lyr=f'c{i+1}_{continent}_polygon_afm_mwBL_BG_point'\n",
    "    selectByAttribute(c_lake_afm_mw_BL_BG_point_lyr,'NEW_SELECTION','lake_type = 1')\n",
    "global_lake_afm_mw_BL_BG_small_point=os.path.join(mwBG_point_gdb,'global_polygon_afm_mwBL_BG_point_small_lake')\n",
    "arcpy.Merge_management(merge_list,global_lake_afm_mw_BL_BG_small_point)\n",
    "\n",
    "for i in range(0,8):#[1,3,4,5]:\n",
    "    continent=eight_continents[i]\n",
    "    print(continent)\n",
    "    c_lake_afm_mw_BL_BG_point_lyr=f'c{i+1}_{continent}_polygon_afm_mwBL_BG_point'\n",
    "    selectByAttribute(c_lake_afm_mw_BL_BG_point_lyr,'NEW_SELECTION','lake_type = 2')\n",
    "global_lake_afm_mw_BL_BG_point=os.path.join(mwBG_point_gdb,'global_polygon_afm_mwBL_BG_point_median_lake')\n",
    "arcpy.Merge_management(merge_list,global_lake_afm_mw_BL_BG_point)\n",
    "\n",
    "for i in range(0,8):#[1,3,4,5]:\n",
    "    continent=eight_continents[i]\n",
    "    print(continent)\n",
    "    c_lake_afm_mw_BL_BG_point_lyr=f'c{i+1}_{continent}_polygon_afm_mwBL_BG_point'\n",
    "    selectByAttribute(c_lake_afm_mw_BL_BG_point_lyr,'NEW_SELECTION','lake_type = 3')\n",
    "global_lake_afm_mw_BL_BG_point=os.path.join(mwBG_point_gdb,'global_polygon_afm_mwBL_BG_point_big_lake')\n",
    "arcpy.Merge_management(merge_list,global_lake_afm_mw_BL_BG_point)"
   ]
  },
  {
   "cell_type": "code",
   "execution_count": 9,
   "metadata": {},
   "outputs": [
    {
     "name": "stdout",
     "output_type": "stream",
     "text": [
      "Arctic\n"
     ]
    }
   ],
   "source": [
    "for i in range(6,7):#[1,3,4,5]:\n",
    "    continent=eight_continents[i]\n",
    "    print(continent)\n",
    "    c_lake_afm_mw_BL_BG=os.path.join(mwBG_gdb,f'c{i+1}_{continent}_polygon_afm_mwBL_BG')\n",
    "    c_lake_afm_mw_BL_BG_lyr=f'c{i+1}_{continent}_lake_afm_mw_BL_BG'\n",
    "    c_lake_afm_mw_BL_BG_pi=os.path.join(temp_gdb,f'c{i+1}_{continent}_polygon_afm_mwBL_BG_pair_inter')\n",
    "    c_lake_afm_mw_BL_BG_pi_lyr=f'c{i+1}_{continent}_lake_afm_mw_BL_BG_pi'\n",
    "    arcpy.MakeFeatureLayer_management(c_lake_afm_mw_BL_BG,c_lake_afm_mw_BL_BG_lyr)\n",
    "#     c_lake_afm_mw_BL_BG_point=os.path.join(mwBG_point_gdb,f'c{i+1}_{continent}_polygon_afm_mwBL_BG_point')\n",
    "#     arcpy.management.FeatureToPoint(c_lake_afm_mw_BL_BG_lyr,c_lake_afm_mw_BL_BG_point,'INSIDE')\n",
    "    arcpy.analysis.PairwiseIntersect([c_lake_afm_mw_BL_BG_lyr,grid_lyr],c_lake_afm_mw_BL_BG_pi,'NO_FID')\n",
    "    arcpy.MakeFeatureLayer_management(c_lake_afm_mw_BL_BG_pi,c_lake_afm_mw_BL_BG_pi_lyr)\n",
    "    selectByLocation(c_lake_afm_mw_BL_BG_pi_lyr,'SHARE_A_LINE_SEGMENT_WITH',grid_lyr,'NEW_SELECTION')\n",
    "    arcpy.CalculateField_management(c_lake_afm_mw_BL_BG_pi_lyr,'lake_area', \"!shape.geodesicArea@SQUAREKILOMETERS!\", \"PYTHON_9.3\")\n",
    "\n",
    "    \n",
    "    c_lake_afm_mw_BL_BG_pi_point=os.path.join(mwBG_point_gdb,f'c{i+1}_{continent}_polygon_afm_mwBL_BG_pi_point')\n",
    "    selectByAttribute(c_lake_afm_mw_BL_BG_pi_lyr,'NEW_SELECTION','')\n",
    "    arcpy.management.FeatureToPoint(c_lake_afm_mw_BL_BG_pi_lyr,c_lake_afm_mw_BL_BG_pi_point,'INSIDE')"
   ]
  },
  {
   "cell_type": "code",
   "execution_count": 3,
   "metadata": {},
   "outputs": [
    {
     "name": "stdout",
     "output_type": "stream",
     "text": [
      "['different_area', 'PLD_eu_21', 'PLD_eu_29', 'PLD_eu_22', 'PLD_eu_28', 'PLD_eu_24', 'PLD_eu_25', 'PLD_eu_23', 'PLD_eu_27', 'PLD_eu_26', 'PLD_as_45', 'PLD_as_49', 'PLD_as_44', 'PLD_as_43', 'PLD_as_47', 'PLD_as_46', 'PLD_as_42', 'PLD_as_41', 'PLD_si_31', 'PLD_si_32', 'PLD_si_33', 'PLD_si_34', 'PLD_si_35', 'PLD_si_36', 'PLD_au_51', 'PLD_au_52', 'PLD_au_53', 'PLD_na_73', 'PLD_na_74', 'PLD_na_75', 'PLD_na_76', 'PLD_na_77', 'PLD_ar_81', 'PLD_ar_86', 'PLD_gr_91', 'PLD_ar_84', 'PLD_ar_82', 'PLD_na_78', 'PLD_af_14', 'PLD_af_11', 'PLD_af_12', 'PLD_af_13', 'PLD_af_15', 'PLD_af_16', 'PLD_af_17', 'PLD_af_18', 'PLD_au_56', 'PLD_au_54', 'PLD_au_55', 'PLD_au_57', 'PLD_sa_61', 'PLD_sa_62', 'PLD_sa_63', 'PLD_sa_65', 'PLD_sa_66', 'PLD_sa_67', 'PLD_sa_64', 'PLD_ar_85', 'PLD_na_72', 'PLD_ar_83', 'PLD_na_71', 'PLD_as_48', 'PLD_eu_22_point', 'PLD_eu_28_point', 'PLD_eu_24_point', 'PLD_eu_25_point', 'PLD_eu_23_point', 'PLD_eu_27_point', 'PLD_eu_26_point', 'PLD_as_45_point', 'PLD_as_49_point', 'PLD_as_44_point', 'PLD_as_43_point', 'PLD_as_47_point', 'PLD_as_46_point', 'PLD_as_42_point', 'PLD_as_41_point', 'PLD_si_31_point', 'PLD_si_32_point', 'PLD_si_33_point', 'PLD_si_34_point', 'PLD_si_35_point', 'PLD_si_36_point', 'PLD_au_51_point', 'PLD_au_52_point', 'PLD_au_53_point', 'PLD_na_73_point', 'PLD_na_74_point', 'PLD_na_75_point', 'PLD_na_76_point', 'PLD_na_77_point', 'PLD_ar_81_point', 'PLD_ar_86_point', 'PLD_gr_91_point', 'PLD_ar_84_point', 'PLD_ar_82_point', 'PLD_na_78_point', 'PLD_af_14_point', 'PLD_af_11_point', 'PLD_af_12_point', 'PLD_af_13_point', 'PLD_af_15_point', 'PLD_af_16_point', 'PLD_af_17_point', 'PLD_af_18_point', 'PLD_au_56_point', 'PLD_au_54_point', 'PLD_au_55_point', 'PLD_au_57_point', 'PLD_sa_61_point', 'PLD_sa_62_point', 'PLD_sa_63_point', 'PLD_sa_65_point', 'PLD_sa_66_point', 'PLD_sa_67_point', 'PLD_sa_64_point', 'PLD_ar_85_point', 'PLD_na_72_point', 'PLD_ar_83_point', 'PLD_na_71_point', 'PLD_as_48_point', 'PLD_eu_21_point', 'PLD_eu_29_point', 'PLD_SJ_1', 'PLD_SJ_2']\n"
     ]
    }
   ],
   "source": [
    "PLD_gdb=r'D:\\lakemapping\\9_analysis\\analysis.gdb'\n",
    "new_PLD_gdb=r'J:\\lakemapping\\PLD\\PLD.gdb'\n",
    "PLD_point_gdb=r'J:\\lakemapping\\PLD\\PLD_point.gdb'\n",
    "PLD_grid_gdb=r'J:\\lakemapping\\PLD\\PLD_grid.gdb'\n",
    "if not os.path.exists(PLD_point_gdb):\n",
    "    arcpy.CreateFileGDB_management(r'J:\\lakemapping\\PLD',f'PLD_point.gdb')\n",
    "if not os.path.exists(PLD_grid_gdb):\n",
    "    arcpy.CreateFileGDB_management(r'J:\\lakemapping\\PLD',f'PLD_grid.gdb')\n",
    "arcpy.env.workspace = PLD_gdb\n",
    "PLD = arcpy.ListFeatureClasses()\n",
    "print(PLD)"
   ]
  },
  {
   "cell_type": "code",
   "execution_count": 27,
   "metadata": {},
   "outputs": [],
   "source": [
    "for layer in PLD[1:2]:\n",
    "    PLD_data=os.path.join(PLD_gdb,layer)\n",
    "    PLD_data_layer='PLD'\n",
    "    arcpy.MakeFeatureLayer_management(PLD_data,PLD_data_layer)\n",
    "    PLD_data_point=os.path.join(PLD_gdb,layer+'_point')\n",
    "#     arcpy.management.FeatureToPoint(PLD_data_layer,PLD_data_point,'INSIDE')\n",
    "    PLD_data_pi=os.path.join(PLD_grid_gdb,layer+'_pairwise_intersect')\n",
    "#     arcpy.analysis.PairwiseIntersect([PLD_data_layer, grid_lyr],PLD_data_pi,join_attributes='NO_FID')\n",
    "    PLD_data_pi_lyr=f'{layer}_data_pi'\n",
    "    arcpy.MakeFeatureLayer_management(PLD_data_pi,PLD_data_pi_lyr)\n",
    "    selectByLocation(PLD_data_pi_lyr,'SHARE_A_LINE_SEGMENT_WITH',grid_lyr,'NEW_SELECTION')\n",
    "    arcpy.CalculateField_management(PLD_data_pi_lyr,'ref_area', \"!shape.geodesicArea@SQUAREKILOMETERS!\", \"PYTHON_9.3\")\n",
    "    PLD_data_pi_point=os.path.join(PLD_point_gdb,layer+'_pi_point')\n",
    "    selectByAttribute(PLD_data_pi_lyr,\"NEW_SELECTION\",\"\")\n",
    "    arcpy.management.FeatureToPoint(PLD_data_pi_lyr,PLD_data_pi_point,'INSIDE')"
   ]
  },
  {
   "cell_type": "code",
   "execution_count": 31,
   "metadata": {},
   "outputs": [
    {
     "data": {
      "text/html": [
       "<div class='gpresult'><h2>Messages</h2><div id='messages' data-messages='[\"Start Time: 2024年10月16日 16:29:58\",\"Succeeded at 2024年10月16日 16:30:58 (Elapsed Time: 1 minutes 0 seconds)\"]' data-show='true'><div id = 'default' /></div></div>"
      ],
      "text/plain": [
       "<Result 'D:\\\\lakemapping\\\\9_analysis\\\\analysis.gdb\\\\PLD_SJ_1'>"
      ]
     },
     "execution_count": 31,
     "metadata": {},
     "output_type": "execute_result"
    }
   ],
   "source": [
    "PLD_pi_point=os.path.join(PLD_point_gdb,'total_PLD_pi_point')\n",
    "PLD_SJ=os.path.join(PLD_gdb,'PLD_SJ_1')\n",
    "arcpy.MakeFeatureLayer_management(PLD_pi_point,'PLD_pi_point')\n",
    "fieldmappings = arcpy.FieldMappings()\n",
    "fieldmappings_all = arcpy.FieldMappings()\n",
    "fieldmappings_all.addTable('PLD_pi_point')\n",
    "\n",
    "field_idx = fieldmappings_all.findFieldMapIndex('ref_area')\n",
    "fieldmappings.addFieldMap(fieldmappings_all.getFieldMap(field_idx))\n",
    "\n",
    "area_idx = fieldmappings.findFieldMapIndex(\"ref_area\")\n",
    "area_fieldmap = fieldmappings.getFieldMap(area_idx)\n",
    "area_fieldmap.mergeRule = \"sum\"\n",
    "fieldmappings.replaceFieldMap(area_idx, area_fieldmap)\n",
    "\n",
    "arcpy.SpatialJoin_analysis(grid_lyr,'PLD_pi_point',PLD_SJ,\"JOIN_ONE_TO_ONE\",\"KEEP_ALL\", fieldmappings, \"CONTAINS\")"
   ]
  },
  {
   "cell_type": "code",
   "execution_count": 35,
   "metadata": {},
   "outputs": [
    {
     "data": {
      "text/html": [
       "<div class='gpresult'><h2>Messages</h2><div id='messages' data-messages='[\"Start Time: 2024年10月16日 16:44:56\",\"Succeeded at 2024年10月16日 16:45:42 (Elapsed Time: 45.90 seconds)\"]' data-show='true'><div id = 'default' /></div></div>"
      ],
      "text/plain": [
       "<Result 'D:\\\\lakemapping\\\\9_analysis\\\\analysis.gdb\\\\PLD_SJ_2'>"
      ]
     },
     "execution_count": 35,
     "metadata": {},
     "output_type": "execute_result"
    }
   ],
   "source": [
    "arcpy.MakeFeatureLayer_management(PLD_SJ,'PLD_SJ')\n",
    "PLD_point=os.path.join(PLD_point_gdb,'total_PLD_point')\n",
    "PLD_SJ_2=os.path.join(PLD_gdb,'PLD_SJ_2')\n",
    "arcpy.MakeFeatureLayer_management(PLD_point,'PLD_point')\n",
    "\n",
    "fieldmappings = arcpy.FieldMappings()\n",
    "fieldmappings_all = arcpy.FieldMappings()\n",
    "\n",
    "fieldmappings_all.addTable('PLD_SJ')\n",
    "field_idx = fieldmappings_all.findFieldMapIndex('ref_area')\n",
    "fieldmappings.addFieldMap(fieldmappings_all.getFieldMap(field_idx))\n",
    "\n",
    "fieldmappings_all.addTable('PLD_point')\n",
    "field_idx = fieldmappings_all.findFieldMapIndex('lake_lt3ha')\n",
    "fieldmappings.addFieldMap(fieldmappings_all.getFieldMap(field_idx))\n",
    "\n",
    "\n",
    "field_idx = fieldmappings.findFieldMapIndex(\"lake_lt3ha\")\n",
    "field_fieldmap = fieldmappings.getFieldMap(field_idx)\n",
    "field_fieldmap.mergeRule = \"sum\"\n",
    "fieldmappings.replaceFieldMap(field_idx, field_fieldmap)\n",
    "\n",
    "arcpy.SpatialJoin_analysis('PLD_SJ','PLD_point',PLD_SJ_2,\"JOIN_ONE_TO_ONE\",\"KEEP_ALL\", fieldmappings, \"CONTAINS\")"
   ]
  },
  {
   "cell_type": "code",
   "execution_count": 36,
   "metadata": {},
   "outputs": [
    {
     "data": {
      "text/html": [
       "<div class='gpresult'><h2>Messages</h2><div id='messages' data-messages='[\"Start Time: 2024年10月16日 17:52:11\",\"Succeeded at 2024年10月16日 17:52:12 (Elapsed Time: 0.29 seconds)\"]' data-show='true'><div id = 'default' /></div></div>"
      ],
      "text/plain": [
       "<Result 'PLD_point'>"
      ]
     },
     "execution_count": 36,
     "metadata": {},
     "output_type": "execute_result"
    }
   ],
   "source": [
    "arcpy.MakeFeatureLayer_management(PLD_point,'PLD_point')"
   ]
  },
  {
   "cell_type": "code",
   "execution_count": 5,
   "metadata": {},
   "outputs": [],
   "source": [
    "PLD_data=os.path.join(PLD_gdb,'PLD_eu_29')\n",
    "PLD_data_layer='PLD_eu_29'\n",
    "arcpy.MakeFeatureLayer_management(PLD_data,PLD_data_layer)\n",
    "\n",
    "field_list=['basin_id','ref_area','res_id','sources']\n",
    "fieldmappings = arcpy.FieldMappings()\n",
    "fieldmappings_all = arcpy.FieldMappings()\n",
    "fieldmappings_all.addTable(PLD_data_layer)#未mask\n",
    "for field_i in field_list:\n",
    "    field_idx = fieldmappings_all.findFieldMapIndex(field_i)\n",
    "    fieldmappings.addFieldMap(fieldmappings_all.getFieldMap(field_idx))\n",
    "        \n",
    "for region in ['af','eu','si','as','au','sa','na','ar','gr']:\n",
    "    merge_list=[]\n",
    "    PLD_region=os.path.join(new_PLD_gdb,f'PLD_{region}')\n",
    "    for layer in PLD:\n",
    "        if layer.startswith(f'PLD_{region}') and not layer.endswith('point'):\n",
    "            layer_dir=os.path.join(PLD_gdb,layer)\n",
    "            merge_list.append(layer_dir)\n",
    "    arcpy.Merge_management(merge_list,PLD_region,field_mappings=fieldmappings)\n",
    "\n",
    "# merge_list=[]\n",
    "# PLD_Rser=os.path.join(new_PLD_gdb,f'PLD_Rser')\n",
    "# for region in ['af','eu','si','as','au','sa','na','ar','gr']:\n",
    "#     for layer in PLD:\n",
    "#         if layer.startswith(f'PLD_{region}') and not layer.endswith('point'):\n",
    "#             layer_dir=os.path.join(PLD_gdb,layer)\n",
    "#             merge_list.append(layer_dir)\n",
    "# arcpy.Merge_management(merge_list,PLD_Rser,field_mappings=fieldmappings)"
   ]
  },
  {
   "cell_type": "markdown",
   "metadata": {},
   "source": [
    "## my result"
   ]
  },
  {
   "cell_type": "code",
   "execution_count": null,
   "metadata": {},
   "outputs": [],
   "source": [
    "global_lake_afm_mw_BL_BG_small_point=os.path.join(mwBG_point_gdb,'global_polygon_afm_mwBL_BG_point_small_lake')\n",
    "global_lake_afm_mw_BL_BG_small_point_lyr='global_lake_afm_mw_BL_BG_small_point'\n",
    "arcpy.MakeFeatureLayer_management(global_lake_afm_mw_BL_BG_small_point,global_lake_afm_mw_BL_BG_small_point_lyr)\n",
    "#解决GLAKES 八连通湖泊 不一致的问题\n",
    "fieldmappings = arcpy.FieldMappings()\n",
    "fieldmappings_all = arcpy.FieldMappings()\n",
    "fieldmappings_all.addTable(global_lake_afm_mw_BL_BG_small_point_lyr)\n",
    "\n",
    "# field_idx = fieldmappings_all.findFieldMapIndex('JoinCount')\n",
    "# fieldmappings.addFieldMap(fieldmappings_all.getFieldMap(field_idx))\n",
    "\n",
    "selectByAttribute(global_lake_afm_mw_BL_BG_small_point_lyr,\"NEW_SELECTION\",\"lake_area < 0.01\")\n",
    "print('Conduct spatial join')\n",
    "arcpy.SpatialJoin_analysis(grid_lyr, global_lake_afm_mw_BL_BG_small_point_lyr, b_iwBG_merge_with_BG_SJ_SJ, \"JOIN_ONE_TO_ONE\",\n",
    "                           \"KEEP_ALL\", fieldmappings, \"LARGEST_OVERLAP\")"
   ]
  },
  {
   "cell_type": "code",
   "execution_count": 3,
   "metadata": {},
   "outputs": [
    {
     "data": {
      "text/html": [
       "<div class='gpresult'><h2>Messages</h2><div id='messages' data-messages='[\"Start Time: 2024年10月21日 15:26:26\",\"Succeeded at 2024年10月21日 15:26:26 (Elapsed Time: 0.04 seconds)\"]' data-show='true'><div id = 'default' /></div></div>"
      ],
      "text/plain": [
       "<Result 'oceanline_polygon'>"
      ]
     },
     "execution_count": 3,
     "metadata": {},
     "output_type": "execute_result"
    }
   ],
   "source": [
    "auxiliary_dataset_gdb=r'D:\\postprocess\\v240220\\auxiliary_dataset.gdb'\n",
    "oceanline_polygon=os.path.join(auxiliary_dataset_gdb,'oceanline_polygon')\n",
    "arcpy.MakeFeatureLayer_management(oceanline_polygon,'oceanline_polygon')"
   ]
  },
  {
   "cell_type": "markdown",
   "metadata": {},
   "source": [
    "# 恢复部分连接海洋的湖泊"
   ]
  },
  {
   "cell_type": "code",
   "execution_count": 4,
   "metadata": {
    "scrolled": true
   },
   "outputs": [
    {
     "name": "stdout",
     "output_type": "stream",
     "text": [
      "lakes_northern_america_1_dissolved\n",
      "lakes_northern_america_3_dissolved\n",
      "lakes_northern_america_4_dissolved\n",
      "lakes_southern_america_2_dissolved\n",
      "lakes_europe_1_dissolved\n",
      "lakes_europe_2_dissolved\n",
      "lakes_africa_1_dissolved\n",
      "lakes_africa_3_dissolved\n",
      "lakes_asia_1_dissolved\n",
      "lakes_asia_3_dissolved\n",
      "lakes_asia_4_dissolved\n",
      "lakes_asia_2\n",
      "lakes_asia_7\n",
      "lakes_middle_east\n",
      "lakes_africa_2\n",
      "lakes_northern_america_2\n",
      "lakes_northern_america_5\n",
      "lakes_southern_america_1\n",
      "lakes_island\n",
      "lakes_greenland\n",
      "lakes_Australia\n",
      "lakes_asia_5_dissolved\n",
      "lakes_Japan\n"
     ]
    }
   ],
   "source": [
    "raw_prediction_dir=r'J:\\lakemapping\\postprocess\\v2_240220\\0_raw_prediction.gdb'\n",
    "lake_intersect_ocean=r'J:\\lakemapping\\postprocess\\v13_241021\\supplement_lake.gdb\\lake_intersect_ocean'\n",
    "arcpy.env.workspace = raw_prediction_dir\n",
    "raw_prediction_list = arcpy.ListFeatureClasses()\n",
    "\n",
    "start=time.time()\n",
    "for raw_prediction_fn in raw_prediction_list:#,'lakes_eu','lakes_as_7'\n",
    "    print(raw_prediction_fn)\n",
    "    raw_prediction = os.path.join(raw_prediction_dir,raw_prediction_fn)#version dissolve geometry shp:copy_sldissolve.shp\n",
    "    raw_prediction_layer=raw_prediction_fn\n",
    "    arcpy.MakeFeatureLayer_management(raw_prediction, raw_prediction_layer)\n",
    "    arcpy.SelectLayerByLocation_management(raw_prediction_layer, 'INTERSECT', oceanline_polygon)"
   ]
  },
  {
   "cell_type": "code",
   "execution_count": 5,
   "metadata": {},
   "outputs": [
    {
     "name": "stdout",
     "output_type": "stream",
     "text": [
      "calculate area\n"
     ]
    },
    {
     "data": {
      "text/html": [
       "<div class='gpresult'><h2>Messages</h2><div id='messages' data-messages='[\"Start Time: 2024年10月21日 17:45:01\",\"Succeeded at 2024年10月21日 17:48:51 (Elapsed Time: 3 minutes 49 seconds)\"]' data-show='true'><div id = 'default' /></div></div>"
      ],
      "text/plain": [
       "<Result 'lake_intersect_ocean'>"
      ]
     },
     "execution_count": 5,
     "metadata": {},
     "output_type": "execute_result"
    }
   ],
   "source": [
    "arcpy.Merge_management(raw_prediction_list,lake_intersect_ocean)\n",
    "arcpy.MakeFeatureLayer_management(lake_intersect_ocean,'lake_intersect_ocean')\n",
    "print('calculate area')\n",
    "arcpy.AddField_management('lake_intersect_ocean', 'area', \"Double\")########################\n",
    "arcpy.CalculateField_management('lake_intersect_ocean', \"area\",  \"!shape.geodesicArea@SQUAREKILOMETERS!\", \"PYTHON_9.3\")\n",
    "arcpy.management.SelectLayerByAttribute('lake_intersect_ocean','NEW_SELECTION', '\"area\" < 0.005')\n"
   ]
  },
  {
   "cell_type": "code",
   "execution_count": 7,
   "metadata": {},
   "outputs": [
    {
     "data": {
      "text/html": [
       "<div class='gpresult'><h2>Messages</h2><div id='messages' data-messages='[\"Start Time: 2024年10月21日 17:49:50\",\"Succeeded at 2024年10月21日 18:46:29 (Elapsed Time: 56 minutes 39 seconds)\"]' data-show='true'><div id = 'default' /></div></div>"
      ],
      "text/plain": [
       "<Result 'lake_intersect_ocean'>"
      ]
     },
     "execution_count": 7,
     "metadata": {},
     "output_type": "execute_result"
    }
   ],
   "source": [
    "arcpy.DeleteFeatures_management('lake_intersect_ocean')"
   ]
  },
  {
   "cell_type": "code",
   "execution_count": 47,
   "metadata": {},
   "outputs": [],
   "source": [
    "for region in ['af','eu','si','as','au','sa','na','ar','gr']:\n",
    "    PLD_lyr=f'PLD_{region}'\n",
    "    arcpy.SelectLayerByLocation_management('b_iwBG_merge_with_BG_final', 'INTERSECT', PLD_lyr)\n",
    "    arcpy.CalculateField_management('b_iwBG_merge_with_BG_final','iwPLD',1)"
   ]
  },
  {
   "cell_type": "code",
   "execution_count": null,
   "metadata": {},
   "outputs": [],
   "source": []
  }
 ],
 "metadata": {
  "kernelspec": {
   "display_name": "ArcGISPro",
   "language": "Python",
   "name": "python3"
  },
  "language_info": {
   "file_extension": ".py",
   "name": "python",
   "version": "3"
  }
 },
 "nbformat": 4,
 "nbformat_minor": 2
}
