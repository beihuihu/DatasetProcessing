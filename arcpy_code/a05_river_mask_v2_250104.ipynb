{
 "cells": [
  {
   "cell_type": "code",
   "execution_count": 1,
   "metadata": {},
   "outputs": [],
   "source": [
    "import arcpy\n",
    "from arcpy.sa import *\n",
    "import os\n",
    "import time\n",
    "arcpy.env.overwriteOutput = True"
   ]
  },
  {
   "cell_type": "code",
   "execution_count": 2,
   "metadata": {},
   "outputs": [],
   "source": [
    "# load input features and make layer\n",
    "version='v16_250104'\n",
    "output_dir = os.path.join(r'J:\\lakemapping\\postprocess',version)\n",
    "auxiliary_dataset_gdb=r'J:\\lakemapping\\auxiliary_dataset.gdb'\n",
    "if not os.path.exists(output_dir):\n",
    "    os.makedirs(output_dir)\n",
    "    arcpy.CreateFileGDB_management(output_dir, \"1_temp_files.gdb\")\n",
    "    arcpy.CreateFileGDB_management(output_dir, \"2_polygon_iw_River.gdb\")\n",
    "    arcpy.CreateFileGDB_management(output_dir, \"3_polygon_after_rivermask.gdb\")\n",
    "temp_file_gdb=os.path.join(output_dir,f'1_temp_files.gdb')\n",
    "river_mask_gdb=os.path.join(output_dir,f'2_polygon_iw_River.gdb')\n",
    "after_mask_gdb=os.path.join(output_dir,f'3_polygon_after_rivermask.gdb')"
   ]
  },
  {
   "cell_type": "code",
   "execution_count": 3,
   "metadata": {},
   "outputs": [],
   "source": [
    "GLAKES=r'D:\\lakemapping\\0_auxiliary_data\\GLAKES\\GLAKES.gdb\\GLAKES'\n",
    "GLAKES_new_gdb=r'D:\\lakemapping\\0_auxiliary_data\\GLAKES\\GLAKES_after_30p_land_mask.gdb'\n",
    "GLAKES_niwSHIFT=os.path.join(GLAKES_new_gdb,'au1_GLAKES_niwSHIFT')\n",
    "GLAKES_iwSHIFT_afm_keep_arid=os.path.join(GLAKES_new_gdb,'au2_GLAKES_iwSHIFT_after_mask_gt3ha_keep_arid')\n",
    "\n",
    "GLAKES_lyr='GLAKES'\n",
    "GLAKES_niwSHIFT_lyr='au1_GLAKES_niwSHIFT'\n",
    "GLAKES_iwSHIFT_afm_keep_arid_lyr='au2_GLAKES_iwSHIFT_after_mask_gt3ha_keep_arid'\n",
    "\n",
    "# GLAKES_Res=os.path.join(auxiliary_dataset_gdb,'GLAKES_Res')\n",
    "# arcpy.MakeFeatureLayer_management(GLAKES_Res,'GLAKES_Res')\n",
    "\n",
    "# GRWL_river=os.path.join(auxiliary_dataset_gdb,'GRWL_DNRiver')\n",
    "# arcpy.MakeFeatureLayer_management(GRWL_river,'GRWL_river')\n",
    "\n",
    "# osm_river=os.path.join(auxiliary_dataset_gdb,'osm_natural_water_river')\n",
    "# arcpy.MakeFeatureLayer_management(osm_river,'osm_river')\n",
    "\n",
    "# osm_reservoir=os.path.join(auxiliary_dataset_gdb,'osm_natural_water_reservoir')\n",
    "# arcpy.MakeFeatureLayer_management(osm_reservoir,'osm_reservoir')\n",
    "\n",
    "# GeoDAR=r'D:\\lakemapping\\0_auxiliary_data\\GeoDAR\\GeoDAR_v10_v11\\GeoDAR_v11_reservoirs.shp'\n",
    "# arcpy.MakeFeatureLayer_management(GeoDAR,'GeoDAR')"
   ]
  },
  {
   "cell_type": "code",
   "execution_count": 3,
   "metadata": {},
   "outputs": [],
   "source": [
    "lakes_iwBR=os.path.join(river_mask_gdb,'total_lakes_iwBR')\n",
    "lakes_iwBR_SJ=os.path.join(river_mask_gdb,'total_iwBR_arm_SJ')\n",
    "total_lakes_arm=os.path.join(river_mask_gdb,'total_lakes_arm')\n",
    "lakes_iwBR_afterMask=os.path.join(after_mask_gdb,'lakes_iwBR_afterMask')\n",
    "lakes_iwBR_lyr='lakes_iwBR'\n",
    "total_lakes_arm_lyr='lakes_arm'\n",
    "lakes_iwBR_SJ_lyr='lakes_iwBR_arm_SJ'"
   ]
  },
  {
   "cell_type": "code",
   "execution_count": 4,
   "metadata": {},
   "outputs": [],
   "source": [
    "lake_iwBR_aGm_iwSHIFT=os.path.join(temp_file_gdb,'total_iwBR_aGm_iwSHIFT')\n",
    "lake_iwBR_aGm_iwSHIFT_singlepart=os.path.join(temp_file_gdb,'total_iwBR_aGm_iwSHIFT_singlepart')\n",
    "lake_iwBR_aGm_iwSHIFT_point=os.path.join(temp_file_gdb,'total_iwBR_aGm_iwSHIFT_point')\n",
    "lake_iwBR_aGm_iwSHIFT_singlepart_lyr='lake_iwBR_aGm_iwSHIFT_singlepart'\n",
    "\n",
    "lake_iwBR_aGm_niwSHIFT=os.path.join(temp_file_gdb,'total_iwBR_aGm_niwSHIFT')\n",
    "lake_iwBR_aGm_niwSHIFT_singlepart=os.path.join(temp_file_gdb,'total_iwBR_aGm_niwSHIFT_singlepart')\n",
    "lake_iwBR_aGm_niwSHIFT_point=os.path.join(temp_file_gdb,'total_iwBR_aGm_niwSHIFT_point')\n",
    "lake_iwBR_aGm_niwSHIFT_singlepart_lyr='lake_iwBR_aGm_niwSHIFT_singlepart'\n",
    "\n",
    "lake_iwBR_aGm_point=os.path.join(temp_file_gdb,'total_iwBR_aGm_point')\n",
    "lake_iwBR_aGm_point_lyr='lake_iwBR_aGm_point'"
   ]
  },
  {
   "cell_type": "code",
   "execution_count": null,
   "metadata": {},
   "outputs": [],
   "source": [
    "arcpy.analysis.Clip(lakes_iwBR,GLAKES_iwSHIFT_afm_keep_arid,lake_iwBR_aGm_iwSHIFT)\n",
    "arcpy.management.MultipartToSinglepart(lake_iwBR_aGm_iwSHIFT, lake_iwBR_aGm_iwSHIFT_singlepart)\n",
    "arcpy.MakeFeatureLayer_management(lake_iwBR_aGm_iwSHIFT_singlepart,lake_iwBR_aGm_iwSHIFT_singlepart_lyr)\n",
    "arcpy.AddField_management(lake_iwBR_aGm_iwSHIFT_singlepart_lyr, 'area_aGm', \"Double\")\n",
    "arcpy.CalculateField_management(lake_iwBR_aGm_iwSHIFT_singlepart_lyr, \"area_aGm\",  \"!shape.geodesicArea@SQUAREKILOMETERS!\", \"PYTHON_9.3\")\n",
    "arcpy.management.FeatureToPoint(lake_iwBR_aGm_iwSHIFT_singlepart_lyr,lake_iwBR_aGm_iwSHIFT_point,'INSIDE')\n",
    "\n",
    "arcpy.analysis.Clip(lakes_iwBR,GLAKES_niwSHIFT,lake_iwBR_aGm_niwSHIFT)\n",
    "arcpy.management.MultipartToSinglepart(lake_iwBR_aGm_niwSHIFT, lake_iwBR_aGm_niwSHIFT_singlepart)\n",
    "arcpy.MakeFeatureLayer_management(lake_iwBR_aGm_niwSHIFT_singlepart,lake_iwBR_aGm_niwSHIFT_singlepart_lyr)\n",
    "arcpy.AddField_management(lake_iwBR_aGm_niwSHIFT_singlepart_lyr, 'area_aGm', \"Double\")\n",
    "arcpy.CalculateField_management(lake_iwBR_aGm_niwSHIFT_singlepart_lyr, \"area_aGm\",  \"!shape.geodesicArea@SQUAREKILOMETERS!\", \"PYTHON_9.3\")\n",
    "arcpy.management.FeatureToPoint(lake_iwBR_aGm_niwSHIFT_singlepart_lyr,lake_iwBR_aGm_niwSHIFT_point,'INSIDE')"
   ]
  },
  {
   "cell_type": "code",
   "execution_count": 5,
   "metadata": {},
   "outputs": [
    {
     "data": {
      "text/html": [
       "<div class='gpresult'><h2>Messages</h2><div id='messages' data-messages='[\"Start Time: 2025年1月6日 8:41:43\",\"Succeeded at 2025年1月6日 8:41:43 (Elapsed Time: 0.08 seconds)\"]' data-show='true'><div id = 'default' /></div></div>"
      ],
      "text/plain": [
       "<Result 'si'>"
      ]
     },
     "execution_count": 5,
     "metadata": {},
     "output_type": "execute_result"
    }
   ],
   "source": [
    "seven_continents=['Asia','Africa','Europe','Oceania_Anta','North_America','South_America']\n",
    "continent=r'D:\\lakemapping\\0_auxiliary_data\\World_Continents\\World_Continents.shp'\n",
    "continent_lyr='continent'\n",
    "arcpy.MakeFeatureLayer_management(continent,continent_lyr)\n",
    "\n",
    "ar=os.path.join(auxiliary_dataset_gdb,'ar')\n",
    "arcpy.MakeFeatureLayer_management(ar,'ar')\n",
    "\n",
    "ar=os.path.join(auxiliary_dataset_gdb,'si')\n",
    "arcpy.MakeFeatureLayer_management(ar,'si')"
   ]
  },
  {
   "cell_type": "code",
   "execution_count": null,
   "metadata": {},
   "outputs": [],
   "source": [
    "arcpy.Merge_management([lake_iwBR_aGm_iwSHIFT_point,lake_iwBR_aGm_niwSHIFT_point],lake_iwBR_aGm_point)\n",
    "arcpy.MakeFeatureLayer_management(lake_iwBR_aGm_point,lake_iwBR_aGm_point_lyr)"
   ]
  },
  {
   "cell_type": "code",
   "execution_count": 10,
   "metadata": {},
   "outputs": [],
   "source": [
    "def selectByLocation(inputFeature,overlapType,selectionFeature,selectionType='NEW_SELECTION'):\n",
    "    arcpy.SelectLayerByLocation_management(inputFeature,overlapType,selectionFeature,selection_type=selectionType)\n",
    "    \n",
    "def selectByAttribute(inputFeature,code='',selectionType='NEW_SELECTION'):\n",
    "    arcpy.management.SelectLayerByAttribute(inputFeature,selectionType,code)\n",
    "    \n",
    "def calculateField(inputFeature,field,code):\n",
    "    arcpy.CalculateField_management(inputFeature, field,code)\n",
    "\n",
    "def cal_continent(lyr):\n",
    "    arcpy.AddField_management(lyr, 'Continent', \"Text\")\n",
    "#     for i in range(0,6):\n",
    "#         continent=seven_continents[i]\n",
    "#         selectByAttribute(continent_lyr,f\"Continent = '{continent}'\")\n",
    "#         selectByAttribute(lyr,\"Continent IS NULL\")\n",
    "#         selectByLocation(lyr,'HAVE_THEIR_CENTER_IN',continent_lyr,'SUBSET_SELECTION')\n",
    "#         calculateField(lyr,'Continent',f\"'{continent}'\")\n",
    "    selectByAttribute(lyr,\"Continent = 'Asia'\")\n",
    "    selectByLocation(lyr,'HAVE_THEIR_CENTER_IN','si','SUBSET_SELECTION')\n",
    "    arcpy.CalculateField_management(lyr, \"continent\",\"'Siberia'\")\n",
    "    selectByLocation(lyr,'HAVE_THEIR_CENTER_IN','ar','NEW_SELECTION')\n",
    "    arcpy.CalculateField_management(lyr, \"Continent\",\"'Arctic'\")"
   ]
  },
  {
   "cell_type": "code",
   "execution_count": 19,
   "metadata": {},
   "outputs": [],
   "source": [
    "# arcpy.MakeFeatureLayer_management(lake_iwBR,lakes_iwBR_lyr)\n",
    "# arcpy.MakeFeatureLayer_management(lakes_iwBR_SJ,lakes_iwBR_SJ_lyr)\n",
    "# arcpy.AddField_management(lakes_iwBR_SJ_lyr, 'operate', \"Double\")\n",
    "#对与GLAKES、OSM、GeoDAR水库相交的polygon\n",
    "# selectByAttribute(lakes_iwBR_SJ_lyr,'\"flag\" >=2 OR \"area_ratio\" >= 1')\n",
    "# calculateField(lakes_iwBR_SJ_lyr,'operate',1)\n",
    "# selectByAttribute(lakes_iwBR_SJ_lyr,'\"flag\" > 0 AND \"area_ratio\" >= 0.8 AND operate IS NULL')\n",
    "# calculateField(lakes_iwBR_SJ_lyr,'operate',1)\n",
    "# selectByAttribute(lakes_iwBR_SJ_lyr,'\"area_ratio\" =0')\n",
    "# calculateField(lakes_iwBR_SJ_lyr,'operate',0)\n",
    "selectByAttribute(lakes_iwBR_SJ_lyr,'\"flag\" = 0 AND \"area_ratio\" <=0.8 and operate IS NULL')\n",
    "calculateField(lakes_iwBR_SJ_lyr,'operate',0)\n",
    "selectByAttribute(lakes_iwBR_SJ_lyr,'operate IS NULL')\n",
    "calculateField(lakes_iwBR_SJ_lyr,'operate',0.5)"
   ]
  },
  {
   "cell_type": "code",
   "execution_count": 11,
   "metadata": {},
   "outputs": [],
   "source": [
    "cal_continent(lakes_iwBR_SJ_lyr)"
   ]
  },
  {
   "cell_type": "code",
   "execution_count": null,
   "metadata": {},
   "outputs": [],
   "source": []
  }
 ],
 "metadata": {
  "kernelspec": {
   "display_name": "ArcGISPro",
   "language": "Python",
   "name": "python3"
  },
  "language_info": {
   "file_extension": ".py",
   "name": "python",
   "version": "3"
  }
 },
 "nbformat": 4,
 "nbformat_minor": 2
}
